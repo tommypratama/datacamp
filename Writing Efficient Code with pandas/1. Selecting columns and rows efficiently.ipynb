{
 "cells": [
  {
   "cell_type": "markdown",
   "metadata": {},
   "source": [
    "# Selecting columns and rows efficiently\n",
    "\n",
    "Bab ini akan memberi Anda gambaran tentang mengapa kode efisien penting, serta memilih baris, kolom tertentu dan acak secara efisien."
   ]
  },
  {
   "cell_type": "markdown",
   "metadata": {},
   "source": [
    "## The need for eficient coding"
   ]
  },
  {
   "cell_type": "markdown",
   "metadata": {},
   "source": [
    "### How do we measure time?\n",
    "\n",
    "Fungsi `time.time()` menunjukkan waktu (dalam detik) sejak waktu yang ditentukan sebelumnya, yang dalam sistem berbasis Unix adalah 12:00 pagi, 1 Januari 1970."
   ]
  },
  {
   "cell_type": "code",
   "execution_count": 1,
   "metadata": {},
   "outputs": [
    {
     "name": "stdout",
     "output_type": "stream",
     "text": [
      "Result calculated in 4.9114227294921875e-05 sec\n"
     ]
    }
   ],
   "source": [
    "import time\n",
    "\n",
    "# record time before execution\n",
    "start_time = time.time()\n",
    "# execute operation\n",
    "result = 5 + 2\n",
    "# record time after execution\n",
    "end_time = time.time()\n",
    "print(\"Result calculated in {} sec\".format(end_time - start_time))"
   ]
  },
  {
   "cell_type": "markdown",
   "metadata": {},
   "source": [
    "### For loop vs List comprehension"
   ]
  },
  {
   "cell_type": "code",
   "execution_count": 5,
   "metadata": {},
   "outputs": [
    {
     "name": "stdout",
     "output_type": "stream",
     "text": [
      "Time using the list_comprehension: 0.11320018768310547 sec\n"
     ]
    }
   ],
   "source": [
    "# List comprehension\n",
    "list_comp_start_time = time.time()\n",
    "result = [i*i for i in range(0, 1000000)]\n",
    "list_comp_end_time = time.time()\n",
    "print(\"Time using the list_comprehension: {} sec\".format(list_comp_end_time -\n",
    "list_comp_start_time))"
   ]
  },
  {
   "cell_type": "code",
   "execution_count": 8,
   "metadata": {},
   "outputs": [
    {
     "name": "stdout",
     "output_type": "stream",
     "text": [
      "Time using the for loop: 0.21865391731262207 sec\n"
     ]
    }
   ],
   "source": [
    "# For loop\n",
    "for_loop_start_time= time.time()\n",
    "result = []\n",
    "for i in range(0,1000000):\n",
    "    result.append(i*i)\n",
    "    \n",
    "for_loop_end_time= time.time()\n",
    "print(\"Time using the for loop: {} sec\".format(for_loop_end_time - for_loop_start_time))"
   ]
  },
  {
   "cell_type": "markdown",
   "metadata": {},
   "source": [
    "### For loop vs List comprehension II"
   ]
  },
  {
   "cell_type": "code",
   "execution_count": 9,
   "metadata": {},
   "outputs": [
    {
     "name": "stdout",
     "output_type": "stream",
     "text": [
      "Difference in time: 93.15685052106589 %\n"
     ]
    }
   ],
   "source": [
    "list_comp_time = list_comp_end_time - list_comp_start_time\n",
    "for_loop_time = for_loop_end_time - for_loop_start_time\n",
    "print(\"Difference in time: {} %\".format((for_loop_time - list_comp_time) / list_comp_time*100))"
   ]
  },
  {
   "cell_type": "markdown",
   "metadata": {},
   "source": [
    "### Where time matters I\n",
    "\n",
    "Calculate 1 + 2 + ... + 1000000.\n",
    "\n",
    "* Menambahkan angka satu per satu:"
   ]
  },
  {
   "cell_type": "code",
   "execution_count": 10,
   "metadata": {},
   "outputs": [],
   "source": [
    "def sum_brute_force(N):\n",
    "    res = 0\n",
    "    for i in range(1,N+1):\n",
    "        res+=i\n",
    "    return res"
   ]
  },
  {
   "cell_type": "markdown",
   "metadata": {},
   "source": [
    "* Menggunakan 1 + 2 + ... + (N * (N + 1) / 2)"
   ]
  },
  {
   "cell_type": "code",
   "execution_count": 11,
   "metadata": {},
   "outputs": [],
   "source": [
    "def sum_formula(N):\n",
    "    return N * (N + 1) / 2"
   ]
  },
  {
   "cell_type": "markdown",
   "metadata": {},
   "source": [
    "### Where time matters II"
   ]
  },
  {
   "cell_type": "code",
   "execution_count": 13,
   "metadata": {},
   "outputs": [
    {
     "name": "stdout",
     "output_type": "stream",
     "text": [
      "Time using the formula: 5.984306335449219e-05sec\n"
     ]
    }
   ],
   "source": [
    "# Using the formula\n",
    "formula_start_time = time.time()\n",
    "formula_result = sum_formula(1000000)\n",
    "formula_end_time = time.time()\n",
    "print(\"Time using the formula: {}sec\".format(formula_end_time - formula_start_time))"
   ]
  },
  {
   "cell_type": "code",
   "execution_count": 14,
   "metadata": {},
   "outputs": [
    {
     "name": "stdout",
     "output_type": "stream",
     "text": [
      "Time using brute force: 730.5696580410004sec\n"
     ]
    }
   ],
   "source": [
    "# Using brute force\n",
    "bf_start_time = time.time()\n",
    "bf_result = sum_brute_force(1000000)\n",
    "bf_end_time = time.time()\n",
    "print(\"Time using brute force: {}sec\".format(bf_end_time - start_time))"
   ]
  },
  {
   "cell_type": "code",
   "execution_count": 15,
   "metadata": {},
   "outputs": [
    {
     "name": "stdout",
     "output_type": "stream",
     "text": [
      "Difference in time: 123255.37848605576 %\n"
     ]
    }
   ],
   "source": [
    "formula_time = formula_end_time - formula_start_time\n",
    "brute_force_time = bf_end_time - bf_start_time\n",
    "print(\"Difference in time: {} %\".format((brute_force_time - formula_time) / formula_time * 100))"
   ]
  },
  {
   "cell_type": "markdown",
   "metadata": {},
   "source": [
    "### Practice: Measuring time I\n",
    "\n",
    "Dalam slide, Anda melihat bagaimana fungsi `time.time()` dapat dimuat dan digunakan untuk menilai waktu yang diperlukan untuk melakukan operasi matematika dasar.\n",
    "\n",
    "Sekarang, Anda akan menggunakan strategi yang sama untuk menilai dua metode yang berbeda untuk menyelesaikan masalah yang sama: menghitung jumlah kuadrat dari semua bilangan bulat positif dari 1 hingga 1 juta (1.000.000).\n",
    "\n",
    "Mirip dengan apa yang Anda lihat di slide, Anda akan membandingkan dua metode; yang menggunakan kekuatan kasar (*brute force*) dan yang lebih canggih secara matematis (*formula*).\n",
    "\n",
    "Dalam rumus fungsi (`formula`), kami menggunakan rumus standar:\n",
    "\n",
    "* `N ∗ (N + 1) * (2N + 1) / 6`\n",
    "\n",
    "where `N` = 1,000,000\n",
    "\n",
    "Dalam fungsi `brute_force` kita mengulang setiap angka dari 1 hingga 1 juta dan menambahkannya ke hasilnya."
   ]
  },
  {
   "cell_type": "code",
   "execution_count": 16,
   "metadata": {},
   "outputs": [],
   "source": [
    "# Function formula\n",
    "def formula(N):\n",
    "    return N * (N + 1) * (2 * N + 1) / 6"
   ]
  },
  {
   "cell_type": "code",
   "execution_count": 18,
   "metadata": {},
   "outputs": [],
   "source": [
    "# Function brute force\n",
    "def brute_force(N):\n",
    "    res = 0\n",
    "    UL = N+1\n",
    "    for i in range(1,UL):\n",
    "        res+=i^2\n",
    "    return res"
   ]
  },
  {
   "cell_type": "code",
   "execution_count": 19,
   "metadata": {},
   "outputs": [
    {
     "name": "stdout",
     "output_type": "stream",
     "text": [
      "Time using formula: 6.389617919921875e-05 sec\n",
      "Time using the brute force: 0.10359954833984375 sec\n"
     ]
    }
   ],
   "source": [
    "# Calculate the result of the problem using formula() and print the time required\n",
    "N = 1000000\n",
    "fm_start_time = time.time()\n",
    "first_method = formula(N)\n",
    "print(\"Time using formula: {} sec\".format(time.time() - fm_start_time))\n",
    "\n",
    "# Calculate the result of the problem using brute_force() and print the time required\n",
    "sm_start_time = time.time()\n",
    "second_method = brute_force(N)\n",
    "print(\"Time using the brute force: {} sec\".format(time.time() - sm_start_time))"
   ]
  },
  {
   "cell_type": "markdown",
   "metadata": {},
   "source": [
    "**Catatan** : Anda baru saja menemukan betapa pentingnya kecepatan ketika mengembangkan masalah yang bahkan sederhana, mengurangi waktu yang dibutuhkan untuk menyelesaikan operasi!"
   ]
  },
  {
   "cell_type": "markdown",
   "metadata": {},
   "source": [
    "### Measuring time II\n",
    "\n",
    "**Dalam sebagian besar kasus**, `list comprehension` lebih cepat daripada `for` loop.\n",
    "\n",
    "Dalam demonstrasi ini, Anda akan melihat kasus di mana `list comprehension` dan `for` loop memiliki perbedaan efisiensi yang sangat kecil sehingga memilih metode mana pun akan melakukan tugas sederhana ini secara instan.\n",
    "\n",
    "Dalam list `words`, ada kata-kata acak yang diunduh dari Internet. Kami tertarik untuk membuat list lain yang disebut `listlet` di mana kami hanya menyimpan kata-kata yang dimulai dengan huruf `b`.\n",
    "\n",
    "Jika Anda tidak terbiasa berurusan dengan string dengan Python, setiap string memiliki atribut `.startswith()`, yang mengembalikan pernyataan True/False apakah string dimulai dengan huruf/frasa tertentu atau tidak."
   ]
  },
  {
   "cell_type": "code",
   "execution_count": 34,
   "metadata": {},
   "outputs": [],
   "source": [
    "import pandas as pd\n",
    "\n",
    "df = pd.read_csv(\"datasets/Popular_Baby_Names.csv\")"
   ]
  },
  {
   "cell_type": "code",
   "execution_count": 69,
   "metadata": {},
   "outputs": [],
   "source": [
    "df[\"Child's First Name\"] = df[\"Child's First Name\"].str.lower()"
   ]
  },
  {
   "cell_type": "code",
   "execution_count": 70,
   "metadata": {},
   "outputs": [],
   "source": [
    "words = df[\"Child's First Name\"].tolist()"
   ]
  },
  {
   "cell_type": "code",
   "execution_count": 71,
   "metadata": {},
   "outputs": [
    {
     "name": "stdout",
     "output_type": "stream",
     "text": [
      "Time using list comprehension: 0.0019664764404296875 sec\n",
      "Time using for loop: 0.0027475357055664062 sec\n"
     ]
    }
   ],
   "source": [
    "# Store the time before the execution\n",
    "start_time = time.time()\n",
    "\n",
    "# Execute the operation\n",
    "letlist = [wrd for wrd in words if wrd.startswith('b')]\n",
    "\n",
    "# Store and print the difference between the start and the current time\n",
    "total_time_lc = time.time() - start_time\n",
    "print('Time using list comprehension: {} sec'.format(total_time_lc))\n",
    "\n",
    "# Store the time before the execution\n",
    "start_time = time.time()\n",
    "\n",
    "# Execute the operation\n",
    "letlist = []\n",
    "for wrd in words:\n",
    "    if wrd.startswith('b'):\n",
    "        letlist.append(wrd)\n",
    "        \n",
    "# Print the difference between the start and the current time\n",
    "total_time_fl = time.time() - start_time\n",
    "print('Time using for loop: {} sec'.format(total_time_fl))"
   ]
  },
  {
   "cell_type": "markdown",
   "metadata": {},
   "source": [
    "## Locate rows: `.iloc[]` and `.loc[]`"
   ]
  },
  {
   "cell_type": "markdown",
   "metadata": {},
   "source": [
    "### The poker dataset"
   ]
  },
  {
   "cell_type": "code",
   "execution_count": 74,
   "metadata": {},
   "outputs": [
    {
     "data": {
      "text/html": [
       "<div>\n",
       "<style scoped>\n",
       "    .dataframe tbody tr th:only-of-type {\n",
       "        vertical-align: middle;\n",
       "    }\n",
       "\n",
       "    .dataframe tbody tr th {\n",
       "        vertical-align: top;\n",
       "    }\n",
       "\n",
       "    .dataframe thead th {\n",
       "        text-align: right;\n",
       "    }\n",
       "</style>\n",
       "<table border=\"1\" class=\"dataframe\">\n",
       "  <thead>\n",
       "    <tr style=\"text-align: right;\">\n",
       "      <th></th>\n",
       "      <th>S1</th>\n",
       "      <th>R1</th>\n",
       "      <th>S2</th>\n",
       "      <th>R2</th>\n",
       "      <th>S3</th>\n",
       "      <th>R3</th>\n",
       "      <th>S4</th>\n",
       "      <th>R4</th>\n",
       "      <th>S5</th>\n",
       "      <th>R5</th>\n",
       "      <th>Class</th>\n",
       "    </tr>\n",
       "  </thead>\n",
       "  <tbody>\n",
       "    <tr>\n",
       "      <th>0</th>\n",
       "      <td>1</td>\n",
       "      <td>10</td>\n",
       "      <td>1</td>\n",
       "      <td>11</td>\n",
       "      <td>1</td>\n",
       "      <td>13</td>\n",
       "      <td>1</td>\n",
       "      <td>12</td>\n",
       "      <td>1</td>\n",
       "      <td>1</td>\n",
       "      <td>9</td>\n",
       "    </tr>\n",
       "    <tr>\n",
       "      <th>1</th>\n",
       "      <td>2</td>\n",
       "      <td>11</td>\n",
       "      <td>2</td>\n",
       "      <td>13</td>\n",
       "      <td>2</td>\n",
       "      <td>10</td>\n",
       "      <td>2</td>\n",
       "      <td>12</td>\n",
       "      <td>2</td>\n",
       "      <td>1</td>\n",
       "      <td>9</td>\n",
       "    </tr>\n",
       "    <tr>\n",
       "      <th>2</th>\n",
       "      <td>3</td>\n",
       "      <td>12</td>\n",
       "      <td>3</td>\n",
       "      <td>11</td>\n",
       "      <td>3</td>\n",
       "      <td>13</td>\n",
       "      <td>3</td>\n",
       "      <td>10</td>\n",
       "      <td>3</td>\n",
       "      <td>1</td>\n",
       "      <td>9</td>\n",
       "    </tr>\n",
       "    <tr>\n",
       "      <th>3</th>\n",
       "      <td>4</td>\n",
       "      <td>10</td>\n",
       "      <td>4</td>\n",
       "      <td>11</td>\n",
       "      <td>4</td>\n",
       "      <td>1</td>\n",
       "      <td>4</td>\n",
       "      <td>13</td>\n",
       "      <td>4</td>\n",
       "      <td>12</td>\n",
       "      <td>9</td>\n",
       "    </tr>\n",
       "    <tr>\n",
       "      <th>4</th>\n",
       "      <td>4</td>\n",
       "      <td>1</td>\n",
       "      <td>4</td>\n",
       "      <td>13</td>\n",
       "      <td>4</td>\n",
       "      <td>12</td>\n",
       "      <td>4</td>\n",
       "      <td>11</td>\n",
       "      <td>4</td>\n",
       "      <td>10</td>\n",
       "      <td>9</td>\n",
       "    </tr>\n",
       "  </tbody>\n",
       "</table>\n",
       "</div>"
      ],
      "text/plain": [
       "   S1  R1  S2  R2  S3  R3  S4  R4  S5  R5  Class\n",
       "0   1  10   1  11   1  13   1  12   1   1      9\n",
       "1   2  11   2  13   2  10   2  12   2   1      9\n",
       "2   3  12   3  11   3  13   3  10   3   1      9\n",
       "3   4  10   4  11   4   1   4  13   4  12      9\n",
       "4   4   1   4  13   4  12   4  11   4  10      9"
      ]
     },
     "execution_count": 74,
     "metadata": {},
     "output_type": "execute_result"
    }
   ],
   "source": [
    "poker = pd.read_csv(\"datasets/poker_hand.csv\")\n",
    "poker.head()"
   ]
  },
  {
   "cell_type": "markdown",
   "metadata": {},
   "source": [
    "### Locate targeted rows\n",
    "\n",
    "`.loc[]` — index name locator"
   ]
  },
  {
   "cell_type": "code",
   "execution_count": 76,
   "metadata": {},
   "outputs": [
    {
     "name": "stdout",
     "output_type": "stream",
     "text": [
      "Time using .loc[] : 0.003938198089599609 sec\n"
     ]
    }
   ],
   "source": [
    "# Specify the range of rows to select\n",
    "rows = range(0, 500)\n",
    "# Time selecting rows using .loc[]\n",
    "loc_start_time = time.time()\n",
    "poker.loc[rows]\n",
    "loc_end_time = time.time()\n",
    "\n",
    "print(\"Time using .loc[] : {} sec\".format(loc_end_time - loc_start_time))"
   ]
  },
  {
   "cell_type": "markdown",
   "metadata": {},
   "source": [
    "`.iloc[]` — index number locator"
   ]
  },
  {
   "cell_type": "code",
   "execution_count": 78,
   "metadata": {},
   "outputs": [
    {
     "name": "stdout",
     "output_type": "stream",
     "text": [
      "Time using .iloc[]: 0.001444101333618164 sec\n"
     ]
    }
   ],
   "source": [
    "# Specify the range of rows to select\n",
    "rows = range(0, 500)\n",
    "# Time selecting rows using .iloc[]\n",
    "iloc_start_time = time.time()\n",
    "poker.iloc[rows]\n",
    "iloc_end_time = time.time()\n",
    "\n",
    "print(\"Time using .iloc[]: {} sec\".format(iloc_end_time - iloc_start_time))"
   ]
  },
  {
   "cell_type": "code",
   "execution_count": 81,
   "metadata": {},
   "outputs": [
    {
     "name": "stdout",
     "output_type": "stream",
     "text": [
      "Difference in speed: 172.70926201089648 %\n"
     ]
    }
   ],
   "source": [
    "loc_time = loc_end_time - loc_start_time\n",
    "iloc_time = iloc_end_time - iloc_start_time\n",
    "print(\"Difference in speed: {} %\".format((loc_time - iloc_time) / iloc_time * 100))"
   ]
  },
  {
   "cell_type": "markdown",
   "metadata": {},
   "source": [
    "### Locate targeted columns\n",
    "\n",
    "`.iloc[]` — index number locator"
   ]
  },
  {
   "cell_type": "code",
   "execution_count": 83,
   "metadata": {},
   "outputs": [
    {
     "name": "stdout",
     "output_type": "stream",
     "text": [
      "Time using .iloc[]: 0.0014255046844482422 sec\n"
     ]
    }
   ],
   "source": [
    "iloc_start_time = time.time()\n",
    "poker.iloc[:,:3]\n",
    "iloc_end_time = time.time()\n",
    "iloc_time = iloc_end_time - iloc_start_time\n",
    "\n",
    "print(\"Time using .iloc[]: {} sec\".format(iloc_time))"
   ]
  },
  {
   "cell_type": "markdown",
   "metadata": {},
   "source": [
    "Locating columns by names"
   ]
  },
  {
   "cell_type": "code",
   "execution_count": 84,
   "metadata": {},
   "outputs": [
    {
     "name": "stdout",
     "output_type": "stream",
     "text": [
      "Time using selection by name: 0.0029189586639404297 sec\n"
     ]
    }
   ],
   "source": [
    "names_start_time = time.time()\n",
    "poker[['S1', 'R1', 'S2']]\n",
    "names_end_time = time.time()\n",
    "names_time = names_end_time - names_start_time\n",
    "\n",
    "print(\"Time using selection by name: {} sec\".format(names_time))"
   ]
  },
  {
   "cell_type": "code",
   "execution_count": 86,
   "metadata": {},
   "outputs": [],
   "source": [
    "# Function different time\n",
    "def diff_time(a, b):\n",
    "    if a > b:\n",
    "        print(\"Difference in speed: {} %\".format((a - b) / b * 100))\n",
    "    if b > a:\n",
    "        print(\"Difference in speed: {} %\".format((b - a) / a * 100))"
   ]
  },
  {
   "cell_type": "code",
   "execution_count": 89,
   "metadata": {},
   "outputs": [
    {
     "name": "stdout",
     "output_type": "stream",
     "text": [
      "Difference in speed: 104.76668339187154 %\n"
     ]
    }
   ],
   "source": [
    "diff_time(names_time, iloc_time)"
   ]
  },
  {
   "cell_type": "markdown",
   "metadata": {},
   "source": [
    "### Practice: Row selection: `loc[]` vs `iloc[]`\n",
    "\n",
    "Sebagian besar bekerja dengan DataFrames adalah untuk menemukan entri spesifik dalam dataset. Anda dapat menemukan baris dengan dua cara:\n",
    "\n",
    "* Dengan nilai kolom tertentu (feature).\n",
    "* Dengan index baris (index). Dalam latihan ini, kita akan fokus pada cara kedua.\n",
    "\n",
    "Jika Anda memiliki pengalaman sebelumnya dengan pandas, Anda harus terbiasa dengan pengindeksan `.loc` dan `.iloc`, yang merupakan singkatan dari **'location'** dan **'index location'**. Dalam kebanyakan kasus, index akan sama dengan posisi setiap baris dalam Dataframe (mis. Baris dengan indeks 13 akan menjadi entri ke-14).\n",
    "\n",
    "Meskipun kami dapat menggunakan kedua fungsi untuk melakukan tugas yang sama, kami tertarik yang mana yang paling efisien dalam hal kecepatan."
   ]
  },
  {
   "cell_type": "code",
   "execution_count": 90,
   "metadata": {},
   "outputs": [
    {
     "name": "stdout",
     "output_type": "stream",
     "text": [
      "Time using .loc[]: 0.0021758079528808594 sec\n",
      "Time using .iloc[]: 0.0009708404541015625 sec\n"
     ]
    }
   ],
   "source": [
    "# Define the range of rows to select: row_nums\n",
    "row_nums = range(0, 1000)\n",
    "\n",
    "# Select the rows using .loc[] and row_nums and record the time before and after\n",
    "loc_start_time = time.time()\n",
    "rows = poker.loc[row_nums]\n",
    "loc_end_time = time.time()\n",
    "\n",
    "# Print the time it took to select the rows using .loc\n",
    "print(\"Time using .loc[]: {} sec\".format(loc_end_time - loc_start_time))\n",
    "\n",
    "# Select the rows using .iloc[] and row_nums and record the time before and after\n",
    "iloc_start_time = time.time()\n",
    "rows = poker.iloc[row_nums]\n",
    "iloc_end_time = time.time()\n",
    "\n",
    "# Print the time it took to select the rows using .iloc\n",
    "print(\"Time using .iloc[]: {} sec\".format(iloc_end_time - iloc_start_time))"
   ]
  },
  {
   "cell_type": "markdown",
   "metadata": {},
   "source": [
    "**Question**\n",
    "\n",
    "Jika Anda perlu memilih baris tertentu dari DataFrame, fungsi mana yang lebih efisien, apakah itu syarat kecepatan?\n",
    "\n",
    "* `.iloc`, Ada penjelasan untuk itu, `.iloc()` mengambil keuntungan dari posisi yang diurutkan dari setiap baris, menyederhanakan perhitungan yang dibutuhkan."
   ]
  },
  {
   "cell_type": "markdown",
   "metadata": {},
   "source": [
    "### Column selection: `.iloc[]` vs by name\n",
    "\n",
    "Dalam latihan sebelumnya, Anda melihat bagaimana fungsi `.loc[]` dan `.iloc[]` dapat digunakan untuk menemukan baris tertentu dari DataFrame (berdasarkan index). Ternyata, fungsi `.iloc[]` melakukan jauh lebih cepat (~2 kali) untuk tugas ini!\n",
    "\n",
    "Tugas penting lainnya adalah menemukan fungsi yang lebih cepat untuk memilih fitur yang ditargetkan (`columns`) dari DataFrame. Dalam latihan ini, kami akan membandingkan yang berikut:\n",
    "\n",
    "* Menggunakan index locator `.iloc()`\n",
    "* Menggunakan nama kolom Meskipun kami dapat menggunakan kedua fungsi untuk melakukan tugas yang sama, kami tertarik yang mana yang paling efisien dalam hal kecepatan."
   ]
  },
  {
   "cell_type": "code",
   "execution_count": 92,
   "metadata": {},
   "outputs": [
    {
     "name": "stdout",
     "output_type": "stream",
     "text": [
      "Time using .iloc[] : 0.0012907981872558594 sec\n",
      "Time using selection by name : 0.002351999282836914 sec\n"
     ]
    }
   ],
   "source": [
    "# Use .iloc to select the first 6 columns and record the times before and after\n",
    "iloc_start_time = time.time()\n",
    "cols = poker.iloc[:,0:6]\n",
    "iloc_end_time = time.time()\n",
    "\n",
    "# Print the time it took\n",
    "print(\"Time using .iloc[] : {} sec\".format(iloc_end_time - iloc_start_time))\n",
    "\n",
    "# Use simple column selection to select the first 6 columns \n",
    "names_start_time = time.time()\n",
    "cols = poker[['S1', 'R1', 'S2', 'R2', 'S3', 'R3']]\n",
    "names_end_time = time.time()\n",
    "\n",
    "# Print the time it took\n",
    "print(\"Time using selection by name : {} sec\".format(names_end_time - names_start_time))"
   ]
  },
  {
   "cell_type": "markdown",
   "metadata": {},
   "source": [
    "**Catatan** : Ada penjelasan untuk itu: dengan `.iloc` kita perlu menentukan baris dan kolom yang diperlukan, dan ini membutuhkan lebih banyak waktu! **Jadi memilih kolom berdasarkan lama lebih efisien dari pada index.**"
   ]
  },
  {
   "cell_type": "markdown",
   "metadata": {},
   "source": [
    "## Select random rows"
   ]
  },
  {
   "cell_type": "markdown",
   "metadata": {},
   "source": [
    "### Sampling random rows using pandas"
   ]
  },
  {
   "cell_type": "code",
   "execution_count": 93,
   "metadata": {},
   "outputs": [
    {
     "name": "stdout",
     "output_type": "stream",
     "text": [
      "Time using sample: 0.0036711692810058594 sec\n"
     ]
    }
   ],
   "source": [
    "start_time = time.time()\n",
    "poker.sample(100, axis=0)\n",
    "print(\"Time using sample: {} sec\".format(time.time() - start_time))"
   ]
  },
  {
   "cell_type": "markdown",
   "metadata": {},
   "source": [
    "### Sampling random rows using numpy"
   ]
  },
  {
   "cell_type": "code",
   "execution_count": 95,
   "metadata": {},
   "outputs": [],
   "source": [
    "import numpy as np"
   ]
  },
  {
   "cell_type": "code",
   "execution_count": 96,
   "metadata": {},
   "outputs": [
    {
     "name": "stdout",
     "output_type": "stream",
     "text": [
      "Time using .iloc[]: 0.004773855209350586 sec\n"
     ]
    }
   ],
   "source": [
    "start_time = time.time()\n",
    "poker.iloc[np.random.randint(low=0, high=poker.shape[0], size=100)]\n",
    "print(\"Time using .iloc[]: {} sec\".format(time.time() - start_time))"
   ]
  },
  {
   "cell_type": "markdown",
   "metadata": {},
   "source": [
    "### Sampling random columns"
   ]
  },
  {
   "cell_type": "code",
   "execution_count": 97,
   "metadata": {},
   "outputs": [
    {
     "name": "stdout",
     "output_type": "stream",
     "text": [
      "Time using .sample(): 0.002283334732055664 sec\n"
     ]
    }
   ],
   "source": [
    "start_time = time.time()\n",
    "poker.sample(3, axis=1)\n",
    "print(\"Time using .sample(): {} sec\".format(time.time() - start_time))"
   ]
  },
  {
   "cell_type": "code",
   "execution_count": 98,
   "metadata": {},
   "outputs": [
    {
     "name": "stdout",
     "output_type": "stream",
     "text": [
      "Time using .iloc[]: 0.0017936229705810547 sec\n"
     ]
    }
   ],
   "source": [
    "N = poker.shape[1]\n",
    "start_time = time.time()\n",
    "poker.iloc[:,np.random.randint(low=0, high=N, size=3)]\n",
    "print(\"Time using .iloc[]: {} sec\".format(time.time() - start_time))"
   ]
  },
  {
   "cell_type": "markdown",
   "metadata": {},
   "source": [
    "### Practice: Random row selection\n",
    "\n",
    "Dalam latihan ini, Anda akan membandingkan dua metode untuk memilih baris acak (entri) dengan pandas DataFrame:\n",
    "\n",
    "* Fungsi pandas bawaan `.sample()`\n",
    "* Generator angka integer acak NumPy `np.random.randint()`\n",
    "\n",
    "Secara umum, di bidang statistik dan pembelajaran mesin, ketika kita perlu melatih suatu algoritma, kita melatih algoritma pada 75% dari data yang tersedia dan kemudian menguji kinerja pada 25% data yang tersisa.\n",
    "\n",
    "Untuk latihan ini, kami akan secara acak memilih sampel 75% persen dari semua permainan poker yang tersedia, menggunakan masing-masing metode di atas, dan memeriksa metode mana yang lebih efisien dalam hal kecepatan."
   ]
  },
  {
   "cell_type": "code",
   "execution_count": 102,
   "metadata": {},
   "outputs": [
    {
     "name": "stdout",
     "output_type": "stream",
     "text": [
      "Time using Numpy: 0.006788730621337891 sec\n",
      "Time using .sample: 0.0021860599517822266 sec\n"
     ]
    }
   ],
   "source": [
    "# Extract number of rows in dataset\n",
    "N = poker.shape[0]\n",
    "\n",
    "# Select and time the selection of the 75% of the dataset's rows\n",
    "rand_start_time = time.time()\n",
    "poker.iloc[np.random.randint(low=0, high=N, size=int(0.75 * N))]\n",
    "print(\"Time using Numpy: {} sec\".format(time.time() - rand_start_time))\n",
    "\n",
    "# Select and time the selection of the 75% of the dataset's rows using sample()\n",
    "samp_start_time = time.time()\n",
    "poker.sample(int(0.75 * N), axis=0, replace = True)\n",
    "print(\"Time using .sample: {} sec\".format(time.time() - samp_start_time))"
   ]
  },
  {
   "cell_type": "markdown",
   "metadata": {},
   "source": [
    "**Catatan** : Anda menemukan cara paling efisien untuk sampel baris acak dari pandas DataFrame, dan itu selalu merupakan fungsi bawaan."
   ]
  },
  {
   "cell_type": "markdown",
   "metadata": {},
   "source": [
    "### Random column selection"
   ]
  },
  {
   "cell_type": "code",
   "execution_count": 103,
   "metadata": {},
   "outputs": [
    {
     "name": "stdout",
     "output_type": "stream",
     "text": [
      "Time using NymPy's random.randint(): 0.002376079559326172 sec\n",
      "Time using panda's .sample(): 0.0011658668518066406 sec\n"
     ]
    }
   ],
   "source": [
    "# Extract number of columns in dataset\n",
    "D = poker.shape[1]\n",
    "\n",
    "# Select and time the selection of 4 of the dataset's columns using NumPy\n",
    "np_start_time = time.time()\n",
    "poker.iloc[:,np.random.randint(low=0, high=D, size=4)]\n",
    "print(\"Time using NymPy's random.randint(): {} sec\".format(time.time() - np_start_time))\n",
    "\n",
    "# Select and time the selection of 4 of the dataset's columns using pandas\n",
    "pd_start_time = time.time()\n",
    "poker.sample(4, axis=1)\n",
    "print(\"Time using panda's .sample(): {} sec\".format(time.time() - pd_start_time))"
   ]
  },
  {
   "cell_type": "markdown",
   "metadata": {},
   "source": [
    "**Catatan** : Anda menemukan cara paling efisien untuk mengambil sampel kolom acak dari pandas DataFrame yaitu `.sample()`"
   ]
  },
  {
   "cell_type": "code",
   "execution_count": null,
   "metadata": {},
   "outputs": [],
   "source": []
  },
  {
   "cell_type": "code",
   "execution_count": null,
   "metadata": {},
   "outputs": [],
   "source": []
  }
 ],
 "metadata": {
  "kernelspec": {
   "display_name": "Python 3",
   "language": "python",
   "name": "python3"
  },
  "language_info": {
   "codemirror_mode": {
    "name": "ipython",
    "version": 3
   },
   "file_extension": ".py",
   "mimetype": "text/x-python",
   "name": "python",
   "nbconvert_exporter": "python",
   "pygments_lexer": "ipython3",
   "version": "3.7.3"
  }
 },
 "nbformat": 4,
 "nbformat_minor": 2
}
