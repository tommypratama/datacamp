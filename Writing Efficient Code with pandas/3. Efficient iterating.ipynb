{
 "cells": [
  {
   "cell_type": "markdown",
   "metadata": {},
   "source": [
    "# Efficient iterating\n",
    "\n",
    "Bab ini menyajikan berbagai cara iterating melalui Pandas DataFrame dan mengapa vektorisasi adalah cara paling efisien untuk mencapainya."
   ]
  },
  {
   "cell_type": "markdown",
   "metadata": {},
   "source": [
    "## Looping using the `.iterrows()` function"
   ]
  },
  {
   "cell_type": "markdown",
   "metadata": {},
   "source": [
    "### The poker dataset\n",
    "\n",
    "1. Hearts\n",
    "2. Diamonds\n",
    "3. Clubs\n",
    "4. Spades"
   ]
  },
  {
   "cell_type": "code",
   "execution_count": 16,
   "metadata": {},
   "outputs": [],
   "source": [
    "import pandas as pd\n",
    "\n",
    "poker = pd.read_csv(\"datasets/poker_hand.csv\")"
   ]
  },
  {
   "cell_type": "markdown",
   "metadata": {},
   "source": [
    "### Generators in Python"
   ]
  },
  {
   "cell_type": "code",
   "execution_count": 2,
   "metadata": {},
   "outputs": [],
   "source": [
    "def city_name_generator():\n",
    "    yield('New York')\n",
    "    yield('London')\n",
    "    yield('Tokyo')\n",
    "    yield('Sao Paolo')\n",
    "    \n",
    "city_names = city_name_generator()"
   ]
  },
  {
   "cell_type": "code",
   "execution_count": 4,
   "metadata": {},
   "outputs": [
    {
     "data": {
      "text/plain": [
       "'New York'"
      ]
     },
     "execution_count": 4,
     "metadata": {},
     "output_type": "execute_result"
    }
   ],
   "source": [
    "next(city_names)"
   ]
  },
  {
   "cell_type": "code",
   "execution_count": 5,
   "metadata": {},
   "outputs": [
    {
     "data": {
      "text/plain": [
       "'London'"
      ]
     },
     "execution_count": 5,
     "metadata": {},
     "output_type": "execute_result"
    }
   ],
   "source": [
    "next(city_names)"
   ]
  },
  {
   "cell_type": "code",
   "execution_count": 6,
   "metadata": {},
   "outputs": [
    {
     "data": {
      "text/plain": [
       "'Tokyo'"
      ]
     },
     "execution_count": 6,
     "metadata": {},
     "output_type": "execute_result"
    }
   ],
   "source": [
    "next(city_names)"
   ]
  },
  {
   "cell_type": "code",
   "execution_count": 7,
   "metadata": {},
   "outputs": [
    {
     "data": {
      "text/plain": [
       "'Sao Paolo'"
      ]
     },
     "execution_count": 7,
     "metadata": {},
     "output_type": "execute_result"
    }
   ],
   "source": [
    "next(city_names)"
   ]
  },
  {
   "cell_type": "code",
   "execution_count": 8,
   "metadata": {},
   "outputs": [
    {
     "ename": "StopIteration",
     "evalue": "",
     "output_type": "error",
     "traceback": [
      "\u001b[0;31m---------------------------------------------------------------------------\u001b[0m",
      "\u001b[0;31mStopIteration\u001b[0m                             Traceback (most recent call last)",
      "\u001b[0;32m<ipython-input-8-76cd0649ed5c>\u001b[0m in \u001b[0;36m<module>\u001b[0;34m\u001b[0m\n\u001b[0;32m----> 1\u001b[0;31m \u001b[0mnext\u001b[0m\u001b[0;34m(\u001b[0m\u001b[0mcity_names\u001b[0m\u001b[0;34m)\u001b[0m\u001b[0;34m\u001b[0m\u001b[0;34m\u001b[0m\u001b[0m\n\u001b[0m",
      "\u001b[0;31mStopIteration\u001b[0m: "
     ]
    }
   ],
   "source": [
    "next(city_names)"
   ]
  },
  {
   "cell_type": "markdown",
   "metadata": {},
   "source": [
    "### Looping using the .iterrows() function"
   ]
  },
  {
   "cell_type": "code",
   "execution_count": 9,
   "metadata": {},
   "outputs": [],
   "source": [
    "gen = poker.iterrows()\n",
    "first_element = next(gen)"
   ]
  },
  {
   "cell_type": "code",
   "execution_count": 11,
   "metadata": {},
   "outputs": [
    {
     "data": {
      "text/plain": [
       "0"
      ]
     },
     "execution_count": 11,
     "metadata": {},
     "output_type": "execute_result"
    }
   ],
   "source": [
    "first_element[0]"
   ]
  },
  {
   "cell_type": "code",
   "execution_count": 12,
   "metadata": {},
   "outputs": [
    {
     "data": {
      "text/plain": [
       "S1        1\n",
       "R1       10\n",
       "S2        1\n",
       "R2       11\n",
       "S3        1\n",
       "R3       13\n",
       "S4        1\n",
       "R4       12\n",
       "S5        1\n",
       "R5        1\n",
       "Class     9\n",
       "Name: 0, dtype: int64"
      ]
     },
     "execution_count": 12,
     "metadata": {},
     "output_type": "execute_result"
    }
   ],
   "source": [
    "first_element[1]"
   ]
  },
  {
   "cell_type": "markdown",
   "metadata": {},
   "source": [
    "### Using the .iterrows() function"
   ]
  },
  {
   "cell_type": "code",
   "execution_count": 14,
   "metadata": {},
   "outputs": [],
   "source": [
    "import time"
   ]
  },
  {
   "cell_type": "code",
   "execution_count": 17,
   "metadata": {},
   "outputs": [
    {
     "ename": "TypeError",
     "evalue": "cannot unpack non-iterable int object",
     "output_type": "error",
     "traceback": [
      "\u001b[0;31m---------------------------------------------------------------------------\u001b[0m",
      "\u001b[0;31mTypeError\u001b[0m                                 Traceback (most recent call last)",
      "\u001b[0;32m<ipython-input-17-4306e6581726>\u001b[0m in \u001b[0;36m<module>\u001b[0;34m\u001b[0m\n\u001b[1;32m      1\u001b[0m \u001b[0mstart_time\u001b[0m \u001b[0;34m=\u001b[0m \u001b[0mtime\u001b[0m\u001b[0;34m.\u001b[0m\u001b[0mtime\u001b[0m\u001b[0;34m(\u001b[0m\u001b[0;34m)\u001b[0m\u001b[0;34m\u001b[0m\u001b[0;34m\u001b[0m\u001b[0m\n\u001b[0;32m----> 2\u001b[0;31m \u001b[0;32mfor\u001b[0m \u001b[0mindex\u001b[0m\u001b[0;34m,\u001b[0m \u001b[0mvalues\u001b[0m \u001b[0;32min\u001b[0m \u001b[0mrange\u001b[0m\u001b[0;34m(\u001b[0m\u001b[0mpoker\u001b[0m\u001b[0;34m.\u001b[0m\u001b[0mshape\u001b[0m\u001b[0;34m[\u001b[0m\u001b[0;36m0\u001b[0m\u001b[0;34m]\u001b[0m\u001b[0;34m)\u001b[0m\u001b[0;34m:\u001b[0m\u001b[0;34m\u001b[0m\u001b[0;34m\u001b[0m\u001b[0m\n\u001b[0m\u001b[1;32m      3\u001b[0m     \u001b[0mnext\u001b[0m\u001b[0;34m\u001b[0m\u001b[0;34m\u001b[0m\u001b[0m\n\u001b[1;32m      4\u001b[0m \u001b[0mprint\u001b[0m\u001b[0;34m(\u001b[0m\u001b[0;34m\"Time using range(): {} sec\"\u001b[0m\u001b[0;34m.\u001b[0m\u001b[0mformat\u001b[0m\u001b[0;34m(\u001b[0m\u001b[0mtime\u001b[0m\u001b[0;34m.\u001b[0m\u001b[0mtime\u001b[0m\u001b[0;34m(\u001b[0m\u001b[0;34m)\u001b[0m \u001b[0;34m-\u001b[0m \u001b[0mstart_time\u001b[0m\u001b[0;34m)\u001b[0m\u001b[0;34m)\u001b[0m\u001b[0;34m\u001b[0m\u001b[0;34m\u001b[0m\u001b[0m\n",
      "\u001b[0;31mTypeError\u001b[0m: cannot unpack non-iterable int object"
     ]
    }
   ],
   "source": [
    "start_time = time.time()\n",
    "for index, values in range(poker.shape[0]):\n",
    "    next\n",
    "print(\"Time using range(): {} sec\".format(time.time() - start_time))"
   ]
  },
  {
   "cell_type": "code",
   "execution_count": 20,
   "metadata": {},
   "outputs": [
    {
     "name": "stdout",
     "output_type": "stream",
     "text": [
      "Time using .iterrows(): 1.6354880332946777 sec\n"
     ]
    }
   ],
   "source": [
    "data_generator = poker.iterrows()\n",
    "start_time = time.time()\n",
    "for index, values in data_generator:\n",
    "    next\n",
    "print(\"Time using .iterrows(): {} sec\".format(time.time() - start_time))"
   ]
  },
  {
   "cell_type": "markdown",
   "metadata": {},
   "source": [
    "### Create a generator for a pandas DataFrame\n",
    "\n",
    "Anda dapat dengan mudah membuat generator dari pandas DataFrame. Setiap kali Anda iterate, itu akan menghasilkan dua elemen:\n",
    "\n",
    "* index dari masing-masing baris\n",
    "* pandas series dengan semua elemen dari baris itu\n",
    "\n",
    "Anda akan membuat generator di atas dataset `poker`. Kemudian, Anda akan mencetak semua elemen dari baris ke-2, menggunakan generator."
   ]
  },
  {
   "cell_type": "code",
   "execution_count": 21,
   "metadata": {},
   "outputs": [
    {
     "name": "stdout",
     "output_type": "stream",
     "text": [
      "(0, S1        1\n",
      "R1       10\n",
      "S2        1\n",
      "R2       11\n",
      "S3        1\n",
      "R3       13\n",
      "S4        1\n",
      "R4       12\n",
      "S5        1\n",
      "R5        1\n",
      "Class     9\n",
      "Name: 0, dtype: int64) (1, S1        2\n",
      "R1       11\n",
      "S2        2\n",
      "R2       13\n",
      "S3        2\n",
      "R3       10\n",
      "S4        2\n",
      "R4       12\n",
      "S5        2\n",
      "R5        1\n",
      "Class     9\n",
      "Name: 1, dtype: int64)\n"
     ]
    }
   ],
   "source": [
    "# Create a generator over the rows\n",
    "generator = poker.iterrows()\n",
    "\n",
    "# Access the elements of the 2nd row\n",
    "first_element = next(generator)\n",
    "second_element = next(generator)\n",
    "print(first_element, second_element)"
   ]
  },
  {
   "cell_type": "markdown",
   "metadata": {},
   "source": [
    "**Catatan** : Sekarang setelah Anda tahu cara membuat generator di atas DataFrame, mari kita gunakan lebih banyak lagi!"
   ]
  },
  {
   "cell_type": "markdown",
   "metadata": {},
   "source": [
    "### The iterrows() function for looping\n",
    "\n",
    "Secara khusus, kami ingin jumlah ranking semua kartu, jika index *hand* adalah angka ganjil. Ranking kartu terletak di kolom aneh pada DataFrame."
   ]
  },
  {
   "cell_type": "code",
   "execution_count": 22,
   "metadata": {},
   "outputs": [],
   "source": [
    "data_generator = poker.iterrows()\n",
    "\n",
    "for index, values in data_generator:\n",
    "    # Check if index is odd\n",
    "    if (index % 2) != 0:\n",
    "        # Sum the ranks of all the cards\n",
    "        hand_sum = sum([values[1], values[3], values[5], values[7], values[9]])"
   ]
  },
  {
   "cell_type": "markdown",
   "metadata": {},
   "source": [
    "**Catatan** : Anda sekarang tahu cara menggunakan fungsi `.iterrows()` untuk loop baris pandas DataFrame!"
   ]
  },
  {
   "cell_type": "markdown",
   "metadata": {},
   "source": [
    "## Looping using the .apply() function"
   ]
  },
  {
   "cell_type": "markdown",
   "metadata": {},
   "source": [
    "### The .apply() function"
   ]
  },
  {
   "cell_type": "code",
   "execution_count": 24,
   "metadata": {},
   "outputs": [],
   "source": [
    "import numpy as np"
   ]
  },
  {
   "cell_type": "code",
   "execution_count": 36,
   "metadata": {},
   "outputs": [
    {
     "data": {
      "text/html": [
       "<div>\n",
       "<style scoped>\n",
       "    .dataframe tbody tr th:only-of-type {\n",
       "        vertical-align: middle;\n",
       "    }\n",
       "\n",
       "    .dataframe tbody tr th {\n",
       "        vertical-align: top;\n",
       "    }\n",
       "\n",
       "    .dataframe thead th {\n",
       "        text-align: right;\n",
       "    }\n",
       "</style>\n",
       "<table border=\"1\" class=\"dataframe\">\n",
       "  <thead>\n",
       "    <tr style=\"text-align: right;\">\n",
       "      <th></th>\n",
       "      <th>S1</th>\n",
       "      <th>R1</th>\n",
       "      <th>S2</th>\n",
       "      <th>R2</th>\n",
       "      <th>S3</th>\n",
       "      <th>R3</th>\n",
       "      <th>S4</th>\n",
       "      <th>R4</th>\n",
       "      <th>S5</th>\n",
       "      <th>R5</th>\n",
       "      <th>Class</th>\n",
       "    </tr>\n",
       "  </thead>\n",
       "  <tbody>\n",
       "    <tr>\n",
       "      <th>0</th>\n",
       "      <td>1.000000</td>\n",
       "      <td>3.162278</td>\n",
       "      <td>1.000000</td>\n",
       "      <td>3.316625</td>\n",
       "      <td>1.000000</td>\n",
       "      <td>3.605551</td>\n",
       "      <td>1.000000</td>\n",
       "      <td>3.464102</td>\n",
       "      <td>1.000000</td>\n",
       "      <td>1.000000</td>\n",
       "      <td>3.0</td>\n",
       "    </tr>\n",
       "    <tr>\n",
       "      <th>1</th>\n",
       "      <td>1.414214</td>\n",
       "      <td>3.316625</td>\n",
       "      <td>1.414214</td>\n",
       "      <td>3.605551</td>\n",
       "      <td>1.414214</td>\n",
       "      <td>3.162278</td>\n",
       "      <td>1.414214</td>\n",
       "      <td>3.464102</td>\n",
       "      <td>1.414214</td>\n",
       "      <td>1.000000</td>\n",
       "      <td>3.0</td>\n",
       "    </tr>\n",
       "    <tr>\n",
       "      <th>2</th>\n",
       "      <td>1.732051</td>\n",
       "      <td>3.464102</td>\n",
       "      <td>1.732051</td>\n",
       "      <td>3.316625</td>\n",
       "      <td>1.732051</td>\n",
       "      <td>3.605551</td>\n",
       "      <td>1.732051</td>\n",
       "      <td>3.162278</td>\n",
       "      <td>1.732051</td>\n",
       "      <td>1.000000</td>\n",
       "      <td>3.0</td>\n",
       "    </tr>\n",
       "    <tr>\n",
       "      <th>3</th>\n",
       "      <td>2.000000</td>\n",
       "      <td>3.162278</td>\n",
       "      <td>2.000000</td>\n",
       "      <td>3.316625</td>\n",
       "      <td>2.000000</td>\n",
       "      <td>1.000000</td>\n",
       "      <td>2.000000</td>\n",
       "      <td>3.605551</td>\n",
       "      <td>2.000000</td>\n",
       "      <td>3.464102</td>\n",
       "      <td>3.0</td>\n",
       "    </tr>\n",
       "    <tr>\n",
       "      <th>4</th>\n",
       "      <td>2.000000</td>\n",
       "      <td>1.000000</td>\n",
       "      <td>2.000000</td>\n",
       "      <td>3.605551</td>\n",
       "      <td>2.000000</td>\n",
       "      <td>3.464102</td>\n",
       "      <td>2.000000</td>\n",
       "      <td>3.316625</td>\n",
       "      <td>2.000000</td>\n",
       "      <td>3.162278</td>\n",
       "      <td>3.0</td>\n",
       "    </tr>\n",
       "  </tbody>\n",
       "</table>\n",
       "</div>"
      ],
      "text/plain": [
       "         S1        R1        S2        R2        S3        R3        S4  \\\n",
       "0  1.000000  3.162278  1.000000  3.316625  1.000000  3.605551  1.000000   \n",
       "1  1.414214  3.316625  1.414214  3.605551  1.414214  3.162278  1.414214   \n",
       "2  1.732051  3.464102  1.732051  3.316625  1.732051  3.605551  1.732051   \n",
       "3  2.000000  3.162278  2.000000  3.316625  2.000000  1.000000  2.000000   \n",
       "4  2.000000  1.000000  2.000000  3.605551  2.000000  3.464102  2.000000   \n",
       "\n",
       "         R4        S5        R5  Class  \n",
       "0  3.464102  1.000000  1.000000    3.0  \n",
       "1  3.464102  1.414214  1.000000    3.0  \n",
       "2  3.162278  1.732051  1.000000    3.0  \n",
       "3  3.605551  2.000000  3.464102    3.0  \n",
       "4  3.316625  2.000000  3.162278    3.0  "
      ]
     },
     "execution_count": 36,
     "metadata": {},
     "output_type": "execute_result"
    }
   ],
   "source": [
    "data_sqrt = poker.apply(lambda x: np.sqrt(x))\n",
    "data_sqrt.head()"
   ]
  },
  {
   "cell_type": "code",
   "execution_count": 37,
   "metadata": {},
   "outputs": [
    {
     "data": {
      "text/html": [
       "<div>\n",
       "<style scoped>\n",
       "    .dataframe tbody tr th:only-of-type {\n",
       "        vertical-align: middle;\n",
       "    }\n",
       "\n",
       "    .dataframe tbody tr th {\n",
       "        vertical-align: top;\n",
       "    }\n",
       "\n",
       "    .dataframe thead th {\n",
       "        text-align: right;\n",
       "    }\n",
       "</style>\n",
       "<table border=\"1\" class=\"dataframe\">\n",
       "  <thead>\n",
       "    <tr style=\"text-align: right;\">\n",
       "      <th></th>\n",
       "      <th>S1</th>\n",
       "      <th>R1</th>\n",
       "      <th>S2</th>\n",
       "      <th>R2</th>\n",
       "      <th>S3</th>\n",
       "      <th>R3</th>\n",
       "      <th>S4</th>\n",
       "      <th>R4</th>\n",
       "      <th>S5</th>\n",
       "      <th>R5</th>\n",
       "      <th>Class</th>\n",
       "    </tr>\n",
       "  </thead>\n",
       "  <tbody>\n",
       "    <tr>\n",
       "      <th>0</th>\n",
       "      <td>1.000000</td>\n",
       "      <td>3.162278</td>\n",
       "      <td>1.000000</td>\n",
       "      <td>3.316625</td>\n",
       "      <td>1.000000</td>\n",
       "      <td>3.605551</td>\n",
       "      <td>1.000000</td>\n",
       "      <td>3.464102</td>\n",
       "      <td>1.000000</td>\n",
       "      <td>1.000000</td>\n",
       "      <td>3.0</td>\n",
       "    </tr>\n",
       "    <tr>\n",
       "      <th>1</th>\n",
       "      <td>1.414214</td>\n",
       "      <td>3.316625</td>\n",
       "      <td>1.414214</td>\n",
       "      <td>3.605551</td>\n",
       "      <td>1.414214</td>\n",
       "      <td>3.162278</td>\n",
       "      <td>1.414214</td>\n",
       "      <td>3.464102</td>\n",
       "      <td>1.414214</td>\n",
       "      <td>1.000000</td>\n",
       "      <td>3.0</td>\n",
       "    </tr>\n",
       "    <tr>\n",
       "      <th>2</th>\n",
       "      <td>1.732051</td>\n",
       "      <td>3.464102</td>\n",
       "      <td>1.732051</td>\n",
       "      <td>3.316625</td>\n",
       "      <td>1.732051</td>\n",
       "      <td>3.605551</td>\n",
       "      <td>1.732051</td>\n",
       "      <td>3.162278</td>\n",
       "      <td>1.732051</td>\n",
       "      <td>1.000000</td>\n",
       "      <td>3.0</td>\n",
       "    </tr>\n",
       "    <tr>\n",
       "      <th>3</th>\n",
       "      <td>2.000000</td>\n",
       "      <td>3.162278</td>\n",
       "      <td>2.000000</td>\n",
       "      <td>3.316625</td>\n",
       "      <td>2.000000</td>\n",
       "      <td>1.000000</td>\n",
       "      <td>2.000000</td>\n",
       "      <td>3.605551</td>\n",
       "      <td>2.000000</td>\n",
       "      <td>3.464102</td>\n",
       "      <td>3.0</td>\n",
       "    </tr>\n",
       "    <tr>\n",
       "      <th>4</th>\n",
       "      <td>2.000000</td>\n",
       "      <td>1.000000</td>\n",
       "      <td>2.000000</td>\n",
       "      <td>3.605551</td>\n",
       "      <td>2.000000</td>\n",
       "      <td>3.464102</td>\n",
       "      <td>2.000000</td>\n",
       "      <td>3.316625</td>\n",
       "      <td>2.000000</td>\n",
       "      <td>3.162278</td>\n",
       "      <td>3.0</td>\n",
       "    </tr>\n",
       "  </tbody>\n",
       "</table>\n",
       "</div>"
      ],
      "text/plain": [
       "         S1        R1        S2        R2        S3        R3        S4  \\\n",
       "0  1.000000  3.162278  1.000000  3.316625  1.000000  3.605551  1.000000   \n",
       "1  1.414214  3.316625  1.414214  3.605551  1.414214  3.162278  1.414214   \n",
       "2  1.732051  3.464102  1.732051  3.316625  1.732051  3.605551  1.732051   \n",
       "3  2.000000  3.162278  2.000000  3.316625  2.000000  1.000000  2.000000   \n",
       "4  2.000000  1.000000  2.000000  3.605551  2.000000  3.464102  2.000000   \n",
       "\n",
       "         R4        S5        R5  Class  \n",
       "0  3.464102  1.000000  1.000000    3.0  \n",
       "1  3.464102  1.414214  1.000000    3.0  \n",
       "2  3.162278  1.732051  1.000000    3.0  \n",
       "3  3.605551  2.000000  3.464102    3.0  \n",
       "4  3.316625  2.000000  3.162278    3.0  "
      ]
     },
     "execution_count": 37,
     "metadata": {},
     "output_type": "execute_result"
    }
   ],
   "source": [
    "data_sqrt_2 = np.sqrt(poker)\n",
    "data_sqrt_2.head()"
   ]
  },
  {
   "cell_type": "markdown",
   "metadata": {},
   "source": [
    "### The .apply() function for rows"
   ]
  },
  {
   "cell_type": "code",
   "execution_count": 38,
   "metadata": {},
   "outputs": [
    {
     "name": "stdout",
     "output_type": "stream",
     "text": [
      "Time using .apply(): 0.21619629859924316 sec\n"
     ]
    }
   ],
   "source": [
    "apply_start_time = time.time()\n",
    "poker[['R1', 'R2', 'R3', 'R4', 'R5']].apply(lambda x: sum(x), axis=1)\n",
    "print(\"Time using .apply(): {} sec\".format(time.time() - apply_start_time))"
   ]
  },
  {
   "cell_type": "code",
   "execution_count": 39,
   "metadata": {},
   "outputs": [
    {
     "name": "stdout",
     "output_type": "stream",
     "text": [
      "Time using .iterrows(): 4.526821136474609 sec\n"
     ]
    }
   ],
   "source": [
    "start_time = time.time()\n",
    "for ind, value in poker.iterrows():\n",
    "    sum([value[1], value[3], value[5], value[7], value[9]])\n",
    "print(\"Time using .iterrows(): {} sec\".format(time.time() - start_time))"
   ]
  },
  {
   "cell_type": "markdown",
   "metadata": {},
   "source": [
    "### The .apply() function for columns"
   ]
  },
  {
   "cell_type": "code",
   "execution_count": 40,
   "metadata": {},
   "outputs": [
    {
     "name": "stdout",
     "output_type": "stream",
     "text": [
      "Time using .apply(): 174.1865360736847 sec\n"
     ]
    }
   ],
   "source": [
    "start_time = time.time()\n",
    "poker[['R1', 'R2', 'R3', 'R4', 'R5']].apply(lambda x: sum(x), axis=0)\n",
    "print(\"Time using .apply(): {} sec\".format(time.time() - apply_start_time))"
   ]
  },
  {
   "cell_type": "code",
   "execution_count": 41,
   "metadata": {},
   "outputs": [
    {
     "name": "stdout",
     "output_type": "stream",
     "text": [
      "Time using pandas: 0.0050106048583984375 sec\n"
     ]
    }
   ],
   "source": [
    "start_time = time.time()\n",
    "poker[['R1', 'R1', 'R3', 'R4', 'R5']].sum(axis=0)\n",
    "print(\"Time using pandas: {} sec\".format(time.time() - start_time))"
   ]
  },
  {
   "cell_type": "markdown",
   "metadata": {},
   "source": [
    "### Practice: .apply() function in every cell\n",
    "\n",
    "Anda bisa menggunakan `.apply()` untuk memetakan fungsi ke setiap sel DataFrame, terlepas dari kolom atau baris.\n",
    "\n",
    "Cara Python asli untuk menguadratkan angka `n` adalah `n**2`."
   ]
  },
  {
   "cell_type": "code",
   "execution_count": 43,
   "metadata": {},
   "outputs": [
    {
     "name": "stdout",
     "output_type": "stream",
     "text": [
      "   S1   R1  S2   R2  S3   R3  S4   R4  S5   R5  Class\n",
      "0   1  100   1  121   1  169   1  144   1    1     81\n",
      "1   4  121   4  169   4  100   4  144   4    1     81\n",
      "2   9  144   9  121   9  169   9  100   9    1     81\n",
      "3  16  100  16  121  16    1  16  169  16  144     81\n",
      "4  16    1  16  169  16  144  16  121  16  100     81\n"
     ]
    }
   ],
   "source": [
    "# Define the lambda transformation\n",
    "get_square = lambda x: x**2\n",
    "\n",
    "# Apply the transformation\n",
    "data_sum = poker.apply(get_square)\n",
    "print(data_sum.head())"
   ]
  },
  {
   "cell_type": "markdown",
   "metadata": {},
   "source": [
    "**Catatan** : Anda sekarang dapat menggunakan fungsi `.apply()` untuk mengubah setiap sel sekaligus."
   ]
  },
  {
   "cell_type": "markdown",
   "metadata": {},
   "source": [
    "### .apply() for rows iteration\n",
    "\n",
    "`.apply()` sangat berguna untuk iterate melalui baris-baris DataFrame dan menerapkan fungsi tertentu.\n",
    "\n",
    "Anda akan mengerjakan subset dataset `poker`, yang mencakup hanya peringkat dari semua lima kartu dari masing-masing tangan di setiap baris (subset ini dibuat untuk Anda dalam skrip). Anda akan mendapatkan varians dari setiap tangan untuk semua peringkat, dan setiap peringkat untuk semua tangan."
   ]
  },
  {
   "cell_type": "code",
   "execution_count": 44,
   "metadata": {},
   "outputs": [
    {
     "name": "stdout",
     "output_type": "stream",
     "text": [
      "0    18.64\n",
      "1    18.64\n",
      "2    18.64\n",
      "3    18.64\n",
      "4    18.64\n",
      "dtype: float64\n"
     ]
    }
   ],
   "source": [
    "# Define the lambda transformation\n",
    "get_variance = lambda x: np.var(x)\n",
    "\n",
    "# Apply the transformation\n",
    "data_tr = poker[['R1', 'R2', 'R3', 'R4', 'R5']].apply(get_variance, axis=1)\n",
    "print(data_tr.head())"
   ]
  },
  {
   "cell_type": "code",
   "execution_count": 46,
   "metadata": {},
   "outputs": [
    {
     "name": "stdout",
     "output_type": "stream",
     "text": [
      "R1    14.060473\n",
      "R2    14.189523\n",
      "R3    14.024270\n",
      "R4    14.040552\n",
      "R5    13.998851\n",
      "dtype: float64\n"
     ]
    }
   ],
   "source": [
    "get_variance = lambda x: np.var(x)\n",
    "\n",
    "# Apply the transformation\n",
    "data_tr = poker[['R1', 'R2', 'R3', 'R4', 'R5']].apply(get_variance, axis=0)\n",
    "print(data_tr.head())"
   ]
  },
  {
   "cell_type": "markdown",
   "metadata": {},
   "source": [
    "**Catatan** : Anda sekarang tahu metode lain untuk secara cepat iterate melalui DataFrame pandas! Apakah ini cara paling efisien?"
   ]
  },
  {
   "cell_type": "markdown",
   "metadata": {},
   "source": [
    "## Vectorization over pandas series"
   ]
  },
  {
   "cell_type": "markdown",
   "metadata": {},
   "source": [
    "### Why vectorization in pandas is so fast?\n",
    "\n",
    "Seperti yang mungkin Anda perhatikan dalam bab ini, kami mencapai peningkatan besar-besaran menggunakan beberapa bentuk vektorisasi.\n",
    "\n",
    "Dari mana asal perbaikan ini?\n",
    "\n",
    "* Lebih sedikit operasi diperlukan karena pengoptimalan dalam pandas. Vektorisasi selalu merupakan pilihan tercepat, dan sekarang Anda tahu mengapa. Kiat ekstra: Menggunakan kode C dengan cara yang optimal!"
   ]
  },
  {
   "cell_type": "markdown",
   "metadata": {},
   "source": [
    "### DataFrames as arrays\n",
    "\n",
    "<img src=\"figure/dataframe-as-arrays.png\" width=400px height=400px align=left />"
   ]
  },
  {
   "cell_type": "markdown",
   "metadata": {},
   "source": [
    "### How to perform pandas vectorization"
   ]
  },
  {
   "cell_type": "code",
   "execution_count": 47,
   "metadata": {},
   "outputs": [
    {
     "name": "stdout",
     "output_type": "stream",
     "text": [
      "Time using pandas vectorization: 0.009087324142456055 sec\n"
     ]
    }
   ],
   "source": [
    "start_time = time.time()\n",
    "poker[['R1', 'R2', 'R3', 'R4', 'R5']].sum(axis=1)\n",
    "print(\"Time using pandas vectorization: {} sec\".format(time.time() - start_time))"
   ]
  },
  {
   "cell_type": "code",
   "execution_count": 48,
   "metadata": {},
   "outputs": [
    {
     "data": {
      "text/plain": [
       "0    47\n",
       "1    47\n",
       "2    47\n",
       "3    47\n",
       "4    47\n",
       "dtype: int64"
      ]
     },
     "execution_count": 48,
     "metadata": {},
     "output_type": "execute_result"
    }
   ],
   "source": [
    "poker[['R1', 'R2', 'R3', 'R4', 'R5']].sum(axis=1).head()"
   ]
  },
  {
   "cell_type": "markdown",
   "metadata": {},
   "source": [
    "### Comparison to the previous methods"
   ]
  },
  {
   "cell_type": "code",
   "execution_count": 50,
   "metadata": {},
   "outputs": [
    {
     "name": "stdout",
     "output_type": "stream",
     "text": [
      "Results from the above operation calculated in 69.50318789482117 seconds\n"
     ]
    }
   ],
   "source": [
    "tart_time = time.time()\n",
    "poker[['R1', 'R2', 'R3', 'R4', 'R5']].apply(lambda x: sum(x),axis=1)\n",
    "print(\"Results from the above operation calculated in %s seconds\" % (time.time() - start_time))"
   ]
  },
  {
   "cell_type": "markdown",
   "metadata": {},
   "source": [
    "### Practice: pandas vectorization in action\n",
    "\n",
    "Dalam latihan ini, Anda akan menerapkan vektorisasi pada pandas series untuk:\n",
    "\n",
    "* menghitung peringkat rata-rata semua kartu di masing-masing tangan (baris)\n",
    "* menghitung peringkat rata-rata dari masing-masing 5 kartu di masing-masing tangan (kolom)"
   ]
  },
  {
   "cell_type": "code",
   "execution_count": 51,
   "metadata": {},
   "outputs": [
    {
     "name": "stdout",
     "output_type": "stream",
     "text": [
      "Time using pandas vectorization for rows: 0.004887819290161133 sec\n",
      "0    9.4\n",
      "1    9.4\n",
      "2    9.4\n",
      "3    9.4\n",
      "4    9.4\n",
      "dtype: float64\n",
      "Time using pandas vectorization for columns: 0.002150297164916992 sec\n",
      "R1    6.995242\n",
      "R2    7.014194\n",
      "R3    7.014154\n",
      "R4    6.942463\n",
      "R5    6.962735\n",
      "dtype: float64\n"
     ]
    }
   ],
   "source": [
    "# Calculate the mean rank in each hand\n",
    "row_start_time = time.time()\n",
    "mean_r = poker[['R1', 'R2', 'R3', 'R4', 'R5']].mean(axis=1)\n",
    "print(\"Time using pandas vectorization for rows: {} sec\".format(time.time() - row_start_time))\n",
    "print(mean_r.head())\n",
    "\n",
    "# Calculate the mean rank of each of the 5 card in all hands\n",
    "col_start_time = time.time()\n",
    "mean_c = poker[['R1', 'R2', 'R3', 'R4', 'R5']].mean(axis=0)\n",
    "print(\"Time using pandas vectorization for columns: {} sec\".format(time.time() - col_start_time))\n",
    "print(mean_c.head())"
   ]
  },
  {
   "cell_type": "markdown",
   "metadata": {},
   "source": [
    "## Vectorization with NumPy arrays using .values()"
   ]
  },
  {
   "cell_type": "markdown",
   "metadata": {},
   "source": [
    "### Best method of vectorization\n",
    "\n",
    "Sejauh ini, Anda telah menemukan dua metode vektorisasi:\n",
    "\n",
    "* Vektorisasi dengan `Pandas` series\n",
    "* Vektorisasi dengan `Numpy` ndarrays\n",
    "\n",
    "Meskipun kedua metode ini mengungguli semua metode lainnya, kapan bisa vektorisasi melalui `NumPy` ndarrays digunakan untuk menggantikan vektorisasi dengan `Pandas` series?\n",
    "\n",
    "* Ketika operasi seperti pengindeksan atau tipe data tidak digunakan. Vektorisasi melalui NumPy ndarrays selalu merupakan opsi tercepat, dan sekarang Anda tahu mengapa!."
   ]
  },
  {
   "cell_type": "markdown",
   "metadata": {},
   "source": [
    "### NumPy in Pandas"
   ]
  },
  {
   "cell_type": "code",
   "execution_count": 52,
   "metadata": {},
   "outputs": [
    {
     "name": "stdout",
     "output_type": "stream",
     "text": [
      "   Col1\n",
      "0     0\n",
      "1     1\n",
      "2     2\n",
      "3     3\n",
      "4     4\n",
      "5     5\n",
      "6     6\n"
     ]
    }
   ],
   "source": [
    "df = pd.DataFrame({'Col1':[0, 1, 2, 3, 4, 5, 6]}, dtype=np.int8)\n",
    "print(df)"
   ]
  },
  {
   "cell_type": "code",
   "execution_count": 53,
   "metadata": {},
   "outputs": [
    {
     "name": "stdout",
     "output_type": "stream",
     "text": [
      "[0 1 2 3 4 5 6]\n"
     ]
    }
   ],
   "source": [
    "nd = np.array(range(7))\n",
    "print(nd)"
   ]
  },
  {
   "cell_type": "markdown",
   "metadata": {},
   "source": [
    "### How to perform NumPy vectorization"
   ]
  },
  {
   "cell_type": "code",
   "execution_count": 58,
   "metadata": {},
   "outputs": [
    {
     "name": "stdout",
     "output_type": "stream",
     "text": [
      "Time using NumPy vectorization: 0.0038330554962158203 sec\n"
     ]
    }
   ],
   "source": [
    "start_time = time.time()\n",
    "poker[['R1', 'R2', 'R3', 'R4', 'R5']].values.sum(axis=1)\n",
    "print(\"Time using NumPy vectorization: {} sec\".format(time.time() - start_time))"
   ]
  },
  {
   "cell_type": "code",
   "execution_count": 59,
   "metadata": {},
   "outputs": [
    {
     "name": "stdout",
     "output_type": "stream",
     "text": [
      "Results from the above operation calculated in 0.00641322135925293 seconds\n"
     ]
    }
   ],
   "source": [
    "start_time = time.time()\n",
    "poker[['R1', 'R2', 'R3', 'R4', 'R5']].sum(axis=1)\n",
    "print(\"Results from the above operation calculated in %s seconds\" % (time.time() - start_time))"
   ]
  },
  {
   "cell_type": "markdown",
   "metadata": {},
   "source": [
    "### Vectorization methods for looping a DataFrame\n",
    "\n",
    "Sekarang Anda sudah terbiasa dengan vektorisasi dalam Pandas dan NumPy, Anda akan membandingkan sendiri kinerja masing-masing."
   ]
  },
  {
   "cell_type": "code",
   "execution_count": 60,
   "metadata": {},
   "outputs": [
    {
     "name": "stdout",
     "output_type": "stream",
     "text": [
      "Time using pandas vectorization: 0.006083250045776367 sec\n",
      "0    23.3\n",
      "1    23.3\n",
      "2    23.3\n",
      "3    23.3\n",
      "4    23.3\n",
      "dtype: float64\n"
     ]
    }
   ],
   "source": [
    "# Calculate the variance in each hand\n",
    "start_time = time.time()\n",
    "poker_var = poker[['R1', 'R2', 'R3', 'R4', 'R5']].var(axis=1)\n",
    "print(\"Time using pandas vectorization: {} sec\".format(time.time() - start_time))\n",
    "print(poker_var.head())"
   ]
  },
  {
   "cell_type": "code",
   "execution_count": 62,
   "metadata": {},
   "outputs": [
    {
     "name": "stdout",
     "output_type": "stream",
     "text": [
      "Time using NumPy vectorization: 0.003411531448364258 sec\n",
      "[23.3 23.3 23.3 23.3 23.3]\n"
     ]
    }
   ],
   "source": [
    "# Calculate the variance in each hand\n",
    "start_time = time.time()\n",
    "poker_var = poker[['R1', 'R2', 'R3', 'R4', 'R5']].values.var(axis=1, ddof=1)\n",
    "print(\"Time using NumPy vectorization: {} sec\".format(time.time() - start_time))\n",
    "print(poker_var[0:5])"
   ]
  },
  {
   "cell_type": "markdown",
   "metadata": {},
   "source": [
    "**Catatan**: Anda telah menguasai semua teknik untuk iterate melalui Pandas DataFrame dan menerapkan fungsi pada nilainya! Jika Anda bertanya-tanya, itu diharapkan untuk mendapatkan 5 nilai yang identik. Dataset berisi semua kemungkinan kombinasi 5 kartu dari setumpuk kartu standar: semua kolom berisi kartu yang sama, meskipun dalam urutan yang berbeda, sehingga variansnya sama untuk semua kolom."
   ]
  },
  {
   "cell_type": "code",
   "execution_count": null,
   "metadata": {},
   "outputs": [],
   "source": []
  },
  {
   "cell_type": "code",
   "execution_count": null,
   "metadata": {},
   "outputs": [],
   "source": []
  }
 ],
 "metadata": {
  "kernelspec": {
   "display_name": "Python 3",
   "language": "python",
   "name": "python3"
  },
  "language_info": {
   "codemirror_mode": {
    "name": "ipython",
    "version": 3
   },
   "file_extension": ".py",
   "mimetype": "text/x-python",
   "name": "python",
   "nbconvert_exporter": "python",
   "pygments_lexer": "ipython3",
   "version": "3.7.3"
  }
 },
 "nbformat": 4,
 "nbformat_minor": 2
}
