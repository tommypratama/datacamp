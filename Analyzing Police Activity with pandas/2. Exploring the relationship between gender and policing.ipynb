{
 "cells": [
  {
   "cell_type": "markdown",
   "metadata": {},
   "source": [
    "# 2. Exploring the relationship between gender and policing\n",
    "\n",
    "Apakah jenis kelamin pengemudi berdampak pada perilaku polisi selama lalu lintas berhenti? Dalam bab ini, Anda akan menjelajahi pertanyaan itu sambil mempraktekkan filtering, grouping, method chaining, Boolean math, string methods, dan banyak lagi!"
   ]
  },
  {
   "cell_type": "markdown",
   "metadata": {},
   "source": [
    "## Preparing Data"
   ]
  },
  {
   "cell_type": "code",
   "execution_count": 2,
   "metadata": {},
   "outputs": [],
   "source": [
    "# Import the pandas library as pd\n",
    "import pandas as pd\n",
    "\n",
    "# Assign url file\n",
    "file_police = 'https://assets.datacamp.com/production/repositories/1497/datasets/62bd9feef451860db02d26553613a299721882e8/police.csv'\n",
    "\n",
    "# Read 'police.csv' into a DataFrame named ri\n",
    "ri = pd.read_csv(file_police)\n",
    "\n",
    "# Drop the 'county_name' and 'state' columns\n",
    "ri.drop(['county_name', 'state'], axis='columns', inplace=True)\n",
    "\n",
    "# Drop all rows that are missing 'driver_gender'\n",
    "ri.dropna(subset=['driver_gender'], inplace=True)\n",
    "\n",
    "# Change the data type of 'is_arrested' to 'bool'\n",
    "ri['is_arrested'] = ri.is_arrested.astype('bool')\n",
    "\n",
    "# Concatenate 'stop_date' and 'stop_time' (separated by a space)\n",
    "combined = ri.stop_date.str.cat(ri.stop_time, sep=' ')\n",
    "\n",
    "# Convert 'combined' to datetime format\n",
    "ri['stop_datetime'] = pd.to_datetime(combined)\n",
    "\n",
    "# Set 'stop_datetime' as the index\n",
    "ri.set_index('stop_datetime', inplace=True)"
   ]
  },
  {
   "cell_type": "markdown",
   "metadata": {},
   "source": [
    "## Do the genders commit different violations?\n",
    "\n",
    "### Examining traffic violations\n",
    "\n",
    "Sebelum membandingkan pelanggaran yang dilakukan oleh masing-masing jenis kelamin, Anda harus memeriksa pelanggaran yang dilakukan oleh semua pengemudi untuk mendapatkan pemahaman dasar tentang data tersebut.\n",
    "\n",
    "Dalam latihan ini, Anda akan menghitung nilai unik di kolom `violation`, dan lalu secara terpisah menyatakan jumlah tersebut sebagai proporsi."
   ]
  },
  {
   "cell_type": "code",
   "execution_count": 3,
   "metadata": {},
   "outputs": [
    {
     "name": "stdout",
     "output_type": "stream",
     "text": [
      "Speeding               48423\n",
      "Moving violation       16224\n",
      "Equipment              10921\n",
      "Other                   4409\n",
      "Registration/plates     3703\n",
      "Seat belt               2856\n",
      "Name: violation, dtype: int64\n",
      "Speeding               0.559571\n",
      "Moving violation       0.187483\n",
      "Equipment              0.126202\n",
      "Other                  0.050950\n",
      "Registration/plates    0.042791\n",
      "Seat belt              0.033004\n",
      "Name: violation, dtype: float64\n"
     ]
    }
   ],
   "source": [
    "# Count the unique values in 'violation'\n",
    "print(ri.violation.value_counts())\n",
    "\n",
    "# Express the counts as proportions\n",
    "print(ri.violation.value_counts(normalize=True))"
   ]
  },
  {
   "cell_type": "markdown",
   "metadata": {},
   "source": [
    "**Note** : Menarik! Lebih dari setengah dari semua pelanggaran adalah melampaui batas kecepatan, diikuti oleh pelanggaran bergerak lainnya dan pelanggaran perlengkapan."
   ]
  },
  {
   "cell_type": "markdown",
   "metadata": {},
   "source": [
    "### Comparing violations by gender\n",
    "\n",
    "Pertanyaan yang kita coba jawab adalah apakah pengemudi pria dan wanita cenderung melakukan berbagai jenis pelanggaran lalu lintas.\n",
    "\n",
    "Dalam latihan ini, pertama-tama Anda akan membuat DataFrame untuk setiap gender, dan kemudian menganalisis pelanggaran di setiap DataFrame secara terpisah."
   ]
  },
  {
   "cell_type": "code",
   "execution_count": 4,
   "metadata": {},
   "outputs": [
    {
     "name": "stdout",
     "output_type": "stream",
     "text": [
      "Speeding               0.658114\n",
      "Moving violation       0.138218\n",
      "Equipment              0.105199\n",
      "Registration/plates    0.044418\n",
      "Other                  0.029738\n",
      "Seat belt              0.024312\n",
      "Name: violation, dtype: float64\n",
      "Speeding               0.522243\n",
      "Moving violation       0.206144\n",
      "Equipment              0.134158\n",
      "Other                  0.058985\n",
      "Registration/plates    0.042175\n",
      "Seat belt              0.036296\n",
      "Name: violation, dtype: float64\n"
     ]
    }
   ],
   "source": [
    "# Create a DataFrame of female drivers\n",
    "female = ri[ri.driver_gender == 'F']\n",
    "\n",
    "# Create a DataFrame of male drivers\n",
    "male = ri[ri.driver_gender == 'M']\n",
    "\n",
    "# Compute the violations by female drivers (as proportions)\n",
    "print(female.violation.value_counts(normalize=True))\n",
    "\n",
    "# Compute the violations by male drivers (as proportions)\n",
    "print(male.violation.value_counts(normalize=True))"
   ]
  },
  {
   "cell_type": "markdown",
   "metadata": {},
   "source": [
    "**Note** : Sekitar dua pertiga dari perhentian lalu lintas perempuan melanggar batas kecepatan, sedangkan pemberhentian laki-laki lebih seimbang di antara enam kategori. Namun, ini tidak berarti bahwa wanita lebih cepat berpacu daripada pria, karena kami tidak memperhitungkan jumlah pemberhentian atau driver."
   ]
  },
  {
   "cell_type": "markdown",
   "metadata": {},
   "source": [
    "## Does gender affect who gets a ticket for speeding?\n",
    "\n",
    "### Filtering by multiple conditions\n",
    "\n",
    "Memfilter dataFrame `ri` untuk hanya menyertakan driver wanita yang dihentikan karena pelanggaran kecepatan.\n",
    "\n",
    "<pre>\n",
    "ri[(ri.driver_gender == 'F') & (ri.violation == 'Speeding')]\n",
    "</pre>"
   ]
  },
  {
   "cell_type": "markdown",
   "metadata": {},
   "source": [
    "### Comparing speeding outcomes by gender\n",
    "\n",
    "Ketika seorang pengemudi menepi karena ngebut, banyak orang percaya bahwa gender berdampak pada apakah pengemudi akan menerima tiket atau peringatan. Bisakah Anda menemukan bukti ini di dataset?\n",
    "\n",
    "Pertama, Anda akan membuat dua DataFrames driver yang dihentikan karena ngebut: satu berisi perempuan dan laki-laki lainnya berisi.\n",
    "\n",
    "Kemudian, untuk setiap jenis kelamin, Anda akan menggunakan kolom stop_outcome untuk menghitung berapa persentase pemberhentian yang menghasilkan \"Citation\" (artinya tiket) versus \"Warning\"."
   ]
  },
  {
   "cell_type": "code",
   "execution_count": 5,
   "metadata": {},
   "outputs": [
    {
     "name": "stdout",
     "output_type": "stream",
     "text": [
      "Citation            0.952192\n",
      "Warning             0.040074\n",
      "Arrest Driver       0.005752\n",
      "N/D                 0.000959\n",
      "Arrest Passenger    0.000639\n",
      "No Action           0.000383\n",
      "Name: stop_outcome, dtype: float64\n",
      "Citation            0.944595\n",
      "Warning             0.036184\n",
      "Arrest Driver       0.015895\n",
      "Arrest Passenger    0.001281\n",
      "No Action           0.001068\n",
      "N/D                 0.000976\n",
      "Name: stop_outcome, dtype: float64\n"
     ]
    }
   ],
   "source": [
    "# Create a DataFrame of female drivers stopped for speeding\n",
    "female_and_speeding = ri[(ri.driver_gender == 'F') & (ri.violation == 'Speeding')]\n",
    "\n",
    "# Create a DataFrame of male drivers stopped for speeding\n",
    "male_and_speeding = ri[(ri.driver_gender == 'M') & (ri.violation == 'Speeding')]\n",
    "\n",
    "# Compute the stop outcomes for female drivers (as proportions)\n",
    "print(female_and_speeding.stop_outcome.value_counts(normalize=True))\n",
    "\n",
    "# Compute the stop outcomes for male drivers (as proportions)\n",
    "print(male_and_speeding.stop_outcome.value_counts(normalize=True))"
   ]
  },
  {
   "cell_type": "markdown",
   "metadata": {},
   "source": [
    "**Note** : Menarik! Jumlahnya sama untuk pria dan wanita: sekitar 95% dari perhentian karena ngebut hasilnya tiket. Dengan demikian, data gagal menunjukkan bahwa gender berdampak pada siapa yang mendapatkan tiket karena ngebut."
   ]
  },
  {
   "cell_type": "markdown",
   "metadata": {},
   "source": [
    "## Does gender affect whose vehicle is searched?\n",
    "\n",
    "### Calculating the search rate\n",
    "\n",
    "Selama pemberhentian lalu lintas, petugas polisi terkadang melakukan pencarian kendaraan. Dalam latihan ini, Anda akan menghitung persentase semua perhentian di DataFrame `ri` yang menghasilkan pencarian kendaraan, juga dikenal sebagai tingkat pencarian."
   ]
  },
  {
   "cell_type": "code",
   "execution_count": 6,
   "metadata": {},
   "outputs": [
    {
     "name": "stdout",
     "output_type": "stream",
     "text": [
      "bool\n",
      "False    0.961785\n",
      "True     0.038215\n",
      "Name: search_conducted, dtype: float64\n",
      "0.0382153092354627\n"
     ]
    }
   ],
   "source": [
    "# Check the data type of 'search_conducted'\n",
    "print(ri.search_conducted.dtype)\n",
    "\n",
    "# Calculate the search rate by counting the values\n",
    "print(ri.search_conducted.value_counts(normalize=True))\n",
    "\n",
    "# Calculate the search rate by taking the mean\n",
    "print(ri.search_conducted.mean())"
   ]
  },
  {
   "cell_type": "markdown",
   "metadata": {},
   "source": [
    "**Note** : Sepertinya tingkat pencarian sekitar 3,8%. Selanjutnya, Anda akan memeriksa apakah tingkat pencarian bervariasi berdasarkan jenis kelamin pengemudi."
   ]
  },
  {
   "cell_type": "markdown",
   "metadata": {},
   "source": [
    "### Comparing search rates by gender\n",
    "\n",
    "Dalam latihan ini, Anda akan membandingkan angka pencarian pengemudi wanita dan pria selama pemberhentian lalu lintas. Ingat bahwa tingkat pencarian kendaraan di semua halte adalah sekitar 3,8%.\n",
    "\n",
    "Pertama, Anda akan memfilter DataFrame berdasarkan gender dan menghitung tingkat pencarian untuk setiap grup secara terpisah. Kemudian, Anda akan melakukan perhitungan yang sama untuk kedua jenis kelamin sekaligus menggunakan `.groupby()`."
   ]
  },
  {
   "cell_type": "code",
   "execution_count": 7,
   "metadata": {},
   "outputs": [
    {
     "name": "stdout",
     "output_type": "stream",
     "text": [
      "0.019180617481282074\n",
      "0.04542557598546892\n",
      "driver_gender\n",
      "F    0.019181\n",
      "M    0.045426\n",
      "Name: search_conducted, dtype: float64\n"
     ]
    }
   ],
   "source": [
    "# Calculate the search rate for female drivers\n",
    "print(ri[ri.driver_gender == 'F'].search_conducted.mean())\n",
    "\n",
    "# Calculate the search rate for male drivers\n",
    "print(ri[ri.driver_gender == 'M'].search_conducted.mean())\n",
    "\n",
    "# Calculate the search rate for each combination of gender and violation\n",
    "print(ri.groupby('driver_gender').search_conducted.mean())"
   ]
  },
  {
   "cell_type": "markdown",
   "metadata": {},
   "source": [
    "### Adding a second factor to the analysis\n",
    "\n",
    "Meskipun tingkat pencarian untuk pria jauh lebih tinggi daripada wanita, mungkin saja perbedaannya sebagian besar disebabkan oleh faktor kedua.\n",
    "\n",
    "Misalnya, Anda mungkin berhipotesis bahwa tingkat pencarian bervariasi berdasarkan jenis pelanggaran, dan perbedaan dalam tingkat pencarian antara pria dan wanita adalah karena mereka cenderung melakukan pelanggaran yang berbeda.\n",
    "\n",
    "Anda dapat menguji hipotesis ini dengan memeriksa tingkat pencarian untuk setiap kombinasi gender dan pelanggaran. Jika hipotesis itu benar, Anda akan menemukan bahwa pria dan wanita dicari pada tingkat yang sama untuk setiap pelanggaran. Cari tahu di bawah ini jika itu masalahnya!"
   ]
  },
  {
   "cell_type": "code",
   "execution_count": 8,
   "metadata": {},
   "outputs": [
    {
     "name": "stdout",
     "output_type": "stream",
     "text": [
      "driver_gender  violation          \n",
      "F              Equipment              0.039984\n",
      "               Moving violation       0.039257\n",
      "               Other                  0.041018\n",
      "               Registration/plates    0.054924\n",
      "               Seat belt              0.017301\n",
      "               Speeding               0.008309\n",
      "M              Equipment              0.071496\n",
      "               Moving violation       0.061524\n",
      "               Other                  0.046191\n",
      "               Registration/plates    0.108802\n",
      "               Seat belt              0.035119\n",
      "               Speeding               0.027885\n",
      "Name: search_conducted, dtype: float64\n"
     ]
    }
   ],
   "source": [
    "# Calculate the search rate for each combination of gender and violation\n",
    "print(ri.groupby(['driver_gender', 'violation']).search_conducted.mean())"
   ]
  },
  {
   "cell_type": "code",
   "execution_count": 9,
   "metadata": {},
   "outputs": [
    {
     "name": "stdout",
     "output_type": "stream",
     "text": [
      "violation            driver_gender\n",
      "Equipment            F                0.039984\n",
      "                     M                0.071496\n",
      "Moving violation     F                0.039257\n",
      "                     M                0.061524\n",
      "Other                F                0.041018\n",
      "                     M                0.046191\n",
      "Registration/plates  F                0.054924\n",
      "                     M                0.108802\n",
      "Seat belt            F                0.017301\n",
      "                     M                0.035119\n",
      "Speeding             F                0.008309\n",
      "                     M                0.027885\n",
      "Name: search_conducted, dtype: float64\n"
     ]
    }
   ],
   "source": [
    "# Reverse the ordering to group by violation before gender\n",
    "print(ri.groupby(['violation', 'driver_gender']).search_conducted.mean())"
   ]
  },
  {
   "cell_type": "markdown",
   "metadata": {},
   "source": [
    "**Note** : Untuk semua jenis pelanggaran, tingkat pencarian lebih tinggi untuk pria daripada wanita, menyangkal hipotesis kami."
   ]
  },
  {
   "cell_type": "markdown",
   "metadata": {},
   "source": [
    "## Does gender affect who is frisked during a search?\n",
    "\n",
    "### Counting protective frisks\n",
    "\n",
    "Selama pencarian kendaraan, petugas polisi dapat menepuk pengemudi untuk memeriksa apakah mereka memiliki senjata. Ini dikenal sebagai \"protective frisk.\"\n",
    "\n",
    "Dalam latihan ini, pertama-tama Anda akan memeriksa untuk melihat berapa kali \"Protective Frisk\" adalah satu-satunya jenis pencarian. Kemudian, Anda akan menggunakan metode string untuk menemukan semua contoh di mana driver itu digeledah."
   ]
  },
  {
   "cell_type": "code",
   "execution_count": 10,
   "metadata": {},
   "outputs": [
    {
     "name": "stdout",
     "output_type": "stream",
     "text": [
      "Incident to Arrest                                          1290\n",
      "Probable Cause                                               924\n",
      "Inventory                                                    219\n",
      "Reasonable Suspicion                                         214\n",
      "Protective Frisk                                             164\n",
      "Incident to Arrest,Inventory                                 123\n",
      "Incident to Arrest,Probable Cause                            100\n",
      "Probable Cause,Reasonable Suspicion                           54\n",
      "Incident to Arrest,Inventory,Probable Cause                   35\n",
      "Probable Cause,Protective Frisk                               35\n",
      "Incident to Arrest,Protective Frisk                           33\n",
      "Inventory,Probable Cause                                      25\n",
      "Protective Frisk,Reasonable Suspicion                         19\n",
      "Incident to Arrest,Inventory,Protective Frisk                 18\n",
      "Incident to Arrest,Probable Cause,Protective Frisk            13\n",
      "Inventory,Protective Frisk                                    12\n",
      "Incident to Arrest,Reasonable Suspicion                        8\n",
      "Probable Cause,Protective Frisk,Reasonable Suspicion           5\n",
      "Incident to Arrest,Probable Cause,Reasonable Suspicion         5\n",
      "Incident to Arrest,Inventory,Reasonable Suspicion              4\n",
      "Inventory,Reasonable Suspicion                                 2\n",
      "Incident to Arrest,Protective Frisk,Reasonable Suspicion       2\n",
      "Inventory,Probable Cause,Protective Frisk                      1\n",
      "Inventory,Protective Frisk,Reasonable Suspicion                1\n",
      "Inventory,Probable Cause,Reasonable Suspicion                  1\n",
      "Name: search_type, dtype: int64\n",
      "bool\n",
      "303\n"
     ]
    }
   ],
   "source": [
    "# Count the 'search_type' values\n",
    "print(ri.search_type.value_counts())\n",
    "\n",
    "# Check if 'search_type' contains the string 'Protective Frisk'\n",
    "ri['frisk'] = ri.search_type.str.contains('Protective Frisk', na=False)\n",
    "\n",
    "# Check the data type of 'frisk'\n",
    "print(ri.frisk.dtype)\n",
    "\n",
    "# Take the sum of 'frisk'\n",
    "print(ri.frisk.sum())"
   ]
  },
  {
   "cell_type": "markdown",
   "metadata": {},
   "source": [
    "**Note** : Sepertinya ada 303 driver yang digeledah. Selanjutnya, Anda akan memeriksa apakah jenis kelamin memengaruhi siapa yang digeledah."
   ]
  },
  {
   "cell_type": "markdown",
   "metadata": {},
   "source": [
    "### Comparing frisk rates by gender\n",
    "\n",
    "Dalam latihan ini, Anda akan membandingkan angka di mana pengemudi wanita dan pria digeledah selama pencarian. Apakah laki-laki digeledah lebih sering daripada perempuan, mungkin karena petugas polisi menganggap mereka berisiko lebih tinggi?\n",
    "\n",
    "Sebelum melakukan perhitungan apa pun, penting untuk memfilter DataFrame hanya menyertakan subset data yang relevan, yaitu berhenti di mana pencarian dilakukan (`search_conducted`)."
   ]
  },
  {
   "cell_type": "code",
   "execution_count": 11,
   "metadata": {},
   "outputs": [
    {
     "name": "stdout",
     "output_type": "stream",
     "text": [
      "0.09162382824312065\n",
      "driver_gender\n",
      "F    0.074561\n",
      "M    0.094353\n",
      "Name: frisk, dtype: float64\n"
     ]
    }
   ],
   "source": [
    "# Create a DataFrame of stops in which a search was conducted\n",
    "searched = ri[ri.search_conducted == True]\n",
    "\n",
    "# Calculate the overall frisk rate by taking the mean of 'frisk'\n",
    "print(searched.frisk.mean())\n",
    "\n",
    "# Calculate the frisk rate for each gender\n",
    "print(searched.groupby('driver_gender').frisk.mean())"
   ]
  },
  {
   "cell_type": "markdown",
   "metadata": {},
   "source": [
    "**Note** : Tingkat frisk lebih tinggi untuk pria daripada wanita, meskipun kami tidak dapat menyimpulkan bahwa perbedaan ini disebabkan oleh jenis kelamin pengemudi."
   ]
  },
  {
   "cell_type": "code",
   "execution_count": null,
   "metadata": {},
   "outputs": [],
   "source": []
  }
 ],
 "metadata": {
  "kernelspec": {
   "display_name": "Python 3",
   "language": "python",
   "name": "python3"
  },
  "language_info": {
   "codemirror_mode": {
    "name": "ipython",
    "version": 3
   },
   "file_extension": ".py",
   "mimetype": "text/x-python",
   "name": "python",
   "nbconvert_exporter": "python",
   "pygments_lexer": "ipython3",
   "version": "3.7.3"
  }
 },
 "nbformat": 4,
 "nbformat_minor": 2
}
