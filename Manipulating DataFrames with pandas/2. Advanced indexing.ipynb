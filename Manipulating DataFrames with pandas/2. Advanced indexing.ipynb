{
 "cells": [
  {
   "cell_type": "markdown",
   "metadata": {},
   "source": [
    "# 2. Advanced indexing\n",
    "\n",
    "Setelah mempelajari dasar-dasar bekerja dengan DataFrames, Anda sekarang akan beralih ke teknik pengindeksan yang lebih maju. Anda akan belajar tentang MultiIndex, atau indeks hierarkis, dan belajar bagaimana berinteraksi dengan dan mengekstrak data dari mereka."
   ]
  },
  {
   "cell_type": "markdown",
   "metadata": {},
   "source": [
    "## Index objects and labeled data\n",
    "\n",
    "### Index values and names\n",
    "\n",
    "Manakah dari operasi indeks berikut ini yang tidak menimbulkan kesalahan?\n",
    "\n",
    "**SALAH**\n",
    "* <pre>sales.index[0] = 'JAN'</pre>\n",
    "* <pre>sales.index[0] = sales.index[0].upper()</pre>\n",
    "\n",
    "DataFrame `sales` yang telah Anda lihat dalam video bab sebelumnya telah dimuat sebelumnya untuk Anda dan tersedia untuk eksplorasi di IPython Shell."
   ]
  },
  {
   "cell_type": "code",
   "execution_count": 2,
   "metadata": {},
   "outputs": [],
   "source": [
    "# Import pandas \n",
    "import pandas as pd"
   ]
  },
  {
   "cell_type": "code",
   "execution_count": 14,
   "metadata": {},
   "outputs": [
    {
     "data": {
      "text/html": [
       "<div>\n",
       "<style scoped>\n",
       "    .dataframe tbody tr th:only-of-type {\n",
       "        vertical-align: middle;\n",
       "    }\n",
       "\n",
       "    .dataframe tbody tr th {\n",
       "        vertical-align: top;\n",
       "    }\n",
       "\n",
       "    .dataframe thead th {\n",
       "        text-align: right;\n",
       "    }\n",
       "</style>\n",
       "<table border=\"1\" class=\"dataframe\">\n",
       "  <thead>\n",
       "    <tr style=\"text-align: right;\">\n",
       "      <th></th>\n",
       "      <th>eggs</th>\n",
       "      <th>salt</th>\n",
       "      <th>spam</th>\n",
       "    </tr>\n",
       "    <tr>\n",
       "      <th>month</th>\n",
       "      <th></th>\n",
       "      <th></th>\n",
       "      <th></th>\n",
       "    </tr>\n",
       "  </thead>\n",
       "  <tbody>\n",
       "    <tr>\n",
       "      <th>Jan</th>\n",
       "      <td>47</td>\n",
       "      <td>12.0</td>\n",
       "      <td>17</td>\n",
       "    </tr>\n",
       "    <tr>\n",
       "      <th>Feb</th>\n",
       "      <td>110</td>\n",
       "      <td>50.0</td>\n",
       "      <td>31</td>\n",
       "    </tr>\n",
       "    <tr>\n",
       "      <th>Mar</th>\n",
       "      <td>221</td>\n",
       "      <td>89.0</td>\n",
       "      <td>72</td>\n",
       "    </tr>\n",
       "    <tr>\n",
       "      <th>Apr</th>\n",
       "      <td>77</td>\n",
       "      <td>87.0</td>\n",
       "      <td>20</td>\n",
       "    </tr>\n",
       "    <tr>\n",
       "      <th>May</th>\n",
       "      <td>132</td>\n",
       "      <td>NaN</td>\n",
       "      <td>52</td>\n",
       "    </tr>\n",
       "    <tr>\n",
       "      <th>Jun</th>\n",
       "      <td>205</td>\n",
       "      <td>60.0</td>\n",
       "      <td>55</td>\n",
       "    </tr>\n",
       "  </tbody>\n",
       "</table>\n",
       "</div>"
      ],
      "text/plain": [
       "       eggs  salt  spam\n",
       "month                  \n",
       "Jan      47  12.0    17\n",
       "Feb     110  50.0    31\n",
       "Mar     221  89.0    72\n",
       "Apr      77  87.0    20\n",
       "May     132   NaN    52\n",
       "Jun     205  60.0    55"
      ]
     },
     "execution_count": 14,
     "metadata": {},
     "output_type": "execute_result"
    }
   ],
   "source": [
    "# Load data\n",
    "sales = pd.read_csv('sales_build.csv', index_col='month')\n",
    "sales"
   ]
  },
  {
   "cell_type": "code",
   "execution_count": 15,
   "metadata": {},
   "outputs": [
    {
     "data": {
      "text/html": [
       "<div>\n",
       "<style scoped>\n",
       "    .dataframe tbody tr th:only-of-type {\n",
       "        vertical-align: middle;\n",
       "    }\n",
       "\n",
       "    .dataframe tbody tr th {\n",
       "        vertical-align: top;\n",
       "    }\n",
       "\n",
       "    .dataframe thead th {\n",
       "        text-align: right;\n",
       "    }\n",
       "</style>\n",
       "<table border=\"1\" class=\"dataframe\">\n",
       "  <thead>\n",
       "    <tr style=\"text-align: right;\">\n",
       "      <th></th>\n",
       "      <th>eggs</th>\n",
       "      <th>salt</th>\n",
       "      <th>spam</th>\n",
       "    </tr>\n",
       "  </thead>\n",
       "  <tbody>\n",
       "    <tr>\n",
       "      <th>0</th>\n",
       "      <td>47</td>\n",
       "      <td>12.0</td>\n",
       "      <td>17</td>\n",
       "    </tr>\n",
       "    <tr>\n",
       "      <th>1</th>\n",
       "      <td>110</td>\n",
       "      <td>50.0</td>\n",
       "      <td>31</td>\n",
       "    </tr>\n",
       "    <tr>\n",
       "      <th>2</th>\n",
       "      <td>221</td>\n",
       "      <td>89.0</td>\n",
       "      <td>72</td>\n",
       "    </tr>\n",
       "    <tr>\n",
       "      <th>3</th>\n",
       "      <td>77</td>\n",
       "      <td>87.0</td>\n",
       "      <td>20</td>\n",
       "    </tr>\n",
       "    <tr>\n",
       "      <th>4</th>\n",
       "      <td>132</td>\n",
       "      <td>NaN</td>\n",
       "      <td>52</td>\n",
       "    </tr>\n",
       "    <tr>\n",
       "      <th>5</th>\n",
       "      <td>205</td>\n",
       "      <td>60.0</td>\n",
       "      <td>55</td>\n",
       "    </tr>\n",
       "  </tbody>\n",
       "</table>\n",
       "</div>"
      ],
      "text/plain": [
       "   eggs  salt  spam\n",
       "0    47  12.0    17\n",
       "1   110  50.0    31\n",
       "2   221  89.0    72\n",
       "3    77  87.0    20\n",
       "4   132   NaN    52\n",
       "5   205  60.0    55"
      ]
     },
     "execution_count": 15,
     "metadata": {},
     "output_type": "execute_result"
    }
   ],
   "source": [
    "sales.index = range(len(sales))\n",
    "sales"
   ]
  },
  {
   "cell_type": "markdown",
   "metadata": {},
   "source": [
    "### Changing index of a DataFrame\n",
    "\n",
    "Seperti yang Anda lihat pada latihan sebelumnya, indeks adalah objek yang tidak dapat diubah. Ini berarti bahwa jika Anda ingin mengubah atau memodifikasi indeks dalam DataFrame, maka Anda perlu mengubah seluruh indeks. Anda akan melakukan ini sekarang, menggunakan *list comprehension* untuk membuat indeks baru.\n",
    "\n",
    "*List comprehension* adalah cara ringkas untuk menghasilkan list dalam satu baris. Misalnya,*list comprehension* berikut menghasilkan list yang berisi kubus semua angka dari 0 hingga 9:\n",
    "`cubes = [i**3 for i in range(10)]`\n",
    "Ini setara dengan kode berikut:\n",
    "\n",
    "<pre>\n",
    "cubes = []\n",
    "for i in range(10):\n",
    "    cubes.append(i**3)\n",
    "</pre>\n",
    "\n",
    "Sebelum memulai, cetak DataFrame `sales` di IPython Shell dan verifikasi bahwa indeks diberikan oleh singkatan bulan yang berisi karakter huruf kecil."
   ]
  },
  {
   "cell_type": "code",
   "execution_count": 8,
   "metadata": {},
   "outputs": [
    {
     "name": "stdout",
     "output_type": "stream",
     "text": [
      "       eggs  salt  spam\n",
      "month                  \n",
      "Jan      47  12.0    17\n",
      "Feb     110  50.0    31\n",
      "Mar     221  89.0    72\n",
      "Apr      77  87.0    20\n",
      "May     132   NaN    52\n",
      "Jun     205  60.0    55\n"
     ]
    }
   ],
   "source": [
    "# Load data\n",
    "sales = pd.read_csv('sales_build.csv', index_col='month')\n",
    "print(sales)"
   ]
  },
  {
   "cell_type": "code",
   "execution_count": 9,
   "metadata": {},
   "outputs": [
    {
     "name": "stdout",
     "output_type": "stream",
     "text": [
      "     eggs  salt  spam\n",
      "JAN    47  12.0    17\n",
      "FEB   110  50.0    31\n",
      "MAR   221  89.0    72\n",
      "APR    77  87.0    20\n",
      "MAY   132   NaN    52\n",
      "JUN   205  60.0    55\n"
     ]
    }
   ],
   "source": [
    "# Create the list of new indexes: new_idx\n",
    "new_idx = [i.upper() for i in sales.index]\n",
    "\n",
    "# Assign new_idx to sales.index\n",
    "sales.index = new_idx\n",
    "\n",
    "# Print the sales DataFrame\n",
    "print(sales)"
   ]
  },
  {
   "cell_type": "markdown",
   "metadata": {},
   "source": [
    "**Note** : Perhatikan indeks baru DataFrame!"
   ]
  },
  {
   "cell_type": "markdown",
   "metadata": {},
   "source": [
    "### Changing index name labels\n",
    "\n",
    "Perhatikan bahwa pada latihan sebelumnya, indeks tidak diberi label dengan nama. Dalam latihan ini, Anda akan menetapkan namanya menjadi `'MONTHS'`.\n",
    "\n",
    "Demikian pula, jika semua kolom terkait dalam beberapa cara, Anda dapat memberikan label untuk kumpulan kolom.\n",
    "\n",
    "Untuk memulai, cetak DataFrame `sales` di IPython Shell dan verifikasi bahwa indeks tidak memiliki nama, hanya datanya (nama bulan)."
   ]
  },
  {
   "cell_type": "code",
   "execution_count": 10,
   "metadata": {},
   "outputs": [
    {
     "name": "stdout",
     "output_type": "stream",
     "text": [
      "        eggs  salt  spam\n",
      "MONTHS                  \n",
      "JAN       47  12.0    17\n",
      "FEB      110  50.0    31\n",
      "MAR      221  89.0    72\n",
      "APR       77  87.0    20\n",
      "MAY      132   NaN    52\n",
      "JUN      205  60.0    55\n",
      "PRODUCTS  eggs  salt  spam\n",
      "MONTHS                    \n",
      "JAN         47  12.0    17\n",
      "FEB        110  50.0    31\n",
      "MAR        221  89.0    72\n",
      "APR         77  87.0    20\n",
      "MAY        132   NaN    52\n",
      "JUN        205  60.0    55\n"
     ]
    }
   ],
   "source": [
    "# Assign the string 'MONTHS' to sales.index.name\n",
    "sales.index.name = 'MONTHS'\n",
    "\n",
    "# Print the sales DataFrame\n",
    "print(sales)\n",
    "\n",
    "# Assign the string 'PRODUCTS' to sales.columns.name \n",
    "sales.columns.name = 'PRODUCTS'\n",
    "\n",
    "# Print the sales dataframe again\n",
    "print(sales)"
   ]
  },
  {
   "cell_type": "markdown",
   "metadata": {},
   "source": [
    "**Note** : Perhatikan bagaimana dalam DataFrame pertama, indeks memiliki label, dan di DataFrame kedua, baik indeks maupun kolom memiliki label."
   ]
  },
  {
   "cell_type": "markdown",
   "metadata": {},
   "source": [
    "### Building an index, then a DataFrame\n",
    "\n",
    "Anda juga bisa membuat DataFrame dan indeks secara mandiri, lalu menggabungkannya. Jika Anda mengambil rute ini, berhati-hatilah, karena setiap kesalahan dalam menghasilkan DataFrame atau indeks dapat menyebabkan data dan indeks tidak selaras.\n",
    "\n",
    "Dalam latihan ini, DataFrame `sales` telah disediakan untuk Anda tanpa indeks bulan. Tugas Anda adalah membuat indeks ini secara terpisah dan kemudian menugaskannya ke DataFrame `sales`. Sebelum memulai, cetak DataFrame `sales` di IPython Shell dan catat bahwa informasi bulan itu hilang."
   ]
  },
  {
   "cell_type": "code",
   "execution_count": 16,
   "metadata": {},
   "outputs": [
    {
     "name": "stdout",
     "output_type": "stream",
     "text": [
      "   eggs  salt  spam\n",
      "0    47  12.0    17\n",
      "1   110  50.0    31\n",
      "2   221  89.0    72\n",
      "3    77  87.0    20\n",
      "4   132   NaN    52\n",
      "5   205  60.0    55\n"
     ]
    }
   ],
   "source": [
    "print(sales)"
   ]
  },
  {
   "cell_type": "code",
   "execution_count": 17,
   "metadata": {},
   "outputs": [
    {
     "name": "stdout",
     "output_type": "stream",
     "text": [
      "     eggs  salt  spam\n",
      "Jan    47  12.0    17\n",
      "Feb   110  50.0    31\n",
      "Mar   221  89.0    72\n",
      "Apr    77  87.0    20\n",
      "May   132   NaN    52\n",
      "Jun   205  60.0    55\n"
     ]
    }
   ],
   "source": [
    "# Generate the list of months: months\n",
    "months = ['Jan', 'Feb', 'Mar', 'Apr', 'May', 'Jun']\n",
    "\n",
    "# Assign months to sales.index\n",
    "sales.index = months\n",
    "\n",
    "# Print the modified sales DataFrame\n",
    "print(sales)"
   ]
  },
  {
   "cell_type": "markdown",
   "metadata": {},
   "source": [
    "**Note** : Anda terbiasa bekerja dengan indeks. Sekarang Anda akan beralih ke belajar tentang indeks hierarkis!"
   ]
  },
  {
   "cell_type": "markdown",
   "metadata": {},
   "source": [
    "## Hierarchical indexing\n",
    "\n",
    "### Extracting data with a MultiIndex\n",
    "\n",
    "Dalam video, Dhavide menjelaskan konsep indeks hierarkis, atau MultiIndex. Anda sekarang akan berlatih bekerja dengan jenis indeks ini.\n",
    "\n",
    "DataFrame `sales` yang telah Anda kerjakan telah diperluas hingga kini mencakup informasi Negara juga. Di Shell IPython, cetak DataFrame `sales` baru untuk memeriksa data. Perhatikan MultiIndex!\n",
    "\n",
    "Mengekstrak elemen dari level terluar `MultiIndex` sama seperti dalam kasus `Index` level tunggal. Anda dapat menggunakan accessor `.loc[]`."
   ]
  },
  {
   "cell_type": "code",
   "execution_count": 26,
   "metadata": {},
   "outputs": [
    {
     "name": "stdout",
     "output_type": "stream",
     "text": [
      "             eggs  salt  spam\n",
      "state month                  \n",
      "CA    1        47  12.0    17\n",
      "      2       110  50.0    31\n",
      "NY    1       221  89.0    72\n",
      "      2        77  87.0    20\n",
      "TX    1       132   NaN    52\n",
      "      2       205  60.0    55\n"
     ]
    }
   ],
   "source": [
    "# Load data\n",
    "sales = pd.read_csv('sales_build.csv')\n",
    "# Create new data columns\n",
    "sales['month'] = [1, 2, 1, 2, 1, 2]\n",
    "sales['state'] = ['CA', 'CA', 'NY', 'NY', 'TX', 'TX']\n",
    "# Create MultiIndex\n",
    "sales = sales.set_index(['state', 'month'])\n",
    "# Print data\n",
    "print(sales)"
   ]
  },
  {
   "cell_type": "code",
   "execution_count": 27,
   "metadata": {},
   "outputs": [
    {
     "name": "stdout",
     "output_type": "stream",
     "text": [
      "             eggs  salt  spam\n",
      "state month                  \n",
      "CA    1        47  12.0    17\n",
      "      2       110  50.0    31\n",
      "TX    1       132   NaN    52\n",
      "      2       205  60.0    55\n",
      "             eggs  salt  spam\n",
      "state month                  \n",
      "CA    1        47  12.0    17\n",
      "      2       110  50.0    31\n",
      "NY    1       221  89.0    72\n",
      "      2        77  87.0    20\n",
      "TX    1       132   NaN    52\n",
      "      2       205  60.0    55\n"
     ]
    }
   ],
   "source": [
    "# Print sales.loc[['CA', 'TX']]\n",
    "print(sales.loc[['CA', 'TX']])\n",
    "\n",
    "# Print sales['CA':'TX']\n",
    "print(sales['CA':'TX'])"
   ]
  },
  {
   "cell_type": "markdown",
   "metadata": {},
   "source": [
    "**Note** : Perhatikan bagaimana New York dikecualikan oleh operasi pertama, dan dimasukkan dalam operasi kedua."
   ]
  },
  {
   "cell_type": "markdown",
   "metadata": {},
   "source": [
    "### Setting & sorting a MultiIndex\n",
    "\n",
    "Dalam latihan sebelumnya, MultiIndex dibuat dan disortir untuk Anda. Sekarang, Anda akan melakukannya sendiri! Dengan MultiIndex, Anda harus selalu memastikan indeks diurutkan. Anda dapat melewati ini hanya jika Anda tahu data sudah diurutkan pada bidang indeks."
   ]
  },
  {
   "cell_type": "code",
   "execution_count": 28,
   "metadata": {},
   "outputs": [
    {
     "name": "stdout",
     "output_type": "stream",
     "text": [
      "   month  eggs  salt  spam state\n",
      "0      1    47  12.0    17    CA\n",
      "1      2   110  50.0    31    CA\n",
      "2      1   221  89.0    72    NY\n",
      "3      2    77  87.0    20    NY\n",
      "4      1   132   NaN    52    TX\n",
      "5      2   205  60.0    55    TX\n"
     ]
    }
   ],
   "source": [
    "# Load data\n",
    "sales = pd.read_csv('sales_build.csv')\n",
    "\n",
    "# Create new data columns\n",
    "sales['month'] = [1, 2, 1, 2, 1, 2]\n",
    "sales['state'] = ['CA', 'CA', 'NY', 'NY', 'TX', 'TX']\n",
    "\n",
    "# Print data\n",
    "print(sales)"
   ]
  },
  {
   "cell_type": "code",
   "execution_count": 29,
   "metadata": {},
   "outputs": [
    {
     "name": "stdout",
     "output_type": "stream",
     "text": [
      "             eggs  salt  spam\n",
      "state month                  \n",
      "CA    1        47  12.0    17\n",
      "      2       110  50.0    31\n",
      "NY    1       221  89.0    72\n",
      "      2        77  87.0    20\n",
      "TX    1       132   NaN    52\n",
      "      2       205  60.0    55\n"
     ]
    }
   ],
   "source": [
    "# Set the index to be the columns ['state', 'month']: sales\n",
    "sales = sales.set_index(['state', 'month'])\n",
    "\n",
    "# Sort the MultiIndex: sales\n",
    "sales = sales.sort_index()\n",
    "\n",
    "# Print the sales DataFrame\n",
    "print(sales)"
   ]
  },
  {
   "cell_type": "markdown",
   "metadata": {},
   "source": [
    "### Using .loc[] with nonunique indexes\n",
    "\n",
    "selalu lebih baik untuk memiliki indeks yang bermakna yang secara unik mengidentifikasi setiap baris. Meskipun pandas tidak memerlukan nilai indeks unik dalam DataFrames, pandas berfungsi lebih baik jika nilai indeks memang unik. Untuk melihat contohnya, Anda akan mengindeks data `sales` Anda dengan `'state'` dalam latihan ini."
   ]
  },
  {
   "cell_type": "code",
   "execution_count": 30,
   "metadata": {},
   "outputs": [
    {
     "name": "stdout",
     "output_type": "stream",
     "text": [
      "   month  eggs  salt  spam state\n",
      "0      1    47  12.0    17    CA\n",
      "1      2   110  50.0    31    CA\n",
      "2      1   221  89.0    72    NY\n",
      "3      2    77  87.0    20    NY\n",
      "4      1   132   NaN    52    TX\n",
      "5      2   205  60.0    55    TX\n"
     ]
    }
   ],
   "source": [
    "# Load data\n",
    "sales = pd.read_csv('sales_build.csv')\n",
    "\n",
    "# Create new data columns\n",
    "sales['month'] = [1, 2, 1, 2, 1, 2]\n",
    "sales['state'] = ['CA', 'CA', 'NY', 'NY', 'TX', 'TX']\n",
    "\n",
    "# Print data\n",
    "print(sales)"
   ]
  },
  {
   "cell_type": "code",
   "execution_count": 31,
   "metadata": {},
   "outputs": [
    {
     "name": "stdout",
     "output_type": "stream",
     "text": [
      "       month  eggs  salt  spam\n",
      "state                         \n",
      "CA         1    47  12.0    17\n",
      "CA         2   110  50.0    31\n",
      "NY         1   221  89.0    72\n",
      "NY         2    77  87.0    20\n",
      "TX         1   132   NaN    52\n",
      "TX         2   205  60.0    55\n",
      "       month  eggs  salt  spam\n",
      "state                         \n",
      "NY         1   221  89.0    72\n",
      "NY         2    77  87.0    20\n"
     ]
    }
   ],
   "source": [
    "# Set the index to the column 'state': sales\n",
    "sales = sales.set_index(['state'])\n",
    "\n",
    "# Print the sales DataFrame\n",
    "print(sales)\n",
    "\n",
    "# Access the data from 'NY'\n",
    "print(sales.loc['NY'])"
   ]
  },
  {
   "cell_type": "markdown",
   "metadata": {},
   "source": [
    "**Note** : Di sini, karena Anda memiliki indeks nonunique, dua baris ditampilkan."
   ]
  },
  {
   "cell_type": "markdown",
   "metadata": {},
   "source": [
    "### Indexing multiple levels of a MultiIndex\n",
    "\n",
    "Mencari data yang diindeks cepat dan efisien. Dan Anda telah melihat bahwa pencarian berdasarkan level terluar dari suatu pekerjaan `MultiIndex` seperti pencarian pada DataFrames yang memiliki `Index` satu tingkat.\n",
    "\n",
    "Mencari data berdasarkan level dalam `MultiIndex` bisa sedikit lebih rumit. Yang paling sulit dari semua pencarian ini adalah ketika Anda ingin mengakses beberapa level dalam indeks. Dalam hal ini, Anda perlu menggunakan `slice(None)` di parameter slicing untuk dimensi terluar daripada yang biasa `:`, atau gunakan `pd.IndexSlice`. Anda dapat merujuk ke [dokumentasi pandas](http://pandas.pydata.org/pandas-docs/stable/advanced.html) untuk lebih jelasnya. Misalnya, dalam video, Dhavide menggunakan kode berikut untuk mengekstrak baris dari semua Simbol untuk tanggal 3 Oktober hingga 4 termasuk:\n",
    "\n",
    "<pre>\n",
    "stocks.loc[(slice(None), slice('2016-10-03', '2016-10-04')), :]\n",
    "</pre>\n",
    "\n",
    "Berikan perhatian khusus pada tuple `(slice(None), slice('2016-10-03', '2016-10-04'))`."
   ]
  },
  {
   "cell_type": "code",
   "execution_count": 33,
   "metadata": {},
   "outputs": [
    {
     "name": "stdout",
     "output_type": "stream",
     "text": [
      "             eggs  salt  spam\n",
      "state month                  \n",
      "CA    1        47  12.0    17\n",
      "      2       110  50.0    31\n",
      "NY    1       221  89.0    72\n",
      "      2        77  87.0    20\n",
      "TX    1       132   NaN    52\n",
      "      2       205  60.0    55\n"
     ]
    }
   ],
   "source": [
    "# Load data\n",
    "sales = pd.read_csv('sales_build.csv')\n",
    "# Create new data columns\n",
    "sales['month'] = [1, 2, 1, 2, 1, 2]\n",
    "sales['state'] = ['CA', 'CA', 'NY', 'NY', 'TX', 'TX']\n",
    "# Create MultiIndex\n",
    "sales = sales.set_index(['state', 'month'])\n",
    "# Print data\n",
    "print(sales)"
   ]
  },
  {
   "cell_type": "code",
   "execution_count": 36,
   "metadata": {},
   "outputs": [
    {
     "name": "stdout",
     "output_type": "stream",
     "text": [
      "eggs    221.0\n",
      "salt     89.0\n",
      "spam     72.0\n",
      "Name: (NY, 1), dtype: float64\n",
      "             eggs  salt  spam\n",
      "state month                  \n",
      "CA    2       110  50.0    31\n",
      "TX    2       205  60.0    55\n",
      "             eggs  salt  spam\n",
      "state month                  \n",
      "CA    2       110  50.0    31\n",
      "NY    2        77  87.0    20\n",
      "TX    2       205  60.0    55\n"
     ]
    }
   ],
   "source": [
    "# Look up data for NY in month 1 in sales: NY_month1\n",
    "NY_month1 = sales.loc[('NY', 1)]\n",
    "print(NY_month1)\n",
    "\n",
    "# Look up data for CA and TX in month 2: CA_TX_month2\n",
    "CA_TX_month2 = sales.loc[(['CA', 'TX'], 2), :]\n",
    "print(CA_TX_month2)\n",
    "\n",
    "# Access the inner month index and look up data for all states in month 2: all_month2\n",
    "all_month2 = sales.loc[(slice(None), 2), :]\n",
    "print(all_month2)"
   ]
  },
  {
   "cell_type": "markdown",
   "metadata": {},
   "source": [
    "**Note** : Sekarang setelah Anda menguasai cara bekerja dengan indeks, Anda siap untuk mulai belajar mengatur ulang (*rearranging*) dan membentuk kembali (*reshaping*) data Anda. Sampai jumpa di Bab 3!"
   ]
  },
  {
   "cell_type": "code",
   "execution_count": null,
   "metadata": {},
   "outputs": [],
   "source": []
  }
 ],
 "metadata": {
  "kernelspec": {
   "display_name": "Python 3",
   "language": "python",
   "name": "python3"
  },
  "language_info": {
   "codemirror_mode": {
    "name": "ipython",
    "version": 3
   },
   "file_extension": ".py",
   "mimetype": "text/x-python",
   "name": "python",
   "nbconvert_exporter": "python",
   "pygments_lexer": "ipython3",
   "version": "3.7.3"
  }
 },
 "nbformat": 4,
 "nbformat_minor": 2
}
