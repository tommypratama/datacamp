{
 "cells": [
  {
   "cell_type": "markdown",
   "metadata": {},
   "source": [
    "# 3. Rearranging and reshaping data\n",
    "\n",
    "Di sini, Anda akan belajar cara membentuk kembali DataFrames Anda menggunakan teknik seperti pivoting, melting, stacking, dan unstacking. Ini adalah teknik yang kuat yang memungkinkan Anda untuk merapikan dan menyusun kembali data Anda ke dalam format optimal untuk analisis data."
   ]
  },
  {
   "cell_type": "markdown",
   "metadata": {},
   "source": [
    "## Pivoting DataFrames\n",
    "\n",
    "### Pivoting and the index\n",
    "\n",
    "Sebelum menggunakan `.pivot()`, Anda perlu mengatur indeks DataFrame dengan cara apa pun. Apakah pernyataan ini benar atau salah?\n",
    "\n",
    "**FALSE**"
   ]
  },
  {
   "cell_type": "markdown",
   "metadata": {},
   "source": [
    "### Pivoting a single variable\n",
    "\n",
    "Misalkan Anda memulai blog untuk sebuah band, dan Anda ingin mencatat berapa banyak pengunjung yang Anda miliki, dan berapa banyak yang mendaftar untuk buletin Anda. Untuk membantu merancang tur nanti, Anda melacak di mana pengunjung berada. DataFrame `users` yang digunakan terdiri dari informasi ini telah dimuat sebelumnya untuk Anda.\n",
    "\n",
    "Periksa `users` di IPython Shell dan catat variabel mana yang ingin Anda gunakan untuk mengindeks baris ('`weekday`'), variabel mana yang ingin Anda gunakan untuk mengindeks kolom ('`city`'), dan variabel mana yang akan mengisi nilai dalam sel ('`visitors`'). Coba bayangkan apa hasilnya.\n",
    "\n",
    "Dalam latihan ini, tugas Anda adalah pivot `users` sehingga fokusnya adalah pada `'visitors'`, dengan kolom diindeks oleh `'city'` dan baris diindeks oleh '`weekday'`."
   ]
  },
  {
   "cell_type": "code",
   "execution_count": 13,
   "metadata": {},
   "outputs": [
    {
     "name": "stdout",
     "output_type": "stream",
     "text": [
      "  weekday    city  visitors  signups\n",
      "0     Sun  Austin       139        7\n",
      "1     Sun  Dallas       237       12\n",
      "2     Mon  Austin       326        3\n",
      "3     Mon  Dallas       456        5\n"
     ]
    }
   ],
   "source": [
    "# Import pandas \n",
    "import pandas as pd\n",
    "\n",
    "# Load data\n",
    "users = pd.read_csv('https://assets.datacamp.com/production/repositories/502/datasets/eaf29468b9fbaad454a74d3c2b59b36e5ab4558b/users.csv', index_col=0)\n",
    "print(users)"
   ]
  },
  {
   "cell_type": "code",
   "execution_count": 5,
   "metadata": {},
   "outputs": [
    {
     "name": "stdout",
     "output_type": "stream",
     "text": [
      "city     Austin  Dallas\n",
      "weekday                \n",
      "Mon         326     456\n",
      "Sun         139     237\n"
     ]
    }
   ],
   "source": [
    "# Pivot the users DataFrame: visitors_pivot\n",
    "visitors_pivot = users.pivot(index='weekday', columns='city', values='visitors')\n",
    "\n",
    "# Print the pivoted DataFrame\n",
    "print(visitors_pivot)"
   ]
  },
  {
   "cell_type": "markdown",
   "metadata": {},
   "source": [
    "### Pivoting all variables\n",
    "\n",
    "Jika Anda tidak memilih variabel tertentu, semuanya akan dipivot. Dalam hal ini - dengan `users` DataFrame - `'visitors'` dan `'signups'` akan dipivot, membuat label kolom hierarkis."
   ]
  },
  {
   "cell_type": "code",
   "execution_count": 6,
   "metadata": {},
   "outputs": [
    {
     "name": "stdout",
     "output_type": "stream",
     "text": [
      "city     Austin  Dallas\n",
      "weekday                \n",
      "Mon           3       5\n",
      "Sun           7      12\n",
      "        visitors        signups       \n",
      "city      Austin Dallas  Austin Dallas\n",
      "weekday                               \n",
      "Mon          326    456       3      5\n",
      "Sun          139    237       7     12\n"
     ]
    }
   ],
   "source": [
    "# Pivot users with signups indexed by weekday and city: signups_pivot\n",
    "signups_pivot = users.pivot(index='weekday', columns='city', values='signups')\n",
    "\n",
    "# Print signups_pivot\n",
    "print(signups_pivot)\n",
    "\n",
    "# Pivot users pivoted by both signups and visitors: pivot\n",
    "pivot = users.pivot(index='weekday', columns='city')\n",
    "\n",
    "# Print the pivoted DataFrame\n",
    "print(pivot)"
   ]
  },
  {
   "cell_type": "markdown",
   "metadata": {},
   "source": [
    "**Note** : Perhatikan bagaimana dalam DataFrame kedua, `'signups'` dan `'visitors'` dipivot secara default karena Anda tidak memberikan argumen untuk parameter `values`."
   ]
  },
  {
   "cell_type": "markdown",
   "metadata": {},
   "source": [
    "## Stacking & unstacking DataFrames\n",
    "\n",
    "### Stacking & unstacking I\n",
    "\n",
    "Anda sekarang akan berlatih stacking dan unstacking DataFrames. DataFrame `users` yang telah Anda kerjakan dalam bab ini telah dimuat sebelumnya untuk Anda, kali ini dengan MultiIndex. Jelajahi di IPython Shell untuk melihat tata letak data. Perhatikan indeks, dan perhatikan bahwa level indeks adalah `['city', 'weekday']`. Jadi `'weekday'` - entri kedua - memiliki posisi 1. Posisi ini sesuai dengan parameter level dalam `.stack()` dan `.unstack()`. Atau, Anda dapat menentukan `'weekday'` sebagai level alih-alih posisinya.\n",
    "\n",
    "Tugas Anda dalam latihan ini adalah unstack `users` pada `'weekday'`. Anda kemudian akan menggunakan `.stack()` pada DataFrame yang unstacked untuk melihat apakah Anda mendapatkan kembali tata letak `users` yang asli."
   ]
  },
  {
   "cell_type": "code",
   "execution_count": 17,
   "metadata": {},
   "outputs": [
    {
     "name": "stdout",
     "output_type": "stream",
     "text": [
      "                visitors  signups\n",
      "city   weekday                   \n",
      "Austin Sun           139        7\n",
      "Dallas Sun           237       12\n",
      "Austin Mon           326        3\n",
      "Dallas Mon           456        5\n"
     ]
    }
   ],
   "source": [
    "# Load data\n",
    "filename = 'https://assets.datacamp.com/production/repositories/502/datasets/eaf29468b9fbaad454a74d3c2b59b36e5ab4558b/users.csv'\n",
    "users = pd.read_csv(filename, index_col=0, )\n",
    "users = users.set_index(['city', 'weekday'])\n",
    "print(users)"
   ]
  },
  {
   "cell_type": "code",
   "execution_count": 10,
   "metadata": {},
   "outputs": [
    {
     "name": "stdout",
     "output_type": "stream",
     "text": [
      "        visitors      signups    \n",
      "weekday      Mon  Sun     Mon Sun\n",
      "city                             \n",
      "Austin       326  139       3   7\n",
      "Dallas       456  237       5  12\n",
      "                visitors  signups\n",
      "city   weekday                   \n",
      "Austin Mon           326        3\n",
      "       Sun           139        7\n",
      "Dallas Mon           456        5\n",
      "       Sun           237       12\n"
     ]
    }
   ],
   "source": [
    "# Unstack users by 'weekday': byweekday\n",
    "byweekday = users.unstack('weekday')\n",
    "\n",
    "# Print the byweekday DataFrame\n",
    "print(byweekday)\n",
    "\n",
    "# Stack byweekday by 'weekday' and print it\n",
    "print(byweekday.stack())"
   ]
  },
  {
   "cell_type": "markdown",
   "metadata": {},
   "source": [
    "**Note** : Dengan stacking dan unstacking `users`, Anda berakhir dengan tata letak yang sama dengan DataFrame asli."
   ]
  },
  {
   "cell_type": "markdown",
   "metadata": {},
   "source": [
    "### Stacking & unstacking II\n",
    "\n",
    "Anda sekarang akan terus bekerja dengan DataFrame `users`. Seperti biasa, pertama-tama jelajahi di IPython Shell untuk melihat tata letak dan perhatikan indeksnya.\n",
    "\n",
    "Tugas Anda dalam latihan ini adalah unstack dan kemudian stack level `'city'`, seperti yang Anda lakukan sebelumnya untuk `'weekday'`. Perhatikan bahwa Anda tidak akan mendapatkan DataFrame yang sama."
   ]
  },
  {
   "cell_type": "code",
   "execution_count": 11,
   "metadata": {},
   "outputs": [
    {
     "name": "stdout",
     "output_type": "stream",
     "text": [
      "                visitors  signups\n",
      "city   weekday                   \n",
      "Austin Sun           139        7\n",
      "Dallas Sun           237       12\n",
      "Austin Mon           326        3\n",
      "Dallas Mon           456        5\n"
     ]
    }
   ],
   "source": [
    "# Load data\n",
    "filename = 'https://assets.datacamp.com/production/repositories/502/datasets/eaf29468b9fbaad454a74d3c2b59b36e5ab4558b/users.csv'\n",
    "users = pd.read_csv(filename, index_col=0, )\n",
    "users = users.set_index(['city', 'weekday'])\n",
    "print(users)"
   ]
  },
  {
   "cell_type": "code",
   "execution_count": 12,
   "metadata": {},
   "outputs": [
    {
     "name": "stdout",
     "output_type": "stream",
     "text": [
      "        visitors        signups       \n",
      "city      Austin Dallas  Austin Dallas\n",
      "weekday                               \n",
      "Mon          326    456       3      5\n",
      "Sun          139    237       7     12\n",
      "                visitors  signups\n",
      "weekday city                     \n",
      "Mon     Austin       326        3\n",
      "        Dallas       456        5\n",
      "Sun     Austin       139        7\n",
      "        Dallas       237       12\n"
     ]
    }
   ],
   "source": [
    "# Unstack users by 'city': bycity\n",
    "bycity = users.unstack('city')\n",
    "\n",
    "# Print the bycity DataFrame\n",
    "print(bycity)\n",
    "\n",
    "# Stack bycity by 'city' and print it\n",
    "print(bycity.stack())"
   ]
  },
  {
   "cell_type": "markdown",
   "metadata": {},
   "source": [
    "**Note** : Semoga latihan ini dan yang sebelumnya telah mengembangkan intuisi Anda tentang bagaimana stacking dan unstacking bekerja."
   ]
  },
  {
   "cell_type": "markdown",
   "metadata": {},
   "source": [
    "### Restoring the index order\n",
    "\n",
    "Melanjutkan latihan sebelumnya, Anda sekarang akan menggunakan `.swaplevel(0, 1)` untuk membalik level indeks. Perhatikan bahwa mereka tidak akan diurutkan. Untuk mengurutkannya, Anda harus menindaklanjuti dengan `.sort_index()`. Anda kemudian akan mendapatkan DataFrame asli. Perhatikan bahwa indeks yang tidak disortir menyebabkan kegagalan slicing.\n",
    "\n",
    "Untuk memulai, cetak `users` dan `bycity` di IPython Shell. Tujuannya di sini adalah untuk mengkonversi `bycity` kembali ke sesuatu yang terlihat seperti `users`."
   ]
  },
  {
   "cell_type": "code",
   "execution_count": 33,
   "metadata": {},
   "outputs": [],
   "source": [
    "# Load data\n",
    "df = pd.read_csv(filename, index_col=0)\n",
    "\n",
    "users = df.set_index(['city', 'weekday'])\n",
    "\n",
    "# Unstack users by 'city': bycity\n",
    "bycity = users.unstack('city')"
   ]
  },
  {
   "cell_type": "code",
   "execution_count": 34,
   "metadata": {},
   "outputs": [
    {
     "name": "stdout",
     "output_type": "stream",
     "text": [
      "                visitors  signups\n",
      "city   weekday                   \n",
      "Austin Mon           326        3\n",
      "Dallas Mon           456        5\n",
      "Austin Sun           139        7\n",
      "Dallas Sun           237       12\n",
      "                visitors  signups\n",
      "city   weekday                   \n",
      "Austin Mon           326        3\n",
      "       Sun           139        7\n",
      "Dallas Mon           456        5\n",
      "       Sun           237       12\n",
      "False\n"
     ]
    }
   ],
   "source": [
    "# Stack 'city' back into the index of bycity: newusers\n",
    "newusers = bycity.stack('city')\n",
    "\n",
    "# Swap the levels of the index of newusers: newusers\n",
    "newusers = newusers.swaplevel(0, 1)\n",
    "\n",
    "# Print newusers and verify that the index is not sorted\n",
    "print(newusers)\n",
    "\n",
    "# Sort the index of newusers: newusers\n",
    "newusers = newusers.sort_index()\n",
    "\n",
    "# Print newusers and verify that the index is now sorted\n",
    "print(newusers)\n",
    "\n",
    "# Verify that the new DataFrame is equal to the original\n",
    "print(newusers.equals(users))"
   ]
  },
  {
   "cell_type": "markdown",
   "metadata": {},
   "source": [
    "## Melting DataFrames\n",
    "\n",
    "### Adding names for readability\n",
    "\n",
    "Anda sekarang akan berlatih melting DataFrames. Sebuah DataFrame `visitors_by_city_weekday` telah di pre-loaded untuk Anda. Jelajahi di IPython Shell dan melihat bahwa itu adalah `users` DataFrame dari latihan sebelumnya dengan baris diindeks oleh `'weekday'`, kolom diindeks oleh `'city'`, dan nilai-nilai diisi dengan `'visitors'`.\n",
    "\n",
    "Tujuan *melting* adalah mengembalikan DataFrame yang dipivot ke bentuk aslinya, atau mengubahnya dari bentuk lebar ke bentuk panjang. Anda dapat secara eksplisit menentukan kolom yang harus tetap dalam DataFrame yang dibentuk ulang dengan `id_vars`, dan list kolom mana yang akan dikonversi menjadi nilai dengan `value_vars`. Jika Anda tidak meneruskan nama ke nilai di `pd.melt()`, Anda akan kehilangan nama variabel Anda. Anda dapat memperbaikinya dengan menggunakan argumen kata kunci `value_name`.\n",
    "\n",
    "Tugas Anda dalam latihan ini adalah untuk melakukan melt `visitors_by_city_weekday` untuk memindahkan nama kota dari label kolom ke nilai dalam satu kolom yang disebut `'city'`.\n",
    "\n",
    "Anda harus menentukan keyword argument `id_vars` untuk memastikan bahwa `'weekday'` dipertahankan dalam DataFrame, dan keyword argument `value_name` untuk mengubah nama `value` ke `visitors`."
   ]
  },
  {
   "cell_type": "code",
   "execution_count": 37,
   "metadata": {},
   "outputs": [
    {
     "data": {
      "text/html": [
       "<div>\n",
       "<style scoped>\n",
       "    .dataframe tbody tr th:only-of-type {\n",
       "        vertical-align: middle;\n",
       "    }\n",
       "\n",
       "    .dataframe tbody tr th {\n",
       "        vertical-align: top;\n",
       "    }\n",
       "\n",
       "    .dataframe thead th {\n",
       "        text-align: right;\n",
       "    }\n",
       "</style>\n",
       "<table border=\"1\" class=\"dataframe\">\n",
       "  <thead>\n",
       "    <tr style=\"text-align: right;\">\n",
       "      <th>city</th>\n",
       "      <th>Austin</th>\n",
       "      <th>Dallas</th>\n",
       "    </tr>\n",
       "    <tr>\n",
       "      <th>weekday</th>\n",
       "      <th></th>\n",
       "      <th></th>\n",
       "    </tr>\n",
       "  </thead>\n",
       "  <tbody>\n",
       "    <tr>\n",
       "      <th>Mon</th>\n",
       "      <td>326</td>\n",
       "      <td>456</td>\n",
       "    </tr>\n",
       "    <tr>\n",
       "      <th>Sun</th>\n",
       "      <td>139</td>\n",
       "      <td>237</td>\n",
       "    </tr>\n",
       "  </tbody>\n",
       "</table>\n",
       "</div>"
      ],
      "text/plain": [
       "city     Austin  Dallas\n",
       "weekday                \n",
       "Mon         326     456\n",
       "Sun         139     237"
      ]
     },
     "execution_count": 37,
     "metadata": {},
     "output_type": "execute_result"
    }
   ],
   "source": [
    "# Load data\n",
    "users = pd.read_csv(filename, index_col=0)\n",
    "\n",
    "# Pivot users with signups indexed by weekday and city: signups_pivot\n",
    "visitors_by_city_weekday = users.pivot(index='weekday', columns='city', values='visitors')\n",
    "visitors_by_city_weekday"
   ]
  },
  {
   "cell_type": "code",
   "execution_count": 39,
   "metadata": {},
   "outputs": [
    {
     "name": "stdout",
     "output_type": "stream",
     "text": [
      "city weekday  Austin  Dallas\n",
      "0        Mon     326     456\n",
      "1        Sun     139     237\n",
      "  weekday    city  visitors\n",
      "0     Mon  Austin       326\n",
      "1     Sun  Austin       139\n",
      "2     Mon  Dallas       456\n",
      "3     Sun  Dallas       237\n"
     ]
    }
   ],
   "source": [
    "# Reset the index: visitors_by_city_weekday\n",
    "visitors_by_city_weekday = visitors_by_city_weekday.reset_index() \n",
    "\n",
    "# Print visitors_by_city_weekday\n",
    "print(visitors_by_city_weekday)\n",
    "\n",
    "# Melt visitors_by_city_weekday: visitors\n",
    "visitors = pd.melt(visitors_by_city_weekday, id_vars=['weekday'], value_name='visitors')\n",
    "\n",
    "# Print visitors\n",
    "print(visitors)"
   ]
  },
  {
   "cell_type": "markdown",
   "metadata": {},
   "source": [
    "**Note** : Perhatikan bagaimana DataFrame yang sudah di *melted* sekarang memiliki kolom `'city'` dengan nilai `Austin` dan `Dallas`. Dalam DataFrame asli, mereka adalah kolom itu sendiri. Perhatikan juga bagaimana menentukan parameter `value_name` telah mengubah nama kolom `'value'` menjadi `'visitors' `."
   ]
  },
  {
   "cell_type": "markdown",
   "metadata": {},
   "source": [
    "### Going from wide to long\n",
    "\n",
    "Anda dapat memindahkan banyak kolom menjadi satu kolom (membuat data panjang dan ramping) dengan \"melting\" beberapa kolom. Dalam latihan ini, Anda akan berlatih melakukan ini dengan DataFrame `users`."
   ]
  },
  {
   "cell_type": "code",
   "execution_count": 40,
   "metadata": {},
   "outputs": [
    {
     "data": {
      "text/html": [
       "<div>\n",
       "<style scoped>\n",
       "    .dataframe tbody tr th:only-of-type {\n",
       "        vertical-align: middle;\n",
       "    }\n",
       "\n",
       "    .dataframe tbody tr th {\n",
       "        vertical-align: top;\n",
       "    }\n",
       "\n",
       "    .dataframe thead th {\n",
       "        text-align: right;\n",
       "    }\n",
       "</style>\n",
       "<table border=\"1\" class=\"dataframe\">\n",
       "  <thead>\n",
       "    <tr style=\"text-align: right;\">\n",
       "      <th></th>\n",
       "      <th>weekday</th>\n",
       "      <th>city</th>\n",
       "      <th>visitors</th>\n",
       "      <th>signups</th>\n",
       "    </tr>\n",
       "  </thead>\n",
       "  <tbody>\n",
       "    <tr>\n",
       "      <th>0</th>\n",
       "      <td>Sun</td>\n",
       "      <td>Austin</td>\n",
       "      <td>139</td>\n",
       "      <td>7</td>\n",
       "    </tr>\n",
       "    <tr>\n",
       "      <th>1</th>\n",
       "      <td>Sun</td>\n",
       "      <td>Dallas</td>\n",
       "      <td>237</td>\n",
       "      <td>12</td>\n",
       "    </tr>\n",
       "    <tr>\n",
       "      <th>2</th>\n",
       "      <td>Mon</td>\n",
       "      <td>Austin</td>\n",
       "      <td>326</td>\n",
       "      <td>3</td>\n",
       "    </tr>\n",
       "    <tr>\n",
       "      <th>3</th>\n",
       "      <td>Mon</td>\n",
       "      <td>Dallas</td>\n",
       "      <td>456</td>\n",
       "      <td>5</td>\n",
       "    </tr>\n",
       "  </tbody>\n",
       "</table>\n",
       "</div>"
      ],
      "text/plain": [
       "  weekday    city  visitors  signups\n",
       "0     Sun  Austin       139        7\n",
       "1     Sun  Dallas       237       12\n",
       "2     Mon  Austin       326        3\n",
       "3     Mon  Dallas       456        5"
      ]
     },
     "execution_count": 40,
     "metadata": {},
     "output_type": "execute_result"
    }
   ],
   "source": [
    "users"
   ]
  },
  {
   "cell_type": "code",
   "execution_count": 41,
   "metadata": {},
   "outputs": [
    {
     "name": "stdout",
     "output_type": "stream",
     "text": [
      "  weekday    city  variable  value\n",
      "0     Sun  Austin  visitors    139\n",
      "1     Sun  Dallas  visitors    237\n",
      "2     Mon  Austin  visitors    326\n",
      "3     Mon  Dallas  visitors    456\n",
      "4     Sun  Austin   signups      7\n",
      "5     Sun  Dallas   signups     12\n",
      "6     Mon  Austin   signups      3\n",
      "7     Mon  Dallas   signups      5\n"
     ]
    }
   ],
   "source": [
    "# Melt users: skinny\n",
    "skinny = pd.melt(users, id_vars=['weekday', 'city'], value_vars=['visitors', 'signups'])\n",
    "\n",
    "# Print skinny\n",
    "print(skinny)"
   ]
  },
  {
   "cell_type": "markdown",
   "metadata": {},
   "source": [
    "**Note** : Di sini, karena Anda tidak menentukan parameter `var_name` atau `value_name`, melted DataFrame memiliki default `variable` dan nama kolom `value`."
   ]
  },
  {
   "cell_type": "markdown",
   "metadata": {},
   "source": [
    "### Obtaining key-value pairs with melt()\n",
    "\n",
    "Terkadang, yang Anda butuhkan hanyalah pasangan kunci-nilai (*key-value pairs*), dan konteksnya bukan masalah. Jika konteks ada dalam indeks, Anda dapat dengan mudah mendapatkan apa yang Anda inginkan. Misalnya, dalam DataFrame `users`, kolom `visitors` dan `signups` cocok untuk direpresentasikan sebagai pasangan kunci-nilai. Jadi jika Anda membuat indeks hierarkis dengan kolom `'city'` dan `'weekday'` sebagai indeks, Anda dapat dengan mudah mengekstrak pasangan kunci-nilai untuk kolom `'visitors'` dan `'signups'` dengan melting `users` dan menentukan `col_level=0`."
   ]
  },
  {
   "cell_type": "code",
   "execution_count": 44,
   "metadata": {},
   "outputs": [
    {
     "name": "stdout",
     "output_type": "stream",
     "text": [
      "                visitors  signups\n",
      "city   weekday                   \n",
      "Austin Sun           139        7\n",
      "Dallas Sun           237       12\n",
      "Austin Mon           326        3\n",
      "Dallas Mon           456        5\n",
      "   variable  value\n",
      "0  visitors    139\n",
      "1  visitors    237\n",
      "2  visitors    326\n",
      "3  visitors    456\n",
      "4   signups      7\n",
      "5   signups     12\n",
      "6   signups      3\n",
      "7   signups      5\n"
     ]
    }
   ],
   "source": [
    "# Set the new index: users_idx\n",
    "users_idx = users.set_index(['city', 'weekday'])\n",
    "\n",
    "# Print the users_idx DataFrame\n",
    "print(users_idx)\n",
    "\n",
    "# Obtain the key-value pairs: kv_pairs\n",
    "kv_pairs = pd.melt(users_idx, col_level=0)\n",
    "\n",
    "# Print the key-value pairs\n",
    "print(kv_pairs)"
   ]
  },
  {
   "cell_type": "markdown",
   "metadata": {},
   "source": [
    "**Note** : Perlu selalu diingat apakah ada aspek data yang cocok untuk direpresentasikan sebagai pasangan kunci-nilai."
   ]
  },
  {
   "cell_type": "markdown",
   "metadata": {},
   "source": [
    "## Pivot tables\n",
    "\n",
    "### Setting up a pivot table\n",
    "\n",
    "Pivot tabel memungkinkan Anda melihat semua variabel Anda sebagai fungsi dari dua variabel lainnya. Dalam latihan ini, Anda akan menggunakan metode `.pivot_table()` untuk melihat bagaimana entri dataFrame `users` muncul ketika digunakan sebagai fungsi kolom `'weekday'` dan `'city'`. Yaitu, dengan baris diindeks oleh `'weekday'` dan kolom diindeks oleh `'city'`."
   ]
  },
  {
   "cell_type": "code",
   "execution_count": 45,
   "metadata": {},
   "outputs": [
    {
     "name": "stdout",
     "output_type": "stream",
     "text": [
      "        signups        visitors       \n",
      "city     Austin Dallas   Austin Dallas\n",
      "weekday                               \n",
      "Mon           3      5      326    456\n",
      "Sun           7     12      139    237\n"
     ]
    }
   ],
   "source": [
    "# Create the DataFrame with the appropriate pivot table: by_city_day\n",
    "by_city_day = users.pivot_table(index='weekday', columns='city')\n",
    "\n",
    "# Print by_city_day\n",
    "print(by_city_day)"
   ]
  },
  {
   "cell_type": "markdown",
   "metadata": {},
   "source": [
    "**Note** : Perhatikan label indeks dan kolom masing-masing adalah `'weekday'` dan `'city'` - persis seperti yang Anda tentukan."
   ]
  },
  {
   "cell_type": "markdown",
   "metadata": {},
   "source": [
    "### Using other aggregations in pivot tables\n",
    "\n",
    "Anda juga dapat menggunakan fungsi agregasi dalam tabel pivot dengan menentukan parameter `aggfunc`. Dalam latihan ini, Anda akan berlatih menggunakan fungsi agregasi `'count'` dan `len` - yang menghasilkan hasil yang sama - pada DataFrame `users`."
   ]
  },
  {
   "cell_type": "code",
   "execution_count": 46,
   "metadata": {},
   "outputs": [
    {
     "name": "stdout",
     "output_type": "stream",
     "text": [
      "         city  signups  visitors\n",
      "weekday                         \n",
      "Mon         2        2         2\n",
      "Sun         2        2         2\n",
      "==========================================\n",
      "True\n"
     ]
    }
   ],
   "source": [
    "# Use a pivot table to display the count of each column: count_by_weekday1\n",
    "count_by_weekday1 = users.pivot_table(index='weekday', aggfunc='count')\n",
    "\n",
    "# Print count_by_weekday\n",
    "print(count_by_weekday1)\n",
    "\n",
    "# Replace 'aggfunc='count'' with 'aggfunc=len': count_by_weekday2\n",
    "count_by_weekday2 = users.pivot_table(index='weekday', aggfunc=len)\n",
    "\n",
    "# Verify that the same result is obtained\n",
    "print('==========================================')\n",
    "print(count_by_weekday1.equals(count_by_weekday2))"
   ]
  },
  {
   "cell_type": "markdown",
   "metadata": {},
   "source": [
    "**Note** : Seperti yang diharapkan, fungsi agregasi `len` dan `'count'` menghasilkan hasil yang sama."
   ]
  },
  {
   "cell_type": "markdown",
   "metadata": {},
   "source": [
    "### Using margins in pivot tables\n",
    "\n",
    "Terkadang berguna untuk menambahkan total pada margin tabel pivot. Anda dapat melakukan ini dengan argumen `margins=True`. Dalam latihan ini, Anda akan berlatih menggunakan margin dalam tabel pivot bersama dengan fungsi agregasi baru: `sum`."
   ]
  },
  {
   "cell_type": "code",
   "execution_count": 47,
   "metadata": {},
   "outputs": [
    {
     "name": "stdout",
     "output_type": "stream",
     "text": [
      "         signups  visitors\n",
      "weekday                   \n",
      "Mon            8       782\n",
      "Sun           19       376\n",
      "         signups  visitors\n",
      "weekday                   \n",
      "Mon            8       782\n",
      "Sun           19       376\n",
      "All           27      1158\n"
     ]
    }
   ],
   "source": [
    "# Create the DataFrame with the appropriate pivot table: signups_and_visitors\n",
    "signups_and_visitors = users.pivot_table(index='weekday', aggfunc=sum)\n",
    "\n",
    "# Print signups_and_visitors\n",
    "print(signups_and_visitors)\n",
    "\n",
    "# Add in the margins: signups_and_visitors_total \n",
    "signups_and_visitors_total = users.pivot_table(index='weekday', aggfunc=sum, margins=True)\n",
    "\n",
    "# Print signups_and_visitors_total\n",
    "print(signups_and_visitors_total)"
   ]
  },
  {
   "cell_type": "markdown",
   "metadata": {},
   "source": [
    "**Note** : Lihatlah bagaimana menentukan `margins=True` menghasilkan total dalam setiap kolom yang dihitung."
   ]
  },
  {
   "cell_type": "code",
   "execution_count": null,
   "metadata": {},
   "outputs": [],
   "source": []
  }
 ],
 "metadata": {
  "kernelspec": {
   "display_name": "Python 3",
   "language": "python",
   "name": "python3"
  },
  "language_info": {
   "codemirror_mode": {
    "name": "ipython",
    "version": 3
   },
   "file_extension": ".py",
   "mimetype": "text/x-python",
   "name": "python",
   "nbconvert_exporter": "python",
   "pygments_lexer": "ipython3",
   "version": "3.7.3"
  }
 },
 "nbformat": 4,
 "nbformat_minor": 2
}
