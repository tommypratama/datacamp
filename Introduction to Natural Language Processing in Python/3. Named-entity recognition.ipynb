{
 "cells": [
  {
   "cell_type": "markdown",
   "metadata": {},
   "source": [
    "# 3. Named-entity recognition\n",
    "\n",
    "Bab ini akan memperkenalkan topik yang sedikit lebih maju: **named-entity recognition**. Anda akan belajar bagaimana mengidentifikasi siapa, apa, dan di mana teks Anda menggunakan model *pre-trained* pada teks bahasa Inggris dan non-Inggris. Anda juga akan belajar cara menggunakan beberapa library baru, `polyglot` dan `spaCy`, untuk ditambahkan ke NLP toolbox Anda."
   ]
  },
  {
   "cell_type": "markdown",
   "metadata": {},
   "source": [
    "### What is Named Entity Recognition?\n",
    "\n",
    "* Tugas NLP untuk mengidentifikasi entitas bernama penting dalam teks\n",
    "* Orang, tempat, organisasi\n",
    "* Tanggal, negara bagian, karya seni\n",
    "* ...dan kategori lainnya!\n",
    "* Dapat digunakan bersamaan dengan identifikasi topik\n",
    "  * ...atau sendiri!\n",
    "* Siapa? Apa? Kapan? Dimana?"
   ]
  },
  {
   "cell_type": "markdown",
   "metadata": {},
   "source": [
    "### Example of NER\n",
    "\n",
    "(Source: Europeana Newspapers (http://www.europeana-newspapers.eu))\n",
    "\n",
    "<img src=\"datasets/ner.png\" width=500px height=500px align=left />"
   ]
  },
  {
   "cell_type": "markdown",
   "metadata": {},
   "source": [
    "### nltk and the Stanford CoreNLP Library\n",
    "\n",
    "* The Stanford CoreNLP library:\n",
    "  * Diintegrasikan ke dalam Python via nltk\n",
    "  * Berbasis Java\n",
    "  * Dukungan untuk NER serta pohon-pohon coreference dan dependensi"
   ]
  },
  {
   "cell_type": "markdown",
   "metadata": {},
   "source": [
    "### Using nltk for Named Entity Recognition"
   ]
  },
  {
   "cell_type": "code",
   "execution_count": 3,
   "metadata": {},
   "outputs": [
    {
     "name": "stderr",
     "output_type": "stream",
     "text": [
      "[nltk_data] Downloading package averaged_perceptron_tagger to\n",
      "[nltk_data]     /home/jovyan/nltk_data...\n",
      "[nltk_data]   Unzipping taggers/averaged_perceptron_tagger.zip.\n"
     ]
    },
    {
     "data": {
      "text/plain": [
       "True"
      ]
     },
     "execution_count": 3,
     "metadata": {},
     "output_type": "execute_result"
    }
   ],
   "source": [
    "import nltk\n",
    "nltk.download('averaged_perceptron_tagger')"
   ]
  },
  {
   "cell_type": "code",
   "execution_count": 4,
   "metadata": {},
   "outputs": [
    {
     "data": {
      "text/plain": [
       "[('In', 'IN'), ('New', 'NNP'), ('York', 'NNP')]"
      ]
     },
     "execution_count": 4,
     "metadata": {},
     "output_type": "execute_result"
    }
   ],
   "source": [
    "sentence = '''In New York, I like to ride the Metro to visit MOMA\n",
    "              and some restaurants rated well by Ruth Reichl.'''\n",
    "tokenized_sent = nltk.word_tokenize(sentence)\n",
    "tagged_sent = nltk.pos_tag(tokenized_sent)\n",
    "tagged_sent[:3]"
   ]
  },
  {
   "cell_type": "markdown",
   "metadata": {},
   "source": [
    "### nltk `ne_chunk()`"
   ]
  },
  {
   "cell_type": "code",
   "execution_count": 6,
   "metadata": {},
   "outputs": [
    {
     "name": "stderr",
     "output_type": "stream",
     "text": [
      "[nltk_data] Downloading package maxent_ne_chunker to\n",
      "[nltk_data]     /home/jovyan/nltk_data...\n",
      "[nltk_data]   Unzipping chunkers/maxent_ne_chunker.zip.\n"
     ]
    },
    {
     "data": {
      "text/plain": [
       "True"
      ]
     },
     "execution_count": 6,
     "metadata": {},
     "output_type": "execute_result"
    }
   ],
   "source": [
    "nltk.download('maxent_ne_chunker')"
   ]
  },
  {
   "cell_type": "code",
   "execution_count": 8,
   "metadata": {},
   "outputs": [
    {
     "name": "stderr",
     "output_type": "stream",
     "text": [
      "[nltk_data] Downloading package words to /home/jovyan/nltk_data...\n",
      "[nltk_data]   Unzipping corpora/words.zip.\n"
     ]
    },
    {
     "data": {
      "text/plain": [
       "True"
      ]
     },
     "execution_count": 8,
     "metadata": {},
     "output_type": "execute_result"
    }
   ],
   "source": [
    "nltk.download('words')"
   ]
  },
  {
   "cell_type": "code",
   "execution_count": 9,
   "metadata": {},
   "outputs": [
    {
     "name": "stdout",
     "output_type": "stream",
     "text": [
      "(S\n",
      "  In/IN\n",
      "  (GPE New/NNP York/NNP)\n",
      "  ,/,\n",
      "  I/PRP\n",
      "  like/VBP\n",
      "  to/TO\n",
      "  ride/VB\n",
      "  the/DT\n",
      "  (ORGANIZATION Metro/NNP)\n",
      "  to/TO\n",
      "  visit/VB\n",
      "  (ORGANIZATION MOMA/NNP)\n",
      "  and/CC\n",
      "  some/DT\n",
      "  restaurants/NNS\n",
      "  rated/VBN\n",
      "  well/RB\n",
      "  by/IN\n",
      "  (PERSON Ruth/NNP Reichl/NNP)\n",
      "  ./.)\n"
     ]
    }
   ],
   "source": [
    "print(nltk.ne_chunk(tagged_sent))"
   ]
  },
  {
   "cell_type": "markdown",
   "metadata": {},
   "source": [
    "### Practice:  NER with NLTK\n",
    "\n",
    "Anda sekarang akan bersenang-senang dengan named-entity recognition! Artikel berita yang discraped telah dimuat sebelumnya ke ruang kerja Anda. Tugas Anda adalah menggunakan `nltk` untuk menemukan entitas yang disebutkan dalam artikel ini.\n",
    "\n",
    "Tentang apa artikel itu, mengingat nama-nama yang Anda temukan?"
   ]
  },
  {
   "cell_type": "code",
   "execution_count": 95,
   "metadata": {},
   "outputs": [],
   "source": [
    "from zipfile import ZipFile\n",
    "\n",
    "with ZipFile(\"datasets/News articles.zip\") as myzip:\n",
    "    with myzip.open(\"News articles/uber_apple.txt\") as myfile:\n",
    "        article = myfile.read().decode(\"ascii\", \"ignore\")"
   ]
  },
  {
   "cell_type": "code",
   "execution_count": 10,
   "metadata": {},
   "outputs": [],
   "source": [
    "from nltk.tokenize import word_tokenize, sent_tokenize"
   ]
  },
  {
   "cell_type": "code",
   "execution_count": 97,
   "metadata": {},
   "outputs": [
    {
     "name": "stdout",
     "output_type": "stream",
     "text": [
      "(NE Uber/NNP)\n",
      "(NE Beyond/NN)\n",
      "(NE Apples/NNP)\n",
      "(NE Uber/NNP)\n",
      "(NE Uber/NNP)\n",
      "(NE Travis/NNP Kalanick/NNP)\n",
      "(NE Tim/NNP Cook/NNP)\n",
      "(NE Apple/NNP)\n",
      "(NE Silicon/NNP Valleys/NNP)\n",
      "(NE CEO/NNP)\n",
      "(NE Yahoo/NNP)\n",
      "(NE Marissa/NNP Mayer/NNP)\n"
     ]
    }
   ],
   "source": [
    "# Tokenize the article into sentences: sentences\n",
    "sentences = sent_tokenize(article)\n",
    "\n",
    "# Tokenize each sentence into words: token_sentences\n",
    "token_sentences = [word_tokenize(sent) for sent in sentences]\n",
    "\n",
    "# Tag each tokenized sentence into parts of speech: pos_sentences\n",
    "pos_sentences = [nltk.pos_tag(sent) for sent in token_sentences] \n",
    "\n",
    "# Create the named entity chunks: chunked_sentences\n",
    "chunked_sentences = nltk.ne_chunk_sents(pos_sentences, binary=True)\n",
    "\n",
    "# Test for stems of the tree with 'NE' tags\n",
    "for sent in chunked_sentences:\n",
    "    for chunk in sent:\n",
    "        if hasattr(chunk, \"label\") and chunk.label() == \"NE\":\n",
    "            print(chunk)"
   ]
  },
  {
   "cell_type": "markdown",
   "metadata": {},
   "source": [
    "### Charting practice\n",
    "\n",
    "Dalam latihan ini, Anda akan menggunakan beberapa *named entities* yang diekstraksi dan pengelompokannya dari serangkaian artikel surat kabar untuk memetakan keragaman jenis entitas yang disebutkan dalam artikel.\n",
    "\n",
    "Anda akan menggunakan `defaultdict` yang disebut `ner_categories`, dengan kunci yang mewakili setiap jenis grup *named entity*, dan nilai-nilai untuk menghitung jumlah setiap jenis *named entities* berbeda. Anda memiliki list kalimat chunked yang disebut `chunked_sentences` yang mirip dengan latihan terakhir, tetapi kali ini dengan nama kategori non-biner.\n",
    "\n",
    "Anda dapat menggunakan `hasattr()` untuk menentukan apakah setiap chunk memiliki `'label'` dan kemudian cukup gunakan metode `.label()` chunk sebagai kunci dictionary."
   ]
  },
  {
   "cell_type": "code",
   "execution_count": 128,
   "metadata": {},
   "outputs": [],
   "source": [
    "# Create the named entity chunks: chunked_sentences\n",
    "chunked_sentences = nltk.ne_chunk_sents(pos_sentences, binary=False)"
   ]
  },
  {
   "cell_type": "code",
   "execution_count": 129,
   "metadata": {},
   "outputs": [
    {
     "data": {
      "image/png": "[encoded data removed]",
      "text/plain": [
       "<Figure size 432x288 with 1 Axes>"
      ]
     },
     "metadata": {},
     "output_type": "display_data"
    }
   ],
   "source": [
    "import matplotlib.pyplot as plt\n",
    "from collections import defaultdict\n",
    "\n",
    "# Create the defaultdict: ner_categories\n",
    "ner_categories = defaultdict(int)\n",
    "\n",
    "# Create the nested for loop\n",
    "for sent in chunked_sentences:\n",
    "    for chunk in sent:\n",
    "        if hasattr(chunk, 'label'):\n",
    "            ner_categories[chunk.label()] += 1\n",
    "            \n",
    "# Create a list from the dictionary keys for the chart labels: labels\n",
    "labels = list(ner_categories.keys())\n",
    "\n",
    "# Create a list of the values: values\n",
    "values = [ner_categories.get(v) for v in labels]\n",
    "\n",
    "# Create the pie chart\n",
    "plt.pie(values, labels=labels, autopct='%1.1f%%', startangle=140)\n",
    "\n",
    "# Display the chart\n",
    "plt.show()"
   ]
  },
  {
   "cell_type": "markdown",
   "metadata": {},
   "source": [
    "## Introduction to SpaCy"
   ]
  },
  {
   "cell_type": "markdown",
   "metadata": {},
   "source": [
    "### What is SpaCy?\n",
    "\n",
    "* NLP library mirip dengan gensim, dengan implementasi yang berbeda\n",
    "* Fokus pada pembuatan NLP pipelines untuk menghasilkan model dan corpora\n",
    "* Open-source, dengan tambahan libraries dan tools tambahan\n",
    "  * Displacy"
   ]
  },
  {
   "cell_type": "markdown",
   "metadata": {},
   "source": [
    "### Displacy entity recognition visualizer\n",
    "\n",
    "(source: https://demos.explosion.ai/displacy-ent/)\n",
    "\n",
    "<img src=\"datasets/displacy.png\" width=700px height=700px align=left />"
   ]
  },
  {
   "cell_type": "markdown",
   "metadata": {},
   "source": [
    "### SpaCy NER\n",
    "\n",
    "When showing error install : `python3 -m spacy download en_core_web_sm`"
   ]
  },
  {
   "cell_type": "code",
   "execution_count": 132,
   "metadata": {},
   "outputs": [],
   "source": [
    "# !pip install spacy"
   ]
  },
  {
   "cell_type": "code",
   "execution_count": 3,
   "metadata": {},
   "outputs": [
    {
     "data": {
      "text/plain": [
       "<spacy.pipeline.pipes.EntityRecognizer at 0x7f34579bc108>"
      ]
     },
     "execution_count": 3,
     "metadata": {},
     "output_type": "execute_result"
    }
   ],
   "source": [
    "import spacy\n",
    "\n",
    "nlp = spacy.load('en_core_web_sm')\n",
    "nlp.entity"
   ]
  },
  {
   "cell_type": "code",
   "execution_count": 4,
   "metadata": {},
   "outputs": [
    {
     "data": {
      "text/plain": [
       "(Berlin, Germany, Angela Merkel)"
      ]
     },
     "execution_count": 4,
     "metadata": {},
     "output_type": "execute_result"
    }
   ],
   "source": [
    "doc = nlp(\"Berlin is the capital of Germany and the residence of Chancellor Angela Merkel.\")\n",
    "doc.ents"
   ]
  },
  {
   "cell_type": "code",
   "execution_count": 5,
   "metadata": {},
   "outputs": [
    {
     "name": "stdout",
     "output_type": "stream",
     "text": [
      "Berlin GPE\n"
     ]
    }
   ],
   "source": [
    "print(doc.ents[0], doc.ents[0].label_)"
   ]
  },
  {
   "cell_type": "markdown",
   "metadata": {},
   "source": [
    "### Why use SpaCy for NER?\n",
    "\n",
    "* Pembuatan pipaline yang mudah\n",
    "* Jenis entitas yang berbeda dibandingkan dengan nltk\n",
    "* Bahasa informal corpora\n",
    "  * Mudah menemukan entitas di Tweet dan pesan obrolan\n",
    "* Tumbuh dengan cepat!"
   ]
  },
  {
   "cell_type": "markdown",
   "metadata": {},
   "source": [
    "### Comparing NLTK with spaCy NER\n",
    "\n",
    "Menggunakan teks yang sama dengan yang Anda gunakan pada latihan pertama bab ini, Anda sekarang akan melihat hasilnya menggunakan annotator NER spaCy's. Bagaimana perbandingan keduannya?\n",
    "\n",
    "Artikel telah dimuat sebagai `article`. Untuk meminimalkan waktu eksekusi, Anda akan diminta untuk menentukan keyword arguments `tagger=False, parser=False, matcher=False` saat memuat model spaCy, karena Anda hanya peduli dengan `entity` dalam latihan ini."
   ]
  },
  {
   "cell_type": "code",
   "execution_count": 5,
   "metadata": {},
   "outputs": [],
   "source": [
    "from zipfile import ZipFile\n",
    "\n",
    "with ZipFile(\"datasets/News articles.zip\") as myzip:\n",
    "    with myzip.open(\"News articles/uber_apple.txt\") as myfile:\n",
    "        article = myfile.read().decode(\"ascii\", \"ignore\")"
   ]
  },
  {
   "cell_type": "code",
   "execution_count": 13,
   "metadata": {},
   "outputs": [
    {
     "name": "stdout",
     "output_type": "stream",
     "text": [
      "ORG Uber\n",
      "PERSON Uber\n",
      "ORG unroll.me\n",
      "ORG Apples\n",
      "PERSON Uber\n",
      "PERSON Travis Kalanick\n",
      "PERSON Uber\n",
      "PERSON Tim Cook\n",
      "ORG Apple\n",
      "CARDINAL Millions\n",
      "NORP Silicon\n",
      "ORG Yahoo\n",
      "PERSON Marissa Mayer\n",
      "MONEY $186m\n"
     ]
    }
   ],
   "source": [
    "# Import spacy\n",
    "import spacy\n",
    "\n",
    "# Instantiate the English model: nlp\n",
    "nlp = spacy.load('en_core_web_sm')\n",
    "\n",
    "# Create a new document: doc\n",
    "doc = nlp(article)\n",
    "\n",
    "# Print all of the found entities and their labels\n",
    "for ent in doc.ents:\n",
    "    print(ent.label_, ent.text)"
   ]
  },
  {
   "cell_type": "markdown",
   "metadata": {},
   "source": [
    "### spaCy NER Categories\n",
    "\n",
    "Manakah kategori tambahan yang digunakan `spacy` dibandingkan dengan `nltk` dalam named-entity recognition?\n",
    "\n",
    "* **NORP, CARDINAL, MONEY, WORKOFART, LANGUAGE, EVENT**"
   ]
  },
  {
   "cell_type": "markdown",
   "metadata": {},
   "source": [
    "## Multilingual NER with polyglot"
   ]
  },
  {
   "cell_type": "markdown",
   "metadata": {},
   "source": [
    "### What is polyglot?\n",
    "\n",
    "<img src=\"datasets/polyglot.png\" width=200px height=200px align=left />\n",
    "\n",
    "* NLP library yang menggunakan vektor kata\n",
    "* Mengapa polyglot?\n",
    "  * Vektor untuk berbagai bahasa\n",
    "  * Lebih dari 130!\n",
    "  "
   ]
  },
  {
   "cell_type": "markdown",
   "metadata": {},
   "source": [
    "### Spanish NER with polyglot\n",
    "\n",
    "Additional installation: \n",
    "\n",
    "* `pip install -U git+https://github.com/aboSamoor/polyglot.git@master`\n",
    "* `polyglot download embeddings2.es`\n",
    "* `polyglot download ner2.es`"
   ]
  },
  {
   "cell_type": "code",
   "execution_count": 16,
   "metadata": {},
   "outputs": [],
   "source": [
    "# !pip install polyglot"
   ]
  },
  {
   "cell_type": "code",
   "execution_count": 3,
   "metadata": {},
   "outputs": [
    {
     "data": {
      "text/plain": [
       "[I-ORG(['Generalitat', 'de']),\n",
       " I-LOC(['Generalitat', 'de', 'Cataluña']),\n",
       " I-PER(['Carles', 'Puigdemont']),\n",
       " I-LOC(['Madrid']),\n",
       " I-PER(['Manuela', 'Carmena']),\n",
       " I-LOC(['Girona']),\n",
       " I-LOC(['Madrid'])]"
      ]
     },
     "execution_count": 3,
     "metadata": {},
     "output_type": "execute_result"
    }
   ],
   "source": [
    "from polyglot.text import Text\n",
    "\n",
    "text = \"\"\"El presidente de la Generalitat de Cataluña,\n",
    "          Carles Puigdemont, ha afirmado hoy a la alcaldesa\n",
    "          de Madrid, Manuela Carmena, que en su etapa de\n",
    "          alcalde de Girona (de julio de 2011 a enero de 2016)\n",
    "          hizo una gran promoción de Madrid.\"\"\"\n",
    "ptext = Text(text)\n",
    "ptext.entities"
   ]
  },
  {
   "cell_type": "markdown",
   "metadata": {},
   "source": [
    "### French NER with polyglot I\n",
    "\n",
    "Dalam latihan ini dan selanjutnya, Anda akan menggunakan library `polyglot` untuk mengidentifikasi entitas Perancis. Fungsi library sedikit berbeda dari spacy, jadi Anda akan menggunakan beberapa hal baru yang Anda pelajari di video terakhir untuk menampilkan teks dan kategori entitas yang disebutkan.\n",
    "\n",
    "Install:\n",
    " * `polyglot download embeddings2.en`\n",
    " * `polyglot download ner2.en`\n",
    " * `polyglot download embeddings2.fr`\n",
    " * `polyglot download ner2.fr`"
   ]
  },
  {
   "cell_type": "code",
   "execution_count": 11,
   "metadata": {},
   "outputs": [],
   "source": [
    "from zipfile import ZipFile\n",
    "\n",
    "with ZipFile(\"datasets/News articles.zip\") as myzip:\n",
    "    with myzip.open(\"News articles/french.txt\") as myfile:\n",
    "        article = myfile.read().decode(\"ascii\", \"ignore\")"
   ]
  },
  {
   "cell_type": "code",
   "execution_count": 13,
   "metadata": {},
   "outputs": [
    {
     "name": "stdout",
     "output_type": "stream",
     "text": [
      "['Charles', 'Cuvelliez']\n",
      "['lhomme']\n",
      "['lalgorithme']\n",
      "['Charles', 'Cuvelliez']\n",
      "[\"l'universit\"]\n",
      "['Bruxelles']\n",
      "['prcipitamment']\n",
      "['supplmentaires']\n",
      "['Julien', 'Maldonato']\n",
      "['Deloitte']\n",
      "['lauteur']\n",
      "['donn']\n",
      "['Ethiquement']\n",
      "['.']\n",
      "<class 'polyglot.text.Chunk'>\n"
     ]
    }
   ],
   "source": [
    "# Create a new text object using Polyglot's Text class: txt\n",
    "txt = Text(article)\n",
    "\n",
    "# Print each of the entities found\n",
    "for ent in txt.entities:\n",
    "    print(ent)\n",
    "    \n",
    "# Print the type of ent\n",
    "print(type(ent))"
   ]
  },
  {
   "cell_type": "markdown",
   "metadata": {},
   "source": [
    "### French NER with polyglot II\n",
    "\n",
    "Di sini, Anda akan menyelesaikan pekerjaan yang Anda mulai pada latihan sebelumnya.\n",
    "\n",
    "Tugas Anda adalah menggunakan list comprehension untuk membuat list tuple, di mana elemen pertama adalah tag entitas, dan elemen kedua adalah string penuh dari teks entitas."
   ]
  },
  {
   "cell_type": "code",
   "execution_count": 14,
   "metadata": {},
   "outputs": [
    {
     "name": "stdout",
     "output_type": "stream",
     "text": [
      "[('I-PER', 'Charles Cuvelliez'), ('I-PER', 'lhomme'), ('I-PER', 'lalgorithme'), ('I-PER', 'Charles Cuvelliez'), ('I-LOC', \"l'universit\"), ('I-ORG', 'Bruxelles'), ('I-PER', 'prcipitamment'), ('I-PER', 'supplmentaires'), ('I-PER', 'Julien Maldonato'), ('I-ORG', 'Deloitte'), ('I-PER', 'lauteur'), ('I-PER', 'donn'), ('I-PER', 'Ethiquement'), ('I-PER', '.')]\n"
     ]
    }
   ],
   "source": [
    "# Create the list of tuples: entities\n",
    "entities = [(ent.tag, ' '.join(ent)) for ent in txt.entities]\n",
    "\n",
    "# Print entities\n",
    "print(entities)"
   ]
  },
  {
   "cell_type": "markdown",
   "metadata": {},
   "source": [
    "### Spanish NER with polyglot\n",
    "\n",
    "Anda akan melanjutkan eksplorasi `polyglot` Anda sekarang dengan beberapa anotasi bahasa Spanyol. Artikel ini tidak ditulis oleh surat kabar, jadi ini adalah contoh pertama Anda dari teks yang lebih mirip blog. Bagaimana menurut Anda perbandingan ketika menemukan entitas?\n",
    "\n",
    "Objek `Text` telah dibuat sebagai `txt`, dan setiap entitas telah dicetak, seperti yang Anda lihat di Shell IPython.\n",
    "\n",
    "Tugas spesifik Anda adalah menentukan berapa banyak entitas yang mengandung kata `\"Márquez\"` atau `\"Gabo\"` - ini merujuk ke orang yang sama dengan cara yang berbeda!"
   ]
  },
  {
   "cell_type": "code",
   "execution_count": 22,
   "metadata": {},
   "outputs": [],
   "source": [
    "with open(\"datasets/spanish.txt\") as f:\n",
    "    article = f.read()\n",
    "        \n",
    "# Create a new text object using Polyglot's Text class: txt\n",
    "txt = Text(article)"
   ]
  },
  {
   "cell_type": "code",
   "execution_count": 24,
   "metadata": {},
   "outputs": [
    {
     "name": "stdout",
     "output_type": "stream",
     "text": [
      "4\n",
      "0.26666666666666666\n"
     ]
    }
   ],
   "source": [
    "# Initialize the count variable: count\n",
    "count = 0\n",
    "\n",
    "# Iterate over all the entities\n",
    "for ent in txt.entities:\n",
    "    # Check whether the entity contains 'Márquez' or 'Gabo'\n",
    "    if \"Márquez\" in ent or \"Gabo\" in ent:\n",
    "        # Increment count\n",
    "        count += 1\n",
    "\n",
    "# Print count\n",
    "print(count)\n",
    "\n",
    "# Calculate the percentage of entities that refer to \"Gabo\": percentage\n",
    "percentage = count / len(txt.entities)\n",
    "print(percentage)"
   ]
  },
  {
   "cell_type": "code",
   "execution_count": null,
   "metadata": {},
   "outputs": [],
   "source": []
  },
  {
   "cell_type": "code",
   "execution_count": null,
   "metadata": {},
   "outputs": [],
   "source": []
  }
 ],
 "metadata": {
  "kernelspec": {
   "display_name": "Python 3",
   "language": "python",
   "name": "python3"
  },
  "language_info": {
   "codemirror_mode": {
    "name": "ipython",
    "version": 3
   },
   "file_extension": ".py",
   "mimetype": "text/x-python",
   "name": "python",
   "nbconvert_exporter": "python",
   "pygments_lexer": "ipython3",
   "version": "3.7.3"
  }
 },
 "nbformat": 4,
 "nbformat_minor": 2
}
