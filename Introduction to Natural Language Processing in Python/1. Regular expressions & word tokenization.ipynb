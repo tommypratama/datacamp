{
 "cells": [
  {
   "cell_type": "markdown",
   "metadata": {},
   "source": [
    "# 1. Regular expressions & word tokenization\n",
    "\n",
    "Bab ini akan memperkenalkan beberapa konsep NLP dasar, seperti **word tokenization dan regular expressions** untuk membantu mengurai teks. Anda juga akan belajar cara menangani teks non-Inggris dan tokenisasi yang lebih sulit yang mungkin Anda temukan."
   ]
  },
  {
   "cell_type": "markdown",
   "metadata": {},
   "source": [
    "## Introduction to regular expressions"
   ]
  },
  {
   "cell_type": "markdown",
   "metadata": {},
   "source": [
    "### What is Natural Language Processing?\n",
    "\n",
    "* Bidang studi yang difokuskan pada pemahaman bahasa\n",
    "  * Menggunakan statistik dan komputer\n",
    "* Anda akan mempelajari dasar-dasar NLP\n",
    "  * Identifikasi topik\n",
    "  * Klasifikasi teks\n",
    "* Aplikasi NLP meliputi:\n",
    "  * Chatbots\n",
    "  * Terjemahan\n",
    "  * Analisis sentimen\n",
    "  * ...dan masih banyak lagi!"
   ]
  },
  {
   "cell_type": "markdown",
   "metadata": {},
   "source": [
    "### What exactly are regular expressions?\n",
    "\n",
    "* String dengan sintaks khusus\n",
    "* Memungkinkan kita untuk mencocokkan pola di string lain\n",
    "* Aplikasi dari regular expressions:\n",
    "  * Temukan semua tautan web dalam dokumen\n",
    "  * Parsing alamat email, hapus/ganti karakter yang tidak diinginkan"
   ]
  },
  {
   "cell_type": "code",
   "execution_count": 19,
   "metadata": {},
   "outputs": [
    {
     "data": {
      "text/plain": [
       "<re.Match object; span=(0, 3), match='abc'>"
      ]
     },
     "execution_count": 19,
     "metadata": {},
     "output_type": "execute_result"
    }
   ],
   "source": [
    "# Import the regex module\n",
    "import re\n",
    "\n",
    "re.match('abc', 'abcdef')"
   ]
  },
  {
   "cell_type": "code",
   "execution_count": 10,
   "metadata": {},
   "outputs": [
    {
     "data": {
      "text/plain": [
       "<re.Match object; span=(0, 2), match='hi'>"
      ]
     },
     "execution_count": 10,
     "metadata": {},
     "output_type": "execute_result"
    }
   ],
   "source": [
    "word_regex = '\\w+'\n",
    "re.match(word_regex, 'hi there!')"
   ]
  },
  {
   "cell_type": "markdown",
   "metadata": {},
   "source": [
    "### Common regex patterns\n",
    "\n",
    "<img src=\"datasets/regex-cheat.png\" width=500px height=500px align=left />"
   ]
  },
  {
   "cell_type": "markdown",
   "metadata": {},
   "source": [
    "### Python's re Module\n",
    "\n",
    "* `re` module\n",
    "* `split`: pisahkan string pada regex\n",
    "* `findall`: temukan semua pola dalam sebuah string\n",
    "* `search`: mencari sebuah pola\n",
    "* `match`: mencocokkan dengan seluruh string atau substring berdasarkan suatu pola\n",
    "* Pola pertama, dan string kedua\n",
    "* Dapat mengembalikan iterator, string, atau objek yang cocok"
   ]
  },
  {
   "cell_type": "code",
   "execution_count": 11,
   "metadata": {},
   "outputs": [
    {
     "data": {
      "text/plain": [
       "['Split', 'on', 'spaces.']"
      ]
     },
     "execution_count": 11,
     "metadata": {},
     "output_type": "execute_result"
    }
   ],
   "source": [
    "re.split('\\s+', 'Split on spaces.')"
   ]
  },
  {
   "cell_type": "markdown",
   "metadata": {},
   "source": [
    "### Pattern"
   ]
  },
  {
   "cell_type": "code",
   "execution_count": 12,
   "metadata": {},
   "outputs": [
    {
     "data": {
      "text/plain": [
       "['Let', 's', 'write', 'RegEx']"
      ]
     },
     "execution_count": 12,
     "metadata": {},
     "output_type": "execute_result"
    }
   ],
   "source": [
    "my_string = \"Let's write RegEx!\"\n",
    "\n",
    "PATTERN = r\"\\w+\"\n",
    "re.findall(PATTERN, my_string)"
   ]
  },
  {
   "cell_type": "markdown",
   "metadata": {},
   "source": [
    "### `re.split()` and `re.findall()`\n",
    "\n",
    "Sekarang Anda akan mendapatkan kesempatan untuk menulis beberapa Regex untuk mencocokkan digit, string dan karakter non-alfanumerik. Lihatlah `my_string` terlebih dahulu dengan mencetaknya di IPython Shell, untuk menentukan bagaimana pola paling cocok dengan langkah-langkah yang berbeda."
   ]
  },
  {
   "cell_type": "code",
   "execution_count": 13,
   "metadata": {},
   "outputs": [
    {
     "name": "stdout",
     "output_type": "stream",
     "text": [
      "Let's write RegEx!  Won't that be fun?  I sure think so.  Can you find 4 sentences?  Or perhaps, all 19 words?\n"
     ]
    }
   ],
   "source": [
    "my_string = \"Let's write RegEx!  Won't that be fun?  I sure think so.  Can you find 4 sentences?  Or perhaps, all 19 words?\"\n",
    "print(my_string)"
   ]
  },
  {
   "cell_type": "markdown",
   "metadata": {},
   "source": [
    "Catatan: Sangat penting untuk mengawali pola regex Anda dengan `r` untuk memastikan bahwa pola Anda diinterpretasikan dengan cara yang Anda inginkan. Selain itu, Anda mungkin menemui masalah dengan *escape sequences* dalam string. Misalnya, `\"\\n\"` dalam Python digunakan untuk menunjukkan baris baru, tetapi jika Anda menggunakan awalan `r`, itu akan ditafsirkan sebagai string mentah `\"\\n\"` - yaitu, karakter `\"\\\"` diikuti oleh karakter `\"n\"` - dan bukan sebagai baris baru.\n",
    "\n",
    "*Ingat, bahwa sintaks untuk library regex adalah untuk selalu melalui **pola pertama**, dan kemudian **string kedua**.*"
   ]
  },
  {
   "cell_type": "code",
   "execution_count": 20,
   "metadata": {},
   "outputs": [
    {
     "name": "stdout",
     "output_type": "stream",
     "text": [
      "[\"Let's write RegEx\", \"  Won't that be fun\", '  I sure think so', '  Can you find 4 sentences', '  Or perhaps, all 19 words', '']\n"
     ]
    }
   ],
   "source": [
    "# Write a pattern to match sentence endings: sentence_endings\n",
    "sentence_endings = r\"[.?!]\"\n",
    "\n",
    "# Split my_string on sentence endings and print the result\n",
    "print(re.split(sentence_endings, my_string))"
   ]
  },
  {
   "cell_type": "code",
   "execution_count": 16,
   "metadata": {},
   "outputs": [
    {
     "name": "stdout",
     "output_type": "stream",
     "text": [
      "['Let', 'RegEx', 'Won', 'Can', 'Or']\n"
     ]
    }
   ],
   "source": [
    "# Find all capitalized words in my_string and print the result\n",
    "capitalized_words = r\"[A-Z]\\w+\"\n",
    "print(re.findall(capitalized_words, my_string))"
   ]
  },
  {
   "cell_type": "code",
   "execution_count": 22,
   "metadata": {},
   "outputs": [
    {
     "name": "stdout",
     "output_type": "stream",
     "text": [
      "[\"Let's\", 'write', 'RegEx!', \"Won't\", 'that', 'be', 'fun?', 'I', 'sure', 'think', 'so.', 'Can', 'you', 'find', '4', 'sentences?', 'Or', 'perhaps,', 'all', '19', 'words?']\n"
     ]
    }
   ],
   "source": [
    "# Split my_string on spaces and print the result\n",
    "spaces = r\"\\s+\"\n",
    "print(re.split(spaces, my_string))"
   ]
  },
  {
   "cell_type": "code",
   "execution_count": 18,
   "metadata": {},
   "outputs": [
    {
     "name": "stdout",
     "output_type": "stream",
     "text": [
      "['4', '19']\n"
     ]
    }
   ],
   "source": [
    "# Find all digits in my_string and print the result\n",
    "digits = r\"\\d+\"\n",
    "print(re.findall(digits, my_string))"
   ]
  },
  {
   "cell_type": "markdown",
   "metadata": {},
   "source": [
    "**Catatan** : Praktek adalah kunci untuk menguasai RegEx."
   ]
  },
  {
   "cell_type": "markdown",
   "metadata": {},
   "source": [
    "## Introduction to tokenization"
   ]
  },
  {
   "cell_type": "markdown",
   "metadata": {},
   "source": [
    "### What is tokenization?\n",
    "\n",
    "* Mengubah string atau dokumen menjadi **tokens** (potongan yang lebih kecil)\n",
    "* Satu langkah dalam mempersiapkan teks untuk NLP\n",
    "* Banyak teori dan aturan yang berbeda\n",
    "* Anda dapat membuat aturan sendiri menggunakan RegEx\n",
    "* Beberapa contoh:\n",
    "  * Mengurai kata-kata atau kalimat\n",
    "  * Memisahkan tanda baca\n",
    "  * Memisahkan semua tagar dalam tweet"
   ]
  },
  {
   "cell_type": "markdown",
   "metadata": {},
   "source": [
    "### `nltk` library\n",
    "\n",
    "* **nltk**: *natural language toolkit*"
   ]
  },
  {
   "cell_type": "code",
   "execution_count": 26,
   "metadata": {},
   "outputs": [],
   "source": [
    "# Installing library nltk\n",
    "# !pip install nltk"
   ]
  },
  {
   "cell_type": "code",
   "execution_count": 28,
   "metadata": {},
   "outputs": [
    {
     "name": "stderr",
     "output_type": "stream",
     "text": [
      "[nltk_data] Downloading package punkt to /home/jovyan/nltk_data...\n",
      "[nltk_data]   Unzipping tokenizers/punkt.zip.\n"
     ]
    },
    {
     "data": {
      "text/plain": [
       "True"
      ]
     },
     "execution_count": 28,
     "metadata": {},
     "output_type": "execute_result"
    }
   ],
   "source": [
    "import nltk\n",
    "nltk.download('punkt')"
   ]
  },
  {
   "cell_type": "code",
   "execution_count": 29,
   "metadata": {},
   "outputs": [
    {
     "data": {
      "text/plain": [
       "['Hi', 'there', '!']"
      ]
     },
     "execution_count": 29,
     "metadata": {},
     "output_type": "execute_result"
    }
   ],
   "source": [
    "from nltk.tokenize import word_tokenize\n",
    "\n",
    "word_tokenize(\"Hi there!\")"
   ]
  },
  {
   "cell_type": "markdown",
   "metadata": {},
   "source": [
    "### Why tokenize?\n",
    "\n",
    "* Lebih mudah memetakan bagian pembicaraan\n",
    "* Mencocokkan kata-kata umum\n",
    "* Menghapus token yang tidak diinginkan\n",
    "* \"I don't like Sam's shoes.\"\n",
    "* \"I\", \"do\", \"n't\", \"like\", \"Sam\", \"'s\", \"shoes\", \".\""
   ]
  },
  {
   "cell_type": "markdown",
   "metadata": {},
   "source": [
    "### Other nltk tokenizers\n",
    "\n",
    "* **sent_tokenize**: tokenize dokumen menjadi kalimat\n",
    "* **regexp_tokenize**: tokenize string atau dokumen berdasarkan pola RegEx\n",
    "* **TweetTokenizer**: kelas khusus hanya untuk tokenisasi tweet, memungkinkan Anda untuk memisahkan tagar, mentions dan banyak tanda seru !!!"
   ]
  },
  {
   "cell_type": "markdown",
   "metadata": {},
   "source": [
    "### More regex practice\n",
    "\n",
    "* Perbedaan antara `re.search()` dan `re.match()`"
   ]
  },
  {
   "cell_type": "code",
   "execution_count": 30,
   "metadata": {},
   "outputs": [
    {
     "data": {
      "text/plain": [
       "<re.Match object; span=(0, 3), match='abc'>"
      ]
     },
     "execution_count": 30,
     "metadata": {},
     "output_type": "execute_result"
    }
   ],
   "source": [
    "re.match('abc', 'abcde')"
   ]
  },
  {
   "cell_type": "code",
   "execution_count": 32,
   "metadata": {},
   "outputs": [
    {
     "data": {
      "text/plain": [
       "<re.Match object; span=(0, 3), match='abc'>"
      ]
     },
     "execution_count": 32,
     "metadata": {},
     "output_type": "execute_result"
    }
   ],
   "source": [
    "re.search('abc', 'abcde')"
   ]
  },
  {
   "cell_type": "code",
   "execution_count": 33,
   "metadata": {},
   "outputs": [],
   "source": [
    "re.match('cd', 'abcde')"
   ]
  },
  {
   "cell_type": "code",
   "execution_count": 34,
   "metadata": {},
   "outputs": [
    {
     "data": {
      "text/plain": [
       "<re.Match object; span=(2, 4), match='cd'>"
      ]
     },
     "execution_count": 34,
     "metadata": {},
     "output_type": "execute_result"
    }
   ],
   "source": [
    "re.search('cd', 'abcde')"
   ]
  },
  {
   "cell_type": "markdown",
   "metadata": {},
   "source": [
    "### Word tokenization with NLTK"
   ]
  },
  {
   "cell_type": "code",
   "execution_count": 45,
   "metadata": {},
   "outputs": [],
   "source": [
    "# Load data\n",
    "with open(\"datasets/grail.txt\", \"r\") as f:\n",
    "    fileread = f.read()\n",
    "    scene_one = fileread[0:2513]"
   ]
  },
  {
   "cell_type": "code",
   "execution_count": 46,
   "metadata": {},
   "outputs": [
    {
     "name": "stdout",
     "output_type": "stream",
     "text": [
      "{'castle', 'to', 'yet', 'needs', 'they', 'maintain', '!', \"'ve\", 'weight', 'creeper', 'matter', 'its', 'these', 'winter', 'King', 'if', 'climes', 'fly', 'south', 'then', 'do', \"'d\", 'go', 'clop', 'you', 'non-migratory', 'It', 'No', 'SCENE', 'snows', 'on', 'You', '--', \"'m\", 'bangin', 'one', 'Oh', 'plover', 'second', 'halves', 'pound', 'Mercea', 'but', 'goes', 'strand', 'speak', 'Found', 'yeah', 'zone', 'Court', 'Who', 'minute', 'found', 'my', 'could', 'join', 'Where', 'husk', 'two', 'I', 'ratios', 'Yes', 'have', 'European', 'together', 'Halt', 'strangers', 'under', 'They', 'trusty', 'Please', 'and', 'anyway', 'lord', '.', 'with', 'using', 'feathers', 'your', 'not', 'length', \"'em\", 'That', 'We', 'maybe', 'order', '?', 'Camelot', 'Supposing', 'forty-three', 'swallows', 'master', 'may', 'martin', 'migrate', 'coconut', 'air-speed', 'there', 'ounce', 'Wait', 'KING', 'defeator', 'Pendragon', 'England', 'get', 'he', 'are', 'every', '2', 'back', 'dorsal', 'Britons', \"'\", 'be', 'is', 'other', 'covered', 'held', 'guiding', 'Are', 'Pull', 'house', 'Listen', 'knights', 'temperate', 'bring', 'why', 'Uther', 'court', 'horse', 'son', 'warmer', ',', 'them', 'our', 'point', 'What', 'ask', 'swallow', 'velocity', 'me', 'Will', '[', 'tropical', 'land', 'Well', 'this', 'an', 'must', 'line', 'SOLDIER', 'question', 'wants', 'course', ']', 'will', '...', 'from', 'coconuts', 'of', 'simple', 'breadth', 'bird', 'empty', 'grips', ':', 'tell', 'that', 'through', 'beat', 'right', 'five', 'Whoa', 'sun', 'it', 'carried', 'at', 'the', 'The', 'interested', 'carrying', \"n't\", 'got', 'since', 'does', 'Patsy', '1', '#', 'servant', 'by', 'agree', 'grip', 'ridden', 'here', 'wings', 'suggesting', 'mean', 'Arthur', 'times', 'But', 'Saxons', 'just', 'In', \"'re\", 'a', 'am', 'all', 'kingdom', 'wind', 'or', 'carry', 'Not', 'sovereign', 'use', 'who', 'African', 'ARTHUR', \"'s\", 'Am', 'A', 'seek', 'where', 'in', 'So', 'search', 'Ridden'}\n"
     ]
    }
   ],
   "source": [
    "# Import necessary modules\n",
    "from nltk.tokenize import sent_tokenize\n",
    "from nltk.tokenize import word_tokenize\n",
    "\n",
    "# Split scene_one into sentences: sentences\n",
    "sentences = sent_tokenize(scene_one)\n",
    "\n",
    "# Use word_tokenize to tokenize the fourth sentence: tokenized_sent\n",
    "tokenized_sent = word_tokenize(sentences[3])\n",
    "\n",
    "# Make a set of unique tokens in the entire scene: unique_tokens\n",
    "unique_tokens = set(word_tokenize(scene_one))\n",
    "\n",
    "# Print the unique tokens result\n",
    "print(unique_tokens)"
   ]
  },
  {
   "cell_type": "markdown",
   "metadata": {},
   "source": [
    "**Catatan** : Tokenisasi sangat penting bagi NLP, dan Anda akan sering menggunakannya dalam proyek penambangan teks dan pencarian informasi."
   ]
  },
  {
   "cell_type": "markdown",
   "metadata": {},
   "source": [
    "### More regex with `re.search()`\n",
    "\n",
    "Dalam latihan ini, Anda akan menggunakan `re.search()` dan `re.match()` untuk menemukan token tertentu. Baik `search` dan `match` mengharapkan pola regex, mirip dengan yang Anda tetapkan dalam latihan sebelumnya. Anda akan menerapkan metode library regex ini ke teks Monty Python yang sama dari `nltk` corpora."
   ]
  },
  {
   "cell_type": "code",
   "execution_count": 49,
   "metadata": {},
   "outputs": [
    {
     "name": "stdout",
     "output_type": "stream",
     "text": [
      "580 588\n",
      "<re.Match object; span=(9, 32), match='[wind] [clop clop clop]'>\n",
      "<re.Match object; span=(0, 7), match='ARTHUR:'>\n"
     ]
    }
   ],
   "source": [
    "# Search for the first occurrence of \"coconuts\" in scene_one: match\n",
    "match = re.search(\"coconuts\", scene_one)\n",
    "\n",
    "# Print the start and end indexes of match\n",
    "print(match.start(), match.end())\n",
    "\n",
    "# Write a regular expression to search for anything in square brackets: pattern1\n",
    "pattern1 = r\"\\[.*\\]\"\n",
    "\n",
    "# Use re.search to find the first text in square brackets\n",
    "print(re.search(pattern1, scene_one))\n",
    "\n",
    "# Find the script notation at the beginning of the fourth sentence and print it\n",
    "pattern2 = r\"[\\w\\s]+:\"\n",
    "print(re.match(pattern2, sentences[3]))"
   ]
  },
  {
   "cell_type": "markdown",
   "metadata": {},
   "source": [
    "**Catatan** : Sekarang Anda sudah terbiasa dengan dasar-dasar tokenization dan RegEx, saatnya untuk belajar tentang tokenization yang lebih maju."
   ]
  },
  {
   "cell_type": "markdown",
   "metadata": {},
   "source": [
    "## Advanced tokenization with NLTK and regex"
   ]
  },
  {
   "cell_type": "markdown",
   "metadata": {},
   "source": [
    "### Regex groups using or \"|\"\n",
    "\n",
    "* **OR** direpresentasikan menggunakan `|`\n",
    "* Anda dapat mendefinisikan grup menggunakan `()`\n",
    "* Anda dapat menentukan rentang karakter eksplisit menggunakan `[]`"
   ]
  },
  {
   "cell_type": "code",
   "execution_count": 73,
   "metadata": {},
   "outputs": [],
   "source": [
    "match_digits_and_words = ('(\\d+|\\w+)')"
   ]
  },
  {
   "cell_type": "code",
   "execution_count": 74,
   "metadata": {},
   "outputs": [
    {
     "data": {
      "text/plain": [
       "['He', 'has', '11', 'cats']"
      ]
     },
     "execution_count": 74,
     "metadata": {},
     "output_type": "execute_result"
    }
   ],
   "source": [
    "re.findall(match_digits_and_words, 'He has 11 cats.')"
   ]
  },
  {
   "cell_type": "markdown",
   "metadata": {},
   "source": [
    "### Regex ranges and groups\n",
    "\n",
    "<img src=\"datasets/regex-group.png\" width=500px height=500px align=left />"
   ]
  },
  {
   "cell_type": "markdown",
   "metadata": {},
   "source": [
    "### Character range with `re.match()`"
   ]
  },
  {
   "cell_type": "code",
   "execution_count": 75,
   "metadata": {},
   "outputs": [],
   "source": [
    "my_str = 'match lowercase spaces nums like 12, but no commas'"
   ]
  },
  {
   "cell_type": "code",
   "execution_count": 78,
   "metadata": {},
   "outputs": [
    {
     "data": {
      "text/plain": [
       "<re.Match object; span=(0, 35), match='match lowercase spaces nums like 12'>"
      ]
     },
     "execution_count": 78,
     "metadata": {},
     "output_type": "execute_result"
    }
   ],
   "source": [
    "re.match('[a-z0-9 ]+', my_str)"
   ]
  },
  {
   "cell_type": "markdown",
   "metadata": {},
   "source": [
    "### Choosing a tokenizer\n",
    "\n",
    "Dengan diberikan string berikut, mana dari pola di bawah ini yang merupakan tokenizer terbaik? Jika memungkinkan, Anda ingin mempertahankan tanda baca kalimat sebagai token terpisah, tetapi tetap memiliki `'#1'` sebagai token tunggal."
   ]
  },
  {
   "cell_type": "code",
   "execution_count": 51,
   "metadata": {},
   "outputs": [],
   "source": [
    "my_string = \"SOLDIER #1: Found them? In Mercea? The coconut's tropical!\""
   ]
  },
  {
   "cell_type": "code",
   "execution_count": 52,
   "metadata": {},
   "outputs": [],
   "source": [
    "from nltk.tokenize import regexp_tokenize"
   ]
  },
  {
   "cell_type": "code",
   "execution_count": 55,
   "metadata": {},
   "outputs": [
    {
     "data": {
      "text/plain": [
       "['SOLDIER',\n",
       " '#1',\n",
       " 'Found',\n",
       " 'them',\n",
       " '?',\n",
       " 'In',\n",
       " 'Mercea',\n",
       " '?',\n",
       " 'The',\n",
       " 'coconut',\n",
       " 's',\n",
       " 'tropical',\n",
       " '!']"
      ]
     },
     "execution_count": 55,
     "metadata": {},
     "output_type": "execute_result"
    }
   ],
   "source": [
    "pattern = r\"(\\w+|#\\d|\\?|!)\"\n",
    "regexp_tokenize(my_string, pattern)"
   ]
  },
  {
   "cell_type": "markdown",
   "metadata": {},
   "source": [
    "### Regex with NLTK tokenization\n",
    "\n",
    "Twitter adalah sumber yang sering digunakan untuk teks dan tugas NLP. Dalam latihan ini, Anda akan membangun tokenizer yang lebih kompleks untuk tweet dengan tagar dan sebutan menggunakan `nltk` dan regex. Kelas `nltk.tokenize.TweetTokenizer` memberi Anda beberapa metode dan atribut tambahan untuk parsing tweets.\n",
    "\n",
    "Di sini, Anda diberikan beberapa contoh tweet untuk diurai menggunakan `TweetTokenizer` dan `regexp_tokenize` dari modul `nltk.tokenize`. Contoh tweet ini telah dimuat sebelumnya ke variabel `tweets`.\n",
    "\n",
    "*Berbeda dengan sintaks untuk library regex, dengan `nltk_tokenize()` Anda meneruskan pola sebagai **argumen kedua**.*"
   ]
  },
  {
   "cell_type": "code",
   "execution_count": 56,
   "metadata": {},
   "outputs": [],
   "source": [
    "# Create list\n",
    "tweets = ['This is the best #nlp exercise ive found online! #python',\n",
    "          '#NLP is super fun! <3 #learning',\n",
    "          'Thanks @datacamp :) #nlp #python']"
   ]
  },
  {
   "cell_type": "code",
   "execution_count": 62,
   "metadata": {},
   "outputs": [
    {
     "data": {
      "text/plain": [
       "['#nlp', '#python']"
      ]
     },
     "execution_count": 62,
     "metadata": {},
     "output_type": "execute_result"
    }
   ],
   "source": [
    "# Import the necessary modules\n",
    "from nltk.tokenize import regexp_tokenize\n",
    "from nltk.tokenize import TweetTokenizer\n",
    "\n",
    "# Define a regex pattern to find hashtags: pattern1\n",
    "pattern1 = r\"#\\w+\"\n",
    "\n",
    "# Use the pattern on the first tweet in the tweets list\n",
    "regexp_tokenize(tweets[0], pattern1)"
   ]
  },
  {
   "cell_type": "code",
   "execution_count": 67,
   "metadata": {},
   "outputs": [
    {
     "data": {
      "text/plain": [
       "['@datacamp', '#nlp', '#python']"
      ]
     },
     "execution_count": 67,
     "metadata": {},
     "output_type": "execute_result"
    }
   ],
   "source": [
    "# Write a pattern that matches both mentions and hashtags\n",
    "pattern2 = r\"([@#]\\w+)\"\n",
    "\n",
    "# Use the pattern on the last tweet in the tweets list\n",
    "regexp_tokenize(tweets[-1], pattern2)"
   ]
  },
  {
   "cell_type": "code",
   "execution_count": 60,
   "metadata": {},
   "outputs": [
    {
     "name": "stdout",
     "output_type": "stream",
     "text": [
      "[['This', 'is', 'the', 'best', '#nlp', 'exercise', 'ive', 'found', 'online', '!', '#python'], ['#NLP', 'is', 'super', 'fun', '!', '<3', '#learning'], ['Thanks', '@datacamp', ':)', '#nlp', '#python']]\n"
     ]
    }
   ],
   "source": [
    "# Use the TweetTokenizer to tokenize all tweets into one list\n",
    "tknzr = TweetTokenizer()\n",
    "all_tokens = [tknzr.tokenize(t) for t in tweets]\n",
    "print(all_tokens)"
   ]
  },
  {
   "cell_type": "markdown",
   "metadata": {},
   "source": [
    "### Non-ascii tokenization\n",
    "\n",
    "Dalam latihan ini, Anda akan berlatih tokenization tingkat lanjut dengan tokenizing beberapa teks berbasis non-ascii. Anda akan menggunakan bahasa Jerman dengan emoji!\n",
    "\n",
    "Di sini, Anda memiliki akses ke string `german_text`, yang telah dicetak untuk Anda di Shell. Perhatikan emoji dan karakter Jerman!\n",
    "\n",
    "Rentang Unicode untuk emoji adalah:\n",
    "\n",
    "```text\n",
    "('\\U0001F300'-'\\U0001F5FF'), ('\\U0001F600-\\U0001F64F'), ('\\U0001F680-\\U0001F6FF'), and ('\\u2600'-\\u26FF-\\u2700-\\u27BF').\n",
    "```"
   ]
  },
  {
   "cell_type": "code",
   "execution_count": 68,
   "metadata": {},
   "outputs": [],
   "source": [
    "# German text string\n",
    "german_text = 'Wann gehen wir Pizza essen? 🍕 Und fährst du mit Über? 🚕'"
   ]
  },
  {
   "cell_type": "code",
   "execution_count": 70,
   "metadata": {},
   "outputs": [
    {
     "name": "stdout",
     "output_type": "stream",
     "text": [
      "['Wann', 'gehen', 'wir', 'Pizza', 'essen', '?', '🍕', 'Und', 'fährst', 'du', 'mit', 'Über', '?', '🚕']\n"
     ]
    }
   ],
   "source": [
    "# Tokenize and print all words in german_text\n",
    "all_words = word_tokenize(german_text)\n",
    "print(all_words)"
   ]
  },
  {
   "cell_type": "code",
   "execution_count": 71,
   "metadata": {},
   "outputs": [
    {
     "name": "stdout",
     "output_type": "stream",
     "text": [
      "['Wann', 'Pizza', 'Und', 'Über']\n"
     ]
    }
   ],
   "source": [
    "# Tokenize and print only capital words\n",
    "capital_words = r\"[A-ZÜ]\\w+\"\n",
    "print(regexp_tokenize(german_text, capital_words))"
   ]
  },
  {
   "cell_type": "code",
   "execution_count": 72,
   "metadata": {},
   "outputs": [
    {
     "name": "stdout",
     "output_type": "stream",
     "text": [
      "['🍕', '🚕']\n"
     ]
    }
   ],
   "source": [
    "# Tokenize and print only emoji\n",
    "emoji = \"['\\U0001F300-\\U0001F5FF'|'\\U0001F600-\\U0001F64F'|'\\U0001F680-\\U0001F6FF'|'\\u2600-\\u26FF\\u2700-\\u27BF']\"\n",
    "print(regexp_tokenize(german_text, emoji))"
   ]
  },
  {
   "cell_type": "markdown",
   "metadata": {},
   "source": [
    "## Charting word length with NLTK"
   ]
  },
  {
   "cell_type": "markdown",
   "metadata": {},
   "source": [
    "### Getting started with matplotlib\n",
    "\n",
    "* Memetakan library yang digunakan oleh banyak proyek Python open source\n",
    "* Fungsionalitas langsung dengan banyak opsi\n",
    "* Histograms\n",
    "* Bar charts\n",
    "* Line charts\n",
    "* Scatter plots\n",
    "* ...dan juga fungsionalitas canggih seperti grafik dan animasi 3D!"
   ]
  },
  {
   "cell_type": "markdown",
   "metadata": {},
   "source": [
    "### Plotting a histogram with matplotlib"
   ]
  },
  {
   "cell_type": "code",
   "execution_count": 82,
   "metadata": {},
   "outputs": [
    {
     "data": {
      "image/png": "[encoded data removed]",
      "text/plain": [
       "<Figure size 432x288 with 1 Axes>"
      ]
     },
     "metadata": {},
     "output_type": "display_data"
    }
   ],
   "source": [
    "from matplotlib import pyplot as plt\n",
    "plt.style.use('ggplot')\n",
    "\n",
    "plt.hist([1, 5, 5, 7, 7, 7, 9])\n",
    "plt.show()"
   ]
  },
  {
   "cell_type": "markdown",
   "metadata": {},
   "source": [
    "### Combining NLP data extraction with plotting"
   ]
  },
  {
   "cell_type": "code",
   "execution_count": 83,
   "metadata": {},
   "outputs": [
    {
     "data": {
      "image/png": "[encoded data removed]",
      "text/plain": [
       "<Figure size 432x288 with 1 Axes>"
      ]
     },
     "metadata": {},
     "output_type": "display_data"
    }
   ],
   "source": [
    "words = word_tokenize(\"This is a pretty cool tool!\")\n",
    "word_lengths = [len(w) for w in words]\n",
    "\n",
    "plt.hist(word_lengths)\n",
    "plt.show()"
   ]
  },
  {
   "cell_type": "markdown",
   "metadata": {},
   "source": [
    "### Charting practice\n",
    "\n",
    "Coba gunakan keahlian baru Anda untuk menemukan dan memetakan jumlah kata per baris dalam naskah menggunakan `matplotlib`. Script Holy Grail dimuat untuk Anda, dan Anda perlu menggunakan regex untuk menemukan kata per baris."
   ]
  },
  {
   "cell_type": "code",
   "execution_count": 85,
   "metadata": {},
   "outputs": [],
   "source": [
    "# Load data\n",
    "with open(\"datasets/grail.txt\", \"r\") as f:\n",
    "    holy_grail = f.read()"
   ]
  },
  {
   "cell_type": "code",
   "execution_count": 86,
   "metadata": {},
   "outputs": [
    {
     "data": {
      "text/plain": [
       "65003"
      ]
     },
     "execution_count": 86,
     "metadata": {},
     "output_type": "execute_result"
    }
   ],
   "source": [
    "len(holy_grail)"
   ]
  },
  {
   "cell_type": "code",
   "execution_count": 88,
   "metadata": {},
   "outputs": [
    {
     "data": {
      "image/png": "[encoded data removed]",
      "text/plain": [
       "<Figure size 432x288 with 1 Axes>"
      ]
     },
     "metadata": {},
     "output_type": "display_data"
    }
   ],
   "source": [
    "# Split the script into lines: lines\n",
    "lines = holy_grail.split('\\n')\n",
    "\n",
    "# Replace all script lines for speaker\n",
    "pattern = \"[A-Z]{2,}(\\s)?(#\\d)?([A-Z]{2,})?:\"\n",
    "lines = [re.sub(pattern, '', l) for l in lines]\n",
    "\n",
    "# Tokenize each line: tokenized_lines\n",
    "tokenized_lines = [regexp_tokenize(s, \"\\w+\") for s in lines]\n",
    "\n",
    "# Make a frequency list of lengths: line_num_words\n",
    "line_num_words = [len(t_line) for t_line in tokenized_lines]\n",
    "\n",
    "# Plot a histogram of the line lengths\n",
    "plt.hist(line_num_words)\n",
    "\n",
    "# Show the plot\n",
    "plt.show()"
   ]
  },
  {
   "cell_type": "code",
   "execution_count": null,
   "metadata": {},
   "outputs": [],
   "source": []
  }
 ],
 "metadata": {
  "kernelspec": {
   "display_name": "Python 3",
   "language": "python",
   "name": "python3"
  },
  "language_info": {
   "codemirror_mode": {
    "name": "ipython",
    "version": 3
   },
   "file_extension": ".py",
   "mimetype": "text/x-python",
   "name": "python",
   "nbconvert_exporter": "python",
   "pygments_lexer": "ipython3",
   "version": "3.7.3"
  }
 },
 "nbformat": 4,
 "nbformat_minor": 2
}
