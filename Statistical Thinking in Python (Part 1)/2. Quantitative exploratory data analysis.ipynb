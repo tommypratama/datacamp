{
 "cells": [
  {
   "cell_type": "markdown",
   "metadata": {},
   "source": [
    "# 2. Quantitative exploratory data analysis\n",
    "\n",
    "Dalam bab ini, Anda akan menghitung statistik ringkasan yang berguna, yang berfungsi untuk menggambarkan secara ringkas fitur-fitur penting dari dataset dengan beberapa angka."
   ]
  },
  {
   "cell_type": "markdown",
   "metadata": {},
   "source": [
    "## Preparing Data and Library"
   ]
  },
  {
   "cell_type": "code",
   "execution_count": 1,
   "metadata": {},
   "outputs": [],
   "source": [
    "# Import library\n",
    "import pandas as pd\n",
    "import matplotlib.pyplot as plt\n",
    "import seaborn as sns\n",
    "import numpy as np\n",
    "\n",
    "sns.set()"
   ]
  },
  {
   "cell_type": "code",
   "execution_count": 12,
   "metadata": {},
   "outputs": [],
   "source": [
    "# Load data\n",
    "iris = pd.read_csv('datasets/iris.csv')\n",
    "\n",
    "# Create data array\n",
    "setosa_petal_length = np.array(iris['petal length (cm)'].loc[iris['species'] == 'setosa'])\n",
    "versicolor_petal_length = np.array(iris['petal length (cm)'].loc[iris['species'] == 'versicolor'])\n",
    "virginica_petal_length = np.array(iris['petal length (cm)'].loc[iris['species'] == 'virginica'])\n",
    "versicolor_petal_width = np.array(iris['petal width (cm)'].loc[iris['species'] == 'versicolor'])"
   ]
  },
  {
   "cell_type": "markdown",
   "metadata": {},
   "source": [
    "## Introduction to summary statistics: The sample mean and median\n",
    "\n",
    "### Means and medians\n",
    "\n",
    "Yang mana dari pernyataan berikut ini yang benar tentang `mean` (rata-rata) dan `median`?\n",
    "\n",
    "**Benar**\n",
    "\n",
    "* Outlier dapat secara signifikan mempengaruhi nilai mean, tetapi tidak median.\n",
    "\n",
    "**Salah**\n",
    "\n",
    "* Outlier dapat secara signifikan mempengaruhi nilai mean dan median.\n",
    "* Mean dan median secara umum keduanya kuat untuk outlier tunggal.\n",
    "* Mean dan median sama jika ada jumlah poin data ganjil."
   ]
  },
  {
   "cell_type": "markdown",
   "metadata": {},
   "source": [
    "### Computing means\n",
    "\n",
    "Nilai rata-rata dari semua pengukuran memberikan indikasi besarnya tipikal suatu pengukuran. Itu dihitung menggunakan `np.mean()`."
   ]
  },
  {
   "cell_type": "code",
   "execution_count": 3,
   "metadata": {},
   "outputs": [
    {
     "name": "stdout",
     "output_type": "stream",
     "text": [
      "I. versicolor: 4.26 cm\n"
     ]
    }
   ],
   "source": [
    "# Compute the mean: mean_length_vers\n",
    "mean_length_vers = np.mean(versicolor_petal_length)\n",
    "\n",
    "# Print the result with some nice formatting\n",
    "print('I. versicolor:', mean_length_vers, 'cm')"
   ]
  },
  {
   "cell_type": "markdown",
   "metadata": {},
   "source": [
    "## Percentiles, outliers, and box plots\n",
    "\n",
    "### Computing percentiles\n",
    "\n",
    "Dalam latihan ini, Anda akan menghitung persentil dari panjang kelopak *Iris versicolor*."
   ]
  },
  {
   "cell_type": "code",
   "execution_count": 4,
   "metadata": {},
   "outputs": [
    {
     "name": "stdout",
     "output_type": "stream",
     "text": [
      "[3.3    4.     4.35   4.6    4.9775]\n"
     ]
    }
   ],
   "source": [
    "# Specify array of percentiles: percentiles\n",
    "percentiles = np.array([2.5, 25, 50, 75, 97.5])\n",
    "\n",
    "# Compute percentiles: ptiles_vers\n",
    "ptiles_vers = np.percentile(versicolor_petal_length, percentiles)\n",
    "\n",
    "# Print the result\n",
    "print(ptiles_vers)"
   ]
  },
  {
   "cell_type": "markdown",
   "metadata": {},
   "source": [
    "### Comparing percentiles to ECDF\n",
    "\n",
    "Untuk melihat bagaimana persentil berhubungan dengan ECDF, Anda akan memplot persentil dari panjang kelopak *Iris versicolor* yang Anda hitung dalam latihan terakhir pada plot ECDF yang Anda hasilkan di bab 1. Variabel persentil dari latihan sebelumnya tersedia di ruang kerja sebagai `ptiles_vers` dan `percentiles`.\n",
    "\n",
    "Perhatikan bahwa untuk memastikan sumbu Y plot ECDF tetap antara 0 dan 1, Anda harus mengubah skala array `percentiles` yang sesuai - dalam hal ini, membaginya dengan 100."
   ]
  },
  {
   "cell_type": "code",
   "execution_count": 5,
   "metadata": {},
   "outputs": [],
   "source": [
    "# Computing the ECDF\n",
    "def ecdf(data):\n",
    "    \"\"\"Compute ECDF for a one-dimensional array of measurements.\"\"\"\n",
    "    # Number of data points: n\n",
    "    n = len(data)\n",
    "\n",
    "    # x-data for the ECDF: x\n",
    "    x = np.sort(data)\n",
    "\n",
    "    # y-data for the ECDF: y\n",
    "    y = np.arange(1, n+1) / n\n",
    "\n",
    "    return x, y\n",
    "\n",
    "# Compute ECDFs\n",
    "x_set, y_set = ecdf(setosa_petal_length)\n",
    "x_vers, y_vers = ecdf(versicolor_petal_length)\n",
    "x_virg, y_virg = ecdf(virginica_petal_length)"
   ]
  },
  {
   "cell_type": "code",
   "execution_count": 6,
   "metadata": {},
   "outputs": [
    {
     "data": {
      "image/png": "[encoded data removed]",
      "text/plain": [
       "<Figure size 432x288 with 1 Axes>"
      ]
     },
     "metadata": {},
     "output_type": "display_data"
    }
   ],
   "source": [
    "# Plot the ECDF\n",
    "_ = plt.plot(x_vers, y_vers, '.')\n",
    "_ = plt.xlabel('petal length (cm)')\n",
    "_ = plt.ylabel('ECDF')\n",
    "\n",
    "# Overlay percentiles as red diamonds.\n",
    "_ = plt.plot(ptiles_vers, percentiles/100, marker='D', color='red',\n",
    "         linestyle='none')\n",
    "\n",
    "# Show the plot\n",
    "plt.show()"
   ]
  },
  {
   "cell_type": "markdown",
   "metadata": {},
   "source": [
    "### Box-and-whisker plot\n",
    "\n",
    "Membuat box plot untuk panjang kelopak tidak diperlukan, karena dataset iris tidak terlalu besar dan bee swarm plot bekerja dengan baik. Namun, tidak ada salahnya untuk berlatih. Buat box plot dengan panjang kelopak bunga iris.\n",
    "\n",
    "Untuk referensi Anda, kode yang digunakan untuk menghasilkan box plot:\n",
    "\n",
    "<pre>\n",
    "_ = sns.boxplot(x='east_west', y='dem_share', data=df_all_states)\n",
    "_ = plt.xlabel('region')\n",
    "_ = plt.ylabel('percent of vote for Obama')\n",
    "</pre>\n",
    "\n",
    "Di Shell IPython, Anda dapat menggunakan `sns.boxplot?` atau `help(sns.boxplot)` untuk detail lebih lanjut tentang cara membuat box plot menggunakan seaborn."
   ]
  },
  {
   "cell_type": "code",
   "execution_count": 7,
   "metadata": {},
   "outputs": [
    {
     "data": {
      "text/html": [
       "<div>\n",
       "<style scoped>\n",
       "    .dataframe tbody tr th:only-of-type {\n",
       "        vertical-align: middle;\n",
       "    }\n",
       "\n",
       "    .dataframe tbody tr th {\n",
       "        vertical-align: top;\n",
       "    }\n",
       "\n",
       "    .dataframe thead th {\n",
       "        text-align: right;\n",
       "    }\n",
       "</style>\n",
       "<table border=\"1\" class=\"dataframe\">\n",
       "  <thead>\n",
       "    <tr style=\"text-align: right;\">\n",
       "      <th></th>\n",
       "      <th>sepal length (cm)</th>\n",
       "      <th>sepal width (cm)</th>\n",
       "      <th>petal length (cm)</th>\n",
       "      <th>petal width (cm)</th>\n",
       "      <th>species</th>\n",
       "    </tr>\n",
       "  </thead>\n",
       "  <tbody>\n",
       "    <tr>\n",
       "      <th>0</th>\n",
       "      <td>5.1</td>\n",
       "      <td>3.5</td>\n",
       "      <td>1.4</td>\n",
       "      <td>0.2</td>\n",
       "      <td>setosa</td>\n",
       "    </tr>\n",
       "    <tr>\n",
       "      <th>1</th>\n",
       "      <td>4.9</td>\n",
       "      <td>3.0</td>\n",
       "      <td>1.4</td>\n",
       "      <td>0.2</td>\n",
       "      <td>setosa</td>\n",
       "    </tr>\n",
       "    <tr>\n",
       "      <th>2</th>\n",
       "      <td>4.7</td>\n",
       "      <td>3.2</td>\n",
       "      <td>1.3</td>\n",
       "      <td>0.2</td>\n",
       "      <td>setosa</td>\n",
       "    </tr>\n",
       "    <tr>\n",
       "      <th>3</th>\n",
       "      <td>4.6</td>\n",
       "      <td>3.1</td>\n",
       "      <td>1.5</td>\n",
       "      <td>0.2</td>\n",
       "      <td>setosa</td>\n",
       "    </tr>\n",
       "    <tr>\n",
       "      <th>4</th>\n",
       "      <td>5.0</td>\n",
       "      <td>3.6</td>\n",
       "      <td>1.4</td>\n",
       "      <td>0.2</td>\n",
       "      <td>setosa</td>\n",
       "    </tr>\n",
       "  </tbody>\n",
       "</table>\n",
       "</div>"
      ],
      "text/plain": [
       "   sepal length (cm)  sepal width (cm)  petal length (cm)  petal width (cm)  \\\n",
       "0                5.1               3.5                1.4               0.2   \n",
       "1                4.9               3.0                1.4               0.2   \n",
       "2                4.7               3.2                1.3               0.2   \n",
       "3                4.6               3.1                1.5               0.2   \n",
       "4                5.0               3.6                1.4               0.2   \n",
       "\n",
       "  species  \n",
       "0  setosa  \n",
       "1  setosa  \n",
       "2  setosa  \n",
       "3  setosa  \n",
       "4  setosa  "
      ]
     },
     "execution_count": 7,
     "metadata": {},
     "output_type": "execute_result"
    }
   ],
   "source": [
    "iris.head()"
   ]
  },
  {
   "cell_type": "code",
   "execution_count": 8,
   "metadata": {},
   "outputs": [
    {
     "data": {
      "image/png": "[encoded data removed]",
      "text/plain": [
       "<Figure size 432x288 with 1 Axes>"
      ]
     },
     "metadata": {},
     "output_type": "display_data"
    }
   ],
   "source": [
    "# Create box plot with Seaborn's default settings\n",
    "_ = sns.boxplot(x='species', y='petal length (cm)', data=iris)\n",
    "\n",
    "# Label the axes\n",
    "_ = plt.xlabel('species')\n",
    "_ = plt.ylabel('petal length (cm)')\n",
    "\n",
    "# Show the plot\n",
    "plt.show()"
   ]
  },
  {
   "cell_type": "markdown",
   "metadata": {},
   "source": [
    "## Variance and standard deviation\n",
    "\n",
    "### Computing the variance\n",
    "\n",
    "Penting untuk memiliki pemahaman tentang apa fungsi yang umum digunakan. Meskipun Anda mungkin sudah tahu cara menghitung varian, ini adalah kursus pemula yang tidak berasumsi demikian. Dalam latihan ini, kami akan secara eksplisit menghitung varians dari panjang kelopak *Iris veriscolor* menggunakan persamaan yang dibahas dalam video. Kami kemudian akan menggunakan *np.var()* untuk menghitungnya."
   ]
  },
  {
   "cell_type": "code",
   "execution_count": 9,
   "metadata": {},
   "outputs": [
    {
     "name": "stdout",
     "output_type": "stream",
     "text": [
      "0.21640000000000004 0.21640000000000004\n"
     ]
    }
   ],
   "source": [
    "# Array of differences to mean: differences\n",
    "differences = versicolor_petal_length - np.mean(versicolor_petal_length)\n",
    "\n",
    "# Square the differences: diff_sq\n",
    "diff_sq = differences ** 2\n",
    "\n",
    "# Compute the mean square difference: variance_explicit\n",
    "variance_explicit = np.mean(diff_sq)\n",
    "\n",
    "# Compute the variance using NumPy: variance_np\n",
    "variance_np = np.var(versicolor_petal_length)\n",
    "\n",
    "# Print the results\n",
    "print(variance_explicit, variance_np)"
   ]
  },
  {
   "cell_type": "markdown",
   "metadata": {},
   "source": [
    "### The standard deviation and the variance\n",
    "\n",
    "Seperti yang disebutkan dalam video, standar deviasi adalah akar kuadrat dari varians. Anda akan melihat ini sendiri dengan menghitung standar deviasi menggunakan `np.std()` dan membandingkannya dengan apa yang Anda dapatkan dengan menghitung varians dengan `np.var()` dan kemudian menghitung akar kuadrat."
   ]
  },
  {
   "cell_type": "code",
   "execution_count": 10,
   "metadata": {},
   "outputs": [
    {
     "name": "stdout",
     "output_type": "stream",
     "text": [
      "0.4651881339845203\n",
      "0.4651881339845203\n"
     ]
    }
   ],
   "source": [
    "# Compute the variance: variance\n",
    "variance = np.var(versicolor_petal_length)\n",
    "\n",
    "# Print the square root of the variance\n",
    "print(np.sqrt(variance))\n",
    "\n",
    "# Print the standard deviation\n",
    "print(np.std(versicolor_petal_length))"
   ]
  },
  {
   "cell_type": "markdown",
   "metadata": {},
   "source": [
    "## Covariance and the Pearson correlation coefficient\n",
    "\n",
    "### Scatter plots\n",
    "\n",
    "Ketika Anda membuat bee swarm plots, box plot, dan plot ECDF pada latihan sebelumnya, Anda membandingkan panjang kelopak spesies iris yang berbeda. Tetapi bagaimana jika Anda ingin membandingkan dua sifat dari satu spesies? Inilah yang akan kita lakukan dalam latihan ini. Kami akan membuat **scatter** plot ukuran panjang dan lebar kelopak bunga Iris's Anderson. Jika bunga bersisik (yaitu, ia mempertahankan proporsinya saat tumbuh), kami berharap panjang dan lebar akan dikorelasikan."
   ]
  },
  {
   "cell_type": "code",
   "execution_count": 13,
   "metadata": {},
   "outputs": [
    {
     "data": {
      "image/png": "[encoded data removed]",
      "text/plain": [
       "<Figure size 432x288 with 1 Axes>"
      ]
     },
     "metadata": {},
     "output_type": "display_data"
    }
   ],
   "source": [
    "# Make a scatter plot\n",
    "_ = plt.plot(versicolor_petal_length, versicolor_petal_width, marker='.', linestyle='none')\n",
    "\n",
    "\n",
    "# Label the axes\n",
    "_ = plt.xlabel('petal length (cm)')\n",
    "_ = plt.ylabel('petal width (cm)')\n",
    "\n",
    "# Show the result\n",
    "plt.show()"
   ]
  },
  {
   "cell_type": "markdown",
   "metadata": {},
   "source": [
    "**Note** : Memang, kami melihat beberapa korelasi. Kelopak yang lebih panjang juga cenderung lebih lebar."
   ]
  },
  {
   "cell_type": "markdown",
   "metadata": {},
   "source": [
    "### Variance and covariance by looking\n",
    "\n",
    "Pertimbangkan empat scatter plot data x-y dibawah ini. Yang masing-masing memiliki:\n",
    "\n",
    "* varian tertinggi dalam variabel x,\n",
    "* kovarians tertinggi,\n",
    "* kovarians negatif?\n",
    "\n",
    "![text](images/scatter-plot-iris.svg)\n",
    "\n",
    "**Answer** : d, c, b"
   ]
  },
  {
   "cell_type": "markdown",
   "metadata": {},
   "source": [
    "### Computing the covariance\n",
    "\n",
    "Kovarians dapat dihitung menggunakan fungsi Numpy `np.cov()`. Sebagai contoh, kami memiliki dua dataset `x` dan `y`, `np.cov(x, y)` mengembalikan array 2D di mana entri `[0,1]` dan `[1,0]` adalah kovarian. Entri `[0,0]` adalah varian data dalam `x`, dan entri `[1,1]` adalah varian data dalam `y`. Array 2D ini disebut matriks kovarians, karena itu mengatur diri dan kovarians.\n",
    "\n",
    "*Perhatikan simetri bahwa, entri `[1,0]` sama dengan entri `[0,1]`.*"
   ]
  },
  {
   "cell_type": "code",
   "execution_count": 14,
   "metadata": {},
   "outputs": [
    {
     "name": "stdout",
     "output_type": "stream",
     "text": [
      "[[0.22081633 0.07310204]\n",
      " [0.07310204 0.03910612]]\n",
      "0.07310204081632653\n"
     ]
    }
   ],
   "source": [
    "# Compute the covariance matrix: covariance_matrix\n",
    "covariance_matrix = np.cov(versicolor_petal_length, versicolor_petal_width)\n",
    "\n",
    "# Print covariance matrix\n",
    "print(covariance_matrix)\n",
    "\n",
    "# Extract covariance of length and width of petals: petal_cov\n",
    "petal_cov = covariance_matrix[0,1]\n",
    "\n",
    "# Print the length/width covariance\n",
    "print(petal_cov)"
   ]
  },
  {
   "cell_type": "markdown",
   "metadata": {},
   "source": [
    "### Computing the Pearson correlation coefficient\n",
    "\n",
    "Seperti disebutkan dalam video, koefisien korelasi Pearson, juga disebut Pearson r, seringkali lebih mudah diinterpretasikan daripada kovarians. Itu dihitung menggunakan fungsi `np.corrcoef()`. Seperti `np.cov()`, dibutuhkan dua array sebagai argumen dan mengembalikan array 2D. Entri `[0,0]` dan `[1,1]` harus sama dengan 1 (dapatkah Anda memikirkan mengapa?), Dan nilai yang kita cari adalah entri `[0,1]`.\n",
    "\n",
    "Dalam latihan ini, Anda akan menulis fungsi, `pearson_r(x, y)` yang mengambil dua array dan mengembalikan koefisien korelasi Pearson. Anda kemudian akan menggunakan fungsi ini untuk menghitungnya untuk panjang dan lebar kelopak *I. versicolor*."
   ]
  },
  {
   "cell_type": "code",
   "execution_count": 15,
   "metadata": {},
   "outputs": [
    {
     "name": "stdout",
     "output_type": "stream",
     "text": [
      "0.7866680885228169\n"
     ]
    }
   ],
   "source": [
    "def pearson_r(x, y):\n",
    "    \"\"\"Compute Pearson correlation coefficient between two arrays.\"\"\"\n",
    "    # Compute correlation matrix: corr_mat\n",
    "    corr_mat = np.corrcoef(x, y)\n",
    "\n",
    "    # Return entry [0,1]\n",
    "    return corr_mat[0,1]\n",
    "\n",
    "# Compute Pearson correlation coefficient for I. versicolor: r\n",
    "r = pearson_r(versicolor_petal_length, versicolor_petal_width)\n",
    "\n",
    "# Print the result\n",
    "print(r)"
   ]
  },
  {
   "cell_type": "code",
   "execution_count": null,
   "metadata": {},
   "outputs": [],
   "source": []
  },
  {
   "cell_type": "code",
   "execution_count": null,
   "metadata": {},
   "outputs": [],
   "source": []
  },
  {
   "cell_type": "code",
   "execution_count": null,
   "metadata": {},
   "outputs": [],
   "source": []
  }
 ],
 "metadata": {
  "kernelspec": {
   "display_name": "Python 3",
   "language": "python",
   "name": "python3"
  },
  "language_info": {
   "codemirror_mode": {
    "name": "ipython",
    "version": 3
   },
   "file_extension": ".py",
   "mimetype": "text/x-python",
   "name": "python",
   "nbconvert_exporter": "python",
   "pygments_lexer": "ipython3",
   "version": "3.7.3"
  }
 },
 "nbformat": 4,
 "nbformat_minor": 2
}
