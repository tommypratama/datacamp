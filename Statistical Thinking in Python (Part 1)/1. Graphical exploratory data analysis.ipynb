{
 "cells": [
  {
   "cell_type": "markdown",
   "metadata": {},
   "source": [
    "# 1. Graphical exploratory data analysis\n",
    "\n",
    "Sebelum menyelam ke dalam teknik inferensi statistik yang canggih, Anda harus terlebih dahulu menjelajahi data Anda dengan plotting dan menghitung statistik ringkasan sederhana. Proses ini, yang disebut analisis data eksplorasi, adalah langkah pertama yang penting dalam analisis statistik data."
   ]
  },
  {
   "cell_type": "markdown",
   "metadata": {},
   "source": [
    "## Introduction to Exploratory Data Analysis\n",
    "\n",
    "### Tukey's comments on EDA\n",
    "\n",
    "Meskipun Anda mungkin belum membaca buku Tukey, saya curiga Anda sudah memiliki ide bagus tentang sudut pandangnya dari video yang memperkenalkan Anda pada analisis data eksplorasi. Manakah dari kutipan berikut ini yang tidak langsung dari Tukey?\n",
    "\n",
    "**Benar**\n",
    "\n",
    "* Analisis data eksplorasi adalah pekerjaan detektif.\n",
    "* Tidak ada alasan untuk gagal merencanakan dan melihat.\n",
    "* Nilai terbesar dari sebuah gambar adalah gambar itu memaksa kita untuk memperhatikan apa yang tidak pernah kita sangka lihat.\n",
    "* Penting untuk memahami apa yang dapat Anda lakukan sebelum Anda belajar bagaimana mengukur seberapa baik Anda melakukannya.\n",
    "\n",
    "**Salah**\n",
    "\n",
    "* Sering kali EDA terlalu memakan waktu, jadi lebih baik langsung masuk dan melakukan tes hipotesis Anda.\n",
    "\n",
    "**Note** : Pernyataan itu sangat tidak masuk akal. Jika Anda tidak punya waktu untuk melakukan EDA, Anda benar-benar tidak punya waktu untuk melakukan tes hipotesis. Dan Anda harus selalu melakukan EDA terlebih dahulu."
   ]
  },
  {
   "cell_type": "markdown",
   "metadata": {},
   "source": [
    "### Advantages of graphical EDA\n",
    "\n",
    "Manakah dari berikut ini yang *tidak benar* dengan EDA grafis?\n",
    "\n",
    "**Benar**\n",
    "\n",
    "* Ini sering melibatkan pengubahan data tabel menjadi bentuk grafik.\n",
    "* Jika dilakukan dengan baik, representasi grafis dapat memungkinkan interpretasi data yang lebih cepat.\n",
    "* Tidak ada alasan untuk lalai melakukan EDA grafis.\n",
    "\n",
    "**Salah**\n",
    "\n",
    "* Plot yang tampak bagus selalu merupakan tujuan akhir dari analisis statistik.\n",
    "\n",
    "**Note** : Sementara plot yang baik dan informatif kadang-kadang bisa menjadi titik akhir analisis, ini lebih seperti permulaan: membantu memandu Anda dalam analisis statistik kuantitatif yang akan datang berikutnya."
   ]
  },
  {
   "cell_type": "markdown",
   "metadata": {},
   "source": [
    "## Plotting a histogram\n",
    "\n",
    "### Plotting a histogram of iris data\n",
    "\n",
    "Untuk latihan di bagian ini, Anda akan menggunakan kumpulan data klasik yang dikumpulkan oleh ahli botani Edward Anderson dan dipopulerkan oleh Ronald Fisher, salah satu ahli statistik paling produktif dalam sejarah. Anderson dengan hati-hati mengukur sifat-sifat anatomi sampel dari tiga spesies iris yang berbeda, *Iris setosa, Iris versicolor, dan Iris virginica*. Datasets lengkap [tersedia sebagai bagian dari scikit-learn](http://scikit-learn.org/stable/modules/generated/sklearn.datasets.load_iris.html). Di sini, Anda akan bekerja dengan pengukuran panjang kelopaknya (*petal length*).\n",
    "\n",
    "Plot histogram dari panjang kelopak 50 sampel *Iris versicolor* menggunakan pengaturan default matplotlib/seaborn. Ingat bahwa untuk menentukan gaya seaborn default, Anda dapat menggunakan `sns.set()`, di mana `sns` adalah alias yang diimpor dari `seaborn`.\n",
    "\n",
    "Subset dari kumpulan data yang berisi panjang kelopak *Iris versicolor* dalam satuan sentimeter (cm) disimpan dalam array NumPy `versicolor_petal_length`."
   ]
  },
  {
   "cell_type": "code",
   "execution_count": 2,
   "metadata": {},
   "outputs": [],
   "source": [
    "# Import modules\n",
    "import matplotlib.pyplot as plt\n",
    "import seaborn as sns\n",
    "import numpy as np\n",
    "import pandas as pd\n",
    "\n",
    "# Set default Seaborn style\n",
    "sns.set()"
   ]
  },
  {
   "cell_type": "code",
   "execution_count": 24,
   "metadata": {},
   "outputs": [],
   "source": [
    "# Create numpy array\n",
    "versicolor_petal_length = np.array([4.7, 4.5, 4.9, 4. , 4.6, 4.5, 4.7, 3.3, 4.6, 3.9, 3.5, 4.2, 4. , 4.7, 3.6, 4.4, 4.5, 4.1, 4.5, 3.9, 4.8, 4. , 4.9, 4.7, 4.3, 4.4, 4.8, 5. , 4.5, 3.5, 3.8, 3.7, 3.9, 5.1, 4.5, 4.5, 4.7, 4.4, 4.1, 4. , 4.4, 4.6, 4. , 3.3, 4.2, 4.2, 4.2, 4.3, 3. , 4.1])\n"
   ]
  },
  {
   "cell_type": "code",
   "execution_count": 25,
   "metadata": {},
   "outputs": [
    {
     "data": {
      "image/png": "[encoded data removed]",
      "text/plain": [
       "<Figure size 432x288 with 1 Axes>"
      ]
     },
     "metadata": {},
     "output_type": "display_data"
    }
   ],
   "source": [
    "# Plot histogram of versicolor petal lengths\n",
    "plt.hist(versicolor_petal_length)\n",
    "\n",
    "# Show histogram\n",
    "plt.show()"
   ]
  },
  {
   "cell_type": "markdown",
   "metadata": {},
   "source": [
    "### Axis labels!\n",
    "\n",
    "Dalam latihan terakhir, Anda membuat histogram yang bagus dari panjang kelopak bunga *Iris versicolor*, tetapi Anda tidak memberi label pada sumbu! Tidak apa-apa; itu bukan salahmu karena kami tidak memintamu. Sekarang, tambahkan label sumbu ke plot menggunakan `plt.xlabel()` dan `plt.ylabel()`. Jangan lupa untuk menambahkan unit dan menetapkan kedua pernyataan ke `_`."
   ]
  },
  {
   "cell_type": "code",
   "execution_count": 26,
   "metadata": {},
   "outputs": [
    {
     "data": {
      "image/png": "[encoded data removed]",
      "text/plain": [
       "<Figure size 432x288 with 1 Axes>"
      ]
     },
     "metadata": {},
     "output_type": "display_data"
    }
   ],
   "source": [
    "# Plot histogram of versicolor petal lengths\n",
    "_ = plt.hist(versicolor_petal_length)\n",
    "\n",
    "# Label axes\n",
    "_ = plt.xlabel('petal length (cm)')\n",
    "_ = plt.ylabel('count')\n",
    "\n",
    "# Show histogram\n",
    "plt.show()"
   ]
  },
  {
   "cell_type": "markdown",
   "metadata": {},
   "source": [
    "### Adjusting the number of bins in a histogram\n",
    "\n",
    "Histogram yang baru saja Anda buat memiliki sepuluh bins. Ini adalah default dari matplotlib. \"Aturan akar kuadrat\" adalah aturan praktis yang biasa digunakan untuk memilih jumlah bins: pilih jumlah bins untuk menjadi akar kuadrat dari jumlah sampel. Plot histogram *Iris versicolor petal lengths* lagi, kali ini menggunakan aturan akar kuadrat untuk jumlah bins. Anda menentukan jumlah bins menggunakan keyword argument `bins` dari `plt.hist()`."
   ]
  },
  {
   "cell_type": "code",
   "execution_count": 27,
   "metadata": {},
   "outputs": [
    {
     "data": {
      "image/png": "[encoded data removed]",
      "text/plain": [
       "<Figure size 432x288 with 1 Axes>"
      ]
     },
     "metadata": {},
     "output_type": "display_data"
    }
   ],
   "source": [
    "# Compute number of data points: n_data\n",
    "n_data = len(versicolor_petal_length)\n",
    "\n",
    "# Number of bins is the square root of number of data points: n_bins\n",
    "n_bins = np.sqrt(n_data)\n",
    "\n",
    "# Convert number of bins to integer: n_bins\n",
    "n_bins = int(n_bins)\n",
    "\n",
    "# Plot the histogram\n",
    "_ = plt.hist(versicolor_petal_length, bins=n_bins)\n",
    "\n",
    "# Label axes\n",
    "_ = plt.xlabel('petal length (cm)')\n",
    "_ = plt.ylabel('count')\n",
    "\n",
    "# Show histogram\n",
    "plt.show()"
   ]
  },
  {
   "cell_type": "markdown",
   "metadata": {},
   "source": [
    "## Plot all of your data: Bee swarm plots\n",
    "\n",
    "### Bee swarm plot\n",
    "\n",
    "Buat *bee swarm plot* dengan panjang kelopak iris. Sumbu x Anda harus berisi masing-masing dari tiga spesies, dan sumbu y panjang kelopak. Dataframe yang berisi data ada dalam namespace Anda sebagai `df`.\n",
    "\n",
    "Referensi untuk membuat bee swarm plot:\n",
    "\n",
    "<pre>\n",
    "_ = sns.swarmplot(x='state', y='dem_share', data=df_swing)\n",
    "_ = plt.xlabel('state')\n",
    "_ = plt.ylabel('percent of vote for Obama')\n",
    "plt.show()\n",
    "</pre>\n",
    "\n",
    "Di Shell IPython, Anda dapat menggunakan `sns.swarmplot?` atau `help(sns.swarmplot)` untuk detail lebih lanjut tentang cara membuat *bee swarm plot* menggunakan seaborn."
   ]
  },
  {
   "cell_type": "code",
   "execution_count": 39,
   "metadata": {},
   "outputs": [
    {
     "data": {
      "text/html": [
       "<div>\n",
       "<style scoped>\n",
       "    .dataframe tbody tr th:only-of-type {\n",
       "        vertical-align: middle;\n",
       "    }\n",
       "\n",
       "    .dataframe tbody tr th {\n",
       "        vertical-align: top;\n",
       "    }\n",
       "\n",
       "    .dataframe thead th {\n",
       "        text-align: right;\n",
       "    }\n",
       "</style>\n",
       "<table border=\"1\" class=\"dataframe\">\n",
       "  <thead>\n",
       "    <tr style=\"text-align: right;\">\n",
       "      <th></th>\n",
       "      <th>sepal length (cm)</th>\n",
       "      <th>sepal width (cm)</th>\n",
       "      <th>petal length (cm)</th>\n",
       "      <th>petal width (cm)</th>\n",
       "      <th>species</th>\n",
       "    </tr>\n",
       "  </thead>\n",
       "  <tbody>\n",
       "    <tr>\n",
       "      <th>0</th>\n",
       "      <td>5.1</td>\n",
       "      <td>3.5</td>\n",
       "      <td>1.4</td>\n",
       "      <td>0.2</td>\n",
       "      <td>setosa</td>\n",
       "    </tr>\n",
       "    <tr>\n",
       "      <th>1</th>\n",
       "      <td>4.9</td>\n",
       "      <td>3.0</td>\n",
       "      <td>1.4</td>\n",
       "      <td>0.2</td>\n",
       "      <td>setosa</td>\n",
       "    </tr>\n",
       "    <tr>\n",
       "      <th>2</th>\n",
       "      <td>4.7</td>\n",
       "      <td>3.2</td>\n",
       "      <td>1.3</td>\n",
       "      <td>0.2</td>\n",
       "      <td>setosa</td>\n",
       "    </tr>\n",
       "    <tr>\n",
       "      <th>3</th>\n",
       "      <td>4.6</td>\n",
       "      <td>3.1</td>\n",
       "      <td>1.5</td>\n",
       "      <td>0.2</td>\n",
       "      <td>setosa</td>\n",
       "    </tr>\n",
       "    <tr>\n",
       "      <th>4</th>\n",
       "      <td>5.0</td>\n",
       "      <td>3.6</td>\n",
       "      <td>1.4</td>\n",
       "      <td>0.2</td>\n",
       "      <td>setosa</td>\n",
       "    </tr>\n",
       "  </tbody>\n",
       "</table>\n",
       "</div>"
      ],
      "text/plain": [
       "   sepal length (cm)  sepal width (cm)  petal length (cm)  petal width (cm)  \\\n",
       "0                5.1               3.5                1.4               0.2   \n",
       "1                4.9               3.0                1.4               0.2   \n",
       "2                4.7               3.2                1.3               0.2   \n",
       "3                4.6               3.1                1.5               0.2   \n",
       "4                5.0               3.6                1.4               0.2   \n",
       "\n",
       "  species  \n",
       "0  setosa  \n",
       "1  setosa  \n",
       "2  setosa  \n",
       "3  setosa  \n",
       "4  setosa  "
      ]
     },
     "execution_count": 39,
     "metadata": {},
     "output_type": "execute_result"
    }
   ],
   "source": [
    "# Load iris data\n",
    "df = pd.read_csv('datasets/iris.csv')\n",
    "df.head()"
   ]
  },
  {
   "cell_type": "code",
   "execution_count": 44,
   "metadata": {},
   "outputs": [
    {
     "data": {
      "image/png": "[encoded data removed]",
      "text/plain": [
       "<Figure size 432x288 with 1 Axes>"
      ]
     },
     "metadata": {},
     "output_type": "display_data"
    }
   ],
   "source": [
    "# Create bee swarm plot with Seaborn's default settings\n",
    "_ = sns.swarmplot(x='species', y='petal length (cm)', data=df)\n",
    "\n",
    "# Label the axes\n",
    "_ = plt.xlabel('species')\n",
    "_ = plt.ylabel('petal length (cm)')\n",
    "\n",
    "# Show the plot\n",
    "plt.show()"
   ]
  },
  {
   "cell_type": "markdown",
   "metadata": {},
   "source": [
    "### Interpreting a bee swarm plot\n",
    "\n",
    "Kesimpulan apa yang bisa Anda ambil dari *bee swarm plot* dengan panjang iris yang Anda hasilkan dalam latihan sebelumnya?\n",
    "\n",
    "*Kelopak I. virginica cenderung paling panjang, dan kelopak I. setosa cenderung paling pendek dari ketiga spesies.*\n",
    "\n",
    "**Note** : Perhatikan bahwa kami berkata \"cenderung.\" Beberapa individu bunga I. *virginica* mungkin lebih pendek dari bunga individu I. *versicolor*. Ada juga kemungkinan bahwa bunga individu I. *setosa* mungkin memiliki kelopak yang lebih panjang daripada bunga individu I. *versicolor*, meskipun ini sangat tidak mungkin, dan tidak diamati oleh Anderson."
   ]
  },
  {
   "cell_type": "markdown",
   "metadata": {},
   "source": [
    "## Plot all of your data: ECDFs\n",
    "\n",
    "### Computing the ECDF\n",
    "\n",
    "Dalam latihan ini, Anda akan menulis fungsi yang mengambil input data array 1D dan kemudian mengembalikan nilai `x` dan `y` ECDF. Anda akan menggunakan fungsi ini berulang-ulang selama kursus ini dan sekuelnya. ECDF adalah salah satu plot paling penting dalam analisis statistik."
   ]
  },
  {
   "cell_type": "code",
   "execution_count": 45,
   "metadata": {},
   "outputs": [],
   "source": [
    "def ecdf(data):\n",
    "    \"\"\"Compute ECDF for a one-dimensional array of measurements.\"\"\"\n",
    "    # Number of data points: n\n",
    "    n = len(data)\n",
    "\n",
    "    # x-data for the ECDF: x\n",
    "    x = np.sort(data)\n",
    "\n",
    "    # y-data for the ECDF: y\n",
    "    y = np.arange(1, n+1) / n\n",
    "\n",
    "    return x, y"
   ]
  },
  {
   "cell_type": "markdown",
   "metadata": {},
   "source": [
    "### Plotting the ECDF\n",
    "\n",
    "Anda sekarang akan menggunakan fungsi `ecdf()`, untuk menghitung ECDF pada panjang kelopak bunga Anderson's *Iris versicolor*. Anda kemudian akan memplot ECDF. Ingatlah bahwa fungsi `ecdf()` mengembalikan dua array sehingga Anda harus membukanya. Contoh pembongkaran tersebut adalah `x, y = foo(data)`, untuk beberapa fungsi `foo()`."
   ]
  },
  {
   "cell_type": "code",
   "execution_count": 46,
   "metadata": {},
   "outputs": [
    {
     "data": {
      "image/png": "[encoded data removed]",
      "text/plain": [
       "<Figure size 432x288 with 1 Axes>"
      ]
     },
     "metadata": {},
     "output_type": "display_data"
    }
   ],
   "source": [
    "# Compute ECDF for versicolor data: x_vers, y_vers\n",
    "x_vers, y_vers = ecdf(versicolor_petal_length)\n",
    "\n",
    "# Generate plot\n",
    "_ = plt.plot(x_vers, y_vers, marker='.', linestyle='none')\n",
    "\n",
    "# Label the axes\n",
    "_ = plt.xlabel('species')\n",
    "_ = plt.ylabel('ECDF')\n",
    "\n",
    "# Display the plot\n",
    "plt.show()"
   ]
  },
  {
   "cell_type": "markdown",
   "metadata": {},
   "source": [
    "### Comparison of ECDFs\n",
    "\n",
    "ECDF juga memungkinkan Anda untuk membandingkan dua distribusi atau lebih (meskipun plot menjadi berantakan jika Anda memiliki terlalu banyak). Di sini, Anda akan memplot ECDFs untuk panjang kelopak dari ketiga spesies iris. Anda sudah menulis fungsi untuk menghasilkan ECDF sehingga Anda dapat menggunakannya dengan baik!\n",
    "\n",
    "Untuk overlay ketiga ECDF pada plot yang sama, Anda dapat menggunakan `plt.plot()` tiga kali, satu kali untuk setiap ECDF. Ingatlah untuk menyertakan `marker='.'` dan `linestyle='none'` sebagai argumen di dalam `plt.plot()`."
   ]
  },
  {
   "cell_type": "code",
   "execution_count": 57,
   "metadata": {},
   "outputs": [],
   "source": [
    "# Create data array\n",
    "setosa_petal_length = np.array(df['petal length (cm)'].loc[df['species'] == 'setosa'])\n",
    "versicolor_petal_length = np.array(df['petal length (cm)'].loc[df['species'] == 'versicolor'])\n",
    "virginica_petal_length = np.array(df['petal length (cm)'].loc[df['species'] == 'virginica'])"
   ]
  },
  {
   "cell_type": "code",
   "execution_count": 58,
   "metadata": {},
   "outputs": [
    {
     "data": {
      "image/png": "[encoded data removed]",
      "text/plain": [
       "<Figure size 432x288 with 1 Axes>"
      ]
     },
     "metadata": {},
     "output_type": "display_data"
    }
   ],
   "source": [
    "# Compute ECDFs\n",
    "x_set, y_set = ecdf(setosa_petal_length)\n",
    "x_vers, y_vers = ecdf(versicolor_petal_length)\n",
    "x_virg, y_virg = ecdf(virginica_petal_length)\n",
    "\n",
    "# Plot all ECDFs on the same plot\n",
    "_ = plt.plot(x_set, y_set, marker='.', linestyle='none')\n",
    "_ = plt.plot(x_vers, y_vers, marker='.', linestyle='none')\n",
    "_ = plt.plot(x_virg, y_virg, marker='.', linestyle='none')\n",
    "\n",
    "# Annotate the plot\n",
    "plt.legend(('setosa', 'versicolor', 'virginica'), loc='lower right')\n",
    "_ = plt.xlabel('petal length (cm)')\n",
    "_ = plt.ylabel('ECDF')\n",
    "\n",
    "# Display the plot\n",
    "plt.show()"
   ]
  },
  {
   "cell_type": "markdown",
   "metadata": {},
   "source": [
    "**Note** : ECDF mengungkapkan perbedaan yang jelas di antara spesies. Setosa jauh lebih pendek, juga dengan variabilitas absolut dalam panjang kelopak daripada versicolor dan virginica."
   ]
  },
  {
   "cell_type": "code",
   "execution_count": null,
   "metadata": {},
   "outputs": [],
   "source": []
  }
 ],
 "metadata": {
  "kernelspec": {
   "display_name": "Python 3",
   "language": "python",
   "name": "python3"
  },
  "language_info": {
   "codemirror_mode": {
    "name": "ipython",
    "version": 3
   },
   "file_extension": ".py",
   "mimetype": "text/x-python",
   "name": "python",
   "nbconvert_exporter": "python",
   "pygments_lexer": "ipython3",
   "version": "3.7.3"
  }
 },
 "nbformat": 4,
 "nbformat_minor": 2
}
