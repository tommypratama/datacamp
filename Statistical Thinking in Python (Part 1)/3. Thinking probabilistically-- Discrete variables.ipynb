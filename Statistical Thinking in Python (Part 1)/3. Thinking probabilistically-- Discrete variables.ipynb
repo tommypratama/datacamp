{
 "cells": [
  {
   "cell_type": "markdown",
   "metadata": {},
   "source": [
    "# 3. Thinking probabilistically-- Discrete variables\n",
    "\n",
    "Kesimpulan statistik (*Statistical inference*) bersandar pada probabilitas. Karena kita jarang bisa mengatakan sesuatu yang bermakna dengan kepastian mutlak dari data, kita menggunakan bahasa probabilistik untuk membuat pernyataan kuantitatif tentang data. Dalam bab ini, Anda akan belajar cara berpikir secara probabilistik tentang jumlah diskrit: yang hanya dapat mengambil nilai tertentu, seperti bilangan bulat."
   ]
  },
  {
   "cell_type": "markdown",
   "metadata": {},
   "source": [
    "## Preparing Data and Library"
   ]
  },
  {
   "cell_type": "code",
   "execution_count": 1,
   "metadata": {},
   "outputs": [],
   "source": [
    "# Import modules\n",
    "import matplotlib.pyplot as plt\n",
    "import seaborn as sns\n",
    "import numpy as np\n",
    "import pandas as pd\n",
    "\n",
    "# Set default Seaborn style\n",
    "sns.set()"
   ]
  },
  {
   "cell_type": "markdown",
   "metadata": {},
   "source": [
    "## Probabilistic logic and statistical inference\n",
    "\n",
    "### What is the goal of statistical inference?\n",
    "\n",
    "Mengapa kita melakukan kesimpulan statistik?\n",
    "\n",
    "* Untuk menarik kesimpulan probabilistik tentang apa yang mungkin kita harapkan jika kita mengumpulkan data yang sama lagi.\n",
    "* Untuk menarik kesimpulan yang bisa ditindaklanjuti dari data.\n",
    "* Untuk menarik kesimpulan yang lebih umum dari data atau pengamatan yang relatif sedikit.\n",
    "\n",
    "**Note** : Kesimpulan statistik melibatkan pengambilan data Anda ke kesimpulan probabilistik tentang apa yang Anda harapkan jika Anda mengambil lebih banyak data, dan Anda dapat membuat keputusan berdasarkan kesimpulan ini."
   ]
  },
  {
   "cell_type": "markdown",
   "metadata": {},
   "source": [
    "### Why do we use the language of probability?\n",
    "\n",
    "Manakah dari berikut ini yang bukan alasan mengapa kami menggunakan bahasa probabilistik dalam inferensi statistik?\n",
    "\n",
    "* Probabilitas memberikan ukuran ketidakpastian.\n",
    "* Data hampir tidak pernah persis sama ketika diperoleh kembali, dan probabilitas memungkinkan kita untuk mengatakan seberapa besar kita berharap mereka berbeda.\n",
    "\n",
    "**Yang Bukan** :\n",
    "\n",
    "* Bahasa probabilistik tidak terlalu tepat.\n",
    "\n",
    "**Note** : Bahasa probabilistik sebenarnya sangat tepat. Ini justru menggambarkan ketidakpastian."
   ]
  },
  {
   "cell_type": "markdown",
   "metadata": {},
   "source": [
    "## Random number generators and hacker statistics\n",
    "\n",
    "### Generating random numbers using the np.random module\n",
    "\n",
    "Kami akan menggunakan modul `np.random` untuk sisa kursus ini dan sekuelnya. Sebenarnya, Anda mungkin akan memanggil fungsi dari modul ini lebih dari yang lain saat mengenakan topi ahli statistik hacker Anda. Mari kita mulai dengan mengambil fungsi yang paling sederhana, `np.random.random()` untuk tes putaran. Fungsi mengembalikan angka acak antara nol dan satu. Panggil `np.random.random()` beberapa kali di shell IPython. Anda akan melihat angka-angka berubah antara nol dan satu.\n",
    "\n",
    "Dalam latihan ini, kami akan menghasilkan banyak angka acak antara nol dan satu, dan kemudian memplot hasilnya dengan histogram. Jika angkanya benar-benar acak, semua bar di histogram harus memiliki tinggi yang hampir sama.\n",
    "\n",
    "Anda mungkin telah memperhatikan bahwa, dalam video, Justin menghasilkan 4 angka acak dengan menyertakan keyword argument `size=4` ke `np.random.random()`. Pendekatan semacam itu lebih efisien daripada `for` loop: dalam latihan ini, bagaimanapun, Anda akan menulis loop untuk pembelajaran statistik hacker sebagai praktik mengulang percobaan berulang-ulang."
   ]
  },
  {
   "cell_type": "code",
   "execution_count": 2,
   "metadata": {},
   "outputs": [
    {
     "data": {
      "image/png": "[encoded data removed]",
      "text/plain": [
       "<Figure size 432x288 with 1 Axes>"
      ]
     },
     "metadata": {},
     "output_type": "display_data"
    }
   ],
   "source": [
    "# Seed the random number generator\n",
    "np.random.seed(42)\n",
    "\n",
    "# Initialize random numbers: random_numbers\n",
    "random_numbers = np.empty(100000)\n",
    "\n",
    "# Generate random numbers by looping over range(100000)\n",
    "for i in range(100000):\n",
    "    random_numbers[i] = np.array(np.random.random())\n",
    "\n",
    "# Plot a histogram\n",
    "_ = plt.hist(random_numbers)\n",
    "\n",
    "# Show the plot\n",
    "plt.show()"
   ]
  },
  {
   "cell_type": "markdown",
   "metadata": {},
   "source": [
    "**Note** : Histogram hampir persis rata di bagian atas, menunjukkan bahwa ada kemungkinan yang sama bahwa angka yang dihasilkan secara acak ada di salah satu bins histogram."
   ]
  },
  {
   "cell_type": "markdown",
   "metadata": {},
   "source": [
    "### The np.random module and Bernoulli trials\n",
    "\n",
    "Anda dapat menganggap persidangan Bernoulli sebagai flip dari koin yang mungkin bias. Secara khusus, setiap flip koin memiliki probabilitas `p` pendaratan kepala (sukses) dan probabilitas `1 − p` pendaratan ekor (kegagalan).\n",
    "\n",
    "Dalam latihan ini, Anda akan menulis fungsi untuk melakukan `n` percobaan Bernoulli, `perform_bernoulli_trials(n, p)`, yang mengembalikan jumlah keberhasilan dari `n` percobaan Bernoulli, yang masing-masing memiliki probabilitas `p` keberhasilan. Untuk melakukan setiap percobaan Bernoulli, gunakan fungsi `np.random.random()`, yang mengembalikan angka acak antara nol dan satu."
   ]
  },
  {
   "cell_type": "code",
   "execution_count": 3,
   "metadata": {},
   "outputs": [],
   "source": [
    "def perform_bernoulli_trials(n, p):\n",
    "    \"\"\"Perform n Bernoulli trials with success probability p\n",
    "    and return number of successes.\"\"\"\n",
    "    # Initialize number of successes: n_success\n",
    "    n_success = 0\n",
    "\n",
    "    # Perform trials\n",
    "    for i in range(n):\n",
    "        # Choose random number between zero and one: random_number\n",
    "        random_number = np.random.random()\n",
    "\n",
    "        # If less than p, it's a success so add one to n_success\n",
    "        if random_number < p:\n",
    "            n_success += 1\n",
    "\n",
    "    return n_success"
   ]
  },
  {
   "cell_type": "markdown",
   "metadata": {},
   "source": [
    "### How many defaults might we expect?\n",
    "\n",
    "Katakanlah bank membuat 100 pinjaman hipotek. Mungkin saja antara 0 dan 100 pinjaman akan gagal bayar. Anda ingin mengetahui probabilitas mendapatkan jumlah default yang diberikan, mengingat bahwa probabilitas default adalah `p = 0.05`.\n",
    "\n",
    "Untuk menyelidiki ini, Anda akan melakukan simulasi. Anda akan melakukan 100 uji coba Bernoulli menggunakan fungsi `perform_bernoulli_trials()` yang Anda tulis dalam latihan sebelumnya dan mencatat berapa banyak default yang kami dapatkan.\n",
    "\n",
    "Di sini, kesuksesan adalah standar. (Ingat bahwa kata \"sukses\" hanya berarti bahwa uji coba Bernoulli mengevaluasi ke `True`, yaitu, apakah penerima pinjaman gagal bayar?) Anda akan melakukan ini untuk 100 uji coba Bernoulli lainnya. Dan lagi dan lagi sampai kami telah mencobanya 1000 kali. Kemudian, Anda akan memplot histogram yang menggambarkan probabilitas jumlah default."
   ]
  },
  {
   "cell_type": "code",
   "execution_count": 4,
   "metadata": {},
   "outputs": [
    {
     "data": {
      "image/png": "[encoded data removed]",
      "text/plain": [
       "<Figure size 432x288 with 1 Axes>"
      ]
     },
     "metadata": {},
     "output_type": "display_data"
    }
   ],
   "source": [
    "# Seed random number generator\n",
    "np.random.seed(42)\n",
    "\n",
    "# Initialize the number of defaults: n_defaults\n",
    "n_defaults = np.empty(1000)\n",
    "\n",
    "# Compute the number of defaults\n",
    "for i in range(1000):\n",
    "    n_defaults[i] = perform_bernoulli_trials(100, 0.05)\n",
    "\n",
    "\n",
    "# Plot the histogram with default number of bins; label your axes\n",
    "_ = plt.hist(n_defaults, density=True)\n",
    "_ = plt.xlabel('number of defaults out of 100 loans')\n",
    "_ = plt.ylabel('probability')\n",
    "\n",
    "# Show the plot\n",
    "plt.show()"
   ]
  },
  {
   "cell_type": "markdown",
   "metadata": {},
   "source": [
    "**Note** : Ini sebenarnya bukan cara yang optimal untuk memetakan histogram ketika hasilnya diketahui bilangan bulat. Kami akan meninjau kembali ini dalam latihan yang akan datang."
   ]
  },
  {
   "cell_type": "markdown",
   "metadata": {},
   "source": [
    "### Will the bank fail?\n",
    "\n",
    "Plot jumlah default yang Anda dapatkan dari latihan sebelumnya, di namespace Anda yaitu `n_defaults`, sebagai CDF. Fungsi `ecdf()` yang Anda tulis di bab pertama tersedia.\n",
    "\n",
    "Jika suku bunga sedemikian rupa sehingga bank akan kehilangan uang jika 10 atau lebih pinjamannya gagal bayar, berapakah probabilitas bahwa bank akan kehilangan uang?"
   ]
  },
  {
   "cell_type": "code",
   "execution_count": 5,
   "metadata": {},
   "outputs": [],
   "source": [
    "# Computing the ECDF\n",
    "def ecdf(data):\n",
    "    \"\"\"Compute ECDF for a one-dimensional array of measurements.\"\"\"\n",
    "    # Number of data points: n\n",
    "    n = len(data)\n",
    "\n",
    "    # x-data for the ECDF: x\n",
    "    x = np.sort(data)\n",
    "\n",
    "    # y-data for the ECDF: y\n",
    "    y = np.arange(1, n+1) / n\n",
    "\n",
    "    return x, y"
   ]
  },
  {
   "cell_type": "code",
   "execution_count": 12,
   "metadata": {},
   "outputs": [
    {
     "data": {
      "image/png": "[encoded data removed]",
      "text/plain": [
       "<Figure size 432x288 with 1 Axes>"
      ]
     },
     "metadata": {},
     "output_type": "display_data"
    },
    {
     "name": "stdout",
     "output_type": "stream",
     "text": [
      "Probability of losing money = 0.0278\n"
     ]
    }
   ],
   "source": [
    "# Compute ECDF: x, y\n",
    "x, y = ecdf(n_defaults)\n",
    "\n",
    "# Plot the ECDF with labeled axes\n",
    "_ = plt.plot(x, y, marker='.', linestyle='none')\n",
    "_ = plt.xlabel('number of defaults out of 100 loans')\n",
    "_ = plt.ylabel('probability')\n",
    "\n",
    "# Show the plot\n",
    "plt.show()\n",
    "\n",
    "# Compute the number of 100-loan simulations with 10 or more defaults: n_lose_money\n",
    "n_lose_money = np.sum(n_defaults >= 10)\n",
    "\n",
    "# Compute and print probability of losing money\n",
    "print('Probability of losing money =', n_lose_money / len(n_defaults))"
   ]
  },
  {
   "cell_type": "markdown",
   "metadata": {},
   "source": [
    "**Note** : Seperti yang mungkin kita harapkan, kemungkinan besar kita mendapatkan 5/100 default. Tapi kami masih memiliki peluang 2% untuk mendapatkan 10 atau lebih default dari 100 pinjaman."
   ]
  },
  {
   "cell_type": "markdown",
   "metadata": {},
   "source": [
    "## Probability distributions and stories: The Binomial distribution\n",
    "\n",
    "### Sampling out of the Binomial distribution\n",
    "\n",
    "Hitung fungsi massa probabilitas untuk jumlah default yang kami harapkan untuk 100 pinjaman seperti pada bagian terakhir, tetapi alih-alih mensimulasikan semua uji coba Bernoulli, lakukan pengambilan sampel menggunakan `np.random.binomial()`.\n",
    "\n",
    "Ini identik dengan perhitungan yang Anda lakukan pada set latihan terakhir menggunakan fungsi `perform_bernoulli_trials()` yang ditulis khusus, tetapi jauh lebih efisien secara komputasi. Mengingat efisiensi ekstra ini, kami akan mengambil 10.000 sampel, bukan 1000. Setelah mengambil sampel, plot CDF sebagai yang terakhir kali. CDF yang Anda plotting adalah distribusi Binomial.\n",
    "\n",
    "Catatan: Untuk latihan ini dan semua langkah selanjutnya, generator angka acak sudah di-seeded sebelumnya untuk Anda (dengan `np.random.seed(42)`) untuk menghemat Anda mengetik setiap kali."
   ]
  },
  {
   "cell_type": "code",
   "execution_count": 13,
   "metadata": {},
   "outputs": [
    {
     "data": {
      "image/png": "[encoded data removed]",
      "text/plain": [
       "<Figure size 432x288 with 1 Axes>"
      ]
     },
     "metadata": {},
     "output_type": "display_data"
    }
   ],
   "source": [
    "# Take 10,000 samples out of the binomial distribution: n_defaults\n",
    "n_defaults = np.random.binomial(n=100, p=0.05, size=10000)\n",
    "\n",
    "# Compute CDF: x, y\n",
    "x, y = ecdf(n_defaults)\n",
    "\n",
    "# Plot the CDF with axis labels\n",
    "_ = plt.plot(x, y, marker='.', linestyle='none')\n",
    "_ = plt.xlabel('number of defaults out of 100 loans')\n",
    "_ = plt.ylabel('CDF')\n",
    "\n",
    "# Show the plot\n",
    "plt.show()"
   ]
  },
  {
   "cell_type": "markdown",
   "metadata": {},
   "source": [
    "**Note** : Jika Anda tahu ceritanya, menggunakan algoritme bawaan untuk langsung mengambil sampel dari distribusi jauh lebih cepat."
   ]
  },
  {
   "cell_type": "markdown",
   "metadata": {},
   "source": [
    "### Plotting the Binomial PMF\n",
    "\n",
    "Seperti disebutkan dalam video, plotting PMF yang terlihat bagus memerlukan sedikit modifikasi matplotlib yang tidak akan kita bahas di sini. Sebagai gantinya, kami akan plotting PMF dari distribusi Binomial sebagai histogram dengan keterampilan yang telah Anda pelajari.\n",
    "\n",
    "Caranya adalah mengatur ujung `bins` ke `plt.hist()`. Kami ingin bins berpusat pada bilangan bulat. Jadi, ujung bins harus `-0,5, 0,5, 1,5, 2,5, ...` hingga `max(n_defaults) + 1.5`. Anda dapat menghasilkan array seperti ini menggunakan `np.arange()` dan kemudian mengurangi `0,5` dari array."
   ]
  },
  {
   "cell_type": "code",
   "execution_count": 9,
   "metadata": {},
   "outputs": [
    {
     "data": {
      "image/png": "[encoded data removed]",
      "text/plain": [
       "<Figure size 432x288 with 1 Axes>"
      ]
     },
     "metadata": {},
     "output_type": "display_data"
    }
   ],
   "source": [
    "# Compute bin edges: bins\n",
    "bins = np.arange(0, max(n_defaults) + 1.5) - 0.5\n",
    "\n",
    "# Generate histogram\n",
    "_ = plt.hist(n_defaults, density=True, bins=bins)\n",
    "\n",
    "# Label axes\n",
    "_ = plt.xlabel('number of defaults out of 100 loans')\n",
    "_ = plt.ylabel('PMF')\n",
    "\n",
    "# Show the plot\n",
    "plt.show()"
   ]
  },
  {
   "cell_type": "markdown",
   "metadata": {},
   "source": [
    "## Poisson processes and the Poisson distribution\n",
    "\n",
    "### Relationship between Binomial and Poisson distributions\n",
    "\n",
    "Anda baru saja mendengar bahwa distribusi Poisson adalah batas distribusi Binomial untuk peristiwa langka. Ini masuk akal jika Anda berpikir tentang cerita. Katakanlah kita melakukan uji coba Bernoulli setiap menit selama satu jam, masing-masing dengan probabilitas keberhasilan 0,1. Kami akan melakukan 60 percobaan, dan jumlah keberhasilan didistribusikan secara Binomially, dan kami berharap mendapatkan sekitar 6 keberhasilan. Ini seperti kisah Poisson yang kami diskusikan di video, di mana kami mendapatkan rata-rata 6 hit di situs web per jam.\n",
    "\n",
    "Jadi, distribusi Poisson dengan tingkat kedatangan sama dengan `np` mendekati distribusi Binomial untuk uji coba `n` Bernoulli dengan probabilitas `p` keberhasilan (dengan `n` besar dan `p` kecil). Yang penting, distribusi Poisson seringkali lebih mudah untuk dikerjakan karena hanya memiliki satu parameter daripada dua untuk distribusi Binomial.\n",
    "\n",
    "Mari kita jelajahi dua distribusi ini secara komputasi. Anda akan menghitung rata-rata dan standar deviasi sampel dari distribusi Poisson dengan tingkat kedatangan 10. Kemudian, Anda akan menghitung rata-rata dan standar deviasi sampel dari distribusi Binomial dengan parameter `n` dan `p` sehingga `np = 10`."
   ]
  },
  {
   "cell_type": "code",
   "execution_count": 14,
   "metadata": {},
   "outputs": [
    {
     "name": "stdout",
     "output_type": "stream",
     "text": [
      "Poisson:      10.0139 3.1787272279955068\n",
      "n = 20 Binom: 10.0102 3.139919737827704\n",
      "n = 100 Binom: 9.9905 3.142898304113577\n",
      "n = 1000 Binom: 10.0168 3.158151003356236\n"
     ]
    }
   ],
   "source": [
    "# Draw 10,000 samples out of Poisson distribution: samples_poisson\n",
    "samples_poisson = np.random.poisson(10, 10000)\n",
    "\n",
    "# Print the mean and standard deviation\n",
    "print('Poisson:     ', np.mean(samples_poisson),\n",
    "                       np.std(samples_poisson))\n",
    "\n",
    "# Specify values of n and p to consider for Binomial: n, p\n",
    "n = [20, 100, 1000]\n",
    "p = [0.5, 0.1, 0.01]\n",
    "\n",
    "# Draw 10,000 samples for each n,p pair: samples_binomial\n",
    "for i in range(3):\n",
    "    samples_binomial = np.random.binomial(1000,0.01,10000)\n",
    "\n",
    "    # Print results\n",
    "    print('n =', n[i], 'Binom:', np.mean(samples_binomial),\n",
    "                                 np.std(samples_binomial))"
   ]
  },
  {
   "cell_type": "markdown",
   "metadata": {},
   "source": [
    "**Note** : Berarti semuanya hampir sama, yang dapat terbukti benar dengan melakukan beberapa pekerjaan pena-dan-kertas. Standar deviasi dari distribusi Binomial semakin dekat dan lebih dekat dengan distribusi Poisson karena probabilitas `p` semakin rendah dan semakin rendah."
   ]
  },
  {
   "cell_type": "markdown",
   "metadata": {},
   "source": [
    "### How many no-hitters in a season?\n",
    "\n",
    "Dalam bisbol, seorang yang tidak pemukul adalah permainan di mana seorang pelempar bola tidak memungkinkan tim lain terkena pukulan. Ini adalah peristiwa langka, dan sejak awal apa yang disebut era bisbol modern (mulai tahun 1901), hanya ada 251 di antaranya melalui musim 2015 di lebih dari 200.000 pertandingan. ECDF dari jumlah no-hitter dalam satu musim ditunjukkan di bawah ini. Distribusi probabilitas mana yang sesuai untuk menggambarkan jumlah orang yang no-hitter yang kita harapkan pada musim tertentu?\n",
    "\n",
    "Catatan: Kumpulan data `no-hitter` di scraped dan dihitung dari set data yang tersedia di [retrosheet.org (lisensi)](http://www.retrosheet.org/).\n",
    "\n",
    "![](images/no-hitter.svg)\n",
    "\n",
    "**Answer** : Baik Binomial dan Poisson, meskipun Poisson lebih mudah untuk dimodelkan dan dihitung.\n",
    "\n",
    "**Note** : Ketika kita memiliki peristiwa langka (p rendah, n tinggi), distribusi Binomial adalah Poisson. Ini memiliki parameter tunggal, jumlah rata-rata keberhasilan per interval waktu, dalam kasus kami jumlah rata-rata tidak ada pemukul per musim."
   ]
  },
  {
   "cell_type": "markdown",
   "metadata": {},
   "source": [
    "### Was 2015 anomalous?\n",
    "\n",
    "1990 dan 2015 menampilkan yang paling hitter dari musim bisbol (ada tujuh). Mengingat ada rata-rata 251/115 no-hitter per musim, berapakah probabilitas memiliki tujuh atau lebih dalam satu musim?"
   ]
  },
  {
   "cell_type": "code",
   "execution_count": 15,
   "metadata": {},
   "outputs": [
    {
     "name": "stdout",
     "output_type": "stream",
     "text": [
      "Probability of seven or more no-hitters: 0.0066\n"
     ]
    }
   ],
   "source": [
    "# Draw 10,000 samples out of Poisson distribution: n_nohitters\n",
    "n_nohitters = np.random.poisson(251/115, size=10000)\n",
    "\n",
    "# Compute number of samples that are seven or greater: n_large\n",
    "n_large = np.sum(n_nohitters >= 7)\n",
    "\n",
    "# Compute probability of getting seven or more: p_large\n",
    "p_large = n_large / 10000\n",
    "\n",
    "# Print the result\n",
    "print('Probability of seven or more no-hitters:', p_large)"
   ]
  },
  {
   "cell_type": "markdown",
   "metadata": {},
   "source": [
    "**Note** : Hasilnya sekitar 0,007. Ini berarti bahwa tidak mungkin untuk melihat musim tanpa-pemukul 7 atau lebih dalam satu abad. Kami telah melihat dua dalam satu setengah abad, jadi itu tidak masuk akal."
   ]
  },
  {
   "cell_type": "code",
   "execution_count": null,
   "metadata": {},
   "outputs": [],
   "source": []
  }
 ],
 "metadata": {
  "kernelspec": {
   "display_name": "Python 3",
   "language": "python",
   "name": "python3"
  },
  "language_info": {
   "codemirror_mode": {
    "name": "ipython",
    "version": 3
   },
   "file_extension": ".py",
   "mimetype": "text/x-python",
   "name": "python",
   "nbconvert_exporter": "python",
   "pygments_lexer": "ipython3",
   "version": "3.7.3"
  }
 },
 "nbformat": 4,
 "nbformat_minor": 2
}
