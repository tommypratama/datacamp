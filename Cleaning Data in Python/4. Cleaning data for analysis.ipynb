{
 "cells": [
  {
   "cell_type": "markdown",
   "metadata": {},
   "source": [
    "# 4. Cleaning data for analysis\n",
    "\n",
    "Dalami beberapa aspek paling bersih dari data cleaning. Pelajari tentang manipulasi string dan pencocokan pola untuk menangani data yang tidak terstruktur, dan kemudian mengeksplorasi teknik untuk menangani data yang hilang atau duplikat. Anda juga akan mempelajari keterampilan yang berharga secara terprogram memeriksa data Anda untuk konsistensi, yang akan memberi Anda keyakinan bahwa kode Anda berjalan dengan benar dan bahwa hasil analisis Anda dapat diandalkan."
   ]
  },
  {
   "cell_type": "markdown",
   "metadata": {},
   "source": [
    "## Data Types\n",
    "\n",
    "### Converting data types\n",
    "\n",
    "Dalam latihan ini, Anda akan melihat bagaimana memastikan semua variabel kategori dalam DataFrame dari tipe `category` mengurangi penggunaan memori.\n",
    "\n",
    "[Dataset tips](https://github.com/mwaskom/seaborn-data/blob/master/tips.csv) telah dimuat ke dalam DataFrame yang disebut `tips`. Data ini berisi informasi tentang seberapa besar tip pelanggan, apakah pelanggan itu laki-laki atau perempuan, perokok atau tidak, dll.\n",
    "\n",
    "Lihatlah output dari `tips.info()` di Shell IPython. Anda akan mencatat bahwa dua kolom yang harus kategorikal - `sex` dan `smoker` - bukan jenis `object`, yang merupakan cara pandas menyimpan string yang sewenang-wenang. Tugas Anda adalah mengubah dua kolom ini ke tipe `category` dan perhatikan penggunaan memori yang berkurang."
   ]
  },
  {
   "cell_type": "code",
   "execution_count": 2,
   "metadata": {},
   "outputs": [
    {
     "name": "stdout",
     "output_type": "stream",
     "text": [
      "<class 'pandas.core.frame.DataFrame'>\n",
      "RangeIndex: 244 entries, 0 to 243\n",
      "Data columns (total 7 columns):\n",
      "total_bill    244 non-null float64\n",
      "tip           244 non-null float64\n",
      "sex           244 non-null object\n",
      "smoker        244 non-null object\n",
      "day           244 non-null object\n",
      "time          244 non-null object\n",
      "size          244 non-null int64\n",
      "dtypes: float64(2), int64(1), object(4)\n",
      "memory usage: 13.5+ KB\n"
     ]
    }
   ],
   "source": [
    "import pandas as pd\n",
    "\n",
    "tips_data = 'https://assets.datacamp.com/production/repositories/666/datasets/b064fa9e0684a38ac15b0a19845367c29fde978d/tips.csv'\n",
    "tips = pd.read_csv(tips_data)\n",
    "tips.info()"
   ]
  },
  {
   "cell_type": "code",
   "execution_count": 3,
   "metadata": {},
   "outputs": [
    {
     "name": "stdout",
     "output_type": "stream",
     "text": [
      "<class 'pandas.core.frame.DataFrame'>\n",
      "RangeIndex: 244 entries, 0 to 243\n",
      "Data columns (total 7 columns):\n",
      "total_bill    244 non-null float64\n",
      "tip           244 non-null float64\n",
      "sex           244 non-null category\n",
      "smoker        244 non-null category\n",
      "day           244 non-null object\n",
      "time          244 non-null object\n",
      "size          244 non-null int64\n",
      "dtypes: category(2), float64(2), int64(1), object(2)\n",
      "memory usage: 10.3+ KB\n",
      "None\n"
     ]
    }
   ],
   "source": [
    "# Convert the sex column to type 'category'\n",
    "tips.sex = tips.sex.astype('category')\n",
    "\n",
    "# Convert the smoker column to type 'category'\n",
    "tips.smoker = tips.smoker.astype('category')\n",
    "\n",
    "# Print the info of tips\n",
    "print(tips.info())"
   ]
  },
  {
   "cell_type": "markdown",
   "metadata": {},
   "source": [
    "**Note** : Dengan mengonversi `sex` dan `smoker` menjadi variabel kategori, penggunaan memori DataFrame turun dari 13,4 KB menjadi 10,1 KB. Ini mungkin tampak seperti perbedaan kecil di sini, tetapi ketika Anda berurusan dengan kumpulan data besar, pengurangan penggunaan memori bisa sangat signifikan!"
   ]
  },
  {
   "cell_type": "markdown",
   "metadata": {},
   "source": [
    "### Working with numeric data\n",
    "\n",
    "Jika Anda mengharapkan tipe data kolom menjadi numerik (`int` atau `float`), tetapi bukan tipe `object`, ini biasanya berarti bahwa ada nilai non numerik di kolom, yang juga menandakan data buruk.\n",
    "\n",
    "Anda dapat menggunakan fungsi `pd.to_numeric()` untuk mengubah kolom menjadi tipe data numerik. Jika fungsi menimbulkan kesalahan, Anda dapat yakin bahwa ada bad value di dalam kolom. Anda dapat menggunakan teknik yang Anda pelajari di Bab 1 untuk melakukan beberapa analisis data eksplorasi dan menemukan bad value, atau Anda dapat memilih untuk mengabaikan atau `coerce` nilai menjadi nilai yang hilang, `NaN`.\n",
    "\n",
    "Versi modifikasi dari dataset tips telah dimuat sebelumnya ke dalam dataFrame yang disebut `tips`. Untuk keperluan instruksional, telah diproses sebelumnya untuk memperkenalkan beberapa 'bad' data untuk Anda bersihkan. Gunakan metode `.info()` untuk menjelajahi ini. Anda akan perhatikan bahwa `total_bill` dan kolom `tip`, yang harus berupa angka, bukan tipe `object`. Tugas Anda adalah untuk memperbaikinya."
   ]
  },
  {
   "cell_type": "code",
   "execution_count": null,
   "metadata": {},
   "outputs": [],
   "source": [
    "# Convert 'total_bill' to a numeric dtype\n",
    "tips['total_bill'] = pd.to_numeric(tips['total_bill'], errors='coerce')\n",
    "\n",
    "# Convert 'tip' to a numeric dtype\n",
    "tips['tip'] = pd.to_numeric(tips['tip'], errors='coerce')\n",
    "\n",
    "# Print the info of tips\n",
    "print(tips.info())"
   ]
  },
  {
   "cell_type": "markdown",
   "metadata": {},
   "source": [
    "**Note** : Kolom `'total_bill'` dan `'tip'` dalam DataFrame ini disimpan sebagai tipe `object` karena string `'missing'` digunakan dalam kolom ini untuk menyandikan nilai yang hilang. Dengan memaksa nilai menjadi tipe numerik, mereka menjadi nilai `NaN` yang tepat."
   ]
  },
  {
   "cell_type": "markdown",
   "metadata": {},
   "source": [
    "## Using regular expressions to clean strings\n",
    "\n",
    "### String parsing with regular expressions\n",
    "\n",
    "*Regular expressions* atau ekspresi reguler merupakan cara ampuh untuk menentukan pola agar sesuai dengan string. Latihan ini akan membantu Anda memulai dengan menulisnya.\n",
    "\n",
    "Saat bekerja dengan data, terkadang perlu menulis ekspresi reguler untuk mencari nilai yang dimasukkan dengan benar. Nomor telepon dalam dataset adalah bidang umum yang perlu diperiksa validitasnya. Tugas Anda dalam latihan ini adalah untuk menentukan ekspresi reguler yang cocok dengan nomor telepon AS yang sesuai dengan pola `xxx-xxx-xxxx`.\n",
    "\n",
    "Modul ekspresi reguler dalam python adalah `re`. Saat melakukan pencocokan pola pada data, karena pola tersebut akan digunakan untuk mencocokan di beberapa baris, lebih baik untuk mengkompilasi pola terlebih dahulu menggunakan `re.compile()`, dan kemudian gunakan pola yang dikompilasi untuk mencocokkan nilai."
   ]
  },
  {
   "cell_type": "code",
   "execution_count": 5,
   "metadata": {},
   "outputs": [
    {
     "name": "stdout",
     "output_type": "stream",
     "text": [
      "True\n",
      "False\n"
     ]
    }
   ],
   "source": [
    "# Import the regular expression module\n",
    "import re\n",
    "\n",
    "# Compile the pattern: prog\n",
    "prog = re.compile('\\d{3}-\\d{3}-\\d{4}')\n",
    "\n",
    "# See if the pattern matches\n",
    "result = prog.match('123-456-7890')\n",
    "print(bool(result))\n",
    "\n",
    "# See if the pattern matches\n",
    "result2 = prog.match('1123-456-7890')\n",
    "print(bool(result2))"
   ]
  },
  {
   "cell_type": "markdown",
   "metadata": {},
   "source": [
    "**Note** : Ekspresi reguler bisa terasa menantang pada awalnya, tetapi dengan latihan, Anda akan menjadi lebih baik dan lebih baik dalam menulisnya! Di sini, seperti yang diharapkan, polanya cocok dengan string pertama, tetapi bukan yang kedua."
   ]
  },
  {
   "cell_type": "markdown",
   "metadata": {},
   "source": [
    "### Extracting numerical values from strings\n",
    "\n",
    "Mengekstraksi angka dari string adalah tugas yang umum, terutama ketika bekerja dengan data atau file log yang tidak terstruktur.\n",
    "\n",
    "Katakanlah Anda memiliki string berikut: `'the recipe calls for 6 strawberries and 2 bananas'`.\n",
    "\n",
    "Akan bermanfaat untuk mengekstrak `6` dan `2` dari string ini untuk disimpan untuk digunakan nanti ketika membandingkan strawberry dengan rasio pisang.\n",
    "\n",
    "Saat menggunakan ekspresi reguler untuk mengekstrak beberapa angka (atau beberapa pencocokan pola, tepatnya), Anda dapat menggunakan fungsi `re.findall()`. Dan tidak membahas ini dalam video, tetapi mudah digunakan: Anda memberikan pola dan string untuk `re.findall()`, dan itu akan mengembalikan list yang cocok."
   ]
  },
  {
   "cell_type": "code",
   "execution_count": 6,
   "metadata": {},
   "outputs": [
    {
     "name": "stdout",
     "output_type": "stream",
     "text": [
      "['10', '1']\n"
     ]
    }
   ],
   "source": [
    "# Import the regular expression module\n",
    "import re\n",
    "\n",
    "# Find the numeric values: matches\n",
    "matches = re.findall('\\d+', 'the recipe calls for 10 strawberries and 1 banana')\n",
    "\n",
    "# Print the matches\n",
    "print(matches)"
   ]
  },
  {
   "cell_type": "markdown",
   "metadata": {},
   "source": [
    "**Note** : ekspresi reguler Anda berhasil mengekstraksi nilai numerik 10 dan 1 dari string!"
   ]
  },
  {
   "cell_type": "markdown",
   "metadata": {},
   "source": [
    "### Pattern matching\n",
    "\n",
    "Dalam latihan ini, Anda akan terus melatih keterampilan berekspresi reguler Anda. Untuk setiap string yang disediakan, tugas Anda adalah menulis pola yang sesuai untuk mencocokkannya.\n",
    "\n",
    "String format: Tanda dolar, jumlah digit yang berubah-ubah, titik desimal, 2 digit.\n",
    "* Gunakan `\\$` untuk mencocokkan tanda dolar\n",
    "* `\\d*` untuk mencocokkan jumlah digit yang berubah-ubah\n",
    "* `\\.` untuk mencocokkan titik desimal\n",
    "* `\\d{x}` untuk mencocokkan jumlah `x` digit.\n",
    "* Gunakan `[A-Z]` untuk mencocokkan huruf kapital apa pun diikuti oleh `\\w*` untuk mencocokkan jumlah karakter alfanumerik yang berubah-ubah."
   ]
  },
  {
   "cell_type": "code",
   "execution_count": 7,
   "metadata": {},
   "outputs": [
    {
     "name": "stdout",
     "output_type": "stream",
     "text": [
      "True\n",
      "True\n",
      "True\n"
     ]
    }
   ],
   "source": [
    "# Write the first pattern\n",
    "pattern1 = bool(re.match(pattern='\\d{3}-\\d{3}-\\d{4}', string='123-456-7890'))\n",
    "print(pattern1)\n",
    "\n",
    "# Write the second pattern\n",
    "pattern2 = bool(re.match(pattern='\\$\\d*\\.\\d{2}', string='$123.45'))\n",
    "print(pattern2)\n",
    "\n",
    "# Write the third pattern\n",
    "pattern3 = bool(re.match(pattern='[A-Z]\\w*', string='Australia'))\n",
    "print(pattern3)"
   ]
  },
  {
   "cell_type": "markdown",
   "metadata": {},
   "source": [
    "## Using functions to clean data\n",
    "\n",
    "### Custom functions to clean data\n",
    "\n",
    "Sekarang Anda akan berlatih menulis fungsi untuk membersihkan data.\n",
    "\n",
    "Kumpulan data tips telah dimuat sebelumnya ke dalam DataFrame yang disebut `tips`. Ini memiliki kolom `'sex'` yang berisi nilai `'Male'` atau `'Female'`. Tugas Anda adalah menulis fungsi yang akan mengkode ulang `'Female'` ke `0`, `'Male'` ke `1`, dan mengembalikan `np.nan` untuk semua entri `'sex'` yang bukan `'Female'` atau `'Male'`.\n",
    "\n",
    "Pengodean ulang variabel seperti ini adalah tugas pembersihan data yang umum. Fungsi menyediakan mekanisme bagi Anda untuk mengabstraksi bit kode yang kompleks serta menggunakan kembali kode. Ini membuat kode Anda lebih mudah dibaca dan lebih sedikit kesalahan.\n",
    "\n",
    "Anda dapat menggunakan metode `.apply()` untuk menerapkan fungsi di seluruh baris atau kolom DataFrames. Namun, perhatikan bahwa setiap kolom DataFrame adalah Pandas Series. Fungsi juga dapat diterapkan di seluruh Series. Di sini, Anda akan menerapkan fungsi Anda di kolom `'sex'`."
   ]
  },
  {
   "cell_type": "code",
   "execution_count": 10,
   "metadata": {},
   "outputs": [
    {
     "data": {
      "text/html": [
       "<div>\n",
       "<style scoped>\n",
       "    .dataframe tbody tr th:only-of-type {\n",
       "        vertical-align: middle;\n",
       "    }\n",
       "\n",
       "    .dataframe tbody tr th {\n",
       "        vertical-align: top;\n",
       "    }\n",
       "\n",
       "    .dataframe thead th {\n",
       "        text-align: right;\n",
       "    }\n",
       "</style>\n",
       "<table border=\"1\" class=\"dataframe\">\n",
       "  <thead>\n",
       "    <tr style=\"text-align: right;\">\n",
       "      <th></th>\n",
       "      <th>total_bill</th>\n",
       "      <th>tip</th>\n",
       "      <th>sex</th>\n",
       "      <th>smoker</th>\n",
       "      <th>day</th>\n",
       "      <th>time</th>\n",
       "      <th>size</th>\n",
       "      <th>recode</th>\n",
       "    </tr>\n",
       "  </thead>\n",
       "  <tbody>\n",
       "    <tr>\n",
       "      <th>0</th>\n",
       "      <td>16.99</td>\n",
       "      <td>1.01</td>\n",
       "      <td>Female</td>\n",
       "      <td>No</td>\n",
       "      <td>Sun</td>\n",
       "      <td>Dinner</td>\n",
       "      <td>2</td>\n",
       "      <td>0</td>\n",
       "    </tr>\n",
       "    <tr>\n",
       "      <th>1</th>\n",
       "      <td>10.34</td>\n",
       "      <td>1.66</td>\n",
       "      <td>Male</td>\n",
       "      <td>No</td>\n",
       "      <td>Sun</td>\n",
       "      <td>Dinner</td>\n",
       "      <td>3</td>\n",
       "      <td>1</td>\n",
       "    </tr>\n",
       "    <tr>\n",
       "      <th>2</th>\n",
       "      <td>21.01</td>\n",
       "      <td>3.50</td>\n",
       "      <td>Male</td>\n",
       "      <td>No</td>\n",
       "      <td>Sun</td>\n",
       "      <td>Dinner</td>\n",
       "      <td>3</td>\n",
       "      <td>1</td>\n",
       "    </tr>\n",
       "    <tr>\n",
       "      <th>3</th>\n",
       "      <td>23.68</td>\n",
       "      <td>3.31</td>\n",
       "      <td>Male</td>\n",
       "      <td>No</td>\n",
       "      <td>Sun</td>\n",
       "      <td>Dinner</td>\n",
       "      <td>2</td>\n",
       "      <td>1</td>\n",
       "    </tr>\n",
       "    <tr>\n",
       "      <th>4</th>\n",
       "      <td>24.59</td>\n",
       "      <td>3.61</td>\n",
       "      <td>Female</td>\n",
       "      <td>No</td>\n",
       "      <td>Sun</td>\n",
       "      <td>Dinner</td>\n",
       "      <td>4</td>\n",
       "      <td>0</td>\n",
       "    </tr>\n",
       "  </tbody>\n",
       "</table>\n",
       "</div>"
      ],
      "text/plain": [
       "   total_bill   tip     sex smoker  day    time  size recode\n",
       "0       16.99  1.01  Female     No  Sun  Dinner     2      0\n",
       "1       10.34  1.66    Male     No  Sun  Dinner     3      1\n",
       "2       21.01  3.50    Male     No  Sun  Dinner     3      1\n",
       "3       23.68  3.31    Male     No  Sun  Dinner     2      1\n",
       "4       24.59  3.61  Female     No  Sun  Dinner     4      0"
      ]
     },
     "execution_count": 10,
     "metadata": {},
     "output_type": "execute_result"
    }
   ],
   "source": [
    "# Define recode_gender()\n",
    "def recode_gender(gender):\n",
    "\n",
    "    # Return 0 if gender is 'Female'\n",
    "    if gender == 'Female':\n",
    "        return 0\n",
    "    \n",
    "    # Return 1 if gender is 'Male'    \n",
    "    elif gender == 'Male':\n",
    "        return 1\n",
    "    \n",
    "    # Return np.nan    \n",
    "    else:\n",
    "        return np.nan\n",
    "\n",
    "# Apply the function to the sex column\n",
    "tips['recode'] = tips.sex.apply(recode_gender)\n",
    "\n",
    "# Print the first five rows of tips\n",
    "tips.head()"
   ]
  },
  {
   "cell_type": "markdown",
   "metadata": {},
   "source": [
    "**Note** : Untuk pengodean ulang sederhana, Anda juga dapat menggunakan metode `replace`. Anda juga dapat mengubah kolom menjadi tipe kategorikal."
   ]
  },
  {
   "cell_type": "markdown",
   "metadata": {},
   "source": [
    "### Lambda functions\n",
    "\n",
    "Sekarang Anda akan diperkenalkan dengan fitur Python yang kuat yang akan membantu Anda membersihkan data Anda lebih efektif: fungsi lambda. Alih-alih menggunakan sintaks `def` yang Anda gunakan dalam latihan sebelumnya, fungsi lambda membiarkan Anda membuat fungsi sederhana, satu-baris.\n",
    "\n",
    "Misalnya, inilah fungsi yang menguadratkan variabel yang digunakan dalam metode `.apply()`:\n",
    "\n",
    "<pre>\n",
    "def my_square(x):\n",
    "    return x ** 2\n",
    "\n",
    "df.apply(my_square)\n",
    "</pre>\n",
    "\n",
    "Kode yang setara menggunakan fungsi lambda adalah:\n",
    "\n",
    "<pre>df.apply(lambda x: x ** 2)</pre>\n",
    "\n",
    "Fungsi lambda mengambil satu parameter - variabel `x`. Fungsi itu sendiri hanya kuadrat `x` dan mengembalikan hasilnya, yang merupakan apa pun yang dievaluasi oleh satu baris kode. Dengan cara ini, fungsi lambda dapat membuat kode Anda ringkas dan Pythonic.\n",
    "\n",
    "Kumpulan data tips telah dimuat sebelumnya ke dalam DataFrame yang disebut `tips`. Tugas Anda adalah membersihkan kolom `'total_dollar'` dengan menghapus tanda dolar. Anda akan melakukan ini menggunakan dua metode berbeda: Dengan metode `.replace()`, dan dengan *regular expressions*. "
   ]
  },
  {
   "cell_type": "code",
   "execution_count": null,
   "metadata": {},
   "outputs": [],
   "source": [
    "# Write the lambda function using replace\n",
    "tips['total_dollar_replace'] = tips.total_dollar.apply(lambda x: x.replace('$', ''))\n",
    "\n",
    "# Write the lambda function using regular expressions\n",
    "tips['total_dollar_re'] = tips.total_dollar.apply(lambda x: re.findall('\\d+\\.\\d+', x)[0])\n",
    "\n",
    "# Print the head of tips\n",
    "print(tips.head())"
   ]
  },
  {
   "cell_type": "markdown",
   "metadata": {},
   "source": [
    "## Duplicate and missing data\n",
    "\n",
    "### Dropping duplicate data\n",
    "\n",
    "Data rangkap menyebabkan berbagai masalah. Dari sudut pandang kinerja, mereka menggunakan jumlah memori yang tidak perlu dan menyebabkan perhitungan yang tidak perlu dilakukan saat memproses data. Selain itu, mereka juga dapat membiaskan hasil analisis.\n",
    "\n",
    "Dataset yang berisi kinerja lagu di tangga lagu Billboard telah dimuat sebelumnya ke dalam DataFrame yang disebut `billboard`. Lihat kolomnya di Shell IPython. Tugas Anda dalam latihan ini adalah untuk mengatur ulang DataFrame ini dan kemudian menghapus semua baris duplikat."
   ]
  },
  {
   "cell_type": "code",
   "execution_count": null,
   "metadata": {},
   "outputs": [],
   "source": [
    "# Create the new DataFrame: tracks\n",
    "tracks = billboard[['year', 'artist', 'track', 'time']]\n",
    "\n",
    "# Print info of tracks\n",
    "print(tracks.info())\n",
    "\n",
    "# Drop the duplicates: tracks_no_duplicates\n",
    "tracks_no_duplicates = tracks.drop_duplicates()\n",
    "\n",
    "# Print info of tracks\n",
    "print(tracks_no_duplicates.info())"
   ]
  },
  {
   "cell_type": "markdown",
   "metadata": {},
   "source": [
    "### Filling missing data\n",
    "\n",
    "Di sini, Anda akan kembali ke dataset `airquality` dari Bab 2. Telah dimuat sebelumnya ke dalam DataFrame `airquality`, dan memiliki nilai yang hilang untuk Anda praktikkan mengisi. Jelajahi `airquality` di IPython Shell untuk memeriksa kolom mana yang memiliki nilai yang hilang.\n",
    "\n",
    "Jarang memiliki dataset (dunia nyata) tanpa nilai yang hilang, dan penting untuk mengatasinya karena perhitungan tertentu tidak dapat menangani nilai yang hilang sementara beberapa perhitungan secara default akan melewatkan nilai-nilai yang hilang.\n",
    "\n",
    "Juga, memahami berapa banyak data yang hilang yang Anda miliki, dan memikirkan dari mana asalnya sangat penting untuk membuat interpretasi data yang tidak bias."
   ]
  },
  {
   "cell_type": "code",
   "execution_count": 11,
   "metadata": {},
   "outputs": [
    {
     "name": "stdout",
     "output_type": "stream",
     "text": [
      "<class 'pandas.core.frame.DataFrame'>\n",
      "RangeIndex: 153 entries, 0 to 152\n",
      "Data columns (total 6 columns):\n",
      "Ozone      116 non-null float64\n",
      "Solar.R    146 non-null float64\n",
      "Wind       153 non-null float64\n",
      "Temp       153 non-null int64\n",
      "Month      153 non-null int64\n",
      "Day        153 non-null int64\n",
      "dtypes: float64(3), int64(3)\n",
      "memory usage: 7.3 KB\n"
     ]
    }
   ],
   "source": [
    "import pandas as pd\n",
    "\n",
    "data = 'https://assets.datacamp.com/production/repositories/666/datasets/c16448e3f4219f900f540c455fdf87b0f3da70e0/airquality.csv'\n",
    "airquality = pd.read_csv(data)\n",
    "airquality.info()"
   ]
  },
  {
   "cell_type": "code",
   "execution_count": 12,
   "metadata": {},
   "outputs": [
    {
     "name": "stdout",
     "output_type": "stream",
     "text": [
      "<class 'pandas.core.frame.DataFrame'>\n",
      "RangeIndex: 153 entries, 0 to 152\n",
      "Data columns (total 6 columns):\n",
      "Ozone      153 non-null float64\n",
      "Solar.R    146 non-null float64\n",
      "Wind       153 non-null float64\n",
      "Temp       153 non-null int64\n",
      "Month      153 non-null int64\n",
      "Day        153 non-null int64\n",
      "dtypes: float64(3), int64(3)\n",
      "memory usage: 7.3 KB\n",
      "None\n"
     ]
    }
   ],
   "source": [
    "# Calculate the mean of the Ozone column: oz_mean\n",
    "oz_mean = airquality.Ozone.mean()\n",
    "\n",
    "# Replace all the missing values in the Ozone column with the mean\n",
    "airquality['Ozone'] = airquality.Ozone.fillna(oz_mean)\n",
    "\n",
    "# Print the info of airquality\n",
    "print(airquality.info())"
   ]
  },
  {
   "cell_type": "markdown",
   "metadata": {},
   "source": [
    "**Note** : Tidak ada lagi nilai yang hilang di kolom Ozon dari DataFrame ini!"
   ]
  },
  {
   "cell_type": "markdown",
   "metadata": {},
   "source": [
    "## Testing with asserts\n",
    "\n",
    "### Testing your data with asserts\n",
    "\n",
    "Di sini, Anda akan berlatih menulis pernyataan `assert` menggunakan dataset Ebola dari bab sebelumnya untuk memeriksa secara terprogram nilai yang hilang dan untuk mengonfirmasi bahwa semua nilai positif. Dataset telah dimuat sebelumnya ke dalam DataFrame yang disebut `ebola`.\n",
    "\n",
    "Dalam video, Anda melihat Dan menggunakan metode `.all()` bersama dengan metode DataFrame `.notnull()` untuk memeriksa nilai yang hilang dalam kolom. Metode `.all()` mengembalikan `True` jika semua nilai bernilai `True`. Saat digunakan pada DataFrame, ia mengembalikan serangkaian Boolean - satu untuk setiap kolom di DataFrame. Jadi, jika Anda menggunakannya pada DataFrame, seperti dalam latihan ini, Anda perlu mem-chain metode `.all()` lainnya sehingga Anda hanya mengembalikan satu nilai `True` atau `False`. Saat menggunakan ini dalam pernyataan assert, tidak ada yang akan dikembalikan jika pernyataan assert benar: Ini adalah bagaimana Anda dapat mengkonfirmasi bahwa data yang Anda periksa valid.\n",
    "\n",
    "Catatan: Anda dapat menggunakan `pd.notnull(df)` sebagai alternatif dari `df.notnull()`."
   ]
  },
  {
   "cell_type": "code",
   "execution_count": 14,
   "metadata": {},
   "outputs": [
    {
     "data": {
      "text/html": [
       "<div>\n",
       "<style scoped>\n",
       "    .dataframe tbody tr th:only-of-type {\n",
       "        vertical-align: middle;\n",
       "    }\n",
       "\n",
       "    .dataframe tbody tr th {\n",
       "        vertical-align: top;\n",
       "    }\n",
       "\n",
       "    .dataframe thead th {\n",
       "        text-align: right;\n",
       "    }\n",
       "</style>\n",
       "<table border=\"1\" class=\"dataframe\">\n",
       "  <thead>\n",
       "    <tr style=\"text-align: right;\">\n",
       "      <th></th>\n",
       "      <th>Date</th>\n",
       "      <th>Day</th>\n",
       "      <th>Cases_Guinea</th>\n",
       "      <th>Cases_Liberia</th>\n",
       "      <th>Cases_SierraLeone</th>\n",
       "      <th>Cases_Nigeria</th>\n",
       "      <th>Cases_Senegal</th>\n",
       "      <th>Cases_UnitedStates</th>\n",
       "      <th>Cases_Spain</th>\n",
       "      <th>Cases_Mali</th>\n",
       "      <th>Deaths_Guinea</th>\n",
       "      <th>Deaths_Liberia</th>\n",
       "      <th>Deaths_SierraLeone</th>\n",
       "      <th>Deaths_Nigeria</th>\n",
       "      <th>Deaths_Senegal</th>\n",
       "      <th>Deaths_UnitedStates</th>\n",
       "      <th>Deaths_Spain</th>\n",
       "      <th>Deaths_Mali</th>\n",
       "    </tr>\n",
       "  </thead>\n",
       "  <tbody>\n",
       "    <tr>\n",
       "      <th>0</th>\n",
       "      <td>1/5/2015</td>\n",
       "      <td>289</td>\n",
       "      <td>2776.0</td>\n",
       "      <td>NaN</td>\n",
       "      <td>10030.0</td>\n",
       "      <td>NaN</td>\n",
       "      <td>NaN</td>\n",
       "      <td>NaN</td>\n",
       "      <td>NaN</td>\n",
       "      <td>NaN</td>\n",
       "      <td>1786.0</td>\n",
       "      <td>NaN</td>\n",
       "      <td>2977.0</td>\n",
       "      <td>NaN</td>\n",
       "      <td>NaN</td>\n",
       "      <td>NaN</td>\n",
       "      <td>NaN</td>\n",
       "      <td>NaN</td>\n",
       "    </tr>\n",
       "    <tr>\n",
       "      <th>1</th>\n",
       "      <td>1/4/2015</td>\n",
       "      <td>288</td>\n",
       "      <td>2775.0</td>\n",
       "      <td>NaN</td>\n",
       "      <td>9780.0</td>\n",
       "      <td>NaN</td>\n",
       "      <td>NaN</td>\n",
       "      <td>NaN</td>\n",
       "      <td>NaN</td>\n",
       "      <td>NaN</td>\n",
       "      <td>1781.0</td>\n",
       "      <td>NaN</td>\n",
       "      <td>2943.0</td>\n",
       "      <td>NaN</td>\n",
       "      <td>NaN</td>\n",
       "      <td>NaN</td>\n",
       "      <td>NaN</td>\n",
       "      <td>NaN</td>\n",
       "    </tr>\n",
       "    <tr>\n",
       "      <th>2</th>\n",
       "      <td>1/3/2015</td>\n",
       "      <td>287</td>\n",
       "      <td>2769.0</td>\n",
       "      <td>8166.0</td>\n",
       "      <td>9722.0</td>\n",
       "      <td>NaN</td>\n",
       "      <td>NaN</td>\n",
       "      <td>NaN</td>\n",
       "      <td>NaN</td>\n",
       "      <td>NaN</td>\n",
       "      <td>1767.0</td>\n",
       "      <td>3496.0</td>\n",
       "      <td>2915.0</td>\n",
       "      <td>NaN</td>\n",
       "      <td>NaN</td>\n",
       "      <td>NaN</td>\n",
       "      <td>NaN</td>\n",
       "      <td>NaN</td>\n",
       "    </tr>\n",
       "    <tr>\n",
       "      <th>3</th>\n",
       "      <td>1/2/2015</td>\n",
       "      <td>286</td>\n",
       "      <td>NaN</td>\n",
       "      <td>8157.0</td>\n",
       "      <td>NaN</td>\n",
       "      <td>NaN</td>\n",
       "      <td>NaN</td>\n",
       "      <td>NaN</td>\n",
       "      <td>NaN</td>\n",
       "      <td>NaN</td>\n",
       "      <td>NaN</td>\n",
       "      <td>3496.0</td>\n",
       "      <td>NaN</td>\n",
       "      <td>NaN</td>\n",
       "      <td>NaN</td>\n",
       "      <td>NaN</td>\n",
       "      <td>NaN</td>\n",
       "      <td>NaN</td>\n",
       "    </tr>\n",
       "    <tr>\n",
       "      <th>4</th>\n",
       "      <td>12/31/2014</td>\n",
       "      <td>284</td>\n",
       "      <td>2730.0</td>\n",
       "      <td>8115.0</td>\n",
       "      <td>9633.0</td>\n",
       "      <td>NaN</td>\n",
       "      <td>NaN</td>\n",
       "      <td>NaN</td>\n",
       "      <td>NaN</td>\n",
       "      <td>NaN</td>\n",
       "      <td>1739.0</td>\n",
       "      <td>3471.0</td>\n",
       "      <td>2827.0</td>\n",
       "      <td>NaN</td>\n",
       "      <td>NaN</td>\n",
       "      <td>NaN</td>\n",
       "      <td>NaN</td>\n",
       "      <td>NaN</td>\n",
       "    </tr>\n",
       "  </tbody>\n",
       "</table>\n",
       "</div>"
      ],
      "text/plain": [
       "         Date  Day  Cases_Guinea  Cases_Liberia  Cases_SierraLeone  \\\n",
       "0    1/5/2015  289        2776.0            NaN            10030.0   \n",
       "1    1/4/2015  288        2775.0            NaN             9780.0   \n",
       "2    1/3/2015  287        2769.0         8166.0             9722.0   \n",
       "3    1/2/2015  286           NaN         8157.0                NaN   \n",
       "4  12/31/2014  284        2730.0         8115.0             9633.0   \n",
       "\n",
       "   Cases_Nigeria  Cases_Senegal  Cases_UnitedStates  Cases_Spain  Cases_Mali  \\\n",
       "0            NaN            NaN                 NaN          NaN         NaN   \n",
       "1            NaN            NaN                 NaN          NaN         NaN   \n",
       "2            NaN            NaN                 NaN          NaN         NaN   \n",
       "3            NaN            NaN                 NaN          NaN         NaN   \n",
       "4            NaN            NaN                 NaN          NaN         NaN   \n",
       "\n",
       "   Deaths_Guinea  Deaths_Liberia  Deaths_SierraLeone  Deaths_Nigeria  \\\n",
       "0         1786.0             NaN              2977.0             NaN   \n",
       "1         1781.0             NaN              2943.0             NaN   \n",
       "2         1767.0          3496.0              2915.0             NaN   \n",
       "3            NaN          3496.0                 NaN             NaN   \n",
       "4         1739.0          3471.0              2827.0             NaN   \n",
       "\n",
       "   Deaths_Senegal  Deaths_UnitedStates  Deaths_Spain  Deaths_Mali  \n",
       "0             NaN                  NaN           NaN          NaN  \n",
       "1             NaN                  NaN           NaN          NaN  \n",
       "2             NaN                  NaN           NaN          NaN  \n",
       "3             NaN                  NaN           NaN          NaN  \n",
       "4             NaN                  NaN           NaN          NaN  "
      ]
     },
     "execution_count": 14,
     "metadata": {},
     "output_type": "execute_result"
    }
   ],
   "source": [
    "data = 'https://assets.datacamp.com/production/repositories/666/datasets/6da83b3d2017245217d35989960184234a6c4e7f/ebola.csv'\n",
    "ebola = pd.read_csv(data)\n",
    "ebola.head()"
   ]
  },
  {
   "cell_type": "code",
   "execution_count": null,
   "metadata": {},
   "outputs": [],
   "source": [
    "# Assert that there are no missing values\n",
    "assert pd.notnull(ebola).all().all()\n",
    "\n",
    "# Assert that all values are >= 0\n",
    "assert (ebola >= 0).all().all()"
   ]
  },
  {
   "cell_type": "markdown",
   "metadata": {},
   "source": [
    "**Note** : Karena pernyataan assert tidak menimbulkan kesalahan, Anda dapat yakin bahwa tidak ada nilai yang hilang dalam data dan bahwa semua nilai `>=` 0!\n",
    "\n",
    "*Data versi DataCamp telah dibersihkan, sehingga assert tidak menimbulkan kesalahan*"
   ]
  },
  {
   "cell_type": "code",
   "execution_count": null,
   "metadata": {},
   "outputs": [],
   "source": []
  }
 ],
 "metadata": {
  "kernelspec": {
   "display_name": "Python 3",
   "language": "python",
   "name": "python3"
  },
  "language_info": {
   "codemirror_mode": {
    "name": "ipython",
    "version": 3
   },
   "file_extension": ".py",
   "mimetype": "text/x-python",
   "name": "python",
   "nbconvert_exporter": "python",
   "pygments_lexer": "ipython3",
   "version": "3.7.3"
  }
 },
 "nbformat": 4,
 "nbformat_minor": 2
}
