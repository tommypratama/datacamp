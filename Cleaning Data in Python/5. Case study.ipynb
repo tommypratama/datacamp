{
 "cells": [
  {
   "cell_type": "markdown",
   "metadata": {},
   "source": [
    "# 5. Case study\n",
    "\n",
    "Dalam bab terakhir ini, Anda akan menerapkan semua teknik pembersihan data yang telah Anda pelajari dalam kursus ini untuk merapikan data dunia nyata yang berantakan yang diperoleh dari Gapminder Foundation. Setelah selesai, Anda tidak hanya akan memiliki dataset yang bersih dan rapi, Anda juga akan siap untuk mulai bekerja pada proyek ilmu data Anda sendiri menggunakan Python."
   ]
  },
  {
   "cell_type": "markdown",
   "metadata": {},
   "source": [
    "## Putting it all together\n",
    "\n",
    "### Exploratory analysis\n",
    "\n",
    "Setiap kali Anda memperoleh dataset baru, tugas pertama Anda harus selalu melakukan beberapa analisis eksplorasi untuk mendapatkan pemahaman yang lebih baik tentang data dan mendiagnosisnya untuk setiap masalah potensial.\n",
    "\n",
    "Data Gapminder untuk abad ke-19 telah dimuat ke dalam DataFrame yang disebut `g1800s`. Di IPython Shell, gunakan metode panda seperti `.head()`, `.info()`, dan `.describe()`, dan atribut DataFrame seperti `.columns` dan `.shape` untuk menjelajahinya."
   ]
  },
  {
   "cell_type": "code",
   "execution_count": 38,
   "metadata": {},
   "outputs": [
    {
     "data": {
      "text/html": [
       "<div>\n",
       "<style scoped>\n",
       "    .dataframe tbody tr th:only-of-type {\n",
       "        vertical-align: middle;\n",
       "    }\n",
       "\n",
       "    .dataframe tbody tr th {\n",
       "        vertical-align: top;\n",
       "    }\n",
       "\n",
       "    .dataframe thead th {\n",
       "        text-align: right;\n",
       "    }\n",
       "</style>\n",
       "<table border=\"1\" class=\"dataframe\">\n",
       "  <thead>\n",
       "    <tr style=\"text-align: right;\">\n",
       "      <th></th>\n",
       "      <th>Life expectancy</th>\n",
       "      <th>1800</th>\n",
       "      <th>1801</th>\n",
       "      <th>1802</th>\n",
       "      <th>1803</th>\n",
       "      <th>1804</th>\n",
       "      <th>1805</th>\n",
       "      <th>1806</th>\n",
       "      <th>1807</th>\n",
       "      <th>1808</th>\n",
       "      <th>...</th>\n",
       "      <th>1890</th>\n",
       "      <th>1891</th>\n",
       "      <th>1892</th>\n",
       "      <th>1893</th>\n",
       "      <th>1894</th>\n",
       "      <th>1895</th>\n",
       "      <th>1896</th>\n",
       "      <th>1897</th>\n",
       "      <th>1898</th>\n",
       "      <th>1899</th>\n",
       "    </tr>\n",
       "  </thead>\n",
       "  <tbody>\n",
       "    <tr>\n",
       "      <th>0</th>\n",
       "      <td>Abkhazia</td>\n",
       "      <td>NaN</td>\n",
       "      <td>NaN</td>\n",
       "      <td>NaN</td>\n",
       "      <td>NaN</td>\n",
       "      <td>NaN</td>\n",
       "      <td>NaN</td>\n",
       "      <td>NaN</td>\n",
       "      <td>NaN</td>\n",
       "      <td>NaN</td>\n",
       "      <td>...</td>\n",
       "      <td>NaN</td>\n",
       "      <td>NaN</td>\n",
       "      <td>NaN</td>\n",
       "      <td>NaN</td>\n",
       "      <td>NaN</td>\n",
       "      <td>NaN</td>\n",
       "      <td>NaN</td>\n",
       "      <td>NaN</td>\n",
       "      <td>NaN</td>\n",
       "      <td>NaN</td>\n",
       "    </tr>\n",
       "    <tr>\n",
       "      <th>1</th>\n",
       "      <td>Afghanistan</td>\n",
       "      <td>28.21</td>\n",
       "      <td>28.20</td>\n",
       "      <td>28.19</td>\n",
       "      <td>28.18</td>\n",
       "      <td>28.17</td>\n",
       "      <td>28.16</td>\n",
       "      <td>28.15</td>\n",
       "      <td>28.14</td>\n",
       "      <td>28.13</td>\n",
       "      <td>...</td>\n",
       "      <td>27.29</td>\n",
       "      <td>27.28</td>\n",
       "      <td>27.27</td>\n",
       "      <td>27.26</td>\n",
       "      <td>27.25</td>\n",
       "      <td>27.24</td>\n",
       "      <td>27.23</td>\n",
       "      <td>27.22</td>\n",
       "      <td>27.21</td>\n",
       "      <td>27.20</td>\n",
       "    </tr>\n",
       "    <tr>\n",
       "      <th>2</th>\n",
       "      <td>Akrotiri and Dhekelia</td>\n",
       "      <td>NaN</td>\n",
       "      <td>NaN</td>\n",
       "      <td>NaN</td>\n",
       "      <td>NaN</td>\n",
       "      <td>NaN</td>\n",
       "      <td>NaN</td>\n",
       "      <td>NaN</td>\n",
       "      <td>NaN</td>\n",
       "      <td>NaN</td>\n",
       "      <td>...</td>\n",
       "      <td>NaN</td>\n",
       "      <td>NaN</td>\n",
       "      <td>NaN</td>\n",
       "      <td>NaN</td>\n",
       "      <td>NaN</td>\n",
       "      <td>NaN</td>\n",
       "      <td>NaN</td>\n",
       "      <td>NaN</td>\n",
       "      <td>NaN</td>\n",
       "      <td>NaN</td>\n",
       "    </tr>\n",
       "    <tr>\n",
       "      <th>3</th>\n",
       "      <td>Albania</td>\n",
       "      <td>35.40</td>\n",
       "      <td>35.40</td>\n",
       "      <td>35.40</td>\n",
       "      <td>35.40</td>\n",
       "      <td>35.40</td>\n",
       "      <td>35.40</td>\n",
       "      <td>35.40</td>\n",
       "      <td>35.40</td>\n",
       "      <td>35.40</td>\n",
       "      <td>...</td>\n",
       "      <td>35.40</td>\n",
       "      <td>35.40</td>\n",
       "      <td>35.40</td>\n",
       "      <td>35.40</td>\n",
       "      <td>35.40</td>\n",
       "      <td>35.40</td>\n",
       "      <td>35.40</td>\n",
       "      <td>35.40</td>\n",
       "      <td>35.40</td>\n",
       "      <td>35.40</td>\n",
       "    </tr>\n",
       "    <tr>\n",
       "      <th>4</th>\n",
       "      <td>Algeria</td>\n",
       "      <td>28.82</td>\n",
       "      <td>28.82</td>\n",
       "      <td>28.82</td>\n",
       "      <td>28.82</td>\n",
       "      <td>28.82</td>\n",
       "      <td>28.82</td>\n",
       "      <td>28.82</td>\n",
       "      <td>28.82</td>\n",
       "      <td>28.82</td>\n",
       "      <td>...</td>\n",
       "      <td>28.82</td>\n",
       "      <td>28.82</td>\n",
       "      <td>28.82</td>\n",
       "      <td>28.82</td>\n",
       "      <td>28.82</td>\n",
       "      <td>28.82</td>\n",
       "      <td>28.82</td>\n",
       "      <td>28.82</td>\n",
       "      <td>28.82</td>\n",
       "      <td>28.82</td>\n",
       "    </tr>\n",
       "  </tbody>\n",
       "</table>\n",
       "<p>5 rows × 101 columns</p>\n",
       "</div>"
      ],
      "text/plain": [
       "         Life expectancy   1800   1801   1802   1803   1804   1805   1806  \\\n",
       "0               Abkhazia    NaN    NaN    NaN    NaN    NaN    NaN    NaN   \n",
       "1            Afghanistan  28.21  28.20  28.19  28.18  28.17  28.16  28.15   \n",
       "2  Akrotiri and Dhekelia    NaN    NaN    NaN    NaN    NaN    NaN    NaN   \n",
       "3                Albania  35.40  35.40  35.40  35.40  35.40  35.40  35.40   \n",
       "4                Algeria  28.82  28.82  28.82  28.82  28.82  28.82  28.82   \n",
       "\n",
       "    1807   1808  ...   1890   1891   1892   1893   1894   1895   1896   1897  \\\n",
       "0    NaN    NaN  ...    NaN    NaN    NaN    NaN    NaN    NaN    NaN    NaN   \n",
       "1  28.14  28.13  ...  27.29  27.28  27.27  27.26  27.25  27.24  27.23  27.22   \n",
       "2    NaN    NaN  ...    NaN    NaN    NaN    NaN    NaN    NaN    NaN    NaN   \n",
       "3  35.40  35.40  ...  35.40  35.40  35.40  35.40  35.40  35.40  35.40  35.40   \n",
       "4  28.82  28.82  ...  28.82  28.82  28.82  28.82  28.82  28.82  28.82  28.82   \n",
       "\n",
       "    1898   1899  \n",
       "0    NaN    NaN  \n",
       "1  27.21  27.20  \n",
       "2    NaN    NaN  \n",
       "3  35.40  35.40  \n",
       "4  28.82  28.82  \n",
       "\n",
       "[5 rows x 101 columns]"
      ]
     },
     "execution_count": 38,
     "metadata": {},
     "output_type": "execute_result"
    }
   ],
   "source": [
    "import pandas as pd\n",
    "\n",
    "data = 'https://assets.datacamp.com/production/repositories/666/datasets/8e869c545c913547d94b61534b2f8d336a2c8c87/gapminder.csv'\n",
    "columns = ['Life expectancy', '1800', '1801', '1802', '1803', '1804', '1805', '1806', '1807', '1808', '1809', '1810', '1811', '1812', '1813', '1814', '1815', '1816', '1817', '1818', '1819', '1820', '1821', '1822', '1823', '1824', '1825', '1826', '1827', '1828', '1829', '1830', '1831', '1832', '1833', '1834', '1835', '1836', '1837', '1838', '1839', '1840', '1841', '1842', '1843', '1844', '1845', '1846', '1847', '1848', '1849', '1850', '1851', '1852', '1853', '1854', '1855', '1856', '1857', '1858', '1859', '1860', '1861', '1862', '1863', '1864', '1865', '1866', '1867', '1868', '1869', '1870', '1871', '1872', '1873', '1874', '1875', '1876', '1877', '1878', '1879', '1880', '1881', '1882', '1883', '1884', '1885', '1886', '1887', '1888', '1889', '1890', '1891', '1892', '1893', '1894', '1895', '1896', '1897', '1898', '1899']\n",
    "\n",
    "g1800s = pd.read_csv(data, usecols=columns, nrows=260)\n",
    "# Rearrange cols\n",
    "g1800s = g1800s[['Life expectancy', '1800', '1801', '1802', '1803', '1804', '1805', '1806', '1807', '1808', '1809', '1810', '1811', '1812', '1813', '1814', '1815', '1816', '1817', '1818', '1819', '1820', '1821', '1822', '1823', '1824', '1825', '1826', '1827', '1828', '1829', '1830', '1831', '1832', '1833', '1834', '1835', '1836', '1837', '1838', '1839', '1840', '1841', '1842', '1843', '1844', '1845', '1846', '1847', '1848', '1849', '1850', '1851', '1852', '1853', '1854', '1855', '1856', '1857', '1858', '1859', '1860', '1861', '1862', '1863', '1864', '1865', '1866', '1867', '1868', '1869', '1870', '1871', '1872', '1873', '1874', '1875', '1876', '1877', '1878', '1879', '1880', '1881', '1882', '1883', '1884', '1885', '1886', '1887', '1888', '1889', '1890', '1891', '1892', '1893', '1894', '1895', '1896', '1897', '1898', '1899']]\n",
    "g1800s.head()"
   ]
  },
  {
   "cell_type": "code",
   "execution_count": 17,
   "metadata": {},
   "outputs": [
    {
     "name": "stdout",
     "output_type": "stream",
     "text": [
      "<class 'pandas.core.frame.DataFrame'>\n",
      "RangeIndex: 260 entries, 0 to 259\n",
      "Columns: 101 entries, 1800 to Life expectancy\n",
      "dtypes: float64(100), object(1)\n",
      "memory usage: 205.3+ KB\n"
     ]
    }
   ],
   "source": [
    "g1800s.info()"
   ]
  },
  {
   "cell_type": "code",
   "execution_count": 18,
   "metadata": {},
   "outputs": [
    {
     "data": {
      "text/html": [
       "<div>\n",
       "<style scoped>\n",
       "    .dataframe tbody tr th:only-of-type {\n",
       "        vertical-align: middle;\n",
       "    }\n",
       "\n",
       "    .dataframe tbody tr th {\n",
       "        vertical-align: top;\n",
       "    }\n",
       "\n",
       "    .dataframe thead th {\n",
       "        text-align: right;\n",
       "    }\n",
       "</style>\n",
       "<table border=\"1\" class=\"dataframe\">\n",
       "  <thead>\n",
       "    <tr style=\"text-align: right;\">\n",
       "      <th></th>\n",
       "      <th>1800</th>\n",
       "      <th>1801</th>\n",
       "      <th>1802</th>\n",
       "      <th>1803</th>\n",
       "      <th>1804</th>\n",
       "      <th>1805</th>\n",
       "      <th>1806</th>\n",
       "      <th>1807</th>\n",
       "      <th>1808</th>\n",
       "      <th>1809</th>\n",
       "      <th>...</th>\n",
       "      <th>1890</th>\n",
       "      <th>1891</th>\n",
       "      <th>1892</th>\n",
       "      <th>1893</th>\n",
       "      <th>1894</th>\n",
       "      <th>1895</th>\n",
       "      <th>1896</th>\n",
       "      <th>1897</th>\n",
       "      <th>1898</th>\n",
       "      <th>1899</th>\n",
       "    </tr>\n",
       "  </thead>\n",
       "  <tbody>\n",
       "    <tr>\n",
       "      <th>count</th>\n",
       "      <td>201.000000</td>\n",
       "      <td>201.000000</td>\n",
       "      <td>201.000000</td>\n",
       "      <td>201.000000</td>\n",
       "      <td>201.000000</td>\n",
       "      <td>201.000000</td>\n",
       "      <td>201.000000</td>\n",
       "      <td>201.000000</td>\n",
       "      <td>201.000000</td>\n",
       "      <td>201.000000</td>\n",
       "      <td>...</td>\n",
       "      <td>201.000000</td>\n",
       "      <td>201.000000</td>\n",
       "      <td>201.000000</td>\n",
       "      <td>201.000000</td>\n",
       "      <td>201.000000</td>\n",
       "      <td>201.000000</td>\n",
       "      <td>201.000000</td>\n",
       "      <td>201.000000</td>\n",
       "      <td>201.000000</td>\n",
       "      <td>201.000000</td>\n",
       "    </tr>\n",
       "    <tr>\n",
       "      <th>mean</th>\n",
       "      <td>31.486020</td>\n",
       "      <td>31.448905</td>\n",
       "      <td>31.463483</td>\n",
       "      <td>31.377413</td>\n",
       "      <td>31.446318</td>\n",
       "      <td>31.562537</td>\n",
       "      <td>31.615970</td>\n",
       "      <td>31.573134</td>\n",
       "      <td>31.376766</td>\n",
       "      <td>31.310448</td>\n",
       "      <td>...</td>\n",
       "      <td>32.291045</td>\n",
       "      <td>32.475373</td>\n",
       "      <td>32.478408</td>\n",
       "      <td>32.533085</td>\n",
       "      <td>32.747214</td>\n",
       "      <td>32.811841</td>\n",
       "      <td>32.895224</td>\n",
       "      <td>32.964279</td>\n",
       "      <td>32.994080</td>\n",
       "      <td>32.962985</td>\n",
       "    </tr>\n",
       "    <tr>\n",
       "      <th>std</th>\n",
       "      <td>3.763585</td>\n",
       "      <td>3.755739</td>\n",
       "      <td>3.878204</td>\n",
       "      <td>3.901966</td>\n",
       "      <td>3.877156</td>\n",
       "      <td>3.947957</td>\n",
       "      <td>4.039261</td>\n",
       "      <td>3.917339</td>\n",
       "      <td>4.017228</td>\n",
       "      <td>3.972970</td>\n",
       "      <td>...</td>\n",
       "      <td>5.907298</td>\n",
       "      <td>5.734794</td>\n",
       "      <td>5.825318</td>\n",
       "      <td>6.018269</td>\n",
       "      <td>5.822354</td>\n",
       "      <td>6.067020</td>\n",
       "      <td>6.344388</td>\n",
       "      <td>6.390669</td>\n",
       "      <td>6.336805</td>\n",
       "      <td>6.325265</td>\n",
       "    </tr>\n",
       "    <tr>\n",
       "      <th>min</th>\n",
       "      <td>23.390000</td>\n",
       "      <td>23.390000</td>\n",
       "      <td>23.390000</td>\n",
       "      <td>19.600000</td>\n",
       "      <td>23.390000</td>\n",
       "      <td>23.390000</td>\n",
       "      <td>23.390000</td>\n",
       "      <td>23.390000</td>\n",
       "      <td>12.480000</td>\n",
       "      <td>13.430000</td>\n",
       "      <td>...</td>\n",
       "      <td>4.000000</td>\n",
       "      <td>8.000000</td>\n",
       "      <td>14.000000</td>\n",
       "      <td>8.000000</td>\n",
       "      <td>22.180000</td>\n",
       "      <td>22.000000</td>\n",
       "      <td>20.000000</td>\n",
       "      <td>19.000000</td>\n",
       "      <td>19.700000</td>\n",
       "      <td>18.900000</td>\n",
       "    </tr>\n",
       "    <tr>\n",
       "      <th>25%</th>\n",
       "      <td>29.000000</td>\n",
       "      <td>28.950000</td>\n",
       "      <td>28.900000</td>\n",
       "      <td>28.900000</td>\n",
       "      <td>28.950000</td>\n",
       "      <td>29.000000</td>\n",
       "      <td>29.000000</td>\n",
       "      <td>29.000000</td>\n",
       "      <td>28.950000</td>\n",
       "      <td>28.820000</td>\n",
       "      <td>...</td>\n",
       "      <td>29.200000</td>\n",
       "      <td>29.200000</td>\n",
       "      <td>29.000000</td>\n",
       "      <td>29.000000</td>\n",
       "      <td>29.200000</td>\n",
       "      <td>29.200000</td>\n",
       "      <td>29.000000</td>\n",
       "      <td>29.200000</td>\n",
       "      <td>29.160000</td>\n",
       "      <td>29.000000</td>\n",
       "    </tr>\n",
       "    <tr>\n",
       "      <th>50%</th>\n",
       "      <td>31.800000</td>\n",
       "      <td>31.700000</td>\n",
       "      <td>31.600000</td>\n",
       "      <td>31.500000</td>\n",
       "      <td>31.600000</td>\n",
       "      <td>31.700000</td>\n",
       "      <td>31.800000</td>\n",
       "      <td>31.800000</td>\n",
       "      <td>31.600000</td>\n",
       "      <td>31.500000</td>\n",
       "      <td>...</td>\n",
       "      <td>32.000000</td>\n",
       "      <td>32.000000</td>\n",
       "      <td>32.000000</td>\n",
       "      <td>32.000000</td>\n",
       "      <td>32.000000</td>\n",
       "      <td>32.000000</td>\n",
       "      <td>32.000000</td>\n",
       "      <td>32.000000</td>\n",
       "      <td>32.000000</td>\n",
       "      <td>32.000000</td>\n",
       "    </tr>\n",
       "    <tr>\n",
       "      <th>75%</th>\n",
       "      <td>33.900000</td>\n",
       "      <td>33.900000</td>\n",
       "      <td>33.900000</td>\n",
       "      <td>33.800000</td>\n",
       "      <td>33.870000</td>\n",
       "      <td>33.900000</td>\n",
       "      <td>34.000000</td>\n",
       "      <td>34.000000</td>\n",
       "      <td>33.870000</td>\n",
       "      <td>33.800000</td>\n",
       "      <td>...</td>\n",
       "      <td>35.000000</td>\n",
       "      <td>35.100000</td>\n",
       "      <td>35.000000</td>\n",
       "      <td>35.000000</td>\n",
       "      <td>35.000000</td>\n",
       "      <td>35.000000</td>\n",
       "      <td>35.000000</td>\n",
       "      <td>35.000000</td>\n",
       "      <td>35.180000</td>\n",
       "      <td>35.180000</td>\n",
       "    </tr>\n",
       "    <tr>\n",
       "      <th>max</th>\n",
       "      <td>42.850000</td>\n",
       "      <td>40.300000</td>\n",
       "      <td>44.370000</td>\n",
       "      <td>44.840000</td>\n",
       "      <td>42.830000</td>\n",
       "      <td>44.270000</td>\n",
       "      <td>45.820000</td>\n",
       "      <td>43.560000</td>\n",
       "      <td>43.550000</td>\n",
       "      <td>41.740000</td>\n",
       "      <td>...</td>\n",
       "      <td>50.480000</td>\n",
       "      <td>51.090000</td>\n",
       "      <td>52.730000</td>\n",
       "      <td>52.580000</td>\n",
       "      <td>52.100000</td>\n",
       "      <td>54.160000</td>\n",
       "      <td>53.840000</td>\n",
       "      <td>54.140000</td>\n",
       "      <td>54.690000</td>\n",
       "      <td>51.620000</td>\n",
       "    </tr>\n",
       "  </tbody>\n",
       "</table>\n",
       "<p>8 rows × 100 columns</p>\n",
       "</div>"
      ],
      "text/plain": [
       "             1800        1801        1802        1803        1804        1805  \\\n",
       "count  201.000000  201.000000  201.000000  201.000000  201.000000  201.000000   \n",
       "mean    31.486020   31.448905   31.463483   31.377413   31.446318   31.562537   \n",
       "std      3.763585    3.755739    3.878204    3.901966    3.877156    3.947957   \n",
       "min     23.390000   23.390000   23.390000   19.600000   23.390000   23.390000   \n",
       "25%     29.000000   28.950000   28.900000   28.900000   28.950000   29.000000   \n",
       "50%     31.800000   31.700000   31.600000   31.500000   31.600000   31.700000   \n",
       "75%     33.900000   33.900000   33.900000   33.800000   33.870000   33.900000   \n",
       "max     42.850000   40.300000   44.370000   44.840000   42.830000   44.270000   \n",
       "\n",
       "             1806        1807        1808        1809  ...        1890  \\\n",
       "count  201.000000  201.000000  201.000000  201.000000  ...  201.000000   \n",
       "mean    31.615970   31.573134   31.376766   31.310448  ...   32.291045   \n",
       "std      4.039261    3.917339    4.017228    3.972970  ...    5.907298   \n",
       "min     23.390000   23.390000   12.480000   13.430000  ...    4.000000   \n",
       "25%     29.000000   29.000000   28.950000   28.820000  ...   29.200000   \n",
       "50%     31.800000   31.800000   31.600000   31.500000  ...   32.000000   \n",
       "75%     34.000000   34.000000   33.870000   33.800000  ...   35.000000   \n",
       "max     45.820000   43.560000   43.550000   41.740000  ...   50.480000   \n",
       "\n",
       "             1891        1892        1893        1894        1895        1896  \\\n",
       "count  201.000000  201.000000  201.000000  201.000000  201.000000  201.000000   \n",
       "mean    32.475373   32.478408   32.533085   32.747214   32.811841   32.895224   \n",
       "std      5.734794    5.825318    6.018269    5.822354    6.067020    6.344388   \n",
       "min      8.000000   14.000000    8.000000   22.180000   22.000000   20.000000   \n",
       "25%     29.200000   29.000000   29.000000   29.200000   29.200000   29.000000   \n",
       "50%     32.000000   32.000000   32.000000   32.000000   32.000000   32.000000   \n",
       "75%     35.100000   35.000000   35.000000   35.000000   35.000000   35.000000   \n",
       "max     51.090000   52.730000   52.580000   52.100000   54.160000   53.840000   \n",
       "\n",
       "             1897        1898        1899  \n",
       "count  201.000000  201.000000  201.000000  \n",
       "mean    32.964279   32.994080   32.962985  \n",
       "std      6.390669    6.336805    6.325265  \n",
       "min     19.000000   19.700000   18.900000  \n",
       "25%     29.200000   29.160000   29.000000  \n",
       "50%     32.000000   32.000000   32.000000  \n",
       "75%     35.000000   35.180000   35.180000  \n",
       "max     54.140000   54.690000   51.620000  \n",
       "\n",
       "[8 rows x 100 columns]"
      ]
     },
     "execution_count": 18,
     "metadata": {},
     "output_type": "execute_result"
    }
   ],
   "source": [
    "g1800s.describe()"
   ]
  },
  {
   "cell_type": "code",
   "execution_count": 19,
   "metadata": {},
   "outputs": [
    {
     "data": {
      "text/plain": [
       "Index(['1800', '1801', '1802', '1803', '1804', '1805', '1806', '1807', '1808',\n",
       "       '1809',\n",
       "       ...\n",
       "       '1891', '1892', '1893', '1894', '1895', '1896', '1897', '1898', '1899',\n",
       "       'Life expectancy'],\n",
       "      dtype='object', length=101)"
      ]
     },
     "execution_count": 19,
     "metadata": {},
     "output_type": "execute_result"
    }
   ],
   "source": [
    "g1800s.columns"
   ]
  },
  {
   "cell_type": "code",
   "execution_count": 20,
   "metadata": {},
   "outputs": [
    {
     "data": {
      "text/plain": [
       "(260, 101)"
      ]
     },
     "execution_count": 20,
     "metadata": {},
     "output_type": "execute_result"
    }
   ],
   "source": [
    "g1800s.shape"
   ]
  },
  {
   "cell_type": "markdown",
   "metadata": {},
   "source": [
    "**Note** : Informasi ini disediakan oleh `g1800s.info()`. `'Life expectancy'` adalah satu-satunya kolom di DataFrame yang bukan tipe `float64`."
   ]
  },
  {
   "cell_type": "markdown",
   "metadata": {},
   "source": [
    "### Visualizing your data\n",
    "\n",
    "Sejak 1800, harapan hidup di seluruh dunia terus meningkat. Anda akan mengharapkan data Gapminder untuk mengonfirmasi ini.\n",
    "\n",
    "DataFrame `g1800s` telah dimuat sebelumnya. Tugas Anda dalam latihan ini adalah membuat scatter plot dengan harapan hidup pada `'1800'` pada sumbu x dan harapan hidup pada `'1899'` pada sumbu y.\n",
    "\n",
    "Di sini, tujuannya adalah untuk memeriksa data secara visual untuk wawasan serta kesalahan. Saat melihat plot, perhatikan apakah scatter plot mengambil bentuk garis diagonal, dan titik mana yang jatuh di bawah atau di atas garis diagonal. Ini akan menginformasikan bagaimana harapan hidup pada tahun 1899 berubah (atau tidak berubah) dibandingkan dengan 1800 untuk berbagai negara. Jika poin jatuh pada garis diagonal, itu berarti harapan hidup tetap sama!"
   ]
  },
  {
   "cell_type": "code",
   "execution_count": 21,
   "metadata": {},
   "outputs": [
    {
     "data": {
      "image/png": "[encoded data removed]",
      "text/plain": [
       "<Figure size 432x288 with 1 Axes>"
      ]
     },
     "metadata": {
      "needs_background": "light"
     },
     "output_type": "display_data"
    }
   ],
   "source": [
    "# Import matplotlib.pyplot\n",
    "import matplotlib.pyplot as plt\n",
    "\n",
    "# Create the scatter plot\n",
    "g1800s.plot(kind='scatter', x='1800', y='1899')\n",
    "\n",
    "# Specify axis labels\n",
    "plt.xlabel('Life Expectancy by Country in 1800')\n",
    "plt.ylabel('Life Expectancy by Country in 1899')\n",
    "\n",
    "# Specify axis limits\n",
    "plt.xlim(20, 55)\n",
    "plt.ylim(20, 55)\n",
    "\n",
    "# Display the plot\n",
    "plt.show()"
   ]
  },
  {
   "cell_type": "markdown",
   "metadata": {},
   "source": [
    "**Note** : Seperti yang Anda lihat, ada sejumlah negara mengejutkan yang berada di garis diagonal. Faktanya, memeriksa DataFrame mengungkapkan bahwa harapan hidup bagi 140 dari 260 negara tidak berubah sama sekali di abad ke-19! Ini mungkin hasil dari tidak memiliki akses ke semua data untuk tahun yang lalu. Dengan cara ini, memvisualisasikan data Anda dapat membantu Anda menemukan wawasan serta mendiagnosis kesalahannya."
   ]
  },
  {
   "cell_type": "markdown",
   "metadata": {},
   "source": [
    "### Thinking about the question at hand\n",
    "\n",
    "Karena Anda diberikan data tingkat harapan hidup berdasarkan negara dan tahun, Anda dapat mengajukan pertanyaan tentang berapa rata-rata harapan hidup berubah setiap tahunnya.\n",
    "\n",
    "Namun, sebelum melanjutkan, penting untuk memastikan bahwa asumsi berikut tentang data benar:\n",
    "\n",
    "* `'Life expectancy'` adalah kolom pertama (indeks `0`) dari DataFrame.\n",
    "* Kolom lainnya berisi nilai null atau numerik.\n",
    "* Nilai numerik semuanya lebih besar dari atau sama dengan 0.\n",
    "* Hanya ada satu contoh dari setiap negara.\n",
    "\n",
    "Anda bisa menulis fungsi yang bisa Anda terapkan di seluruh DataFrame untuk memverifikasi beberapa asumsi ini. Perhatikan bahwa menghabiskan waktu untuk menulis skrip seperti itu akan membantu Anda ketika bekerja dengan dataset lain juga."
   ]
  },
  {
   "cell_type": "code",
   "execution_count": 40,
   "metadata": {},
   "outputs": [],
   "source": [
    "def check_null_or_valid(row_data):\n",
    "    \"\"\"Function that takes a row of data,\n",
    "    drops all missing values,\n",
    "    and checks if all remaining values are greater than or equal to 0\n",
    "    \"\"\"\n",
    "    no_na = row_data.dropna()\n",
    "    numeric = pd.to_numeric(no_na)\n",
    "    ge0 = numeric >= 0\n",
    "    return ge0\n",
    "\n",
    "# Check whether the first column is 'Life expectancy'\n",
    "assert g1800s.columns[0] == 'Life expectancy'\n",
    "\n",
    "# Check whether the values in the row are valid\n",
    "assert g1800s.iloc[:, 1:].apply(check_null_or_valid, axis=1).all().all()\n",
    "\n",
    "# Check that there is only one instance of each country\n",
    "assert g1800s['Life expectancy'].value_counts()[0] == 1"
   ]
  },
  {
   "cell_type": "markdown",
   "metadata": {},
   "source": [
    "**Note** : Membiasakan diri menguji kode Anda seperti ini adalah keterampilan yang penting."
   ]
  },
  {
   "cell_type": "markdown",
   "metadata": {},
   "source": [
    "### Assembling your data\n",
    "\n",
    "Di sini, tiga DataFrames telah dimuat sebelumnya: `g1800s`, `g1900s`, dan `g2000s`. Ini berisi data harapan hidup Gapminder untuk, masing-masing, abad ke-19, abad ke-20, dan abad ke-21.\n",
    "\n",
    "Tugas Anda dalam latihan ini adalah menggabungkannya menjadi satu DataFrame yang disebut `gapminder`. Ini adalah gabungan column-wise, mirip dengan bagaimana Anda menggabungkan dataset Ebola dengan informasi tentang pasien di Bab 3."
   ]
  },
  {
   "cell_type": "code",
   "execution_count": 48,
   "metadata": {},
   "outputs": [],
   "source": [
    "# Set columns gapminder data\n",
    "g1900s_cols = ['Life expectancy', '1900', '1901', '1902', '1903', '1904', '1905', '1906', '1907', '1908', '1909', '1910', '1911', '1912', '1913', '1914', '1915', '1916', '1917', '1918', '1919', '1920', '1921', '1922', '1923', '1924', '1925', '1926', '1927', '1928', '1929', '1930', '1931', '1932', '1933', '1934', '1935', '1936', '1937', '1938', '1939', '1940', '1941', '1942', '1943', '1944', '1945', '1946', '1947', '1948', '1949', '1950', '1951', '1952', '1953', '1954', '1955', '1956', '1957', '1958', '1959', '1960', '1961', '1962', '1963', '1964', '1965', '1966', '1967', '1968', '1969', '1970', '1971', '1972', '1973', '1974', '1975', '1976', '1977', '1978', '1979', '1980', '1981', '1982', '1983', '1984', '1985', '1986', '1987', '1988', '1989', '1990', '1991', '1992', '1993', '1994', '1995', '1996', '1997', '1998', '1999']\n",
    "g2000s_cols = ['Life expectancy', '2000', '2001', '2002', '2003', '2004', '2005', '2006', '2007', '2008', '2009', '2010', '2011', '2012', '2013', '2014', '2015', '2016']\n"
   ]
  },
  {
   "cell_type": "code",
   "execution_count": 49,
   "metadata": {},
   "outputs": [],
   "source": [
    "g1900s = pd.read_csv(data, usecols=g1900s_cols)\n",
    "g2000s = pd.read_csv(data, usecols=g2000s_cols)"
   ]
  },
  {
   "cell_type": "code",
   "execution_count": 50,
   "metadata": {},
   "outputs": [
    {
     "name": "stdout",
     "output_type": "stream",
     "text": [
      "(780, 220)\n",
      "         Life expectancy   1800   1801   1802   1803   1804   1805   1806  \\\n",
      "0               Abkhazia    NaN    NaN    NaN    NaN    NaN    NaN    NaN   \n",
      "1            Afghanistan  28.21  28.20  28.19  28.18  28.17  28.16  28.15   \n",
      "2  Akrotiri and Dhekelia    NaN    NaN    NaN    NaN    NaN    NaN    NaN   \n",
      "3                Albania  35.40  35.40  35.40  35.40  35.40  35.40  35.40   \n",
      "4                Algeria  28.82  28.82  28.82  28.82  28.82  28.82  28.82   \n",
      "\n",
      "    1807   1808  ...  2008  2009  2010  2011  2012  2013  2014  2015  2016  \\\n",
      "0    NaN    NaN  ...   NaN   NaN   NaN   NaN   NaN   NaN   NaN   NaN   NaN   \n",
      "1  28.14  28.13  ...   NaN   NaN   NaN   NaN   NaN   NaN   NaN   NaN   NaN   \n",
      "2    NaN    NaN  ...   NaN   NaN   NaN   NaN   NaN   NaN   NaN   NaN   NaN   \n",
      "3  35.40  35.40  ...   NaN   NaN   NaN   NaN   NaN   NaN   NaN   NaN   NaN   \n",
      "4  28.82  28.82  ...   NaN   NaN   NaN   NaN   NaN   NaN   NaN   NaN   NaN   \n",
      "\n",
      "         Life expectancy  \n",
      "0               Abkhazia  \n",
      "1            Afghanistan  \n",
      "2  Akrotiri and Dhekelia  \n",
      "3                Albania  \n",
      "4                Algeria  \n",
      "\n",
      "[5 rows x 220 columns]\n"
     ]
    }
   ],
   "source": [
    "# Concatenate the DataFrames column-wise\n",
    "gapminder = pd.concat([g1800s, g1900s, g2000s], axis=1)\n",
    "\n",
    "# Print the shape of gapminder\n",
    "print(gapminder.shape)\n",
    "\n",
    "# Print the head of gapminder\n",
    "print(gapminder.head())"
   ]
  },
  {
   "cell_type": "markdown",
   "metadata": {},
   "source": [
    "## Initial impressions of the data\n",
    "\n",
    "### Reshaping your data\n",
    "\n",
    "Sekarang Anda memiliki semua data digabungkan menjadi DataFrame tunggal, langkah selanjutnya adalah membentuk kembali menjadi format data yang rapi.\n",
    "\n",
    "Saat ini, DataFrame gapminder memiliki kolom terpisah untuk setiap tahun. Yang Anda inginkan sebagai gantinya adalah satu kolom yang berisi tahun, dan satu kolom yang mewakili harapan hidup rata-rata untuk setiap tahun dan negara. Dengan memiliki tahun di kolomnya sendiri, Anda dapat menggunakannya sebagai variabel prediktor dalam analisis selanjutnya.\n",
    "\n",
    "Anda dapat mengonversi DataFrame ke dalam format rapi yang diinginkan dengan meleburnya (*melting*)."
   ]
  },
  {
   "cell_type": "code",
   "execution_count": 61,
   "metadata": {},
   "outputs": [
    {
     "name": "stdout",
     "output_type": "stream",
     "text": [
      "                 country  year  life_expectancy\n",
      "0               Abkhazia  1800              NaN\n",
      "1            Afghanistan  1800            28.21\n",
      "2  Akrotiri and Dhekelia  1800              NaN\n",
      "3                Albania  1800            35.40\n",
      "4                Algeria  1800            28.82\n"
     ]
    }
   ],
   "source": [
    "import pandas as pd\n",
    "\n",
    "data = 'https://assets.datacamp.com/production/repositories/666/datasets/8e869c545c913547d94b61534b2f8d336a2c8c87/gapminder.csv'\n",
    "gapminder = pd.read_csv(data, index_col=0)\n",
    "\n",
    "# Melt gapminder: gapminder_melt\n",
    "gapminder_melt = pd.melt(gapminder, id_vars='Life expectancy')\n",
    "\n",
    "# Rename the columns\n",
    "gapminder_melt.columns = ['country', 'year', 'life_expectancy']\n",
    "\n",
    "# Print the head of gapminder_melt\n",
    "print(gapminder_melt.head())"
   ]
  },
  {
   "cell_type": "markdown",
   "metadata": {},
   "source": [
    "**Note** : Memiliki data dalam format rapi ini akan membuat analisis selanjutnya jauh lebih mudah."
   ]
  },
  {
   "cell_type": "markdown",
   "metadata": {},
   "source": [
    "### Checking the data types\n",
    "\n",
    "Sekarang data Anda berada dalam shape yang tepat, Anda perlu memastikan bahwa kolom-kolom tersebut dari tipe data yang tepat. Artinya, Anda perlu memastikan bahwa `country` adalah tipe `object`, `year` adalah tipe `int64`, dan `life_expectancy` adalah tipe `float64`.\n",
    "\n",
    "Jelajahi di IPython Shell menggunakan metode `.info()`. Perhatikan bahwa kolom `'year'` adalah tipe `object`. Ini tidak benar, jadi Anda harus menggunakan fungsi `pd.to_numeric()` untuk mengubahnya menjadi tipe data numerik."
   ]
  },
  {
   "cell_type": "code",
   "execution_count": 64,
   "metadata": {},
   "outputs": [
    {
     "name": "stdout",
     "output_type": "stream",
     "text": [
      "<class 'pandas.core.frame.DataFrame'>\n",
      "RangeIndex: 169260 entries, 0 to 169259\n",
      "Data columns (total 3 columns):\n",
      "country            169260 non-null object\n",
      "year               169260 non-null object\n",
      "life_expectancy    43857 non-null float64\n",
      "dtypes: float64(1), object(2)\n",
      "memory usage: 3.9+ MB\n"
     ]
    }
   ],
   "source": [
    "gapminder_melt.info()"
   ]
  },
  {
   "cell_type": "code",
   "execution_count": 70,
   "metadata": {},
   "outputs": [],
   "source": [
    "import numpy as np\n",
    "\n",
    "# Convert the year column to numeric\n",
    "gapminder_melt.year = pd.to_numeric(gapminder_melt['year'])\n",
    "\n",
    "# Test if country is of type object\n",
    "assert gapminder_melt.country.dtypes == np.object\n",
    "\n",
    "# Test if year is of type int64\n",
    "assert gapminder_melt.year.dtypes == np.int64\n",
    "\n",
    "# Test if life_expectancy is of type float64\n",
    "assert gapminder_melt.life_expectancy.dtypes == np.float64"
   ]
  },
  {
   "cell_type": "code",
   "execution_count": 71,
   "metadata": {},
   "outputs": [
    {
     "name": "stdout",
     "output_type": "stream",
     "text": [
      "<class 'pandas.core.frame.DataFrame'>\n",
      "RangeIndex: 169260 entries, 0 to 169259\n",
      "Data columns (total 3 columns):\n",
      "country            169260 non-null object\n",
      "year               169260 non-null int64\n",
      "life_expectancy    43857 non-null float64\n",
      "dtypes: float64(1), int64(1), object(1)\n",
      "memory usage: 3.9+ MB\n"
     ]
    }
   ],
   "source": [
    "gapminder_melt.info()"
   ]
  },
  {
   "cell_type": "markdown",
   "metadata": {},
   "source": [
    "**Note** : Karena pernyataan `assert` tidak membuat kesalahan, Anda dapat yakin bahwa kolom Anda memiliki tipe data yang benar!"
   ]
  },
  {
   "cell_type": "markdown",
   "metadata": {},
   "source": [
    "### Looking at country spellings\n",
    "\n",
    "Setelah merapikan DataFrame Anda dan memeriksa tipe data, tugas Anda selanjutnya dalam proses pembersihan data adalah melihat kolom `'country'` untuk melihat apakah ada karakter khusus atau tidak valid yang mungkin perlu Anda tangani.\n",
    "\n",
    "Masuk akal untuk mengasumsikan bahwa nama negara akan mengandung:\n",
    "* Himpunan huruf kecil dan huruf besar.\n",
    "* Spasi antara kata-kata.\n",
    "* Periode untuk singkatan apa pun.\n",
    "\n",
    "Untuk mengonfirmasi bahwa ini masalahnya, Anda dapat memanfaatkan kekuatan ekspresi reguler lagi. Untuk operasi umum seperti ini, Pandas memiliki metode string bawaan - `str.contains()` - yang mengambil pola ekspresi reguler, dan menerapkannya ke Series, mengembalikan `True` jika ada kecocokan, dan `False` sebaliknya.\n",
    "\n",
    "Karena di sini Anda ingin menemukan nilai-nilai yang tidak cocok, Anda harus membalikkan boolean, yang dapat dilakukan dengan menggunakan `~`. Series Boolean ini kemudian dapat digunakan untuk mendapatkan Series negara yang memiliki nama tidak valid."
   ]
  },
  {
   "cell_type": "code",
   "execution_count": 72,
   "metadata": {},
   "outputs": [
    {
     "name": "stdout",
     "output_type": "stream",
     "text": [
      "49            Congo, Dem. Rep.\n",
      "50                 Congo, Rep.\n",
      "53               Cote d'Ivoire\n",
      "73      Falkland Is (Malvinas)\n",
      "93               Guinea-Bissau\n",
      "98            Hong Kong, China\n",
      "118    United Korea (former)\\n\n",
      "131               Macao, China\n",
      "132             Macedonia, FYR\n",
      "145      Micronesia, Fed. Sts.\n",
      "161            Ngorno-Karabakh\n",
      "187             St. Barthélemy\n",
      "193     St.-Pierre-et-Miquelon\n",
      "225                Timor-Leste\n",
      "251      Virgin Islands (U.S.)\n",
      "252       North Yemen (former)\n",
      "253       South Yemen (former)\n",
      "258                      Åland\n",
      "Name: country, dtype: object\n"
     ]
    }
   ],
   "source": [
    "# Create the series of countries: countries\n",
    "countries = gapminder_melt.country\n",
    "\n",
    "# Drop all the duplicates from countries\n",
    "countries = countries.drop_duplicates()\n",
    "\n",
    "# Write the regular expression: pattern\n",
    "pattern = '^[A-Za-z\\.\\s]*$'\n",
    "\n",
    "# Create the Boolean vector: mask\n",
    "mask = countries.str.contains(pattern)\n",
    "\n",
    "# Invert the mask: mask_inverse\n",
    "mask_inverse = ~mask\n",
    "\n",
    "# Subset countries using mask_inverse: invalid_countries\n",
    "invalid_countries = countries.loc[mask_inverse]\n",
    "\n",
    "# Print invalid_countries\n",
    "print(invalid_countries)"
   ]
  },
  {
   "cell_type": "markdown",
   "metadata": {},
   "source": [
    "**Note** : Seperti yang Anda lihat, tidak semua nama negara ini benar-benar `invalid` sehingga mungkin asumsi perlu sedikit diubah. Namun, tentu ada beberapa kasus yang perlu diselidiki lebih lanjut, seperti `St. Barthelemy`. Setiap kali Anda berurusan dengan kolom data mentah yang terdiri dari string, penting untuk memeriksa konsistensi seperti ini."
   ]
  },
  {
   "cell_type": "markdown",
   "metadata": {},
   "source": [
    "### More data cleaning and processing\n",
    "\n",
    "Sekarang saatnya untuk berurusan dengan `missing data`. Ada beberapa strategi untuk ini: Anda dapat menggunakan drop, mengisinya dengan menggunakan rata-rata kolom atau baris tempat nilai yang hilang (juga dikenal sebagai [imputasi](https://en.wikipedia.org/wiki/Imputation_(statistics))), atau, jika Anda berurusan dengan *time series data*, gunakan *forward fill* atau *backward fill*, di mana Anda mengganti nilai yang hilang dalam kolom dengan nilai terakhir yang diketahui di kolom. Lihat [Pandas Foundations](https://www.datacamp.com/courses/pandas-foundations) untuk informasi lebih lanjut tentang *forward fill* dan *backward fill*.\n",
    "\n",
    "Secara umum, itu bukan ide terbaik untuk menjatuhkan nilai-nilai yang hilang, karena dengan melakukan itu Anda akhirnya membuang informasi yang berguna. Dalam data ini, nilai-nilai yang hilang mengacu pada tahun-tahun di mana tidak ada perkiraan untuk harapan hidup tersedia untuk negara tertentu. Anda bisa mengisi, atau menebak apa harapan hidup ini dengan melihat rata-rata harapan hidup untuk negara lain di tahun itu, misalnya. Strategi apa pun yang Anda gunakan, penting untuk mempertimbangkan dengan cermat semua opsi dan memahami bagaimana mereka akan memengaruhi data Anda.\n",
    "\n",
    "Dalam latihan ini, Anda akan berlatih menjatuhkan nilai yang hilang. Tugas Anda adalah menghapus semua baris yang memiliki `NaN` di kolom `life_expectancy`. Sebelum melakukannya, akan sangat berguna menggunakan pernyataan assert untuk mengonfirmasi bahwa `year` dan `country` tidak memiliki nilai yang hilang.\n",
    "\n",
    "Mulailah dengan mencetak shape `gapminder` di IPython Shell sebelum menjatuhkan nilai yang hilang. Selesaikan latihan untuk mencari tahu seperti apa bentuknya setelah menjatuhkan nilai yang hilang!"
   ]
  },
  {
   "cell_type": "code",
   "execution_count": 73,
   "metadata": {},
   "outputs": [
    {
     "data": {
      "text/plain": [
       "(169260, 3)"
      ]
     },
     "execution_count": 73,
     "metadata": {},
     "output_type": "execute_result"
    }
   ],
   "source": [
    "gapminder_melt.shape"
   ]
  },
  {
   "cell_type": "code",
   "execution_count": 75,
   "metadata": {},
   "outputs": [
    {
     "name": "stdout",
     "output_type": "stream",
     "text": [
      "(43857, 3)\n"
     ]
    }
   ],
   "source": [
    "# Assert that country does not contain any missing values\n",
    "assert pd.notnull(gapminder_melt.country).all()\n",
    "\n",
    "# Assert that year does not contain any missing values\n",
    "assert pd.notnull(gapminder_melt.year).all()\n",
    "\n",
    "# Drop the missing values\n",
    "gapminder = gapminder_melt.dropna(axis=0, how='any')\n",
    "\n",
    "# Print the shape of gapminder\n",
    "print(gapminder.shape)"
   ]
  },
  {
   "cell_type": "markdown",
   "metadata": {},
   "source": [
    "**Note** : Setelah menjatuhkan nilai yang hilang dari `'life_expectancy'`, jumlah baris dalam DataFrame telah turun dari `169260` menjadi `43857`. Secara umum, Anda harus menghindari menjatuhkan terlalu banyak data Anda, tetapi jika tidak ada cara yang masuk akal untuk mengisi atau menghubungkan nilai yang hilang, maka menjatuhkan data yang hilang mungkin merupakan solusi terbaik."
   ]
  },
  {
   "cell_type": "markdown",
   "metadata": {},
   "source": [
    "### Wrapping up\n",
    "\n",
    "Sekarang Anda memiliki dataset yang bersih dan rapi, Anda dapat melakukan sedikit visualisasi dan agregasi. Dalam latihan ini, Anda akan mulai dengan membuat histogram dari kolom `life_expectancy`. Anda seharusnya tidak mendapatkan nilai apa pun di bawah 0 dan Anda harus melihat sesuatu yang masuk akal di ujung atas rentang usia `life_expectancy`.\n",
    "\n",
    "Tugas Anda selanjutnya adalah menyelidiki bagaimana harapan hidup rata-rata berubah selama bertahun-tahun. Untuk melakukan ini, Anda perlu mengatur ulang data setiap tahun, mendapatkan kolom `life_expectancy` dari setiap subset, dan mengambil nilai rata-rata. Anda dapat mencapai ini menggunakan metode [`.groupby()`. Metode](http://pandas.pydata.org/pandas-docs/stable/generated/pandas.DataFrame.groupby.html) ini dibahas secara lebih mendalam dalam [Manipulating DataFrames with pandas](https://www.datacamp.com/courses/manipulating-dataframes-with-pandas).\n",
    "\n",
    "Terakhir, Anda dapat menyimpan DataFrame yang rapi dan diringkas ke file menggunakan metode `.to_csv()`."
   ]
  },
  {
   "cell_type": "code",
   "execution_count": 76,
   "metadata": {},
   "outputs": [
    {
     "name": "stdout",
     "output_type": "stream",
     "text": [
      "year\n",
      "1800    31.486020\n",
      "1801    31.448905\n",
      "1802    31.463483\n",
      "1803    31.377413\n",
      "1804    31.446318\n",
      "Name: life_expectancy, dtype: float64\n",
      "year\n",
      "2012    71.663077\n",
      "2013    71.916106\n",
      "2014    72.088125\n",
      "2015    72.321010\n",
      "2016    72.556635\n",
      "Name: life_expectancy, dtype: float64\n"
     ]
    },
    {
     "data": {
      "image/png": "[encoded data removed]",
      "text/plain": [
       "<Figure size 432x288 with 2 Axes>"
      ]
     },
     "metadata": {
      "needs_background": "light"
     },
     "output_type": "display_data"
    },
    {
     "name": "stderr",
     "output_type": "stream",
     "text": [
      "/opt/conda/lib/python3.7/site-packages/ipykernel_launcher.py:33: FutureWarning: The signature of `Series.to_csv` was aligned to that of `DataFrame.to_csv`, and argument 'header' will change its default value from False to True: please pass an explicit value to suppress this warning.\n"
     ]
    }
   ],
   "source": [
    "# Add first subplot\n",
    "plt.subplot(2, 1, 1) \n",
    "\n",
    "# Create a histogram of life_expectancy\n",
    "gapminder.life_expectancy.plot(kind='hist')\n",
    "\n",
    "# Group gapminder: gapminder_agg\n",
    "gapminder_agg = gapminder.groupby('year')['life_expectancy'].mean()\n",
    "\n",
    "# Print the head of gapminder_agg\n",
    "print(gapminder_agg.head())\n",
    "\n",
    "# Print the tail of gapminder_agg\n",
    "print(gapminder_agg.tail())\n",
    "\n",
    "# Add second subplot\n",
    "plt.subplot(2, 1, 2)\n",
    "\n",
    "# Create a line plot of life expectancy per year\n",
    "gapminder_agg.plot()\n",
    "\n",
    "# Add title and specify axis labels\n",
    "plt.title('Life expectancy over the years')\n",
    "plt.ylabel('Life expectancy')\n",
    "plt.xlabel('Year')\n",
    "\n",
    "# Display the plots\n",
    "plt.tight_layout()\n",
    "plt.show()\n",
    "\n",
    "# Save both DataFrames to csv files\n",
    "gapminder.to_csv('gapminder.csv')\n",
    "gapminder_agg.to_csv('gapminder_agg.csv')"
   ]
  },
  {
   "cell_type": "markdown",
   "metadata": {},
   "source": [
    "**Note** : Pekerjaan yang luar biasa! Anda telah melewati setiap tahap proses pembersihan data dan data Anda sekarang siap untuk analisis serius! Melihat plot garis, sepertinya harapan hidup seperti yang diharapkan, meningkat selama bertahun-tahun. Ada penurunan mengejutkan sekitar tahun 1920 yang mungkin perlu diselidiki lebih lanjut!"
   ]
  },
  {
   "cell_type": "code",
   "execution_count": null,
   "metadata": {},
   "outputs": [],
   "source": []
  }
 ],
 "metadata": {
  "kernelspec": {
   "display_name": "Python 3",
   "language": "python",
   "name": "python3"
  },
  "language_info": {
   "codemirror_mode": {
    "name": "ipython",
    "version": 3
   },
   "file_extension": ".py",
   "mimetype": "text/x-python",
   "name": "python",
   "nbconvert_exporter": "python",
   "pygments_lexer": "ipython3",
   "version": "3.7.3"
  }
 },
 "nbformat": 4,
 "nbformat_minor": 2
}
