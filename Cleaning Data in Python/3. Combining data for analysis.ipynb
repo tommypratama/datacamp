{
 "cells": [
  {
   "cell_type": "markdown",
   "metadata": {},
   "source": [
    "# 3. Combining data for analysis\n",
    "\n",
    "Kemampuan untuk mengubah dan menggabungkan data Anda adalah keterampilan penting dalam ilmu data, karena data Anda mungkin tidak selalu datang dalam satu file atau tabel monolitik untuk Anda muat. Dataset besar dapat dipecah menjadi kumpulan data terpisah untuk memudahkan penyimpanan dan berbagi yang lebih mudah. Tetapi penting untuk dapat menjalankan analisis Anda pada satu dataset. Anda harus mempelajari cara menggabungkan dataset atau membersihkan setiap dataset secara terpisah sehingga Anda dapat menggabungkannya nanti untuk dianalisis."
   ]
  },
  {
   "cell_type": "markdown",
   "metadata": {},
   "source": [
    "## Concatenating data\n",
    "\n",
    "### Combining rows of data\n",
    "\n",
    "Dataset yang akan Anda gunakan di sini terkait dengan data [NYC Uber](http://data.beta.nyc/dataset/uber-trip-data-foiled-apr-sep-2014). Dataset asli memiliki semua lokasi pengambilan Uber yang berasal berdasarkan waktu dan lintang dan bujur. Untuk tujuan belajar, Anda akan bekerja dengan sebagian kecil dari data aktual.\n",
    "\n",
    "Tiga DataFrames telah dimuat sebelumnya: `uber1`, yang berisi data untuk April 2014, `uber2`, yang berisi data untuk Mei 2014, dan `uber3`, yang berisi data untuk Juni 2014. Tugas Anda dalam latihan ini adalah menyatukan DataFrames ini bersama-sama sehingga DataFrame yang dihasilkan memiliki data selama tiga bulan.\n",
    "\n",
    "Mulailah dengan menjelajahi struktur ketiga DataFrames di IPython Shell menggunakan metode seperti `.head()`."
   ]
  },
  {
   "cell_type": "code",
   "execution_count": null,
   "metadata": {},
   "outputs": [],
   "source": [
    "# Concatenate uber1, uber2, and uber3: row_concat\n",
    "row_concat = pd.concat([uber1, uber2, uber3])\n",
    "\n",
    "# Print the shape of row_concat\n",
    "print(row_concat.shape)\n",
    "\n",
    "# Print the head of row_concat\n",
    "print(row_concat.head())"
   ]
  },
  {
   "cell_type": "markdown",
   "metadata": {},
   "source": [
    "### Combining columns of data\n",
    "\n",
    "Pikirkan gabungan data kolom seperti menjahit data bersama-sama dari sisi, bukan atas dan bawah. Untuk melakukan tindakan ini, Anda menggunakan fungsi `pd.concat()` yang sama, tetapi kali ini dengan keyword argument `axis=1`. Defaultnya, `axis=0`, adalah untuk gabungan baris.\n",
    "\n",
    "Anda akan kembali ke [dataset Ebola](https://data.humdata.org/dataset/ebola-cases-2014) yang Anda gunakan secara singkat di bab terakhir. Ini telah dimuat sebelumnya ke dalam DataFrame yang disebut `ebola_melt`. Dalam DataFrame ini, status dan negara pasien terkandung dalam satu kolom. Kolom ini telah diuraikan menjadi DataFrame baru, `status_country`, di mana ada kolom terpisah untuk status dan negara.\n",
    "\n",
    "Jelajahi DataFrames `ebola_melt` dan `status_country` di IPython Shell. Tugas Anda adalah menggabungkannya secara kolom untuk mendapatkan DataFrame yang final dan bersih."
   ]
  },
  {
   "cell_type": "code",
   "execution_count": null,
   "metadata": {},
   "outputs": [],
   "source": [
    "# Concatenate ebola_melt and status_country column-wise: ebola_tidy\n",
    "ebola_tidy = pd.concat([ebola_melt, status_country], axis=1)\n",
    "\n",
    "# Print the shape of ebola_tidy\n",
    "print(ebola_tidy.shape)\n",
    "\n",
    "# Print the head of ebola_tidy\n",
    "print(ebola_tidy.head())"
   ]
  },
  {
   "cell_type": "markdown",
   "metadata": {},
   "source": [
    "**Note** : DataFrame gabungan memiliki 6 kolom, sebagaimana mestinya. Perhatikan bagaimana kolom `status` dan `country` telah digabungkan berdasarkan kolom."
   ]
  },
  {
   "cell_type": "markdown",
   "metadata": {},
   "source": [
    "## Finding and concatenating data\n",
    "\n",
    "### Finding files that match a pattern\n",
    "\n",
    "Anda sekarang akan berlatih menggunakan modul `glob` untuk menemukan semua file csv di ruang kerja. Dalam latihan berikutnya, Anda secara terprogram akan memuatnya ke dalam DataFrames.\n",
    "\n",
    "Modul `glob` memiliki fungsi yang disebut `glob` yang mengambil pola dan mengembalikan daftar file di direktori kerja yang cocok dengan pola itu.\n",
    "\n",
    "Misalnya, jika Anda tahu polanya adalah `part_` `angka tunggal .csv`, Anda dapat menulis polanya sebagai `'part_?.csv'` (yang akan cocok dengan `part_1.csv`, `part_2.csv`, `part_3.csv`, dll.)\n",
    "\n",
    "Demikian pula, Anda dapat menemukan semua file `.csv` dengan `'*.csv'`, atau semua bagian dengan `'part_*'`. Tanda `?` wildcard mewakili 1 karakter, dan `*` wildcard mewakili sejumlah karakter."
   ]
  },
  {
   "cell_type": "code",
   "execution_count": null,
   "metadata": {},
   "outputs": [],
   "source": [
    "# Import necessary modules\n",
    "import glob\n",
    "import pandas as pd\n",
    "\n",
    "# Write the pattern: pattern\n",
    "pattern = '*.csv'\n",
    "\n",
    "# Save all file matches: csv_files\n",
    "csv_files = glob.glob(pattern)\n",
    "\n",
    "# Print the file names\n",
    "print(csv_files)\n",
    "\n",
    "# Load the second file into a DataFrame: csv2\n",
    "csv2 = pd.read_csv(csv_files[1])\n",
    "\n",
    "# Print the head of csv2\n",
    "print(csv2.head())"
   ]
  },
  {
   "cell_type": "markdown",
   "metadata": {},
   "source": [
    "### Iterating and concatenating all matches\n",
    "\n",
    "Sekarang Anda memiliki list nama file untuk dimuat, Anda dapat memuat semua file ke dalam list DataFrames yang kemudian dapat digabungkan.\n",
    "\n",
    "Anda akan mulai dengan list kosong yang disebut `frames`. Tugas Anda adalah menggunakan `for` loop ke:\n",
    "\n",
    "1. iterate melalui masing-masing nama file.\n",
    "2. baca setiap nama file menjadi DataFrame.\n",
    "3. append ke `frames` list.\n",
    "\n",
    "Anda kemudian dapat menggabungkan list DataFrames ini menggunakan `pd.concat()`."
   ]
  },
  {
   "cell_type": "code",
   "execution_count": null,
   "metadata": {},
   "outputs": [],
   "source": [
    "# Create an empty list: frames\n",
    "frames = []\n",
    "\n",
    "#  Iterate over csv_files\n",
    "for csv in csv_files:\n",
    "\n",
    "    #  Read csv into a DataFrame: df\n",
    "    df = pd.read_csv(csv)\n",
    "    \n",
    "    # Append df to frames\n",
    "    frames.append(df)\n",
    "\n",
    "# Concatenate frames into a single DataFrame: uber\n",
    "uber = pd.concat(frames)\n",
    "\n",
    "# Print the shape of uber\n",
    "print(uber.shape)\n",
    "\n",
    "# Print the head of uber\n",
    "print(uber.head())"
   ]
  },
  {
   "cell_type": "markdown",
   "metadata": {},
   "source": [
    "**Note** : Sekarang Anda dapat secara terprogram menggabungkan kumpulan data yang dipecah menjadi banyak bagian yang lebih kecil. Anda akan menemukan banyak kumpulan data di luar sana yang akan disimpan dengan cara ini, khususnya data yang dikumpulkan secara bertahap."
   ]
  },
  {
   "cell_type": "markdown",
   "metadata": {},
   "source": [
    "## Merge data\n",
    "\n",
    "### 1-to-1 data merge\n",
    "\n",
    "Menggabungkan data memungkinkan Anda untuk menggabungkan dataset yang berbeda menjadi satu dataset tunggal untuk melakukan analisis yang lebih kompleks.\n",
    "\n",
    "Di sini, Anda akan menggunakan data survei yang berisi bacaan yang diambil William Dyer, Frank Pabodie, dan Valentina Roerich pada akhir 1920-an dan 1930-an saat mereka melakukan ekspedisi ke Antartika. Dataset diambil dari database sqlite dari [Software Carpentry SQL lesson](http://swcarpentry.github.io/sql-novice-survey/).\n",
    "\n",
    "Dua DataFrames telah dimuat sebelumnya: `site` dan `visited`. Jelajahi mereka di IPython Shell dan catat struktur dan nama kolomnya. Tugas Anda adalah melakukan penggabungan 1-ke-1 dari kedua DataFrames ini menggunakan kolom `'name'` dari `site` dan kolom `'site'` dari `visited`."
   ]
  },
  {
   "cell_type": "code",
   "execution_count": null,
   "metadata": {},
   "outputs": [],
   "source": [
    "# Merge the DataFrames: o2o\n",
    "o2o = pd.merge(left=site, right=visited, left_on='name', right_on='site')\n",
    "\n",
    "# Print o2o\n",
    "print(o2o)"
   ]
  },
  {
   "cell_type": "markdown",
   "metadata": {},
   "source": [
    "**Note** : Perhatikan korespondensi 1-ke-1 antara DataFrame kolom `name` dari `site` dan kolom `site` dari `visited`. Inilah yang memungkinkan penggabungan 1-ke-1 menjadi mungkin."
   ]
  },
  {
   "cell_type": "markdown",
   "metadata": {},
   "source": [
    "### Many-to-1 data merge\n",
    "\n",
    "Dalam penggabungan banyak-ke-satu (atau satu-ke-banyak), salah satu nilai akan diduplikasi dan didaur ulang dalam output. Artinya, salah satu kunci dalam penggabungan tidak unik.\n",
    "\n",
    "Di sini, dua DataFrames `site` dan `visited` telah dimuat sekali lagi. Perhatikan bahwa saat ini, `visited` memiliki beberapa entri untuk kolom `site`. Konfirmasikan ini dengan menjelajahi di Shell IPython.\n",
    "\n",
    "Pemanggilan metode `.merge()` sama dengan gabungan 1-ke-1 dari latihan sebelumnya, tetapi data dan output akan berbeda."
   ]
  },
  {
   "cell_type": "code",
   "execution_count": null,
   "metadata": {},
   "outputs": [],
   "source": [
    "# Merge the DataFrames: m2o\n",
    "m2o = pd.merge(left=site, right=visited, left_on='name', right_on='site')\n",
    "\n",
    "# Print m2o\n",
    "print(m2o)"
   ]
  },
  {
   "cell_type": "markdown",
   "metadata": {},
   "source": [
    "**Note** : Perhatikan bagaimana data `site` diduplikasi selama penggabungan many-to-1 ini!"
   ]
  },
  {
   "cell_type": "markdown",
   "metadata": {},
   "source": [
    "### Many-to-many data merge\n",
    "\n",
    "Skenario penggabungan terakhir terjadi ketika kedua DataFrames tidak memiliki kunci unik untuk penggabungan. Apa yang terjadi di sini adalah bahwa untuk setiap kunci duplikat, setiap kombinasi berpasangan akan dibuat.\n",
    "\n",
    "Dua contoh DataFrames yang berbagi nilai kunci umum telah dimuat sebelumnya: `df1` dan `df2`. DataFrame lainnya `df3`, yang merupakan hasil dari `df1` digabung dengan `df2`, telah dimuat sebelumnya. Ketiga DataFrames telah dicetak - lihat output dan perhatikan bagaimana kombinasi berpasangan telah dibuat. Contoh ini adalah untuk membantu Anda mengembangkan intuisi Anda untuk penggabungan `many-to-many`.\n",
    "\n",
    "Di sini, Anda akan bekerja dengan DataFrames `site` dan `visited` dari sebelumnya, dan DataFrame baru `survey`. Tugas Anda adalah menggabungkan `site` dan `visited` seperti yang Anda lakukan pada latihan sebelumnya. Anda kemudian akan menggabungkan DataFrame gabungan ini dengan `survey`.\n",
    "\n",
    "Mulailah dengan menjelajahi DataFrames `site`, `visited`, dan `survey` di IPython Shell."
   ]
  },
  {
   "cell_type": "code",
   "execution_count": null,
   "metadata": {},
   "outputs": [],
   "source": [
    "# Merge site and visited: m2m\n",
    "m2m = pd.merge(left=site, right=visited, left_on='name', right_on='site')\n",
    "\n",
    "# Merge m2m and survey: m2m\n",
    "m2m = pd.merge(left=m2m, right=survey, left_on='ident', right_on='taken')\n",
    "\n",
    "# Print the first 20 lines of m2m\n",
    "print(m2m.head(20))"
   ]
  },
  {
   "cell_type": "markdown",
   "metadata": {},
   "source": [
    "**Note** : Perhatikan bagaimana kunci diduplikasi dalam penggabungan many-to-many ini!"
   ]
  },
  {
   "cell_type": "code",
   "execution_count": null,
   "metadata": {},
   "outputs": [],
   "source": []
  }
 ],
 "metadata": {
  "kernelspec": {
   "display_name": "Python 3",
   "language": "python",
   "name": "python3"
  },
  "language_info": {
   "codemirror_mode": {
    "name": "ipython",
    "version": 3
   },
   "file_extension": ".py",
   "mimetype": "text/x-python",
   "name": "python",
   "nbconvert_exporter": "python",
   "pygments_lexer": "ipython3",
   "version": "3.7.3"
  }
 },
 "nbformat": 4,
 "nbformat_minor": 2
}
