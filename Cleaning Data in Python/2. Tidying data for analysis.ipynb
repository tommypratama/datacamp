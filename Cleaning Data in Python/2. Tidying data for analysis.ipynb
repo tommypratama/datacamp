{
 "cells": [
  {
   "cell_type": "markdown",
   "metadata": {},
   "source": [
    "# 2. Tidying data for analysis\n",
    "\n",
    "Pelajari tentang prinsip-prinsip *tidy* data (data yang rapi), dan yang lebih penting, mengapa Anda harus memperhatikannya dan bagaimana mereka membuat analisis data lebih efisien. Anda akan memperoleh pengalaman langsung dengan membentuk kembali dan merapikan data menggunakan teknik seperti *pivoting* dan *melting*."
   ]
  },
  {
   "cell_type": "markdown",
   "metadata": {},
   "source": [
    "## Tidy Data\n",
    "\n",
    "### Recognizing tidy data\n",
    "\n",
    "Agar data rapi, harus memiliki:\n",
    "* Setiap kolom mengandung tepat satu variabel.\n",
    "* Setiap baris berisi tepat satu pengamatan.\n",
    "\n",
    "Namun, apa yang merupakan pengamatan unik tergantung pada kasus penggunaan Anda. Sebagai seorang ilmuwan data, Anda akan menjumpai data yang direpresentasikan dalam berbagai cara yang berbeda, sehingga penting untuk dapat memahami dan menggambarkan struktur data Anda.\n",
    "\n",
    "Dalam latihan ini, dua contoh dataset telah dimuat sebelumnya ke dalam DataFrames `df1` dan `df2`. Mereka berisi data yang sama, tetapi disusun dengan cara yang berbeda. Tugas Anda adalah untuk mengeksplorasi ini lebih lanjut dalam Shell IPython dan menjawab pertanyaan di bawah ini.\n",
    "\n",
    "Catatan sebelum melanjutkan. Di sisa kursus ini, Anda akan sering diminta untuk menjelajahi struktur DataFrames di IPython Shell sebelum melakukan operasi yang berbeda pada mereka. Melakukan hal ini tidak hanya akan memperkuat pemahaman Anda tentang konsep pembersihan data yang dicakup dalam kursus ini, tetapi juga akan membantu Anda menyadari dan memanfaatkan hubungan antara bekerja di Shell dan dalam skrip.\n",
    "\n",
    "Manakah dari pernyataan berikut ini yang benar?\n",
    "\n",
    "**Answer** : Dalam kedua set data, Date mengidentifikasi setiap pengamatan.\n",
    "\n",
    "**Note** : Kedua format rapi karena berbagai alasan, satu fokus pada pengukuran sensor individu, dan yang lainnya fokus pada pengukuran harian. Ketika Anda mendapatkan data ke dalam format yang rapi, lebih mudah untuk mengubahnya menjadi apa pun yang sesuai dengan kebutuhan Anda."
   ]
  },
  {
   "cell_type": "markdown",
   "metadata": {},
   "source": [
    "### Reshaping your data using melt\n",
    "\n",
    "Melting data adalah proses mengubah kolom data Anda menjadi baris data. Pertimbangkan DataFrames dari latihan sebelumnya. Dalam DataFrame yang rapi, variabel `Ozone`, `Solar.R`, `Wind`, dan `Temp` masing-masing memiliki kolom sendiri. Namun, jika Anda ingin variabel-variabel ini berada di baris, Anda bisa melelehkan (*melt*) DataFrame. Namun, dengan melakukan itu, Anda akan membuat data berantakan! Hal ini penting untuk diingat: Bergantung pada bagaimana data Anda diwakili, Anda harus membentuk kembali secara berbeda (mis., Ini dapat memudahkan untuk memplot nilai).\n",
    "\n",
    "Dalam latihan ini, Anda akan berlatih melting DataFrame menggunakan `pd.melt()`. Ada dua parameter yang harus Anda perhatikan: `id_vars` dan `value_vars`. `id_vars` mewakili kolom data yang Anda tidak ingin meleleh (mis., Tetap dalam bentuk saat ini), sedangkan `value_vars` mewakili kolom yang ingin Anda cairkan ke dalam baris. Secara default, jika `value_vars` tidak disediakan, semua kolom yang tidak disetel dalam `id_vars` akan dilebur. Ini bisa menghemat sedikit pengetikan, tergantung pada jumlah kolom yang perlu dilebur.\n",
    "\n",
    "DataFrame (tidy) `airquality` telah dimuat sebelumnya. Tugas Anda adalah mencairkan kolom `Ozone`, `Solar.R`, `Wind`, dan `Temp` menjadi baris. Kemudian di bab ini, Anda akan belajar cara mengembalikan DataFrame yang meleleh ini ke bentuk yang rapi."
   ]
  },
  {
   "cell_type": "code",
   "execution_count": 1,
   "metadata": {},
   "outputs": [],
   "source": [
    "import pandas as pd\n",
    "\n",
    "url = 'https://assets.datacamp.com/production/repositories/666/datasets/c16448e3f4219f900f540c455fdf87b0f3da70e0/airquality.csv'\n",
    "airquality = pd.read_csv(url)"
   ]
  },
  {
   "cell_type": "code",
   "execution_count": 3,
   "metadata": {},
   "outputs": [
    {
     "data": {
      "text/html": [
       "<div>\n",
       "<style scoped>\n",
       "    .dataframe tbody tr th:only-of-type {\n",
       "        vertical-align: middle;\n",
       "    }\n",
       "\n",
       "    .dataframe tbody tr th {\n",
       "        vertical-align: top;\n",
       "    }\n",
       "\n",
       "    .dataframe thead th {\n",
       "        text-align: right;\n",
       "    }\n",
       "</style>\n",
       "<table border=\"1\" class=\"dataframe\">\n",
       "  <thead>\n",
       "    <tr style=\"text-align: right;\">\n",
       "      <th></th>\n",
       "      <th>Ozone</th>\n",
       "      <th>Solar.R</th>\n",
       "      <th>Wind</th>\n",
       "      <th>Temp</th>\n",
       "      <th>Month</th>\n",
       "      <th>Day</th>\n",
       "    </tr>\n",
       "  </thead>\n",
       "  <tbody>\n",
       "    <tr>\n",
       "      <th>0</th>\n",
       "      <td>41.0</td>\n",
       "      <td>190.0</td>\n",
       "      <td>7.4</td>\n",
       "      <td>67</td>\n",
       "      <td>5</td>\n",
       "      <td>1</td>\n",
       "    </tr>\n",
       "    <tr>\n",
       "      <th>1</th>\n",
       "      <td>36.0</td>\n",
       "      <td>118.0</td>\n",
       "      <td>8.0</td>\n",
       "      <td>72</td>\n",
       "      <td>5</td>\n",
       "      <td>2</td>\n",
       "    </tr>\n",
       "    <tr>\n",
       "      <th>2</th>\n",
       "      <td>12.0</td>\n",
       "      <td>149.0</td>\n",
       "      <td>12.6</td>\n",
       "      <td>74</td>\n",
       "      <td>5</td>\n",
       "      <td>3</td>\n",
       "    </tr>\n",
       "    <tr>\n",
       "      <th>3</th>\n",
       "      <td>18.0</td>\n",
       "      <td>313.0</td>\n",
       "      <td>11.5</td>\n",
       "      <td>62</td>\n",
       "      <td>5</td>\n",
       "      <td>4</td>\n",
       "    </tr>\n",
       "    <tr>\n",
       "      <th>4</th>\n",
       "      <td>NaN</td>\n",
       "      <td>NaN</td>\n",
       "      <td>14.3</td>\n",
       "      <td>56</td>\n",
       "      <td>5</td>\n",
       "      <td>5</td>\n",
       "    </tr>\n",
       "  </tbody>\n",
       "</table>\n",
       "</div>"
      ],
      "text/plain": [
       "   Ozone  Solar.R  Wind  Temp  Month  Day\n",
       "0   41.0    190.0   7.4    67      5    1\n",
       "1   36.0    118.0   8.0    72      5    2\n",
       "2   12.0    149.0  12.6    74      5    3\n",
       "3   18.0    313.0  11.5    62      5    4\n",
       "4    NaN      NaN  14.3    56      5    5"
      ]
     },
     "execution_count": 3,
     "metadata": {},
     "output_type": "execute_result"
    }
   ],
   "source": [
    "airquality.head()"
   ]
  },
  {
   "cell_type": "code",
   "execution_count": 4,
   "metadata": {},
   "outputs": [
    {
     "name": "stdout",
     "output_type": "stream",
     "text": [
      "   Ozone  Solar.R  Wind  Temp  Month  Day\n",
      "0   41.0    190.0   7.4    67      5    1\n",
      "1   36.0    118.0   8.0    72      5    2\n",
      "2   12.0    149.0  12.6    74      5    3\n",
      "3   18.0    313.0  11.5    62      5    4\n",
      "4    NaN      NaN  14.3    56      5    5\n",
      "   Month  Day variable  value\n",
      "0      5    1    Ozone   41.0\n",
      "1      5    2    Ozone   36.0\n",
      "2      5    3    Ozone   12.0\n",
      "3      5    4    Ozone   18.0\n",
      "4      5    5    Ozone    NaN\n"
     ]
    }
   ],
   "source": [
    "# Print the head of airquality\n",
    "print(airquality.head())\n",
    "\n",
    "# Melt airquality: airquality_melt\n",
    "airquality_melt = pd.melt(airquality, id_vars=['Month', 'Day'])\n",
    "\n",
    "# Print the head of airquality_melt\n",
    "print(airquality_melt.head())"
   ]
  },
  {
   "cell_type": "markdown",
   "metadata": {},
   "source": [
    "### Customizing melted data\n",
    "\n",
    "Saat melting DataFrames, akan lebih baik memiliki nama kolom yang lebih bermakna daripada `variable` dan `value` (nama default yang digunakan oleh `pd.melt()`).\n",
    "\n",
    "Nama default mungkin berfungsi dalam situasi tertentu, tetapi yang terbaik adalah selalu memiliki data yang cukup jelas.\n",
    "\n",
    "Anda bisa mengganti nama kolom `variable` dengan menetapkan argumen ke parameter `var_name`, dan kolom `value` dengan menentukan argumen ke parameter `value_name`. Anda sekarang akan berlatih melakukan hal ini dengan tepat. "
   ]
  },
  {
   "cell_type": "code",
   "execution_count": 5,
   "metadata": {},
   "outputs": [
    {
     "name": "stdout",
     "output_type": "stream",
     "text": [
      "   Ozone  Solar.R  Wind  Temp  Month  Day\n",
      "0   41.0    190.0   7.4    67      5    1\n",
      "1   36.0    118.0   8.0    72      5    2\n",
      "2   12.0    149.0  12.6    74      5    3\n",
      "3   18.0    313.0  11.5    62      5    4\n",
      "4    NaN      NaN  14.3    56      5    5\n",
      "   Month  Day measurement  reading\n",
      "0      5    1       Ozone     41.0\n",
      "1      5    2       Ozone     36.0\n",
      "2      5    3       Ozone     12.0\n",
      "3      5    4       Ozone     18.0\n",
      "4      5    5       Ozone      NaN\n"
     ]
    }
   ],
   "source": [
    "# Print the head of airquality\n",
    "print(airquality.head())\n",
    "\n",
    "# Melt airquality: airquality_melt\n",
    "airquality_melt = pd.melt(airquality, id_vars=['Month', 'Day'], var_name='measurement', value_name='reading')\n",
    "\n",
    "# Print the head of airquality_melt\n",
    "print(airquality_melt.head())"
   ]
  },
  {
   "cell_type": "markdown",
   "metadata": {},
   "source": [
    "## Pivoting data\n",
    "\n",
    "Pivoting data adalah kebalikan dari melting. Ingat bentuk rapi yang ada di dataFrame `airquality` sebelum Anda mencairkannya? Anda sekarang akan mulai memutar kembali ke bentuk itu menggunakan metode `.pivot_table()`!\n",
    "\n",
    "Sementara melting mengambil satu set kolom dan mengubahnya menjadi satu kolom, pivoting akan membuat kolom baru untuk setiap nilai unik dalam kolom yang ditentukan.\n",
    "\n",
    "`.pivot_table()` memiliki parameter `index` yang dapat Anda gunakan untuk menentukan kolom yang tidak ingin Anda pivotasikan: Ini mirip dengan parameter `id_vars` dari `pd.melt()`. Dua parameter lain yang harus Anda tentukan adalah `columns` (nama kolom yang ingin Anda pivot), dan `values` (nilai yang akan digunakan ketika kolom di pivot)."
   ]
  },
  {
   "cell_type": "code",
   "execution_count": 6,
   "metadata": {},
   "outputs": [
    {
     "name": "stdout",
     "output_type": "stream",
     "text": [
      "   Month  Day measurement  reading\n",
      "0      5    1       Ozone     41.0\n",
      "1      5    2       Ozone     36.0\n",
      "2      5    3       Ozone     12.0\n",
      "3      5    4       Ozone     18.0\n",
      "4      5    5       Ozone      NaN\n",
      "measurement  Ozone  Solar.R  Temp  Wind\n",
      "Month Day                              \n",
      "5     1       41.0    190.0  67.0   7.4\n",
      "      2       36.0    118.0  72.0   8.0\n",
      "      3       12.0    149.0  74.0  12.6\n",
      "      4       18.0    313.0  62.0  11.5\n",
      "      5        NaN      NaN  56.0  14.3\n"
     ]
    }
   ],
   "source": [
    "# Print the head of airquality_melt\n",
    "print(airquality_melt.head())\n",
    "\n",
    "# Pivot airquality_melt: airquality_pivot\n",
    "airquality_pivot = airquality_melt.pivot_table(index=['Month', 'Day'], columns='measurement', values='reading')\n",
    "\n",
    "# Print the head of airquality_pivot\n",
    "print(airquality_pivot.head())"
   ]
  },
  {
   "cell_type": "markdown",
   "metadata": {},
   "source": [
    "**Note** : Perhatikan bahwa DataFrame yang di pivoted tidak benar-benar terlihat seperti DataFrame asli. Dalam latihan berikutnya, Anda akan mengubah DataFrame yang di pivoted ini menjadi bentuk aslinya."
   ]
  },
  {
   "cell_type": "markdown",
   "metadata": {},
   "source": [
    "### Resetting the index of a DataFrame\n",
    "\n",
    "Setelah mem pivot `airquality_melt` pada latihan sebelumnya, Anda tidak cukup mendapatkan kembali DataFrame asli.\n",
    "\n",
    "Apa yang Anda dapatkan sebagai gantinya adalah DataFrame pandas dengan [indeks hierarkis (juga dikenal sebagai MultiIndex)](http://pandas.pydata.org/pandas-docs/stable/advanced.html).\n",
    "\n",
    "Indeks hirarkis dibahas secara mendalam dalam [Manipulating DataFrames with pandas](https://www.datacamp.com/courses/manipulating-dataframes-with-pandas). Intinya, mereka memungkinkan Anda untuk mengelompokkan kolom atau baris dengan variabel lain - dalam hal ini, menurut `'Month'` dan juga `'Day'`.\n",
    "\n",
    "Ada metode yang sangat sederhana yang dapat Anda gunakan untuk mendapatkan kembali DataFrame asli dari DataFrame yang di pivot: `.reset_index()`."
   ]
  },
  {
   "cell_type": "code",
   "execution_count": 7,
   "metadata": {},
   "outputs": [
    {
     "name": "stdout",
     "output_type": "stream",
     "text": [
      "MultiIndex([(5,  1),\n",
      "            (5,  2),\n",
      "            (5,  3),\n",
      "            (5,  4),\n",
      "            (5,  5),\n",
      "            (5,  6),\n",
      "            (5,  7),\n",
      "            (5,  8),\n",
      "            (5,  9),\n",
      "            (5, 10),\n",
      "            ...\n",
      "            (9, 21),\n",
      "            (9, 22),\n",
      "            (9, 23),\n",
      "            (9, 24),\n",
      "            (9, 25),\n",
      "            (9, 26),\n",
      "            (9, 27),\n",
      "            (9, 28),\n",
      "            (9, 29),\n",
      "            (9, 30)],\n",
      "           names=['Month', 'Day'], length=153)\n",
      "RangeIndex(start=0, stop=153, step=1)\n",
      "measurement  Month  Day  Ozone  Solar.R  Temp  Wind\n",
      "0                5    1   41.0    190.0  67.0   7.4\n",
      "1                5    2   36.0    118.0  72.0   8.0\n",
      "2                5    3   12.0    149.0  74.0  12.6\n",
      "3                5    4   18.0    313.0  62.0  11.5\n",
      "4                5    5    NaN      NaN  56.0  14.3\n"
     ]
    }
   ],
   "source": [
    "# Print the index of airquality_pivot\n",
    "print(airquality_pivot.index)\n",
    "\n",
    "# Reset the index of airquality_pivot: airquality_pivot_reset\n",
    "airquality_pivot_reset = airquality_pivot.reset_index()\n",
    "\n",
    "# Print the new index of airquality_pivot_reset\n",
    "print(airquality_pivot_reset.index)\n",
    "\n",
    "# Print the head of airquality_pivot_reset\n",
    "print(airquality_pivot_reset.head())"
   ]
  },
  {
   "cell_type": "markdown",
   "metadata": {},
   "source": [
    "### Pivoting duplicate values\n",
    "\n",
    "Sejauh ini, Anda telah menggunakan metode `.pivot_table()` ketika ada beberapa nilai `index` yang ingin Anda pertahankan konstan selama pivot. Dalam video, Dan menunjukkan kepada Anda bagaimana Anda juga dapat menggunakan tabel pivot untuk menangani nilai duplikat dengan menyediakan fungsi agregasi melalui parameter `aggfunc`. Di sini, Anda akan menggabungkan kedua penggunaan tabel pivot ini.\n",
    "\n",
    "Katakanlah metode pengumpulan data Anda secara tidak sengaja menggandakan dataset Anda. Dataset semacam itu, di mana setiap baris diduplikasi, telah dimuat sebagai `airquality_dup`. Selain itu, dataFrame `airquality_melt` dari latihan sebelumnya telah dimuat. Jelajahi bentuk mereka di Shell IPython dengan mengakses atribut `.shape` untuk mengonfirmasi baris duplikat yang ada di `airquality_dup`.\n",
    "\n",
    "Anda akan melihat bahwa dengan menggunakan `.pivot_table()` dan parameter `aggfunc`, Anda tidak hanya dapat membentuk kembali data Anda, tetapi juga menghapus duplikat. Akhirnya, Anda kemudian bisa meratakan kolom DataFrame yang di pivot menggunakan `.reset_index()`."
   ]
  },
  {
   "cell_type": "code",
   "execution_count": null,
   "metadata": {},
   "outputs": [],
   "source": [
    "# Pivot table the airquality_dup: airquality_pivot\n",
    "airquality_pivot = airquality_dup.pivot_table(index=['Month', 'Day'], columns='measurement', values='reading', aggfunc=np.mean)\n",
    "\n",
    "# Print the head of airquality_pivot before reset_index\n",
    "print(airquality_pivot.head())\n",
    "\n",
    "# Reset the index of airquality_pivot\n",
    "airquality_pivot = airquality_pivot.reset_index()\n",
    "\n",
    "# Print the head of airquality_pivot\n",
    "print(airquality_pivot.head())\n",
    "\n",
    "# Print the head of airquality\n",
    "print(airquality.head())"
   ]
  },
  {
   "cell_type": "markdown",
   "metadata": {},
   "source": [
    "**Note** : Fungsi agregasi default yang digunakan oleh `.pivot_table()` adalah `np.mean()`. Jadi Anda bisa memutar nilai duplikat dalam DataFrame ini bahkan tanpa secara eksplisit menentukan parameter `aggfunc`."
   ]
  },
  {
   "cell_type": "markdown",
   "metadata": {},
   "source": [
    "## Beyond melt() and pivot()\n",
    "\n",
    "### Splitting a column with .str\n",
    "\n",
    "Dataset yang Anda lihat dalam video, yang terdiri dari jumlah kasus TB berdasarkan country, year, gender, dan age_group, telah dimuat sebelumnya ke dalam DataFrame sebagai `tb`.\n",
    "\n",
    "Dalam latihan ini, Anda akan merapikan kolom `'m014'`, yang mewakili laki-laki berusia 0-14 tahun. Untuk menguraikan nilai ini, Anda perlu mengekstraksi huruf pertama ke kolom baru untuk `gender`, dan sisanya ke kolom untuk `age_group`. Di sini, karena Anda dapat mem-parsing nilai berdasarkan posisi, Anda dapat mengambil keuntungan dari penguraian string pandas dengan menggunakan atribut `str` dari kolom tipe `object`.\n",
    "\n",
    "Mulailah dengan mencetak kolom `tb` di IPython Shell menggunakan atribut `.columns`, dan perhatikan kolom yang bermasalah."
   ]
  },
  {
   "cell_type": "code",
   "execution_count": 8,
   "metadata": {},
   "outputs": [],
   "source": [
    "url = 'https://assets.datacamp.com/production/repositories/666/datasets/cf05b5e01009dd5d61d7db5ac5fb790042e7fd09/tb.csv'\n",
    "tb = pd.read_csv(url)"
   ]
  },
  {
   "cell_type": "code",
   "execution_count": 10,
   "metadata": {},
   "outputs": [
    {
     "name": "stdout",
     "output_type": "stream",
     "text": [
      "Index(['country', 'year', 'm014', 'm1524', 'm2534', 'm3544', 'm4554', 'm5564',\n",
      "       'm65', 'mu', 'f014', 'f1524', 'f2534', 'f3544', 'f4554', 'f5564', 'f65',\n",
      "       'fu'],\n",
      "      dtype='object')\n",
      "(201, 18)\n"
     ]
    }
   ],
   "source": [
    "print(tb.columns)\n",
    "print(tb.shape)"
   ]
  },
  {
   "cell_type": "code",
   "execution_count": 12,
   "metadata": {},
   "outputs": [
    {
     "name": "stdout",
     "output_type": "stream",
     "text": [
      "  country  year variable  value gender age_group\n",
      "0      AD  2000     m014    0.0      m       014\n",
      "1      AE  2000     m014    2.0      m       014\n",
      "2      AF  2000     m014   52.0      m       014\n",
      "3      AG  2000     m014    0.0      m       014\n",
      "4      AL  2000     m014    2.0      m       014\n",
      "(3216, 6)\n"
     ]
    }
   ],
   "source": [
    "# Melt tb: tb_melt\n",
    "tb_melt = pd.melt(tb, id_vars=['country', 'year'])\n",
    "\n",
    "# Create the 'gender' column\n",
    "tb_melt['gender'] = tb_melt.variable.str[0]\n",
    "\n",
    "# Create the 'age_group' column\n",
    "tb_melt['age_group'] = tb_melt.variable.str[1:]\n",
    "\n",
    "# Print the head of tb_melt\n",
    "print(tb_melt.head())\n",
    "print(tb_melt.shape)"
   ]
  },
  {
   "cell_type": "markdown",
   "metadata": {},
   "source": [
    "**Note** : Perhatikan kolom `'gender'` dan `'age_group'` baru yang Anda buat. Sangat penting untuk dapat memecah kolom sesuai kebutuhan sehingga Anda dapat mengakses data yang relevan dengan pertanyaan Anda."
   ]
  },
  {
   "cell_type": "markdown",
   "metadata": {},
   "source": [
    "### Splitting a column with .split() and .get()\n",
    "\n",
    "Cara umum lain **beberapa variabel disimpan dalam kolom** adalah dengan pembatas (*delimiter*). Anda akan belajar cara menangani kasus-kasus seperti ini dalam latihan ini, menggunakan [dataset yang terdiri dari kasus Ebola dan jumlah kematian menurut negara bagian dan negara](https://data.humdata.org/dataset/ebola-cases-2014). Ini telah dimuat sebelumnya ke dalam DataFrame sebagai `ebola`.\n",
    "\n",
    "Cetak kolom `ebola` di Shell IPython menggunakan `ebola.columns`. Perhatikan bahwa data memiliki nama kolom seperti `Cases_Guinea` dan `Deaths_Guinea`. Di sini, garis bawah `_` berfungsi sebagai pembatas antara bagian pertama (kasus atau kematian), dan bagian kedua (negara).\n",
    "\n",
    "Kali ini, Anda tidak dapat langsung mengiris variabel dengan posisi seperti pada latihan sebelumnya. Anda sekarang perlu menggunakan metode string bawaan Python yang disebut `.split()`. Secara default, metode ini akan membagi string menjadi beberapa bagian yang dipisahkan oleh spasi. Namun, dalam hal ini Anda ingin membaginya dengan garis bawah. Anda dapat melakukan ini di '`Cases_Guinea'`, misalnya, menggunakan `'Cases_Guinea'.split ('_')`, yang mengembalikan list `['Cases','Guinea']`.\n",
    "\n",
    "Tantangan berikutnya adalah mengekstrak elemen pertama dari list ini dan menetapkannya ke variabel `type`, dan elemen kedua list ke variabel `country`. Anda dapat melakukannya dengan mengakses atribut `str` kolom dan menggunakan metode `.get()` untuk mengambil indeks `0` atau `1`, tergantung pada bagian yang Anda inginkan."
   ]
  },
  {
   "cell_type": "code",
   "execution_count": 14,
   "metadata": {},
   "outputs": [
    {
     "data": {
      "text/html": [
       "<div>\n",
       "<style scoped>\n",
       "    .dataframe tbody tr th:only-of-type {\n",
       "        vertical-align: middle;\n",
       "    }\n",
       "\n",
       "    .dataframe tbody tr th {\n",
       "        vertical-align: top;\n",
       "    }\n",
       "\n",
       "    .dataframe thead th {\n",
       "        text-align: right;\n",
       "    }\n",
       "</style>\n",
       "<table border=\"1\" class=\"dataframe\">\n",
       "  <thead>\n",
       "    <tr style=\"text-align: right;\">\n",
       "      <th></th>\n",
       "      <th>Date</th>\n",
       "      <th>Day</th>\n",
       "      <th>Cases_Guinea</th>\n",
       "      <th>Cases_Liberia</th>\n",
       "      <th>Cases_SierraLeone</th>\n",
       "      <th>Cases_Nigeria</th>\n",
       "      <th>Cases_Senegal</th>\n",
       "      <th>Cases_UnitedStates</th>\n",
       "      <th>Cases_Spain</th>\n",
       "      <th>Cases_Mali</th>\n",
       "      <th>Deaths_Guinea</th>\n",
       "      <th>Deaths_Liberia</th>\n",
       "      <th>Deaths_SierraLeone</th>\n",
       "      <th>Deaths_Nigeria</th>\n",
       "      <th>Deaths_Senegal</th>\n",
       "      <th>Deaths_UnitedStates</th>\n",
       "      <th>Deaths_Spain</th>\n",
       "      <th>Deaths_Mali</th>\n",
       "    </tr>\n",
       "  </thead>\n",
       "  <tbody>\n",
       "    <tr>\n",
       "      <th>0</th>\n",
       "      <td>1/5/2015</td>\n",
       "      <td>289</td>\n",
       "      <td>2776.0</td>\n",
       "      <td>NaN</td>\n",
       "      <td>10030.0</td>\n",
       "      <td>NaN</td>\n",
       "      <td>NaN</td>\n",
       "      <td>NaN</td>\n",
       "      <td>NaN</td>\n",
       "      <td>NaN</td>\n",
       "      <td>1786.0</td>\n",
       "      <td>NaN</td>\n",
       "      <td>2977.0</td>\n",
       "      <td>NaN</td>\n",
       "      <td>NaN</td>\n",
       "      <td>NaN</td>\n",
       "      <td>NaN</td>\n",
       "      <td>NaN</td>\n",
       "    </tr>\n",
       "    <tr>\n",
       "      <th>1</th>\n",
       "      <td>1/4/2015</td>\n",
       "      <td>288</td>\n",
       "      <td>2775.0</td>\n",
       "      <td>NaN</td>\n",
       "      <td>9780.0</td>\n",
       "      <td>NaN</td>\n",
       "      <td>NaN</td>\n",
       "      <td>NaN</td>\n",
       "      <td>NaN</td>\n",
       "      <td>NaN</td>\n",
       "      <td>1781.0</td>\n",
       "      <td>NaN</td>\n",
       "      <td>2943.0</td>\n",
       "      <td>NaN</td>\n",
       "      <td>NaN</td>\n",
       "      <td>NaN</td>\n",
       "      <td>NaN</td>\n",
       "      <td>NaN</td>\n",
       "    </tr>\n",
       "    <tr>\n",
       "      <th>2</th>\n",
       "      <td>1/3/2015</td>\n",
       "      <td>287</td>\n",
       "      <td>2769.0</td>\n",
       "      <td>8166.0</td>\n",
       "      <td>9722.0</td>\n",
       "      <td>NaN</td>\n",
       "      <td>NaN</td>\n",
       "      <td>NaN</td>\n",
       "      <td>NaN</td>\n",
       "      <td>NaN</td>\n",
       "      <td>1767.0</td>\n",
       "      <td>3496.0</td>\n",
       "      <td>2915.0</td>\n",
       "      <td>NaN</td>\n",
       "      <td>NaN</td>\n",
       "      <td>NaN</td>\n",
       "      <td>NaN</td>\n",
       "      <td>NaN</td>\n",
       "    </tr>\n",
       "    <tr>\n",
       "      <th>3</th>\n",
       "      <td>1/2/2015</td>\n",
       "      <td>286</td>\n",
       "      <td>NaN</td>\n",
       "      <td>8157.0</td>\n",
       "      <td>NaN</td>\n",
       "      <td>NaN</td>\n",
       "      <td>NaN</td>\n",
       "      <td>NaN</td>\n",
       "      <td>NaN</td>\n",
       "      <td>NaN</td>\n",
       "      <td>NaN</td>\n",
       "      <td>3496.0</td>\n",
       "      <td>NaN</td>\n",
       "      <td>NaN</td>\n",
       "      <td>NaN</td>\n",
       "      <td>NaN</td>\n",
       "      <td>NaN</td>\n",
       "      <td>NaN</td>\n",
       "    </tr>\n",
       "    <tr>\n",
       "      <th>4</th>\n",
       "      <td>12/31/2014</td>\n",
       "      <td>284</td>\n",
       "      <td>2730.0</td>\n",
       "      <td>8115.0</td>\n",
       "      <td>9633.0</td>\n",
       "      <td>NaN</td>\n",
       "      <td>NaN</td>\n",
       "      <td>NaN</td>\n",
       "      <td>NaN</td>\n",
       "      <td>NaN</td>\n",
       "      <td>1739.0</td>\n",
       "      <td>3471.0</td>\n",
       "      <td>2827.0</td>\n",
       "      <td>NaN</td>\n",
       "      <td>NaN</td>\n",
       "      <td>NaN</td>\n",
       "      <td>NaN</td>\n",
       "      <td>NaN</td>\n",
       "    </tr>\n",
       "  </tbody>\n",
       "</table>\n",
       "</div>"
      ],
      "text/plain": [
       "         Date  Day  Cases_Guinea  Cases_Liberia  Cases_SierraLeone  \\\n",
       "0    1/5/2015  289        2776.0            NaN            10030.0   \n",
       "1    1/4/2015  288        2775.0            NaN             9780.0   \n",
       "2    1/3/2015  287        2769.0         8166.0             9722.0   \n",
       "3    1/2/2015  286           NaN         8157.0                NaN   \n",
       "4  12/31/2014  284        2730.0         8115.0             9633.0   \n",
       "\n",
       "   Cases_Nigeria  Cases_Senegal  Cases_UnitedStates  Cases_Spain  Cases_Mali  \\\n",
       "0            NaN            NaN                 NaN          NaN         NaN   \n",
       "1            NaN            NaN                 NaN          NaN         NaN   \n",
       "2            NaN            NaN                 NaN          NaN         NaN   \n",
       "3            NaN            NaN                 NaN          NaN         NaN   \n",
       "4            NaN            NaN                 NaN          NaN         NaN   \n",
       "\n",
       "   Deaths_Guinea  Deaths_Liberia  Deaths_SierraLeone  Deaths_Nigeria  \\\n",
       "0         1786.0             NaN              2977.0             NaN   \n",
       "1         1781.0             NaN              2943.0             NaN   \n",
       "2         1767.0          3496.0              2915.0             NaN   \n",
       "3            NaN          3496.0                 NaN             NaN   \n",
       "4         1739.0          3471.0              2827.0             NaN   \n",
       "\n",
       "   Deaths_Senegal  Deaths_UnitedStates  Deaths_Spain  Deaths_Mali  \n",
       "0             NaN                  NaN           NaN          NaN  \n",
       "1             NaN                  NaN           NaN          NaN  \n",
       "2             NaN                  NaN           NaN          NaN  \n",
       "3             NaN                  NaN           NaN          NaN  \n",
       "4             NaN                  NaN           NaN          NaN  "
      ]
     },
     "execution_count": 14,
     "metadata": {},
     "output_type": "execute_result"
    }
   ],
   "source": [
    "url_ebola = 'https://assets.datacamp.com/production/repositories/666/datasets/6da83b3d2017245217d35989960184234a6c4e7f/ebola.csv'\n",
    "ebola = pd.read_csv(url_ebola)\n",
    "ebola.head()"
   ]
  },
  {
   "cell_type": "code",
   "execution_count": 17,
   "metadata": {},
   "outputs": [
    {
     "data": {
      "text/plain": [
       "Index(['Date', 'Day', 'Cases_Guinea', 'Cases_Liberia', 'Cases_SierraLeone',\n",
       "       'Cases_Nigeria', 'Cases_Senegal', 'Cases_UnitedStates', 'Cases_Spain',\n",
       "       'Cases_Mali', 'Deaths_Guinea', 'Deaths_Liberia', 'Deaths_SierraLeone',\n",
       "       'Deaths_Nigeria', 'Deaths_Senegal', 'Deaths_UnitedStates',\n",
       "       'Deaths_Spain', 'Deaths_Mali'],\n",
       "      dtype='object')"
      ]
     },
     "execution_count": 17,
     "metadata": {},
     "output_type": "execute_result"
    }
   ],
   "source": [
    "ebola.columns"
   ]
  },
  {
   "cell_type": "code",
   "execution_count": 15,
   "metadata": {},
   "outputs": [
    {
     "name": "stdout",
     "output_type": "stream",
     "text": [
      "         Date  Day  type_country  counts        str_split   type country\n",
      "0    1/5/2015  289  Cases_Guinea  2776.0  [Cases, Guinea]  Cases  Guinea\n",
      "1    1/4/2015  288  Cases_Guinea  2775.0  [Cases, Guinea]  Cases  Guinea\n",
      "2    1/3/2015  287  Cases_Guinea  2769.0  [Cases, Guinea]  Cases  Guinea\n",
      "3    1/2/2015  286  Cases_Guinea     NaN  [Cases, Guinea]  Cases  Guinea\n",
      "4  12/31/2014  284  Cases_Guinea  2730.0  [Cases, Guinea]  Cases  Guinea\n"
     ]
    }
   ],
   "source": [
    "# Melt ebola: ebola_melt\n",
    "ebola_melt = pd.melt(ebola, id_vars=['Date', 'Day'], var_name='type_country', value_name='counts')\n",
    "\n",
    "# Create the 'str_split' column\n",
    "ebola_melt['str_split'] = ebola_melt['type_country'].str.split('_')\n",
    "\n",
    "# Create the 'type' column\n",
    "ebola_melt['type'] = ebola_melt.str_split.str.get(0)\n",
    "\n",
    "# Create the 'country' column\n",
    "ebola_melt['country'] = ebola_melt.str_split.str.get(1)\n",
    "\n",
    "# Print the head of ebola_melt\n",
    "print(ebola_melt.head())"
   ]
  },
  {
   "cell_type": "code",
   "execution_count": null,
   "metadata": {},
   "outputs": [],
   "source": []
  }
 ],
 "metadata": {
  "kernelspec": {
   "display_name": "Python 3",
   "language": "python",
   "name": "python3"
  },
  "language_info": {
   "codemirror_mode": {
    "name": "ipython",
    "version": 3
   },
   "file_extension": ".py",
   "mimetype": "text/x-python",
   "name": "python",
   "nbconvert_exporter": "python",
   "pygments_lexer": "ipython3",
   "version": "3.7.3"
  }
 },
 "nbformat": 4,
 "nbformat_minor": 2
}
