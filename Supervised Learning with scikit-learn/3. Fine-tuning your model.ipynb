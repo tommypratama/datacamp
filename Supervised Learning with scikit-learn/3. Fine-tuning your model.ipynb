{
 "cells": [
  {
   "cell_type": "markdown",
   "metadata": {},
   "source": [
    "# 3. Fine-tuning your model\n",
    "\n",
    "Setelah melatih model Anda, tugas Anda berikutnya adalah mengevaluasi kinerjanya. Dalam bab ini, Anda akan belajar tentang beberapa metrik lain yang tersedia di scikit-learn yang akan memungkinkan Anda menilai kinerja model Anda dengan cara yang lebih bernuansa. Selanjutnya, pelajari cara mengoptimalkan model klasifikasi dan regresi Anda menggunakan **hyperparameter tunning**.\n",
    "\n",
    "Referensi yang membantu:\n",
    "\n",
    "* https://medium.com/@rey1024/mengenal-accuracy-precission-recall-dan-specificity-serta-yang-diprioritaskan-b79ff4d77de8\n",
    "* https://developers.google.com/machine-learning/crash-course/classification/precision-and-recall?hl=id"
   ]
  },
  {
   "cell_type": "markdown",
   "metadata": {},
   "source": [
    "## How good is your model?"
   ]
  },
  {
   "cell_type": "markdown",
   "metadata": {},
   "source": [
    "### Classication metrics\n",
    "\n",
    "* Mengukur kinerja model dengan akurasi:\n",
    "    * Pecahan/Fraction dari sampel yang diklasifikasikan dengan benar\n",
    "    * Tidak selalu metrik yang bermanfaat"
   ]
  },
  {
   "cell_type": "markdown",
   "metadata": {},
   "source": [
    "### Class imbalance example: Emails\n",
    "\n",
    "* Klasifikasi spam\n",
    "  * 99% dari email adalah real; 1% dari email adalah spam\n",
    "* Bisa membuat pengelompokan yang memprediksi SEMUA email adalah real\n",
    "  * 99% akurat!\n",
    "  * Tapi mengerikan sebenarnya mengklasifikasikan spam\n",
    "  * Gagal pada tujuan aslinya\n",
    "* Perlu metrik yang lebih bernuansa"
   ]
  },
  {
   "cell_type": "markdown",
   "metadata": {},
   "source": [
    "### Diagnosing classication predictions\n",
    "\n",
    "<img src=\"datasets/diagnosing-classification.png\" width=400px height=400px align=left />"
   ]
  },
  {
   "cell_type": "markdown",
   "metadata": {},
   "source": [
    "### Metrics from the confusion matrix\n",
    "\n",
    "* High precision: Tidak banyak email asli yang diprediksi sebagai spam\n",
    "* High recall: Diprediksi sebagian besar email spam dengan benar\n",
    "\n",
    "<img src=\"datasets/metrics-from-confusion-matrix.png\" width=200px height=200px align=left />"
   ]
  },
  {
   "cell_type": "markdown",
   "metadata": {},
   "source": [
    "### Confusion matrix in scikit-learn\n",
    "\n",
    "```python\n",
    "from sklearn.metrics import classification_report\n",
    "from sklearn.metrics import confusion_matrix\n",
    "\n",
    "knn = KNeighborsClassifier(n_neighbors=8)\n",
    "X_train, X_test, y_train, y_test = train_test_split(X, y,\n",
    "test_size=0.4, random_state=42)\n",
    "knn.fit(X_train, y_train)\n",
    "y_pred = knn.predict(X_test)\n",
    "\n",
    "print(confusion_matrix(y_test, y_pred))\n",
    "print(classification_report(y_test, y_pred))\n",
    "```"
   ]
  },
  {
   "cell_type": "markdown",
   "metadata": {},
   "source": [
    "### Metrics for classification\n",
    "\n",
    "Pada Bab 1, Anda mengevaluasi kinerja classifier k-NN Anda berdasarkan akurasinya. Namun, seperti yang didiskusikan Andy, akurasi tidak selalu merupakan metrik informatif. Dalam latihan ini, Anda akan terjun lebih dalam untuk mengevaluasi kinerja pengklasifikasi biner dengan menghitung *confusion matrix* dan menghasilkan laporan klasifikasi.\n",
    "\n",
    "Anda mungkin telah memperhatikan dalam video bahwa laporan klasifikasi terdiri dari tiga baris, dan kolom `support` tambahan. `support` memberikan jumlah sampel dari respon sebenarnya yang terletak di kelas itu - jadi dalam contoh video, `support` adalah jumlah Partai Republik atau Demokrat dalam set `test` di mana laporan klasifikasi dihitung. Kolom `precision`, `recall`, dan `f1-score`, kemudian, memberikan metrik masing-masing untuk kelas tersebut.\n",
    "\n",
    "Di sini, Anda akan bekerja dengan dataset [PIMA Indian](https://www.kaggle.com/uciml/pima-indians-diabetes-database) yang diperoleh dari *UCI Machine Learning Repository*. Tujuannya adalah untuk memprediksi apakah pasien wanita tertentu akan terkena diabetes berdasarkan fitur seperti BMI, usia, dan jumlah kehamilan. Oleh karena itu, ini adalah masalah klasifikasi biner. Nilai target `0` menunjukkan bahwa pasien tidak menderita diabetes, sedangkan nilai `1` menunjukkan bahwa pasien tersebut memiliki diabetes. *Seperti dalam Bab 1 dan 2, dataset telah diproses sebelumnya untuk menangani nilai yang hilang.*\n",
    "\n",
    "Tugas Anda adalah melatih pengklasifikasi k-NN ke data dan mengevaluasi kinerjanya dengan membuat **confusion matrix dan classification report**."
   ]
  },
  {
   "cell_type": "code",
   "execution_count": 2,
   "metadata": {},
   "outputs": [
    {
     "data": {
      "text/html": [
       "<div>\n",
       "<style scoped>\n",
       "    .dataframe tbody tr th:only-of-type {\n",
       "        vertical-align: middle;\n",
       "    }\n",
       "\n",
       "    .dataframe tbody tr th {\n",
       "        vertical-align: top;\n",
       "    }\n",
       "\n",
       "    .dataframe thead th {\n",
       "        text-align: right;\n",
       "    }\n",
       "</style>\n",
       "<table border=\"1\" class=\"dataframe\">\n",
       "  <thead>\n",
       "    <tr style=\"text-align: right;\">\n",
       "      <th></th>\n",
       "      <th>pregnancies</th>\n",
       "      <th>glucose</th>\n",
       "      <th>diastolic</th>\n",
       "      <th>triceps</th>\n",
       "      <th>insulin</th>\n",
       "      <th>bmi</th>\n",
       "      <th>dpf</th>\n",
       "      <th>age</th>\n",
       "      <th>diabetes</th>\n",
       "    </tr>\n",
       "  </thead>\n",
       "  <tbody>\n",
       "    <tr>\n",
       "      <th>0</th>\n",
       "      <td>6</td>\n",
       "      <td>148</td>\n",
       "      <td>72</td>\n",
       "      <td>35</td>\n",
       "      <td>0</td>\n",
       "      <td>33.6</td>\n",
       "      <td>0.627</td>\n",
       "      <td>50</td>\n",
       "      <td>1</td>\n",
       "    </tr>\n",
       "    <tr>\n",
       "      <th>1</th>\n",
       "      <td>1</td>\n",
       "      <td>85</td>\n",
       "      <td>66</td>\n",
       "      <td>29</td>\n",
       "      <td>0</td>\n",
       "      <td>26.6</td>\n",
       "      <td>0.351</td>\n",
       "      <td>31</td>\n",
       "      <td>0</td>\n",
       "    </tr>\n",
       "    <tr>\n",
       "      <th>2</th>\n",
       "      <td>8</td>\n",
       "      <td>183</td>\n",
       "      <td>64</td>\n",
       "      <td>0</td>\n",
       "      <td>0</td>\n",
       "      <td>23.3</td>\n",
       "      <td>0.672</td>\n",
       "      <td>32</td>\n",
       "      <td>1</td>\n",
       "    </tr>\n",
       "    <tr>\n",
       "      <th>3</th>\n",
       "      <td>1</td>\n",
       "      <td>89</td>\n",
       "      <td>66</td>\n",
       "      <td>23</td>\n",
       "      <td>94</td>\n",
       "      <td>28.1</td>\n",
       "      <td>0.167</td>\n",
       "      <td>21</td>\n",
       "      <td>0</td>\n",
       "    </tr>\n",
       "    <tr>\n",
       "      <th>4</th>\n",
       "      <td>0</td>\n",
       "      <td>137</td>\n",
       "      <td>40</td>\n",
       "      <td>35</td>\n",
       "      <td>168</td>\n",
       "      <td>43.1</td>\n",
       "      <td>2.288</td>\n",
       "      <td>33</td>\n",
       "      <td>1</td>\n",
       "    </tr>\n",
       "  </tbody>\n",
       "</table>\n",
       "</div>"
      ],
      "text/plain": [
       "   pregnancies  glucose  diastolic  triceps  insulin   bmi    dpf  age  \\\n",
       "0            6      148         72       35        0  33.6  0.627   50   \n",
       "1            1       85         66       29        0  26.6  0.351   31   \n",
       "2            8      183         64        0        0  23.3  0.672   32   \n",
       "3            1       89         66       23       94  28.1  0.167   21   \n",
       "4            0      137         40       35      168  43.1  2.288   33   \n",
       "\n",
       "   diabetes  \n",
       "0         1  \n",
       "1         0  \n",
       "2         1  \n",
       "3         0  \n",
       "4         1  "
      ]
     },
     "execution_count": 2,
     "metadata": {},
     "output_type": "execute_result"
    }
   ],
   "source": [
    "import pandas as pd\n",
    "\n",
    "df = pd.read_csv(\"datasets/diabetes.csv\")\n",
    "df.head()"
   ]
  },
  {
   "cell_type": "code",
   "execution_count": 5,
   "metadata": {},
   "outputs": [
    {
     "data": {
      "text/plain": [
       "Index(['pregnancies', 'glucose', 'diastolic', 'triceps', 'insulin', 'bmi',\n",
       "       'dpf', 'age', 'diabetes'],\n",
       "      dtype='object')"
      ]
     },
     "execution_count": 5,
     "metadata": {},
     "output_type": "execute_result"
    }
   ],
   "source": [
    "df.columns"
   ]
  },
  {
   "cell_type": "code",
   "execution_count": 6,
   "metadata": {},
   "outputs": [],
   "source": [
    "X = df[['pregnancies', 'glucose', 'diastolic', 'triceps', 'insulin', 'bmi', 'dpf', 'age']]\n",
    "y = df['diabetes']"
   ]
  },
  {
   "cell_type": "code",
   "execution_count": 7,
   "metadata": {},
   "outputs": [
    {
     "name": "stdout",
     "output_type": "stream",
     "text": [
      "[[176  30]\n",
      " [ 56  46]]\n",
      "              precision    recall  f1-score   support\n",
      "\n",
      "           0       0.76      0.85      0.80       206\n",
      "           1       0.61      0.45      0.52       102\n",
      "\n",
      "    accuracy                           0.72       308\n",
      "   macro avg       0.68      0.65      0.66       308\n",
      "weighted avg       0.71      0.72      0.71       308\n",
      "\n"
     ]
    }
   ],
   "source": [
    "# Import necessary modules\n",
    "from sklearn.model_selection import train_test_split\n",
    "from sklearn.neighbors import KNeighborsClassifier\n",
    "from sklearn.metrics import classification_report\n",
    "from sklearn.metrics import confusion_matrix\n",
    "\n",
    "# Create training and test set\n",
    "X_train, X_test, y_train, y_test = train_test_split(X, y, test_size=0.4, random_state=42)\n",
    "\n",
    "# Instantiate a k-NN classifier: knn\n",
    "knn = KNeighborsClassifier(n_neighbors=6)\n",
    "\n",
    "# Fit the classifier to the training data\n",
    "knn.fit(X_train, y_train)\n",
    "\n",
    "# Predict the labels of the test data: y_pred\n",
    "y_pred = knn.predict(X_test)\n",
    "\n",
    "# Generate the confusion matrix and classification report\n",
    "print(confusion_matrix(y_test, y_pred))\n",
    "print(classification_report(y_test, y_pred))"
   ]
  },
  {
   "cell_type": "markdown",
   "metadata": {},
   "source": [
    "**Catatan** : Dengan menganalisis confusion matrix dan classification report, Anda bisa mendapatkan pemahaman yang jauh lebih baik tentang kinerja pengklasifikasi Anda."
   ]
  },
  {
   "cell_type": "markdown",
   "metadata": {},
   "source": [
    "## Logistic regression and the ROC curve"
   ]
  },
  {
   "cell_type": "markdown",
   "metadata": {},
   "source": [
    "### Logistic regression for binary classication\n",
    "\n",
    "* Logistic regression menghasilkan probabilities\n",
    "* ika probabilitas 'p' lebih besar dari 0,5:\n",
    "  * Data diberi label '1'\n",
    "* Jika probabilitas 'p' kurang dari 0,5:\n",
    "  * Data diberi label '0'"
   ]
  },
  {
   "cell_type": "markdown",
   "metadata": {},
   "source": [
    "### Linear decision boundary\n",
    "\n",
    "<img src=\"datasets/linear-decision.png\" width=400px height=400px align=left />"
   ]
  },
  {
   "cell_type": "markdown",
   "metadata": {},
   "source": [
    "### Logistic regression in scikit-learn\n",
    "\n",
    "```python\n",
    "from sklearn.linear_model import LogisticRegression\n",
    "from sklearn.model_selection import train_test_split\n",
    "\n",
    "logreg = LogisticRegression()\n",
    "X_train, X_test, y_train, y_test = train_test_split(X, y, test_size=0.4, random_state=42)\n",
    "logreg.fit(X_train, y_train)\n",
    "y_pred = logreg.predict(X_test)\n",
    "```"
   ]
  },
  {
   "cell_type": "markdown",
   "metadata": {},
   "source": [
    "### Probability thresholds\n",
    "\n",
    "* Secara default, thresholds/ambang logistic regression = 0,5\n",
    "* Tidak spesifik untuk logistic regression\n",
    "* k-NN classiers juga memiliki thresholds\n",
    "* Apa yang terjadi jika kita memvariasikan threshold?"
   ]
  },
  {
   "cell_type": "markdown",
   "metadata": {},
   "source": [
    "### The ROC curve\n",
    "\n",
    "<img src=\"datasets/roc-curve.png\" width=400px height=400px align=left />"
   ]
  },
  {
   "cell_type": "markdown",
   "metadata": {},
   "source": [
    "### Plotting the ROC curve\n",
    "\n",
    "```python\n",
    "from sklearn.metrics import roc_curve\n",
    "\n",
    "y_pred_prob = logreg.predict_proba(X_test)[:,1]\n",
    "fpr, tpr, thresholds = roc_curve(y_test, y_pred_prob)\n",
    "plt.plot([0, 1], [0, 1], 'k--')\n",
    "plt.plot(fpr, tpr, label='Logistic Regression')\n",
    "plt.xlabel('False Positive Rate')\n",
    "plt.ylabel('True Positive Rate')\n",
    "plt.title('Logistic Regression ROC Curve')\n",
    "plt.show()\n",
    "```\n",
    "\n",
    "```python\n",
    "logreg.predict_proba(X_test)[:,1]\n",
    "```"
   ]
  },
  {
   "cell_type": "markdown",
   "metadata": {},
   "source": [
    "### Building a logistic regression model\n",
    "\n",
    "Saatnya membangun model logistic regression pertama Anda! Seperti yang ditunjukkan Hugo dalam video, scikit-learn membuatnya sangat mudah untuk mencoba model yang berbeda, karena paradigma **Train-Test-Split/Instantiate/Fit/Predict** berlaku untuk semua pengklasifikasi dan regressor - yang dikenal dalam scikit-learn sebagai `'estimator'` Anda akan melihatnya sendiri saat melatih model logistic regression pada data yang persis sama seperti pada latihan sebelumnya. Apakah akan mengungguli k-NN? Hanya ada satu cara untuk mengetahuinya!"
   ]
  },
  {
   "cell_type": "code",
   "execution_count": 14,
   "metadata": {},
   "outputs": [
    {
     "name": "stdout",
     "output_type": "stream",
     "text": [
      "[[174  32]\n",
      " [ 36  66]]\n",
      "              precision    recall  f1-score   support\n",
      "\n",
      "           0       0.83      0.84      0.84       206\n",
      "           1       0.67      0.65      0.66       102\n",
      "\n",
      "    accuracy                           0.78       308\n",
      "   macro avg       0.75      0.75      0.75       308\n",
      "weighted avg       0.78      0.78      0.78       308\n",
      "\n"
     ]
    }
   ],
   "source": [
    "# Import the necessary modules\n",
    "from sklearn.linear_model import LogisticRegression\n",
    "from sklearn.metrics import confusion_matrix, classification_report \n",
    "import warnings\n",
    "warnings.filterwarnings(\"ignore\", category=FutureWarning)\n",
    "\n",
    "# Create training and test sets\n",
    "X_train, X_test, y_train, y_test = train_test_split(X, y, test_size = 0.4, random_state=42)\n",
    "\n",
    "# Create the classifier: logreg\n",
    "logreg = LogisticRegression()\n",
    "\n",
    "# Fit the classifier to the training data\n",
    "logreg.fit(X_train, y_train)\n",
    "\n",
    "# Predict the labels of the test set: y_pred\n",
    "y_pred = logreg.predict(X_test)\n",
    "\n",
    "# Compute and print the confusion matrix and classification report\n",
    "print(confusion_matrix(y_test, y_pred))\n",
    "print(classification_report(y_test, y_pred))"
   ]
  },
  {
   "cell_type": "markdown",
   "metadata": {},
   "source": [
    "**Catatan** : Anda sekarang tahu cara menggunakan logistic regression untuk klasifikasi biner - kerja bagus! Logistic regression digunakan dalam berbagai aplikasi pembelajaran mesin dan akan menjadi bagian penting dari data science toolbox Anda."
   ]
  },
  {
   "cell_type": "markdown",
   "metadata": {},
   "source": [
    "### Plotting an ROC curve\n",
    "\n",
    "Pekerjaan luar biasa dalam latihan sebelumnya - Anda sekarang memiliki tambahan baru pada kotak alat klasifikasi Anda!\n",
    "\n",
    "Classification reports dan confusion matrix adalah metode yang bagus untuk mengevaluasi kinerja model secara kuantitatif, sementara ROC Curve menyediakan cara untuk mengevaluasi model secara visual. Kebanyakan classifiers di scikit-learn memiliki metode `.predict_proba()` yang mengembalikan probabilitas sampel yang diberikan berada di kelas tertentu. Setelah membangun model logistic regression, sekarang Anda akan mengevaluasi kinerjanya dengan memplot ROC Curve. Dengan melakukannya, Anda akan menggunakan metode `.predict_proba()` dan menjadi terbiasa dengan fungsinya."
   ]
  },
  {
   "cell_type": "code",
   "execution_count": 17,
   "metadata": {},
   "outputs": [
    {
     "data": {
      "image/png": "[encoded data removed]",
      "text/plain": [
       "<Figure size 432x288 with 1 Axes>"
      ]
     },
     "metadata": {},
     "output_type": "display_data"
    }
   ],
   "source": [
    "# Import necessary modules\n",
    "from sklearn.metrics import roc_curve\n",
    "import matplotlib.pyplot as plt\n",
    "plt.style.use('ggplot')\n",
    "\n",
    "# Compute predicted probabilities: y_pred_prob\n",
    "y_pred_prob = logreg.predict_proba(X_test)[:,1]\n",
    "\n",
    "# Generate ROC curve values: fpr, tpr, thresholds\n",
    "fpr, tpr, thresholds = roc_curve(y_test, y_pred_prob)\n",
    "\n",
    "# Plot ROC curve\n",
    "plt.plot([0, 1], [0, 1], 'k--')\n",
    "plt.plot(fpr, tpr)\n",
    "plt.xlabel('False Positive Rate')\n",
    "plt.ylabel('True Positive Rate')\n",
    "plt.title('ROC Curve')\n",
    "plt.show()"
   ]
  },
  {
   "cell_type": "markdown",
   "metadata": {},
   "source": [
    "**Catatan** : ROC Curve ini menyediakan cara visual yang bagus untuk menilai kinerja classifier Anda."
   ]
  },
  {
   "cell_type": "code",
   "execution_count": null,
   "metadata": {},
   "outputs": [],
   "source": []
  },
  {
   "cell_type": "code",
   "execution_count": null,
   "metadata": {},
   "outputs": [],
   "source": []
  }
 ],
 "metadata": {
  "kernelspec": {
   "display_name": "Python 3",
   "language": "python",
   "name": "python3"
  },
  "language_info": {
   "codemirror_mode": {
    "name": "ipython",
    "version": 3
   },
   "file_extension": ".py",
   "mimetype": "text/x-python",
   "name": "python",
   "nbconvert_exporter": "python",
   "pygments_lexer": "ipython3",
   "version": "3.7.3"
  }
 },
 "nbformat": 4,
 "nbformat_minor": 2
}
