{
 "cells": [
  {
   "cell_type": "markdown",
   "metadata": {},
   "source": [
    "## 1. Laporan singkat\n",
    "\n",
    "Bayangkan bekerja untuk agensi pemasaran digital, dan agensi tersebut didekati oleh pengecer furnitur online besar-besaran. Mereka ingin menguji kemampuan kami dalam membuat kampanye besar untuk semua situs web mereka. Kami ditugaskan membuat prototipe kata kunci untuk kampanye pencarian bagian sofa mereka. Klien mengatakan bahwa mereka ingin kami menghasilkan kata kunci untuk produk berikut:\n",
    "\n",
    "* sofas\n",
    "* convertible sofas\n",
    "* love seats\n",
    "* recliners\n",
    "* sofa beds\n",
    "\n",
    "Klien pada umumnya adalah pengecer berbiaya rendah, menawarkan banyak promosi dan diskon. Kami harus fokus pada kata kunci tersebut. Kami juga perlu beralih dari kata kunci dan topik mewah, karena kami menargetkan pelanggan yang sensitif terhadap harga. Karena kita akan membatasi anggaran, akan baik untuk fokus pada serangkaian kata kunci yang ditargetkan dengan ketat dan memastikan semuanya siap untuk tepat dan frase pencocokan.\n",
    "\n",
    "Berdasarkan uraian di atas, pertama-tama kita perlu membuat daftar kata, yang bersama-sama dengan produk yang diberikan di atas akan menghasilkan kata kunci yang baik. Berikut ini beberapa contohnya:\n",
    "\n",
    "* Products: sofas, recliners\n",
    "* Words: buy, prices\n",
    "\n",
    "Kata kunci yang dihasilkan: 'buy sofas', 'sofas buy', 'buy recliners', 'recliners buy', 'prices sofas', 'sofas prices', 'prices recliners', 'recliners prices'.\n",
    "\n",
    "Sebagai hasil akhir, kami ingin memiliki DataFrame yang terlihat seperti ini:\n",
    "\n",
    "<table>\n",
    "<thead>\n",
    "<tr>\n",
    "<th>Campaign</th>\n",
    "<th>Ad Group</th>\n",
    "<th>Keyword</th>\n",
    "<th>Criterion Type</th>\n",
    "</tr>\n",
    "</thead>\n",
    "<tbody>\n",
    "<tr>\n",
    "<td>Campaign1</td>\n",
    "<td>AdGroup_1</td>\n",
    "<td>keyword 1a</td>\n",
    "<td>Exact</td>\n",
    "</tr>\n",
    "<tr>\n",
    "<td>Campaign1</td>\n",
    "<td>AdGroup_1</td>\n",
    "<td>keyword 1a</td>\n",
    "<td>Phrase</td>\n",
    "</tr>\n",
    "<tr>\n",
    "<td>Campaign1</td>\n",
    "<td>AdGroup_1</td>\n",
    "<td>keyword 1b</td>\n",
    "<td>Exact</td>\n",
    "</tr>\n",
    "<tr>\n",
    "<td>Campaign1</td>\n",
    "<td>AdGroup_1</td>\n",
    "<td>keyword 1b</td>\n",
    "<td>Phrase</td>\n",
    "</tr>\n",
    "<tr>\n",
    "<td>Campaign1</td>\n",
    "<td>AdGroup_2</td>\n",
    "<td>keyword 2a</td>\n",
    "<td>Exact</td>\n",
    "</tr>\n",
    "<tr>\n",
    "<td>Campaign1</td>\n",
    "<td>AdGroup_2</td>\n",
    "<td>keyword 2a</td>\n",
    "<td>Phrase</td>\n",
    "</tr>\n",
    "</tbody>\n",
    "</table>\n",
    "\n",
    "Langkah pertama adalah membuat daftar kata-kata yang mungkin digunakan pengguna untuk mengekspresikan keinginan mereka dalam membeli sofa murah."
   ]
  },
  {
   "cell_type": "code",
   "execution_count": 6,
   "metadata": {
    "dc": {
     "key": "4"
    },
    "tags": [
     "sample_code"
    ]
   },
   "outputs": [
    {
     "name": "stdout",
     "output_type": "stream",
     "text": [
      "['buy', 'price', 'discount', 'promotion', 'promo', 'shop']\n"
     ]
    }
   ],
   "source": [
    "# List of words to pair with products\n",
    "words = ['buy', 'price', 'discount', 'promotion', 'promo', 'shop']\n",
    "\n",
    "# Print list of words\n",
    "print(words)"
   ]
  },
  {
   "cell_type": "markdown",
   "metadata": {},
   "source": [
    "## 2. Gabungkan kata-kata dengan nama produk\n",
    "\n",
    "Membayangkan semua kemungkinan kombinasi kata kunci bisa membuat stres! Tetapi tidak untuk kita, karena kita adalah kata kunci ninja! Kami tahu bagaimana menerjemahkan ringkasan kampanye ke dalam struktur data Python dan dapat membayangkan DataFrames yang dihasilkan yang perlu kita buat.\n",
    "\n",
    "Sekarang setelah kami melakukan brainstorming kata-kata yang bekerja dengan baik dengan brief yang kami terima, sekarang saatnya untuk menggabungkannya dengan nama-nama produk untuk menghasilkan kata kunci pencarian yang bermakna. Kami ingin menggabungkan setiap kata dengan setiap produk sekali sebelum, dan sekali setelah, seperti yang terlihat pada contoh di atas.\n",
    "\n",
    "Sebagai pengingat cepat, untuk 'recliners' produk dan kata-kata 'buy' dan 'price' misalnya, kami ingin menghasilkan kombinasi berikut:\n",
    "\n",
    "buy recliners\n",
    "recliners buy\n",
    "price recliners\n",
    "recliners price\n",
    "...\n",
    "\n",
    "dan seterusnya untuk semua kata dan produk yang kita miliki."
   ]
  },
  {
   "cell_type": "code",
   "execution_count": 7,
   "metadata": {
    "dc": {
     "key": "11"
    },
    "tags": [
     "sample_code"
    ]
   },
   "outputs": [
    {
     "name": "stdout",
     "output_type": "stream",
     "text": [
      "[['sofas', 'sofas buy'],\n",
      " ['sofas', 'sofas buy'],\n",
      " ['sofas', 'sofas price'],\n",
      " ['sofas', 'sofas price'],\n",
      " ['sofas', 'sofas discount'],\n",
      " ['sofas', 'sofas discount'],\n",
      " ['sofas', 'sofas promotion'],\n",
      " ['sofas', 'sofas promotion'],\n",
      " ['sofas', 'sofas promo'],\n",
      " ['sofas', 'sofas promo'],\n",
      " ['sofas', 'sofas shop'],\n",
      " ['sofas', 'sofas shop'],\n",
      " ['convertible sofas', 'convertible sofas buy'],\n",
      " ['convertible sofas', 'convertible sofas buy'],\n",
      " ['convertible sofas', 'convertible sofas price'],\n",
      " ['convertible sofas', 'convertible sofas price'],\n",
      " ['convertible sofas', 'convertible sofas discount'],\n",
      " ['convertible sofas', 'convertible sofas discount'],\n",
      " ['convertible sofas', 'convertible sofas promotion'],\n",
      " ['convertible sofas', 'convertible sofas promotion'],\n",
      " ['convertible sofas', 'convertible sofas promo'],\n",
      " ['convertible sofas', 'convertible sofas promo'],\n",
      " ['convertible sofas', 'convertible sofas shop'],\n",
      " ['convertible sofas', 'convertible sofas shop'],\n",
      " ['love seats', 'love seats buy'],\n",
      " ['love seats', 'love seats buy'],\n",
      " ['love seats', 'love seats price'],\n",
      " ['love seats', 'love seats price'],\n",
      " ['love seats', 'love seats discount'],\n",
      " ['love seats', 'love seats discount'],\n",
      " ['love seats', 'love seats promotion'],\n",
      " ['love seats', 'love seats promotion'],\n",
      " ['love seats', 'love seats promo'],\n",
      " ['love seats', 'love seats promo'],\n",
      " ['love seats', 'love seats shop'],\n",
      " ['love seats', 'love seats shop'],\n",
      " ['recliners', 'recliners buy'],\n",
      " ['recliners', 'recliners buy'],\n",
      " ['recliners', 'recliners price'],\n",
      " ['recliners', 'recliners price'],\n",
      " ['recliners', 'recliners discount'],\n",
      " ['recliners', 'recliners discount'],\n",
      " ['recliners', 'recliners promotion'],\n",
      " ['recliners', 'recliners promotion'],\n",
      " ['recliners', 'recliners promo'],\n",
      " ['recliners', 'recliners promo'],\n",
      " ['recliners', 'recliners shop'],\n",
      " ['recliners', 'recliners shop'],\n",
      " ['sofa beds', 'sofa beds buy'],\n",
      " ['sofa beds', 'sofa beds buy'],\n",
      " ['sofa beds', 'sofa beds price'],\n",
      " ['sofa beds', 'sofa beds price'],\n",
      " ['sofa beds', 'sofa beds discount'],\n",
      " ['sofa beds', 'sofa beds discount'],\n",
      " ['sofa beds', 'sofa beds promotion'],\n",
      " ['sofa beds', 'sofa beds promotion'],\n",
      " ['sofa beds', 'sofa beds promo'],\n",
      " ['sofa beds', 'sofa beds promo'],\n",
      " ['sofa beds', 'sofa beds shop'],\n",
      " ['sofa beds', 'sofa beds shop']]\n"
     ]
    }
   ],
   "source": [
    "products = ['sofas', 'convertible sofas', 'love seats', 'recliners', 'sofa beds']\n",
    "\n",
    "# Create an empty list\n",
    "keywords_list = []\n",
    "\n",
    "# Loop through products\n",
    "for product in products :\n",
    "    # Loop through words\n",
    "    for word in words :\n",
    "        # Append combinations\n",
    "        keywords_list.append([product, product + ' ' + word])\n",
    "        keywords_list.append([product, product + ' ' + word])\n",
    "        \n",
    "# Inspect keyword list\n",
    "from pprint import pprint\n",
    "pprint(keywords_list)"
   ]
  },
  {
   "cell_type": "markdown",
   "metadata": {
    "dc": {
     "key": "18"
    },
    "run_control": {
     "frozen": true
    },
    "tags": [
     "context"
    ]
   },
   "source": [
    "## 3. Konversi list of lists ke DataFrame\n",
    "\n",
    "Sekarang kami ingin mengubah *lists of lists* ini menjadi DataFrame sehingga kami dapat dengan mudah memanipulasi dan mengelola hasil akhir."
   ]
  },
  {
   "cell_type": "code",
   "execution_count": 8,
   "metadata": {
    "dc": {
     "key": "18"
    },
    "tags": [
     "sample_code"
    ]
   },
   "outputs": [
    {
     "name": "stdout",
     "output_type": "stream",
     "text": [
      "       0               1\n",
      "0  sofas       sofas buy\n",
      "1  sofas       sofas buy\n",
      "2  sofas     sofas price\n",
      "3  sofas     sofas price\n",
      "4  sofas  sofas discount\n"
     ]
    }
   ],
   "source": [
    "# Load library\n",
    "import pandas as pd\n",
    "\n",
    "# Create a DataFrame from list\n",
    "keywords_df = pd.DataFrame.from_records(keywords_list)\n",
    "\n",
    "# Print the keywords DataFrame to explore it\n",
    "print(keywords_df.head())"
   ]
  },
  {
   "cell_type": "markdown",
   "metadata": {},
   "source": [
    "## 4. Ganti nama kolom DataFrame\n",
    "\n",
    "Sebelum kita dapat mengunggah tabel kata kunci ini, kita perlu memberikan kolom nama yang bermakna. Jika kami memeriksa DataFrame yang baru saja kami buat di atas, kita dapat melihat bahwa kolom saat ini dinamai `0` dan `1`. `Ad Group` (contoh: \"sofas\") dan `Keyword` (contoh: \"sofas buy\") adalah nama yang jauh lebih tepat."
   ]
  },
  {
   "cell_type": "code",
   "execution_count": 9,
   "metadata": {
    "dc": {
     "key": "25"
    },
    "tags": [
     "sample_code"
    ]
   },
   "outputs": [],
   "source": [
    "# Rename the columns of the DataFrame\n",
    "keywords_df = keywords_df.rename(columns={0: 'Ad Group', 1: 'Keyword'})"
   ]
  },
  {
   "cell_type": "markdown",
   "metadata": {},
   "source": [
    "## 5. Menambahkan kolom campaign\n",
    "\n",
    "Sekarang kita perlu menambahkan beberapa informasi tambahan ke DataFrame kita. Kami membutuhkan kolom baru bernama `Campaign` untuk nama kampanye. Kami ingin nama kampanye menjadi deskriptif dari grup kata kunci dan produk kami, jadi mari kita sebut kampanye ini `'SEM_Sofas'`."
   ]
  },
  {
   "cell_type": "code",
   "execution_count": 10,
   "metadata": {
    "dc": {
     "key": "32"
    },
    "tags": [
     "sample_code"
    ]
   },
   "outputs": [],
   "source": [
    "# Add a campaign column\n",
    "keywords_df['Campaign'] = 'SEM_Sofas'"
   ]
  },
  {
   "cell_type": "markdown",
   "metadata": {},
   "source": [
    "## 6. Membuat kolom jenis pencocokan\n",
    "\n",
    "Ada berbagai jenis pencocokan kata kunci. Salah satunya adalah pencocokan tepat, yang untuk mencocokkan istilah yang tepat atau variasi dekat dari istilah yang tepat. Jenis pencocokan lain adalah pencocokan luas, yang berarti iklan dapat ditampilkan pada pencarian yang menyertakan salah eja, sinonim, pencarian terkait, dan variasi relevan lainnya.\n",
    "\n",
    "Langsung dari dokumentasi Google AdWords:\n",
    "\n",
    "<blockquote>\n",
    "    <p>Secara umum, semakin luas jenis pencocokan, semakin banyak potensi lalu lintas yang dimiliki kata kunci, karena iklan Anda mungkin lebih sering dipicu. Sebaliknya, jenis pencocokan yang lebih sempit berarti bahwa iklan Anda mungkin lebih jarang ditayangkan — tetapi ketika itu terjadi, mereka cenderung lebih terkait dengan pencarian seseorang.</p>\n",
    "</blockquote>\n",
    "\n",
    "Karena klien memiliki anggaran yang ketat, kami ingin memastikan semua kata kunci dalam kecocokan tepat di awal."
   ]
  },
  {
   "cell_type": "code",
   "execution_count": 11,
   "metadata": {
    "dc": {
     "key": "39"
    },
    "tags": [
     "sample_code"
    ]
   },
   "outputs": [],
   "source": [
    "# Add a criterion type column\n",
    "keywords_df['Criterion Type'] = 'Exact'"
   ]
  },
  {
   "cell_type": "markdown",
   "metadata": {},
   "source": [
    "## 7. Gandakan semua kata kunci menjadi 'phrase' yang cocok\n",
    "\n",
    "Hal yang hebat tentang pencocokan yang tepat adalah sangat spesifik, dan kami dapat mengontrol prosesnya dengan sangat baik. Namun, pengorbanannya adalah:\n",
    "\n",
    "1. Volume pencarian untuk pencocokan tepat lebih rendah dari jenis pencocokan lainnya\n",
    "2. Kami tidak mungkin memikirkan semua cara orang mencari, jadi kami mungkin kehilangan beberapa kata kunci berkualitas tinggi.\n",
    "\n",
    "Jadi ada baiknya menggunakan kecocokan lain yang disebut *pencocokan frasa* sebagai mekanisme penemuan untuk memungkinkan iklan kami dipicu oleh kata kunci yang menyertakan kata kunci pencocokan tepat kami, bersama dengan apa pun sebelum (atau setelah) mereka.\n",
    "\n",
    "Kemudian, ketika kami meluncurkan kampanye, kami dapat menjelajahi dengan pencocokan luas yang dimodifikasi, pencocokan luas, dan jenis pencocokan negatif, untuk visibilitas yang lebih baik dan kontrol kampanye kami."
   ]
  },
  {
   "cell_type": "code",
   "execution_count": 13,
   "metadata": {
    "dc": {
     "key": "46"
    },
    "tags": [
     "sample_code"
    ]
   },
   "outputs": [],
   "source": [
    "# Make a copy of the keywords DataFrame\n",
    "keywords_phrase = keywords_df.copy()\n",
    "\n",
    "# Change criterion type match to phrase\n",
    "keywords_phrase['Phrase'] = 'Exact'\n",
    "\n",
    "# Append the DataFrames\n",
    "keywords_df_final = keywords_df.append(keywords_phrase, sort=True)"
   ]
  },
  {
   "cell_type": "markdown",
   "metadata": {},
   "source": [
    "## 8. Simpan dan buat ringkasan!\n",
    "\n",
    "Untuk mengunggah kampanye kami, kami perlu menyimpannya sebagai file CSV. Kemudian kita akan dapat mengimpornya ke editor AdWords atau editor BingAds. Ada juga opsi untuk menempelkan data ke editor jika kita mau, tetapi memiliki akses mudah ke data yang disimpan sangat bagus jadi mari kita simpan ke file CSV!\n",
    "\n",
    "Melihat ringkasan struktur kampanye kami adalah hal yang baik sekarang karena kami telah menyelesaikan pekerjaan kata kunci kami. Kita dapat melakukannya dengan mengelompokkan berdasarkan grup iklan dan tipe kriteria dan menghitung berdasarkan kata kunci. Ringkasan ini menunjukkan kepada kami bahwa kami menetapkan kata kunci spesifik untuk grup iklan tertentu, yang masing-masing bagian dari kampanye. Intinya, kami memberi tahu Google (atau Bing, dll.) Bahwa kami ingin kata-kata dalam setiap grup iklan memicu salah satu iklan dalam grup iklan yang sama. Secara terpisah, kita harus membuat tabel lain untuk iklan, yang merupakan tugas untuk hari lain dan akan terlihat seperti ini:\n",
    "\n",
    "<table>\n",
    "<thead>\n",
    "<tr>\n",
    "<th>Campaign</th>\n",
    "<th>Ad Group</th>\n",
    "<th>Headline 1</th>\n",
    "<th>Headline 2</th>\n",
    "<th>Description</th>\n",
    "<th>Final URL</th>\n",
    "</tr>\n",
    "</thead>\n",
    "<tbody>\n",
    "<tr>\n",
    "<td>SEM_Sofas</td>\n",
    "<td>Sofas</td>\n",
    "<td>Looking for Quality Sofas?</td>\n",
    "<td>Explore Our Massive Collection</td>\n",
    "<td>30-day Returns With Free Delivery Within the US. Start Shopping Now</td>\n",
    "<td>DataCampSofas.com/sofas</td>\n",
    "</tr>\n",
    "<tr>\n",
    "<td>SEM_Sofas</td>\n",
    "<td>Sofas</td>\n",
    "<td>Looking for Affordable Sofas?</td>\n",
    "<td>Check Out Our Weekly Offers</td>\n",
    "<td>30-day Returns With Free Delivery Within the US. Start Shopping Now</td>\n",
    "<td>DataCampSofas.com/sofas</td>\n",
    "</tr>\n",
    "<tr>\n",
    "<td>SEM_Sofas</td>\n",
    "<td>Recliners</td>\n",
    "<td>Looking for Quality Recliners?</td>\n",
    "<td>Explore Our Massive Collection</td>\n",
    "<td>30-day Returns With Free Delivery Within the US. Start Shopping Now</td>\n",
    "<td>DataCampSofas.com/recliners</td>\n",
    "</tr>\n",
    "<tr>\n",
    "<td>SEM_Sofas</td>\n",
    "<td>Recliners</td>\n",
    "<td>Need Affordable Recliners?</td>\n",
    "<td>Check Out Our Weekly Offers</td>\n",
    "<td>30-day Returns With Free Delivery Within the US. Start Shopping Now</td>\n",
    "<td>DataCampSofas.com/recliners</td>\n",
    "</tr>\n",
    "</tbody>\n",
    "</table>\n",
    "\n",
    "Bersama-sama, tabel ini memberikan sampel **keywords** -> **ads** -> pemetaan **landing page** yang ditunjukkan pada diagram di bawah ini.\n",
    "\n",
    "<p><img src=\"https://assets.datacamp.com/production/project_400/img/kwds_ads_lpages.png\" alt=\"Keywords-Ads-Landing pages flow\"></p>"
   ]
  },
  {
   "cell_type": "code",
   "execution_count": 14,
   "metadata": {
    "dc": {
     "key": "53"
    },
    "tags": [
     "sample_code"
    ]
   },
   "outputs": [
    {
     "name": "stdout",
     "output_type": "stream",
     "text": [
      "Ad Group           Criterion Type\n",
      "convertible sofas  Exact             24\n",
      "love seats         Exact             24\n",
      "recliners          Exact             24\n",
      "sofa beds          Exact             24\n",
      "sofas              Exact             24\n",
      "Name: Keyword, dtype: int64\n"
     ]
    }
   ],
   "source": [
    "# Save the final keywords to a CSV file\n",
    "keywords_df_final.to_csv('keywords.csv', index=False)\n",
    "\n",
    "# View a summary of our campaign work\n",
    "summary = keywords_df_final.groupby(['Ad Group', 'Criterion Type'])['Keyword'].count()\n",
    "print(summary)"
   ]
  },
  {
   "cell_type": "code",
   "execution_count": null,
   "metadata": {},
   "outputs": [],
   "source": []
  }
 ],
 "metadata": {
  "kernelspec": {
   "display_name": "Python 3",
   "language": "python",
   "name": "python3"
  },
  "language_info": {
   "codemirror_mode": {
    "name": "ipython",
    "version": 3
   },
   "file_extension": ".py",
   "mimetype": "text/x-python",
   "name": "python",
   "nbconvert_exporter": "python",
   "pygments_lexer": "ipython3",
   "version": "3.7.3"
  }
 },
 "nbformat": 4,
 "nbformat_minor": 2
}
