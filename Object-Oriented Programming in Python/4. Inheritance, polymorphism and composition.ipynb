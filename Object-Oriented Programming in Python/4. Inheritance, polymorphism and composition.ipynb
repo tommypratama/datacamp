{
 "cells": [
  {
   "cell_type": "markdown",
   "metadata": {},
   "source": [
    "# Inheritance, polymorphism and composition\n",
    "\n",
    "Dalam bab ini kita membahas **inheritance** (warisan), yaitu ketika kita membuat class yang mempekerjakan (atau 'inherits/mewarisi') semua class variables dan methods dari class 'parent/induk'. Kami juga membahas **polymorphism**, yaitu ketika beberapa class inherits dari satu class. Akhirnya, kita membahas **composition**, yaitu ketika class menggunakan fungsionalitas class spesifik dari class lain tanpa harus mewarisinya."
   ]
  },
  {
   "cell_type": "markdown",
   "metadata": {},
   "source": [
    "## Inheritance: Is-a Versus Has-A"
   ]
  },
  {
   "cell_type": "markdown",
   "metadata": {},
   "source": [
    "### Extending our DataShells\n",
    "\n",
    "Inheritance - Class yang mengambil atribut dari class lain, \"parent/induk\" dan menambahkan beberapa fungsionalitasnya sendiri\n",
    "\n",
    "<img src=\"figure/datashell.png\" width=400px height=400px align=left />"
   ]
  },
  {
   "cell_type": "markdown",
   "metadata": {},
   "source": [
    "### Two Dinosaurs\n",
    "\n",
    "<img src=\"figure/two-dinosaurs.png\" width=500px height=500px align=left />"
   ]
  },
  {
   "cell_type": "markdown",
   "metadata": {},
   "source": [
    "### Is a and Has a Relationship\n",
    "\n",
    "* Pterodactyl adalah Dinosaurus\n",
    "* Tyrannosaurus adalah Dinosaurus\n",
    "* Apakah Pterodactyl adalah dinosaurus? Ya, pterodactyl mewarisi dari dinosaurus.\n",
    "* Apakah Tyranosaurus adalah pterodactyl? Tidak, tapi mereka berdua dinosaurus.\n",
    "* Apakah dinosaurus adalah pterodactyl? Tidak, jadi tidak bekerja sebaliknya."
   ]
  },
  {
   "cell_type": "markdown",
   "metadata": {},
   "source": [
    "### Inheriting a DataShell\n",
    "\n",
    "```python\n",
    "# the class we want to create StDevDataShell\n",
    "class StDevDataShell(DataShell):\n",
    "    pass\n",
    "```"
   ]
  },
  {
   "cell_type": "markdown",
   "metadata": {},
   "source": [
    "### Why Inheritance?\n",
    "\n",
    "Mengapa berguna untuk mendeklarasikan class yang mewarisi dari class abstrak?\n",
    "\n",
    "* Anda ingin memperluas fungsionalitas class Anda saat ini tanpa menimpanya. Inheritance memungkinkan kita untuk menurunkan fitur ke class anak."
   ]
  },
  {
   "cell_type": "markdown",
   "metadata": {},
   "source": [
    "### Animal Inheritance\n",
    "\n",
    "Dalam latihan ini kita akan mengkodekan contoh sederhana dari class abstrak, dan dua class lain yang mewarisi darinya.\n",
    "\n",
    "Untuk fokus pada konsep inheritance, kami akan memperkenalkan kelas-kelas lain: `Animal`, `Mammal`, dan `Reptile`.\n",
    "\n",
    "Lebih khusus lagi, `Animal` akan menjadi class abstrak kita, dan baik `Mammal` maupun `Reptile` akan mewarisinya."
   ]
  },
  {
   "cell_type": "code",
   "execution_count": 2,
   "metadata": {},
   "outputs": [
    {
     "name": "stdout",
     "output_type": "stream",
     "text": [
      "<__main__.Mammal object at 0x7f1d8023c588>\n",
      "<__main__.Reptile object at 0x7f1d8023c5c0>\n"
     ]
    }
   ],
   "source": [
    "# Create a class Animal\n",
    "class Animal:\n",
    "    def __init__(self, name):\n",
    "        self.name = name\n",
    "\n",
    "# Create a class Mammal, which inherits from Animal\n",
    "class Mammal(Animal):\n",
    "    def __init__(self, name, animal_type):\n",
    "        self.animal_type = animal_type\n",
    "\n",
    "# Create a class Reptile, which also inherits from Animal\n",
    "class Reptile(Animal):\n",
    "    def __init__(self, name, animal_type):\n",
    "        self.animal_type = animal_type\n",
    "\n",
    "# Instantiate a mammal with name 'Daisy' and animal_type 'dog': daisy\n",
    "daisy = Mammal('Daisy', 'dog')\n",
    "\n",
    "# Instantiate a reptile with name 'Stella' and animal_type 'alligator': stella\n",
    "stella = Reptile('Stella', 'alligator')\n",
    "\n",
    "# Print both objects\n",
    "print(daisy)\n",
    "print(stella)"
   ]
  },
  {
   "cell_type": "markdown",
   "metadata": {},
   "source": [
    "**Catatan** : Anda sekarang telah menulis class abstrak, dan berhasil menggunakan inheritance, fitur yang powerful dari pemrograman berorientasi objek yang membantu Anda menyederhanakan kode melalui penggunaan kembali!"
   ]
  },
  {
   "cell_type": "markdown",
   "metadata": {},
   "source": [
    "### Vertebrate Inheritance\n",
    "\n",
    "Dalam latihan sebelumnya, rasanya hampir tidak perlu untuk memiliki class abstrak, karena tidak melakukan sesuatu yang sangat menarik (selain mulai belajar **inheritance**).\n",
    "\n",
    "Dalam latihan ini, kami akan memperbaiki class abstrak dan memasukkan beberapa class variable dalam class abstrak,  sehingga mereka dapat diturunkan ke class yang lain.\n",
    "\n",
    "Selain dari inheritance, dalam latihan ini kita melihat konsep pemrograman berorientasi objek yang powerful: **polymorphism**. Saat Anda menjelajahi kode Anda, ketika menulis class `Mammal` dan `Reptile`, perhatikan perbedaannya. Karena keduanya mewarisi dari kelas `Vertebrate`, dan karena mereka berbeda, kami mengatakan bahwa mereka **polymorphic**. Keren sekali!"
   ]
  },
  {
   "cell_type": "code",
   "execution_count": 3,
   "metadata": {},
   "outputs": [
    {
     "name": "stdout",
     "output_type": "stream",
     "text": [
      "Stella Spinal cord: True\n",
      "Stella temperature regulation: False\n",
      "Daisy Spinal cord: True\n",
      "Daisy temperature regulation: True\n"
     ]
    }
   ],
   "source": [
    "# Create a class Vertebrate\n",
    "class Vertebrate:\n",
    "    spinal_cord = True\n",
    "    def __init__(self, name):\n",
    "        self.name = name\n",
    "\n",
    "# Create a class Mammal, which inherits from Vertebrate\n",
    "class Mammal(Vertebrate):\n",
    "    def __init__(self, name, animal_type):\n",
    "        self.animal_type = animal_type\n",
    "        self.temperature_regulation = True\n",
    "\n",
    "# Create a class Reptile, which also inherits from Vertebrate\n",
    "class Reptile(Vertebrate):\n",
    "    def __init__(self, name, animal_type):\n",
    "        self.animal_type = animal_type\n",
    "        self.temperature_regulation = False\n",
    "\n",
    "# Instantiate a mammal with name 'Daisy' and animal_type 'dog': daisy\n",
    "daisy = Mammal('Daisy', 'dog')\n",
    "\n",
    "# Instantiate a reptile with name 'Stella' and animal_type 'alligator': stella\n",
    "stella = Reptile('Stella', 'alligator')\n",
    "\n",
    "# Print stella's attributes spinal_cord and temperature_regulation\n",
    "print(\"Stella Spinal cord: \" + str(stella.spinal_cord))\n",
    "print(\"Stella temperature regulation: \" + str(stella.temperature_regulation))\n",
    "\n",
    "# Print daisy's attributes spinal_cord and temperature_regulation\n",
    "print(\"Daisy Spinal cord: \" + str(daisy.spinal_cord))\n",
    "print(\"Daisy temperature regulation: \" + str(daisy.temperature_regulation))"
   ]
  },
  {
   "cell_type": "markdown",
   "metadata": {},
   "source": [
    "**Catatan** : Anda tidak hanya mempelajari inheritance, tetapi juga polymorphism! Cobalah memperluas polymorphism class Anda (mewarisi) dengan menambahkan class dan instance variables yang berbeda."
   ]
  },
  {
   "cell_type": "markdown",
   "metadata": {},
   "source": [
    "## Inheritance with DataShells"
   ]
  },
  {
   "cell_type": "markdown",
   "metadata": {},
   "source": [
    "### DataShell with Standard Deviation\n",
    "\n",
    "<img src=\"figure/datashell-with-std.png\" width=500px height=500px align=left />"
   ]
  },
  {
   "cell_type": "markdown",
   "metadata": {},
   "source": [
    "### Changing the DataShell"
   ]
  },
  {
   "cell_type": "code",
   "execution_count": 4,
   "metadata": {},
   "outputs": [],
   "source": [
    "class DataShell:\n",
    "    \n",
    "    def __init__(self, filename):\n",
    "        self.filename = filename\n",
    "\n",
    "    def create_datashell(self):\n",
    "        data_array = np.genfromtxt(self.filename, delimiter=',', dtype=None)\n",
    "        self.array = data_array\n",
    "        return self.array\n",
    "\n",
    "    def show_shell(self):\n",
    "        print(self.array)\n",
    "        \n",
    "    def rename_column(self, old_colname, new_colname):\n",
    "        for index, value in enumerate(self.array[0]):\n",
    "            if value == old_colname.encode('UTF-8'):\n",
    "                self.array[0][index] = new_colname\n",
    "        return self.array\n",
    "\n",
    "    def five_figure_summary(self, col_position):\n",
    "        statistics = stats.describe(self.array[1:,col_position].astype(np.float))\n",
    "        return f\"Five-figure stats of column {col_position}: {statistics}\""
   ]
  },
  {
   "cell_type": "markdown",
   "metadata": {},
   "source": [
    "### Allowing for a standard deviation"
   ]
  },
  {
   "cell_type": "code",
   "execution_count": 5,
   "metadata": {},
   "outputs": [],
   "source": [
    "def get_stdev(self,col_position):\n",
    "    column = self.array[1:,col_position].astype(np.float)\n",
    "    stdev = np.ndarray.std(column,axis=0)\n",
    "    return f\"Standard Deviation of column {col_position}: {stdev}\""
   ]
  },
  {
   "cell_type": "markdown",
   "metadata": {},
   "source": [
    "### Inheritance with DataShells"
   ]
  },
  {
   "cell_type": "code",
   "execution_count": 6,
   "metadata": {},
   "outputs": [],
   "source": [
    "class DataStDev(DataShell):\n",
    "    \n",
    "    def __init__(self,filename):\n",
    "        DataShell.filename = filename\n",
    "        \n",
    "    def get_stdev(self, col_position):\n",
    "        column = self.array[1:, col_position].astype(np.float)\n",
    "        stdev = np.ndarray.std(column, axis=0)\n",
    "        return f\"Standard Deviation of column {col_position}: {stdev}\""
   ]
  },
  {
   "cell_type": "markdown",
   "metadata": {},
   "source": [
    "### Calling our new DataShell\n",
    "\n",
    "Code to call it:\n",
    "\n",
    "```python\n",
    "carData = 'mtcars.csv'\n",
    "myStDevShell = DataStDev(carData)\n",
    "myStDevShell.create_datashell()\n",
    "myStDevShell.get_stdev(1)\n",
    "```"
   ]
  },
  {
   "cell_type": "markdown",
   "metadata": {},
   "source": [
    "### Abstract Class DataShell I\n",
    "\n",
    "Kami sekarang akan kembali bekerja pada class `DataShell`. Secara khusus, kita akan membuat class abstrak, sehingga kita bisa membuat class lain yang kemudian mewarisinya!\n",
    "\n",
    "Karena alasan ini, class `DataShell` abstrak tidak akan berbuat banyak, menyerupai beberapa latihan sebelumnya dalam kursus ini."
   ]
  },
  {
   "cell_type": "code",
   "execution_count": 7,
   "metadata": {},
   "outputs": [],
   "source": [
    "us_life_expectancy = 'datasets/us_life_expectancy.csv'"
   ]
  },
  {
   "cell_type": "code",
   "execution_count": 8,
   "metadata": {},
   "outputs": [
    {
     "name": "stdout",
     "output_type": "stream",
     "text": [
      "<__main__.DataShell object at 0x7f1d70952d68>\n"
     ]
    }
   ],
   "source": [
    "# Load numpy as np and pandas as pd\n",
    "import numpy as np\n",
    "import pandas as pd\n",
    "\n",
    "# Create class: DataShell\n",
    "class DataShell:\n",
    "    def __init__(self, inputFile):\n",
    "        self.file = inputFile\n",
    "\n",
    "# Instantiate DataShell as my_data_shell\n",
    "my_data_shell = DataShell(us_life_expectancy)\n",
    "\n",
    "# Print my_data_shell\n",
    "print(my_data_shell)"
   ]
  },
  {
   "cell_type": "markdown",
   "metadata": {},
   "source": [
    "**Catatan** : Latihan ini seharusnya terasa sedikit lebih mudah dari beberapa latihan sebelumnya. Bersiaplah karena kita akan membangun class abstrak ini untuk menambah inheritance, dan mulai mengeksplorasi konsep baru!"
   ]
  },
  {
   "cell_type": "markdown",
   "metadata": {},
   "source": [
    "### Abstract Class DataShell II\n",
    "\n",
    "Sekarang kita memiliki class abstrak `DataShell`, kita sekarang dapat membuat class kedua yang mewarisi darinya.\n",
    "\n",
    "Secara khusus, kita akan mendefinisikan class yang disebut `CsvDataShell`. Class ini akan memiliki kemampuan untuk mengimpor file CSV. Dalam latihan berikut, kami akan menambahkan sedikit lebih banyak fungsionalitas untuk membuat class lebih canggih!"
   ]
  },
  {
   "cell_type": "code",
   "execution_count": 9,
   "metadata": {},
   "outputs": [
    {
     "name": "stdout",
     "output_type": "stream",
     "text": [
      "           country code  year  life_expectancy\n",
      "0    United States  USA  1880        39.410000\n",
      "1    United States  USA  1890        45.209999\n",
      "2    United States  USA  1901        49.299999\n",
      "3    United States  USA  1902        50.500000\n",
      "4    United States  USA  1903        50.599998\n",
      "..             ...  ...   ...              ...\n",
      "112  United States  USA  2011        78.681999\n",
      "113  United States  USA  2012        78.820999\n",
      "114  United States  USA  2013        78.959999\n",
      "115  United States  USA  2014        79.099998\n",
      "116  United States  USA  2015        79.244003\n",
      "\n",
      "[117 rows x 4 columns]\n"
     ]
    }
   ],
   "source": [
    "# Create class: DataShell\n",
    "class DataShell:\n",
    "    def __init__(self, inputFile):\n",
    "        self.file = inputFile\n",
    "\n",
    "# Create class CsvDataShell, which inherits from DataShell\n",
    "class CsvDataShell(DataShell):\n",
    "    # Initialization method with arguments self, inputFile\n",
    "    def __init__(self, inputFile):\n",
    "        # Instance variable data\n",
    "        self.data = pd.read_csv(inputFile)\n",
    "\n",
    "# Instantiate CsvDataShell as us_data_shell, passing us_life_expectancy as argument\n",
    "us_data_shell = CsvDataShell(us_life_expectancy)\n",
    "\n",
    "# Print us_data_shell.data\n",
    "print(us_data_shell.data)"
   ]
  },
  {
   "cell_type": "markdown",
   "metadata": {},
   "source": [
    "**Catatan** : Kita sekarang melihat inheritance dalam aksi pada konteks class `DataShell`. Apa class lain yang mungkin Anda buat, yang mewarisi dari DataShell? Mungkin yang mengimpor file TSV? Mungkin JSON?"
   ]
  },
  {
   "cell_type": "markdown",
   "metadata": {},
   "source": [
    "## Composition"
   ]
  },
  {
   "cell_type": "markdown",
   "metadata": {},
   "source": [
    "### Inheritance versus Composition\n",
    "\n",
    "<img src=\"figure/inteheritance-vs-composition.png\" width=500px height=500px align=left />"
   ]
  },
  {
   "cell_type": "markdown",
   "metadata": {},
   "source": [
    "### Composing with Animals\n",
    "\n",
    "<img src=\"figure/composition-with-animals.png\" width=400px height=400px align=left />"
   ]
  },
  {
   "cell_type": "markdown",
   "metadata": {},
   "source": [
    "### Composition In a DataShell - 1"
   ]
  },
  {
   "cell_type": "code",
   "execution_count": 10,
   "metadata": {},
   "outputs": [],
   "source": [
    "# Five-Figure Summary Composition\n",
    "def five_figure_summary(self, col_position):\n",
    "    statistics = stats.describe(self.array[1:, col_position].astype(np.float))\n",
    "    return f\"Five-figure stats of column {col_position}: {statistics}\""
   ]
  },
  {
   "cell_type": "markdown",
   "metadata": {},
   "source": [
    "### Composition In a DataShell - 2"
   ]
  },
  {
   "cell_type": "code",
   "execution_count": 11,
   "metadata": {},
   "outputs": [],
   "source": [
    "# Create DataShell Composition\n",
    "def create_datashell(self):\n",
    "    data_array = np.genfromtxt(self.filename, delimiter=',', dtype=None)\n",
    "    self.array = data_array\n",
    "    return self.array"
   ]
  },
  {
   "cell_type": "markdown",
   "metadata": {},
   "source": [
    "### Composing with Pandas"
   ]
  },
  {
   "cell_type": "code",
   "execution_count": 12,
   "metadata": {},
   "outputs": [],
   "source": [
    "# Create DataShell Composition\n",
    "class DataShell:\n",
    "    def __init__(self, filename):\n",
    "        self.filename = filename\n",
    "\n",
    "    def create_datashell(self):\n",
    "        data_array = np.genfromtxt(self.filename, delimiter=',', dtype=None)\n",
    "        self.array = data_array\n",
    "        return self.array\n",
    "    \n",
    "class DataShellComposed:\n",
    "    def __init__(self, filename):\n",
    "        self.filename = filename\n",
    "        \n",
    "    def create_datashell(self):\n",
    "        self.df = pandas.read_csv()\n",
    "        return self.df"
   ]
  },
  {
   "cell_type": "markdown",
   "metadata": {},
   "source": [
    "### What does our new class look like?\n",
    "\n",
    "```python\n",
    "carData = 'mtcars.csv'\n",
    "myDatashell = DataShellComposed(carData)\n",
    "myDatashell.create_datashell()\n",
    "print(type(myDatashell.df))\n",
    "```"
   ]
  },
  {
   "cell_type": "markdown",
   "metadata": {},
   "source": [
    "### Practice: Composition and Inheritance I\n",
    "\n",
    "Seperti yang mungkin Anda perhatikan, kami sudah menggunakan composition di class, kami hanya belum eksplisit tentang hal itu. Lebih khusus lagi, kami telah mengandalkan fungsionalitas dari paket `pandas`.\n",
    "\n",
    "Dalam latihan ini, kami akan menggabungkan inheritance dan composition ketika kami mendefinisikan class yang 1) mewarisi dari class lain, dan 2) menggunakan fungsionalitas dari class lain."
   ]
  },
  {
   "cell_type": "code",
   "execution_count": 13,
   "metadata": {},
   "outputs": [
    {
     "name": "stdout",
     "output_type": "stream",
     "text": [
      "              year  life_expectancy\n",
      "count   117.000000       117.000000\n",
      "mean   1956.752137        66.556684\n",
      "std      34.398252         9.551079\n",
      "min    1880.000000        39.410000\n",
      "25%    1928.000000        58.500000\n",
      "50%    1957.000000        69.599998\n",
      "75%    1986.000000        74.772003\n",
      "max    2015.000000        79.244003\n"
     ]
    }
   ],
   "source": [
    "# Define abstract class DataShell\n",
    "class DataShell:\n",
    "    # Class variable family\n",
    "    family = 'DataShell'\n",
    "    # Initialization method with arguments, and instance variables\n",
    "    def __init__(self, name, filepath): \n",
    "        self.name = name\n",
    "        self.filepath = filepath\n",
    "\n",
    "# Define class CsvDataShell      \n",
    "class CsvDataShell(DataShell):\n",
    "    # Initialization method with arguments self, name, filepath\n",
    "    def __init__(self, name, filepath):\n",
    "        # Instance variable data\n",
    "        self.data = pd.read_csv(filepath)\n",
    "        # Instance variable stats\n",
    "        self.stats = self.data.describe()\n",
    "\n",
    "# Instantiate CsvDataShell as us_data_shell\n",
    "us_data_shell = CsvDataShell(\"US\", us_life_expectancy)\n",
    "\n",
    "# Print us_data_shell.stats\n",
    "print(us_data_shell.stats)"
   ]
  },
  {
   "cell_type": "markdown",
   "metadata": {},
   "source": [
    "**Catatan** : Sekarang Anda tahu bagaimana mendaur ulang kode dari class lain melalui inheritance dan composition! Class lain apa yang ingin Anda warisi? Dengan kode apa lagi Anda ingin menggunakan composition?"
   ]
  },
  {
   "cell_type": "markdown",
   "metadata": {},
   "source": [
    "### Composition and Inheritance II\n",
    "\n",
    "Dalam latihan ini, kita akan membuat class lain `TsvDataShell` yang mewarisi dari class abstrak `DataShell`, yang juga menggunakan composition dalam fungsi daur ulang dari object `pandas`.\n",
    "\n",
    "Secara khusus, class baru akan dapat membaca dalam file TSV, dan juga memberi deskripsi tentang data yang disimpannya."
   ]
  },
  {
   "cell_type": "code",
   "execution_count": 15,
   "metadata": {},
   "outputs": [],
   "source": [
    "france_life_expectancy = 'datasets/france_life_expectancy.csv'"
   ]
  },
  {
   "cell_type": "code",
   "execution_count": 16,
   "metadata": {},
   "outputs": [
    {
     "name": "stdout",
     "output_type": "stream",
     "text": [
      "              year  life_expectancy\n",
      "count   117.000000       117.000000\n",
      "mean   1956.752137        66.556684\n",
      "std      34.398252         9.551079\n",
      "min    1880.000000        39.410000\n",
      "25%    1928.000000        58.500000\n",
      "50%    1957.000000        69.599998\n",
      "75%    1986.000000        74.772003\n",
      "max    2015.000000        79.244003\n",
      "       country,code,year,life_expectancy\n",
      "count                                200\n",
      "unique                               200\n",
      "top            France,FRA,1980,74.049004\n",
      "freq                                   1\n"
     ]
    }
   ],
   "source": [
    "# Define abstract class DataShell\n",
    "class DataShell:\n",
    "    family = 'DataShell'\n",
    "    def __init__(self, name, filepath): \n",
    "        self.name = name\n",
    "        self.filepath = filepath\n",
    "\n",
    "# Define class CsvDataShell\n",
    "class CsvDataShell(DataShell):\n",
    "    def __init__(self, name, filepath):\n",
    "        self.data = pd.read_csv(filepath)\n",
    "        self.stats = self.data.describe()\n",
    "\n",
    "# Define class TsvDataShell\n",
    "class TsvDataShell(DataShell):\n",
    "    # Initialization method with arguments self, name, filepath\n",
    "    def __init__(self, name, filepath):\n",
    "        # Instance variable data\n",
    "        self.data = pd.read_table(filepath)\n",
    "        # Instance variable stats\n",
    "        self.stats = self.data.describe()\n",
    "\n",
    "# Instantiate CsvDataShell as us_data_shell, print us_data_shell.stats\n",
    "us_data_shell = CsvDataShell(\"US\", us_life_expectancy)\n",
    "print(us_data_shell.stats)\n",
    "\n",
    "# Instantiate TsvDataShell as france_data_shell, print france_data_shell.stats\n",
    "france_data_shell = TsvDataShell(\"France\", france_life_expectancy)\n",
    "print(france_data_shell.stats)"
   ]
  },
  {
   "cell_type": "code",
   "execution_count": null,
   "metadata": {},
   "outputs": [],
   "source": []
  },
  {
   "cell_type": "code",
   "execution_count": null,
   "metadata": {},
   "outputs": [],
   "source": []
  },
  {
   "cell_type": "code",
   "execution_count": null,
   "metadata": {},
   "outputs": [],
   "source": []
  }
 ],
 "metadata": {
  "kernelspec": {
   "display_name": "Python 3",
   "language": "python",
   "name": "python3"
  },
  "language_info": {
   "codemirror_mode": {
    "name": "ipython",
    "version": 3
   },
   "file_extension": ".py",
   "mimetype": "text/x-python",
   "name": "python",
   "nbconvert_exporter": "python",
   "pygments_lexer": "ipython3",
   "version": "3.7.3"
  }
 },
 "nbformat": 4,
 "nbformat_minor": 2
}
