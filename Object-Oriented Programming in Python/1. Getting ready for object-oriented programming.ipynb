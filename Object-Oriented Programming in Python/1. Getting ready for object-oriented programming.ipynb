{
 "cells": [
  {
   "cell_type": "markdown",
   "metadata": {},
   "source": [
    "# Getting ready for object-oriented programming\n",
    "\n",
    "Dalam bab ini kami secara singkat meninjau **functions dan data structures**, karena mereka membangun blok pemrograman berorientasi objek. Kemudian kita beralih ke definisi konseptual **objects dan classes**."
   ]
  },
  {
   "cell_type": "markdown",
   "metadata": {},
   "source": [
    "## Intro to Object Oriented Programming in Python"
   ]
  },
  {
   "cell_type": "markdown",
   "metadata": {},
   "source": [
    "### What's Object-Oriented Programming? (OOP)\n",
    "\n",
    "* Cara untuk membangun kode yang fleksibel dan dapat direproduksi\n",
    "* Mengembangkan *building blocks* untuk mengembangkan **modules dan libraries** yang lebih maju\n",
    "\n",
    "<img src=\"figure/oop.png\" width=500px height=500px align=left />"
   ]
  },
  {
   "cell_type": "markdown",
   "metadata": {},
   "source": [
    "### Imperative Style and OOP Style\n",
    "\n",
    "**IMPERATIVE**"
   ]
  },
  {
   "cell_type": "code",
   "execution_count": 3,
   "metadata": {},
   "outputs": [
    {
     "name": "stdout",
     "output_type": "stream",
     "text": [
      "Item 1\n",
      "Item 2\n",
      "Item 3\n"
     ]
    }
   ],
   "source": [
    "our_list = [1, 2, 3]\n",
    "for item in our_list:\n",
    "    print(\"Item {}\".format(item))"
   ]
  },
  {
   "cell_type": "markdown",
   "metadata": {},
   "source": [
    "**OOP**"
   ]
  },
  {
   "cell_type": "code",
   "execution_count": 4,
   "metadata": {},
   "outputs": [
    {
     "name": "stdout",
     "output_type": "stream",
     "text": [
      "Item 1\n",
      "Item 2\n",
      "Item 3\n",
      "Item 4\n"
     ]
    }
   ],
   "source": [
    "class PrintList:\n",
    "    \n",
    "    def __init__(self, numberlist):\n",
    "        self.numberlist = numberlist\n",
    "        \n",
    "    def print_list(self):\n",
    "        for item in self.numberlist:\n",
    "            print(\"Item {}\".format(item))\n",
    "            \n",
    "A = PrintList([1, 2, 3, 4])\n",
    "A.print_list()"
   ]
  },
  {
   "cell_type": "markdown",
   "metadata": {},
   "source": [
    "### All Python libraries work together\n",
    "\n",
    "<img src=\"figure/all-libraries.png\" width=500px height=500px align=left />"
   ]
  },
  {
   "cell_type": "markdown",
   "metadata": {},
   "source": [
    "### Creating functions\n",
    "\n",
    "Dalam latihan ini, kami akan meninjau functions, karena merupakan building blocks utama dari program berorientasi objek.\n",
    "\n",
    "Untuk ini, kita akan membuat functions `average_numbers()` untuk membuat rata-rata list angka. Ingat bahwa list adalah tipe data dasar dalam Python yang dapat kita bangun menggunakan notasi braket `[]`.\n",
    "\n",
    "Berikut adalah contoh fungsi yang mengembalikan kuadrat dari bilangan bulat:"
   ]
  },
  {
   "cell_type": "code",
   "execution_count": 6,
   "metadata": {},
   "outputs": [
    {
     "data": {
      "text/plain": [
       "16"
      ]
     },
     "execution_count": 6,
     "metadata": {},
     "output_type": "execute_result"
    }
   ],
   "source": [
    "# Mendifinisikan functions\n",
    "def square_function(x):\n",
    "    x_squared =  x**2\n",
    "    return x_squared\n",
    "\n",
    "# Memanggil functions\n",
    "square_function(4)"
   ]
  },
  {
   "cell_type": "code",
   "execution_count": 7,
   "metadata": {},
   "outputs": [
    {
     "name": "stdout",
     "output_type": "stream",
     "text": [
      "3.5\n"
     ]
    }
   ],
   "source": [
    "# Create function that returns the average of an integer list\n",
    "def average_numbers(num_list): \n",
    "    avg = sum(num_list)/float(len(num_list)) # divide by length of list\n",
    "    return avg\n",
    "\n",
    "# Take the average of a list: my_avg\n",
    "my_avg = average_numbers([1, 2, 3, 4, 5, 6])\n",
    "\n",
    "# Print out my_avg\n",
    "print(my_avg)"
   ]
  },
  {
   "cell_type": "markdown",
   "metadata": {},
   "source": [
    "**Catatan** : Sekarang Anda telah membuat suatu functions, cobalah bermain-main dengan menambahkan list Anda sendiri."
   ]
  },
  {
   "cell_type": "code",
   "execution_count": 9,
   "metadata": {},
   "outputs": [
    {
     "data": {
      "text/plain": [
       "3.75"
      ]
     },
     "execution_count": 9,
     "metadata": {},
     "output_type": "execute_result"
    }
   ],
   "source": [
    "average_numbers([4, 6, 3, 2])"
   ]
  },
  {
   "cell_type": "markdown",
   "metadata": {},
   "source": [
    "### Creating a complex data type\n",
    "\n",
    "Kita akan melihat lebih dekat pada fleksibilitas tipe data list, dengan membuat **list of lists**.\n",
    "\n",
    "Dalam Python, `list` dapat terdiri dari string sederhana, integer, atau kombinasi keduanya."
   ]
  },
  {
   "cell_type": "code",
   "execution_count": 11,
   "metadata": {},
   "outputs": [],
   "source": [
    "list = [1, 2]"
   ]
  },
  {
   "cell_type": "markdown",
   "metadata": {},
   "source": [
    "Dalam membuat list of lists, kami membangun konsep NumPy array."
   ]
  },
  {
   "cell_type": "code",
   "execution_count": 12,
   "metadata": {},
   "outputs": [
    {
     "name": "stdout",
     "output_type": "stream",
     "text": [
      "[[1, 2, 3, 4], [5, 6, 7, 8]]\n"
     ]
    }
   ],
   "source": [
    "# Create a list that contains two lists: matrix\n",
    "matrix = [[1,2,3,4], [5,6,7,8]]\n",
    "\n",
    "# Print the matrix list\n",
    "print(matrix)"
   ]
  },
  {
   "cell_type": "markdown",
   "metadata": {},
   "source": [
    "**Catatan** : Apa yang terjadi ketika Anda membuat dua lists dalam list? Bagaimana Anda bisa mengakses elemen-elemen itu? Coba buat list bersarang (*nested*) `tripply` dan temukan jawabannya."
   ]
  },
  {
   "cell_type": "code",
   "execution_count": 13,
   "metadata": {},
   "outputs": [],
   "source": [
    "tripply = [[5, 4, 3, 2], [3, 2, 1, 4], [6, 7, 4, 2]]"
   ]
  },
  {
   "cell_type": "code",
   "execution_count": 15,
   "metadata": {},
   "outputs": [
    {
     "data": {
      "text/plain": [
       "[3, 2, 1, 4]"
      ]
     },
     "execution_count": 15,
     "metadata": {},
     "output_type": "execute_result"
    }
   ],
   "source": [
    "tripply[1]"
   ]
  },
  {
   "cell_type": "code",
   "execution_count": 16,
   "metadata": {},
   "outputs": [
    {
     "data": {
      "text/plain": [
       "7"
      ]
     },
     "execution_count": 16,
     "metadata": {},
     "output_type": "execute_result"
    }
   ],
   "source": [
    "tripply[2][1]"
   ]
  },
  {
   "cell_type": "code",
   "execution_count": 18,
   "metadata": {},
   "outputs": [
    {
     "data": {
      "text/plain": [
       "[[5, 4, 3, 2], 'string di dalam list', [6, 7, 4, 2]]"
      ]
     },
     "execution_count": 18,
     "metadata": {},
     "output_type": "execute_result"
    }
   ],
   "source": [
    "tripply[1] = 'string di dalam list'\n",
    "tripply"
   ]
  },
  {
   "cell_type": "code",
   "execution_count": 19,
   "metadata": {},
   "outputs": [],
   "source": [
    "tripply.append(2.1)"
   ]
  },
  {
   "cell_type": "code",
   "execution_count": 20,
   "metadata": {},
   "outputs": [
    {
     "data": {
      "text/plain": [
       "[[5, 4, 3, 2], 'string di dalam list', [6, 7, 4, 2], 2.1]"
      ]
     },
     "execution_count": 20,
     "metadata": {},
     "output_type": "execute_result"
    }
   ],
   "source": [
    "tripply"
   ]
  },
  {
   "cell_type": "markdown",
   "metadata": {},
   "source": [
    "## Introduction to NumPy Internals"
   ]
  },
  {
   "cell_type": "markdown",
   "metadata": {},
   "source": [
    "### What's NumPy?\n",
    "\n",
    "NumPy adalah package untuk komputasi ilmiah dengan Python.\n",
    "\n",
    "* Menggunakan matriks dan vektor sebagai struktur data\n",
    "* Sempurna untuk ilmu data, di mana data diletakkan dalam format seperti tabel"
   ]
  },
  {
   "cell_type": "markdown",
   "metadata": {},
   "source": [
    "### NumPy as a building block to Pandas\n",
    "\n",
    "<img src=\"figure/pandas-series.png\" width=500px height=500px align=left />"
   ]
  },
  {
   "cell_type": "markdown",
   "metadata": {},
   "source": [
    "### Creating NumPy arrays\n",
    "\n",
    "<img src=\"figure/arrays.png\" width=500px height=500px align=left />"
   ]
  },
  {
   "cell_type": "markdown",
   "metadata": {},
   "source": [
    "### NumPy Array example"
   ]
  },
  {
   "cell_type": "code",
   "execution_count": 21,
   "metadata": {},
   "outputs": [
    {
     "name": "stdout",
     "output_type": "stream",
     "text": [
      "[2 3 4]\n"
     ]
    }
   ],
   "source": [
    "import numpy as np\n",
    "\n",
    "our_array = np.array([2,3,4])\n",
    "print(our_array)"
   ]
  },
  {
   "cell_type": "code",
   "execution_count": 22,
   "metadata": {},
   "outputs": [
    {
     "data": {
      "text/plain": [
       "numpy.ndarray"
      ]
     },
     "execution_count": 22,
     "metadata": {},
     "output_type": "execute_result"
    }
   ],
   "source": [
    "type(our_array)"
   ]
  },
  {
   "cell_type": "markdown",
   "metadata": {},
   "source": [
    "### Creating Multi-Dimensional Arrays"
   ]
  },
  {
   "cell_type": "code",
   "execution_count": 24,
   "metadata": {},
   "outputs": [
    {
     "data": {
      "text/plain": [
       "array([[ 0,  1,  2,  3,  4],\n",
       "       [ 5,  6,  7,  8,  9],\n",
       "       [10, 11, 12, 13, 14]])"
      ]
     },
     "execution_count": 24,
     "metadata": {},
     "output_type": "execute_result"
    }
   ],
   "source": [
    "np.array([[ 0, 1, 2, 3, 4],\n",
    "          [ 5, 6, 7, 8, 9],\n",
    "          [10, 11, 12, 13, 14]])"
   ]
  },
  {
   "cell_type": "code",
   "execution_count": 26,
   "metadata": {},
   "outputs": [
    {
     "data": {
      "text/plain": [
       "array([6, 7, 8])"
      ]
     },
     "execution_count": 26,
     "metadata": {},
     "output_type": "execute_result"
    }
   ],
   "source": [
    "np.array([6, 7, 8])"
   ]
  },
  {
   "cell_type": "markdown",
   "metadata": {},
   "source": [
    "### Create a function that returns a NumPy array\n",
    "\n",
    "Kami akan membuat NumPy array dari tipe data float (numerik) sehingga kami dapat bekerja dengan objects data multi-dimensi, seperti kolom dan baris dalam spreadsheet."
   ]
  },
  {
   "cell_type": "code",
   "execution_count": 27,
   "metadata": {},
   "outputs": [
    {
     "name": "stdout",
     "output_type": "stream",
     "text": [
      "[[1. 2. 3. 4.]\n",
      " [5. 6. 7. 8.]]\n"
     ]
    }
   ],
   "source": [
    "# List input: my_matrix\n",
    "my_matrix = [[1,2,3,4], [5,6,7,8]] \n",
    "\n",
    "# Function that converts lists to arrays: return_array\n",
    "def return_array(matrix):\n",
    "    array = np.array(matrix, dtype = float)\n",
    "    return array\n",
    "    \n",
    "# Call return_array on my_matrix, and print the output\n",
    "print(return_array(my_matrix))"
   ]
  },
  {
   "cell_type": "markdown",
   "metadata": {},
   "source": [
    "**Catatan** : Sekarang Anda telah membuat NumPy array, lihat dokumen NumPy (dengan googling) dan selidiki yang dapat diambil oleh array jenis data lainnya (sebagai argumen)."
   ]
  },
  {
   "cell_type": "markdown",
   "metadata": {},
   "source": [
    "## Introduction to Objects and Classes"
   ]
  },
  {
   "cell_type": "markdown",
   "metadata": {},
   "source": [
    "### What is a class?\n",
    "\n",
    "Potongan kode yang dapat digunakan kembali yang memiliki **methods dan variables**."
   ]
  },
  {
   "cell_type": "code",
   "execution_count": 28,
   "metadata": {},
   "outputs": [
    {
     "name": "stdout",
     "output_type": "stream",
     "text": [
      "Item 1\n",
      "Item 2\n",
      "Item 3\n",
      "Item 4\n"
     ]
    }
   ],
   "source": [
    "class PrintList:\n",
    "    \n",
    "    def __init__(self, numberlist):\n",
    "        self.numberlist = numberlist\n",
    "        \n",
    "    def print_list(self):\n",
    "        for item in self.numberlist:\n",
    "            print(\"Item {}\".format(item))\n",
    "            \n",
    "A = PrintList([1, 2, 3, 4])\n",
    "A.print_list()"
   ]
  },
  {
   "cell_type": "markdown",
   "metadata": {},
   "source": [
    "### OOP Vocabulary\n",
    "\n",
    "* Imperative\n",
    "  * Variable\n",
    "  * Function\n",
    "* OOP\n",
    "  * Attribute/Field\n",
    "  * Method"
   ]
  },
  {
   "cell_type": "markdown",
   "metadata": {},
   "source": [
    "### A Class is a template for an object\n",
    "\n",
    "**Class --> Object**"
   ]
  },
  {
   "cell_type": "markdown",
   "metadata": {},
   "source": [
    "### Declaring a Class\n",
    "\n",
    "Kita akan bekerja membangun class, yang merupakan cara untuk mengatur functions dan variables dengan Python. Untuk memulainya, mari kita lihat cara paling sederhana untuk membuat class."
   ]
  },
  {
   "cell_type": "code",
   "execution_count": 29,
   "metadata": {},
   "outputs": [],
   "source": [
    "# Declaring a Class\n",
    "class Dinosaur:\n",
    "    pass"
   ]
  },
  {
   "cell_type": "code",
   "execution_count": 30,
   "metadata": {},
   "outputs": [],
   "source": [
    "# Used in Python 3, with/without parentheses\n",
    "class Dinosaur():\n",
    "    pass\n",
    "\n",
    "# Used in Python 2\n",
    "class Dinosaur(object):\n",
    "    pass"
   ]
  },
  {
   "cell_type": "code",
   "execution_count": 31,
   "metadata": {},
   "outputs": [],
   "source": [
    "# An object is an instance of a class.\n",
    "Tyrannosaurus = Dinosaur()"
   ]
  },
  {
   "cell_type": "code",
   "execution_count": 32,
   "metadata": {},
   "outputs": [
    {
     "data": {
      "text/plain": [
       "<__main__.Dinosaur at 0x7fe284f4c630>"
      ]
     },
     "execution_count": 32,
     "metadata": {},
     "output_type": "execute_result"
    }
   ],
   "source": [
    "Tyrannosaurus"
   ]
  },
  {
   "cell_type": "code",
   "execution_count": 34,
   "metadata": {},
   "outputs": [],
   "source": [
    "# Create a class: DataShell\n",
    "class DataShell: \n",
    "    pass"
   ]
  },
  {
   "cell_type": "markdown",
   "metadata": {},
   "source": [
    "**Catatan** : Coba buat class yang berbeda dengan nama yang berbeda. Lihat konvensi penamaan seperti apa yang akan diterima Python."
   ]
  },
  {
   "cell_type": "code",
   "execution_count": 35,
   "metadata": {},
   "outputs": [],
   "source": [
    "class GoingToMarket:\n",
    "    pass"
   ]
  },
  {
   "cell_type": "code",
   "execution_count": 36,
   "metadata": {},
   "outputs": [],
   "source": [
    "class UploadData:\n",
    "    pass"
   ]
  },
  {
   "cell_type": "markdown",
   "metadata": {},
   "source": [
    "### Difference between a class and an object\n",
    "\n",
    "Objects adalah instance dari class, yang dapat memiliki variables dan functions. Bisa juga dikatakan sebagai template."
   ]
  },
  {
   "cell_type": "code",
   "execution_count": null,
   "metadata": {},
   "outputs": [],
   "source": []
  },
  {
   "cell_type": "code",
   "execution_count": null,
   "metadata": {},
   "outputs": [],
   "source": []
  }
 ],
 "metadata": {
  "kernelspec": {
   "display_name": "Python 3",
   "language": "python",
   "name": "python3"
  },
  "language_info": {
   "codemirror_mode": {
    "name": "ipython",
    "version": 3
   },
   "file_extension": ".py",
   "mimetype": "text/x-python",
   "name": "python",
   "nbconvert_exporter": "python",
   "pygments_lexer": "ipython3",
   "version": "3.7.3"
  }
 },
 "nbformat": 4,
 "nbformat_minor": 2
}
