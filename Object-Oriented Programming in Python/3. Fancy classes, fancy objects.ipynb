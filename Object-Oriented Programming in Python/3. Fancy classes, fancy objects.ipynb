{
 "cells": [
  {
   "cell_type": "markdown",
   "metadata": {},
   "source": [
    "# Fancy classes, fancy objects\n",
    "\n",
    "Kami membuat class yang lebih menarik dengan metode canggih seperti mengimpor dataset, mendapatkan statistik deskriptif, dan mengganti nama kolom. Juga, kami membahas praktik terbaik untuk membuat dan mendokumentasikan class sesuai dengan PEP-8."
   ]
  },
  {
   "cell_type": "markdown",
   "metadata": {},
   "source": [
    "## Working with a DataSet to Create DataFrames"
   ]
  },
  {
   "cell_type": "markdown",
   "metadata": {},
   "source": [
    "### Return Statement I\n",
    "\n",
    "Sekarang mari kita telusuri pernyataan `return`."
   ]
  },
  {
   "cell_type": "code",
   "execution_count": 1,
   "metadata": {},
   "outputs": [],
   "source": [
    "class DataShell:\n",
    "    def __init__(self, x):\n",
    "        return x"
   ]
  },
  {
   "cell_type": "markdown",
   "metadata": {},
   "source": [
    "Dalam potongan kode di atas, Anda mungkin diharapkan melihat function `print()` alih-alih pernyataan `return`. Perbedaan antara keduanya adalah bahwa `print()` mengeluarkan string ke konsol, sedangkan pernyataan return keluar dari function saat ini (atau method) dan menyerahkan nilai yang dikembalikan ke pemanggilnya. Dalam hal ini, pemanggil dapat memiliki function lain, antara lain. Jika ini terdengar membingungkan, jangan takut, kami akan terus berlatih!"
   ]
  },
  {
   "cell_type": "markdown",
   "metadata": {},
   "source": [
    "### Return Statement II: The Return of the DataShell\n",
    "\n",
    "Sekarang mari kita kembali ke class `DataShell` yang telah kita kerjakan sebelumnya, dan refactor sedemikian rupa sehingga ia menggunakan pernyataan `return` alih-alih function `print()`.\n",
    "\n",
    "Perhatikan bahwa karena kita sekarang menggunakan pernyataan `return`, kita perlu memasukkan pemanggilan ke method object dalam function `print()`."
   ]
  },
  {
   "cell_type": "code",
   "execution_count": 5,
   "metadata": {},
   "outputs": [
    {
     "name": "stdout",
     "output_type": "stream",
     "text": [
      "[1, 2, 3, 4, 5, 6, 7, 8, 9, 10]\n",
      "5.5\n"
     ]
    }
   ],
   "source": [
    "# Create class: DataShell\n",
    "class DataShell:\n",
    "  \n",
    "    # Initialize class with self and dataList as arguments\n",
    "    def __init__(self, dataList):\n",
    "        # Set data as instance variable, and assign it the value of dataList\n",
    "        self.data = dataList\n",
    "        \n",
    "    # Define method that returns data: show\n",
    "    def show(self):\n",
    "        return self.data\n",
    "        \n",
    "    # Define method that prints average of data: avg \n",
    "    def avg(self):\n",
    "        # Declare avg and assign it the average of data\n",
    "        avg = sum(self.data)/float(len(self.data))\n",
    "        # Return avg\n",
    "        return avg\n",
    "\n",
    "# List    \n",
    "integer_list = [1, 2, 3, 4, 5, 6, 7, 8, 9, 10]\n",
    "\n",
    "# Instantiate DataShell taking integer_list as argument: my_data_shell\n",
    "my_data_shell = DataShell(integer_list)\n",
    "\n",
    "# Print output of your object's show method\n",
    "print(my_data_shell.show())\n",
    "\n",
    "# Print output of your object's avg method\n",
    "print(my_data_shell.avg())"
   ]
  },
  {
   "cell_type": "markdown",
   "metadata": {},
   "source": [
    "**Catatan** : Kita melihat pernyataan `return` sebelumnya dalam latihan function, pernyataan `return` sangat berguna saat menulis method untuk class dan method. Anggap saja sebagai cara untuk memungkinkan object berbicara dengan object lain, karena mereka dapat mengembalikan informasi yang berguna ketika dipanggil."
   ]
  },
  {
   "cell_type": "markdown",
   "metadata": {},
   "source": [
    "### Return Statement III: A More Powerful DataShell\n",
    "\n",
    "Dalam latihan ini, class `DataShell` akan berevolusi dari hanya mengonsumsi list menjadi mengonsumsi file CSV sehingga dapat melakukan hal-hal yang lebih canggih.\n",
    "\n",
    "Untuk itu, kita akan menggunakan pernyataan `return` sekali lagi."
   ]
  },
  {
   "cell_type": "code",
   "execution_count": 6,
   "metadata": {},
   "outputs": [],
   "source": [
    "us_life_expectancy = 'datasets/us_life_expectancy.csv'"
   ]
  },
  {
   "cell_type": "code",
   "execution_count": 7,
   "metadata": {},
   "outputs": [
    {
     "name": "stdout",
     "output_type": "stream",
     "text": [
      "           country code  year  life_expectancy\n",
      "0    United States  USA  1880        39.410000\n",
      "1    United States  USA  1890        45.209999\n",
      "2    United States  USA  1901        49.299999\n",
      "3    United States  USA  1902        50.500000\n",
      "4    United States  USA  1903        50.599998\n",
      "..             ...  ...   ...              ...\n",
      "112  United States  USA  2011        78.681999\n",
      "113  United States  USA  2012        78.820999\n",
      "114  United States  USA  2013        78.959999\n",
      "115  United States  USA  2014        79.099998\n",
      "116  United States  USA  2015        79.244003\n",
      "\n",
      "[117 rows x 4 columns]\n"
     ]
    }
   ],
   "source": [
    "# Load numpy as np and pandas as pd\n",
    "import numpy as np\n",
    "import pandas as pd\n",
    "\n",
    "# Create class: DataShell\n",
    "class DataShell:\n",
    "  \n",
    "    # Initialize class with self and inputFile\n",
    "    def __init__(self, inputFile):\n",
    "        self.file = inputFile\n",
    "        \n",
    "    # Define generate_csv method, with self argument\n",
    "    def generate_csv(self):\n",
    "        self.data_as_csv = pd.read_csv(self.file)\n",
    "        return self.data_as_csv\n",
    "\n",
    "# Instantiate DataShell with us_life_expectancy as input argument\n",
    "data_shell = DataShell(us_life_expectancy)\n",
    "\n",
    "# Call data_shell's generate_csv method, assign it to df\n",
    "df = data_shell.generate_csv()\n",
    "\n",
    "# Print df\n",
    "print(df)"
   ]
  },
  {
   "cell_type": "markdown",
   "metadata": {},
   "source": [
    "**Catatan** : Sekarang Anda mulai membangun class dengan functionality yang lebih canggih!"
   ]
  },
  {
   "cell_type": "markdown",
   "metadata": {},
   "source": [
    "## Renaming Columns and the Five-Figure Summary"
   ]
  },
  {
   "cell_type": "markdown",
   "metadata": {},
   "source": [
    "### Data as Attributes\n",
    "\n",
    "Dalam latihan pengkodean sebelumnya, Anda menulis method di dalam class `DataShell` Anda yang mengembalikan DataFrame Pandas.\n",
    "\n",
    "Di sini, kita akan menempatkan data ke dalam class kita, sebagai instance variable. Ini agar kita dapat melakukan hal-hal bagus nanti, seperti mengganti nama kolom, serta mendapatkan statistik deskriptif."
   ]
  },
  {
   "cell_type": "code",
   "execution_count": 11,
   "metadata": {},
   "outputs": [
    {
     "name": "stdout",
     "output_type": "stream",
     "text": [
      "           country code  year  life_expectancy\n",
      "0    United States  USA  1880        39.410000\n",
      "1    United States  USA  1890        45.209999\n",
      "2    United States  USA  1901        49.299999\n",
      "3    United States  USA  1902        50.500000\n",
      "4    United States  USA  1903        50.599998\n",
      "..             ...  ...   ...              ...\n",
      "112  United States  USA  2011        78.681999\n",
      "113  United States  USA  2012        78.820999\n",
      "114  United States  USA  2013        78.959999\n",
      "115  United States  USA  2014        79.099998\n",
      "116  United States  USA  2015        79.244003\n",
      "\n",
      "[117 rows x 4 columns]\n"
     ]
    }
   ],
   "source": [
    "# Import numpy as np, pandas as pd\n",
    "import numpy as np\n",
    "import pandas as pd\n",
    "\n",
    "# Create class: DataShell\n",
    "class DataShell:\n",
    "  \n",
    "    # Define initialization method\n",
    "    def __init__(self, filepath):\n",
    "        # Set filepath as instance variable  \n",
    "        self.filepath = filepath\n",
    "        # Set data_as_csv as instance variable\n",
    "        self.data_as_csv = pd.read_csv(filepath)\n",
    "\n",
    "# Instantiate DataShell as us_data_shell\n",
    "us_data_shell = DataShell(us_life_expectancy)\n",
    "\n",
    "# Print your object's data_as_csv attribute\n",
    "print(us_data_shell.data_as_csv)"
   ]
  },
  {
   "cell_type": "markdown",
   "metadata": {},
   "source": [
    "**Catatan** : Sekarang class Anda memiliki kemampuan menyimpan data sebagai instance variable, yang berarti Anda dapat menjalankan method pada mereka!"
   ]
  },
  {
   "cell_type": "markdown",
   "metadata": {},
   "source": [
    "### Renaming Columns\n",
    "\n",
    "Methods dapat sangat berguna untuk memanipulasi data object mereka. Dalam latihan ini, kami akan membuat method di dalam class `DataShell`, sehingga kita dapat mengganti nama kolom data kita."
   ]
  },
  {
   "cell_type": "code",
   "execution_count": 15,
   "metadata": {},
   "outputs": [
    {
     "name": "stdout",
     "output_type": "stream",
     "text": [
      "country             object\n",
      "code                object\n",
      "year                 int64\n",
      "life_expectancy    float64\n",
      "dtype: object\n",
      "country             object\n",
      "country_code        object\n",
      "year                 int64\n",
      "life_expectancy    float64\n",
      "dtype: object\n"
     ]
    }
   ],
   "source": [
    "# Create class DataShell\n",
    "class DataShell:\n",
    "  \n",
    "    # Define initialization method\n",
    "    def __init__(self, filepath):\n",
    "        self.filepath = filepath\n",
    "        self.data_as_csv = pd.read_csv(filepath)\n",
    "    \n",
    "    # Define method rename_column, with arguments self, column_name, and new_column_name\n",
    "    def rename_column(self, column_name, new_column_name):\n",
    "        self.data_as_csv.columns = self.data_as_csv.columns.str.replace(column_name, new_column_name)\n",
    "\n",
    "# Instantiate DataShell as us_data_shell with argument us_life_expectancy\n",
    "us_data_shell = DataShell(us_life_expectancy)\n",
    "\n",
    "# Print the datatype of your object's data_as_csv attribute\n",
    "print(us_data_shell.data_as_csv.dtypes)\n",
    "\n",
    "# Rename your objects column 'code' to 'country_code'\n",
    "us_data_shell.rename_column('code', 'country_code')\n",
    "\n",
    "# Again, print the datatype of your object's data_as_csv attribute\n",
    "print(us_data_shell.data_as_csv.dtypes)"
   ]
  },
  {
   "cell_type": "markdown",
   "metadata": {},
   "source": [
    "**Catatan** : Sekarang Anda dapat menggunakan objects method Anda untuk mengubah datanya. Dengan cara apa lagi Anda dapat memodifikasi data object Anda?"
   ]
  },
  {
   "cell_type": "markdown",
   "metadata": {},
   "source": [
    "### Self-Describing DataShells\n",
    "\n",
    "Dalam latihan ini Anda akan menambahkan fungsionalitas ke class `DataShell` Anda sehingga mengembalikan informasi tentang dirinya sendiri."
   ]
  },
  {
   "cell_type": "code",
   "execution_count": 16,
   "metadata": {},
   "outputs": [
    {
     "name": "stdout",
     "output_type": "stream",
     "text": [
      "              year  life_expectancy\n",
      "count   117.000000       117.000000\n",
      "mean   1956.752137        66.556684\n",
      "std      34.398252         9.551079\n",
      "min    1880.000000        39.410000\n",
      "25%    1928.000000        58.500000\n",
      "50%    1957.000000        69.599998\n",
      "75%    1986.000000        74.772003\n",
      "max    2015.000000        79.244003\n"
     ]
    }
   ],
   "source": [
    "# Create class DataShell\n",
    "class DataShell:\n",
    "\n",
    "    # Define initialization method\n",
    "    def __init__(self, filepath):\n",
    "        self.filepath = filepath\n",
    "        self.data_as_csv = pd.read_csv(filepath)\n",
    "\n",
    "    # Define method rename_column, with arguments self, column_name, and new_column_name\n",
    "    def rename_column(self, column_name, new_column_name):\n",
    "        self.data_as_csv.columns = self.data_as_csv.columns.str.replace(column_name, new_column_name)\n",
    "        \n",
    "    # Define get_stats method, with argument self\n",
    "    def get_stats(self):\n",
    "        # Return a description data_as_csv\n",
    "        return self.data_as_csv.describe()\n",
    "    \n",
    "# Instantiate DataShell as us_data_shell\n",
    "us_data_shell = DataShell(us_life_expectancy)\n",
    "\n",
    "# Print the output of your objects get_stats method\n",
    "print(us_data_shell.get_stats())"
   ]
  },
  {
   "cell_type": "markdown",
   "metadata": {},
   "source": [
    "**Catatan** : Tidak hanya `DataShell` class Anda menyimpan data, itu juga dapat memodifikasinya, dan menghasilkan informasi tentang itu! Jenis data apa lagi yang bisa Anda simpan? Dan prosedur apa lagi yang bisa Anda lakukan pada data seperti itu?"
   ]
  },
  {
   "cell_type": "markdown",
   "metadata": {},
   "source": [
    "## OOP Best Practices"
   ]
  },
  {
   "cell_type": "markdown",
   "metadata": {},
   "source": [
    "### Reading Other People's Code\n",
    "\n",
    "1. Lihat Kode GitHub.\n",
    "2. Lihat contoh kode Python yang bagus\n",
    "3. Baca codebase."
   ]
  },
  {
   "cell_type": "markdown",
   "metadata": {},
   "source": [
    "### Spark Class: The Class"
   ]
  },
  {
   "cell_type": "code",
   "execution_count": 23,
   "metadata": {},
   "outputs": [],
   "source": [
    "class DataFrame(object):\n",
    "    \"\"\"A distributed collection of data grouped into named columns.\n",
    "    A :class:`DataFrame` is equivalent to a relational table in Spark SQL,\n",
    "    and can be created using various functions in :class:`SparkSession`::\n",
    "        people = spark.read.parquet(\"...\")\n",
    "    Once created, it can be manipulated using the various domain-specific-language\n",
    "    (DSL) functions defined in: :class:`DataFrame`, :class:`Column`.\n",
    "    To select a column from the data frame, use the apply method::\n",
    "        ageCol = people.age\n",
    "    A more concrete example::\n",
    "        # To create DataFrame using SparkSession\n",
    "        people = spark.read.parquet(\"...\")\n",
    "        department = spark.read.parquet(\"...\")\n",
    "        people.filter(people.age > 30)\n",
    "        .join(department, people.deptId == department.id) \\\\\n",
    "            .groupBy(department.name, \"gender\")\n",
    "            .agg({\"salary\": \"avg\", \"age\": \"max\"})\n",
    "    .. versionadded:: 1.3\n",
    "    \"\"\""
   ]
  },
  {
   "cell_type": "markdown",
   "metadata": {},
   "source": [
    "### Spark Class: The Constructor"
   ]
  },
  {
   "cell_type": "code",
   "execution_count": 24,
   "metadata": {},
   "outputs": [],
   "source": [
    "def __init__(self, jdf, sql_ctx):\n",
    "    self._jdf = jdf\n",
    "    self.sql_ctx = sql_ctx\n",
    "    self._sc = sql_ctx and sql_ctx._sc\n",
    "    self.is_cached = False\n",
    "    self._schema = None # initialized lazily\n",
    "    self._lazy_rdd = None\n",
    "    # Check whether _repr_html is supported or not, we use it to avoid calling _\n",
    "    # by __repr__ and _repr_html_ while eager evaluation opened.\n",
    "    self._support_repr_html = False"
   ]
  },
  {
   "cell_type": "markdown",
   "metadata": {},
   "source": [
    "### Spark Class: A Method"
   ]
  },
  {
   "cell_type": "code",
   "execution_count": 25,
   "metadata": {},
   "outputs": [],
   "source": [
    "def printSchema(self):\n",
    "    \"\"\"Prints out the schema in the tree format.\n",
    "    >>> df.printSchema()\n",
    "    root\n",
    "    |-- age: integer (nullable = true)\n",
    "    |-- name: string (nullable = true)\n",
    "    <BLANKLINE>\n",
    "    \"\"\"\n",
    "    print(self._jdf.schema().treeString())"
   ]
  },
  {
   "cell_type": "markdown",
   "metadata": {},
   "source": [
    "### PEP Style\n",
    "\n",
    "* https://www.python.org/dev/peps/pep-0008"
   ]
  },
  {
   "cell_type": "markdown",
   "metadata": {},
   "source": [
    "### Separations of Concerns\n",
    "\n",
    "<img src=\"figure/separations.png\" width=500px height=500px align=left />"
   ]
  },
  {
   "cell_type": "markdown",
   "metadata": {},
   "source": [
    "### Naming classes\n",
    "\n",
    "Apa praktik terbaik, menurut [PEP-8](https://www.python.org/dev/peps/pep-0008/#class-names), untuk memberi nama class?\n",
    "\n",
    "* `CamelCase` adalah praktik terbaik untuk class yang mudah dibaca."
   ]
  },
  {
   "cell_type": "markdown",
   "metadata": {},
   "source": [
    "### Got Characters?\n",
    "\n",
    "Menurut [PEP-8](https://www.python.org/dev/peps/pep-0008/#maximum-line-length), berapakah jumlah karakter maksimum per baris kode?\n",
    "\n",
    "* PEP-8 merekomendasikan maksimal **79** karakter per baris kode!"
   ]
  },
  {
   "cell_type": "markdown",
   "metadata": {},
   "source": [
    "### Class mana yang memiliki docstrings yang sesuai?\n",
    "\n",
    "❌ **Option A:**"
   ]
  },
  {
   "cell_type": "code",
   "execution_count": null,
   "metadata": {},
   "outputs": [],
   "source": [
    "class DataShell:\n",
    "\n",
    "    A simple class that brings a csv object in-memory as a \n",
    "    numpy matrix so you can perform operations on it.\n",
    "\n",
    "    def __init__(self, filename):\n",
    "        self.filename = filename"
   ]
  },
  {
   "cell_type": "markdown",
   "metadata": {},
   "source": [
    "✅ **Option B:**"
   ]
  },
  {
   "cell_type": "code",
   "execution_count": null,
   "metadata": {},
   "outputs": [],
   "source": [
    "class DataShell:\n",
    "    \"\"\"\n",
    "    A simple class that brings a csv object in-memory as a \n",
    "    numpy matrix so you can perform operations on it.\n",
    "    \"\"\"\n",
    "    def __init__(self, filename):\n",
    "        self.filename = filename"
   ]
  },
  {
   "cell_type": "markdown",
   "metadata": {},
   "source": [
    "❌ **Option C:**"
   ]
  },
  {
   "cell_type": "code",
   "execution_count": null,
   "metadata": {},
   "outputs": [],
   "source": [
    "class DataShell:\n",
    "    # A simple class that brings a csv object in-memory as a numpy matrix so you can perform operations on it.\n",
    "    def __init__(self, filename):\n",
    "        self.filename = filename"
   ]
  },
  {
   "cell_type": "code",
   "execution_count": null,
   "metadata": {},
   "outputs": [],
   "source": []
  },
  {
   "cell_type": "code",
   "execution_count": null,
   "metadata": {},
   "outputs": [],
   "source": []
  }
 ],
 "metadata": {
  "kernelspec": {
   "display_name": "Python 3",
   "language": "python",
   "name": "python3"
  },
  "language_info": {
   "codemirror_mode": {
    "name": "ipython",
    "version": 3
   },
   "file_extension": ".py",
   "mimetype": "text/x-python",
   "name": "python",
   "nbconvert_exporter": "python",
   "pygments_lexer": "ipython3",
   "version": "3.7.3"
  }
 },
 "nbformat": 4,
 "nbformat_minor": 2
}
