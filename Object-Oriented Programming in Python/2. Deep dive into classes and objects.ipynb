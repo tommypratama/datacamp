{
 "cells": [
  {
   "cell_type": "markdown",
   "metadata": {},
   "source": [
    "# Deep dive into classes and objects\n",
    "\n",
    "Di sini, kita menyelami lebih dalam ke internal classes, instantiasi objects, metode inisialisasi, variabel instan, variabel class, variabel class utama, dan metode."
   ]
  },
  {
   "cell_type": "markdown",
   "metadata": {},
   "source": [
    "## Deep-Dive on Classes"
   ]
  },
  {
   "cell_type": "markdown",
   "metadata": {},
   "source": [
    "### Full Class"
   ]
  },
  {
   "cell_type": "code",
   "execution_count": 7,
   "metadata": {},
   "outputs": [],
   "source": [
    "class DataShell:\n",
    "\n",
    "    #constructor\n",
    "    def __init__(self, filename):\n",
    "        self.filename = filename\n",
    "    \n",
    "    def create_datashell(self):\n",
    "        self.array = np.genfromtxt(self.filename, delimiter=',', dtype=None)\n",
    "        return self.array\n",
    "\n",
    "    def rename_column(self, old_colname, new_colname):\n",
    "        for index, value in enumerate(self.array[0]):\n",
    "            if value == old_colname.encode('UTF-8'):\n",
    "                self.array[0][index] = new_colname\n",
    "        return self.array\n",
    "\n",
    "    def show_shell(self):\n",
    "        print(self.array)\n",
    "    \n",
    "    def five_figure_summary(self, col_pos):\n",
    "        statistics = stats.describe(self.array[1:,col_pos].astype(np.float))\n",
    "        return f\"Five-figure stats of column {col_position}: {statistics}\""
   ]
  },
  {
   "cell_type": "markdown",
   "metadata": {},
   "source": [
    "### Creating a New Class"
   ]
  },
  {
   "cell_type": "code",
   "execution_count": 8,
   "metadata": {},
   "outputs": [],
   "source": [
    "class DataShell:\n",
    "    pass"
   ]
  },
  {
   "cell_type": "markdown",
   "metadata": {},
   "source": [
    "### Parts of a Class in Detail"
   ]
  },
  {
   "cell_type": "code",
   "execution_count": 10,
   "metadata": {},
   "outputs": [],
   "source": [
    "class DataShell:\n",
    "    \n",
    "    # constructor\n",
    "    def __init__(self, filename):\n",
    "        self.filename = filename # attribute\n",
    "        \n",
    "    # method\n",
    "    def create_datashell(self):\n",
    "        self.array = np.genfromtxt(self.filename, delimiter=',', dtype=None)\n",
    "        return self.array\n",
    "    \n",
    "    # method\n",
    "    def rename_column(self, old_colname, new_colname):\n",
    "        \n",
    "        for index, value in enumerate(self.array[0]):\n",
    "            if value == old_colname.encode('UTF-8'):\n",
    "                self.array[0][index] = new_colname\n",
    "            \n",
    "        return self.array"
   ]
  },
  {
   "cell_type": "markdown",
   "metadata": {},
   "source": [
    "### How to Call the Class\n",
    "\n",
    "```python\n",
    "class DataShell():\n",
    "    # some methods and attributes here\n",
    "```"
   ]
  },
  {
   "cell_type": "code",
   "execution_count": 11,
   "metadata": {},
   "outputs": [],
   "source": [
    "ourDataShell = DataShell('datasets/mtcars.csv')"
   ]
  },
  {
   "cell_type": "code",
   "execution_count": 14,
   "metadata": {},
   "outputs": [
    {
     "data": {
      "text/plain": [
       "<__main__.DataShell at 0x7f0a545d6860>"
      ]
     },
     "execution_count": 14,
     "metadata": {},
     "output_type": "execute_result"
    }
   ],
   "source": [
    "ourDataShell"
   ]
  },
  {
   "cell_type": "markdown",
   "metadata": {},
   "source": [
    "### Object: Instance of a Class\n",
    "\n",
    "Seperti yang kita pelajari sebelumnya, class seperti cetak biru: kita bisa membuat banyak salinan class.\n",
    "\n",
    "Ketika kita melakukan ini, kita mengatakan bahwa kita sedang membuat class. Instances ini disebut objects.\n",
    "\n",
    "Berikut adalah contoh instantiasi class:\n",
    "\n",
    "```python\n",
    "object_name = ClassName()\n",
    "```"
   ]
  },
  {
   "cell_type": "code",
   "execution_count": 15,
   "metadata": {},
   "outputs": [
    {
     "name": "stdout",
     "output_type": "stream",
     "text": [
      "<__main__.DataShell object at 0x7f0a545d6e80>\n"
     ]
    }
   ],
   "source": [
    "# Create empty class: DataShell\n",
    "class DataShell:\n",
    "  \n",
    "    # Pass statement\n",
    "    pass\n",
    "\n",
    "# Instantiate DataShell: my_data_shell\n",
    "my_data_shell = DataShell()\n",
    "\n",
    "# Print my_data_shell\n",
    "print(my_data_shell)"
   ]
  },
  {
   "cell_type": "markdown",
   "metadata": {},
   "source": [
    "**Catatan** : Sekarang Anda telah membuat instance class `DataShell`. Coba buat instance tambahan dengan nama berbeda!"
   ]
  },
  {
   "cell_type": "markdown",
   "metadata": {},
   "source": [
    "## Initializing a Class and Self"
   ]
  },
  {
   "cell_type": "markdown",
   "metadata": {},
   "source": [
    "### Understanding Constructors with Init"
   ]
  },
  {
   "cell_type": "code",
   "execution_count": 16,
   "metadata": {},
   "outputs": [],
   "source": [
    "# Empty Constructor\n",
    "class Dinosaur:\n",
    "    def __init__(self):\n",
    "        pass"
   ]
  },
  {
   "cell_type": "code",
   "execution_count": 17,
   "metadata": {},
   "outputs": [],
   "source": [
    "# Constructor with Attributes\n",
    "class Dinosaur:\n",
    "    def __init__(self):\n",
    "        self.tail = 'Yes'"
   ]
  },
  {
   "cell_type": "markdown",
   "metadata": {},
   "source": [
    "### Init and Our DataShell\n",
    "\n",
    "```python\n",
    "# Modeled on Pandas read_csv\n",
    "pandas.read_csv('mtcars.csv')\n",
    "```"
   ]
  },
  {
   "cell_type": "code",
   "execution_count": 19,
   "metadata": {},
   "outputs": [],
   "source": [
    "# Creating the DataShell with a Constructor\n",
    "class DataShell:\n",
    "    def __init__(self, filename):\n",
    "        self.filename = filename"
   ]
  },
  {
   "cell_type": "markdown",
   "metadata": {},
   "source": [
    "### Understanding Self\n",
    "\n",
    "```python\n",
    "# Initializing the Car DataShell\n",
    "CarDataShell = DataShell('mtcars.csv')\n",
    "\n",
    "    def __init__(CarDataShell, 'mtcars.csv'):\n",
    "        self.filename = filename\n",
    "```\n",
    "\n",
    "```python\n",
    "# Initializing the ForestFire DataShell\n",
    "ForestFireDataShell = DataShell('forestfires.csv')\n",
    "\n",
    "    def __init__(ForestFireDataShell, 'forestfires.csv'):\n",
    "        self.filename = filename\n",
    "```"
   ]
  },
  {
   "cell_type": "markdown",
   "metadata": {},
   "source": [
    "### Self is not a Python keyword but we use it like one"
   ]
  },
  {
   "cell_type": "code",
   "execution_count": 22,
   "metadata": {},
   "outputs": [
    {
     "name": "stdout",
     "output_type": "stream",
     "text": [
      "['False', 'None', 'True', 'and', 'as', 'assert', 'async', 'await', 'break', 'class', 'continue', 'def', 'del', 'elif', 'else', 'except', 'finally', 'for', 'from', 'global', 'if', 'import', 'in', 'is', 'lambda', 'nonlocal', 'not', 'or', 'pass', 'raise', 'return', 'try', 'while', 'with', 'yield']\n"
     ]
    }
   ],
   "source": [
    "# Printing out the keyword list\n",
    "import keyword\n",
    "\n",
    "print(keyword.kwlist)"
   ]
  },
  {
   "cell_type": "markdown",
   "metadata": {},
   "source": [
    "### The Init Method\n",
    "\n",
    "Sekarang saatnya menjelajahi special `__init__` method!\n",
    "\n",
    "`__init__` adalah metode inisialisasi yang digunakan untuk membuat instance class dengan cara kustom. Dalam latihan ini kami hanya akan memperkenalkan pemanfaatan metode, dan yang berikutnya kami akan melakukan hal-hal yang lebih bagus."
   ]
  },
  {
   "cell_type": "code",
   "execution_count": 23,
   "metadata": {},
   "outputs": [
    {
     "name": "stdout",
     "output_type": "stream",
     "text": [
      "<__main__.DataShell object at 0x7f0a46059940>\n"
     ]
    }
   ],
   "source": [
    "# Create class: DataShell\n",
    "class DataShell:\n",
    "  \n",
    "    # Initialize class with self argument\n",
    "    def __init__(self):\n",
    "      \n",
    "        # Pass statement\n",
    "        pass\n",
    "\n",
    "# Instantiate DataShell: my_data_shell\n",
    "my_data_shell = DataShell()\n",
    "\n",
    "# Print my_data_shell\n",
    "print(my_data_shell)"
   ]
  },
  {
   "cell_type": "markdown",
   "metadata": {},
   "source": [
    "**Catatan** : Sekarang Anda tahu tentang method inisialisasi (`__init__()`)! Perhatikan bahwa method ini menerima argumen input kata kunci `self`. Bisakah kita memasukkan argumen lain?"
   ]
  },
  {
   "cell_type": "code",
   "execution_count": 25,
   "metadata": {},
   "outputs": [
    {
     "name": "stdout",
     "output_type": "stream",
     "text": [
      "<__main__.UploadData object at 0x7f0a45e24c50>\n"
     ]
    }
   ],
   "source": [
    "class UploadData:\n",
    "    \n",
    "    def __init__(data):\n",
    "        \n",
    "        pass\n",
    "    \n",
    "my_data_upload = UploadData()\n",
    "print(my_data_upload)"
   ]
  },
  {
   "cell_type": "markdown",
   "metadata": {},
   "source": [
    "### Instance Variables\n",
    "\n",
    "Class instances berguna karena kita dapat menyimpan nilai di dalamnya pada saat instantiasi. Kami menyimpan nilai-nilai ini dalam **instance variables**. Ini berarti bahwa kita dapat memiliki banyak instance dari class yang sama yang variable instance nya memiliki nilai yang berbeda!"
   ]
  },
  {
   "cell_type": "code",
   "execution_count": 26,
   "metadata": {},
   "outputs": [
    {
     "name": "stdout",
     "output_type": "stream",
     "text": [
      "10\n"
     ]
    }
   ],
   "source": [
    "# Create class: DataShell\n",
    "class DataShell:\n",
    "  \n",
    "    # Initialize class with self and integerInput arguments\n",
    "    def __init__(self, integerInput):\n",
    "      \n",
    "        # Set data as instance variable, and assign the value of integerInput\n",
    "        self.data = integerInput\n",
    "\n",
    "# Declare variable x with value of 10\n",
    "x = 10     \n",
    "\n",
    "# Instantiate DataShell passing x as argument: my_data_shell\n",
    "my_data_shell = DataShell(x)\n",
    "\n",
    "# Print my_data_shell\n",
    "print(my_data_shell.data)"
   ]
  },
  {
   "cell_type": "markdown",
   "metadata": {},
   "source": [
    "**Catatan** : Kerja bagus mendeklarasikan instance variables! Perhatikan bahwa instance variables tinggal di tubuh initialization method, karena mereka diinisialisasi ketika object dipakai (*instantiate*). Juga penting untuk memperhatikan bahwa mereka didahului oleh `self`., Karena ini merujuk pada instance itu sendiri."
   ]
  },
  {
   "cell_type": "markdown",
   "metadata": {},
   "source": [
    "### Multiple Instance Variables\n",
    "\n",
    "Kita tidak terbatas untuk mendeklarasikan hanya satu instance variable; sebenarnya, kita bisa mendeklarasikan banyak!\n",
    "\n",
    "Dalam latihan ini kita akan mendeklarasikan dua instance variable: `identifier` dan `data`. Nilai-nilainya akan ditentukan oleh nilai yang diteruskan ke *initialization method*, seperti sebelumnya."
   ]
  },
  {
   "cell_type": "code",
   "execution_count": 27,
   "metadata": {},
   "outputs": [
    {
     "name": "stdout",
     "output_type": "stream",
     "text": [
      "100\n",
      "[1, 2, 3, 4, 5]\n"
     ]
    }
   ],
   "source": [
    "# Create class: DataShell\n",
    "class DataShell:\n",
    "  \n",
    "    # Initialize class with self, identifier and data arguments\n",
    "    def __init__(self, identifier, data):\n",
    "      \n",
    "        # Set identifier and data as instance variables, assigning value of input arguments\n",
    "        self.identifier = identifier\n",
    "        self.data = data\n",
    "\n",
    "# Declare variable x with value of 100, and y with list of integers from 1 to 5\n",
    "x = 100\n",
    "y = [1, 2, 3, 4, 5]\n",
    "\n",
    "# Instantiate DataShell passing x and y as arguments: my_data_shell\n",
    "my_data_shell = DataShell(x, y)\n",
    "\n",
    "# Print my_data_shell.identifier\n",
    "print(my_data_shell.identifier)\n",
    "\n",
    "# Print my_data_shell.data\n",
    "print(my_data_shell.data)"
   ]
  },
  {
   "cell_type": "markdown",
   "metadata": {},
   "source": [
    "**Catatan** : Seperti yang Anda lihat dalam latihan ini, Anda dapat mendeklarasikan lebih dari satu instance variable! instance variables apa yang dapat Anda pikirkan yang mungkin berguna untuk dimiliki di class `DataShell`?"
   ]
  },
  {
   "cell_type": "markdown",
   "metadata": {},
   "source": [
    "## More on Self and Passing in Variables\n"
   ]
  },
  {
   "cell_type": "markdown",
   "metadata": {},
   "source": [
    "### Class Variables"
   ]
  },
  {
   "cell_type": "code",
   "execution_count": 34,
   "metadata": {},
   "outputs": [],
   "source": [
    "# Our Dinosaur Class\n",
    "class Dinosaur():\n",
    "    eyes = 2\n",
    "    def __init__(self, teeth):\n",
    "        self.teeth = teeth"
   ]
  },
  {
   "cell_type": "code",
   "execution_count": 38,
   "metadata": {},
   "outputs": [],
   "source": [
    "# Building a Stegosaurus\n",
    "Stegosaurus = Dinosaur(40)"
   ]
  },
  {
   "cell_type": "code",
   "execution_count": 39,
   "metadata": {},
   "outputs": [
    {
     "ename": "SyntaxError",
     "evalue": "can't assign to function call (<ipython-input-39-53cd7ac27fb9>, line 1)",
     "output_type": "error",
     "traceback": [
      "\u001b[0;36m  File \u001b[0;32m\"<ipython-input-39-53cd7ac27fb9>\"\u001b[0;36m, line \u001b[0;32m1\u001b[0m\n\u001b[0;31m    Stegosaurus.teeth() = 40\u001b[0m\n\u001b[0m                            ^\u001b[0m\n\u001b[0;31mSyntaxError\u001b[0m\u001b[0;31m:\u001b[0m can't assign to function call\n"
     ]
    }
   ],
   "source": [
    "Stegosaurus.teeth() = 40"
   ]
  },
  {
   "cell_type": "code",
   "execution_count": 40,
   "metadata": {},
   "outputs": [
    {
     "data": {
      "text/plain": [
       "40"
      ]
     },
     "execution_count": 40,
     "metadata": {},
     "output_type": "execute_result"
    }
   ],
   "source": [
    "Stegosaurus.teeth"
   ]
  },
  {
   "cell_type": "code",
   "execution_count": 41,
   "metadata": {},
   "outputs": [
    {
     "data": {
      "text/plain": [
       "2"
      ]
     },
     "execution_count": 41,
     "metadata": {},
     "output_type": "execute_result"
    }
   ],
   "source": [
    "Stegosaurus.eyes"
   ]
  },
  {
   "cell_type": "markdown",
   "metadata": {},
   "source": [
    "### Instance Variables"
   ]
  },
  {
   "cell_type": "code",
   "execution_count": 42,
   "metadata": {},
   "outputs": [],
   "source": [
    "# Our Dinosaur Class\n",
    "class Dinosaur():\n",
    "    eyes = 2\n",
    "    def __init__(self, teeth):\n",
    "        self.teeth = teeth"
   ]
  },
  {
   "cell_type": "code",
   "execution_count": 43,
   "metadata": {},
   "outputs": [],
   "source": [
    "# Building a Triceratops\n",
    "Triceratops = Dinosaur(5)"
   ]
  },
  {
   "cell_type": "code",
   "execution_count": 46,
   "metadata": {},
   "outputs": [],
   "source": [
    "Triceratops.teeth = 6"
   ]
  },
  {
   "cell_type": "code",
   "execution_count": 47,
   "metadata": {},
   "outputs": [
    {
     "data": {
      "text/plain": [
       "6"
      ]
     },
     "execution_count": 47,
     "metadata": {},
     "output_type": "execute_result"
    }
   ],
   "source": [
    "Triceratops.teeth"
   ]
  },
  {
   "cell_type": "code",
   "execution_count": 48,
   "metadata": {},
   "outputs": [
    {
     "data": {
      "text/plain": [
       "2"
      ]
     },
     "execution_count": 48,
     "metadata": {},
     "output_type": "execute_result"
    }
   ],
   "source": [
    "Triceratops.eyes"
   ]
  },
  {
   "cell_type": "markdown",
   "metadata": {},
   "source": [
    "### Passing in parameters to objects"
   ]
  },
  {
   "cell_type": "code",
   "execution_count": 54,
   "metadata": {},
   "outputs": [],
   "source": [
    "class DataShell(object):\n",
    "    \n",
    "    def __init__(self, filename):\n",
    "        self.filename = filename"
   ]
  },
  {
   "cell_type": "code",
   "execution_count": 55,
   "metadata": {},
   "outputs": [
    {
     "name": "stdout",
     "output_type": "stream",
     "text": [
      "datasets/mtcars.csv\n"
     ]
    }
   ],
   "source": [
    "MyDataShell = DataShell('datasets/mtcars.csv')\n",
    "print(MyDataShell.filename)"
   ]
  },
  {
   "cell_type": "markdown",
   "metadata": {},
   "source": [
    "### Practice: Class Variables\n",
    "\n",
    "Kita melihat bahwa kita dapat menentukan instance variables yang berbeda.\n",
    "\n",
    "Tetapi, bagaimana jika kita ingin instance class memegang nilai yang sama untuk variabel tertentu? Masukkan **class variables**.\n",
    "\n",
    "Class variables tidak boleh ditentukan pada saat instantiasi dan sebagai gantinya, dinyatakan/ditentukan pada fase definisi class."
   ]
  },
  {
   "cell_type": "code",
   "execution_count": 56,
   "metadata": {},
   "outputs": [
    {
     "name": "stdout",
     "output_type": "stream",
     "text": [
      "DataShell\n"
     ]
    }
   ],
   "source": [
    "# Create class: DataShell\n",
    "class DataShell:\n",
    "  \n",
    "    # Declare a class variable family, and assign value of \"DataShell\"\n",
    "    family = \"DataShell\"\n",
    "    \n",
    "    # Initialize class with self, identifier arguments\n",
    "    def __init__(self, identifier):\n",
    "      \n",
    "        # Set identifier as instance variable of input argument\n",
    "        self.identifier = identifier\n",
    "\n",
    "# Declare variable x with value of 100\n",
    "x = 100\n",
    "\n",
    "# Instantiate DataShell passing x as argument: my_data_shell\n",
    "my_data_shell = DataShell(x)\n",
    "\n",
    "# Print my_data_shell class variable family\n",
    "print(my_data_shell.family)"
   ]
  },
  {
   "cell_type": "markdown",
   "metadata": {},
   "source": [
    "**Catatan** : Class variables berbeda dari instance variables (yang kita lihat sebelumnya). Meskipun class variables mungkin ditimpa, mereka biasanya ditetapkan bahkan sebelum object instanciation; oleh karena itu, nilai class variable di seluruh instance dari class yang sama cenderung sama."
   ]
  },
  {
   "cell_type": "markdown",
   "metadata": {},
   "source": [
    "### Overriding Class Variables\n",
    "\n",
    "Terkadang object instances memiliki class variables yang nilainya tidak benar, dan karenanya, tidak berguna. Untuk alasan ini, masuk akal untuk memodifikasi object class variables.\n",
    "\n",
    "Dalam latihan ini, kita akan melakukan hal itu: menimpa class variables dengan nilai kita sendiri!"
   ]
  },
  {
   "cell_type": "code",
   "execution_count": 57,
   "metadata": {},
   "outputs": [
    {
     "name": "stdout",
     "output_type": "stream",
     "text": [
      "DataShell\n",
      "NotDataShell\n"
     ]
    }
   ],
   "source": [
    "# Create class: DataShell\n",
    "class DataShell:\n",
    "  \n",
    "    # Declare a class variable family, and assign value of \"DataShell\"\n",
    "    family = \"DataShell\"\n",
    "    \n",
    "    # Initialize class with self, identifier arguments\n",
    "    def __init__(self, identifier):\n",
    "      \n",
    "        # Set identifier as instance variables, assigning value of input arguments\n",
    "        self.identifier = identifier\n",
    "\n",
    "# Declare variable x with value of 100\n",
    "x = 100\n",
    "\n",
    "# Instantiate DataShell passing x as the argument: my_data_shell\n",
    "my_data_shell = DataShell(x)\n",
    "\n",
    "# Print my_data_shell class variable family\n",
    "print(my_data_shell.family)\n",
    "\n",
    "# Override the my_data_shell.family value with \"NotDataShell\"\n",
    "my_data_shell.family = \"NotDataShell\"\n",
    "\n",
    "# Print my_data_shell class variable family once again\n",
    "print(my_data_shell.family)"
   ]
  },
  {
   "cell_type": "markdown",
   "metadata": {},
   "source": [
    "**Catatan** : Sekarang Anda telah belajar cara mengganti class variable. Apakah ini terlihat terlalu berbeda dengan mengubah nilai instance variable?"
   ]
  },
  {
   "cell_type": "markdown",
   "metadata": {},
   "source": [
    "## Methods in Classes"
   ]
  },
  {
   "cell_type": "markdown",
   "metadata": {},
   "source": [
    "### Methods"
   ]
  },
  {
   "cell_type": "code",
   "execution_count": 61,
   "metadata": {},
   "outputs": [],
   "source": [
    "class DataShell:\n",
    "    \n",
    "    # Constructor\n",
    "    def __init__(self, filename):\n",
    "        self.filename = filename\n",
    "        \n",
    "    # Initializing Methods in Classes\n",
    "    def create_datashell(self):\n",
    "        self.array = np.genfromtxt(self.filename, delimiter=',', dtype=None)\n",
    "        return self.array\n",
    "    \n",
    "    # Methods with other parameters\n",
    "    def rename_column(self, old_colname, new_colname):\n",
    "        for index, value in enumerate(self.array[0]):\n",
    "            if value == old_colname.encode('UTF-8'):\n",
    "                self.array[0][index] = new_colname\n",
    "        return self.array"
   ]
  },
  {
   "cell_type": "markdown",
   "metadata": {},
   "source": [
    "### How to call methods\n",
    "\n",
    "```python\n",
    "# Calling without passing in a parameters\n",
    "myDatashell.create_datashell()\n",
    "```\n",
    "\n",
    "```python\n",
    "# Calling by passing in a parameter\n",
    "myDatashell.rename_column('cyl', 'cylinders')\n",
    "```"
   ]
  },
  {
   "cell_type": "markdown",
   "metadata": {},
   "source": [
    "### Practice: Methods I\n",
    "\n",
    "Kita tidak hanya dapat mendeklarasikan nstance variables dan class variables dalam objects, kita juga dapat memasak functions langsung ke objects. Functions yang terdapat pada objects ini disebut methods."
   ]
  },
  {
   "cell_type": "code",
   "execution_count": 66,
   "metadata": {},
   "outputs": [
    {
     "name": "stdout",
     "output_type": "stream",
     "text": [
      "You just executed a class method!\n"
     ]
    }
   ],
   "source": [
    "# Create class: DataShell\n",
    "class DataShell:\n",
    "  \n",
    "    # Initialize class with self argument\n",
    "    def __init__(self):\n",
    "        pass\n",
    "      \n",
    "    # Define class method which takes self argument: print_static\n",
    "    def print_static(self):\n",
    "        # Print string\n",
    "        print(\"You just executed a class method!\")\n",
    "        \n",
    "# Instantiate DataShell taking no arguments: my_data_shell\n",
    "my_data_shell = DataShell()\n",
    "\n",
    "# Call the print_static method of your newly created object\n",
    "my_data_shell.print_static()"
   ]
  },
  {
   "cell_type": "markdown",
   "metadata": {},
   "source": [
    "**Catatan** : Anda sedang dalam perjalanan untuk menjadi lebih baik dalam menulis class methods! Bisakah Anda memikirkan fungsionalitas yang lebih menarik daripada sekadar mencetak string statis?"
   ]
  },
  {
   "cell_type": "markdown",
   "metadata": {},
   "source": [
    "### Methods II\n",
    "\n",
    "Pada latihan sebelumnya method `print_static()` agak membosankan.\n",
    "\n",
    "Kita dapat melakukan lebih banyak hal menarik dengan objects method. Misalnya, kita dapat berinteraksi dengan data objects kita. Dalam latihan ini kita akan mendeklarasikan method yang mencetak nilai dari salah satu instance variable kita."
   ]
  },
  {
   "cell_type": "code",
   "execution_count": 68,
   "metadata": {},
   "outputs": [
    {
     "name": "stdout",
     "output_type": "stream",
     "text": [
      "[1, 2, 3, 4, 5, 6, 7, 8, 9, 10]\n"
     ]
    }
   ],
   "source": [
    "# Create class: DataShell\n",
    "class DataShell:\n",
    "  \n",
    "    # Initialize class with self and dataList as arguments\n",
    "    def __init__(self, dataList):\n",
    "      \t# Set data as instance variable, and assign it the value of dataList\n",
    "        self.data = dataList\n",
    "        \n",
    "    # Define class method which takes self argument: show\n",
    "    def show(self):\n",
    "        # Print the instance variable data\n",
    "        print(self.data)\n",
    "\n",
    "# Declare variable with list of integers from 1 to 10: integer_list   \n",
    "integer_list = [1, 2, 3, 4, 5, 6, 7, 8, 9, 10]\n",
    "        \n",
    "# Instantiate DataShell taking integer_list as argument: my_data_shell\n",
    "my_data_shell = DataShell(integer_list)\n",
    "\n",
    "# Call the show method of your newly created object\n",
    "my_data_shell.show()"
   ]
  },
  {
   "cell_type": "markdown",
   "metadata": {},
   "source": [
    "**Catatan** : Anda mengakses instance variable dari dalam method Anda, dan dapat menggunakan data untuk menghasilkan informasi yang berguna! Apa hal lain yang bisa dilakukan dengan class dan object internal?"
   ]
  },
  {
   "cell_type": "markdown",
   "metadata": {},
   "source": [
    "### Methods III\n",
    "\n",
    "Sekarang, kita akan melakukan sesuatu yang lebih menarik. Kita akan menambahkan method lain, `avg()`, yang mengambil list bilangan bulat, untuk menghitung nilai rata-rata, dan mencetaknya. Untuk membuat hal-hal menjadi lebih menarik, list bilangan bulat yang mana `avg()` melakukan operasi ini, adalah salah satu instance variable object.\n",
    "\n",
    "Ini berarti bahwa objects tidak hanya dapat menyimpan data, tetapi juga dapat menyimpan prosedur yang dapat dieksekusi pada datanya sendiri."
   ]
  },
  {
   "cell_type": "code",
   "execution_count": 69,
   "metadata": {},
   "outputs": [
    {
     "name": "stdout",
     "output_type": "stream",
     "text": [
      "[1, 2, 3, 4, 5, 6, 7, 8, 9, 10]\n",
      "5.5\n"
     ]
    }
   ],
   "source": [
    "# Create class: DataShell\n",
    "class DataShell:\n",
    "  \n",
    "    # Initialize class with self and dataList as arguments\n",
    "    def __init__(self, dataList):\n",
    "      \t# Set data as instance variable, and assign it the value of dataList\n",
    "        self.data = dataList\n",
    "        \n",
    "    # Define method that prints data: show\n",
    "    def show(self):\n",
    "        print(self.data)\n",
    "        \n",
    "    # Define method that prints average of data: avg \n",
    "    def avg(self):\n",
    "        # Declare avg and assign it the average of data\n",
    "        avg = sum(self.data)/float(len(self.data))\n",
    "        # Print avg\n",
    "        print(avg)\n",
    "        \n",
    "# Instantiate DataShell taking integer_list as argument: my_data_shell\n",
    "my_data_shell = DataShell(integer_list)\n",
    "\n",
    "# Call the show and avg methods of your newly created object\n",
    "my_data_shell.show()\n",
    "my_data_shell.avg()"
   ]
  },
  {
   "cell_type": "markdown",
   "metadata": {},
   "source": [
    "**Catatan** : Bahkan terasa bahwa instance dari class DataShell sadar diri. Bisakah Anda memikirkan cara menulis method yang menggunakan class variable dan bukan instance variable?"
   ]
  },
  {
   "cell_type": "code",
   "execution_count": null,
   "metadata": {},
   "outputs": [],
   "source": []
  }
 ],
 "metadata": {
  "kernelspec": {
   "display_name": "Python 3",
   "language": "python",
   "name": "python3"
  },
  "language_info": {
   "codemirror_mode": {
    "name": "ipython",
    "version": 3
   },
   "file_extension": ".py",
   "mimetype": "text/x-python",
   "name": "python",
   "nbconvert_exporter": "python",
   "pygments_lexer": "ipython3",
   "version": "3.7.3"
  }
 },
 "nbformat": 4,
 "nbformat_minor": 2
}
