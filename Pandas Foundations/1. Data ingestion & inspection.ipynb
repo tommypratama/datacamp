{
 "cells": [
  {
   "cell_type": "markdown",
   "metadata": {},
   "source": [
    "# 1. Data ingestion & inspection\n",
    "\n",
    "Dalam bab ini, Anda akan diperkenalkan ke pandas DataFrames. Anda akan menggunakan pandas untuk mengimpor dan memeriksa berbagai datasets, mulai dari data populasi yang diperoleh dari Bank Dunia hingga data stok bulanan yang diperoleh melalui Yahoo Finance. Anda juga akan berlatih membangun DataFrames dari awal dan menjadi terbiasa dengan kemampuan visualisasi data intrinsik pandas."
   ]
  },
  {
   "cell_type": "markdown",
   "metadata": {},
   "source": [
    "## Review of Pandas DataFrames\n",
    "\n",
    "### Inspecting your data\n",
    "\n",
    "Anda bisa menggunakan metode DataFrame `.head()` dan `.tail()` untuk melihat beberapa baris pertama dan terakhir dari DataFrame. Dalam latihan ini, kami telah mengimpor pandas sebagai `pd` dan data populasi dari tahun 1960 hingga 2014 dimuat sebagai DataFrame `df`. Dataset ini diperoleh dari [Bank Dunia](http://databank.worldbank.org/data/reports.aspx?source=2&type=metadata&series=SP.URB.TOTL.IN.ZS#).\n",
    "\n",
    "Tugas Anda adalah menggunakan `df.head()` dan `df.tail()` untuk memverifikasi bahwa baris pertama dan terakhir cocok dengan file pada disk. Dalam latihan selanjutnya, Anda akan melihat cara mengekstrak nilai dari DataFrames dengan pengindeksan, tetapi untuk saat ini, secara manual menyalin / menempelkan atau mengetikkan nilai ke dalam pernyataan penugasan bila diperlukan. Pilih jawaban yang benar untuk nilai pertama dan terakhir di kolom `'Year'` dan `'Total Population'`."
   ]
  },
  {
   "cell_type": "code",
   "execution_count": 6,
   "metadata": {},
   "outputs": [],
   "source": [
    "# Import pandas\n",
    "import pandas as pd\n",
    "\n",
    "# Load data \n",
    "df = pd.read_csv('datasets/world_ind_pop_data.csv')"
   ]
  },
  {
   "cell_type": "code",
   "execution_count": 7,
   "metadata": {},
   "outputs": [
    {
     "data": {
      "text/html": [
       "<div>\n",
       "<style scoped>\n",
       "    .dataframe tbody tr th:only-of-type {\n",
       "        vertical-align: middle;\n",
       "    }\n",
       "\n",
       "    .dataframe tbody tr th {\n",
       "        vertical-align: top;\n",
       "    }\n",
       "\n",
       "    .dataframe thead th {\n",
       "        text-align: right;\n",
       "    }\n",
       "</style>\n",
       "<table border=\"1\" class=\"dataframe\">\n",
       "  <thead>\n",
       "    <tr style=\"text-align: right;\">\n",
       "      <th></th>\n",
       "      <th>CountryName</th>\n",
       "      <th>CountryCode</th>\n",
       "      <th>Year</th>\n",
       "      <th>Total Population</th>\n",
       "      <th>Urban population (% of total)</th>\n",
       "    </tr>\n",
       "  </thead>\n",
       "  <tbody>\n",
       "    <tr>\n",
       "      <th>0</th>\n",
       "      <td>Arab World</td>\n",
       "      <td>ARB</td>\n",
       "      <td>1960</td>\n",
       "      <td>9.249590e+07</td>\n",
       "      <td>31.285384</td>\n",
       "    </tr>\n",
       "    <tr>\n",
       "      <th>1</th>\n",
       "      <td>Caribbean small states</td>\n",
       "      <td>CSS</td>\n",
       "      <td>1960</td>\n",
       "      <td>4.190810e+06</td>\n",
       "      <td>31.597490</td>\n",
       "    </tr>\n",
       "    <tr>\n",
       "      <th>2</th>\n",
       "      <td>Central Europe and the Baltics</td>\n",
       "      <td>CEB</td>\n",
       "      <td>1960</td>\n",
       "      <td>9.140158e+07</td>\n",
       "      <td>44.507921</td>\n",
       "    </tr>\n",
       "    <tr>\n",
       "      <th>3</th>\n",
       "      <td>East Asia &amp; Pacific (all income levels)</td>\n",
       "      <td>EAS</td>\n",
       "      <td>1960</td>\n",
       "      <td>1.042475e+09</td>\n",
       "      <td>22.471132</td>\n",
       "    </tr>\n",
       "    <tr>\n",
       "      <th>4</th>\n",
       "      <td>East Asia &amp; Pacific (developing only)</td>\n",
       "      <td>EAP</td>\n",
       "      <td>1960</td>\n",
       "      <td>8.964930e+08</td>\n",
       "      <td>16.917679</td>\n",
       "    </tr>\n",
       "  </tbody>\n",
       "</table>\n",
       "</div>"
      ],
      "text/plain": [
       "                               CountryName CountryCode  Year  \\\n",
       "0                               Arab World         ARB  1960   \n",
       "1                   Caribbean small states         CSS  1960   \n",
       "2           Central Europe and the Baltics         CEB  1960   \n",
       "3  East Asia & Pacific (all income levels)         EAS  1960   \n",
       "4    East Asia & Pacific (developing only)         EAP  1960   \n",
       "\n",
       "   Total Population  Urban population (% of total)  \n",
       "0      9.249590e+07                      31.285384  \n",
       "1      4.190810e+06                      31.597490  \n",
       "2      9.140158e+07                      44.507921  \n",
       "3      1.042475e+09                      22.471132  \n",
       "4      8.964930e+08                      16.917679  "
      ]
     },
     "execution_count": 7,
     "metadata": {},
     "output_type": "execute_result"
    }
   ],
   "source": [
    "# Lihat 5 baris data pertama\n",
    "df.head()"
   ]
  },
  {
   "cell_type": "code",
   "execution_count": 8,
   "metadata": {},
   "outputs": [
    {
     "data": {
      "text/html": [
       "<div>\n",
       "<style scoped>\n",
       "    .dataframe tbody tr th:only-of-type {\n",
       "        vertical-align: middle;\n",
       "    }\n",
       "\n",
       "    .dataframe tbody tr th {\n",
       "        vertical-align: top;\n",
       "    }\n",
       "\n",
       "    .dataframe thead th {\n",
       "        text-align: right;\n",
       "    }\n",
       "</style>\n",
       "<table border=\"1\" class=\"dataframe\">\n",
       "  <thead>\n",
       "    <tr style=\"text-align: right;\">\n",
       "      <th></th>\n",
       "      <th>CountryName</th>\n",
       "      <th>CountryCode</th>\n",
       "      <th>Year</th>\n",
       "      <th>Total Population</th>\n",
       "      <th>Urban population (% of total)</th>\n",
       "    </tr>\n",
       "  </thead>\n",
       "  <tbody>\n",
       "    <tr>\n",
       "      <th>13369</th>\n",
       "      <td>Virgin Islands (U.S.)</td>\n",
       "      <td>VIR</td>\n",
       "      <td>2014</td>\n",
       "      <td>104170.0</td>\n",
       "      <td>95.203</td>\n",
       "    </tr>\n",
       "    <tr>\n",
       "      <th>13370</th>\n",
       "      <td>West Bank and Gaza</td>\n",
       "      <td>WBG</td>\n",
       "      <td>2014</td>\n",
       "      <td>4294682.0</td>\n",
       "      <td>75.026</td>\n",
       "    </tr>\n",
       "    <tr>\n",
       "      <th>13371</th>\n",
       "      <td>Yemen, Rep.</td>\n",
       "      <td>YEM</td>\n",
       "      <td>2014</td>\n",
       "      <td>26183676.0</td>\n",
       "      <td>34.027</td>\n",
       "    </tr>\n",
       "    <tr>\n",
       "      <th>13372</th>\n",
       "      <td>Zambia</td>\n",
       "      <td>ZMB</td>\n",
       "      <td>2014</td>\n",
       "      <td>15721343.0</td>\n",
       "      <td>40.472</td>\n",
       "    </tr>\n",
       "    <tr>\n",
       "      <th>13373</th>\n",
       "      <td>Zimbabwe</td>\n",
       "      <td>ZWE</td>\n",
       "      <td>2014</td>\n",
       "      <td>15245855.0</td>\n",
       "      <td>32.501</td>\n",
       "    </tr>\n",
       "  </tbody>\n",
       "</table>\n",
       "</div>"
      ],
      "text/plain": [
       "                 CountryName CountryCode  Year  Total Population  \\\n",
       "13369  Virgin Islands (U.S.)         VIR  2014          104170.0   \n",
       "13370     West Bank and Gaza         WBG  2014         4294682.0   \n",
       "13371            Yemen, Rep.         YEM  2014        26183676.0   \n",
       "13372                 Zambia         ZMB  2014        15721343.0   \n",
       "13373               Zimbabwe         ZWE  2014        15245855.0   \n",
       "\n",
       "       Urban population (% of total)  \n",
       "13369                         95.203  \n",
       "13370                         75.026  \n",
       "13371                         34.027  \n",
       "13372                         40.472  \n",
       "13373                         32.501  "
      ]
     },
     "execution_count": 8,
     "metadata": {},
     "output_type": "execute_result"
    }
   ],
   "source": [
    "# Lihat 5 baris data terakhir\n",
    "df.tail()"
   ]
  },
  {
   "cell_type": "markdown",
   "metadata": {},
   "source": [
    "**Answer** : First: `1960, 92495902.0`; Last: `2014, 15245855.0`."
   ]
  },
  {
   "cell_type": "markdown",
   "metadata": {},
   "source": [
    "### DataFrame data types\n",
    "\n",
    "Pandas menyadari tipe data di kolom DataFrame Anda. Ia juga mengetahui jenis null dan `NaN` ('Not-a-Number') yang sering menunjukkan data yang hilang. Dalam latihan ini, kami telah mengimpor pandas sebagai `pd` dan membaca data populasi dunia ke dalam DataFrame `df` yang berisi beberapa nilai `NaN` - nilai yang sering digunakan sebagai pengganti tempat untuk entri data yang hilang atau tidak valid.\n",
    "\n",
    "Tugas Anda adalah menggunakan `df.info()` untuk menentukan informasi tentang jumlah total entri yang bukan nol (`non-null`) dan menyimpulkan jumlah total entri nol (`null`), yang kemungkinan menunjukkan data yang hilang."
   ]
  },
  {
   "cell_type": "code",
   "execution_count": 7,
   "metadata": {},
   "outputs": [
    {
     "name": "stdout",
     "output_type": "stream",
     "text": [
      "<class 'pandas.core.frame.DataFrame'>\n",
      "RangeIndex: 13374 entries, 0 to 13373\n",
      "Data columns (total 5 columns):\n",
      "CountryName                      13374 non-null object\n",
      "CountryCode                      13374 non-null object\n",
      "Year                             13374 non-null int64\n",
      "Total Population                 13374 non-null float64\n",
      "Urban population (% of total)    13374 non-null float64\n",
      "dtypes: float64(2), int64(1), object(2)\n",
      "memory usage: 522.5+ KB\n"
     ]
    }
   ],
   "source": [
    "df.info()"
   ]
  },
  {
   "cell_type": "markdown",
   "metadata": {},
   "source": [
    "**Note** : Data di datacamp terdapat missing value, sehingga hasilnya tidak sama. (Data dari tipe campuran, dan 3460 float64 hilang.)"
   ]
  },
  {
   "cell_type": "markdown",
   "metadata": {},
   "source": [
    "### NumPy and pandas working together\n",
    "\n",
    "Pandas bergantung dan berinteroperasi dengan NumPy, pustaka Python untuk perhitungan array numerik yang cepat. Sebagai contoh, Anda bisa menggunakan atribut DataFrame `.values` untuk mewakili DataFrame `df` sebagai array NumPy. Anda juga dapat meneruskan struktur data pandas ke metode NumPy.\n",
    "\n",
    "Tugas Anda adalah mengekstrak nilai dan menyimpannya dalam array menggunakan atribut `.values`. Anda kemudian akan menggunakan nilai-nilai tersebut sebagai input ke metode NumPy `np.log10()` untuk menghitung logaritma basis 10 dari nilai populasi. Akhirnya, Anda akan melewatkan seluruh pandas DataFrame ke metode NumPy `np.log10()` yang sama dan membandingkan hasilnya."
   ]
  },
  {
   "cell_type": "code",
   "execution_count": 11,
   "metadata": {},
   "outputs": [
    {
     "data": {
      "text/html": [
       "<div>\n",
       "<style scoped>\n",
       "    .dataframe tbody tr th:only-of-type {\n",
       "        vertical-align: middle;\n",
       "    }\n",
       "\n",
       "    .dataframe tbody tr th {\n",
       "        vertical-align: top;\n",
       "    }\n",
       "\n",
       "    .dataframe thead th {\n",
       "        text-align: right;\n",
       "    }\n",
       "</style>\n",
       "<table border=\"1\" class=\"dataframe\">\n",
       "  <thead>\n",
       "    <tr style=\"text-align: right;\">\n",
       "      <th></th>\n",
       "      <th>Year</th>\n",
       "      <th>Total Population</th>\n",
       "    </tr>\n",
       "  </thead>\n",
       "  <tbody>\n",
       "    <tr>\n",
       "      <th>2</th>\n",
       "      <td>1980</td>\n",
       "      <td>4.436590e+09</td>\n",
       "    </tr>\n",
       "    <tr>\n",
       "      <th>0</th>\n",
       "      <td>1960</td>\n",
       "      <td>3.034971e+09</td>\n",
       "    </tr>\n",
       "    <tr>\n",
       "      <th>1</th>\n",
       "      <td>1970</td>\n",
       "      <td>3.684823e+09</td>\n",
       "    </tr>\n",
       "    <tr>\n",
       "      <th>4</th>\n",
       "      <td>2000</td>\n",
       "      <td>6.115974e+09</td>\n",
       "    </tr>\n",
       "    <tr>\n",
       "      <th>5</th>\n",
       "      <td>2010</td>\n",
       "      <td>6.924283e+09</td>\n",
       "    </tr>\n",
       "  </tbody>\n",
       "</table>\n",
       "</div>"
      ],
      "text/plain": [
       "   Year  Total Population\n",
       "2  1980      4.436590e+09\n",
       "0  1960      3.034971e+09\n",
       "1  1970      3.684823e+09\n",
       "4  2000      6.115974e+09\n",
       "5  2010      6.924283e+09"
      ]
     },
     "execution_count": 11,
     "metadata": {},
     "output_type": "execute_result"
    }
   ],
   "source": [
    "# Load data\n",
    "df = pd.read_csv('datasets/world_population.csv')\n",
    "\n",
    "# Lihat 5 baris data secara acak\n",
    "df.sample(5)"
   ]
  },
  {
   "cell_type": "code",
   "execution_count": 12,
   "metadata": {},
   "outputs": [
    {
     "name": "stdout",
     "output_type": "stream",
     "text": [
      "np_vals has type <class 'numpy.ndarray'>\n",
      "np_vals_log10 has type <class 'numpy.ndarray'>\n",
      "df has type <class 'pandas.core.frame.DataFrame'>\n",
      "df_log10 has type <class 'pandas.core.frame.DataFrame'>\n"
     ]
    },
    {
     "data": {
      "text/plain": [
       "[None, None, None, None]"
      ]
     },
     "execution_count": 12,
     "metadata": {},
     "output_type": "execute_result"
    }
   ],
   "source": [
    "# Import numpy\n",
    "import numpy as np\n",
    "\n",
    "# Create array of DataFrame values: np_vals\n",
    "np_vals = df.values\n",
    "\n",
    "# Create new array of base 10 logarithm values: np_vals_log10\n",
    "np_vals_log10 = np.log10(np_vals)\n",
    "\n",
    "# Create array of new DataFrame by passing df to np.log10(): df_log10\n",
    "df_log10 = np.log10(df)\n",
    "\n",
    "# Print original and new data containers\n",
    "[print(x, 'has type', type(eval(x))) for x in ['np_vals', 'np_vals_log10', 'df', 'df_log10']]"
   ]
  },
  {
   "cell_type": "markdown",
   "metadata": {},
   "source": [
    "**Note** : Sebagai ilmuwan data, Anda akan sering berinteraksi dengan array NumPy, Series Pandas, dan DataFrames Pandas, dan Anda akan memanfaatkan berbagai metode NumPy dan pandas untuk melakukan perhitungan yang Anda inginkan. Memahami bagaimana NumPy dan Pandas bekerja bersama akan terbukti sangat berguna."
   ]
  },
  {
   "cell_type": "markdown",
   "metadata": {},
   "source": [
    "## Building DataFrames from scratch\n",
    "\n",
    "### Zip lists to build a DataFrame\n",
    "\n",
    "Dalam latihan ini, Anda akan membuat pandas DataFrame dari tiga negara teratas untuk memenangkan medali emas sejak 1896 dengan terlebih dahulu membangun `dictionary`. `list_keys` berisi nama kolom `'Country'` dan `'Total'`. `list_values` berisi nama lengkap masing-masing negara dan jumlah medali emas yang diberikan. Nilai telah diambil dari [Wikipedia](https://en.wikipedia.org/wiki/All-time_Olympic_Games_medal_table).\n",
    "\n",
    "Tugas Anda adalah menggunakan list ini untuk membuat list tuple, menggunakan list tuple untuk membuat dictionary, dan kemudian menggunakan dictionary itu untuk membuat DataFrame. Dengan melakukannya, Anda akan menggunakan fungsi `list()`, `zip()`, `dict()` dan `pd.DataFrame()`. \n",
    "\n",
    "Catatan: Fungsi [zip()](https://docs.python.org/3/library/functions.html#zip) dalam Python 3 dan di atasnya mengembalikan objek zip khusus, yang pada dasarnya adalah generator. Untuk mengonversi objek `zip` ini menjadi list, Anda harus menggunakan `list()`. Anda dapat mempelajari lebih lanjut tentang fungsi `zip()` serta generator di Python [Data Science Toolbox (Bagian 2)](https://www.datacamp.com/courses/python-data-science-toolbox-part-2)."
   ]
  },
  {
   "cell_type": "code",
   "execution_count": 14,
   "metadata": {},
   "outputs": [],
   "source": [
    "list_keys = ['Country', 'Total']\n",
    "list_values = [['United States', 'Soviet Union', 'United Kingdom'], [1118, 473, 273]]"
   ]
  },
  {
   "cell_type": "code",
   "execution_count": 15,
   "metadata": {},
   "outputs": [
    {
     "name": "stdout",
     "output_type": "stream",
     "text": [
      "[('Country', ['United States', 'Soviet Union', 'United Kingdom']), ('Total', [1118, 473, 273])]\n",
      "          Country  Total\n",
      "0   United States   1118\n",
      "1    Soviet Union    473\n",
      "2  United Kingdom    273\n"
     ]
    }
   ],
   "source": [
    "# Zip the 2 lists together into one list of (key,value) tuples: zipped\n",
    "zipped = list(zip(list_keys, list_values))\n",
    "\n",
    "# Inspect the list using print()\n",
    "print(zipped)\n",
    "\n",
    "# Build a dictionary with the zipped list: data\n",
    "data = dict(zipped)\n",
    "\n",
    "# Build and inspect a DataFrame from the dictionary: df\n",
    "df = pd.DataFrame(data)\n",
    "print(df)"
   ]
  },
  {
   "cell_type": "markdown",
   "metadata": {},
   "source": [
    "**Note** : Mampu membangun DataFrames dari awal adalah keterampilan yang penting."
   ]
  },
  {
   "cell_type": "markdown",
   "metadata": {},
   "source": [
    "### Labeling your data\n",
    "\n",
    "Anda bisa menggunakan atribut DataFrame `df.columns` untuk melihat dan menetapkan label string baru ke kolom dalam pandas DataFrame.\n",
    "\n",
    "Dalam latihan ini, kami telah mengimpor pandas sebagai `pd` dan mendefinisikan DataFrame `df` yang berisi hit Billboard teratas dari tahun 1980-an (dari [Wikipedia](https://en.wikipedia.org/wiki/List_of_Billboard_Hot_100_number-one_singles_of_the_1980s#1980)). Setiap baris memiliki tahun, artis, nama lagu dan jumlah minggu di bagian atas. Namun, DataFrame ini memiliki label kolom `a, b, c, d`. Tugas Anda adalah menggunakan atribut `df.columns` untuk menetapkan kembali label kolom deskriptif."
   ]
  },
  {
   "cell_type": "code",
   "execution_count": 20,
   "metadata": {},
   "outputs": [],
   "source": [
    "# Buat list (key, value)\n",
    "list_keys = ['a', 'b', 'c', 'd']\n",
    "list_values = [[1980, 1981, 1982], ['Blondie', 'Christopher Cross', 'Joan Jett'], ['Call Me', 'Arthurs Theme', 'I Love Rock and Roll'], [6, 3, 7]]\n"
   ]
  },
  {
   "cell_type": "code",
   "execution_count": 21,
   "metadata": {},
   "outputs": [
    {
     "data": {
      "text/html": [
       "<div>\n",
       "<style scoped>\n",
       "    .dataframe tbody tr th:only-of-type {\n",
       "        vertical-align: middle;\n",
       "    }\n",
       "\n",
       "    .dataframe tbody tr th {\n",
       "        vertical-align: top;\n",
       "    }\n",
       "\n",
       "    .dataframe thead th {\n",
       "        text-align: right;\n",
       "    }\n",
       "</style>\n",
       "<table border=\"1\" class=\"dataframe\">\n",
       "  <thead>\n",
       "    <tr style=\"text-align: right;\">\n",
       "      <th></th>\n",
       "      <th>a</th>\n",
       "      <th>b</th>\n",
       "      <th>c</th>\n",
       "      <th>d</th>\n",
       "    </tr>\n",
       "  </thead>\n",
       "  <tbody>\n",
       "    <tr>\n",
       "      <th>0</th>\n",
       "      <td>1980</td>\n",
       "      <td>Blondie</td>\n",
       "      <td>Call Me</td>\n",
       "      <td>6</td>\n",
       "    </tr>\n",
       "    <tr>\n",
       "      <th>1</th>\n",
       "      <td>1981</td>\n",
       "      <td>Christopher Cross</td>\n",
       "      <td>Arthurs Theme</td>\n",
       "      <td>3</td>\n",
       "    </tr>\n",
       "    <tr>\n",
       "      <th>2</th>\n",
       "      <td>1982</td>\n",
       "      <td>Joan Jett</td>\n",
       "      <td>I Love Rock and Roll</td>\n",
       "      <td>7</td>\n",
       "    </tr>\n",
       "  </tbody>\n",
       "</table>\n",
       "</div>"
      ],
      "text/plain": [
       "      a                  b                     c  d\n",
       "0  1980            Blondie               Call Me  6\n",
       "1  1981  Christopher Cross         Arthurs Theme  3\n",
       "2  1982          Joan Jett  I Love Rock and Roll  7"
      ]
     },
     "execution_count": 21,
     "metadata": {},
     "output_type": "execute_result"
    }
   ],
   "source": [
    "# Zip 2 list menjadi 1 list dalam bentu tuple (key, value)\n",
    "zipped = list(zip(list_keys, list_values))\n",
    "\n",
    "# Buat dictionary dengan zipped list\n",
    "data = dict(zipped)\n",
    "\n",
    "# Konversi dictionary ke DataFrame\n",
    "df = pd.DataFrame(data)\n",
    "df"
   ]
  },
  {
   "cell_type": "code",
   "execution_count": 22,
   "metadata": {},
   "outputs": [
    {
     "data": {
      "text/html": [
       "<div>\n",
       "<style scoped>\n",
       "    .dataframe tbody tr th:only-of-type {\n",
       "        vertical-align: middle;\n",
       "    }\n",
       "\n",
       "    .dataframe tbody tr th {\n",
       "        vertical-align: top;\n",
       "    }\n",
       "\n",
       "    .dataframe thead th {\n",
       "        text-align: right;\n",
       "    }\n",
       "</style>\n",
       "<table border=\"1\" class=\"dataframe\">\n",
       "  <thead>\n",
       "    <tr style=\"text-align: right;\">\n",
       "      <th></th>\n",
       "      <th>year</th>\n",
       "      <th>artist</th>\n",
       "      <th>song</th>\n",
       "      <th>chart weeks</th>\n",
       "    </tr>\n",
       "  </thead>\n",
       "  <tbody>\n",
       "    <tr>\n",
       "      <th>0</th>\n",
       "      <td>1980</td>\n",
       "      <td>Blondie</td>\n",
       "      <td>Call Me</td>\n",
       "      <td>6</td>\n",
       "    </tr>\n",
       "    <tr>\n",
       "      <th>1</th>\n",
       "      <td>1981</td>\n",
       "      <td>Christopher Cross</td>\n",
       "      <td>Arthurs Theme</td>\n",
       "      <td>3</td>\n",
       "    </tr>\n",
       "    <tr>\n",
       "      <th>2</th>\n",
       "      <td>1982</td>\n",
       "      <td>Joan Jett</td>\n",
       "      <td>I Love Rock and Roll</td>\n",
       "      <td>7</td>\n",
       "    </tr>\n",
       "  </tbody>\n",
       "</table>\n",
       "</div>"
      ],
      "text/plain": [
       "   year             artist                  song  chart weeks\n",
       "0  1980            Blondie               Call Me            6\n",
       "1  1981  Christopher Cross         Arthurs Theme            3\n",
       "2  1982          Joan Jett  I Love Rock and Roll            7"
      ]
     },
     "execution_count": 22,
     "metadata": {},
     "output_type": "execute_result"
    }
   ],
   "source": [
    "# Build a list of labels: list_labels\n",
    "list_labels = ['year', 'artist', 'song', 'chart weeks']\n",
    "\n",
    "# Assign the list of labels to the columns attribute: df.columns\n",
    "df.columns = list_labels\n",
    "df"
   ]
  },
  {
   "cell_type": "markdown",
   "metadata": {},
   "source": [
    "**Note** : Anda sering harus mengganti nama nama kolom seperti ini agar lebih informatif."
   ]
  },
  {
   "cell_type": "markdown",
   "metadata": {},
   "source": [
    "### Building DataFrames with broadcasting\n",
    "\n",
    "Anda secara implisit dapat menggunakan 'broadcasting', sebuah fitur NumPy, saat membuat pandas DataFrames. Dalam latihan ini, Anda akan membuat DataFrame kota di Pennsylvania yang berisi nama kota di satu kolom dan nama negara di yang kedua. Kami telah mengimpor nama 15 kota sebagai list `cities`.\n",
    "\n",
    "Tugas Anda adalah membuat DataFrame dari list `cities` dan string `'PA'`."
   ]
  },
  {
   "cell_type": "code",
   "execution_count": 21,
   "metadata": {},
   "outputs": [],
   "source": [
    "# List cities\n",
    "cities = ['Manheim', 'Preston park', 'Biglerville', 'Indiana', 'Curwensville', 'Crown', 'Harveys lake', 'Mineral springs', 'Cassville', 'Hannastown', 'Saltsburg', 'Tunkhannock', 'Pittsburgh', 'Lemasters', 'Great bend']\n"
   ]
  },
  {
   "cell_type": "code",
   "execution_count": 22,
   "metadata": {},
   "outputs": [
    {
     "name": "stdout",
     "output_type": "stream",
     "text": [
      "   state             city\n",
      "0     PA          Manheim\n",
      "1     PA     Preston park\n",
      "2     PA      Biglerville\n",
      "3     PA          Indiana\n",
      "4     PA     Curwensville\n",
      "5     PA            Crown\n",
      "6     PA     Harveys lake\n",
      "7     PA  Mineral springs\n",
      "8     PA        Cassville\n",
      "9     PA       Hannastown\n",
      "10    PA        Saltsburg\n",
      "11    PA      Tunkhannock\n",
      "12    PA       Pittsburgh\n",
      "13    PA        Lemasters\n",
      "14    PA       Great bend\n"
     ]
    }
   ],
   "source": [
    "# Make a string with the value 'PA': state\n",
    "state = 'PA'\n",
    "\n",
    "# Construct a dictionary: data\n",
    "data = {'state':state, 'city':cities}\n",
    "\n",
    "# Construct a DataFrame from dictionary data: df\n",
    "df = pd.DataFrame(data)\n",
    "\n",
    "# Print the DataFrame\n",
    "print(df)"
   ]
  },
  {
   "cell_type": "markdown",
   "metadata": {},
   "source": [
    "## Importing & exporting data\n",
    "\n",
    "### Reading a flat file\n",
    "\n",
    "Dalam latihan sebelumnya, kami telah memuat data untuk Anda menggunakan fungsi pandas `read_csv()`. Sekarang giliran Anda! Tugas Anda adalah membaca data populasi Bank Dunia yang Anda lihat sebelumnya ke dalam DataFrame menggunakan `read_csv()`. File tersedia di variabel `data_file`.\n",
    "\n",
    "Langkah selanjutnya adalah membaca ulang file yang sama, tetapi secara bersamaan mengganti kolom menggunakan parameter input kata kunci `name`, set sama dengan list label kolom baru. Anda juga perlu mengatur `header=0` untuk mengganti nama label kolom.\n",
    "\n",
    "Selesaikan dengan memeriksa hasilnya dengan `df.head()` dan `df.info()` di IPython Shell (mengubah `df` ke nama variabel DataFrame Anda)."
   ]
  },
  {
   "cell_type": "code",
   "execution_count": 24,
   "metadata": {},
   "outputs": [
    {
     "name": "stdout",
     "output_type": "stream",
     "text": [
      "   Year  Total Population\n",
      "0  1960      3.034971e+09\n",
      "1  1970      3.684823e+09\n",
      "2  1980      4.436590e+09\n",
      "3  1990      5.282716e+09\n",
      "4  2000      6.115974e+09\n",
      "5  2010      6.924283e+09\n",
      "   year    population\n",
      "0  1960  3.034971e+09\n",
      "1  1970  3.684823e+09\n",
      "2  1980  4.436590e+09\n",
      "3  1990  5.282716e+09\n",
      "4  2000  6.115974e+09\n",
      "5  2010  6.924283e+09\n"
     ]
    }
   ],
   "source": [
    "# Read in the file: df1\n",
    "df1 = pd.read_csv('datasets/world_population.csv')\n",
    "\n",
    "# Create a list of the new column labels: new_labels\n",
    "new_labels = ['year', 'population']\n",
    "\n",
    "# Read in the file, specifying the header and names parameters: df2\n",
    "df2 = pd.read_csv('datasets/world_population.csv', header=0, names=new_labels)\n",
    "\n",
    "# Print both the DataFrames\n",
    "print(df1)\n",
    "print(df2)"
   ]
  },
  {
   "cell_type": "markdown",
   "metadata": {},
   "source": [
    "**Note** : Mengetahui cara membaca file flat menggunakan pandas adalah keterampilan penting."
   ]
  },
  {
   "cell_type": "markdown",
   "metadata": {},
   "source": [
    "### Delimiters, headers, and extensions\n",
    "\n",
    "Tidak semua file data bersih dan rapi. Pandas menyediakan metode untuk membaca file data yang tidak terlalu sempurna yang Anda temui terlalu sering.\n",
    "\n",
    "Dalam latihan ini, Anda memiliki data stok bulanan untuk empat perusahaan yang diunduh dari [Yahoo Finance](http://finance.yahoo.com/). Data disimpan sebagai satu baris untuk setiap perusahaan dan setiap kolom adalah harga penutupan akhir bulan. Nama file diberikan kepada Anda dalam variabel `file_messy`.\n",
    "\n",
    "Selain itu, file ini memiliki tiga aspek yang dapat menyebabkan masalah untuk alat yang lebih sedikit: beberapa baris header, catatan komentar (baris) disisipkan di seluruh baris data, dan pembatas ruang alih-alih koma.\n",
    "\n",
    "Tugas Anda adalah menggunakan pandas untuk membaca data dari `file_messy` yang bermasalah ini menggunakan opsi input non-default dengan `read_csv()` untuk merapikan kekacauan pada saat membaca data. Kemudian, tulis data yang telah dibersihkan ke file CSV dengan variabel `file_clean` yang telah disiapkan untuk Anda, seperti yang mungkin Anda lakukan dalam alur kerja data nyata."
   ]
  },
  {
   "cell_type": "code",
   "execution_count": 27,
   "metadata": {},
   "outputs": [],
   "source": [
    "# Tetapkan lokasi file data\n",
    "file_messy = 'datasets/messy_stock_data.tsv'"
   ]
  },
  {
   "cell_type": "code",
   "execution_count": 28,
   "metadata": {},
   "outputs": [
    {
     "data": {
      "text/html": [
       "<div>\n",
       "<style scoped>\n",
       "    .dataframe tbody tr th:only-of-type {\n",
       "        vertical-align: middle;\n",
       "    }\n",
       "\n",
       "    .dataframe tbody tr th {\n",
       "        vertical-align: top;\n",
       "    }\n",
       "\n",
       "    .dataframe thead th {\n",
       "        text-align: right;\n",
       "    }\n",
       "</style>\n",
       "<table border=\"1\" class=\"dataframe\">\n",
       "  <thead>\n",
       "    <tr style=\"text-align: right;\">\n",
       "      <th></th>\n",
       "      <th>The following stock data was collect on 2016-AUG-25 from an unknown source</th>\n",
       "    </tr>\n",
       "  </thead>\n",
       "  <tbody>\n",
       "    <tr>\n",
       "      <th>These kind of ocmments are not very useful</th>\n",
       "      <td>are they?</td>\n",
       "    </tr>\n",
       "    <tr>\n",
       "      <th>probably should just throw this line away too</th>\n",
       "      <td>but not the next since those are column labels</td>\n",
       "    </tr>\n",
       "    <tr>\n",
       "      <th>name Jan Feb Mar Apr May Jun Jul Aug Sep Oct Nov Dec</th>\n",
       "      <td>NaN</td>\n",
       "    </tr>\n",
       "    <tr>\n",
       "      <th># So that line you just read has all the column headers labels</th>\n",
       "      <td>NaN</td>\n",
       "    </tr>\n",
       "    <tr>\n",
       "      <th>IBM 156.08 160.01 159.81 165.22 172.25 167.15 164.75 152.77 145.36 146.11 137.21 137.96</th>\n",
       "      <td>NaN</td>\n",
       "    </tr>\n",
       "  </tbody>\n",
       "</table>\n",
       "</div>"
      ],
      "text/plain": [
       "                                                   The following stock data was collect on 2016-AUG-25 from an unknown source\n",
       "These kind of ocmments are not very useful                                                  are they?                        \n",
       "probably should just throw this line away too          but not the next since those are column labels                        \n",
       "name Jan Feb Mar Apr May Jun Jul Aug Sep Oct No...                                                NaN                        \n",
       "# So that line you just read has all the column...                                                NaN                        \n",
       "IBM 156.08 160.01 159.81 165.22 172.25 167.15 1...                                                NaN                        "
      ]
     },
     "execution_count": 28,
     "metadata": {},
     "output_type": "execute_result"
    }
   ],
   "source": [
    "# Read the raw file as-is: df1\n",
    "df1 = pd.read_csv(file_messy)\n",
    "\n",
    "# Print the output of df1.head()\n",
    "df1.head()"
   ]
  },
  {
   "cell_type": "code",
   "execution_count": 29,
   "metadata": {},
   "outputs": [
    {
     "data": {
      "text/html": [
       "<div>\n",
       "<style scoped>\n",
       "    .dataframe tbody tr th:only-of-type {\n",
       "        vertical-align: middle;\n",
       "    }\n",
       "\n",
       "    .dataframe tbody tr th {\n",
       "        vertical-align: top;\n",
       "    }\n",
       "\n",
       "    .dataframe thead th {\n",
       "        text-align: right;\n",
       "    }\n",
       "</style>\n",
       "<table border=\"1\" class=\"dataframe\">\n",
       "  <thead>\n",
       "    <tr style=\"text-align: right;\">\n",
       "      <th></th>\n",
       "      <th>name</th>\n",
       "      <th>Jan</th>\n",
       "      <th>Feb</th>\n",
       "      <th>Mar</th>\n",
       "      <th>Apr</th>\n",
       "      <th>May</th>\n",
       "      <th>Jun</th>\n",
       "      <th>Jul</th>\n",
       "      <th>Aug</th>\n",
       "      <th>Sep</th>\n",
       "      <th>Oct</th>\n",
       "      <th>Nov</th>\n",
       "      <th>Dec</th>\n",
       "    </tr>\n",
       "  </thead>\n",
       "  <tbody>\n",
       "    <tr>\n",
       "      <th>0</th>\n",
       "      <td>IBM</td>\n",
       "      <td>156.08</td>\n",
       "      <td>160.01</td>\n",
       "      <td>159.81</td>\n",
       "      <td>165.22</td>\n",
       "      <td>172.25</td>\n",
       "      <td>167.15</td>\n",
       "      <td>164.75</td>\n",
       "      <td>152.77</td>\n",
       "      <td>145.36</td>\n",
       "      <td>146.11</td>\n",
       "      <td>137.21</td>\n",
       "      <td>137.96</td>\n",
       "    </tr>\n",
       "    <tr>\n",
       "      <th>1</th>\n",
       "      <td>MSFT</td>\n",
       "      <td>45.51</td>\n",
       "      <td>43.08</td>\n",
       "      <td>42.13</td>\n",
       "      <td>43.47</td>\n",
       "      <td>47.53</td>\n",
       "      <td>45.96</td>\n",
       "      <td>45.61</td>\n",
       "      <td>45.51</td>\n",
       "      <td>43.56</td>\n",
       "      <td>48.70</td>\n",
       "      <td>53.88</td>\n",
       "      <td>55.40</td>\n",
       "    </tr>\n",
       "    <tr>\n",
       "      <th>2</th>\n",
       "      <td>GOOGLE</td>\n",
       "      <td>512.42</td>\n",
       "      <td>537.99</td>\n",
       "      <td>559.72</td>\n",
       "      <td>540.50</td>\n",
       "      <td>535.24</td>\n",
       "      <td>532.92</td>\n",
       "      <td>590.09</td>\n",
       "      <td>636.84</td>\n",
       "      <td>617.93</td>\n",
       "      <td>663.59</td>\n",
       "      <td>735.39</td>\n",
       "      <td>755.35</td>\n",
       "    </tr>\n",
       "    <tr>\n",
       "      <th>3</th>\n",
       "      <td>APPLE</td>\n",
       "      <td>110.64</td>\n",
       "      <td>125.43</td>\n",
       "      <td>125.97</td>\n",
       "      <td>127.29</td>\n",
       "      <td>128.76</td>\n",
       "      <td>127.81</td>\n",
       "      <td>125.34</td>\n",
       "      <td>113.39</td>\n",
       "      <td>112.80</td>\n",
       "      <td>113.36</td>\n",
       "      <td>118.16</td>\n",
       "      <td>111.73</td>\n",
       "    </tr>\n",
       "  </tbody>\n",
       "</table>\n",
       "</div>"
      ],
      "text/plain": [
       "     name     Jan     Feb     Mar     Apr     May     Jun     Jul     Aug  \\\n",
       "0     IBM  156.08  160.01  159.81  165.22  172.25  167.15  164.75  152.77   \n",
       "1    MSFT   45.51   43.08   42.13   43.47   47.53   45.96   45.61   45.51   \n",
       "2  GOOGLE  512.42  537.99  559.72  540.50  535.24  532.92  590.09  636.84   \n",
       "3   APPLE  110.64  125.43  125.97  127.29  128.76  127.81  125.34  113.39   \n",
       "\n",
       "      Sep     Oct     Nov     Dec  \n",
       "0  145.36  146.11  137.21  137.96  \n",
       "1   43.56   48.70   53.88   55.40  \n",
       "2  617.93  663.59  735.39  755.35  \n",
       "3  112.80  113.36  118.16  111.73  "
      ]
     },
     "execution_count": 29,
     "metadata": {},
     "output_type": "execute_result"
    }
   ],
   "source": [
    "# Read in the file with the correct parameters: df2\n",
    "df2 = pd.read_csv(file_messy, delimiter=' ', header=3, comment='#')\n",
    "\n",
    "# Print the output of df2.head()\n",
    "df2.head()"
   ]
  },
  {
   "cell_type": "code",
   "execution_count": null,
   "metadata": {},
   "outputs": [],
   "source": [
    "# Save the cleaned up DataFrame to a CSV file without the index\n",
    "df2.to_csv('file_clean.csv', index=False)\n",
    "\n",
    "# Save the cleaned up DataFrame to an excel file without the index\n",
    "df2.to_excel('file_clean.xlsx', index=False)"
   ]
  },
  {
   "cell_type": "markdown",
   "metadata": {},
   "source": [
    "**Note** : Sangat penting untuk dapat menyimpan DataFrames Anda yang sudah dibersihkan dalam format file yang diinginkan!"
   ]
  },
  {
   "cell_type": "markdown",
   "metadata": {},
   "source": [
    "## Plotting with pandas\n",
    "\n",
    "### Plotting series using pandas\n",
    "\n",
    "Visualisasi data seringkali merupakan langkah pertama yang sangat efektif dalam memperoleh pemahaman kasar tentang dataset yang akan dianalisis. Pandas menyediakan visualisasi data dan beroperasi dengan perpustakaan matplotlib. Anda sekarang akan menjelajahi beberapa mekanisme dasar plotting dengan pandas serta opsi matplotlib. Kami telah memuat sebelumnya pandas DataFrame `df` yang berisi data yang Anda butuhkan. Tugas Anda adalah menggunakan metode DataFrame `df.plot()` untuk memvisualisasikan data, dan kemudian menjelajahi parameter input matplotlib opsional yang diterima pada metode `.plot()`.\n",
    "\n",
    "Metode pandas `.plot()` melakukan panggilan ke matplotlib untuk membangun plot. Ini berarti bahwa Anda dapat menggunakan keterampilan yang telah Anda pelajari dalam kursus visualisasi sebelumnya untuk menyesuaikan plot. Dalam latihan ini, Anda akan menambahkan judul khusus dan label sumbu pada gambar.\n",
    "\n",
    "Sebelum melakukan plot, periksa DataFrame di IPython Shell menggunakan `df.head()`. Juga, gunakan `type(df)` dan perhatikan bahwa itu adalah DataFrame kolom tunggal."
   ]
  },
  {
   "cell_type": "code",
   "execution_count": 30,
   "metadata": {},
   "outputs": [],
   "source": [
    "# Buat 2 list (key, value)\n",
    "list_keys = ['Temperature (deg F)']\n",
    "list_values = [[79.0, 77.4, 76.4, 75.7, 75.1, 74.6, 74.5, 76.0, 79.8, 83.3, 86.6, 89.3, 91.6, 93.2, 94.4, 95.0, 94.8, 93.9, 92.4, 89.9, 86.1, 83.6, 81.8, 80.0, 79.1, 77.4, 76.5, 75.8, 75.2, 74.6, 74.6, 76.1, 79.8, 83.3, 86.5, 89.4, 91.6, 93.2, 94.4, 95.0, 94.8, 93.9, 92.4, 89.8, 86.1, 83.6, 81.8, 80.1, 79.1, 77.5, 76.5, 75.8, 75.2, 74.6, 74.5, 76.0, 79.8, 83.4, 86.6, 89.4, 91.7, 93.3, 94.5, 95.1, 94.9, 94.1, 92.5, 89.8, 86.0, 83.5, 81.9, 80.1, 79.2, 77.6, 76.6, 75.9, 75.3, 74.7, 74.6, 76.0, 79.9, 83.5, 86.7, 89.5, 91.9, 93.4, 94.6, 95.1, 95.0, 94.1, 92.5, 89.7, 86.0, 83.5, 81.9, 80.2, 79.2, 77.6, 76.6, 75.9, 75.3, 74.7, 74.6, 76.1, 79.8, 83.4, 86.6, 89.5, 91.9, 93.4, 94.5, 95.1, 94.9, 94.1, 92.4, 89.6, 85.9, 83.4, 81.8, 80.1, 79.2, 77.6, 76.6, 75.9, 75.3, 74.6, 74.6, 76.0, 79.7, 83.4, 86.6, 89.5, 91.8, 93.4, 94.5, 95.2, 95.0, 94.1, 92.5, 89.6, 85.9, 83.4, 81.8, 80.0, 79.2, 77.5, 76.5, 75.8, 75.2, 74.6, 74.6, 76.0, 79.7, 83.3, 86.5, 89.4, 91.8, 93.4, 94.5, 95.3, 95.0, 94.1, 92.4, 89.5, 85.8, 83.3, 81.7, 80.0, 79.2, 77.5, 76.5, 75.8, 75.2, 74.6, 74.6, 75.9, 79.7, 83.3, 86.5, 89.4, 91.7, 93.3, 94.5, 95.2, 94.9, 94.1, 92.4, 89.5, 85.7, 83.3, 81.7, 80.0, 79.2, 77.5, 76.5, 75.8, 75.2, 74.6, 74.6, 75.9, 79.7, 83.3, 86.4, 89.4, 91.7, 93.3, 94.5, 95.2, 94.9, 94.1, 92.2, 89.3, 85.6, 83.2, 81.6, 79.9, 79.1, 77.4, 76.4, 75.8, 75.2, 74.6, 74.6, 75.9, 79.6, 83.3, 86.4, 89.4, 91.7, 93.2, 94.4, 95.1, 94.8, 94.1, 92.3, 89.2, 85.6, 83.2, 81.6, 79.9, 79.1, 77.4, 76.5, 75.8, 75.3, 74.7, 74.6, 75.9, 79.6, 83.3, 86.4, 89.3, 91.7, 93.2, 94.4, 95.0, 94.7, 94.0, 92.1, 89.0, 85.5, 83.1, 81.6, 80.0, 79.2, 77.5, 76.5, 75.8, 75.3, 74.8, 74.7, 75.9, 79.6, 83.2, 86.4, 89.2, 91.6, 93.1, 94.4, 94.9, 94.7, 94.0, 92.1, 89.0, 85.5, 83.2, 81.7, 80.1, 79.2, 77.5, 76.6, 75.9, 75.4, 74.8, 74.7, 75.9, 79.6, 83.2, 86.4, 89.3, 91.6, 93.2, 94.4, 95.0, 94.8, 94.1, 92.3, 89.2, 85.7, 83.4, 81.7, 80.2, 79.2, 77.5, 76.5, 75.9, 75.4, 74.9, 74.7, 75.9, 79.5, 83.1, 86.3, 89.2, 91.5, 93.1, 94.3, 94.9, 94.7, 94.0, 92.1, 89.0, 85.6, 83.3, 81.6, 80.1, 79.1, 77.4, 76.4, 75.8, 75.3, 74.8, 74.7, 75.8, 79.5, 83.1, 86.2, 89.1, 91.4, 93.0, 94.2, 94.7, 94.6, 93.9, 91.9, 88.8, 85.5, 83.3, 81.6, 80.0, 79.1, 77.4, 76.5, 75.9, 75.3, 74.8, 74.7, 75.8, 79.4, 83.1, 86.2, 89.0, 91.4, 93.0, 94.2, 94.7, 94.6, 94.0, 92.0, 88.9, 85.5, 83.4, 81.7, 80.1, 79.2, 77.5, 76.6, 75.9, 75.3, 74.8, 74.8, 75.9, 79.5, 83.2, 86.3, 89.1, 91.5, 93.1, 94.3, 94.8, 94.6, 94.0, 92.0, 88.8, 85.5, 83.3, 81.6, 80.1, 79.2, 77.5, 76.6, 75.9, 75.4, 74.9, 74.8, 75.9, 79.5, 83.1, 86.3, 89.1, 91.5, 93.1, 94.3, 94.8, 94.6, 93.9, 91.9, 88.8, 85.6, 83.4, 81.7, 80.1, 79.2, 77.5, 76.6, 75.9, 75.3, 74.9, 74.8, 75.8, 79.5, 83.1, 86.3, 89.1, 91.5, 93.1, 94.3, 94.8, 94.7, 94.0, 92.1, 88.9, 85.7, 83.5, 81.7, 80.2, 79.2, 77.6, 76.6, 75.9, 75.3, 74.8, 74.7, 75.8, 79.5, 83.2, 86.4, 89.2, 91.5, 93.2, 94.4, 94.8, 94.7, 94.1, 92.1, 88.9, 85.7, 83.5, 81.8, 80.2, 79.3, 77.6, 76.6, 75.9, 75.3, 74.8, 74.7, 75.7, 79.4, 83.1, 86.3, 89.1, 91.4, 93.1, 94.3, 94.7, 94.6, 94.0, 92.0, 88.7, 85.5, 83.4, 81.7, 80.1, 79.2, 77.5, 76.5, 75.8, 75.2, 74.8, 74.7, 75.6, 79.4, 83.0, 86.3, 89.0, 91.4, 93.0, 94.2, 94.6, 94.6, 93.8, 91.7, 88.5, 85.4, 83.3, 81.6, 80.0, 79.1, 77.4, 76.5, 75.7, 75.1, 74.6, 74.5, 75.5, 79.2, 82.9, 86.2, 88.9, 91.3, 92.8, 94.0, 94.5, 94.5, 93.7, 91.6, 88.3, 85.2, 83.1, 81.4, 79.9, 78.9, 77.3, 76.4, 75.7, 75.0, 74.5, 74.4, 75.4, 79.2, 82.9, 86.2, 88.8, 91.1, 92.7, 93.9, 94.3, 94.3, 93.5, 91.5, 88.2, 85.1, 83.0, 81.3, 79.7, 78.9, 77.3, 76.4, 75.6, 74.9, 74.5, 74.3, 75.3, 79.1, 82.7, 86.0, 88.7, 91.0, 92.6, 93.8, 94.1, 94.0, 93.2, 91.2, 87.9, 84.9, 82.7, 81.0, 79.6, 78.8, 77.2, 76.2, 75.5, 74.8, 74.4, 74.2, 75.2, 79.0, 82.6, 85.9, 88.6, 90.9, 92.4, 93.6, 94.0, 93.9, 93.0, 91.0, 87.8, 84.7, 82.6, 81.0, 79.4, 78.6, 77.0, 76.2, 75.4, 74.7, 74.2, 74.1, 75.0, 78.9, 82.6, 85.8, 88.6, 90.8, 92.3, 93.3, 93.7, 93.6, 92.7, 90.7, 87.5, 84.4, 82.2, 80.7, 79.2, 78.4, 76.9, 76.0, 75.3, 74.6, 74.1, 74.0, 74.9, 78.7, 82.4, 85.7, 88.4, 90.6, 92.1, 93.1, 93.5, 93.3, 92.3, 90.3, 87.1, 84.1, 81.9, 80.4, 78.9, 78.2, 76.7, 75.9, 75.1, 74.5, 74.0, 73.8, 74.7, 78.5, 82.2, 85.5, 88.2, 90.4, 91.9, 92.9, 93.3, 93.2, 92.2, 90.1, 86.9, 83.9, 81.7, 80.1, 78.7, 78.0, 76.5, 75.7, 74.9, 74.3, 73.7, 73.7, 74.5, 78.3, 82.1, 85.4, 88.1, 90.4, 91.8, 92.8, 93.3, 93.1, 92.1, 90.0, 86.8, 83.7, 81.5, 79.9, 78.4, 77.8, 76.3, 75.5, 74.7, 74.1, 73.5, 73.4, 74.3, 78.1, 81.9, 85.2, 87.9, 90.1, 91.6, 92.6, 93.1, 93.0, 91.9, 89.8, 86.6, 83.4, 81.2, 79.7, 78.2]]\n"
   ]
  },
  {
   "cell_type": "code",
   "execution_count": 31,
   "metadata": {},
   "outputs": [],
   "source": [
    "# Zip 2 list menjadi 1 list dalam bentuk tuple (key, value)\n",
    "zipped = list(zip(list_keys, list_values))\n",
    "\n",
    "# Konversi list ke dictionary\n",
    "data = dict(zipped)\n",
    "\n",
    "# Konversi dictionary ke dataframe\n",
    "df = pd.DataFrame(data)"
   ]
  },
  {
   "cell_type": "code",
   "execution_count": 40,
   "metadata": {},
   "outputs": [
    {
     "data": {
      "text/html": [
       "<div>\n",
       "<style scoped>\n",
       "    .dataframe tbody tr th:only-of-type {\n",
       "        vertical-align: middle;\n",
       "    }\n",
       "\n",
       "    .dataframe tbody tr th {\n",
       "        vertical-align: top;\n",
       "    }\n",
       "\n",
       "    .dataframe thead th {\n",
       "        text-align: right;\n",
       "    }\n",
       "</style>\n",
       "<table border=\"1\" class=\"dataframe\">\n",
       "  <thead>\n",
       "    <tr style=\"text-align: right;\">\n",
       "      <th></th>\n",
       "      <th>Temperature (deg F)</th>\n",
       "    </tr>\n",
       "  </thead>\n",
       "  <tbody>\n",
       "    <tr>\n",
       "      <th>0</th>\n",
       "      <td>79.0</td>\n",
       "    </tr>\n",
       "    <tr>\n",
       "      <th>1</th>\n",
       "      <td>77.4</td>\n",
       "    </tr>\n",
       "    <tr>\n",
       "      <th>2</th>\n",
       "      <td>76.4</td>\n",
       "    </tr>\n",
       "    <tr>\n",
       "      <th>3</th>\n",
       "      <td>75.7</td>\n",
       "    </tr>\n",
       "    <tr>\n",
       "      <th>4</th>\n",
       "      <td>75.1</td>\n",
       "    </tr>\n",
       "  </tbody>\n",
       "</table>\n",
       "</div>"
      ],
      "text/plain": [
       "   Temperature (deg F)\n",
       "0                 79.0\n",
       "1                 77.4\n",
       "2                 76.4\n",
       "3                 75.7\n",
       "4                 75.1"
      ]
     },
     "execution_count": 40,
     "metadata": {},
     "output_type": "execute_result"
    }
   ],
   "source": [
    "# Lihat 5 baris data \n",
    "df.head()"
   ]
  },
  {
   "cell_type": "code",
   "execution_count": 38,
   "metadata": {},
   "outputs": [
    {
     "name": "stdout",
     "output_type": "stream",
     "text": [
      "<class 'pandas.core.frame.DataFrame'>\n",
      "(744, 1)\n"
     ]
    }
   ],
   "source": [
    "# Lihat tipe data\n",
    "print(type(df))\n",
    "# Lihat jumlah data\n",
    "print(df.shape)"
   ]
  },
  {
   "cell_type": "code",
   "execution_count": 36,
   "metadata": {},
   "outputs": [
    {
     "data": {
      "image/png": "[encoded data removed]",
      "text/plain": [
       "<Figure size 432x288 with 1 Axes>"
      ]
     },
     "metadata": {
      "needs_background": "light"
     },
     "output_type": "display_data"
    }
   ],
   "source": [
    "# Import matplotlib\n",
    "import matplotlib.pyplot as plt\n",
    "\n",
    "# Create a plot with color='red'\n",
    "df.plot(color='red')\n",
    "\n",
    "# Add a title\n",
    "plt.title('Temperature in Austin')\n",
    "\n",
    "# Specify the x-axis label\n",
    "plt.xlabel('Hours since midnight August 1, 2010')\n",
    "\n",
    "# Specify the y-axis label\n",
    "plt.ylabel('Temperature (degrees F)')\n",
    "\n",
    "# Display the plot\n",
    "plt.show()"
   ]
  },
  {
   "cell_type": "markdown",
   "metadata": {},
   "source": [
    "### Plotting DataFrames\n",
    "\n",
    "Membandingkan data dari beberapa kolom bisa sangat mencerahkan. Pandas membuatnya mudah dengan DataFrames multi-kolom. Secara default, memanggil `df.plot()` akan menyebabkan pandas melakukan plot berlebihan pada semua kolom data, dengan setiap kolom sebagai satu baris. Dalam latihan ini, kami telah memuat tiga kolom data dari kumpulan data cuaca - suhu, titik embun, dan tekanan - tetapi masalahnya adalah tekanan memiliki unit ukuran yang berbeda. Data tekanan, diukur dalam Atmospheres, memiliki skala vertikal yang berbeda dari dua kolom data lainnya, yang keduanya diukur dalam derajat Fahrenheit.\n",
    "\n",
    "Tugas Anda adalah memplot semua kolom sebagai plot multi-garis, untuk melihat sifat masalah penskalaan vertikal. Kemudian, gunakan list nama kolom yang diteruskan ke DataFrame `df[column_list]` untuk membatasi plot hanya satu kolom, dan kemudian hanya 2 kolom data. Setelah selesai, Anda akan membuat 4 plot."
   ]
  },
  {
   "cell_type": "code",
   "execution_count": 41,
   "metadata": {},
   "outputs": [
    {
     "data": {
      "text/html": [
       "<div>\n",
       "<style scoped>\n",
       "    .dataframe tbody tr th:only-of-type {\n",
       "        vertical-align: middle;\n",
       "    }\n",
       "\n",
       "    .dataframe tbody tr th {\n",
       "        vertical-align: top;\n",
       "    }\n",
       "\n",
       "    .dataframe thead th {\n",
       "        text-align: right;\n",
       "    }\n",
       "</style>\n",
       "<table border=\"1\" class=\"dataframe\">\n",
       "  <thead>\n",
       "    <tr style=\"text-align: right;\">\n",
       "      <th></th>\n",
       "      <th>Temperature (deg F)</th>\n",
       "      <th>Dew Point (deg F)</th>\n",
       "      <th>Pressure (atm)</th>\n",
       "    </tr>\n",
       "  </thead>\n",
       "  <tbody>\n",
       "    <tr>\n",
       "      <th>0</th>\n",
       "      <td>79.0</td>\n",
       "      <td>70.8</td>\n",
       "      <td>1.0</td>\n",
       "    </tr>\n",
       "    <tr>\n",
       "      <th>1</th>\n",
       "      <td>77.4</td>\n",
       "      <td>71.2</td>\n",
       "      <td>1.0</td>\n",
       "    </tr>\n",
       "    <tr>\n",
       "      <th>2</th>\n",
       "      <td>76.4</td>\n",
       "      <td>71.3</td>\n",
       "      <td>1.0</td>\n",
       "    </tr>\n",
       "    <tr>\n",
       "      <th>3</th>\n",
       "      <td>75.7</td>\n",
       "      <td>71.4</td>\n",
       "      <td>1.0</td>\n",
       "    </tr>\n",
       "    <tr>\n",
       "      <th>4</th>\n",
       "      <td>75.1</td>\n",
       "      <td>71.4</td>\n",
       "      <td>1.0</td>\n",
       "    </tr>\n",
       "  </tbody>\n",
       "</table>\n",
       "</div>"
      ],
      "text/plain": [
       "   Temperature (deg F)  Dew Point (deg F)  Pressure (atm)\n",
       "0                 79.0               70.8             1.0\n",
       "1                 77.4               71.2             1.0\n",
       "2                 76.4               71.3             1.0\n",
       "3                 75.7               71.4             1.0\n",
       "4                 75.1               71.4             1.0"
      ]
     },
     "execution_count": 41,
     "metadata": {},
     "output_type": "execute_result"
    }
   ],
   "source": [
    "# Load data\n",
    "df = pd.read_csv('datasets/weather_f.csv')\n",
    "# Lihat 5 baris data\n",
    "df.head()"
   ]
  },
  {
   "cell_type": "code",
   "execution_count": 42,
   "metadata": {},
   "outputs": [
    {
     "name": "stdout",
     "output_type": "stream",
     "text": [
      "<class 'pandas.core.frame.DataFrame'>\n",
      "RangeIndex: 744 entries, 0 to 743\n",
      "Data columns (total 3 columns):\n",
      "Temperature (deg F)    744 non-null float64\n",
      "Dew Point (deg F)      744 non-null float64\n",
      "Pressure (atm)         744 non-null float64\n",
      "dtypes: float64(3)\n",
      "memory usage: 17.6 KB\n"
     ]
    }
   ],
   "source": [
    "# Lihat informasi data\n",
    "df.info()"
   ]
  },
  {
   "cell_type": "code",
   "execution_count": 43,
   "metadata": {},
   "outputs": [
    {
     "data": {
      "image/png": "[encoded data removed]",
      "text/plain": [
       "<Figure size 432x288 with 1 Axes>"
      ]
     },
     "metadata": {
      "needs_background": "light"
     },
     "output_type": "display_data"
    },
    {
     "data": {
      "image/png": "[encoded data removed]",
      "text/plain": [
       "<Figure size 432x288 with 3 Axes>"
      ]
     },
     "metadata": {
      "needs_background": "light"
     },
     "output_type": "display_data"
    },
    {
     "data": {
      "image/png": "[encoded data removed]",
      "text/plain": [
       "<Figure size 432x288 with 1 Axes>"
      ]
     },
     "metadata": {
      "needs_background": "light"
     },
     "output_type": "display_data"
    },
    {
     "data": {
      "image/png": "[encoded data removed]",
      "text/plain": [
       "<Figure size 432x288 with 1 Axes>"
      ]
     },
     "metadata": {
      "needs_background": "light"
     },
     "output_type": "display_data"
    }
   ],
   "source": [
    "# Plot all columns (default)\n",
    "df.plot()\n",
    "plt.show()\n",
    "\n",
    "# Plot all columns as subplots\n",
    "df.plot(subplots=True)\n",
    "plt.show()\n",
    "\n",
    "# Plot just the Dew Point data\n",
    "column_list1 = ['Dew Point (deg F)']\n",
    "df[column_list1].plot()\n",
    "plt.show()\n",
    "\n",
    "# Plot the Dew Point and Temperature data, but not the Pressure data\n",
    "column_list2 = ['Temperature (deg F)','Dew Point (deg F)']\n",
    "df[column_list2].plot()\n",
    "plt.show()"
   ]
  },
  {
   "cell_type": "code",
   "execution_count": null,
   "metadata": {},
   "outputs": [],
   "source": []
  }
 ],
 "metadata": {
  "kernelspec": {
   "display_name": "Python 3",
   "language": "python",
   "name": "python3"
  },
  "language_info": {
   "codemirror_mode": {
    "name": "ipython",
    "version": 3
   },
   "file_extension": ".py",
   "mimetype": "text/x-python",
   "name": "python",
   "nbconvert_exporter": "python",
   "pygments_lexer": "ipython3",
   "version": "3.7.3"
  }
 },
 "nbformat": 4,
 "nbformat_minor": 2
}
