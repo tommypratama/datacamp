{
 "cells": [
  {
   "cell_type": "markdown",
   "metadata": {},
   "source": [
    "# 1. Basic Concepts of String Manipulation\n",
    "\n",
    "Mulailah perjalanan Anda ke dunia **regular expression! atau Regex** Dari *slicing* dan *concatenating*, menyesuaikan case, menghilangkan spasi, hingga menemukan dan mengganti string. Anda akan belajar cara menguasai operasi dasar untuk manipulasi string menggunakan dataset ulasan film."
   ]
  },
  {
   "cell_type": "markdown",
   "metadata": {},
   "source": [
    "## Introduction to string manipulation"
   ]
  },
  {
   "cell_type": "markdown",
   "metadata": {},
   "source": [
    "### You will learn\n",
    "\n",
    "* Manipulasi string\n",
    "  * mengganti dan melakukan pencarian substring tertentu\n",
    "* Pemformatan string\n",
    "  * menginterpolasi string dalam templat\n",
    "* Dasar dan lanjutan regular expressions\n",
    "  * menemukan pola kompleks dalam sebuah string"
   ]
  },
  {
   "cell_type": "markdown",
   "metadata": {},
   "source": [
    "### Why it is important\n",
    "\n",
    "* Bersihkan dataset untuk mempersiapkan penambangan teks atau analisis sentimen\n",
    "* Memproses konten email untuk memberi data pada algoritma pembelajaran mesin yang memutuskan apakah email itu spam\n",
    "* Mengurai dan mengekstrak data tertentu dari situs web untuk membangun database"
   ]
  },
  {
   "cell_type": "markdown",
   "metadata": {},
   "source": [
    "### Strings\n",
    "\n",
    "* Urutan karakter\n",
    "* Tanda kutip tunggal `'` atau ganda `\"`"
   ]
  },
  {
   "cell_type": "code",
   "execution_count": 1,
   "metadata": {},
   "outputs": [],
   "source": [
    "my_string = \"This is a string\"\n",
    "my_string2 = 'This is also a string'"
   ]
  },
  {
   "cell_type": "code",
   "execution_count": 2,
   "metadata": {},
   "outputs": [
    {
     "ename": "SyntaxError",
     "evalue": "invalid syntax (<ipython-input-2-b97134ce7827>, line 1)",
     "output_type": "error",
     "traceback": [
      "\u001b[0;36m  File \u001b[0;32m\"<ipython-input-2-b97134ce7827>\"\u001b[0;36m, line \u001b[0;32m1\u001b[0m\n\u001b[0;31m    my_string = 'And this? It's the wrong string'\u001b[0m\n\u001b[0m                              ^\u001b[0m\n\u001b[0;31mSyntaxError\u001b[0m\u001b[0;31m:\u001b[0m invalid syntax\n"
     ]
    }
   ],
   "source": [
    "my_string = 'And this? It's the wrong string'"
   ]
  },
  {
   "cell_type": "code",
   "execution_count": 3,
   "metadata": {},
   "outputs": [],
   "source": [
    "my_string = \"And this? It's the correct string\""
   ]
  },
  {
   "cell_type": "markdown",
   "metadata": {},
   "source": [
    "### More strings\n",
    "\n",
    "* Length"
   ]
  },
  {
   "cell_type": "code",
   "execution_count": 4,
   "metadata": {},
   "outputs": [
    {
     "data": {
      "text/plain": [
       "11"
      ]
     },
     "execution_count": 4,
     "metadata": {},
     "output_type": "execute_result"
    }
   ],
   "source": [
    "my_string = \"Awesome day\"\n",
    "len(my_string)"
   ]
  },
  {
   "cell_type": "markdown",
   "metadata": {},
   "source": [
    "* Convert to string"
   ]
  },
  {
   "cell_type": "code",
   "execution_count": 5,
   "metadata": {},
   "outputs": [
    {
     "data": {
      "text/plain": [
       "'123'"
      ]
     },
     "execution_count": 5,
     "metadata": {},
     "output_type": "execute_result"
    }
   ],
   "source": [
    "str(123)"
   ]
  },
  {
   "cell_type": "markdown",
   "metadata": {},
   "source": [
    "### Concatenation\n",
    "\n",
    "* Concatenate: `+` operator"
   ]
  },
  {
   "cell_type": "code",
   "execution_count": 6,
   "metadata": {},
   "outputs": [],
   "source": [
    "my_string1 = \"Awesome day\"\n",
    "my_string2 = \"for biking\""
   ]
  },
  {
   "cell_type": "code",
   "execution_count": 7,
   "metadata": {},
   "outputs": [
    {
     "name": "stdout",
     "output_type": "stream",
     "text": [
      "Awesome day for biking\n"
     ]
    }
   ],
   "source": [
    "print(my_string1+\" \"+my_string2)"
   ]
  },
  {
   "cell_type": "markdown",
   "metadata": {},
   "source": [
    "### Indexing\n",
    "\n",
    "* Bracket notation\n",
    "\n",
    "<img src=\"datasets/index.png\" width=400px height=400px align=left />"
   ]
  },
  {
   "cell_type": "code",
   "execution_count": 8,
   "metadata": {},
   "outputs": [],
   "source": [
    "my_string = \"Awesome day\""
   ]
  },
  {
   "cell_type": "code",
   "execution_count": 9,
   "metadata": {},
   "outputs": [
    {
     "name": "stdout",
     "output_type": "stream",
     "text": [
      "s\n"
     ]
    }
   ],
   "source": [
    "print(my_string[3])"
   ]
  },
  {
   "cell_type": "code",
   "execution_count": 10,
   "metadata": {},
   "outputs": [
    {
     "name": "stdout",
     "output_type": "stream",
     "text": [
      "y\n"
     ]
    }
   ],
   "source": [
    "print(my_string[-1])"
   ]
  },
  {
   "cell_type": "markdown",
   "metadata": {},
   "source": [
    "### Slicing\n",
    "\n",
    "* Bracket notation\n",
    "\n",
    "<img src=\"datasets/slicing.png\" width=400px height=400px align=left />"
   ]
  },
  {
   "cell_type": "code",
   "execution_count": 11,
   "metadata": {},
   "outputs": [
    {
     "name": "stdout",
     "output_type": "stream",
     "text": [
      "Awe\n"
     ]
    }
   ],
   "source": [
    "my_string = \"Awesome day\"\n",
    "print(my_string[0:3])"
   ]
  },
  {
   "cell_type": "code",
   "execution_count": 12,
   "metadata": {},
   "outputs": [
    {
     "name": "stdout",
     "output_type": "stream",
     "text": [
      "Aweso\n",
      "me day\n"
     ]
    }
   ],
   "source": [
    "print(my_string[:5])\n",
    "print(my_string[5:])"
   ]
  },
  {
   "cell_type": "markdown",
   "metadata": {},
   "source": [
    "### Stride\n",
    "\n",
    "* Menentukan stride [AWAL:AKHIR:STEP]\n",
    "\n",
    "<img src=\"datasets/stride.png\" width=400px height=400px align=left />"
   ]
  },
  {
   "cell_type": "code",
   "execution_count": 13,
   "metadata": {},
   "outputs": [
    {
     "name": "stdout",
     "output_type": "stream",
     "text": [
      "Aeo\n"
     ]
    }
   ],
   "source": [
    "my_string = \"Awesome day\"\n",
    "print(my_string[0:6:2])"
   ]
  },
  {
   "cell_type": "code",
   "execution_count": 14,
   "metadata": {},
   "outputs": [
    {
     "name": "stdout",
     "output_type": "stream",
     "text": [
      "yad emosewA\n"
     ]
    }
   ],
   "source": [
    "print(my_string[::-1])"
   ]
  },
  {
   "cell_type": "markdown",
   "metadata": {},
   "source": [
    "### First day!\n",
    "\n",
    "Selamat! Ini hari pertama Anda sebagai ilmuwan data di perusahaan! Proyek pertama Anda adalah membuat model untuk memprediksi apakah film akan mendapat ulasan positif atau negatif.\n",
    "\n",
    "Anda harus mulai menjelajahi dataset Anda. Untuk membuat fungsi yang akan memindai setiap ulasan film, Anda ingin tahu berapa banyak karakter yang dimiliki setiap string dan mencetak hasilnya bersama dengan pernyataan yang menunjukkan apa yang dimaksud dengan nomor tersebut. Untuk menguji apakah fungsi Anda berfungsi dengan benar, Anda akan mulai dengan menganalisis hanya satu contoh.\n",
    "\n",
    "Teks dari satu ulasan film telah disimpan dalam variabel `movie`."
   ]
  },
  {
   "cell_type": "code",
   "execution_count": 15,
   "metadata": {},
   "outputs": [],
   "source": [
    "# String movie\n",
    "movie = \"fox and kelley soon become bitter rivals because the new fox books store is opening up right across the block from the small business .\"\n"
   ]
  },
  {
   "cell_type": "code",
   "execution_count": 16,
   "metadata": {},
   "outputs": [
    {
     "name": "stdout",
     "output_type": "stream",
     "text": [
      "Number of characters in this review: 135\n"
     ]
    }
   ],
   "source": [
    "# Find characters in movie variable\n",
    "length_string = len(movie)\n",
    "\n",
    "# Convert to string\n",
    "to_string = str(length_string)\n",
    "\n",
    "# Predefined variable\n",
    "statement = \"Number of characters in this review:\"\n",
    "\n",
    "# Concatenate strings and print result\n",
    "print(statement + \" \" + to_string)"
   ]
  },
  {
   "cell_type": "markdown",
   "metadata": {},
   "source": [
    "**Note** : Mengetahui cara memanipulasi string akan membantu Anda melakukan banyak tugas ilmu data dengan lebih cepat dan mudah."
   ]
  },
  {
   "cell_type": "markdown",
   "metadata": {},
   "source": [
    "### Artificial reviews\n",
    "\n",
    "Saat memeriksa ulasan film dalam dataset, Anda menyadari bahwa beberapa di antaranya menunjukkan pola yang tidak biasa. Karena Anda hanya harus memasukkan ulasan yang valid dalam analisis Anda, Anda memutuskan untuk mengekstrak karakter aneh yang mengikuti pola ini. Anda ingin melihat apakah mungkin membuat ulasan secara artifisial dengan menggunakan bagian pertama dan terakhir dari satu contoh ulasan dan mengubah kata kunci di tengah.\n",
    "\n",
    "Teks dari dua ulasan film telah disimpan dalam variabel `movie1` dan `movie2`.\n",
    "\n",
    "*Ingat: Karakter pertama string memiliki indeks 0.*"
   ]
  },
  {
   "cell_type": "code",
   "execution_count": 17,
   "metadata": {},
   "outputs": [],
   "source": [
    "# String movie\n",
    "movie1 = \"the most significant tension of _election_ is the potential relationship between a teacher and his student .\"\n",
    "movie2 = \"the most significant tension of _rushmore_ is the potential relationship between a teacher and his student .\""
   ]
  },
  {
   "cell_type": "code",
   "execution_count": 18,
   "metadata": {},
   "outputs": [
    {
     "name": "stdout",
     "output_type": "stream",
     "text": [
      "the most significant tension of _rushmore_ is the potential relationship between a teacher and his student .\n",
      "the most significant tension of _rushmore_ is the potential relationship between a teacher and his student .\n"
     ]
    }
   ],
   "source": [
    "# Select the first 32 characters of movie1\n",
    "first_part = movie1[:32]\n",
    "\n",
    "# Select from 43rd character to the end of movie1\n",
    "last_part = movie1[42:]\n",
    "\n",
    "# Select from 33rd to the 42nd character\n",
    "middle_part = movie2[32:42]\n",
    "\n",
    "# Print concatenation and movie2 variable\n",
    "print(first_part+middle_part+last_part) \n",
    "print(movie2)"
   ]
  },
  {
   "cell_type": "markdown",
   "metadata": {},
   "source": [
    "**Note** : Ingat bahwa pengindeksan dalam python adalah berbasis-0 dan bahwa **indeks pertama yang ditentukan termasuk** sementara **indeks kedua dikecualikan**!"
   ]
  },
  {
   "cell_type": "markdown",
   "metadata": {},
   "source": [
    "### Palindromes\n",
    "\n",
    "Selanjutnya, Anda berkomitmen untuk menemukan kekhasan kata-kata yang termasuk dalam dataset ulasan film. Palindrome adalah urutan karakter yang dapat dibaca dengan mundur ke depan (*backward as forward*), misalnya: `Madam` atau `No lemon, no melon`. Anda menyadari bahwa ada beberapa nama film lucu yang dapat memiliki karakteristik ini. Anda ingin membuat daftar semua judul film yang merupakan palindrom lucu tetapi Anda akan mulai dengan menganalisis satu contoh.\n",
    "\n",
    "Dengan python, Anda juga bisa menentukan langkah-langkah dengan menggunakan indeks ketiga. Jika Anda tidak menentukan indeks pertama atau kedua dan yang ketiga negatif, itu akan mengembalikan karakter melompat dan mundur."
   ]
  },
  {
   "cell_type": "code",
   "execution_count": 19,
   "metadata": {},
   "outputs": [],
   "source": [
    "# String movie\n",
    "movie = \"oh my God! desserts I stressed was an ugly movie\""
   ]
  },
  {
   "cell_type": "code",
   "execution_count": 20,
   "metadata": {},
   "outputs": [
    {
     "name": "stdout",
     "output_type": "stream",
     "text": [
      "desserts I stressed\n"
     ]
    }
   ],
   "source": [
    "# Get the word\n",
    "movie_title = movie[11:30]\n",
    "\n",
    "# Obtain the palindrome\n",
    "palindrome = movie[11:30]\n",
    "\n",
    "# Print the word if it's a palindrome\n",
    "if movie_title == palindrome:\n",
    "    print(movie_title)"
   ]
  },
  {
   "cell_type": "markdown",
   "metadata": {},
   "source": [
    "**Note** : Membalikkan string sebagai hasil dari menghilangkan indeks pertama dan kedua dan menunjuk satu langkah minus adalah strategi yang sangat umum."
   ]
  },
  {
   "cell_type": "markdown",
   "metadata": {},
   "source": [
    "## String operations"
   ]
  },
  {
   "cell_type": "markdown",
   "metadata": {},
   "source": [
    "### Adjusting cases"
   ]
  },
  {
   "cell_type": "code",
   "execution_count": 27,
   "metadata": {},
   "outputs": [],
   "source": [
    "my_string = \"tHis Is a niCe StriNg\""
   ]
  },
  {
   "cell_type": "code",
   "execution_count": 28,
   "metadata": {},
   "outputs": [
    {
     "name": "stdout",
     "output_type": "stream",
     "text": [
      "this is a nice string\n"
     ]
    }
   ],
   "source": [
    "# Converting to lowercase\n",
    "print(my_string.lower())"
   ]
  },
  {
   "cell_type": "code",
   "execution_count": 26,
   "metadata": {},
   "outputs": [
    {
     "name": "stdout",
     "output_type": "stream",
     "text": [
      "THIS IS A NICE STRING\n"
     ]
    }
   ],
   "source": [
    "# Converting to uppercase\n",
    "print(my_string.upper())"
   ]
  },
  {
   "cell_type": "code",
   "execution_count": 29,
   "metadata": {},
   "outputs": [
    {
     "name": "stdout",
     "output_type": "stream",
     "text": [
      "This is a nice string\n"
     ]
    }
   ],
   "source": [
    "# Capitalizing the rst character\n",
    "print(my_string.capitalize())"
   ]
  },
  {
   "cell_type": "markdown",
   "metadata": {},
   "source": [
    "### Splitting"
   ]
  },
  {
   "cell_type": "code",
   "execution_count": 30,
   "metadata": {},
   "outputs": [],
   "source": [
    "my_string = \"This string will be split\""
   ]
  },
  {
   "cell_type": "code",
   "execution_count": 31,
   "metadata": {},
   "outputs": [
    {
     "data": {
      "text/plain": [
       "['This', 'string', 'will be split']"
      ]
     },
     "execution_count": 31,
     "metadata": {},
     "output_type": "execute_result"
    }
   ],
   "source": [
    "# Memisahkan string menjadi list substring\n",
    "my_string.split(sep=\" \", maxsplit=2)"
   ]
  },
  {
   "cell_type": "code",
   "execution_count": 32,
   "metadata": {},
   "outputs": [
    {
     "data": {
      "text/plain": [
       "['This string will', 'be', 'split']"
      ]
     },
     "execution_count": 32,
     "metadata": {},
     "output_type": "execute_result"
    }
   ],
   "source": [
    "my_string.rsplit(sep=\" \", maxsplit=2)"
   ]
  },
  {
   "cell_type": "code",
   "execution_count": 33,
   "metadata": {},
   "outputs": [
    {
     "name": "stdout",
     "output_type": "stream",
     "text": [
      "This string will be split\n",
      "in two\n"
     ]
    }
   ],
   "source": [
    "my_string = \"This string will be split\\nin two\"\n",
    "print(my_string)"
   ]
  },
  {
   "cell_type": "markdown",
   "metadata": {},
   "source": [
    "* `\\n` Newline\n",
    "* `\\r` Carriage return"
   ]
  },
  {
   "cell_type": "code",
   "execution_count": 34,
   "metadata": {},
   "outputs": [],
   "source": [
    "# Breaking at line boundaries\n",
    "my_string = \"This string will be split\\nin two\""
   ]
  },
  {
   "cell_type": "code",
   "execution_count": 35,
   "metadata": {},
   "outputs": [
    {
     "data": {
      "text/plain": [
       "['This string will be split', 'in two']"
      ]
     },
     "execution_count": 35,
     "metadata": {},
     "output_type": "execute_result"
    }
   ],
   "source": [
    "my_string.splitlines()"
   ]
  },
  {
   "cell_type": "markdown",
   "metadata": {},
   "source": [
    "### Joining\n",
    "\n",
    "* String gabungan dari list atau iterable lainnya\n",
    "  * `sep.join(iterable)`"
   ]
  },
  {
   "cell_type": "code",
   "execution_count": 36,
   "metadata": {},
   "outputs": [
    {
     "name": "stdout",
     "output_type": "stream",
     "text": [
      "this would be a string\n"
     ]
    }
   ],
   "source": [
    "my_list = [\"this\", \"would\", \"be\", \"a\", \"string\"]\n",
    "print(\" \".join(my_list))"
   ]
  },
  {
   "cell_type": "markdown",
   "metadata": {},
   "source": [
    "### Stripping characters\n",
    "\n",
    "* Strip karakter dari kiri ke kanan: `.strip()`"
   ]
  },
  {
   "cell_type": "code",
   "execution_count": 37,
   "metadata": {},
   "outputs": [],
   "source": [
    "my_string = \" This string will be stripped\\n\""
   ]
  },
  {
   "cell_type": "code",
   "execution_count": 38,
   "metadata": {},
   "outputs": [
    {
     "data": {
      "text/plain": [
       "'This string will be stripped'"
      ]
     },
     "execution_count": 38,
     "metadata": {},
     "output_type": "execute_result"
    }
   ],
   "source": [
    "my_string.strip()"
   ]
  },
  {
   "cell_type": "code",
   "execution_count": 39,
   "metadata": {},
   "outputs": [
    {
     "data": {
      "text/plain": [
       "' This string will be stripped'"
      ]
     },
     "execution_count": 39,
     "metadata": {},
     "output_type": "execute_result"
    }
   ],
   "source": [
    "# Hapus karakter dari ujung kanan\n",
    "my_string.rstrip()"
   ]
  },
  {
   "cell_type": "code",
   "execution_count": 40,
   "metadata": {},
   "outputs": [
    {
     "data": {
      "text/plain": [
       "'This string will be stripped\\n'"
      ]
     },
     "execution_count": 40,
     "metadata": {},
     "output_type": "execute_result"
    }
   ],
   "source": [
    "# Hapus karakter dari ujung kiri\n",
    "my_string.lstrip()"
   ]
  },
  {
   "cell_type": "markdown",
   "metadata": {},
   "source": [
    "### Normalizing reviews\n",
    "\n",
    "Saatnya untuk mengekstrak beberapa kata penting yang ada dalam dataset ulasan film Anda. Pertama, Anda perlu menormalkan mereka dan kemudian, hitung frekuensinya. Bagian dari normalisasi menyiratkan mengubah semua kata menjadi huruf kecil, menghapus karakter khusus dan mengekstrak akar kata sehingga Anda menghitung varian sebagai satu.\n",
    "\n",
    "Jadi bayangkan Anda memiliki ulasan berikut: `The movie surprises me very much` dan `Marvel movies always surprise their audience`. Jika Anda menghitung frekuensi kata, Anda akan menghitung `surprises` satu kali dan `surprise` satu kali. Namun, kata kerja `surprise` muncul di keduanya dan frekuensinya harus dua."
   ]
  },
  {
   "cell_type": "code",
   "execution_count": 41,
   "metadata": {},
   "outputs": [],
   "source": [
    "# String movie\n",
    "movie = \"$I supposed that coming from MTV Films I should expect no less$\""
   ]
  },
  {
   "cell_type": "code",
   "execution_count": 42,
   "metadata": {},
   "outputs": [
    {
     "name": "stdout",
     "output_type": "stream",
     "text": [
      "$i supposed that coming from mtv films i should expect no less$\n",
      "i supposed that coming from mtv films i should expect no less\n",
      "['i', 'supposed', 'that', 'coming', 'from', 'mtv', 'films', 'i', 'should', 'expect', 'no', 'less']\n",
      "d\n"
     ]
    }
   ],
   "source": [
    "# Convert to lowercase and print the result\n",
    "movie_lower = movie.lower()\n",
    "print(movie_lower)\n",
    "\n",
    "# Remove whitespaces and print the result\n",
    "movie_no_space = movie_lower.strip(\"$\")\n",
    "print(movie_no_space)\n",
    "\n",
    "# Split the string into substrings and print the result\n",
    "movie_split = movie_no_space.split()\n",
    "print(movie_split)\n",
    "\n",
    "# Select root word and print the result\n",
    "word_root = movie_split[1][-1]\n",
    "print(word_root)"
   ]
  },
  {
   "cell_type": "markdown",
   "metadata": {},
   "source": [
    "**Note** : Normalisasi string adalah bagian mendasar dari penambangan teks. Ingat bahwa jika Anda tidak menentukan argumen apa pun di `strip()` dan `split()`, itu akan selalu menghapus atau membagi spasi putih."
   ]
  },
  {
   "cell_type": "markdown",
   "metadata": {},
   "source": [
    "### Time to join!\n",
    "\n",
    "Saat menormalkan teks Anda, Anda melihat bahwa satu ulasan memiliki struktur tertentu. Ulasan ini diakhiri dengan tag HTML `<\\i>` dan memiliki banyak koma di berbagai tempat kalimat. Anda memutuskan untuk menghapus tag dari akhir dan menggunakan strategi pemisahan string dan menggabungkan kembali tanpa koma."
   ]
  },
  {
   "cell_type": "code",
   "execution_count": 46,
   "metadata": {},
   "outputs": [],
   "source": [
    "# String movie\n",
    "movie = \"the film,however,is all good<\\i>\""
   ]
  },
  {
   "cell_type": "code",
   "execution_count": 47,
   "metadata": {},
   "outputs": [
    {
     "name": "stdout",
     "output_type": "stream",
     "text": [
      "the film,however,is all good\n",
      "['the film', 'however', 'is all good']\n",
      "the film however is all good\n"
     ]
    }
   ],
   "source": [
    "# Remove tags happening at the end and print results\n",
    "movie_tag = movie.rstrip(\"<\\i>\")\n",
    "print(movie_tag)\n",
    "\n",
    "# Split the string using commas and print results\n",
    "movie_no_comma = movie_tag.split(\",\")\n",
    "print(movie_no_comma)\n",
    "\n",
    "# Join back together and print results\n",
    "movie_join = \" \".join(movie_no_comma)\n",
    "print(movie_join)"
   ]
  },
  {
   "cell_type": "markdown",
   "metadata": {},
   "source": [
    "**Note** : Ingat bahwa jika Anda menentukan argumen dalam `strip()` dan `split()`, itu akan menggunakan karakter itu untuk menghapus atau membagi."
   ]
  },
  {
   "cell_type": "markdown",
   "metadata": {},
   "source": [
    "### Split lines or split the line?\n",
    "\n",
    "Anda akan meninggalkan pekerjaan ketika seorang kolega meminta Anda untuk menggunakan keterampilan memanipulasi string Anda untuk membantunya. Anda perlu membaca string dari file dengan cara itu jika file berisi string pada baris yang berbeda, mereka disimpan sebagai elemen yang terpisah. Dia juga ingin Anda memecah string menjadi beberapa bagian jika Anda melihat bahwa string tersebut mengandung koma."
   ]
  },
  {
   "cell_type": "code",
   "execution_count": 48,
   "metadata": {},
   "outputs": [],
   "source": [
    "# String file\n",
    "file = \"\"\"\n",
    "mtv films election, a high school comedy, is a current example\n",
    "from there, director steven spielberg wastes no time, taking us into the water on a midnight swim\n",
    "\"\"\""
   ]
  },
  {
   "cell_type": "code",
   "execution_count": 50,
   "metadata": {},
   "outputs": [
    {
     "name": "stdout",
     "output_type": "stream",
     "text": [
      "['', 'mtv films election, a high school comedy, is a current example', 'from there, director steven spielberg wastes no time, taking us into the water on a midnight swim']\n",
      "['']\n",
      "['mtv films election', ' a high school comedy', ' is a current example']\n",
      "['from there', ' director steven spielberg wastes no time', ' taking us into the water on a midnight swim']\n"
     ]
    }
   ],
   "source": [
    "# Split string at line boundaries\n",
    "file_split = file.splitlines()\n",
    "\n",
    "# Print file_split\n",
    "print(file_split)\n",
    "\n",
    "# Complete for-loop to split by commas\n",
    "for substring in file_split:\n",
    "    substring_split = substring.split(\",\")\n",
    "    print(substring_split)"
   ]
  },
  {
   "cell_type": "markdown",
   "metadata": {},
   "source": [
    "**Note** : Perbedaan antara `split()` dan `splitlines` adalah bahwa `splitlines()` memecah string dengan batas garis sementara `split()` menggunakan elemen pemisah untuk memecah string menjadi beberapa bagian."
   ]
  },
  {
   "cell_type": "markdown",
   "metadata": {},
   "source": [
    "## Finding and replacing"
   ]
  },
  {
   "cell_type": "markdown",
   "metadata": {},
   "source": [
    "### Finding substrings\n",
    "\n",
    "* Cari string target untuk substring yang ditentukan.\n",
    "  * `string.find(substring, start, end)`\n",
    "  * `start` dan `end` opsional\n",
    "  * `-1` adalah string tidak ditemukan"
   ]
  },
  {
   "cell_type": "code",
   "execution_count": 51,
   "metadata": {},
   "outputs": [
    {
     "data": {
      "text/plain": [
       "8"
      ]
     },
     "execution_count": 51,
     "metadata": {},
     "output_type": "execute_result"
    }
   ],
   "source": [
    "my_string = \"Where's Waldo?\"\n",
    "my_string.find(\"Waldo\")"
   ]
  },
  {
   "cell_type": "code",
   "execution_count": 52,
   "metadata": {},
   "outputs": [
    {
     "data": {
      "text/plain": [
       "-1"
      ]
     },
     "execution_count": 52,
     "metadata": {},
     "output_type": "execute_result"
    }
   ],
   "source": [
    "my_string.find(\"Wenda\")"
   ]
  },
  {
   "cell_type": "code",
   "execution_count": 53,
   "metadata": {},
   "outputs": [
    {
     "data": {
      "text/plain": [
       "-1"
      ]
     },
     "execution_count": 53,
     "metadata": {},
     "output_type": "execute_result"
    }
   ],
   "source": [
    "my_string.find(\"Waldo\", 0, 6)"
   ]
  },
  {
   "cell_type": "markdown",
   "metadata": {},
   "source": [
    "### Index function\n",
    "\n",
    "* Mirip dengan `.find()`, yaitu mencari string target untuk substring yang ditentukan\n",
    "* `string.index(substring, start, end)`\n",
    "  * `start` dan `end` opsional"
   ]
  },
  {
   "cell_type": "code",
   "execution_count": 54,
   "metadata": {},
   "outputs": [
    {
     "data": {
      "text/plain": [
       "8"
      ]
     },
     "execution_count": 54,
     "metadata": {},
     "output_type": "execute_result"
    }
   ],
   "source": [
    "my_string = \"Where's Waldo?\"\n",
    "my_string.index(\"Waldo\")"
   ]
  },
  {
   "cell_type": "code",
   "execution_count": 55,
   "metadata": {},
   "outputs": [
    {
     "ename": "ValueError",
     "evalue": "substring not found",
     "output_type": "error",
     "traceback": [
      "\u001b[0;31m---------------------------------------------------------------------------\u001b[0m",
      "\u001b[0;31mValueError\u001b[0m                                Traceback (most recent call last)",
      "\u001b[0;32m<ipython-input-55-5ec1f8bea9d3>\u001b[0m in \u001b[0;36m<module>\u001b[0;34m\u001b[0m\n\u001b[0;32m----> 1\u001b[0;31m \u001b[0mmy_string\u001b[0m\u001b[0;34m.\u001b[0m\u001b[0mindex\u001b[0m\u001b[0;34m(\u001b[0m\u001b[0;34m\"Wenda\"\u001b[0m\u001b[0;34m)\u001b[0m\u001b[0;34m\u001b[0m\u001b[0;34m\u001b[0m\u001b[0m\n\u001b[0m",
      "\u001b[0;31mValueError\u001b[0m: substring not found"
     ]
    }
   ],
   "source": [
    "my_string.index(\"Wenda\")"
   ]
  },
  {
   "cell_type": "code",
   "execution_count": 56,
   "metadata": {},
   "outputs": [
    {
     "name": "stdout",
     "output_type": "stream",
     "text": [
      "Not found\n"
     ]
    }
   ],
   "source": [
    "try:\n",
    "    my_string.index(\"Wenda\")\n",
    "except ValueError:\n",
    "    print(\"Not found\")"
   ]
  },
  {
   "cell_type": "markdown",
   "metadata": {},
   "source": [
    "### Counting occurrences\n",
    "\n",
    "* Return jumlah kemunculan untuk substring yang ditentukan\n",
    "* `string.count(substring, start, end)`\n",
    "  * `start` dan `end` opsional"
   ]
  },
  {
   "cell_type": "code",
   "execution_count": 57,
   "metadata": {},
   "outputs": [
    {
     "data": {
      "text/plain": [
       "2"
      ]
     },
     "execution_count": 57,
     "metadata": {},
     "output_type": "execute_result"
    }
   ],
   "source": [
    "my_string = \"How many fruits do you have in your fruit basket?\"\n",
    "my_string.count(\"fruit\")"
   ]
  },
  {
   "cell_type": "code",
   "execution_count": 58,
   "metadata": {},
   "outputs": [
    {
     "data": {
      "text/plain": [
       "1"
      ]
     },
     "execution_count": 58,
     "metadata": {},
     "output_type": "execute_result"
    }
   ],
   "source": [
    "my_string.count(\"fruit\", 0, 16)"
   ]
  },
  {
   "cell_type": "markdown",
   "metadata": {},
   "source": [
    "### Replacing substrings\n",
    "\n",
    "* Ganti kemunculan substring dengan substring baru\n",
    "* `string.replace(old, new, count)`\n",
    "  * `count` opsional"
   ]
  },
  {
   "cell_type": "code",
   "execution_count": 59,
   "metadata": {},
   "outputs": [
    {
     "name": "stdout",
     "output_type": "stream",
     "text": [
      "The red car is between the blue car and the old car\n"
     ]
    }
   ],
   "source": [
    "my_string = \"The red house is between the blue house and the old house\"\n",
    "print(my_string.replace(\"house\", \"car\"))"
   ]
  },
  {
   "cell_type": "code",
   "execution_count": 60,
   "metadata": {},
   "outputs": [
    {
     "name": "stdout",
     "output_type": "stream",
     "text": [
      "The red car is between the blue car and the old house\n"
     ]
    }
   ],
   "source": [
    "print(my_string.replace(\"house\", \"car\", 2))"
   ]
  },
  {
   "cell_type": "markdown",
   "metadata": {},
   "source": [
    "### Wrapping up\n",
    "\n",
    "* String manipulation:\n",
    "  * Slice and concatenate\n",
    "  * Adjust cases\n",
    "  * Split and join\n",
    "  * Remove characters from beginning and end\n",
    "  * Finding substrings\n",
    "  * Counting occurrences\n",
    "  * Replacing substrings"
   ]
  },
  {
   "cell_type": "markdown",
   "metadata": {},
   "source": [
    "### Practice: Finding a substring\n",
    "\n",
    "Ini adalah hari yang baru di tempat kerja dan Anda harus terus membersihkan dataset Anda untuk proyek prediksi film. Saat menjelajahi dataset, Anda melihat pola yang aneh: ada beberapa kata berulang yang muncul antara karakter di posisi 37 dan karakter di posisi 41. Anda memutuskan untuk menulis fungsi untuk mengetahui ulasan film mana yang menunjukkan kekhasan ini, mengingat bahwa posisi akhir yang Anda tentukan tidak inklusif. Jika Anda mendeteksi kata, Anda juga ingin mengubah string dengan menggantinya dengan hanya satu contoh kata."
   ]
  },
  {
   "cell_type": "code",
   "execution_count": 71,
   "metadata": {},
   "outputs": [
    {
     "name": "stdout",
     "output_type": "stream",
     "text": [
      "0    it's clear that he's passionate about his beli...\n",
      "1    I believe you I always said that the actor act...\n",
      "2    it's astonishing how frightening the actor act...\n",
      "dtype: object\n"
     ]
    }
   ],
   "source": [
    "import pandas as pd\n",
    "\n",
    "movies = pd.Series([\"it's clear that he's passionate about his beliefs , and that he's not just a punk looking for an excuse to beat people up .\",\n",
    "                    'I believe you I always said that the actor actor actor is amazing in every movie he has played',\n",
    "                    \"it's astonishing how frightening the actor actor norton looks with a shaved head and a swastika on his chest.\"])\n",
    "print(movies)"
   ]
  },
  {
   "cell_type": "code",
   "execution_count": 72,
   "metadata": {},
   "outputs": [
    {
     "name": "stdout",
     "output_type": "stream",
     "text": [
      "Word not found\n",
      "I believe you I always said that the actor is amazing in every movie he has played\n",
      "it's astonishing how frightening the actor norton looks with a shaved head and a swastika on his chest.\n"
     ]
    }
   ],
   "source": [
    "for movie in movies:\n",
    "    # Find if actor occurrs between 37 and 41 inclusive\n",
    "    if movie.find(\"actor\", 37, 42) == -1:\n",
    "        print(\"Word not found\")\n",
    "    # Count occurrences and replace two by one\n",
    "    elif movie.count(\"actor\") == 2:  \n",
    "        print(movie.replace(\"actor actor\", \"actor\"))\n",
    "    else:\n",
    "        # Replace three occurrences by one\n",
    "        print(movie.replace(\"actor actor actor\", \"actor\"))"
   ]
  },
  {
   "cell_type": "markdown",
   "metadata": {},
   "source": [
    "**Note** : Ingat bahwa argumen `start` dan `end` adalah opsional dalam metode `.find()` dan `.count()`. Ketika ditentukan, metode menafsirkan mereka untuk slicing string."
   ]
  },
  {
   "cell_type": "markdown",
   "metadata": {},
   "source": [
    "### Where's the word?\n",
    "\n",
    "Sebelum menyelesaikan proses pembersihan dataset Anda, Anda ingin memeriksa apakah ada kata tertentu dalam ulasan. Anda perhatikan sebelumnya pola spesifik dalam string. Sekarang, Anda ingin membuat fungsi untuk memeriksa apakah ada kata di antara karakter dengan indeks `12`, dan `50`, mengingat posisi akhir eksklusif, dan mencetak indeks terendah di mana kata ini muncul. Ada dua metode untuk menangani situasi ini. Anda ingin melihat mana yang paling berhasil."
   ]
  },
  {
   "cell_type": "code",
   "execution_count": 73,
   "metadata": {},
   "outputs": [
    {
     "name": "stdout",
     "output_type": "stream",
     "text": [
      "0    heck , jackie doesn't even have enough money f...\n",
      "1    in condor , chan plays the same character he's...\n",
      "dtype: object\n"
     ]
    }
   ],
   "source": [
    "# Create series\n",
    "movies = pd.Series([\"heck , jackie doesn't even have enough money for a haircut , looks like , much less a personal hairstylist .\",\n",
    "                    \"in condor , chan plays the same character he's always played , himself , a mixture of bruce lee and tim allen , a master of both kung-fu and slapstick-fu .\"])\n",
    "print(movies)"
   ]
  },
  {
   "cell_type": "code",
   "execution_count": 75,
   "metadata": {},
   "outputs": [
    {
     "name": "stdout",
     "output_type": "stream",
     "text": [
      "39\n",
      "-1\n"
     ]
    }
   ],
   "source": [
    "for movie in movies:\n",
    "  # Find the first occurrence of word\n",
    "  print(movie.find(\"money\", 12, 51))"
   ]
  },
  {
   "cell_type": "code",
   "execution_count": 74,
   "metadata": {},
   "outputs": [
    {
     "name": "stdout",
     "output_type": "stream",
     "text": [
      "39\n",
      "substring not found\n"
     ]
    }
   ],
   "source": [
    "for movie in movies:\n",
    "    try:\n",
    "        # Find the first occurrence of word\n",
    "        print(movie.index(\"money\", 12, 51))\n",
    "    except ValueError:\n",
    "        print(\"substring not found\")"
   ]
  },
  {
   "cell_type": "markdown",
   "metadata": {},
   "source": [
    "**Note** : `find()` akan mengembalikan nilai minus satu jika substring tidak ditemukan, dalam sebagian besar kasus, lebih baik daripada menangani pengecualian `index()` dengan `ValueError` karena meningkatkan kinerja."
   ]
  },
  {
   "cell_type": "markdown",
   "metadata": {},
   "source": [
    "### Replacing negations\n",
    "\n",
    "Agar tetap dapat bekerja dengan proyek prediksi Anda, tugas Anda selanjutnya adalah mencari tahu bagaimana menangani negasi yang terjadi pada dataset Anda. Beberapa algoritme untuk prediksi tidak berfungsi dengan baik dengan negasi, jadi cara yang baik untuk mengatasinya adalah dengan menghapus `not` atau `n't`, dan mengganti kata berikutnya dengan antonimnya.\n",
    "\n",
    "Misalkan Anda memiliki string: `The movie isn't good`. Anda harus menghapus `n't` dan mengganti `good` ke `bad`. Dengan cara ini, string Anda akhirnya menjadi `The movie is bad`. Anda perhatikan bahwa di kolom pertama dataset, Anda memiliki string yang menggunakan kata tersebut `isn't` diikuti oleh `important`."
   ]
  },
  {
   "cell_type": "code",
   "execution_count": 77,
   "metadata": {},
   "outputs": [
    {
     "name": "stdout",
     "output_type": "stream",
     "text": [
      "the rest of the story isn't important because all it does is serve as a mere backdrop for the two stars to share the screen .\n"
     ]
    }
   ],
   "source": [
    "# String movie\n",
    "movies = \"the rest of the story isn't important because all it does is serve as a mere backdrop for the two stars to share the screen .\"\n",
    "print(movies)"
   ]
  },
  {
   "cell_type": "code",
   "execution_count": 78,
   "metadata": {},
   "outputs": [
    {
     "name": "stdout",
     "output_type": "stream",
     "text": [
      "the rest of the story is insignificant because all it does is serve as a mere backdrop for the two stars to share the screen .\n"
     ]
    }
   ],
   "source": [
    "# Replace negations \n",
    "movies_no_negation = movies.replace(\"isn't\", \"is\")\n",
    "\n",
    "# Replace important\n",
    "movies_antonym = movies_no_negation.replace(\"important\", \"insignificant\")\n",
    "\n",
    "# Print out\n",
    "print(movies_antonym)"
   ]
  },
  {
   "cell_type": "markdown",
   "metadata": {},
   "source": [
    "**Note** : Pertimbangkan itu ketika Anda menggunakan `.replace(\"word\", \"new\")` semua kemunculan kata akan diganti. Anda dapat menentukan sejumlah kemunculan yang akan diganti dengan menambahkan argumen ketiga `.replace(\"word\", \"new\", count)`."
   ]
  },
  {
   "cell_type": "code",
   "execution_count": null,
   "metadata": {},
   "outputs": [],
   "source": []
  }
 ],
 "metadata": {
  "kernelspec": {
   "display_name": "Python 3",
   "language": "python",
   "name": "python3"
  },
  "language_info": {
   "codemirror_mode": {
    "name": "ipython",
    "version": 3
   },
   "file_extension": ".py",
   "mimetype": "text/x-python",
   "name": "python",
   "nbconvert_exporter": "python",
   "pygments_lexer": "ipython3",
   "version": "3.7.3"
  }
 },
 "nbformat": 4,
 "nbformat_minor": 2
}
