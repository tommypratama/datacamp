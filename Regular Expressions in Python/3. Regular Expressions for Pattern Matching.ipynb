{
 "cells": [
  {
   "cell_type": "markdown",
   "metadata": {},
   "source": [
    "# 3. Regular Expressions for Pattern Matching\n",
    "\n",
    "Saatnya untuk menemukan konsep dasar Regex! Dalam bab kunci ini, Anda akan belajar memahami konsep dasar sintaksis Regex. Menggunakan dataset real dengan tweet yang dimaksudkan untuk analisis sentimen, Anda akan belajar cara menerapkan pencocokan pola menggunakan karakter normal dan khusus, dan quantifier *greedy* dan *lazy*."
   ]
  },
  {
   "cell_type": "markdown",
   "metadata": {},
   "source": [
    "## Introduction to regular expressions"
   ]
  },
  {
   "cell_type": "markdown",
   "metadata": {},
   "source": [
    "### What is a regular expression?\n",
    "\n",
    "**REGular EXpression or regex:**\n",
    "*String yang berisi kombinasi karakter normal dan metakarakter khusus yang menjelaskan pola untuk menemukan teks atau posisi di dalam teks*\n",
    "\n",
    "* `r'st\\d\\s\\w{3,10}'`\n",
    "  * Karakter normal cocok dengan dirinya sendiri ( `st` )\n",
    "  * Metakarakter yang mewakili tipe karakter ( `\\d` , `\\s` , `\\w` ) atau ide ( `{3,10}` )\n",
    "  * Pattern/pola: urutan karakter yang memetakan kata atau tanda baca\n",
    "* Penggunaan pencocokan pola:\n",
    "  * Temukan dan ganti teks\n",
    "  * Validasi string\n",
    "  * Sangat powerful dan cepat"
   ]
  },
  {
   "cell_type": "markdown",
   "metadata": {},
   "source": [
    "### The re module"
   ]
  },
  {
   "cell_type": "code",
   "execution_count": 1,
   "metadata": {},
   "outputs": [],
   "source": [
    "import re"
   ]
  },
  {
   "cell_type": "markdown",
   "metadata": {},
   "source": [
    "* Temukan semua kecocokan suatu pola : `re.findall(r\"regex\", string)`"
   ]
  },
  {
   "cell_type": "code",
   "execution_count": 2,
   "metadata": {},
   "outputs": [
    {
     "data": {
      "text/plain": [
       "['#movies', '#movies']"
      ]
     },
     "execution_count": 2,
     "metadata": {},
     "output_type": "execute_result"
    }
   ],
   "source": [
    "re.findall(r\"#movies\", \"Love #movies! I had fun yesterday going to the #movies\")"
   ]
  },
  {
   "cell_type": "markdown",
   "metadata": {},
   "source": [
    "* Split/pisahkan string di setiap yang cocok: `re.split(r\"regex\", string)`"
   ]
  },
  {
   "cell_type": "code",
   "execution_count": 3,
   "metadata": {},
   "outputs": [
    {
     "data": {
      "text/plain": [
       "['Nice Place to eat', \" I'll come back\", ' Excellent meat', '']"
      ]
     },
     "execution_count": 3,
     "metadata": {},
     "output_type": "execute_result"
    }
   ],
   "source": [
    "re.split(r\"!\", \"Nice Place to eat! I'll come back! Excellent meat!\")"
   ]
  },
  {
   "cell_type": "markdown",
   "metadata": {},
   "source": [
    "* Ganti satu atau banyak kecocokan dengan string: `re.sub(r\"regex\", new, string)`"
   ]
  },
  {
   "cell_type": "code",
   "execution_count": 4,
   "metadata": {},
   "outputs": [
    {
     "data": {
      "text/plain": [
       "'I have a nice car and a nice house in a nice neighborhood'"
      ]
     },
     "execution_count": 4,
     "metadata": {},
     "output_type": "execute_result"
    }
   ],
   "source": [
    "re.sub(r\"yellow\", \"nice\", \"I have a yellow car and a yellow house in a yellow neighborhood\")"
   ]
  },
  {
   "cell_type": "markdown",
   "metadata": {},
   "source": [
    "### Supported metacharacters\n",
    "\n",
    "* `\\d` : digit\n",
    "* `\\D` : non-digit"
   ]
  },
  {
   "cell_type": "code",
   "execution_count": 5,
   "metadata": {},
   "outputs": [
    {
     "data": {
      "text/plain": [
       "['User9', 'User8']"
      ]
     },
     "execution_count": 5,
     "metadata": {},
     "output_type": "execute_result"
    }
   ],
   "source": [
    "re.findall(r\"User\\d\", \"The winners are: User9, UserN, User8\")"
   ]
  },
  {
   "cell_type": "code",
   "execution_count": 6,
   "metadata": {},
   "outputs": [
    {
     "data": {
      "text/plain": [
       "['UserN']"
      ]
     },
     "execution_count": 6,
     "metadata": {},
     "output_type": "execute_result"
    }
   ],
   "source": [
    "re.findall(r\"User\\D\", \"The winners are: User9, UserN, User8\")"
   ]
  },
  {
   "cell_type": "markdown",
   "metadata": {},
   "source": [
    "* `\\w` : word\n",
    "* `\\W` : non-word"
   ]
  },
  {
   "cell_type": "code",
   "execution_count": 7,
   "metadata": {},
   "outputs": [
    {
     "data": {
      "text/plain": [
       "['User9', 'UserN', 'User8']"
      ]
     },
     "execution_count": 7,
     "metadata": {},
     "output_type": "execute_result"
    }
   ],
   "source": [
    "re.findall(r\"User\\w\", \"The winners are: User9, UserN, User8\")"
   ]
  },
  {
   "cell_type": "code",
   "execution_count": 8,
   "metadata": {},
   "outputs": [
    {
     "data": {
      "text/plain": [
       "['$5']"
      ]
     },
     "execution_count": 8,
     "metadata": {},
     "output_type": "execute_result"
    }
   ],
   "source": [
    "re.findall(r\"\\W\\d\", \"This skirt is on sale, only $5 today!\")"
   ]
  },
  {
   "cell_type": "markdown",
   "metadata": {},
   "source": [
    "* `\\s` : whitespace\n",
    "* `\\S` : non-whitespace"
   ]
  },
  {
   "cell_type": "code",
   "execution_count": 9,
   "metadata": {},
   "outputs": [
    {
     "data": {
      "text/plain": [
       "['Data Science']"
      ]
     },
     "execution_count": 9,
     "metadata": {},
     "output_type": "execute_result"
    }
   ],
   "source": [
    "re.findall(r\"Data\\sScience\", \"I enjoy learning Data Science\")"
   ]
  },
  {
   "cell_type": "code",
   "execution_count": 10,
   "metadata": {},
   "outputs": [
    {
     "data": {
      "text/plain": [
       "'I really like ice cream'"
      ]
     },
     "execution_count": 10,
     "metadata": {},
     "output_type": "execute_result"
    }
   ],
   "source": [
    "re.sub(r\"ice\\Scream\", \"ice cream\", \"I really like ice-cream\")"
   ]
  },
  {
   "cell_type": "markdown",
   "metadata": {},
   "source": [
    "### Are they bots?\n",
    "\n",
    "Perusahaan tempat Anda bekerja meminta Anda untuk melakukan analisis sentimen menggunakan dataset dengan tweet. Pertama-tama, Anda perlu melakukan pembersihan dan mengekstrak beberapa informasi.\n",
    "\n",
    "Saat mencetak beberapa teks, Anda menyadari bahwa beberapa tweet mengandung sebutan pengguna (*mentions*). Beberapa dari *mentions* ini mengikuti pola yang sangat aneh. Beberapa contoh yang Anda perhatikan: `@robot3!`, `@robot5&` dan `@robot7#`.\n",
    "\n",
    "Untuk menganalisis apakah para pengguna itu bot, Anda akan melakukan pembuktian konsep dengan satu tweet dan mengekstraknya menggunakan metode `.findall()`.\n",
    "\n",
    "Anda menuliskan beberapa karakter yang membantu untuk Anda nanti:\n",
    "\n",
    "* `\\d`: digit\n",
    "* `\\w`: word character\n",
    "* `\\W`: non-word character\n",
    "* `\\s`: whitespace\n",
    "\n",
    "Teks satu tweet disimpan dalam variabel `sentiment_analysis`."
   ]
  },
  {
   "cell_type": "code",
   "execution_count": 11,
   "metadata": {},
   "outputs": [],
   "source": [
    "# Create string\n",
    "sentiment_analysis = '@robot9! @robot4& I have a good feeling that the show isgoing to be amazing! @robot9$ @robot7%'"
   ]
  },
  {
   "cell_type": "code",
   "execution_count": 12,
   "metadata": {},
   "outputs": [
    {
     "name": "stdout",
     "output_type": "stream",
     "text": [
      "['@robot9!', '@robot4&', '@robot9$', '@robot7%']\n"
     ]
    }
   ],
   "source": [
    "# Import the re module\n",
    "import re\n",
    "\n",
    "# Write the regex\n",
    "regex = r\"@robot\\d\\W\"\n",
    "\n",
    "# Find all matches of regex\n",
    "print(re.findall(regex, sentiment_analysis))"
   ]
  },
  {
   "cell_type": "markdown",
   "metadata": {},
   "source": [
    "**Note** : Keuntungan dari ekspresi reguler adalah Anda dapat menggunakan karakter normal dan karakter meta. Anda dapat dengan mudah mengekstraksi pola kompleks, atau sebaliknya yang akan lebih rumit."
   ]
  },
  {
   "cell_type": "markdown",
   "metadata": {},
   "source": [
    "### Find the numbers\n",
    "\n",
    "Saat memeriksa teks tweet dalam dataset Anda, Anda mendeteksi bahwa beberapa tweet membawa informasi tambahan. Teks berisi jumlah retweet, sebutan pengguna, dan suka dari tweet itu. Jadi, Anda memutuskan untuk mengekstrak informasi penting ini.\n",
    "\n",
    "Informasi diberikan seperti dalam contoh ini:\n",
    "\n",
    "`Agh...snow! User_mentions:9, likes: 5, number of retweets: 4`\n",
    "\n",
    "Anda juga dapat menggunakan list metacharacters Anda: `\\d` digit, `\\w` word character, `\\s` whitespace."
   ]
  },
  {
   "cell_type": "code",
   "execution_count": 14,
   "metadata": {},
   "outputs": [
    {
     "name": "stdout",
     "output_type": "stream",
     "text": [
      "Unfortunately one of those moments wasn't a giant squid monster. User_mentions:2, likes: 9, number of retweets: 7\n"
     ]
    }
   ],
   "source": [
    "# Create string\n",
    "sentiment_analysis = \"Unfortunately one of those moments wasn't a giant squid monster. User_mentions:2, likes: 9, number of retweets: 7\"\n",
    "print(sentiment_analysis)"
   ]
  },
  {
   "cell_type": "code",
   "execution_count": 15,
   "metadata": {},
   "outputs": [
    {
     "name": "stdout",
     "output_type": "stream",
     "text": [
      "['User_mentions:2']\n"
     ]
    }
   ],
   "source": [
    "# Write a regex to obtain user mentions\n",
    "print(re.findall(r\"User_mentions:\\d\", sentiment_analysis))"
   ]
  },
  {
   "cell_type": "code",
   "execution_count": 16,
   "metadata": {},
   "outputs": [
    {
     "name": "stdout",
     "output_type": "stream",
     "text": [
      "['likes: 9']\n"
     ]
    }
   ],
   "source": [
    "# Write a regex to obtain number of likes\n",
    "print(re.findall(r\"likes:\\s\\d\", sentiment_analysis))"
   ]
  },
  {
   "cell_type": "code",
   "execution_count": 17,
   "metadata": {},
   "outputs": [
    {
     "name": "stdout",
     "output_type": "stream",
     "text": [
      "['number of retweets: 7']\n"
     ]
    }
   ],
   "source": [
    "# Write a regex to obtain number of retweets\n",
    "print(re.findall(r\"number\\sof\\sretweets:\\s\\d\", sentiment_analysis))"
   ]
  },
  {
   "cell_type": "markdown",
   "metadata": {},
   "source": [
    "**Note** : Menggunakan metakarakter dalam Regex akan memungkinkan Anda untuk mencocokkan jenis karakter seperti digit. Ingatlah untuk selalu menentukan spasi putih sebagai `\\s`."
   ]
  },
  {
   "cell_type": "markdown",
   "metadata": {},
   "source": [
    "### Match and split\n",
    "\n",
    "Beberapa tweet dalam dataset Anda tidak diunduh dengan benar. Alih-alih memiliki ruang untuk memisahkan kata, mereka memiliki karakter aneh. Anda memutuskan untuk menggunakan Regex untuk menangani situasi ini. Anda mencetak beberapa tweet ini untuk memahami pola mana yang harus Anda cocokkan.\n",
    "\n",
    "Anda perhatikan bahwa kalimat-kalimatnya selalu dipisahkan oleh karakter khusus, diikuti oleh angka, kata `break`, dan setelah itu, karakter khusus lain, mis **`&4break!`**. Kata-kata selalu dipisahkan oleh karakter khusus, kata **`new`** , dan karakter acak normal, mis **`#newH`**."
   ]
  },
  {
   "cell_type": "code",
   "execution_count": 18,
   "metadata": {},
   "outputs": [],
   "source": [
    "# Create string\n",
    "sentiment_analysis = 'He#newHis%newTin love with$newPscrappy. #8break%He is&newYmissing him@newLalready'"
   ]
  },
  {
   "cell_type": "code",
   "execution_count": 19,
   "metadata": {},
   "outputs": [
    {
     "name": "stdout",
     "output_type": "stream",
     "text": [
      "He is in love with scrappy.  He is missing him already\n"
     ]
    }
   ],
   "source": [
    "# Write a regex to match pattern separating sentences\n",
    "regex_sentence = r\"\\W\\dbreak\\W\"\n",
    "\n",
    "# Replace the regex_sentence with a space\n",
    "sentiment_sub = re.sub(regex_sentence, \" \", sentiment_analysis)\n",
    "\n",
    "# Write a regex to match pattern separating words\n",
    "regex_words = r\"\\Wnew\\w\"\n",
    "\n",
    "# Replace the regex_words and print the result\n",
    "sentiment_final = re.sub(r\"\\Wnew\\w\", \" \", sentiment_sub)\n",
    "print(sentiment_final)"
   ]
  },
  {
   "cell_type": "markdown",
   "metadata": {},
   "source": [
    "**Note** : Regex sangat berguna untuk menemukan dan mengganti pola kompleks dalam teks. Menggunakannya akan membuat analisis Anda lebih bersih dan lebih cepat."
   ]
  },
  {
   "cell_type": "markdown",
   "metadata": {},
   "source": [
    "## Repetitions"
   ]
  },
  {
   "cell_type": "markdown",
   "metadata": {},
   "source": [
    "### Repeated characters\n",
    "\n",
    "* Validasi string berikut: **password`1234`**"
   ]
  },
  {
   "cell_type": "code",
   "execution_count": 20,
   "metadata": {},
   "outputs": [],
   "source": [
    "import re\n",
    "\n",
    "password = \"password1234\""
   ]
  },
  {
   "cell_type": "code",
   "execution_count": 26,
   "metadata": {},
   "outputs": [],
   "source": [
    "re.search(r\"\\w\\w\\w\\w\\w\\w\\w\\w\\d\\d\\d\\d\", password)"
   ]
  },
  {
   "cell_type": "code",
   "execution_count": 27,
   "metadata": {},
   "outputs": [],
   "source": [
    "re.search(r\"\\w{8}\\d{4}\", password)"
   ]
  },
  {
   "cell_type": "markdown",
   "metadata": {},
   "source": [
    "* **Quantiers:** Metacharacter yang memberi tahu mesin regex berapa kali untuk mencocokkan karakter dengan kiri."
   ]
  },
  {
   "cell_type": "markdown",
   "metadata": {},
   "source": [
    "### Quantiers\n",
    "\n",
    "* Sekali atau lebih: `+`"
   ]
  },
  {
   "cell_type": "code",
   "execution_count": 30,
   "metadata": {},
   "outputs": [],
   "source": [
    "text = \"Date of start: 4-3. Date of registration: 10-04.\""
   ]
  },
  {
   "cell_type": "code",
   "execution_count": 31,
   "metadata": {},
   "outputs": [
    {
     "data": {
      "text/plain": [
       "[' ', ' ', ' ', ' ', ' ', ' ', ' ']"
      ]
     },
     "execution_count": 31,
     "metadata": {},
     "output_type": "execute_result"
    }
   ],
   "source": [
    "re.findall(r\" \", text)"
   ]
  },
  {
   "cell_type": "code",
   "execution_count": 54,
   "metadata": {},
   "outputs": [
    {
     "data": {
      "text/plain": [
       "[]"
      ]
     },
     "execution_count": 54,
     "metadata": {},
     "output_type": "execute_result"
    }
   ],
   "source": [
    "re.findall(r\"\\d+-\", text)"
   ]
  },
  {
   "cell_type": "code",
   "execution_count": 35,
   "metadata": {},
   "outputs": [
    {
     "data": {
      "text/plain": [
       "['4-3', '10-04']"
      ]
     },
     "execution_count": 35,
     "metadata": {},
     "output_type": "execute_result"
    }
   ],
   "source": [
    "re.findall(r\"\\d+-\\d+\", text)"
   ]
  },
  {
   "cell_type": "markdown",
   "metadata": {},
   "source": [
    "* Nol kali atau lebih: `*`"
   ]
  },
  {
   "cell_type": "code",
   "execution_count": 38,
   "metadata": {},
   "outputs": [
    {
     "data": {
      "text/plain": [
       "['@ameli!a', '@joh&&n', '@mary90']"
      ]
     },
     "execution_count": 38,
     "metadata": {},
     "output_type": "execute_result"
    }
   ],
   "source": [
    "my_string = \"The concert was amazing! @ameli!a @joh&&n @mary90\"\n",
    "re.findall(r\"@\\w+\\W*\\w+\", my_string)"
   ]
  },
  {
   "cell_type": "markdown",
   "metadata": {},
   "source": [
    "* Nol kali atau sekali: `?`"
   ]
  },
  {
   "cell_type": "code",
   "execution_count": 39,
   "metadata": {},
   "outputs": [
    {
     "data": {
      "text/plain": [
       "['color', 'colour']"
      ]
     },
     "execution_count": 39,
     "metadata": {},
     "output_type": "execute_result"
    }
   ],
   "source": [
    "text = \"The color of this image is amazing. However, the colour blue could be brighter.\"\n",
    "re.findall(r\"colou?r\", text)"
   ]
  },
  {
   "cell_type": "markdown",
   "metadata": {},
   "source": [
    "* setidaknya `n` kali, paling banyak `m` kali : { `n`, `m` }"
   ]
  },
  {
   "cell_type": "code",
   "execution_count": 40,
   "metadata": {},
   "outputs": [],
   "source": [
    "phone_number = \"John: 1-966-847-3131 Michelle: 54-908-42-42424\""
   ]
  },
  {
   "cell_type": "code",
   "execution_count": 46,
   "metadata": {},
   "outputs": [
    {
     "data": {
      "text/plain": [
       "[]"
      ]
     },
     "execution_count": 46,
     "metadata": {},
     "output_type": "execute_result"
    }
   ],
   "source": [
    "re.findall(r\"  \", phone_number)"
   ]
  },
  {
   "cell_type": "code",
   "execution_count": 52,
   "metadata": {},
   "outputs": [
    {
     "data": {
      "text/plain": [
       "['1-', '66-', '47-', '54-', '08-', '42-']"
      ]
     },
     "execution_count": 52,
     "metadata": {},
     "output_type": "execute_result"
    }
   ],
   "source": [
    "re.findall(r\"\\d{1,2}-\", phone_number)"
   ]
  },
  {
   "cell_type": "code",
   "execution_count": 51,
   "metadata": {},
   "outputs": [
    {
     "data": {
      "text/plain": [
       "['1-966-', '54-908-']"
      ]
     },
     "execution_count": 51,
     "metadata": {},
     "output_type": "execute_result"
    }
   ],
   "source": [
    "re.findall(r\"\\d{1,2}-\\d{3}-\", phone_number)"
   ]
  },
  {
   "cell_type": "code",
   "execution_count": 53,
   "metadata": {},
   "outputs": [
    {
     "data": {
      "text/plain": [
       "['1-966-847-3131', '54-908-42-42424']"
      ]
     },
     "execution_count": 53,
     "metadata": {},
     "output_type": "execute_result"
    }
   ],
   "source": [
    "re.findall(r\"\\d{1,2}-\\d{3}-\\d{2,3}-\\d{4,}\", phone_number)"
   ]
  },
  {
   "cell_type": "markdown",
   "metadata": {},
   "source": [
    "* Langsung ke kiri\n",
    "  * `r\"apple+\"` : `+` berlaku untuk e dan bukan untuk apple"
   ]
  },
  {
   "cell_type": "markdown",
   "metadata": {},
   "source": [
    "### Everything clean\n",
    "\n",
    "Kembali ke proyek analisis sentimen Twitter Anda! Ada beberapa jenis string yang meningkatkan kompleksitas analisis sentimen Anda. Tetapi string ini tidak memberikan sentimen yang berguna. Di antara mereka, kita dapat memiliki tautan dan sebutan pengguna.\n",
    "\n",
    "Untuk membersihkan tweet, Anda ingin mengekstrak beberapa contoh terlebih dahulu. Anda tahu bahwa sebagian besar tautan dimulai dengan `http` dan tidak mengandung spasi putih, mis. `https://www.datacamp.com`. Pengguna menyebutkan mulai dengan `@` dan hanya dapat memiliki huruf dan angka, mis. `@johnsmith3`.\n",
    "\n",
    "Anda menuliskan beberapa penjumlah (*quantifiers*) yang berguna untuk membantu Anda: `*` nol atau lebih kali, `+` sekali atau lebih, `?` nol atau sekali."
   ]
  },
  {
   "cell_type": "code",
   "execution_count": 55,
   "metadata": {},
   "outputs": [],
   "source": [
    "# Create list\n",
    "sentiment_list = ['Boredd. Colddd @blueKnight39 Internet keeps stuffing up. Save me! https://www.tellyourstory.com',\n",
    "                  \"I had a horrible nightmare last night @anitaLopez98 @MyredHat31 which affected my sleep, now I'm really tired\",\n",
    "                  'im lonely  keep me company @YourBestCompany! @foxRadio https://radio.foxnews.com 22 female, new york']"
   ]
  },
  {
   "cell_type": "code",
   "execution_count": 58,
   "metadata": {},
   "outputs": [],
   "source": [
    "import pandas as pd\n",
    "\n",
    "sentiment_analysis = pd.Series(sentiment_list)"
   ]
  },
  {
   "cell_type": "code",
   "execution_count": 61,
   "metadata": {},
   "outputs": [
    {
     "name": "stdout",
     "output_type": "stream",
     "text": [
      "['https://www.tellyourstory.com']\n",
      "['@blueKnight39']\n",
      "[]\n",
      "['@anitaLopez98', '@MyredHat31']\n",
      "['https://radio.foxnews.com']\n",
      "['@YourBestCompany', '@foxRadio']\n"
     ]
    }
   ],
   "source": [
    "for tweet in sentiment_analysis:\n",
    "    # Write regex to match http links and print out result\n",
    "    print(re.findall(r\"http\\S+\", tweet))\n",
    "\n",
    "    # Write regex to match user mentions and print out result\n",
    "    print(re.findall(r\"@\\w+\", tweet))"
   ]
  },
  {
   "cell_type": "markdown",
   "metadata": {},
   "source": [
    "**Note** : Regex memberikan karakter yang sangat berguna yang tidak boleh Anda lupakan untuk digunakan. `\\S` adalah sebuah contoh. Sangat berguna untuk digunakan ketika Anda tahu suatu pola tidak mengandung spasi dan Anda telah mencapai akhirnya ketika Anda menemukannya."
   ]
  },
  {
   "cell_type": "markdown",
   "metadata": {},
   "source": [
    "### Some time ago\n",
    "\n",
    "Anda tertarik mengetahui kapan tweet diposting. Setelah membaca sedikit lebih banyak, Anda mengetahui bahwa tanggal disediakan dengan cara yang berbeda. Anda memutuskan untuk mengekstrak tanggal menggunakan `.findall()` sehingga Anda dapat menormalkannya setelahnya untuk membuat semuanya terlihat sama.\n",
    "\n",
    "Anda menyadari bahwa tanggal selalu disajikan dalam salah satu cara berikut:\n",
    "\n",
    "`27 minutes ago`\n",
    "\n",
    "`4 hours ago`\n",
    "\n",
    "`23rd june 2018`\n",
    "\n",
    "`1st september 2019 17:25`"
   ]
  },
  {
   "cell_type": "code",
   "execution_count": 62,
   "metadata": {},
   "outputs": [],
   "source": [
    "# Create list\n",
    "sentiment_list = ['I would like to apologize for the repeated Video Games Live related tweets. 32 minutes ago',\n",
    "                  '@zaydia but i cant figure out how to get there / back / pay for a hotel 1st May 2019',\n",
    "                  'FML: So much for seniority, bc of technological ineptness 23rd June 2018 17:54']"
   ]
  },
  {
   "cell_type": "code",
   "execution_count": 63,
   "metadata": {},
   "outputs": [],
   "source": [
    "sentiment_analysis = pd.Series(sentiment_list)"
   ]
  },
  {
   "cell_type": "code",
   "execution_count": 64,
   "metadata": {},
   "outputs": [
    {
     "name": "stdout",
     "output_type": "stream",
     "text": [
      "['32 minutes ago']\n",
      "[]\n",
      "[]\n"
     ]
    }
   ],
   "source": [
    "# Complete the for loop with a regex to find dates\n",
    "# '27 minutes ago' atau '4 hours ago'\n",
    "for date in sentiment_analysis:\n",
    "    print(re.findall(r\"\\d{1,2}\\s\\w+\\sago\", date))"
   ]
  },
  {
   "cell_type": "code",
   "execution_count": 66,
   "metadata": {},
   "outputs": [
    {
     "name": "stdout",
     "output_type": "stream",
     "text": [
      "[]\n",
      "['1st May 2019']\n",
      "['23rd June 2018']\n"
     ]
    }
   ],
   "source": [
    "# Complete the for loop with a regex to find dates\n",
    "# '23rd june 2018'\n",
    "for date in sentiment_analysis:\n",
    "    print(re.findall(r\"\\d{1,2}\\w+\\s\\w+\\s\\d{4}\", date))"
   ]
  },
  {
   "cell_type": "code",
   "execution_count": 67,
   "metadata": {},
   "outputs": [
    {
     "name": "stdout",
     "output_type": "stream",
     "text": [
      "[]\n",
      "[]\n",
      "['23rd June 2018 17:54']\n"
     ]
    }
   ],
   "source": [
    "# Complete the for loop with a regex to find dates\n",
    "for date in sentiment_analysis:\n",
    "    print(re.findall(r\"\\d{1,2}\\w+\\s\\w+\\s\\d{4}\\s\\d{1,2}:\\d{2}\", date))"
   ]
  },
  {
   "cell_type": "markdown",
   "metadata": {},
   "source": [
    "**Note** : Menangani Regex bisa menjadi tugas yang sangat sulit. Untungnya, Regex dapat menyederhanakan tugas ini!"
   ]
  },
  {
   "cell_type": "markdown",
   "metadata": {},
   "source": [
    "### Getting tokens\n",
    "\n",
    "Langkah Anda selanjutnya adalah tokenize teks dari tweet Anda. Tokenisasi adalah proses memecah string menjadi satuan leksikal atau, dalam istilah yang lebih sederhana, kata-kata. Tapi pertama-tama, Anda harus menghapus tagar agar tidak mengacaukan proses Anda. Anda menyadari bahwa tagar dimulai dengan simbol # dan berisi huruf dan angka tetapi tidak pernah spasi putih. Setelah itu, Anda berencana untuk membagi teks yang cocok dengan spasi putih untuk mendapatkan token.\n",
    "\n",
    "list quantifiers: `*` nol kali atau lebih banyak, `+` sekali atau lebih, `?` nol atau sekali, {`n`, `m`} minimum n, maksimum m."
   ]
  },
  {
   "cell_type": "code",
   "execution_count": 68,
   "metadata": {},
   "outputs": [],
   "source": [
    "# Create string\n",
    "sentiment_analysis = 'ITS NOT ENOUGH TO SAY THAT IMISS U #MissYou #SoMuch #Friendship #Forever'"
   ]
  },
  {
   "cell_type": "code",
   "execution_count": 69,
   "metadata": {},
   "outputs": [
    {
     "name": "stdout",
     "output_type": "stream",
     "text": [
      "['ITS', 'NOT', 'ENOUGH', 'TO', 'SAY', 'THAT', 'IMISS', 'U', '']\n"
     ]
    }
   ],
   "source": [
    "# Write a regex matching the hashtag pattern\n",
    "regex = r\"#\\w+\"\n",
    "\n",
    "# Replace the regex by an empty string\n",
    "no_hashtag = re.sub(regex, \"\", sentiment_analysis)\n",
    "\n",
    "# Get tokens by splitting text\n",
    "print(re.split(r\"\\s+\", no_hashtag))"
   ]
  },
  {
   "cell_type": "markdown",
   "metadata": {},
   "source": [
    "**Note** : Regex dapat sangat berguna saat mengganti dan memisahkan string menggunakan pola kompleks."
   ]
  },
  {
   "cell_type": "markdown",
   "metadata": {},
   "source": [
    "## Regex metacharacters"
   ]
  },
  {
   "cell_type": "markdown",
   "metadata": {},
   "source": [
    "### Looking for patterns\n",
    "\n",
    "Dua operasi berbeda untuk menemukan kecocokan:\n",
    "* **re.`search`(r\"`regex`\", string)**\n",
    "* **re.`match`(r\"`regex`\", string)**"
   ]
  },
  {
   "cell_type": "code",
   "execution_count": 70,
   "metadata": {},
   "outputs": [
    {
     "data": {
      "text/plain": [
       "<re.Match object; span=(0, 4), match='4506'>"
      ]
     },
     "execution_count": 70,
     "metadata": {},
     "output_type": "execute_result"
    }
   ],
   "source": [
    "re.search(r\"\\d{4}\", \"4506 people attend the show\")"
   ]
  },
  {
   "cell_type": "code",
   "execution_count": 71,
   "metadata": {},
   "outputs": [
    {
     "data": {
      "text/plain": [
       "<re.Match object; span=(0, 4), match='4506'>"
      ]
     },
     "execution_count": 71,
     "metadata": {},
     "output_type": "execute_result"
    }
   ],
   "source": [
    "re.match(r\"\\d{4}\", \"4506 people attend the show\")"
   ]
  },
  {
   "cell_type": "code",
   "execution_count": 72,
   "metadata": {},
   "outputs": [
    {
     "data": {
      "text/plain": [
       "<re.Match object; span=(17, 18), match='3'>"
      ]
     },
     "execution_count": 72,
     "metadata": {},
     "output_type": "execute_result"
    }
   ],
   "source": [
    "re.search(r\"\\d+\", \"Yesterday, I saw 3 shows\")"
   ]
  },
  {
   "cell_type": "code",
   "execution_count": 74,
   "metadata": {},
   "outputs": [
    {
     "name": "stdout",
     "output_type": "stream",
     "text": [
      "None\n"
     ]
    }
   ],
   "source": [
    "print(re.match(r\"\\d+\",\"Yesterday, I saw 3 shows\"))"
   ]
  },
  {
   "cell_type": "markdown",
   "metadata": {},
   "source": [
    "### Special characters\n",
    "\n",
    "* Cocok dengan karakter apa pun (kecuali baris baru): `.`"
   ]
  },
  {
   "cell_type": "code",
   "execution_count": 75,
   "metadata": {},
   "outputs": [
    {
     "data": {
      "text/plain": [
       "[]"
      ]
     },
     "execution_count": 75,
     "metadata": {},
     "output_type": "execute_result"
    }
   ],
   "source": [
    "my_links = \"Just check out this link: www.amazingpics.com. It has amazing photos!\"\n",
    "re.findall(r\"www com\", my_links)"
   ]
  },
  {
   "cell_type": "markdown",
   "metadata": {},
   "source": [
    "Patterns: **www.`domain`.com**"
   ]
  },
  {
   "cell_type": "code",
   "execution_count": 76,
   "metadata": {},
   "outputs": [
    {
     "data": {
      "text/plain": [
       "['www.amazingpics.com']"
      ]
     },
     "execution_count": 76,
     "metadata": {},
     "output_type": "execute_result"
    }
   ],
   "source": [
    "my_links = \"Just check out this link: www.amazingpics.com. It has amazing photos!\"\n",
    "re.findall(r\"www.+com\", my_links)"
   ]
  },
  {
   "cell_type": "markdown",
   "metadata": {},
   "source": [
    "* Mulai dari string: `^`"
   ]
  },
  {
   "cell_type": "code",
   "execution_count": 83,
   "metadata": {},
   "outputs": [],
   "source": [
    "my_string = \"the 80s music was much better that the 90s\""
   ]
  },
  {
   "cell_type": "code",
   "execution_count": 78,
   "metadata": {},
   "outputs": [
    {
     "data": {
      "text/plain": [
       "['the 80s', 'the 90s']"
      ]
     },
     "execution_count": 78,
     "metadata": {},
     "output_type": "execute_result"
    }
   ],
   "source": [
    "re.findall(r\"the\\s\\d+s\", my_string)"
   ]
  },
  {
   "cell_type": "code",
   "execution_count": 79,
   "metadata": {},
   "outputs": [
    {
     "data": {
      "text/plain": [
       "['the 80s']"
      ]
     },
     "execution_count": 79,
     "metadata": {},
     "output_type": "execute_result"
    }
   ],
   "source": [
    "re.findall(r\"^the\\s\\d+s\", my_string)"
   ]
  },
  {
   "cell_type": "markdown",
   "metadata": {},
   "source": [
    "* Akhir dari string: `$`"
   ]
  },
  {
   "cell_type": "code",
   "execution_count": 84,
   "metadata": {},
   "outputs": [
    {
     "data": {
      "text/plain": [
       "['the 90s']"
      ]
     },
     "execution_count": 84,
     "metadata": {},
     "output_type": "execute_result"
    }
   ],
   "source": [
    "re.findall(r\"the\\s\\d+s$\", my_string)"
   ]
  },
  {
   "cell_type": "markdown",
   "metadata": {},
   "source": [
    "* Escape special characters: `\\`"
   ]
  },
  {
   "cell_type": "code",
   "execution_count": 80,
   "metadata": {},
   "outputs": [],
   "source": [
    "my_string = \"I love the music of Mr.Go. However, the sound was too loud.\""
   ]
  },
  {
   "cell_type": "code",
   "execution_count": 81,
   "metadata": {},
   "outputs": [
    {
     "name": "stdout",
     "output_type": "stream",
     "text": [
      "['', 'lov', 'th', 'musi', 'o', 'Mr.Go', 'However', 'th', 'soun', 'wa', 'to', 'loud.']\n"
     ]
    }
   ],
   "source": [
    "print(re.split(r\".\\s\", my_string))"
   ]
  },
  {
   "cell_type": "code",
   "execution_count": 82,
   "metadata": {},
   "outputs": [
    {
     "name": "stdout",
     "output_type": "stream",
     "text": [
      "['I love the music of Mr.Go', 'However, the sound was too loud.']\n"
     ]
    }
   ],
   "source": [
    "print(re.split(r\"\\.\\s\", my_string))"
   ]
  },
  {
   "cell_type": "markdown",
   "metadata": {},
   "source": [
    "### OR operator\n",
    "\n",
    "* Karakter: `|`"
   ]
  },
  {
   "cell_type": "code",
   "execution_count": 85,
   "metadata": {},
   "outputs": [],
   "source": [
    "my_string = \"Elephants are the world's largest land animal! I would love to see an elephant one day\""
   ]
  },
  {
   "cell_type": "code",
   "execution_count": 86,
   "metadata": {},
   "outputs": [
    {
     "data": {
      "text/plain": [
       "['Elephant', 'elephant']"
      ]
     },
     "execution_count": 86,
     "metadata": {},
     "output_type": "execute_result"
    }
   ],
   "source": [
    "re.findall(r\"Elephant|elephant\", my_string)"
   ]
  },
  {
   "cell_type": "markdown",
   "metadata": {},
   "source": [
    "* Set karakter: `[ ]`"
   ]
  },
  {
   "cell_type": "code",
   "execution_count": 87,
   "metadata": {},
   "outputs": [],
   "source": [
    "my_string = \"Yesterday I spent my afternoon with my friends: MaryJohn2 Clary3\""
   ]
  },
  {
   "cell_type": "code",
   "execution_count": 88,
   "metadata": {},
   "outputs": [
    {
     "data": {
      "text/plain": [
       "['MaryJohn2', 'Clary3']"
      ]
     },
     "execution_count": 88,
     "metadata": {},
     "output_type": "execute_result"
    }
   ],
   "source": [
    "re.findall(r\"[a-zA-Z]+\\d\", my_string)"
   ]
  },
  {
   "cell_type": "code",
   "execution_count": 89,
   "metadata": {},
   "outputs": [],
   "source": [
    "my_string = \"My&name&is#John Smith. I%live$in#London.\""
   ]
  },
  {
   "cell_type": "code",
   "execution_count": 90,
   "metadata": {},
   "outputs": [
    {
     "data": {
      "text/plain": [
       "'My name is John Smith. I live in London.'"
      ]
     },
     "execution_count": 90,
     "metadata": {},
     "output_type": "execute_result"
    }
   ],
   "source": [
    "re.sub(r\"[#$%&]\", \" \", my_string)"
   ]
  },
  {
   "cell_type": "markdown",
   "metadata": {},
   "source": [
    "* Set karakter: `[ ]`\n",
    "  * `^` mengubah ekspresi menjadi negatif"
   ]
  },
  {
   "cell_type": "code",
   "execution_count": 91,
   "metadata": {},
   "outputs": [
    {
     "data": {
      "text/plain": [
       "['www.hola.com']"
      ]
     },
     "execution_count": 91,
     "metadata": {},
     "output_type": "execute_result"
    }
   ],
   "source": [
    "my_links = \"Bad website: www.99.com. Favorite site: www.hola.com\"\n",
    "re.findall(r\"www[^0-9]+com\", my_links)"
   ]
  },
  {
   "cell_type": "markdown",
   "metadata": {},
   "source": [
    "### Finding files\n",
    "\n",
    "Anda tidak puas dengan pembersihan dataset tweet Anda. Masih ada string tambahan yang tidak memberikan sentimen apa pun. Diantaranya adalah string merujuk ke nama file teks.\n",
    "\n",
    "Anda juga menemukan cara untuk mendeteksi mereka:\n",
    "\n",
    "* Mereka muncul di awal string.\n",
    "* Mereka selalu mulai dengan urutan 2 atau 3 huruf vokal besar atau kecil (a e i o u).\n",
    "* Mereka selalu selesai dengan akhiran `txt`.\n",
    "\n",
    "Anda tidak yakin apakah Anda harus menghapusnya secara langsung. Jadi, Anda menulis skrip untuk menemukan dan menyimpannya dalam dataset terpisah.\n",
    "\n",
    "Anda menuliskan beberapa karakter meta untuk membantu Anda: `^` jangkar ke awal, `.` karakter apa pun."
   ]
  },
  {
   "cell_type": "code",
   "execution_count": 92,
   "metadata": {},
   "outputs": [],
   "source": [
    "sentiment_list = ['AIshadowhunters.txt aaaaand back to my literature review. At least i have a friendly cup of coffee to keep me company',\n",
    " \"ouMYTAXES.txt I am worried that I won't get my $900 even though I paid tax last year\"]\n",
    "\n",
    "sentiment_analysis = pd.Series(sentiment_list)"
   ]
  },
  {
   "cell_type": "code",
   "execution_count": 93,
   "metadata": {},
   "outputs": [
    {
     "name": "stdout",
     "output_type": "stream",
     "text": [
      "['AIshadowhunters.txt']\n",
      " aaaaand back to my literature review. At least i have a friendly cup of coffee to keep me company\n",
      "['ouMYTAXES.txt']\n",
      " I am worried that I won't get my $900 even though I paid tax last year\n"
     ]
    }
   ],
   "source": [
    "# Write a regex to match text file name\n",
    "regex = r\"^[aeiouAEIOU]{2,3}.+txt\"\n",
    "\n",
    "for text in sentiment_analysis:\n",
    "    # Find all matches of the regex\n",
    "    print(re.findall(regex, text))\n",
    "    \n",
    "    # Replace all matches with empty string\n",
    "    print(re.sub(regex, \"\", text))"
   ]
  },
  {
   "cell_type": "markdown",
   "metadata": {},
   "source": [
    "**Note** : Metacharacter dot `.` sangat berguna ketika kita ingin mencocokkan semua pengulangan karakter apa pun. Namun, kita harus sangat berhati-hati dalam menggunakannya."
   ]
  },
  {
   "cell_type": "markdown",
   "metadata": {},
   "source": [
    "### Give me your email\n",
    "\n",
    "Seorang kolega telah meminta bantuan Anda! Ketika pengguna mendaftar di situs web perusahaan, mereka harus memberikan alamat email yang valid. Perusahaan menerapkan beberapa aturan untuk memverifikasi bahwa alamat email yang diberikan valid:\n",
    "\n",
    "* Bagian pertama dapat berisi:\n",
    "  * Huruf besar `A-Z` dan huruf kecil `a-z`\n",
    "  * Angka\n",
    "  * Karakter: `!`, `#`, `%`, `&`, `*`, `$`, `.`\n",
    "  * Harus punya `@`\n",
    "  * Domain:\n",
    "    * Dapat berisi karakter kata apa saja\n",
    "    * Tetapi hanya berakhiran `.com` yang diizinkan\n",
    "    \n",
    "Proyek ini terdiri dari penulisan skrip yang memeriksa apakah alamat email mengikuti pola yang benar. Rekan Anda memberi Anda daftar alamat email sebagai contoh untuk diuji."
   ]
  },
  {
   "cell_type": "code",
   "execution_count": 94,
   "metadata": {},
   "outputs": [],
   "source": [
    "# List email\n",
    "emails = ['n.john.smith@gmail.com', '87victory@hotmail.com', '!#mary-=@msca.net']"
   ]
  },
  {
   "cell_type": "code",
   "execution_count": 99,
   "metadata": {},
   "outputs": [
    {
     "name": "stdout",
     "output_type": "stream",
     "text": [
      "The email n.john.smith@gmail.com is a valid email\n",
      "The email 87victory@hotmail.com is a valid email\n",
      "The email !#mary-=@msca.net is invalid\n"
     ]
    }
   ],
   "source": [
    "# Write a regex to match a valid email address\n",
    "regex = r\"[A-Za-z0-9!#%&*\\$\\.]+@\\w+\\.com\"\n",
    "\n",
    "for example in emails:\n",
    "    # Match the regex to the string\n",
    "    if re.match(regex, example):\n",
    "        # Complete the format method to print out the result\n",
    "        print(\"The email {email_example} is a valid email\".format(email_example=example))\n",
    "    else:\n",
    "        print(\"The email {email_example} is invalid\".format(email_example=example))   "
   ]
  },
  {
   "cell_type": "markdown",
   "metadata": {},
   "source": [
    "**Note** : Validasi string adalah tugas yang menjadi lebih sederhana ketika kita menggunakan Regex. Kurung kotak sangat berguna untuk karakter opsional. Perhatikan bahwa kami menggunakan metode `.match()`. Alasannya adalah bahwa kami ingin mencocokkan pola dari awal string."
   ]
  },
  {
   "cell_type": "markdown",
   "metadata": {},
   "source": [
    "### Invalid password\n",
    "\n",
    "Bagian kedua dari proyek situs web adalah menulis skrip yang memvalidasi kata sandi yang dimasukkan oleh pengguna. Perusahaan juga menetapkan beberapa aturan untuk memverifikasi kata sandi yang valid:\n",
    "\n",
    "* Ini dapat berisi huruf kecil `a-z` dan huruf besar `A-Z`\n",
    "* Itu bisa berisi angka\n",
    "* Itu bisa berisi simbol: `*`, `#`, `$`, `%`, `!`, `&`, `.`\n",
    "* Panjangnya harus minimal 8 karakter tetapi tidak lebih dari 20 karakter\n",
    "\n",
    "Rekan Anda juga memberi Anda daftar kata sandi sebagai contoh untuk diuji yang disimpan pada variabel `passwords`."
   ]
  },
  {
   "cell_type": "code",
   "execution_count": 104,
   "metadata": {},
   "outputs": [],
   "source": [
    "# List password\n",
    "passwords = ['Apple34!rose', 'My87hou#4$', 'abc123']"
   ]
  },
  {
   "cell_type": "code",
   "execution_count": 101,
   "metadata": {},
   "outputs": [
    {
     "name": "stdout",
     "output_type": "stream",
     "text": [
      "The password Apple34!rose is a valid password\n",
      "The password My87hou#4$ is a valid password\n",
      "The password abc123 is invalid\n"
     ]
    }
   ],
   "source": [
    "# Write a regex to match a valid password\n",
    "regex = r\"[A-Za-z0-9!#%&*\\$\\.]{8,20}\" \n",
    "\n",
    "for example in passwords:\n",
    "    # Scan the strings to find a match\n",
    "    if re.search(regex, example):\n",
    "        # Complete the format method to print out the result\n",
    "        print(\"The password {pass_example} is a valid password\".format(pass_example=example))\n",
    "    else:\n",
    "        print(\"The password {pass_example} is invalid\".format(pass_example=example))     "
   ]
  },
  {
   "cell_type": "markdown",
   "metadata": {},
   "source": [
    "**Note** : Perhatikan bahwa kami menggunakan metode `.search()`. Alasannya adalah bahwa kami ingin memindai string agar sesuai dengan pola. Kami tidak tertarik di mana regex menemukan kecocokan."
   ]
  },
  {
   "cell_type": "markdown",
   "metadata": {},
   "source": [
    "## Greedy vs. non-greedy matching\n",
    "\n",
    "* Dua jenis metode pencocokan:\n",
    "  * Greedy\n",
    "  * Non-greedy or lazy\n",
    "* Standard quantiers are greedy by default: `*` , `+` , `?` , `{num, num}`"
   ]
  },
  {
   "cell_type": "markdown",
   "metadata": {},
   "source": [
    "### Greedy matching\n",
    "\n",
    "* **Greedy**: cocokkan sebanyak mungkin karakter\n",
    "* Mengembalikan kecocokan terpanjang\n",
    "\n",
    "<img src=\"datasets/greedy-match-1.png\" width=500px height=500px align=left />"
   ]
  },
  {
   "cell_type": "code",
   "execution_count": 126,
   "metadata": {},
   "outputs": [
    {
     "data": {
      "text/plain": [
       "<re.Match object; span=(0, 5), match='12345'>"
      ]
     },
     "execution_count": 126,
     "metadata": {},
     "output_type": "execute_result"
    }
   ],
   "source": [
    "re.match(r\"\\d+\", \"12345bcada\")"
   ]
  },
  {
   "cell_type": "markdown",
   "metadata": {},
   "source": [
    "* Backtracks ketika terlalu banyak karakter yang cocok\n",
    "* Memberikan karakter satu per satu\n",
    "\n",
    "<img src=\"datasets/greedy-match-2.png\" width=500px height=500px align=left />"
   ]
  },
  {
   "cell_type": "code",
   "execution_count": 127,
   "metadata": {},
   "outputs": [
    {
     "data": {
      "text/plain": [
       "<re.Match object; span=(0, 6), match='xhello'>"
      ]
     },
     "execution_count": 127,
     "metadata": {},
     "output_type": "execute_result"
    }
   ],
   "source": [
    "re.match(r\".*hello\", \"xhelloxxxxxx\")"
   ]
  },
  {
   "cell_type": "markdown",
   "metadata": {},
   "source": [
    "### Non-greedy matching\n",
    "\n",
    "* **Lazy**: cocokkan sesedikit karakter sesuai kebutuhan\n",
    "* Mengembalikan kecocokan terpendek\n",
    "* Menambahkan `?` ke greedy quantiers\n",
    "\n",
    "<img src=\"datasets/greedy-match-3.png\" width=400px height=400px align=left />"
   ]
  },
  {
   "cell_type": "code",
   "execution_count": 128,
   "metadata": {},
   "outputs": [
    {
     "data": {
      "text/plain": [
       "<re.Match object; span=(0, 1), match='1'>"
      ]
     },
     "execution_count": 128,
     "metadata": {},
     "output_type": "execute_result"
    }
   ],
   "source": [
    "re.match(r\"\\d+?\", \"12345bcada\")"
   ]
  },
  {
   "cell_type": "markdown",
   "metadata": {},
   "source": [
    "* Backtracks ketika terlalu sedikit karakter yang cocok\n",
    "* Perluas karakter satu kali\n",
    "\n",
    "<img src=\"datasets/greedy-match-4.png\" width=500px height=500px align=left />"
   ]
  },
  {
   "cell_type": "code",
   "execution_count": 129,
   "metadata": {},
   "outputs": [
    {
     "data": {
      "text/plain": [
       "<re.Match object; span=(0, 6), match='xhello'>"
      ]
     },
     "execution_count": 129,
     "metadata": {},
     "output_type": "execute_result"
    }
   ],
   "source": [
    "re.match(r\".*?hello\", \"xhelloxxxxxx\")"
   ]
  },
  {
   "cell_type": "markdown",
   "metadata": {},
   "source": [
    "### Understanding the difference\n",
    "\n",
    "Anda harus terus bekerja dan membersihkan dataset tweet Anda. Anda menyadari bahwa ada beberapa tag HTML yang ada. Anda harus menghapusnya tetapi tetap menyimpan konten di dalamnya karena berguna untuk analisis.\n",
    "\n",
    "Mari kita lihat kalimat ini yang berisi tag HTML:\n",
    "\n",
    "`I want to see that <strong>amazing show</strong> again!`\n",
    "\n",
    "Anda tahu bahwa untuk mendapatkan tag HTML Anda harus mencocokkan apa pun yang berada di dalam tanda kurung sudut `<` `>`. Tetapi masalah terbesar adalah bahwa tag penutup memiliki struktur yang sama. Jika Anda terlalu cocok, Anda akhirnya akan menghapus informasi kunci. Jadi, Anda perlu memutuskan apakah akan menggunakan greedy atau lazy quantifier."
   ]
  },
  {
   "cell_type": "code",
   "execution_count": 130,
   "metadata": {},
   "outputs": [],
   "source": [
    "string = 'I want to see that <strong>amazing show</strong> again!'"
   ]
  },
  {
   "cell_type": "code",
   "execution_count": 131,
   "metadata": {},
   "outputs": [
    {
     "name": "stdout",
     "output_type": "stream",
     "text": [
      "I want to see that amazing show again!\n"
     ]
    }
   ],
   "source": [
    "# Import re\n",
    "import re\n",
    "\n",
    "# Write a regex to eliminate tags\n",
    "string_notags = re.sub(r\"<.+?>\", \"\", string)\n",
    "\n",
    "# Print out the result\n",
    "print(string_notags)"
   ]
  },
  {
   "cell_type": "markdown",
   "metadata": {},
   "source": [
    "**Note** : Ingatlah bahwa greedy quantifier akan mencoba untuk mencocokkan sebanyak mungkin sementara quantifier non-greedy akan melakukannya sesering yang diperlukan, memperluas satu karakter pada suatu waktu dan memberi kita kecocokan yang kita cari. "
   ]
  },
  {
   "cell_type": "markdown",
   "metadata": {},
   "source": [
    "### Greedy matching\n",
    "\n",
    "Selanjutnya, Anda melihat bahwa angka masih muncul dalam teks tweet. Jadi, Anda memutuskan untuk menemukan semuanya.\n",
    "\n",
    "Misalkan Anda ingin mengekstrak angka yang terdapat dalam kalimat `I was born on April 24th`. Lazy quantifier akan mengembalikan regex `2` dan `4` karena mereka akan mencocokkan karakter sesedikit yang diperlukan. Namun, greedy quantifier akan mengembalikan seluruh `24` karena kebutuhannya untuk mencocokkan sebanyak mungkin."
   ]
  },
  {
   "cell_type": "code",
   "execution_count": 133,
   "metadata": {},
   "outputs": [
    {
     "name": "stdout",
     "output_type": "stream",
     "text": [
      "Was intending to finish editing my 536-page novel manuscript tonight, but that will probably not happen. And only 12 pages are left \n"
     ]
    }
   ],
   "source": [
    "sentiment_analysis = 'Was intending to finish editing my 536-page novel manuscript tonight, but that will probably not happen. And only 12 pages are left '\n",
    "print(sentiment_analysis)"
   ]
  },
  {
   "cell_type": "code",
   "execution_count": 135,
   "metadata": {},
   "outputs": [
    {
     "name": "stdout",
     "output_type": "stream",
     "text": [
      "['5', '3', '6', '1', '2']\n"
     ]
    }
   ],
   "source": [
    "# Write a lazy regex expression \n",
    "numbers_found_lazy = re.findall(r\"\\d+?\", sentiment_analysis)\n",
    "\n",
    "# Print out the result\n",
    "print(numbers_found_lazy)"
   ]
  },
  {
   "cell_type": "code",
   "execution_count": 136,
   "metadata": {},
   "outputs": [
    {
     "name": "stdout",
     "output_type": "stream",
     "text": [
      "['536', '12']\n"
     ]
    }
   ],
   "source": [
    "# Write a greedy regex expression \n",
    "numbers_found_greedy = re.findall(r\"[0-9]+\", sentiment_analysis)\n",
    "\n",
    "# Print out the result\n",
    "print(numbers_found_greedy)"
   ]
  },
  {
   "cell_type": "markdown",
   "metadata": {},
   "source": [
    "**Note** : Meskipun greedy quantifier mengarah pada kecocokan yang lebih panjang, mereka terkadang merupakan pilihan terbaik. Karena lazy quantifiers cocok sesedikit mungkin, mereka menghasilkan kecocokan yang lebih pendek dari yang kami harapkan. Itu selalu baik untuk mengetahui kapan harus menggunakan greedy dan lazy quantifiers!"
   ]
  },
  {
   "cell_type": "markdown",
   "metadata": {},
   "source": [
    "### Lazy approach\n",
    "\n",
    "Anda telah melakukan pembersihan dalam dataset Anda, tetapi Anda khawatir bahwa ada kalimat yang terbungkus dalam tanda kurung yang dapat mengaburkan analisis Anda.\n",
    "\n",
    "Sekali lagi, greedy atau lazy dapat menyebabkan hasil yang berbeda.\n",
    "\n",
    "Misalnya, jika Anda ingin mengekstrak kata yang dimulai dengan `a` dan diakhiri dengan `e` dalam string `I like apple pie`, Anda mungkin berpikir bahwa menerapkan greedy regex `a.+e` akan mengembalikan `apple`. Namun, percocokan Anda akan menjadi `apple pie`. Cara untuk mengatasinya adalah dengan membuatnya *lazy* menggunakan `?` yang akan mengembalikan `apple`."
   ]
  },
  {
   "cell_type": "code",
   "execution_count": 137,
   "metadata": {},
   "outputs": [
    {
     "name": "stdout",
     "output_type": "stream",
     "text": [
      "Put vacation photos online (They were so cute) a few yrs ago. PC crashed, and now I forget the name of the site (I'm crying). \n"
     ]
    }
   ],
   "source": [
    "# Create string\n",
    "sentiment_analysis = \"Put vacation photos online (They were so cute) a few yrs ago. PC crashed, and now I forget the name of the site (I'm crying). \"\n",
    "print(sentiment_analysis)"
   ]
  },
  {
   "cell_type": "code",
   "execution_count": 138,
   "metadata": {},
   "outputs": [
    {
     "name": "stdout",
     "output_type": "stream",
     "text": [
      "[\"(They were so cute) a few yrs ago. PC crashed, and now I forget the name of the site (I'm crying)\"]\n"
     ]
    }
   ],
   "source": [
    "# Write a greedy regex expression to match \n",
    "sentences_found_greedy = re.findall(r\"\\(.*\\)\", sentiment_analysis)\n",
    "\n",
    "# Print out the result\n",
    "print(sentences_found_greedy)"
   ]
  },
  {
   "cell_type": "code",
   "execution_count": 139,
   "metadata": {},
   "outputs": [
    {
     "name": "stdout",
     "output_type": "stream",
     "text": [
      "['(They were so cute)', \"(I'm crying)\"]\n"
     ]
    }
   ],
   "source": [
    "# Write a lazy regex expression\n",
    "sentences_found_lazy = re.findall(r\"\\(.*?\\)\", sentiment_analysis)\n",
    "\n",
    "# Print out the results\n",
    "print(sentences_found_lazy)"
   ]
  },
  {
   "cell_type": "markdown",
   "metadata": {},
   "source": [
    "**Note** : Perhatikan bahwa menggunakan greedy quantifier selalu mengarah pada kecocokan yang lebih panjang yang terkadang tidak diinginkan. Membuat lazy quantifiers dengan menambahkan `?` untuk mencocokkan pola yang lebih pendek adalah pertimbangan yang sangat penting untuk diingat ketika menangani data untuk penambangan teks."
   ]
  },
  {
   "cell_type": "code",
   "execution_count": null,
   "metadata": {},
   "outputs": [],
   "source": []
  }
 ],
 "metadata": {
  "kernelspec": {
   "display_name": "Python 3",
   "language": "python",
   "name": "python3"
  },
  "language_info": {
   "codemirror_mode": {
    "name": "ipython",
    "version": 3
   },
   "file_extension": ".py",
   "mimetype": "text/x-python",
   "name": "python",
   "nbconvert_exporter": "python",
   "pygments_lexer": "ipython3",
   "version": "3.7.3"
  }
 },
 "nbformat": 4,
 "nbformat_minor": 2
}
