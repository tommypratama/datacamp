{
 "cells": [
  {
   "cell_type": "markdown",
   "metadata": {},
   "source": [
    "# 2. Formatting Strings\n",
    "\n",
    "Setelah perjalanan Anda, Anda akan mempelajari pendekatan utama yang dapat digunakan untuk memformat atau menyisipkan string dengan python menggunakan dataset yang berisi informasi yang diambil dari web. Anda akan mengeksplorasi kelebihan dan kekurangan menggunakan pemformatan posisi, menanamkan ekspresi konstanta string di dalam, dan menggunakan *Template class*."
   ]
  },
  {
   "cell_type": "markdown",
   "metadata": {},
   "source": [
    "## Positional formatting"
   ]
  },
  {
   "cell_type": "markdown",
   "metadata": {},
   "source": [
    "### Whatis string formatting?\n",
    "\n",
    "* *String interpolation*\n",
    "* Insert a custom string or variable in predened text:"
   ]
  },
  {
   "cell_type": "code",
   "execution_count": 1,
   "metadata": {},
   "outputs": [
    {
     "name": "stdout",
     "output_type": "stream",
     "text": [
      "String formatting is a powerful technique\n"
     ]
    }
   ],
   "source": [
    "custom_string = \"String formatting\"\n",
    "print(f\"{custom_string} is a powerful technique\")"
   ]
  },
  {
   "cell_type": "markdown",
   "metadata": {},
   "source": [
    "* Pemakaian:\n",
    "  * Judul dalam grafik\n",
    "  * Tampilkan pesan atau kesalahan\n",
    "  * Pass pernyataan ke fungsi"
   ]
  },
  {
   "cell_type": "markdown",
   "metadata": {},
   "source": [
    "### Methods for formatting\n",
    "\n",
    "* Positional formatting\n",
    "* Formatted string literals\n",
    "* Template method"
   ]
  },
  {
   "cell_type": "markdown",
   "metadata": {},
   "source": [
    "### Positional formatting\n",
    "\n",
    "* Placeholder `{}` diganti dengan value `'text {}'.format(value)`.\n",
    "* `str.format()`"
   ]
  },
  {
   "cell_type": "code",
   "execution_count": 2,
   "metadata": {},
   "outputs": [
    {
     "name": "stdout",
     "output_type": "stream",
     "text": [
      "Machine learning provides systems the ability to learn automatically\n"
     ]
    }
   ],
   "source": [
    "print(\"Machine learning provides {} the ability to learn {}\".format(\"systems\", \"automatically\"))"
   ]
  },
  {
   "cell_type": "markdown",
   "metadata": {},
   "source": [
    "* Gunakan **variabel** untuk string awal dan nilai yang diteruskan ke method."
   ]
  },
  {
   "cell_type": "code",
   "execution_count": 3,
   "metadata": {},
   "outputs": [],
   "source": [
    "my_string = \"{} rely on {} datasets\"\n",
    "method = \"Supervised algorithms\"\n",
    "condition = \"labeled\""
   ]
  },
  {
   "cell_type": "code",
   "execution_count": 4,
   "metadata": {},
   "outputs": [
    {
     "name": "stdout",
     "output_type": "stream",
     "text": [
      "Supervised algorithms rely on labeled datasets\n"
     ]
    }
   ],
   "source": [
    "print(my_string.format(method, condition))"
   ]
  },
  {
   "cell_type": "markdown",
   "metadata": {},
   "source": [
    "### Reordering values\n",
    "\n",
    "* Masukkan **nomor indeks** ke dalam placeholder untuk menyusun ulang nilai"
   ]
  },
  {
   "cell_type": "code",
   "execution_count": 5,
   "metadata": {},
   "outputs": [
    {
     "name": "stdout",
     "output_type": "stream",
     "text": [
      "Betty has a friend called Linda and a sister called Daisy\n"
     ]
    }
   ],
   "source": [
    "print(\"{} has a friend called {} and a sister called {}\".format(\"Betty\", \"Linda\", \"Daisy\"))"
   ]
  },
  {
   "cell_type": "code",
   "execution_count": 6,
   "metadata": {},
   "outputs": [
    {
     "name": "stdout",
     "output_type": "stream",
     "text": [
      "Daisy has a friend called Betty and a sister called Linda\n"
     ]
    }
   ],
   "source": [
    "print(\"{2} has a friend called {0} and a sister called {1}\".format(\"Betty\", \"Linda\", \"Daisy\"))"
   ]
  },
  {
   "cell_type": "markdown",
   "metadata": {},
   "source": [
    "### Named placeholders\n",
    "\n",
    "* Tentukan **nama** untuk placeholders"
   ]
  },
  {
   "cell_type": "code",
   "execution_count": 7,
   "metadata": {},
   "outputs": [
    {
     "name": "stdout",
     "output_type": "stream",
     "text": [
      "Unsupervised algorithms try to find patterns in the dataset\n"
     ]
    }
   ],
   "source": [
    "tool=\"Unsupervised algorithms\"\n",
    "goal=\"patterns\"\n",
    "print(\"{title} try to find {aim} in the dataset\".format(title=tool, aim=goal))"
   ]
  },
  {
   "cell_type": "code",
   "execution_count": 8,
   "metadata": {},
   "outputs": [],
   "source": [
    "my_methods = {\"tool\": \"Unsupervised algorithms\", \"goal\": \"patterns\"}"
   ]
  },
  {
   "cell_type": "code",
   "execution_count": 9,
   "metadata": {},
   "outputs": [
    {
     "name": "stdout",
     "output_type": "stream",
     "text": [
      "Unsupervised algorithms try to find patterns in the dataset\n"
     ]
    }
   ],
   "source": [
    "print('{data[tool]} try to find {data[goal]} in the dataset'.format(data=my_methods))"
   ]
  },
  {
   "cell_type": "markdown",
   "metadata": {},
   "source": [
    "### Format specier\n",
    "\n",
    "* Tentukan tipe data yang akan digunakan: `{index:specifier}`"
   ]
  },
  {
   "cell_type": "code",
   "execution_count": 10,
   "metadata": {},
   "outputs": [
    {
     "name": "stdout",
     "output_type": "stream",
     "text": [
      "Only 0.515567% of the data produced worldwide is analyzed!\n"
     ]
    }
   ],
   "source": [
    "print(\"Only {0:f}% of the {1} produced worldwide is {2}!\".format(0.5155675, \"data\", \"analyzed\"))"
   ]
  },
  {
   "cell_type": "code",
   "execution_count": 11,
   "metadata": {},
   "outputs": [
    {
     "name": "stdout",
     "output_type": "stream",
     "text": [
      "Only 0.52% of the data produced worldwide is analyzed!\n"
     ]
    }
   ],
   "source": [
    "print(\"Only {0:.2f}% of the {1} produced worldwide is {2}!\".format(0.5155675, \"data\", \"analyzed\"))"
   ]
  },
  {
   "cell_type": "markdown",
   "metadata": {},
   "source": [
    "### Formatting datetime"
   ]
  },
  {
   "cell_type": "code",
   "execution_count": 13,
   "metadata": {},
   "outputs": [
    {
     "name": "stdout",
     "output_type": "stream",
     "text": [
      "2020-02-01 12:56:57.944695\n"
     ]
    }
   ],
   "source": [
    "from datetime import datetime\n",
    "\n",
    "print(datetime.now())"
   ]
  },
  {
   "cell_type": "code",
   "execution_count": 14,
   "metadata": {},
   "outputs": [
    {
     "name": "stdout",
     "output_type": "stream",
     "text": [
      "Today's date is 2020-02-01 12:57\n"
     ]
    }
   ],
   "source": [
    "print(\"Today's date is {:%Y-%m-%d %H:%M}\".format(datetime.now()))"
   ]
  },
  {
   "cell_type": "markdown",
   "metadata": {},
   "source": [
    "### Put it in order!\n",
    "\n",
    "Perusahaan Anda sedang menganalisis cara terbaik untuk menyediakan kursus online berbeda kepada pengguna. Tugas Anda adalah scraping halaman Wikipedia untuk mencari tools yang digunakan dalam subbidang Ilmu Data. Anda akan menyimpan tools dan nama bidang dalam database. Setelah analisis teks, Anda menyadari bahwa informasi tersebut diberikan dalam posisi tertentu dari teks tetapi kadang-kadang nama bidang diberikan terlebih dahulu dan tools setelah itu, sedangkan dalam kasus lain sebaliknya.\n",
    "\n",
    "Anda memutuskan untuk menggunakan **pemformatan posisi** untuk menangani situasi ini karena menyediakan cara untuk menyusun ulang placeholder.\n",
    "\n",
    "Teks dari satu artikel telah disimpan dalam variabel `wikipedia_article` dan list kosong `my_list`."
   ]
  },
  {
   "cell_type": "code",
   "execution_count": 17,
   "metadata": {},
   "outputs": [
    {
     "name": "stdout",
     "output_type": "stream",
     "text": [
      "\n",
      "In computer science, artificial intelligence (AI), sometimes called machine intelligence, is intelligence demonstrated by machines, in contrast to the natural intelligence displayed by humans and animals.\n",
      "\n"
     ]
    }
   ],
   "source": [
    "my_list = []\n",
    "\n",
    "wikipedia_article = \"\"\"\n",
    "In computer science, artificial intelligence (AI), sometimes called machine intelligence, is intelligence demonstrated by machines, in contrast to the natural intelligence displayed by humans and animals.\n",
    "\"\"\"\n",
    "print(wikipedia_article)"
   ]
  },
  {
   "cell_type": "code",
   "execution_count": 18,
   "metadata": {},
   "outputs": [
    {
     "name": "stdout",
     "output_type": "stream",
     "text": [
      "The tool  computer scienc is used in  artificial intelligenc\n",
      "The tool  artificial intelligenc is used in  computer scienc\n"
     ]
    }
   ],
   "source": [
    "# Assign the substrings to the variables\n",
    "first_pos = wikipedia_article[3:19].lower()\n",
    "second_pos = wikipedia_article[21:44].lower()\n",
    "\n",
    "# Define string with placeholders \n",
    "my_list.append(\"The tool {} is used in {}\")\n",
    "\n",
    "# Define string with rearranged placeholders\n",
    "my_list.append(\"The tool {1} is used in {0}\")\n",
    "\n",
    "# Use format to print strings\n",
    "for my_string in my_list:\n",
    "  \tprint(my_string.format(first_pos, second_pos))"
   ]
  },
  {
   "cell_type": "markdown",
   "metadata": {},
   "source": [
    "**Note** : Pemformatan posisi adalah salah satu kasus penggunaan yang paling umum untuk pemformatan string. Sangat cocok ketika ada beberapa elemen yang ingin Anda gabungkan!"
   ]
  },
  {
   "cell_type": "markdown",
   "metadata": {},
   "source": [
    "### Calling by its name\n",
    "\n",
    "Anda telah membuat basis data Anda dengan alat-alat dan berbagai sub-bidang Ilmu Data tempat mereka digunakan. Perusahaan sedang mempertimbangkan untuk membuat kursus menggunakan alat-alat ini dan mengirimkan surel yang dipersonalisasi kepada para pengguna yang merekomendasikan berbagai topik. Mereka telah meminta Anda untuk membuat proses ini lebih efisien waktu. Untuk melakukan ini, Anda ingin membuat templat email dengan pesan standar yang mengubah berbagai alat dan nama bidang yang sesuai.\n",
    "\n",
    "Pertama, Anda ingin mencoba melakukan ini hanya dengan satu contoh sebagai bukti konsep. Anda menggunakan pemformatan posisional dan menamai placeholder untuk memanggil variabel dalam dictionary.\n",
    "\n",
    "Variabel `courses` yang berisi satu alat dan satu nama bidang telah disimpan."
   ]
  },
  {
   "cell_type": "code",
   "execution_count": 19,
   "metadata": {},
   "outputs": [],
   "source": [
    "courses = ['artificial intelligence', 'neural networks']"
   ]
  },
  {
   "cell_type": "code",
   "execution_count": 20,
   "metadata": {},
   "outputs": [
    {
     "name": "stdout",
     "output_type": "stream",
     "text": [
      "If you are interested in artificial intelligence, you can take the course related to neural networks\n"
     ]
    }
   ],
   "source": [
    "# Create a dictionary\n",
    "plan = {\n",
    "    \"field\": courses[0],\n",
    "    \"tool\": courses[1]\n",
    "        }\n",
    "\n",
    "# Complete the placeholders accessing elements of field and tool keys\n",
    "my_message = \"If you are interested in {data[field]}, you can take the course related to {data[tool]}\"\n",
    "\n",
    "# Use dictionary to replace placehoders\n",
    "print(my_message.format(data=plan))"
   ]
  },
  {
   "cell_type": "markdown",
   "metadata": {},
   "source": [
    "**Note** : Untuk mengakses elemen dalam dictionary saat menggunakan metode `str.format()`, Anda perlu menggunakan `dict[index]` tanpa menggunakan tanda kutip untuk index. Metode mengubahnya secara otomatis ke string `\"index\"` ketika dicari di `dict`."
   ]
  },
  {
   "cell_type": "markdown",
   "metadata": {},
   "source": [
    "### What day is today?\n",
    "\n",
    "Saatnya makan siang dan Anda berbicara dengan beberapa rekan Anda. Mereka berkomentar bahwa mereka merasa bahwa setiap pagi seseorang harus mengirimi mereka pengingat hari apa itu sehingga mereka dapat memeriksa dalam kalender apa tugas mereka untuk hari itu.\n",
    "\n",
    "Anda ingin membantu dan memutuskan untuk menulis skrip kecil yang memuat tanggal dan waktu dalam sehari sehingga setiap pagi, sebuah pesan dikirimkan ke kolega Anda. Anda dapat menggunakan modul `datetime` bersama dengan placeholder yang disebutkan untuk mencapai tujuan Anda.\n",
    "\n",
    "Tanggal harus dinyatakan sebagai `Month day, year`, mis. `April 16, 2019` dan waktu sebagai `hh:mm`, mis. `16:30`.\n",
    "\n",
    "Anda menuliskan beberapa specifier untuk membantu Anda: `%d` (hari), `%B` (nama bulan), `%m` (angka bulan), `%Y` (tahun), `%H` (jam) dan `%M` (menit)."
   ]
  },
  {
   "cell_type": "code",
   "execution_count": 21,
   "metadata": {},
   "outputs": [
    {
     "name": "stdout",
     "output_type": "stream",
     "text": [
      "Good morning. Today is February 01, 2020. It's 13:42 ... time to work!\n"
     ]
    }
   ],
   "source": [
    "# Import datetime \n",
    "from datetime import datetime\n",
    "\n",
    "# Assign date to get_date\n",
    "get_date = datetime.now()\n",
    "\n",
    "# Add named placeholders with format specifiers\n",
    "message = \"Good morning. Today is {today:%B %d, %Y}. It's {today:%H:%M} ... time to work!\"\n",
    "\n",
    "# Format date\n",
    "print(message.format(today=get_date))"
   ]
  },
  {
   "cell_type": "markdown",
   "metadata": {},
   "source": [
    "**Note** : Datetime adalah modul yang baik untuk bekerja dengan tanggal tetapi Anda selalu perlu memformatnya menggunakan specifier format"
   ]
  },
  {
   "cell_type": "markdown",
   "metadata": {},
   "source": [
    "## Formatted string literal"
   ]
  },
  {
   "cell_type": "markdown",
   "metadata": {},
   "source": [
    "### f-strings\n",
    "\n",
    "* Sintaks minimal\n",
    "* Tambahkan awalan `f` ke string\n",
    "* `f\"literal string {expression}`"
   ]
  },
  {
   "cell_type": "code",
   "execution_count": 23,
   "metadata": {},
   "outputs": [
    {
     "name": "stdout",
     "output_type": "stream",
     "text": [
      "Practicing how to code is the best method for learning Python faster\n"
     ]
    }
   ],
   "source": [
    "way = \"code\"\n",
    "method = \"learning Python faster\"\n",
    "\n",
    "print(f\"Practicing how to {way} is the best method for {method}\")"
   ]
  },
  {
   "cell_type": "markdown",
   "metadata": {},
   "source": [
    "### Type conversion\n",
    "\n",
    "* Allowed conversions:\n",
    "  * `!s` (string version)\n",
    "  * `!r` (string yang berisi representasi yang dapat dicetak, yaitu dengan tanda kutip)\n",
    "  * `!a` (beberapa !r tapi diluar dari karakter non-ASCII)"
   ]
  },
  {
   "cell_type": "code",
   "execution_count": 24,
   "metadata": {},
   "outputs": [
    {
     "name": "stdout",
     "output_type": "stream",
     "text": [
      "Python is called 'Python' due to a comedy series\n"
     ]
    }
   ],
   "source": [
    "name = \"Python\"\n",
    "print(f\"Python is called {name!r} due to a comedy series\")"
   ]
  },
  {
   "cell_type": "markdown",
   "metadata": {},
   "source": [
    "### Format speciers\n",
    "\n",
    "* Standard format specier:\n",
    "  * `e` (scientific notation, e.g. 5 10^3)\n",
    "  * `d` (digit, e.g. 4)\n",
    "  * `f` (float, e.g. 4.5353)"
   ]
  },
  {
   "cell_type": "code",
   "execution_count": 25,
   "metadata": {},
   "outputs": [
    {
     "name": "stdout",
     "output_type": "stream",
     "text": [
      "In the last 2 years, 90.42% of the data was produced worldwide!\n"
     ]
    }
   ],
   "source": [
    "number = 90.41890417471841\n",
    "print(f\"In the last 2 years, {number:.2f}% of the data was produced worldwide!\")"
   ]
  },
  {
   "cell_type": "markdown",
   "metadata": {},
   "source": [
    "* `datetime`"
   ]
  },
  {
   "cell_type": "code",
   "execution_count": 26,
   "metadata": {},
   "outputs": [],
   "source": [
    "from datetime import datetime\n",
    "my_today = datetime.now()"
   ]
  },
  {
   "cell_type": "code",
   "execution_count": 27,
   "metadata": {},
   "outputs": [
    {
     "name": "stdout",
     "output_type": "stream",
     "text": [
      "Today's date is February 01, 2020\n"
     ]
    }
   ],
   "source": [
    "print(f\"Today's date is {my_today:%B %d, %Y}\")"
   ]
  },
  {
   "cell_type": "markdown",
   "metadata": {},
   "source": [
    "### Index lookups"
   ]
  },
  {
   "cell_type": "code",
   "execution_count": 28,
   "metadata": {},
   "outputs": [],
   "source": [
    "family = {\"dad\": \"John\", \"siblings\": \"Peter\"}"
   ]
  },
  {
   "cell_type": "code",
   "execution_count": 29,
   "metadata": {},
   "outputs": [
    {
     "name": "stdout",
     "output_type": "stream",
     "text": [
      "Is your dad called John?\n"
     ]
    }
   ],
   "source": [
    "print(\"Is your dad called {family[dad]}?\".format(family=family))"
   ]
  },
  {
   "cell_type": "markdown",
   "metadata": {},
   "source": [
    "* Gunakan tanda kutip untuk pencarian indeks: `family[\"dad\"]`"
   ]
  },
  {
   "cell_type": "code",
   "execution_count": 30,
   "metadata": {},
   "outputs": [
    {
     "ename": "NameError",
     "evalue": "name 'dad' is not defined",
     "output_type": "error",
     "traceback": [
      "\u001b[0;31m---------------------------------------------------------------------------\u001b[0m",
      "\u001b[0;31mNameError\u001b[0m                                 Traceback (most recent call last)",
      "\u001b[0;32m<ipython-input-30-be2e298c33a5>\u001b[0m in \u001b[0;36m<module>\u001b[0;34m\u001b[0m\n\u001b[0;32m----> 1\u001b[0;31m \u001b[0mprint\u001b[0m\u001b[0;34m(\u001b[0m\u001b[0;34mf\"Is your dad called {family[dad]}?\"\u001b[0m\u001b[0;34m)\u001b[0m\u001b[0;34m\u001b[0m\u001b[0;34m\u001b[0m\u001b[0m\n\u001b[0m",
      "\u001b[0;31mNameError\u001b[0m: name 'dad' is not defined"
     ]
    }
   ],
   "source": [
    "print(f\"Is your dad called {family[dad]}?\")"
   ]
  },
  {
   "cell_type": "code",
   "execution_count": 31,
   "metadata": {},
   "outputs": [
    {
     "name": "stdout",
     "output_type": "stream",
     "text": [
      "Is your dad called John?\n"
     ]
    }
   ],
   "source": [
    "print(f\"Is your dad called {family['dad']}?\")"
   ]
  },
  {
   "cell_type": "markdown",
   "metadata": {},
   "source": [
    "### Escape sequences\n",
    "\n",
    "* Escape sequences: backslashes `\\`"
   ]
  },
  {
   "cell_type": "code",
   "execution_count": 32,
   "metadata": {},
   "outputs": [
    {
     "ename": "SyntaxError",
     "evalue": "invalid syntax (<ipython-input-32-8fa3864c5339>, line 1)",
     "output_type": "error",
     "traceback": [
      "\u001b[0;36m  File \u001b[0;32m\"<ipython-input-32-8fa3864c5339>\"\u001b[0;36m, line \u001b[0;32m1\u001b[0m\n\u001b[0;31m    print(\"My dad is called \"John\"\")\u001b[0m\n\u001b[0m                                ^\u001b[0m\n\u001b[0;31mSyntaxError\u001b[0m\u001b[0;31m:\u001b[0m invalid syntax\n"
     ]
    }
   ],
   "source": [
    "print(\"My dad is called \"John\"\")"
   ]
  },
  {
   "cell_type": "code",
   "execution_count": 35,
   "metadata": {},
   "outputs": [
    {
     "name": "stdout",
     "output_type": "stream",
     "text": [
      "My dad is called \"John\"\n"
     ]
    }
   ],
   "source": [
    "print(\"My dad is called \\\"John\\\"\")"
   ]
  },
  {
   "cell_type": "markdown",
   "metadata": {},
   "source": [
    "* Backslashes tidak diizinkan dalam f-string"
   ]
  },
  {
   "cell_type": "code",
   "execution_count": 36,
   "metadata": {},
   "outputs": [
    {
     "ename": "SyntaxError",
     "evalue": "f-string expression part cannot include a backslash (<ipython-input-36-891b946e948e>, line 1)",
     "output_type": "error",
     "traceback": [
      "\u001b[0;36m  File \u001b[0;32m\"<ipython-input-36-891b946e948e>\"\u001b[0;36m, line \u001b[0;32m1\u001b[0m\n\u001b[0;31m    print(f\"Is your dad called {family[\\\"dad\\\"]}?\")\u001b[0m\n\u001b[0m         ^\u001b[0m\n\u001b[0;31mSyntaxError\u001b[0m\u001b[0;31m:\u001b[0m f-string expression part cannot include a backslash\n"
     ]
    }
   ],
   "source": [
    "print(f\"Is your dad called {family[\\\"dad\\\"]}?\")"
   ]
  },
  {
   "cell_type": "code",
   "execution_count": 37,
   "metadata": {},
   "outputs": [
    {
     "name": "stdout",
     "output_type": "stream",
     "text": [
      "Is your dad called John?\n"
     ]
    }
   ],
   "source": [
    "print(f\"Is your dad called {family['dad']}?\")"
   ]
  },
  {
   "cell_type": "markdown",
   "metadata": {},
   "source": [
    "### Inline operations\n",
    "\n",
    "* Keuntungan: mengevaluasi ekspresi dan fungsi panggilan inline"
   ]
  },
  {
   "cell_type": "code",
   "execution_count": 38,
   "metadata": {},
   "outputs": [],
   "source": [
    "my_number = 4\n",
    "my_multiplier = 7"
   ]
  },
  {
   "cell_type": "code",
   "execution_count": 39,
   "metadata": {},
   "outputs": [
    {
     "name": "stdout",
     "output_type": "stream",
     "text": [
      "4 multiplied by 7 is 28\n"
     ]
    }
   ],
   "source": [
    "print(f'{my_number} multiplied by {my_multiplier} is {my_number * my_multiplier}')"
   ]
  },
  {
   "cell_type": "markdown",
   "metadata": {},
   "source": [
    "### Calling functions"
   ]
  },
  {
   "cell_type": "code",
   "execution_count": 41,
   "metadata": {},
   "outputs": [],
   "source": [
    "def my_function(a, b):\n",
    "    return a + b"
   ]
  },
  {
   "cell_type": "code",
   "execution_count": 42,
   "metadata": {},
   "outputs": [
    {
     "name": "stdout",
     "output_type": "stream",
     "text": [
      "If you sum up 10 and 20 the result is 30\n"
     ]
    }
   ],
   "source": [
    "print(f\"If you sum up 10 and 20 the result is {my_function(10, 20)}\")"
   ]
  },
  {
   "cell_type": "markdown",
   "metadata": {},
   "source": [
    "### Practice: Literally formatting\n",
    "\n",
    "Saat menganalisis teks dari halaman Wikipedia, Anda membaca bahwa Python 3.6 memperkenalkan *f-string*.\n",
    "\n",
    "Anda ingat bahwa Anda telah membuat situs web yang menampilkan fakta ilmu data tetapi terlalu lambat. Anda berpikir itu bisa jadi karena pemformatan string yang Anda gunakan. Karena f-string sangat cepat dan mudah digunakan, Anda memutuskan untuk menulis ulang proyek itu.\n",
    "\n",
    "Variabel `field1`, `field2` dan `field3` berisi string karakter serta variabel numerik `fact1`, `fact2`, `fact3` dan `fact4`."
   ]
  },
  {
   "cell_type": "code",
   "execution_count": 43,
   "metadata": {},
   "outputs": [],
   "source": [
    "# String\n",
    "field1 = 'sexiest job'\n",
    "field2 = 'data is produced daily'\n",
    "field3 = 'Individuals' \n",
    "\n",
    "fact1 = 21\n",
    "fact2 = 2500000000000000000\n",
    "fact3 = 72.41415415151\n",
    "fact4 = 1.09"
   ]
  },
  {
   "cell_type": "code",
   "execution_count": 44,
   "metadata": {},
   "outputs": [
    {
     "name": "stdout",
     "output_type": "stream",
     "text": [
      "Data science is considered sexiest job in the 21st century\n"
     ]
    }
   ],
   "source": [
    "# Complete the f-string\n",
    "print(f\"Data science is considered {field1} in the {fact1:d}st century\")"
   ]
  },
  {
   "cell_type": "code",
   "execution_count": 45,
   "metadata": {},
   "outputs": [
    {
     "name": "stdout",
     "output_type": "stream",
     "text": [
      "About 2.500000e+18 of data is produced daily in the world\n"
     ]
    }
   ],
   "source": [
    "# Complete the f-string\n",
    "print(f\"About {fact2:e} of {field2} in the world\")"
   ]
  },
  {
   "cell_type": "code",
   "execution_count": 46,
   "metadata": {},
   "outputs": [
    {
     "name": "stdout",
     "output_type": "stream",
     "text": [
      "Individuals create around 72.41% of the data but only 1.1% is analyzed\n"
     ]
    }
   ],
   "source": [
    "# Complete the f-string\n",
    "print(f\"{field3} create around {fact3:.2f}% of the data but only {fact4:.1f}% is analyzed\")"
   ]
  },
  {
   "cell_type": "markdown",
   "metadata": {},
   "source": [
    "**Note** : f-string diperkenalkan untuk memberikan cara yang mudah dibaca dan ringkas untuk memasukkan nilai ekspresi Python di dalam string. Mereka sangat cepat dan specifiers yang paling umum, serta jenis konversi dapat dimasukkan."
   ]
  },
  {
   "cell_type": "markdown",
   "metadata": {},
   "source": [
    "### Make this function\n",
    "\n",
    "Wow! Anda senang melihat seberapa cepat dan mudah f-string bekerja. Jadi Anda berencana untuk menulis ulang beberapa kode lama Anda.\n",
    "\n",
    "Sekarang Anda tahu bahwa f-string memungkinkan Anda untuk mengevaluasi ekspresi di mana mereka muncul dan termasuk panggilan fungsi dan metode. Anda memutuskan untuk menggunakannya dalam proyek tempat Anda menganalisis 120 tweet untuk memeriksa apakah mereka menyertakan tautan ke berita yang berbeda. Dengan cara itu, Anda mengharapkan kode menjadi lebih bersih dan lebih mudah dibaca.\n",
    "\n",
    "* Variabel `number1`, `number2`, `string1`, dan `list_links`."
   ]
  },
  {
   "cell_type": "code",
   "execution_count": 47,
   "metadata": {},
   "outputs": [],
   "source": [
    "number1 = 120\n",
    "number2 = 7\n",
    "string1 = 'httpswww.datacamp.com'\n",
    "list_links = ['www.news.com', 'www.google.com', 'www.yahoo.com', 'www.bbc.com', 'www.msn.com', 'www.facebook.com', 'www.news.google.com']\n"
   ]
  },
  {
   "cell_type": "code",
   "execution_count": 48,
   "metadata": {},
   "outputs": [
    {
     "name": "stdout",
     "output_type": "stream",
     "text": [
      "120 tweets were downloaded in 7 minutes indicating a speed of 17.1 tweets per min\n"
     ]
    }
   ],
   "source": [
    "# Include both variables and the result of dividing them \n",
    "print(f\"{number1:d} tweets were downloaded in {number2:d} minutes indicating a speed of {number1/number2:.1f} tweets per min\")"
   ]
  },
  {
   "cell_type": "code",
   "execution_count": 49,
   "metadata": {},
   "outputs": [
    {
     "name": "stdout",
     "output_type": "stream",
     "text": [
      "www.datacamp.com\n"
     ]
    }
   ],
   "source": [
    "# Replace the substring https by an empty string\n",
    "print(f\"{string1.replace('https', '')}\")"
   ]
  },
  {
   "cell_type": "code",
   "execution_count": 50,
   "metadata": {},
   "outputs": [
    {
     "name": "stdout",
     "output_type": "stream",
     "text": [
      "Only 5.83% of the posts contain links\n"
     ]
    }
   ],
   "source": [
    "# Divide the length of list by 120 rounded to two decimals\n",
    "print(f\"Only {len(list_links) * 100 / 120:.2f}% of the posts contain links\")"
   ]
  },
  {
   "cell_type": "markdown",
   "metadata": {},
   "source": [
    "**Note** : Salah satu keuntungan terbesar menggunakan f-strings adalah mereka memungkinkan Anda mengevaluasi ekspresi di dalam panggilan fungsi dan melakukan operasi inline."
   ]
  },
  {
   "cell_type": "markdown",
   "metadata": {},
   "source": [
    "### On time\n",
    "\n",
    "Terakhir, Anda ingin menulis ulang proyek prediksi real estate lama. Pada saat itu, Anda memperoleh informasi historis tentang harga rumah dan menggunakannya untuk membuat prediksi nilai masa depan.\n",
    "\n",
    "Tanggal dalam format datetime: `datetime.datetime(1990, 3, 17)` tetapi untuk mencetaknya, Anda memformatnya sebagai `3-17-1990`. Anda juga ingat bahwa Anda mendefinisikan dictionary untuk setiap lingkungan. Sekarang, Anda percaya bahwa Anda dapat menangani kedua jenis data dengan lebih baik menggunakan f-string.\n",
    "\n",
    "Dua dictionary `east` dan `west`, keduanya dengan kunci `date` dan `price`."
   ]
  },
  {
   "cell_type": "code",
   "execution_count": 57,
   "metadata": {},
   "outputs": [],
   "source": [
    "# Create dictionary\n",
    "east = {'date': datetime(2007, 4, 20, 0, 0), 'price': 1232443}\n",
    "west = {'date': datetime(2006, 5, 26, 0, 0), 'price': 1432673}"
   ]
  },
  {
   "cell_type": "code",
   "execution_count": 61,
   "metadata": {},
   "outputs": [
    {
     "name": "stdout",
     "output_type": "stream",
     "text": [
      "The price for a house in the east neighborhood was $1232443 in 04-20-2007\n"
     ]
    }
   ],
   "source": [
    "# Access values of date and price in east dictionary\n",
    "print(f\"The price for a house in the east neighborhood was ${east['price']} in {east['date']:%m-%d-%Y}\")"
   ]
  },
  {
   "cell_type": "code",
   "execution_count": 60,
   "metadata": {},
   "outputs": [
    {
     "name": "stdout",
     "output_type": "stream",
     "text": [
      "The price for a house in the west neighborhood was $1432673 in 05-26-2006.\n"
     ]
    }
   ],
   "source": [
    "# Access values of date and price in west dictionary\n",
    "print(f\"The price for a house in the west neighborhood was ${west['price']} in {west['date']:%m-%d-%Y}.\")"
   ]
  },
  {
   "cell_type": "markdown",
   "metadata": {},
   "source": [
    "**Note** : Dalam f-string, Anda perlu menggunakan literal untuk nilai 'indeks' jika tidak, Anda tidak dapat menggunakan variabel sebagai indeks. Jangan lupa bahwa *escape sequences* tidak diperbolehkan sehingga Anda perlu menggunakan kutipan yang berbeda dari yang digunakan untuk mendefinisikan f-string."
   ]
  },
  {
   "cell_type": "markdown",
   "metadata": {},
   "source": [
    "## Template method"
   ]
  },
  {
   "cell_type": "markdown",
   "metadata": {},
   "source": [
    "### Template strings\n",
    "\n",
    "* Sintaks yang lebih sederhana\n",
    "* Lebih lambat dari f-string\n",
    "* Limited: tidak mengijinkan format speciers\n",
    "* Bagus saat bekerja dengan string yang diformat secara eksternal"
   ]
  },
  {
   "cell_type": "markdown",
   "metadata": {},
   "source": [
    "### Basic syntax"
   ]
  },
  {
   "cell_type": "code",
   "execution_count": 62,
   "metadata": {},
   "outputs": [
    {
     "data": {
      "text/plain": [
       "'Data science has been called sexiest job of the 21st century'"
      ]
     },
     "execution_count": 62,
     "metadata": {},
     "output_type": "execute_result"
    }
   ],
   "source": [
    "from string import Template\n",
    "\n",
    "my_string = Template('Data science has been called $identifier')\n",
    "my_string.substitute(identifier=\"sexiest job of the 21st century\")"
   ]
  },
  {
   "cell_type": "markdown",
   "metadata": {},
   "source": [
    "### Substitution\n",
    "\n",
    "* Gunakan banyak `$identifier`\n",
    "* Gunakan variabel"
   ]
  },
  {
   "cell_type": "code",
   "execution_count": 63,
   "metadata": {},
   "outputs": [
    {
     "data": {
      "text/plain": [
       "'Data science has been called sexiest job of the 21st century'"
      ]
     },
     "execution_count": 63,
     "metadata": {},
     "output_type": "execute_result"
    }
   ],
   "source": [
    "job = \"Data science\"\n",
    "name = \"sexiest job of the 21st century\"\n",
    "\n",
    "my_string = Template('$title has been called $description')\n",
    "my_string.substitute(title=job, description=name)"
   ]
  },
  {
   "cell_type": "markdown",
   "metadata": {},
   "source": [
    "* Gunakan `${identifier}` ketika karakter yang valid mengikuti pengidentifikasi"
   ]
  },
  {
   "cell_type": "code",
   "execution_count": 64,
   "metadata": {},
   "outputs": [
    {
     "data": {
      "text/plain": [
       "'I find Python very interesting but my sister has lost interest'"
      ]
     },
     "execution_count": 64,
     "metadata": {},
     "output_type": "execute_result"
    }
   ],
   "source": [
    "my_string = Template('I find Python very ${noun}ing but my sister has lost $noun')\n",
    "my_string.substitute(noun=\"interest\")"
   ]
  },
  {
   "cell_type": "markdown",
   "metadata": {},
   "source": [
    "* Gunakan `$$` untuk menghindari tanda dolar"
   ]
  },
  {
   "cell_type": "code",
   "execution_count": 65,
   "metadata": {},
   "outputs": [
    {
     "data": {
      "text/plain": [
       "'I paid for the Python course only $ 12.50, amazing!'"
      ]
     },
     "execution_count": 65,
     "metadata": {},
     "output_type": "execute_result"
    }
   ],
   "source": [
    "my_string = Template('I paid for the Python course only $$ $price, amazing!')\n",
    "my_string.substitute(price=\"12.50\")"
   ]
  },
  {
   "cell_type": "markdown",
   "metadata": {},
   "source": [
    "* Raise error saat placeholder hilang"
   ]
  },
  {
   "cell_type": "code",
   "execution_count": 66,
   "metadata": {},
   "outputs": [
    {
     "ename": "KeyError",
     "evalue": "'cake'",
     "output_type": "error",
     "traceback": [
      "\u001b[0;31m---------------------------------------------------------------------------\u001b[0m",
      "\u001b[0;31mKeyError\u001b[0m                                  Traceback (most recent call last)",
      "\u001b[0;32m<ipython-input-66-e70867799c04>\u001b[0m in \u001b[0;36m<module>\u001b[0;34m\u001b[0m\n\u001b[1;32m      1\u001b[0m \u001b[0mfavorite\u001b[0m \u001b[0;34m=\u001b[0m \u001b[0mdict\u001b[0m\u001b[0;34m(\u001b[0m\u001b[0mflavor\u001b[0m\u001b[0;34m=\u001b[0m\u001b[0;34m\"chocolate\"\u001b[0m\u001b[0;34m)\u001b[0m\u001b[0;34m\u001b[0m\u001b[0;34m\u001b[0m\u001b[0m\n\u001b[1;32m      2\u001b[0m \u001b[0mmy_string\u001b[0m \u001b[0;34m=\u001b[0m \u001b[0mTemplate\u001b[0m\u001b[0;34m(\u001b[0m\u001b[0;34m'I love $flavor $cake very much'\u001b[0m\u001b[0;34m)\u001b[0m\u001b[0;34m\u001b[0m\u001b[0;34m\u001b[0m\u001b[0m\n\u001b[0;32m----> 3\u001b[0;31m \u001b[0mmy_string\u001b[0m\u001b[0;34m.\u001b[0m\u001b[0msubstitute\u001b[0m\u001b[0;34m(\u001b[0m\u001b[0mfavorite\u001b[0m\u001b[0;34m)\u001b[0m\u001b[0;34m\u001b[0m\u001b[0;34m\u001b[0m\u001b[0m\n\u001b[0m",
      "\u001b[0;32m/opt/conda/lib/python3.7/string.py\u001b[0m in \u001b[0;36msubstitute\u001b[0;34m(*args, **kws)\u001b[0m\n\u001b[1;32m    130\u001b[0m             raise ValueError('Unrecognized named group in pattern',\n\u001b[1;32m    131\u001b[0m                              self.pattern)\n\u001b[0;32m--> 132\u001b[0;31m         \u001b[0;32mreturn\u001b[0m \u001b[0mself\u001b[0m\u001b[0;34m.\u001b[0m\u001b[0mpattern\u001b[0m\u001b[0;34m.\u001b[0m\u001b[0msub\u001b[0m\u001b[0;34m(\u001b[0m\u001b[0mconvert\u001b[0m\u001b[0;34m,\u001b[0m \u001b[0mself\u001b[0m\u001b[0;34m.\u001b[0m\u001b[0mtemplate\u001b[0m\u001b[0;34m)\u001b[0m\u001b[0;34m\u001b[0m\u001b[0;34m\u001b[0m\u001b[0m\n\u001b[0m\u001b[1;32m    133\u001b[0m \u001b[0;34m\u001b[0m\u001b[0m\n\u001b[1;32m    134\u001b[0m     \u001b[0;32mdef\u001b[0m \u001b[0msafe_substitute\u001b[0m\u001b[0;34m(\u001b[0m\u001b[0;34m*\u001b[0m\u001b[0margs\u001b[0m\u001b[0;34m,\u001b[0m \u001b[0;34m**\u001b[0m\u001b[0mkws\u001b[0m\u001b[0;34m)\u001b[0m\u001b[0;34m:\u001b[0m\u001b[0;34m\u001b[0m\u001b[0;34m\u001b[0m\u001b[0m\n",
      "\u001b[0;32m/opt/conda/lib/python3.7/string.py\u001b[0m in \u001b[0;36mconvert\u001b[0;34m(mo)\u001b[0m\n\u001b[1;32m    123\u001b[0m             \u001b[0mnamed\u001b[0m \u001b[0;34m=\u001b[0m \u001b[0mmo\u001b[0m\u001b[0;34m.\u001b[0m\u001b[0mgroup\u001b[0m\u001b[0;34m(\u001b[0m\u001b[0;34m'named'\u001b[0m\u001b[0;34m)\u001b[0m \u001b[0;32mor\u001b[0m \u001b[0mmo\u001b[0m\u001b[0;34m.\u001b[0m\u001b[0mgroup\u001b[0m\u001b[0;34m(\u001b[0m\u001b[0;34m'braced'\u001b[0m\u001b[0;34m)\u001b[0m\u001b[0;34m\u001b[0m\u001b[0;34m\u001b[0m\u001b[0m\n\u001b[1;32m    124\u001b[0m             \u001b[0;32mif\u001b[0m \u001b[0mnamed\u001b[0m \u001b[0;32mis\u001b[0m \u001b[0;32mnot\u001b[0m \u001b[0;32mNone\u001b[0m\u001b[0;34m:\u001b[0m\u001b[0;34m\u001b[0m\u001b[0;34m\u001b[0m\u001b[0m\n\u001b[0;32m--> 125\u001b[0;31m                 \u001b[0;32mreturn\u001b[0m \u001b[0mstr\u001b[0m\u001b[0;34m(\u001b[0m\u001b[0mmapping\u001b[0m\u001b[0;34m[\u001b[0m\u001b[0mnamed\u001b[0m\u001b[0;34m]\u001b[0m\u001b[0;34m)\u001b[0m\u001b[0;34m\u001b[0m\u001b[0;34m\u001b[0m\u001b[0m\n\u001b[0m\u001b[1;32m    126\u001b[0m             \u001b[0;32mif\u001b[0m \u001b[0mmo\u001b[0m\u001b[0;34m.\u001b[0m\u001b[0mgroup\u001b[0m\u001b[0;34m(\u001b[0m\u001b[0;34m'escaped'\u001b[0m\u001b[0;34m)\u001b[0m \u001b[0;32mis\u001b[0m \u001b[0;32mnot\u001b[0m \u001b[0;32mNone\u001b[0m\u001b[0;34m:\u001b[0m\u001b[0;34m\u001b[0m\u001b[0;34m\u001b[0m\u001b[0m\n\u001b[1;32m    127\u001b[0m                 \u001b[0;32mreturn\u001b[0m \u001b[0mself\u001b[0m\u001b[0;34m.\u001b[0m\u001b[0mdelimiter\u001b[0m\u001b[0;34m\u001b[0m\u001b[0;34m\u001b[0m\u001b[0m\n",
      "\u001b[0;31mKeyError\u001b[0m: 'cake'"
     ]
    }
   ],
   "source": [
    "favorite = dict(flavor=\"chocolate\")\n",
    "my_string = Template('I love $flavor $cake very much')\n",
    "my_string.substitute(favorite)"
   ]
  },
  {
   "cell_type": "code",
   "execution_count": 67,
   "metadata": {},
   "outputs": [],
   "source": [
    "favorite = dict(flavor=\"chocolate\")\n",
    "my_string = Template('I love $flavor $cake very much')"
   ]
  },
  {
   "cell_type": "code",
   "execution_count": 68,
   "metadata": {},
   "outputs": [
    {
     "name": "stdout",
     "output_type": "stream",
     "text": [
      "missing information\n"
     ]
    }
   ],
   "source": [
    "try:\n",
    "    my_string.substitute(favorite)\n",
    "except KeyError:\n",
    "    print(\"missing information\")"
   ]
  },
  {
   "cell_type": "markdown",
   "metadata": {},
   "source": [
    "### Safe substitution\n",
    "\n",
    "* Selalu mencoba mengembalikan string yang dapat digunakan\n",
    "* Placeholder yang hilang akan muncul di string yang dihasilkan"
   ]
  },
  {
   "cell_type": "code",
   "execution_count": 69,
   "metadata": {},
   "outputs": [
    {
     "data": {
      "text/plain": [
       "'I love chocolate $cake very much'"
      ]
     },
     "execution_count": 69,
     "metadata": {},
     "output_type": "execute_result"
    }
   ],
   "source": [
    "favorite = dict(flavor=\"chocolate\")\n",
    "my_string = Template('I love $flavor $cake very much')\n",
    "my_string.safe_substitute(favorite)"
   ]
  },
  {
   "cell_type": "markdown",
   "metadata": {},
   "source": [
    "### Which should I use?\n",
    "\n",
    "* `str.format()` :\n",
    "  * Bagus untuk memulai. Konsep berlaku untuk f-string.\n",
    "  * Kompatibel dengan semua versi Python.\n",
    "* **f-strings** :\n",
    "  * Selalu disarankan dari semua metode.\n",
    "  * Tidak cocok jika tidak bekerja dengan versi modern Python (3.6+).\n",
    "* **Template strings** :\n",
    "  * Saat bekerja dengan string eksternal atau yang disediakan pengguna"
   ]
  },
  {
   "cell_type": "markdown",
   "metadata": {},
   "source": [
    "### Practice: Preparing a report\n",
    "\n",
    "Sekali lagi, Anda melakukan scraping halaman Wikipedia. Kali ini, Anda mencari deskripsi alat yang berguna yang digunakan untuk penambangan teks. Tugas pertama Anda adalah menyiapkan laporan tentang berbagai alat yang Anda temukan. Anda ingin memformat informasi yang terkandung dalam dataset untuk dicetak sebagai: `The (tool) is a (description)`.\n",
    "\n",
    "Dalam kasus ini, template string adalah solusi terbaik untuk menginterpolasi data yang dihasilkan oleh sumber eksternal ke dalam template yang sudah dibuat.\n",
    "\n",
    "Untuk contoh ini, variabel `tool1`, `tool2` dan `tool3` berisi tiga judul artikel. Setiap variabel `description1`, `description2` dan `description3` berisi deskripsi artikel yang sesuai."
   ]
  },
  {
   "cell_type": "code",
   "execution_count": 71,
   "metadata": {},
   "outputs": [],
   "source": [
    "tool1 = 'Natural Language Toolkit'\n",
    "tool2 = 'TextBlob'\n",
    "tool3 = 'Gensim'\n",
    "\n",
    "description1 = \"\"\"\n",
    "'suite of libraries and programs for symbolic and statistical natural language processing (NLP) \n",
    "for English written in the Python programming language. It was developed by Steven Bird and Edward Loper \n",
    "in the Department of Computer and Information Science at the University of Pennsylvania.'\n",
    "\"\"\"\n",
    "description2 = \"\"\"\n",
    "'Python library for processing textual data. It provides a simple API for diving into common \n",
    "natural language processing tasks such as part-of-speech tagging, noun phrase extraction, sentiment analysis, \n",
    "classification, translation, and more.'\n",
    "\"\"\"\n",
    "description3 = \"\"\"\n",
    "'Gensim is a robust open-source vector space modeling and topic modeling toolkit implemented in Python. \n",
    "It uses NumPy, SciPy and optionally Cython for performance. Gensim is specifically designed to handle \n",
    "large text collections, using data streaming and efficient incremental algorithms, which differentiates it \n",
    "from most other scientific software packages that only target batch and in-memory processing.'\n",
    "\"\"\""
   ]
  },
  {
   "cell_type": "code",
   "execution_count": 72,
   "metadata": {},
   "outputs": [
    {
     "name": "stdout",
     "output_type": "stream",
     "text": [
      "Natural Language Toolkit is a \n",
      "'suite of libraries and programs for symbolic and statistical natural language processing (NLP) \n",
      "for English written in the Python programming language. It was developed by Steven Bird and Edward Loper \n",
      "in the Department of Computer and Information Science at the University of Pennsylvania.'\n",
      "\n",
      "TextBlob is a \n",
      "'Python library for processing textual data. It provides a simple API for diving into common \n",
      "natural language processing tasks such as part-of-speech tagging, noun phrase extraction, sentiment analysis, \n",
      "classification, translation, and more.'\n",
      "\n",
      "Gensim is a \n",
      "'Gensim is a robust open-source vector space modeling and topic modeling toolkit implemented in Python. \n",
      "It uses NumPy, SciPy and optionally Cython for performance. Gensim is specifically designed to handle \n",
      "large text collections, using data streaming and efficient incremental algorithms, which differentiates it \n",
      "from most other scientific software packages that only target batch and in-memory processing.'\n",
      "\n"
     ]
    }
   ],
   "source": [
    "# Import Template\n",
    "from string import Template\n",
    "\n",
    "# Create a template\n",
    "wikipedia = Template(\"$tool is a $description\")\n",
    "\n",
    "# Substitute variables in template\n",
    "print(wikipedia.substitute(tool=tool1, description=description1))\n",
    "print(wikipedia.substitute(tool=tool2, description=description2))\n",
    "print(wikipedia.substitute(tool=tool3, description=description3))"
   ]
  },
  {
   "cell_type": "markdown",
   "metadata": {},
   "source": [
    "**Note** : *Template strings* adalah mekanisme substitusi string yang lebih sederhana dan meskipun kurang kuat, itu adalah pilihan yang tepat ketika Anda tidak yakin tentang sumber string."
   ]
  },
  {
   "cell_type": "markdown",
   "metadata": {},
   "source": [
    "### Identifying prices\n",
    "\n",
    "Setelah Anda menunjukkan laporan Anda kepada atasan Anda, dia muncul dengan gagasan menawarkan kursus kepada pengguna perusahaan pada beberapa alat yang Anda pelajari. Untuk membuat uji coba, Anda akan mengirim email yang menawarkan kursus tentang salah satu alat, yang dipilih secara acak dari dataset Anda. Anda juga menyebutkan bahwa perkiraan biaya harus dibayar setiap bulan.\n",
    "\n",
    "Untuk menulis email, Anda akan menggunakan Template string. Anda ingat bahwa Anda harus berhati-hati ketika menggunakan tanda dolar karena digunakan untuk pengidentifikasi dalam kasus ini.\n",
    "\n",
    "Untuk contoh ini, list `tools` berisi nama alat, biaya, dan jenis pembayaran yang sesuai untuk penawaran produk."
   ]
  },
  {
   "cell_type": "code",
   "execution_count": 73,
   "metadata": {},
   "outputs": [],
   "source": [
    "# Create list\n",
    "tools = ['Natural Language Toolkit', '20', 'month']"
   ]
  },
  {
   "cell_type": "code",
   "execution_count": 74,
   "metadata": {},
   "outputs": [
    {
     "name": "stdout",
     "output_type": "stream",
     "text": [
      "We are offering a 3-month beginner course on Natural Language Toolkit just for $ 20 monthly\n"
     ]
    }
   ],
   "source": [
    "# Import template\n",
    "from string import Template\n",
    "\n",
    "# Select variables\n",
    "our_tool = tools[0]\n",
    "our_fee = tools[1]\n",
    "our_pay = tools[2]\n",
    "\n",
    "# Create template\n",
    "course = Template(\"We are offering a 3-month beginner course on $tool just for $$ $fee ${pay}ly\")\n",
    "\n",
    "# Substitute identifiers with three variables\n",
    "print(course.substitute(tool=our_tool, fee=our_fee, pay=our_pay))"
   ]
  },
  {
   "cell_type": "markdown",
   "metadata": {},
   "source": [
    "**Note** : Karena tanda dolar digunakan untuk pengidentifikasi, Anda perlu menggunakan kurung kurawal untuk melampirkan nama pengenal untuk menambahkan karakter yang valid segera setelahnya. Juga, jika tanda dolar harus berada dalam string, Anda perlu menghindarinya menggunakan `$$`."
   ]
  },
  {
   "cell_type": "markdown",
   "metadata": {},
   "source": [
    "### Playing safe\n",
    "\n",
    "Anda bertanggung jawab atas proyek baru! Tugas Anda adalah mulai mengumpulkan informasi dari pengguna aplikasi utama perusahaan. Anda akan membuat kuis online dan meminta pengguna Anda untuk secara sukarela menjawab dua pertanyaan. Namun, tidak wajib bagi pengguna untuk menjawab keduanya. Anda akan menangani string yang disediakan pengguna sehingga Anda memutuskan untuk menggunakan metode Templat untuk mencetak informasi input. Ini memungkinkan pengguna memeriksa ulang jawaban mereka sebelum mengirimkannya.\n",
    "\n",
    "Jawaban salah satu pengguna telah disimpan dalam dictionary `answer`."
   ]
  },
  {
   "cell_type": "code",
   "execution_count": 79,
   "metadata": {},
   "outputs": [],
   "source": [
    "# Create dict\n",
    "answers = {'answer1': 'I really like the app. But there are some features that can be improved'}"
   ]
  },
  {
   "cell_type": "code",
   "execution_count": 81,
   "metadata": {},
   "outputs": [
    {
     "name": "stdout",
     "output_type": "stream",
     "text": [
      "Missing information\n"
     ]
    }
   ],
   "source": [
    "# Import template\n",
    "from string import Template\n",
    "\n",
    "# Complete template string using identifiers\n",
    "the_answers = Template(\"Check your answer 1: $answer1, and your answer 2: $answer2\")\n",
    "\n",
    "# Use safe_substitute to replace identifiers\n",
    "try:\n",
    "    print(the_answers.substitute(answers))\n",
    "except KeyError:\n",
    "    print(\"Missing information\")"
   ]
  },
  {
   "cell_type": "code",
   "execution_count": 80,
   "metadata": {},
   "outputs": [
    {
     "name": "stdout",
     "output_type": "stream",
     "text": [
      "Check your answer 1: I really like the app. But there are some features that can be improved, and your answer 2: $answer2\n"
     ]
    }
   ],
   "source": [
    "# Import template\n",
    "from string import Template\n",
    "\n",
    "# Complete template string using identifiers\n",
    "the_answers = Template(\"Check your answer 1: $answer1, and your answer 2: $answer2\")\n",
    "\n",
    "# Use safe_substitute to replace identifiers\n",
    "try:\n",
    "    print(the_answers.safe_substitute(answers))\n",
    "except KeyError:\n",
    "    print(\"Missing information\")"
   ]
  },
  {
   "cell_type": "markdown",
   "metadata": {},
   "source": [
    "**Note** : `.safe_substitute()` menghindari *raising* `KeyError`, karena menggunakan placeholder asli jika hilang dan akibatnya, selalu mengembalikan string yang dapat digunakan."
   ]
  },
  {
   "cell_type": "code",
   "execution_count": null,
   "metadata": {},
   "outputs": [],
   "source": []
  }
 ],
 "metadata": {
  "kernelspec": {
   "display_name": "Python 3",
   "language": "python",
   "name": "python3"
  },
  "language_info": {
   "codemirror_mode": {
    "name": "ipython",
    "version": 3
   },
   "file_extension": ".py",
   "mimetype": "text/x-python",
   "name": "python",
   "nbconvert_exporter": "python",
   "pygments_lexer": "ipython3",
   "version": "3.7.3"
  }
 },
 "nbformat": 4,
 "nbformat_minor": 2
}
