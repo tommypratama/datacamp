{
 "cells": [
  {
   "cell_type": "markdown",
   "metadata": {},
   "source": [
    "# 4. Advanced Regular Expression Concepts\n",
    "\n",
    "Pada langkah terakhir perjalanan Anda, Anda akan mempelajari metode pencocokan pola yang lebih kompleks menggunakan tanda kurung untuk mengelompokkan string bersama atau untuk mencocokkan teks yang sama dengan yang cocok sebelumnya. Juga, Anda akan mendapatkan ide tentang bagaimana Anda bisa melihat-lihat ekspresi."
   ]
  },
  {
   "cell_type": "markdown",
   "metadata": {},
   "source": [
    "## Grouping and capturing"
   ]
  },
  {
   "cell_type": "markdown",
   "metadata": {},
   "source": [
    "### Group characters\n",
    "\n",
    "* String: `Clary has 2 friends who she spends a lot time with. Susan has 3 brothers while John has 4 sisters.`\n",
    "\n",
    "<img src=\"datasets/group-char.png\" width=400px height=400px align=left />"
   ]
  },
  {
   "cell_type": "code",
   "execution_count": 3,
   "metadata": {},
   "outputs": [
    {
     "data": {
      "text/plain": [
       "['Clary has 2 friends', 'Susan has 3 brothers', 'John has 4 sisters']"
      ]
     },
     "execution_count": 3,
     "metadata": {},
     "output_type": "execute_result"
    }
   ],
   "source": [
    "import re\n",
    "\n",
    "text = \"Clary has 2 friends who she spends a lot time with. Susan has 3 brothers while John has 4 sisters.\"\n",
    "\n",
    "re.findall('[A-Za-z]+\\s\\w+\\s\\d+\\s\\w+', text)"
   ]
  },
  {
   "cell_type": "markdown",
   "metadata": {},
   "source": [
    "<img src=\"datasets/group-char-2.png\" width=400px height=400px align=left />\n",
    "\n",
    "* Gunakan tanda kurung `()` untuk mengelompokkan (`group`) dan mengambil (`capture`) karakter bersama\n",
    "\n",
    "<img src=\"datasets/group-char-3.png\" width=400px height=400px align=left />"
   ]
  },
  {
   "cell_type": "code",
   "execution_count": 87,
   "metadata": {},
   "outputs": [
    {
     "data": {
      "text/plain": [
       "['Clary', 'Susan', 'John']"
      ]
     },
     "execution_count": 87,
     "metadata": {},
     "output_type": "execute_result"
    }
   ],
   "source": [
    "re.findall('([A-Za-z]+)\\s\\w+\\s\\d+\\s\\w+', text)"
   ]
  },
  {
   "cell_type": "markdown",
   "metadata": {},
   "source": [
    "<img src=\"datasets/group-char.png\" width=400px height=400px align=left />\n",
    "\n",
    "<img src=\"datasets/group-char-4.png\" width=400px height=400px align=center />"
   ]
  },
  {
   "cell_type": "code",
   "execution_count": 88,
   "metadata": {},
   "outputs": [
    {
     "data": {
      "text/plain": [
       "[('Clary', '2', 'friends'),\n",
       " ('Susan', '3', 'brothers'),\n",
       " ('John', '4', 'sisters')]"
      ]
     },
     "execution_count": 88,
     "metadata": {},
     "output_type": "execute_result"
    }
   ],
   "source": [
    "re.findall('([A-Za-z]+)\\s\\w+\\s(\\d+)\\s(\\w+)', text)"
   ]
  },
  {
   "cell_type": "markdown",
   "metadata": {},
   "source": [
    "* Cocokkan subpola tertentu dalam suatu pola\n",
    "* Gunakan untuk diproses lebih lanjut"
   ]
  },
  {
   "cell_type": "code",
   "execution_count": 89,
   "metadata": {},
   "outputs": [
    {
     "data": {
      "text/plain": [
       "'Clary'"
      ]
     },
     "execution_count": 89,
     "metadata": {},
     "output_type": "execute_result"
    }
   ],
   "source": [
    "# Organize the data\n",
    "pets = re.findall('([A-Za-z]+)\\s\\w+\\s(\\d+)\\s(\\w+)', \"Clary has 2 dogs but John has 3 cats\")\n",
    "pets[0][0]"
   ]
  },
  {
   "cell_type": "markdown",
   "metadata": {},
   "source": [
    "* Langsung ke kiri\n",
    "  * `r\"apple+\"` : `+` berlaku untuk e dan bukan untuk apple\n",
    "* Terapkan quantier ke seluruh grup"
   ]
  },
  {
   "cell_type": "code",
   "execution_count": 92,
   "metadata": {},
   "outputs": [
    {
     "data": {
      "text/plain": [
       "<re.Match object; span=(16, 22), match='3e4r5f'>"
      ]
     },
     "execution_count": 92,
     "metadata": {},
     "output_type": "execute_result"
    }
   ],
   "source": [
    "re.search(r\"(\\d[A-Za-z])+\", \"My user name is 3e4r5fg\")"
   ]
  },
  {
   "cell_type": "markdown",
   "metadata": {},
   "source": [
    "* Capture a repeated group `(\\d+)` vs. repeat a capturing group `(\\d)+`"
   ]
  },
  {
   "cell_type": "code",
   "execution_count": 93,
   "metadata": {},
   "outputs": [
    {
     "data": {
      "text/plain": [
       "['5', '3']"
      ]
     },
     "execution_count": 93,
     "metadata": {},
     "output_type": "execute_result"
    }
   ],
   "source": [
    "my_string = \"My lucky numbers are 8755 and 33\"\n",
    "re.findall(r\"(\\d)+\", my_string)"
   ]
  },
  {
   "cell_type": "code",
   "execution_count": 94,
   "metadata": {},
   "outputs": [
    {
     "data": {
      "text/plain": [
       "['8755', '33']"
      ]
     },
     "execution_count": 94,
     "metadata": {},
     "output_type": "execute_result"
    }
   ],
   "source": [
    "re.findall(r\"(\\d+)\", my_string)"
   ]
  },
  {
   "cell_type": "code",
   "execution_count": null,
   "metadata": {},
   "outputs": [],
   "source": []
  },
  {
   "cell_type": "code",
   "execution_count": null,
   "metadata": {},
   "outputs": [],
   "source": []
  },
  {
   "cell_type": "code",
   "execution_count": null,
   "metadata": {},
   "outputs": [],
   "source": []
  },
  {
   "cell_type": "code",
   "execution_count": null,
   "metadata": {},
   "outputs": [],
   "source": []
  }
 ],
 "metadata": {
  "kernelspec": {
   "display_name": "Python 3",
   "language": "python",
   "name": "python3"
  },
  "language_info": {
   "codemirror_mode": {
    "name": "ipython",
    "version": 3
   },
   "file_extension": ".py",
   "mimetype": "text/x-python",
   "name": "python",
   "nbconvert_exporter": "python",
   "pygments_lexer": "ipython3",
   "version": "3.7.3"
  }
 },
 "nbformat": 4,
 "nbformat_minor": 2
}
