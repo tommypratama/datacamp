{
 "cells": [
  {
   "cell_type": "markdown",
   "metadata": {},
   "source": [
    "# 1. Using iterators in PythonLand\n",
    "\n",
    "Anda akan mempelajari semua tentang iterator dan iterables, yang telah Anda kerjakan saat menulis for loop. Anda akan mempelajari beberapa fungsi praktis yang memungkinkan Anda untuk bekerja secara efektif dengan iterator. Dan Anda akan menyelesaikan bab dengan kasus penggunaan yang berkaitan dengan dunia ilmu data dan berurusan dengan data dalam jumlah besar — dalam hal ini, data dari Twitter yang akan Anda muat dalam potongan menggunakan iterator."
   ]
  },
  {
   "cell_type": "markdown",
   "metadata": {},
   "source": [
    "## Introduction to iterators\n",
    "\n",
    "### Iterators vs Iterables\n",
    "\n",
    "Mari kita mengingat kembali apa yang telah Anda pelajari tentang `iterables` dan `iterators`. Ingat bahwa **iterable** adalah objek yang dapat mengembalikan iterator, sementara **iterator** adalah objek yang membuat status dan menghasilkan nilai berikutnya saat Anda memanggil `next()` di atasnya. Dalam latihan ini, Anda akan mengidentifikasi objek mana yang dapat diulang (*iterable*) dan mana yang merupakan iterator.\n",
    "\n",
    "Variabel `flash1` dan `flash2` telah dimuat. Coba cetak nilainya dengan `print()` dan `next()` untuk mencari tahu mana yang dapat *iterable* dan mana yang merupakan *iterator*."
   ]
  },
  {
   "cell_type": "code",
   "execution_count": 1,
   "metadata": {},
   "outputs": [],
   "source": [
    "# Create iterable\n",
    "flash1 = ['jay garrick', 'barry allen', 'wally west', 'bart allen']\n",
    "# Create iterator\n",
    "flash2 = iter(['jay garrick', 'barry allen', 'wally west', 'bart allen'])"
   ]
  },
  {
   "cell_type": "code",
   "execution_count": 4,
   "metadata": {},
   "outputs": [
    {
     "name": "stdout",
     "output_type": "stream",
     "text": [
      "<class 'list'>\n",
      "<class 'list_iterator'>\n"
     ]
    }
   ],
   "source": [
    "print(type(flash1))\n",
    "print(type(flash2))"
   ]
  },
  {
   "cell_type": "code",
   "execution_count": 6,
   "metadata": {},
   "outputs": [
    {
     "name": "stdout",
     "output_type": "stream",
     "text": [
      "['jay garrick', 'barry allen', 'wally west', 'bart allen']\n"
     ]
    }
   ],
   "source": [
    "print(flash1)"
   ]
  },
  {
   "cell_type": "code",
   "execution_count": 8,
   "metadata": {},
   "outputs": [
    {
     "name": "stdout",
     "output_type": "stream",
     "text": [
      "wally west\n"
     ]
    }
   ],
   "source": [
    "print(next(flash2))"
   ]
  },
  {
   "cell_type": "markdown",
   "metadata": {},
   "source": [
    "**Note** : `flash1` adalah iterable dan `flash2` adalah iterator."
   ]
  },
  {
   "cell_type": "markdown",
   "metadata": {},
   "source": [
    "### Iterating over iterables (1)\n",
    "\n",
    "Hebat, Anda terbiasa dengan apa itu iterables dan iterators! Dalam latihan ini, Anda akan memperkuat pengetahuan Anda tentang ini dengan mengulangi lagi (*iterating over*) dan mencetak dari iterables dan iterator.\n",
    "\n",
    "Anda diberikan list string `flash`. Anda akan berlatih iterasi dengan list tersebut menggunakan `for` loop. Anda juga akan membuat iterator untuk list dan mengakses nilai-nilai dari iterator."
   ]
  },
  {
   "cell_type": "code",
   "execution_count": 9,
   "metadata": {},
   "outputs": [
    {
     "name": "stdout",
     "output_type": "stream",
     "text": [
      "jay garrick\n",
      "barry allen\n",
      "wally west\n",
      "bart allen\n",
      "jay garrick\n",
      "barry allen\n",
      "wally west\n",
      "bart allen\n"
     ]
    }
   ],
   "source": [
    "# Create a list of strings: flash\n",
    "flash = ['jay garrick', 'barry allen', 'wally west', 'bart allen']\n",
    "\n",
    "# Print each list item in flash using a for loop\n",
    "for person in flash:\n",
    "    print(person)\n",
    "\n",
    "# Create an iterator for flash: superhero\n",
    "superhero = iter(flash)\n",
    "\n",
    "# Print each item from the iterator\n",
    "print(next(superhero))\n",
    "print(next(superhero))\n",
    "print(next(superhero))\n",
    "print(next(superhero))"
   ]
  },
  {
   "cell_type": "markdown",
   "metadata": {},
   "source": [
    "### Iterating over iterables (2)\n",
    "\n",
    "Salah satu hal yang Anda pelajari dalam bab ini adalah tidak semua iterables adalah list aktual. Beberapa contoh yang kami lihat adalah string dan penggunaan fungsi `range()`. Dalam latihan ini, kita akan fokus pada fungsi `range()`.\n",
    "\n",
    "Anda bisa menggunakan `range()` dalam `for` loop seolah-olah list untuk diulang:\n",
    "\n",
    "<pre>\n",
    "for i in range(5):\n",
    "    print(i)\n",
    "</pre>\n",
    "\n",
    "Ingat bahwa `range()` sebenarnya tidak membuat list; alih-alih, ia membuat objek rentang dengan iterator yang menghasilkan nilai hingga mencapai batas (dalam contoh, hingga nilai 4). Jika `range()` membuat list aktual, memanggilnya dengan nilai (10 pangkat 100) mungkin tidak berfungsi, terutama karena angka sebesar itu mungkin melebihi memori komputer biasa. Nilai (10 pangkat 100) sebenarnya adalah apa yang disebut *Googol* yang merupakan 1 diikuti oleh seratus 0. Itu jumlah yang besar!\n",
    "\n",
    "Tugas Anda untuk latihan ini adalah untuk menunjukkan bahwa `range()` dengan (10 pangkat 100) sebenarnya tidak akan membuat list sebelumnya."
   ]
  },
  {
   "cell_type": "code",
   "execution_count": 10,
   "metadata": {},
   "outputs": [
    {
     "name": "stdout",
     "output_type": "stream",
     "text": [
      "0\n",
      "1\n",
      "2\n",
      "0\n",
      "1\n",
      "2\n",
      "0\n",
      "1\n",
      "2\n",
      "3\n",
      "4\n"
     ]
    }
   ],
   "source": [
    "# Create an iterator for range(3): small_value\n",
    "small_value = iter(range(3))\n",
    "\n",
    "# Print the values in small_value\n",
    "print(next(small_value))\n",
    "print(next(small_value))\n",
    "print(next(small_value))\n",
    "\n",
    "# Loop over range(3) and print the values\n",
    "for num in range(3):\n",
    "    print(num)\n",
    "\n",
    "# Create an iterator for range(10 ** 100): googol\n",
    "googol = iter(range(10 ** 100))\n",
    "\n",
    "# Print the first 5 values from googol\n",
    "print(next(googol))\n",
    "print(next(googol))\n",
    "print(next(googol))\n",
    "print(next(googol))\n",
    "print(next(googol))"
   ]
  },
  {
   "cell_type": "markdown",
   "metadata": {},
   "source": [
    "### Iterators as function arguments\n",
    "\n",
    "Anda telah menggunakan fungsi `iter()` untuk mendapatkan objek iterator, serta fungsi `next()` untuk mengambil nilai satu per satu dari objek iterator.\n",
    "\n",
    "Ada juga fungsi yang menggunakan iterator dan iterables sebagai argumen. Misalnya, fungsi `list()` dan `sum()` masing-masing mengembalikan list dan jumlah elemen.\n",
    "\n",
    "Dalam latihan ini, Anda akan menggunakan fungsi-fungsi ini dengan meneruskan iterable dari `range()` dan kemudian mencetak hasil dari panggilan fungsi."
   ]
  },
  {
   "cell_type": "code",
   "execution_count": 11,
   "metadata": {},
   "outputs": [
    {
     "name": "stdout",
     "output_type": "stream",
     "text": [
      "range(10, 21)\n",
      "[10, 11, 12, 13, 14, 15, 16, 17, 18, 19, 20]\n",
      "165\n"
     ]
    }
   ],
   "source": [
    "# Create a range object: values\n",
    "values = range(10, 21)\n",
    "\n",
    "# Print the range object\n",
    "print(values)\n",
    "\n",
    "# Create a list of integers: values_list\n",
    "values_list = list(values)\n",
    "\n",
    "# Print values_list\n",
    "print(values_list)\n",
    "\n",
    "# Get the sum of values: values_sum\n",
    "values_sum = sum(values)\n",
    "\n",
    "# Print values_sum\n",
    "print(values_sum)"
   ]
  },
  {
   "cell_type": "markdown",
   "metadata": {},
   "source": [
    "## Playing with iterators\n",
    "\n",
    "### Using enumerate\n",
    "\n",
    "Anda baru saja mendapatkan beberapa ide baru tentang iterator dari video terakhir dan salah satunya adalah fungsi `enumerate()`. Ingat bahwa `enumerate()` mengembalikan objek `enumerate` yang menghasilkan urutan tuple, dan masing-masing tuple adalah pasangan *indeks-nilai*.\n",
    "\n",
    "Dalam latihan ini, Anda diberikan list string `mutants` dan Anda akan berlatih menggunakan `enumerate()` di atasnya dengan mencetak list tuple dan membongkar tuple menggunakan `for` loop."
   ]
  },
  {
   "cell_type": "code",
   "execution_count": 12,
   "metadata": {},
   "outputs": [
    {
     "name": "stdout",
     "output_type": "stream",
     "text": [
      "[(0, 'charles xavier'), (1, 'bobby drake'), (2, 'kurt wagner'), (3, 'max eisenhardt'), (4, 'kitty pryde')]\n",
      "0 charles xavier\n",
      "1 bobby drake\n",
      "2 kurt wagner\n",
      "3 max eisenhardt\n",
      "4 kitty pryde\n",
      "1 charles xavier\n",
      "2 bobby drake\n",
      "3 kurt wagner\n",
      "4 max eisenhardt\n",
      "5 kitty pryde\n"
     ]
    }
   ],
   "source": [
    "# Create a list of strings: mutants\n",
    "mutants = ['charles xavier', \n",
    "            'bobby drake', \n",
    "            'kurt wagner', \n",
    "            'max eisenhardt', \n",
    "            'kitty pryde']\n",
    "\n",
    "# Create a list of tuples: mutant_list\n",
    "mutant_list = list(enumerate(mutants))\n",
    "\n",
    "# Print the list of tuples\n",
    "print(mutant_list)\n",
    "\n",
    "# Unpack and print the tuple pairs\n",
    "for index1, value2 in enumerate(mutants):\n",
    "    print(index1, value2)\n",
    "\n",
    "# Change the start index\n",
    "for index2, value2 in enumerate(mutants, start=1):\n",
    "    print(index2, value2)"
   ]
  },
  {
   "cell_type": "markdown",
   "metadata": {},
   "source": [
    "### Using zip\n",
    "\n",
    "Fungsi menarik lainnya yang telah Anda pelajari adalah `zip()`, yang mengambil sejumlah iterables dan mengembalikan objek zip yang merupakan iterator tuple. Jika Anda ingin mencetak nilai-nilai objek zip, Anda dapat mengubahnya menjadi list dan kemudian mencetaknya. Mencetak hanya objek zip tidak akan mengembalikan nilai kecuali Anda membukanya terlebih dahulu. Dalam latihan ini, Anda akan mengeksplorasi ini sendiri."
   ]
  },
  {
   "cell_type": "code",
   "execution_count": 18,
   "metadata": {},
   "outputs": [],
   "source": [
    "# Create list\n",
    "mutants = ['charles xavier', 'bobby drake', 'kurt wagner', 'max eisenhardt', 'kitty pryde']\n",
    "aliases = ['prof x', 'iceman', 'nightcrawler', 'magneto', 'shadowcat']\n",
    "powers = ['telepathy', 'thermokinesis', 'teleportation', 'magnetokinesis', 'intangibility']"
   ]
  },
  {
   "cell_type": "code",
   "execution_count": 19,
   "metadata": {},
   "outputs": [
    {
     "name": "stdout",
     "output_type": "stream",
     "text": [
      "[('charles xavier', 'prof x', 'telepathy'), ('bobby drake', 'iceman', 'thermokinesis'), ('kurt wagner', 'nightcrawler', 'teleportation'), ('max eisenhardt', 'magneto', 'magnetokinesis'), ('kitty pryde', 'shadowcat', 'intangibility')]\n",
      "<zip object at 0x7f64567f6d48>\n",
      "charles xavier prof x telepathy\n",
      "bobby drake iceman thermokinesis\n",
      "kurt wagner nightcrawler teleportation\n",
      "max eisenhardt magneto magnetokinesis\n",
      "kitty pryde shadowcat intangibility\n"
     ]
    }
   ],
   "source": [
    "# Create a list of tuples: mutant_data\n",
    "mutant_data = list(zip(mutants, aliases, powers))\n",
    "\n",
    "# Print the list of tuples\n",
    "print(mutant_data)\n",
    "\n",
    "# Create a zip object using the three lists: mutant_zip\n",
    "mutant_zip = zip(mutants, aliases, powers)\n",
    "\n",
    "# Print the zip object\n",
    "print(mutant_zip)\n",
    "\n",
    "# Unpack the zip object and print the tuple values\n",
    "for value1,value2,value3 in mutant_zip:\n",
    "    print(value1, value2, value3)"
   ]
  },
  {
   "cell_type": "markdown",
   "metadata": {},
   "source": [
    "### Using * and zip to 'unzip'\n",
    "\n",
    "Mari kita bermain-main dengan `zip()` sedikit lagi. Tidak ada fungsi unzip untuk melakukan kebalikan dari apa yang `zip()` lakukan. Namun, kita dapat membalikkan apa yang telah disatukan `zip()` dengan menggunakan sedikit bantuan dari `* ! *` membongkar iterable seperti list atau tuple menjadi argumen posisi dalam panggilan fungsi.\n",
    "\n",
    "Dalam latihan ini, Anda akan menggunakan `*` dalam panggilan ke `zip()` untuk membongkar tuple yang dihasilkan oleh `zip()`."
   ]
  },
  {
   "cell_type": "code",
   "execution_count": 20,
   "metadata": {},
   "outputs": [
    {
     "name": "stdout",
     "output_type": "stream",
     "text": [
      "('charles xavier', 'telepathy') ('bobby drake', 'thermokinesis') ('kurt wagner', 'teleportation') ('max eisenhardt', 'magnetokinesis') ('kitty pryde', 'intangibility')\n",
      "False\n",
      "False\n"
     ]
    }
   ],
   "source": [
    "# Create a zip object from mutants and powers: z1\n",
    "z1 = zip(mutants, powers)\n",
    "\n",
    "# Print the tuples in z1 by unpacking with *\n",
    "print(*z1)\n",
    "\n",
    "# Re-create a zip object from mutants and powers: z1\n",
    "z1 = zip(mutants, powers)\n",
    "\n",
    "# 'Unzip' the tuples in z1 by unpacking with * and zip(): result1, result2\n",
    "result1, result2 = zip(*z1)\n",
    "\n",
    "# Check if unpacked tuples are equivalent to original tuples\n",
    "print(result1 == mutants)\n",
    "print(result2 == powers)"
   ]
  },
  {
   "cell_type": "markdown",
   "metadata": {},
   "source": [
    "## Using iterators to load large files into memory\n",
    "\n",
    "### Processing large amounts of Twitter data\n",
    "\n",
    "Terkadang, data yang kami proses mencapai ukuran yang terlalu banyak untuk ditangani oleh memori komputer. Ini adalah masalah umum yang dihadapi oleh para ilmuwan data. Solusi untuk ini adalah memproses seluruh sumber data chunk by chunk, alih-alih sekali jalan sekaligus.\n",
    "\n",
    "Dalam latihan ini, Anda akan melakukan hal itu. Anda akan memproses file csv besar dari data Twitter dengan cara yang sama seperti Anda memproses `'tweets.csv'` dalam [*Bringing it all together*](https://campus.datacamp.com/courses/python-data-science-toolbox-part-1/writing-your-own-functions?ex=12) dari kursus prekuel, tetapi kali ini, mengerjakannya dalam potongan 10 entri sekaligus.\n",
    "\n",
    "Jika Anda tertarik mempelajari cara mengakses data Twitter sehingga Anda dapat bekerja dengannya di sistem Anda sendiri, lihat [Bagian 2](https://www.datacamp.com/courses/importing-data-in-python-part-2) dari kursus DataCamp tentang Mengimpor Data dengan Python."
   ]
  },
  {
   "cell_type": "code",
   "execution_count": 21,
   "metadata": {},
   "outputs": [
    {
     "name": "stdout",
     "output_type": "stream",
     "text": [
      "{'en': 97, 'et': 1, 'und': 2}\n"
     ]
    }
   ],
   "source": [
    "# Import pandas\n",
    "import pandas as pd\n",
    "\n",
    "# Initialize an empty dictionary: counts_dict\n",
    "counts_dict = {}\n",
    "\n",
    "# Iterate over the file chunk by chunk\n",
    "for chunk in pd.read_csv('datasets/tweets.csv', chunksize=10):\n",
    "\n",
    "    # Iterate over the column in DataFrame\n",
    "    for entry in chunk['lang']:\n",
    "        if entry in counts_dict.keys():\n",
    "            counts_dict[entry] += 1\n",
    "        else:\n",
    "            counts_dict[entry] = 1\n",
    "\n",
    "# Print the populated dictionary\n",
    "print(counts_dict)"
   ]
  },
  {
   "cell_type": "markdown",
   "metadata": {},
   "source": [
    "### Extracting information for large amounts of Twitter data\n",
    "\n",
    "Pekerjaan hebat memotong file itu di latihan sebelumnya. Anda sekarang tahu bagaimana menghadapi situasi di mana Anda perlu memproses file yang sangat besar dan itu adalah keterampilan yang sangat berguna untuk dimiliki!\n",
    "\n",
    "Adalah baik untuk mengetahui cara memproses file dalam potongan yang lebih kecil dan lebih mudah dikelola, tetapi bisa sangat membosankan harus menulis dan menulis ulang kode yang sama untuk tugas yang sama setiap kali. Dalam latihan ini, Anda akan membuat kode Anda lebih dapat digunakan kembali dengan menempatkan pekerjaan Anda di latihan terakhir dalam *function definition*."
   ]
  },
  {
   "cell_type": "code",
   "execution_count": 22,
   "metadata": {},
   "outputs": [
    {
     "name": "stdout",
     "output_type": "stream",
     "text": [
      "{'en': 97, 'et': 1, 'und': 2}\n"
     ]
    }
   ],
   "source": [
    "# Define count_entries()\n",
    "def count_entries(csv_file, c_size, colname):\n",
    "    \"\"\"Return a dictionary with counts of\n",
    "    occurrences as value for each key.\"\"\"\n",
    "    \n",
    "    # Initialize an empty dictionary: counts_dict\n",
    "    counts_dict = {}\n",
    "\n",
    "    # Iterate over the file chunk by chunk\n",
    "    for chunk in pd.read_csv(csv_file, chunksize=c_size):\n",
    "\n",
    "        # Iterate over the column in DataFrame\n",
    "        for entry in chunk[colname]:\n",
    "            if entry in counts_dict.keys():\n",
    "                counts_dict[entry] += 1\n",
    "            else:\n",
    "                counts_dict[entry] = 1\n",
    "\n",
    "    # Return counts_dict\n",
    "    return counts_dict\n",
    "\n",
    "# Call count_entries(): result_counts\n",
    "result_counts = count_entries('datasets/tweets.csv', 10, 'lang')\n",
    "\n",
    "# Print result_counts\n",
    "print(result_counts)"
   ]
  },
  {
   "cell_type": "code",
   "execution_count": null,
   "metadata": {},
   "outputs": [],
   "source": []
  }
 ],
 "metadata": {
  "kernelspec": {
   "display_name": "Python 3",
   "language": "python",
   "name": "python3"
  },
  "language_info": {
   "codemirror_mode": {
    "name": "ipython",
    "version": 3
   },
   "file_extension": ".py",
   "mimetype": "text/x-python",
   "name": "python",
   "nbconvert_exporter": "python",
   "pygments_lexer": "ipython3",
   "version": "3.7.3"
  }
 },
 "nbformat": 4,
 "nbformat_minor": 2
}
