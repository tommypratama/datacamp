{
 "cells": [
  {
   "cell_type": "markdown",
   "metadata": {},
   "source": [
    "# 2. List comprehensions and generators\n",
    "\n",
    "Dalam bab ini, Anda akan membangun pengetahuan Anda tentang iterator dan diperkenalkan ke List comprehensions, yang memungkinkan Anda untuk membuat list rumit - dan lists of lists - dalam satu baris kode! List comprehensions dapat secara dramatis menyederhanakan kode Anda dan membuatnya lebih efisien, dan akan menjadi bagian penting dari kotak alat sains data Python Anda. Anda kemudian akan belajar tentang generator, yang sangat membantu ketika bekerja dengan urutan data yang besar yang mungkin tidak ingin Anda simpan dalam memori, tetapi menghasilkan dengan cepat."
   ]
  },
  {
   "cell_type": "markdown",
   "metadata": {},
   "source": [
    "## List comprehensions\n",
    "\n",
    "### Write a basic list comprehension\n",
    "\n",
    "Dalam latihan ini, Anda akan mempraktekkan penulisan *list comprehension*. Anda akan menulis list comprehension dan mengidentifikasi output yang akan dihasilkan."
   ]
  },
  {
   "cell_type": "code",
   "execution_count": 2,
   "metadata": {},
   "outputs": [],
   "source": [
    "# Create list\n",
    "doctor = ['house', 'cuddy', 'chase', 'thirteen', 'wilson']"
   ]
  },
  {
   "cell_type": "markdown",
   "metadata": {},
   "source": [
    "Bagaimana list comprehension menghasilkan list **karakter pertama** dari setiap string di `doctor` ? Perhatikan bahwa list comprehension menggunakan `doc` sebagai variabel iterator. Apa yang akan menjadi output?"
   ]
  },
  {
   "cell_type": "code",
   "execution_count": 3,
   "metadata": {},
   "outputs": [
    {
     "data": {
      "text/plain": [
       "['h', 'c', 'c', 't', 'w']"
      ]
     },
     "execution_count": 3,
     "metadata": {},
     "output_type": "execute_result"
    }
   ],
   "source": [
    "[doc[0] for doc in doctor]"
   ]
  },
  {
   "cell_type": "markdown",
   "metadata": {},
   "source": [
    "### List comprehension over iterables\n",
    "\n",
    "Anda tahu bahwa list comprehension dapat dibangun di atas iterables. Dengan objek-objek berikut di bawah ini, yang mana dari list ini yang dapat kita bangun list comprehension?\n",
    "\n",
    "<pre>\n",
    "doctor = ['house', 'cuddy', 'chase', 'thirteen', 'wilson']\n",
    "\n",
    "range(50)\n",
    "\n",
    "underwood = 'After all, we are nothing more or less than what we choose to reveal.'\n",
    "\n",
    "jean = '24601'\n",
    "\n",
    "flash = ['jay garrick', 'barry allen', 'wally west', 'bart allen']\n",
    "\n",
    "valjean = 24601\n",
    "</pre>\n",
    "\n",
    "**Answer** : Anda bisa membangun list comprehension dari semua objek diatas kecuali objek integer `valjean`."
   ]
  },
  {
   "cell_type": "markdown",
   "metadata": {},
   "source": [
    "### Writing list comprehensions\n",
    "\n",
    "Anda sekarang memiliki semua pengetahuan yang diperlukan untuk mulai menulis list comprehensions! Tugas Anda dalam latihan ini adalah menulis list comprehensions yang menghasilkan angka list kuadrat mulai dari 0 hingga 9."
   ]
  },
  {
   "cell_type": "code",
   "execution_count": 4,
   "metadata": {},
   "outputs": [
    {
     "data": {
      "text/plain": [
       "[0, 1, 4, 9, 16, 25, 36, 49, 64, 81]"
      ]
     },
     "execution_count": 4,
     "metadata": {},
     "output_type": "execute_result"
    }
   ],
   "source": [
    "# Create list comprehension: squares\n",
    "squares = [i**2 for i in range(0, 10)]\n",
    "squares"
   ]
  },
  {
   "cell_type": "markdown",
   "metadata": {},
   "source": [
    "### Nested list comprehensions\n",
    "\n",
    "Bagus! Pada titik ini, Anda memiliki pemahaman yang baik tentang sintaks dasar list comprehensions. Mari kita dorong keterampilan menulis kode Anda sedikit lebih jauh. Dalam latihan ini, Anda akan menulis list comprehensions dalam list comprehensions lain, atau list comprehensions bersarang (*nested*). Kedengarannya agak sulit, tetapi Anda bisa melakukannya!\n",
    "\n",
    "Mari kita keluar sebentar dari string. Salah satu cara di mana list dapat digunakan adalah dalam mewakili objek multi-dimensi seperti matriks. Matriks dapat direpresentasikan sebagai lists of lists dengan Python. Misalnya matriks 5 x 5 dengan nilai 0 hingga 4 di setiap baris dapat ditulis sebagai:\n",
    "\n",
    "<pre>\n",
    "matrix = [[0, 1, 2, 3, 4],\n",
    "          [0, 1, 2, 3, 4],\n",
    "          [0, 1, 2, 3, 4],\n",
    "          [0, 1, 2, 3, 4],\n",
    "          [0, 1, 2, 3, 4]]\n",
    "</pre>\n",
    "\n",
    "Tugas Anda adalah untuk membuat ulang matriks ini dengan menggunakan list comprehensions bersarang. Ingatlah bahwa Anda dapat membuat salah satu baris dari matriks dengan list comprehensions tunggal. Untuk membuat lists of lists, Anda hanya perlu memberikan list comprehensions sebagai **output expression** dari list comprehensions keseluruhan:\n",
    "\n",
    "`[` [*output expression*] `for` *iterator variable* `in` *iterable* `]`\n",
    "\n",
    "Perhatikan di sini bahwa, **output expression** itu sendiri adalah list comprehensions."
   ]
  },
  {
   "cell_type": "code",
   "execution_count": 5,
   "metadata": {},
   "outputs": [
    {
     "name": "stdout",
     "output_type": "stream",
     "text": [
      "[0, 1, 2, 3, 4]\n",
      "[0, 1, 2, 3, 4]\n",
      "[0, 1, 2, 3, 4]\n",
      "[0, 1, 2, 3, 4]\n",
      "[0, 1, 2, 3, 4]\n"
     ]
    }
   ],
   "source": [
    "# Create a 5 x 5 matrix using a list of lists: matrix\n",
    "matrix = [[col for col in range(0, 5)] for row in range(0, 5)]\n",
    "\n",
    "# Print the matrix\n",
    "for row in matrix:\n",
    "    print(row)"
   ]
  },
  {
   "cell_type": "markdown",
   "metadata": {},
   "source": [
    "## Advanced comprehensions\n",
    "\n",
    "### Using conditionals in comprehensions (1)\n",
    "\n",
    "Anda telah menggunakan list comprehensions untuk membangun list nilai, kadang-kadang menggunakan operasi untuk membuat nilai-nilai ini.\n",
    "\n",
    "Mekanisme yang menarik dalam list comprehensions adalah bahwa Anda juga dapat membuat list dengan nilai yang hanya memenuhi kondisi tertentu. Salah satu cara untuk melakukan ini adalah dengan menggunakan *conditional* pada variabel iterator. Dalam latihan ini, Anda akan melakukan hal itu!.\n",
    "\n",
    "`[` *output expression* `for` *iterator variable* `in` *iterable* `if` *predicate expression* `]`.\n",
    "\n",
    "Anda akan menggunakan resep ini untuk menulis list comprehensions dalam latihan ini. Anda diberi list string `fellowship` dan, menggunakan list comprehensions, Anda akan membuat list yang hanya mencakup anggota `fellowship` yang memiliki 7 karakter atau lebih."
   ]
  },
  {
   "cell_type": "code",
   "execution_count": 8,
   "metadata": {},
   "outputs": [
    {
     "name": "stdout",
     "output_type": "stream",
     "text": [
      "['samwise', 'aragorn', 'legolas', 'boromir']\n"
     ]
    }
   ],
   "source": [
    "# Create a list of strings: fellowship\n",
    "fellowship = ['frodo', 'samwise', 'merry', 'aragorn', 'legolas', 'boromir', 'gimli']\n",
    "\n",
    "# Create list comprehension: new_fellowship\n",
    "new_fellowship = [member for member in fellowship if len(member) >= 7]\n",
    "\n",
    "# Print the new list\n",
    "print(new_fellowship)"
   ]
  },
  {
   "cell_type": "markdown",
   "metadata": {},
   "source": [
    "### Using conditionals in comprehensions (2)\n",
    "\n",
    "Dalam latihan sebelumnya, Anda menggunakan pernyataan bersyarat `if` di bagian *predicate expression* dari list comprehension untuk mengevaluasi variabel iterator. Dalam latihan ini, Anda akan menggunakan pernyataan `if-else` pada ekspresi output dari list.\n",
    "\n",
    "Tugas Anda adalah menggunakan list comprehension dan pernyataan kondisional `if-else` dalam ekspresi output dan buat list yang membuat anggota `fellowship` dengan 7 karakter atau lebih dan menggantikan yang lain dengan string kosong. Gunakan `member` sebagai variabel iterator dalam list comprehension."
   ]
  },
  {
   "cell_type": "code",
   "execution_count": 9,
   "metadata": {},
   "outputs": [
    {
     "name": "stdout",
     "output_type": "stream",
     "text": [
      "['', 'samwise', '', 'aragorn', 'legolas', 'boromir', '']\n"
     ]
    }
   ],
   "source": [
    "# Create a list of strings: fellowship\n",
    "fellowship = ['frodo', 'samwise', 'merry', 'aragorn', 'legolas', 'boromir', 'gimli']\n",
    "\n",
    "# Create list comprehension: new_fellowship\n",
    "new_fellowship = [member if len(member) >= 7 else '' for member in fellowship]\n",
    "\n",
    "# Print the new list\n",
    "print(new_fellowship)"
   ]
  },
  {
   "cell_type": "markdown",
   "metadata": {},
   "source": [
    "### Dict comprehensions\n",
    "\n",
    "Comprehensions tidak diturunkan hanya ke dunia list. Ada banyak objek lain yang bisa Anda bangun menggunakan comprehensions, seperti dictionary, objek meresap dalam Ilmu Data. Anda akan membuat dictionary menggunakan sintaks comprehensions untuk latihan ini. Dalam hal ini, comprehensions disebut **dict comprehension**.\n",
    "\n",
    "Ingatlah bahwa perbedaan utama antara list comprehension dan dict comprehension adalah penggunaan kurung kurawal `{}` alih-alih `[]`. Selain itu, anggota dictionary dibuat menggunakan tanda titik dua `:`, seperti pada `<key> : <value>`.\n",
    "\n",
    "Buat dictionary dengan anggota list sebagai `key` dan panjang setiap string sebagai `value` yang sesuai."
   ]
  },
  {
   "cell_type": "code",
   "execution_count": 10,
   "metadata": {},
   "outputs": [
    {
     "name": "stdout",
     "output_type": "stream",
     "text": [
      "{'frodo': 5, 'samwise': 7, 'merry': 5, 'aragorn': 7, 'legolas': 7, 'boromir': 7, 'gimli': 5}\n"
     ]
    }
   ],
   "source": [
    "# Create a list of strings: fellowship\n",
    "fellowship = ['frodo', 'samwise', 'merry', 'aragorn', 'legolas', 'boromir', 'gimli']\n",
    "\n",
    "# Create dict comprehension: new_fellowship\n",
    "new_fellowship = {member: len(member) for member in fellowship}\n",
    "\n",
    "# Print the new dictionary\n",
    "print(new_fellowship)"
   ]
  },
  {
   "cell_type": "markdown",
   "metadata": {},
   "source": [
    "## Introduction to generator expressions\n",
    "\n",
    "### List comprehensions vs generators\n",
    "\n",
    "Anda telah melihat dari video yang memuat list comprehensions dan ekspresi generator terlihat sangat mirip dalam sintaksanya, kecuali untuk penggunaan tanda kurung `()` dalam ekspresi generator dan tanda kurung `[]` dalam list comprehensions.\n",
    "\n",
    "Dalam latihan ini, Anda akan mengingat perbedaan antara list comprehension dan generator. Untuk membantu dengan tugas itu, kode berikut telah dimuat sebelumnya di lingkungan:"
   ]
  },
  {
   "cell_type": "code",
   "execution_count": 11,
   "metadata": {},
   "outputs": [],
   "source": [
    "# List of strings\n",
    "fellowship = ['frodo', 'samwise', 'merry', 'aragorn', 'legolas', 'boromir', 'gimli']\n",
    "\n",
    "# List comprehension\n",
    "fellow1 = [member for member in fellowship if len(member) >= 7]\n",
    "\n",
    "# Generator expression\n",
    "fellow2 = (member for member in fellowship if len(member) >= 7)"
   ]
  },
  {
   "cell_type": "markdown",
   "metadata": {},
   "source": [
    "Cobalah untuk bermain-main dengan `fellow1` dan `fellow2` dengan mencari tahu tipe mereka dan mencetak nilai-nilai mereka. Berdasarkan pengamatan Anda dan apa yang dapat Anda ingat dari video, pilih dari opsi di bawah deskripsi terbaik untuk perbedaan antara list comprehensions dan generator."
   ]
  },
  {
   "cell_type": "code",
   "execution_count": 12,
   "metadata": {},
   "outputs": [
    {
     "name": "stdout",
     "output_type": "stream",
     "text": [
      "<class 'list'>\n",
      "<class 'generator'>\n"
     ]
    }
   ],
   "source": [
    "print(type(fellow1))\n",
    "print(type(fellow2))"
   ]
  },
  {
   "cell_type": "markdown",
   "metadata": {},
   "source": [
    "**Answer** : List comprehensions menghasilkan list sebagai output, generator menghasilkan objek generator."
   ]
  },
  {
   "cell_type": "markdown",
   "metadata": {},
   "source": [
    "### Write your own generator expressions\n",
    "\n",
    "Anda terbiasa dengan generator dan ekspresi generator, serta perbedaannya dari list comprehensions. Dalam latihan ini, Anda akan berlatih membangun ekspresi generator sendiri.\n",
    "\n",
    "Ingat bahwa ekspresi generator pada dasarnya memiliki sintaksis yang sama dengan list comprehensions, kecuali bahwa ia menggunakan tanda kurung `()` bukan tanda kurung kotak `[]`; ini seharusnya membuat hal-hal terasa akrab! Selain itu, jika Anda pernah iterating dictionary dengan `.items()`, atau menggunakan fungsi `range()`, misalnya, Anda telah menemukan dan menggunakan generator sebelumnya, tanpa mengetahuinya! Saat Anda menggunakan fungsi-fungsi ini, Python membuat generator untuk Anda di belakang layar.\n",
    "\n",
    "Sekarang, Anda akan mulai sederhana dengan membuat objek generator yang menghasilkan nilai numerik."
   ]
  },
  {
   "cell_type": "code",
   "execution_count": 13,
   "metadata": {},
   "outputs": [
    {
     "name": "stdout",
     "output_type": "stream",
     "text": [
      "0\n",
      "1\n",
      "2\n",
      "3\n",
      "4\n",
      "5\n",
      "6\n",
      "7\n",
      "8\n",
      "9\n",
      "10\n",
      "11\n",
      "12\n",
      "13\n",
      "14\n",
      "15\n",
      "16\n",
      "17\n",
      "18\n",
      "19\n",
      "20\n",
      "21\n",
      "22\n",
      "23\n",
      "24\n",
      "25\n",
      "26\n",
      "27\n",
      "28\n",
      "29\n",
      "30\n"
     ]
    }
   ],
   "source": [
    "# Create generator object: result\n",
    "result = (num for num in range(0, 31))\n",
    "\n",
    "# Print the first 5 values\n",
    "print(next(result))\n",
    "print(next(result))\n",
    "print(next(result))\n",
    "print(next(result))\n",
    "print(next(result))\n",
    "\n",
    "# Print the rest of the values\n",
    "for value in result:\n",
    "    print(value)"
   ]
  },
  {
   "cell_type": "markdown",
   "metadata": {},
   "source": [
    "### Changing the output in generator expressions\n",
    "\n",
    "Bagus! Pada titik ini, Anda sudah tahu cara menulis ekspresi generator dasar. Dalam latihan ini, Anda akan mendorong ide ini sedikit lebih jauh dengan menambahkan ekspresi keluaran ekspresi generator. Karena ekspresi generator dan list comprehensions sangat mirip dalam sintaksis, ini seharusnya menjadi tugas yang akrab bagi Anda!\n",
    "\n",
    "Anda diberi list string `lannister` dan, menggunakan ekspresi generator, buat objek generator yang akan Anda ulangi untuk mencetak nilainya."
   ]
  },
  {
   "cell_type": "code",
   "execution_count": 14,
   "metadata": {},
   "outputs": [
    {
     "name": "stdout",
     "output_type": "stream",
     "text": [
      "6\n",
      "5\n",
      "5\n",
      "6\n",
      "7\n"
     ]
    }
   ],
   "source": [
    "# Create a list of strings: lannister\n",
    "lannister = ['cersei', 'jaime', 'tywin', 'tyrion', 'joffrey']\n",
    "\n",
    "# Create a generator object: lengths\n",
    "lengths = (len(person) for person in lannister)\n",
    "\n",
    "# Iterate over and print the values in lengths\n",
    "for value in lengths:\n",
    "    print(value)"
   ]
  },
  {
   "cell_type": "markdown",
   "metadata": {},
   "source": [
    "### Build a generator\n",
    "\n",
    "Dalam latihan sebelumnya, Anda terutama berurusan dengan menulis ekspresi generator, yang menggunakan sintaksis comprehensions. Mampu menggunakan sintaks comprehension untuk ekspresi generator membuat pekerjaan Anda jauh lebih mudah!\n",
    "\n",
    "Sekarang, ingat dari video bahwa tidak hanya ada ekspresi generator, ada fungsi generator juga. Fungsi generator adalah fungsi yang, seperti ekspresi generator, menghasilkan serangkaian nilai, alih-alih mengembalikan nilai tunggal. Fungsi generator didefinisikan sebagai Anda melakukan fungsi biasa, tetapi setiap kali menghasilkan nilai, ia menggunakan kata kunci `yield` alih-alih `return`.\n",
    "\n",
    "Dalam latihan ini, Anda akan membuat fungsi generator dengan mekanisme yang sama seperti ekspresi generator yang Anda tentukan dalam latihan sebelumnya:\n",
    "\n",
    "<pre>lengths = (len(person) for person in lannister)</pre>"
   ]
  },
  {
   "cell_type": "code",
   "execution_count": 15,
   "metadata": {},
   "outputs": [
    {
     "name": "stdout",
     "output_type": "stream",
     "text": [
      "6\n",
      "5\n",
      "5\n",
      "6\n",
      "7\n"
     ]
    }
   ],
   "source": [
    "# Create a list of strings\n",
    "lannister = ['cersei', 'jaime', 'tywin', 'tyrion', 'joffrey']\n",
    "\n",
    "# Define generator function get_lengths\n",
    "def get_lengths(input_list):\n",
    "    \"\"\"Generator function that yields the\n",
    "    length of the strings in input_list.\"\"\"\n",
    "\n",
    "    # Yield the length of a string\n",
    "    for person in input_list:\n",
    "        yield len(person)\n",
    "\n",
    "# Print the values generated by get_lengths()\n",
    "for value in get_lengths(lannister):\n",
    "    print(value)"
   ]
  },
  {
   "cell_type": "markdown",
   "metadata": {},
   "source": [
    "## Wrapping up comprehensions and generators.\n",
    "\n",
    "### List comprehensions for time-stamped data\n",
    "\n",
    "Anda sekarang akan menggunakan apa yang telah Anda pelajari dari bab ini untuk menyelesaikan masalah ekstraksi data yang sederhana. Anda juga akan diperkenalkan dengan struktur data, Series pandas, dalam latihan ini. Kami tidak akan menguraikan banyak hal di sini, tetapi yang harus Anda ketahui adalah bahwa itu adalah struktur data yang akan sering Anda kerjakan saat menganalisis data dari pandas DataFrames. Anda dapat menganggap kolom DataFrame sebagai array satu dimensi yang disebut Series.\n",
    "\n",
    "Dalam latihan ini, Anda akan menggunakan list comprehensions untuk mengekstrak waktu dari data Twitter time-stamped.\n",
    "\n",
    "*Catatan: Setiap baris adalah string yang mewakili cap waktu, dan Anda akan mengakses karakter ke 12 hingga 19 untuk mengekstraksi waktu.*"
   ]
  },
  {
   "cell_type": "code",
   "execution_count": 17,
   "metadata": {},
   "outputs": [
    {
     "name": "stdout",
     "output_type": "stream",
     "text": [
      "['23:40:17', '23:40:17', '23:40:17', '23:40:17', '23:40:17', '23:40:17', '23:40:18', '23:40:17', '23:40:18', '23:40:18', '23:40:18', '23:40:17', '23:40:18', '23:40:18', '23:40:17', '23:40:18', '23:40:18', '23:40:17', '23:40:18', '23:40:17', '23:40:18', '23:40:18', '23:40:18', '23:40:18', '23:40:17', '23:40:18', '23:40:18', '23:40:17', '23:40:18', '23:40:18', '23:40:18', '23:40:18', '23:40:18', '23:40:18', '23:40:18', '23:40:18', '23:40:18', '23:40:18', '23:40:18', '23:40:18', '23:40:18', '23:40:18', '23:40:18', '23:40:18', '23:40:18', '23:40:18', '23:40:18', '23:40:18', '23:40:18', '23:40:18', '23:40:18', '23:40:18', '23:40:18', '23:40:18', '23:40:18', '23:40:18', '23:40:18', '23:40:18', '23:40:18', '23:40:18', '23:40:19', '23:40:18', '23:40:18', '23:40:18', '23:40:19', '23:40:19', '23:40:19', '23:40:18', '23:40:19', '23:40:19', '23:40:19', '23:40:18', '23:40:19', '23:40:19', '23:40:19', '23:40:18', '23:40:19', '23:40:19', '23:40:19', '23:40:19', '23:40:19', '23:40:19', '23:40:19', '23:40:19', '23:40:19', '23:40:19', '23:40:19', '23:40:19', '23:40:19', '23:40:19', '23:40:19', '23:40:19', '23:40:19', '23:40:19', '23:40:19', '23:40:19', '23:40:19', '23:40:19', '23:40:19', '23:40:19']\n"
     ]
    }
   ],
   "source": [
    "# Import pandas\n",
    "import pandas as pd\n",
    "# Load data\n",
    "df = pd.read_csv('datasets/tweets.csv')\n",
    "\n",
    "# Extract the created_at column from df: tweet_time\n",
    "tweet_time = df['created_at']\n",
    "\n",
    "# Extract the clock time: tweet_clock_time\n",
    "tweet_clock_time = [entry[11:19] for entry in tweet_time]\n",
    "\n",
    "# Print the extracted times\n",
    "print(tweet_clock_time)"
   ]
  },
  {
   "cell_type": "markdown",
   "metadata": {},
   "source": [
    "### Conditional list comprehensions for time-stamped data\n",
    "\n",
    "Anda berhasil mengekstrak data yang menarik, waktu, dari pandas DataFrame! Mari kita ubah pekerjaan Anda lebih lanjut dengan menambahkan persyaratan yang selanjutnya menentukan entri mana yang akan dipilih.\n",
    "\n",
    "Dalam latihan ini, Anda akan menggunakan list comprehensions untuk mengekstrak waktu dari data Twitter yang bertanda waktu. Anda akan menambahkan ekspresi kondisional ke list comprehensions sehingga Anda hanya memilih waktu di mana `entry[17:19]` sama dengan `'19'`. "
   ]
  },
  {
   "cell_type": "code",
   "execution_count": 18,
   "metadata": {},
   "outputs": [
    {
     "name": "stdout",
     "output_type": "stream",
     "text": [
      "['23:40:19', '23:40:19', '23:40:19', '23:40:19', '23:40:19', '23:40:19', '23:40:19', '23:40:19', '23:40:19', '23:40:19', '23:40:19', '23:40:19', '23:40:19', '23:40:19', '23:40:19', '23:40:19', '23:40:19', '23:40:19', '23:40:19', '23:40:19', '23:40:19', '23:40:19', '23:40:19', '23:40:19', '23:40:19', '23:40:19', '23:40:19', '23:40:19', '23:40:19', '23:40:19', '23:40:19', '23:40:19', '23:40:19', '23:40:19']\n"
     ]
    }
   ],
   "source": [
    "# Extract the created_at column from df: tweet_time\n",
    "tweet_time = df['created_at']\n",
    "\n",
    "# Extract the clock time: tweet_clock_time\n",
    "tweet_clock_time = [entry[11:19] for entry in tweet_time if entry[17:19] == '19']\n",
    "\n",
    "# Print the extracted times\n",
    "print(tweet_clock_time)"
   ]
  },
  {
   "cell_type": "code",
   "execution_count": null,
   "metadata": {},
   "outputs": [],
   "source": []
  }
 ],
 "metadata": {
  "kernelspec": {
   "display_name": "Python 3",
   "language": "python",
   "name": "python3"
  },
  "language_info": {
   "codemirror_mode": {
    "name": "ipython",
    "version": 3
   },
   "file_extension": ".py",
   "mimetype": "text/x-python",
   "name": "python",
   "nbconvert_exporter": "python",
   "pygments_lexer": "ipython3",
   "version": "3.7.3"
  }
 },
 "nbformat": 4,
 "nbformat_minor": 2
}
