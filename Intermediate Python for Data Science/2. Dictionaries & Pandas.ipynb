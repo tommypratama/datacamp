{
 "cells": [
  {
   "cell_type": "markdown",
   "metadata": {},
   "source": [
    "# 2. Dictionaries & Pandas\n",
    "\n",
    "Pelajari tentang `dictionaries`, alternatif Python `lists` dan `Pandas DataFrame` yang merupakan standar *de facto* untuk bekerja dengan data tabular dalam Python. Anda akan mendapatkan praktik langsung dengan membuat dan memanipulasi kumpulan data, dan Anda akan belajar cara mengakses informasi yang Anda butuhkan dari struktur data ini."
   ]
  },
  {
   "cell_type": "markdown",
   "metadata": {},
   "source": [
    "## Dictionaries\n",
    "\n",
    "### Motivation for dictionaries\n",
    "\n",
    "Untuk melihat mengapa `dictionaries` bermanfaat, lihat dua list berikut ini. `countries` berisi nama beberapa negara Eropa. List `capitals` berisi nama yang sesuai dari ibukota mereka."
   ]
  },
  {
   "cell_type": "code",
   "execution_count": 1,
   "metadata": {},
   "outputs": [
    {
     "name": "stdout",
     "output_type": "stream",
     "text": [
      "berlin\n"
     ]
    }
   ],
   "source": [
    "# Definition of countries and capital\n",
    "countries = ['spain', 'france', 'germany', 'norway']\n",
    "capitals = ['madrid', 'paris', 'berlin', 'oslo']\n",
    "\n",
    "# Get index of 'germany': ind_ger\n",
    "ind_ger = countries.index('germany')\n",
    "\n",
    "# Use ind_ger to print out capital of Germany\n",
    "print(capitals[ind_ger])"
   ]
  },
  {
   "cell_type": "markdown",
   "metadata": {},
   "source": [
    "### Create dictionary\n",
    "\n",
    "Lists dari `countries` dan `capitals` tersedia dalam skrip. Sekarang tugas Anda untuk mengonversi data ini ke **dictionaries** di mana `countries` adalah `key` dan `capitals` adalah `value` yang sesuai. Sebagai penyegar, berikut adalah resep untuk membuat dictionaries:\n",
    "\n",
    "<pre>\n",
    "my_dict = {\n",
    "   \"key1\":\"value1\",\n",
    "   \"key2\":\"value2\",\n",
    "}\n",
    "</pre>"
   ]
  },
  {
   "cell_type": "code",
   "execution_count": 2,
   "metadata": {},
   "outputs": [
    {
     "name": "stdout",
     "output_type": "stream",
     "text": [
      "{'spain': 'madrid', 'france': 'paris', 'germany': 'berlin', 'norway': 'oslo'}\n"
     ]
    }
   ],
   "source": [
    "# Definition of countries and capital\n",
    "countries = ['spain', 'france', 'germany', 'norway']\n",
    "capitals = ['madrid', 'paris', 'berlin', 'oslo']\n",
    "\n",
    "# From string in countries and capitals, create dictionary europe\n",
    "europe = { 'spain':'madrid', 'france':'paris', 'germany':'berlin', 'norway':'oslo' }\n",
    "\n",
    "# Print europe\n",
    "print(europe)"
   ]
  },
  {
   "cell_type": "markdown",
   "metadata": {},
   "source": [
    "### Access dictionary\n",
    "\n",
    "Jika *keys* dari `dictionaries` dipilih dengan bijak, mengakses nilai-nilai dalam kamus itu mudah dan intuitif. Misalnya, untuk mendapatkan ibukota Prancis dari Eropa, Anda dapat menggunakan:\n",
    "\n",
    "<pre>europe['france']</pre>\n",
    "\n",
    "Di sini, `'france'` adalah kuncinya dan `'paris'` nilainya dikembalikan."
   ]
  },
  {
   "cell_type": "code",
   "execution_count": 3,
   "metadata": {},
   "outputs": [
    {
     "name": "stdout",
     "output_type": "stream",
     "text": [
      "dict_keys(['spain', 'france', 'germany', 'norway'])\n",
      "oslo\n"
     ]
    }
   ],
   "source": [
    "# Definition of dictionary\n",
    "europe = {'spain':'madrid', 'france':'paris', 'germany':'berlin', 'norway':'oslo' }\n",
    "\n",
    "# Print out the keys in europe\n",
    "print(europe.keys())\n",
    "\n",
    "# Print out value that belongs to key 'norway'\n",
    "print(europe['norway'])"
   ]
  },
  {
   "cell_type": "markdown",
   "metadata": {},
   "source": [
    "### Dictionary Manipulation\n",
    "\n",
    "Jika Anda tahu cara mengakses `dictionary`, Anda juga dapat menetapkan nilai baru untuk `dictionary` tersebut. Untuk menambahkan pasangan nilai kunci (*key-value pair*) baru ke `europe` Anda dapat menggunakan cara seperti ini:\n",
    "\n",
    "<pre>europe['iceland'] = 'reykjavik'</pre>"
   ]
  },
  {
   "cell_type": "code",
   "execution_count": 4,
   "metadata": {},
   "outputs": [
    {
     "name": "stdout",
     "output_type": "stream",
     "text": [
      "True\n",
      "{'spain': 'madrid', 'france': 'paris', 'germany': 'berlin', 'norway': 'oslo', 'italy': 'rome', 'poland': 'warsaw'}\n"
     ]
    }
   ],
   "source": [
    "# Definition of dictionary\n",
    "europe = {'spain':'madrid', 'france':'paris', 'germany':'berlin', 'norway':'oslo' }\n",
    "\n",
    "# Add italy to europe\n",
    "europe['italy'] = 'rome'\n",
    "\n",
    "# Print out italy in europe\n",
    "print('italy' in europe)\n",
    "\n",
    "# Add poland to europe\n",
    "europe['poland'] = 'warsaw'\n",
    "\n",
    "# Print europe\n",
    "print(europe)"
   ]
  },
  {
   "cell_type": "markdown",
   "metadata": {},
   "source": [
    "**Note** : Eropa tumbuh dari menit ke menit! Apakah Anda memperhatikan bahwa urutan hasil cetak tidak sama dengan urutan dalam definisi dictionaries? Itu karena dictionaries pada dasarnya tidak teratur."
   ]
  },
  {
   "cell_type": "code",
   "execution_count": 5,
   "metadata": {},
   "outputs": [
    {
     "name": "stdout",
     "output_type": "stream",
     "text": [
      "{'spain': 'madrid', 'france': 'paris', 'germany': 'berlin', 'norway': 'oslo', 'italy': 'rome', 'poland': 'warsaw'}\n"
     ]
    }
   ],
   "source": [
    "# Definition of dictionary\n",
    "europe = {'spain':'madrid', 'france':'paris', 'germany':'bonn',\n",
    "          'norway':'oslo', 'italy':'rome', 'poland':'warsaw',\n",
    "          'australia':'vienna' }\n",
    "\n",
    "# Update capital of germany\n",
    "europe['germany'] = 'berlin'\n",
    "\n",
    "# Remove australia\n",
    "del(europe['australia'])\n",
    "\n",
    "# Print europe\n",
    "print(europe)"
   ]
  },
  {
   "cell_type": "markdown",
   "metadata": {},
   "source": [
    "### Dictionariception\n",
    "\n",
    "Ingat lists? Mereka dapat berisi apa saja, bahkan lists lain. Nah, untuk dictionaries juga sama. Dictionaries dapat berisi `key:value pairs` dimana nilainya adalah dictionaries lagi.\n",
    "\n",
    "Sangat mungkin untuk menghubungkan kurung kotak untuk memilih elemen. Untuk mengambil populasi Spanyol dari Eropa, misalnya, Anda perlu:\n",
    "\n",
    "<pre>europe['spain']['population']</pre>"
   ]
  },
  {
   "cell_type": "code",
   "execution_count": 6,
   "metadata": {},
   "outputs": [
    {
     "name": "stdout",
     "output_type": "stream",
     "text": [
      "paris\n",
      "{'spain': {'capital': 'madrid', 'population': 46.77}, 'france': {'capital': 'paris', 'population': 66.03}, 'germany': {'capital': 'berlin', 'population': 80.62}, 'norway': {'capital': 'oslo', 'population': 5.084}, 'italy': {'capital': 'rome', 'population': 59.83}}\n"
     ]
    }
   ],
   "source": [
    "# Dictionary of dictionaries\n",
    "europe = { 'spain': { 'capital':'madrid', 'population':46.77 },\n",
    "           'france': { 'capital':'paris', 'population':66.03 },\n",
    "           'germany': { 'capital':'berlin', 'population':80.62 },\n",
    "           'norway': { 'capital':'oslo', 'population':5.084 } }\n",
    "\n",
    "\n",
    "# Print out the capital of France\n",
    "print(europe['france']['capital'])\n",
    "\n",
    "# Create sub-dictionary data\n",
    "data = { 'capital':'rome', 'population':59.83 }\n",
    "\n",
    "# Add data to europe under key 'italy'\n",
    "europe['italy'] = data\n",
    "\n",
    "# Print europe\n",
    "print(europe)"
   ]
  },
  {
   "cell_type": "markdown",
   "metadata": {},
   "source": [
    "## Pandas\n",
    "\n",
    "### Dictionary to DataFrame\n",
    "\n",
    "Pandas adalah pustaka sumber terbuka, menyediakan kinerja tinggi, struktur data yang mudah digunakan dan alat analisis data untuk Python. Kedengarannya menjanjikan!\n",
    "\n",
    "DataFrame adalah salah satu dari struktur data terpenting Pandas. Ini pada dasarnya cara untuk menyimpan data tabular di mana Anda dapat memberi label pada baris dan kolom. Salah satu cara untuk membangun DataFrame adalah dari dictionary.\n",
    "\n",
    "Dalam latihan ini, Anda akan bekerja dengan data kendaraan dari berbagai negara. Setiap pengamatan sesuai dengan suatu negara dan kolom memberikan informasi tentang jumlah kendaraan per kapita, apakah orang mengemudi ke kiri atau kanan, dan sebagainya.\n",
    "\n",
    "Tiga lists yang didefinisikan dalam skrip:\n",
    "\n",
    "* **names** berisi nama negara tempat data tersedia.\n",
    "* **dr** adalah sebuah lists dengan tipe boolean yang memberi tahu apakah orang mengemudi kiri atau kanan di negara yang bersangkutan.\n",
    "* **cpc** jumlah kendaraan bermotor per 1000 orang di negara yang bersangkutan.\n",
    "\n",
    "Setiap **dictionary key** adalah `label kolom` dan setiap **value** adalah lists yang berisi `elemen kolom`."
   ]
  },
  {
   "cell_type": "code",
   "execution_count": 7,
   "metadata": {},
   "outputs": [
    {
     "name": "stdout",
     "output_type": "stream",
     "text": [
      "         country  drives_right  cars_per_cap\n",
      "0  United States          True           809\n",
      "1      Australia         False           731\n",
      "2          Japan         False           588\n",
      "3          India         False            18\n",
      "4         Russia          True           200\n",
      "5        Morocco          True            70\n",
      "6          Egypt          True            45\n"
     ]
    }
   ],
   "source": [
    "# Pre-defined lists\n",
    "names = ['United States', 'Australia', 'Japan', 'India', 'Russia', 'Morocco', 'Egypt']\n",
    "dr =  [True, False, False, False, True, True, True]\n",
    "cpc = [809, 731, 588, 18, 200, 70, 45]\n",
    "\n",
    "# Import pandas as pd\n",
    "import pandas as pd\n",
    "\n",
    "# Create dictionary my_dict with three key:value pairs: my_dict\n",
    "my_dict = { 'country':names, 'drives_right':dr, 'cars_per_cap':cpc }\n",
    "\n",
    "# Build a DataFrame cars from my_dict: cars\n",
    "cars = pd.DataFrame(my_dict)\n",
    "\n",
    "# Print cars\n",
    "print(cars)"
   ]
  },
  {
   "cell_type": "markdown",
   "metadata": {},
   "source": [
    "Pernahkah Anda memperhatikan bahwa label baris (mis. Label untuk pengamatan berbeda) secara otomatis diatur ke bilangan bulat dari 0 hingga 6?\n",
    "\n",
    "Untuk mengatasinya, buat lists `row_labels` untuk menentukan label baris dari DataFrame `cars`. Anda melakukan ini dengan menetapkan atribut `index` pada `cars`, yang dapat Anda akses sebagai `cars.index`."
   ]
  },
  {
   "cell_type": "code",
   "execution_count": 8,
   "metadata": {},
   "outputs": [
    {
     "name": "stdout",
     "output_type": "stream",
     "text": [
      "         country  drives_right  cars_per_cap\n",
      "0  United States          True           809\n",
      "1      Australia         False           731\n",
      "2          Japan         False           588\n",
      "3          India         False            18\n",
      "4         Russia          True           200\n",
      "5        Morocco          True            70\n",
      "6          Egypt          True            45\n",
      "           country  drives_right  cars_per_cap\n",
      "US   United States          True           809\n",
      "AUS      Australia         False           731\n",
      "JPN          Japan         False           588\n",
      "IN           India         False            18\n",
      "RU          Russia          True           200\n",
      "MOR        Morocco          True            70\n",
      "EG           Egypt          True            45\n"
     ]
    }
   ],
   "source": [
    "import pandas as pd\n",
    "\n",
    "# Build cars DataFrame\n",
    "names = ['United States', 'Australia', 'Japan', 'India', 'Russia', 'Morocco', 'Egypt']\n",
    "dr =  [True, False, False, False, True, True, True]\n",
    "cpc = [809, 731, 588, 18, 200, 70, 45]\n",
    "cars_dict = { 'country':names, 'drives_right':dr, 'cars_per_cap':cpc }\n",
    "cars = pd.DataFrame(cars_dict)\n",
    "print(cars)\n",
    "\n",
    "# Definition of row_labels\n",
    "row_labels = ['US', 'AUS', 'JPN', 'IN', 'RU', 'MOR', 'EG']\n",
    "\n",
    "# Specify row labels of cars\n",
    "cars.index = row_labels\n",
    "\n",
    "# Print cars again\n",
    "print(cars)"
   ]
  },
  {
   "cell_type": "markdown",
   "metadata": {},
   "source": [
    "### CSV to DataFrame\n",
    "\n",
    "Menempatkan data dalam dictionary dan kemudian membangun DataFrame dapat berfungsi baik, tetapi itu tidak terlalu efisien. Bagaimana jika Anda berurusan dengan jutaan pengamatan? Dalam kasus tersebut, data biasanya tersedia sebagai file dengan struktur biasa. Salah satu jenis file tersebut adalah file CSV, yang merupakan kependekan dari \"*comma-separated values*\".\n",
    "\n",
    "Untuk mengimpor data CSV ke Python sebagai DataFrame Pandas Anda dapat menggunakan `read_csv()` ."
   ]
  },
  {
   "cell_type": "code",
   "execution_count": 12,
   "metadata": {},
   "outputs": [
    {
     "name": "stdout",
     "output_type": "stream",
     "text": [
      "  Unnamed: 0  cars_per_cap        country  drives_right\n",
      "0         US           809  United States          True\n",
      "1        AUS           731      Australia         False\n",
      "2        JAP           588          Japan         False\n",
      "3         IN            18          India         False\n",
      "4         RU           200         Russia          True\n",
      "5        MOR            70        Morocco          True\n",
      "6         EG            45          Egypt          True\n"
     ]
    }
   ],
   "source": [
    "# Import pandas as pd\n",
    "import pandas as pd\n",
    "\n",
    "cars_data = 'https://assets.datacamp.com/production/repositories/287/datasets/79b3c22c47a2f45a800c62cae39035ff2ea4e609/cars.csv'\n",
    "\n",
    "# Import the cars.csv data: cars\n",
    "cars = pd.read_csv(cars_data)\n",
    "\n",
    "# Print out cars\n",
    "print(cars)"
   ]
  },
  {
   "cell_type": "markdown",
   "metadata": {},
   "source": [
    "Pada `read_csv()` Anda untuk mengimpor data CSV tidak menghasilkan kesalahan, tetapi hasilnya tidak sepenuhnya seperti yang kami inginkan. Label baris diimpor sebagai kolom lain tanpa nama.\n",
    "\n",
    "Ingat `index_col`, argumen dari `read_csv()`, yang bisa Anda gunakan untuk menentukan kolom mana dalam file CSV yang harus digunakan sebagai label baris? Nah, itulah tepatnya yang Anda butuhkan di sini!"
   ]
  },
  {
   "cell_type": "code",
   "execution_count": 13,
   "metadata": {},
   "outputs": [
    {
     "name": "stdout",
     "output_type": "stream",
     "text": [
      "     cars_per_cap        country  drives_right\n",
      "US            809  United States          True\n",
      "AUS           731      Australia         False\n",
      "JAP           588          Japan         False\n",
      "IN             18          India         False\n",
      "RU            200         Russia          True\n",
      "MOR            70        Morocco          True\n",
      "EG             45          Egypt          True\n"
     ]
    }
   ],
   "source": [
    "# Import pandas as pd\n",
    "import pandas as pd\n",
    "\n",
    "# Fix import by including index_col\n",
    "cars = pd.read_csv(cars_data, index_col=0)\n",
    "\n",
    "# Print out cars\n",
    "print(cars)"
   ]
  },
  {
   "cell_type": "markdown",
   "metadata": {},
   "source": [
    "### Square Brackets\n",
    "\n",
    "Anda melihat bahwa Anda dapat mengindeks dan memilih Pandas DataFrames dengan berbagai cara. Cara paling sederhana, tetapi bukan yang paling kuat, adalah dengan menggunakan tanda kurung siku (**Square Brackets**).\n",
    "\n",
    "Untuk memilih hanya kolom `cars_per_cap` dari `cars`, Anda dapat menggunakan:\n",
    "\n",
    "<pre>\n",
    "cars['cars_per_cap']\n",
    "cars[['cars_per_cap']]\n",
    "</pre>\n",
    "\n",
    "Versi braket tunggal digunakan untuk **Pandas Series**, sedangkan versi braket ganda untuk mengakses **Pandas DataFrame**."
   ]
  },
  {
   "cell_type": "code",
   "execution_count": 14,
   "metadata": {},
   "outputs": [
    {
     "name": "stdout",
     "output_type": "stream",
     "text": [
      "US     United States\n",
      "AUS        Australia\n",
      "JAP            Japan\n",
      "IN             India\n",
      "RU            Russia\n",
      "MOR          Morocco\n",
      "EG             Egypt\n",
      "Name: country, dtype: object\n",
      "           country\n",
      "US   United States\n",
      "AUS      Australia\n",
      "JAP          Japan\n",
      "IN           India\n",
      "RU          Russia\n",
      "MOR        Morocco\n",
      "EG           Egypt\n",
      "           country  drives_right\n",
      "US   United States          True\n",
      "AUS      Australia         False\n",
      "JAP          Japan         False\n",
      "IN           India         False\n",
      "RU          Russia          True\n",
      "MOR        Morocco          True\n",
      "EG           Egypt          True\n"
     ]
    }
   ],
   "source": [
    "# Import cars data\n",
    "import pandas as pd\n",
    "cars = pd.read_csv(cars_data, index_col = 0)\n",
    "\n",
    "# Print out country column as Pandas Series\n",
    "print(cars['country'])\n",
    "\n",
    "# Print out country column as Pandas DataFrame\n",
    "print(cars[['country']])\n",
    "\n",
    "# Print out DataFrame with country and drives_right columns\n",
    "print(cars[['country', 'drives_right']])"
   ]
  },
  {
   "cell_type": "markdown",
   "metadata": {},
   "source": [
    "Square brackets dapat melakukan lebih dari sekedar memilih kolom. Anda juga bisa menggunakannya untuk mendapatkan baris, atau pengamatan, dari DataFrame. Kode berikut memilih lima baris pertama dari DataFrame `cars`:\n",
    "\n",
    "<pre>cars[0:5]</pre>\n",
    "\n",
    "Hasilnya adalah DataFrame lain yang hanya berisi baris yang Anda tentukan.\n",
    "\n",
    "**Perhatikan** : Anda hanya dapat memilih baris menggunakan square brackets, jika Anda menentukan slice, seperti `0: 4` . Juga, Anda menggunakan indeks integer dari baris di sini, bukan label baris!"
   ]
  },
  {
   "cell_type": "code",
   "execution_count": 15,
   "metadata": {},
   "outputs": [
    {
     "name": "stdout",
     "output_type": "stream",
     "text": [
      "     cars_per_cap        country  drives_right\n",
      "US            809  United States          True\n",
      "AUS           731      Australia         False\n",
      "JAP           588          Japan         False\n",
      "     cars_per_cap  country  drives_right\n",
      "IN             18    India         False\n",
      "RU            200   Russia          True\n",
      "MOR            70  Morocco          True\n"
     ]
    }
   ],
   "source": [
    "# Import cars data\n",
    "import pandas as pd\n",
    "cars = pd.read_csv(cars_data, index_col = 0)\n",
    "\n",
    "# Print out first 3 observations\n",
    "print(cars[0:3])\n",
    "\n",
    "# Print out fourth, fifth and sixth observation\n",
    "print(cars[3:6])"
   ]
  },
  {
   "cell_type": "markdown",
   "metadata": {},
   "source": [
    "Anda dapat memperoleh informasi yang menarik, tetapi menggunakan kurung siku untuk melakukan pengindeksan agak terbatas. Percobaan dengan teknik yang lebih maju dalam latihan berikut."
   ]
  },
  {
   "cell_type": "markdown",
   "metadata": {},
   "source": [
    "### loc and iloc\n",
    "\n",
    "Dengan **loc** dan **iloc** Anda dapat melakukan hampir semua operasi pemilihan data pada DataFrames yang dapat Anda pikirkan.\n",
    "\n",
    "* [loc](http://pandas.pydata.org/pandas-docs/stable/indexing.html#different-choices-for-indexing) adalah berbasis label, yang berarti bahwa Anda harus menentukan baris dan kolom berdasarkan baris dan kolom label mereka.\n",
    "* [iloc](http://pandas.pydata.org/pandas-docs/stable/indexing.html#different-choices-for-indexing) adalah basis indeks integer, jadi Anda harus menentukan baris dan kolom berdasarkan indeks integernya seperti yang Anda lakukan pada latihan sebelumnya.\n",
    "\n",
    "Cobalah perintah berikut di IPython Shell untuk bereksperimen dengan `loc` dan `iloc` untuk memilih pengamatan. Setiap pasangan perintah di sini memberikan hasil yang sama."
   ]
  },
  {
   "cell_type": "code",
   "execution_count": 16,
   "metadata": {},
   "outputs": [
    {
     "name": "stdout",
     "output_type": "stream",
     "text": [
      "cars_per_cap       200\n",
      "country         Russia\n",
      "drives_right      True\n",
      "Name: RU, dtype: object\n",
      "cars_per_cap       200\n",
      "country         Russia\n",
      "drives_right      True\n",
      "Name: RU, dtype: object\n",
      "    cars_per_cap country  drives_right\n",
      "RU           200  Russia          True\n",
      "    cars_per_cap country  drives_right\n",
      "RU           200  Russia          True\n",
      "     cars_per_cap    country  drives_right\n",
      "RU            200     Russia          True\n",
      "AUS           731  Australia         False\n",
      "     cars_per_cap    country  drives_right\n",
      "RU            200     Russia          True\n",
      "AUS           731  Australia         False\n"
     ]
    }
   ],
   "source": [
    "# Series\n",
    "print(cars.loc['RU'])\n",
    "print(cars.iloc[4])\n",
    "\n",
    "# DataFrame\n",
    "print(cars.loc[['RU']])\n",
    "print(cars.iloc[[4]])\n",
    "\n",
    "print(cars.loc[['RU', 'AUS']])\n",
    "print(cars.iloc[[4, 1]])"
   ]
  },
  {
   "cell_type": "code",
   "execution_count": 18,
   "metadata": {},
   "outputs": [
    {
     "name": "stdout",
     "output_type": "stream",
     "text": [
      "cars_per_cap      588\n",
      "country         Japan\n",
      "drives_right    False\n",
      "Name: JAP, dtype: object\n",
      "     cars_per_cap    country  drives_right\n",
      "AUS           731  Australia         False\n",
      "EG             45      Egypt          True\n"
     ]
    }
   ],
   "source": [
    "# Import cars data\n",
    "import pandas as pd\n",
    "cars = pd.read_csv(cars_data, index_col = 0)\n",
    "\n",
    "# Print out observation for Japan\n",
    "print(cars.loc['JAP'])\n",
    "\n",
    "# Print out observations for Australia and Egypt\n",
    "print(cars.iloc[[1, 6]])"
   ]
  },
  {
   "cell_type": "markdown",
   "metadata": {},
   "source": [
    "`loc` dan `iloc` juga memungkinkan Anda untuk memilih baris dan kolom dari DataFrame. Untuk bereksperimen, cobalah perintah berikut di IPython Shell. Sekali lagi, perintah berpasangan menghasilkan hasil yang sama."
   ]
  },
  {
   "cell_type": "code",
   "execution_count": 19,
   "metadata": {},
   "outputs": [
    {
     "name": "stdout",
     "output_type": "stream",
     "text": [
      "18\n",
      "18\n"
     ]
    }
   ],
   "source": [
    "print(cars.loc['IN', 'cars_per_cap'])\n",
    "print(cars.iloc[3, 0])"
   ]
  },
  {
   "cell_type": "code",
   "execution_count": 20,
   "metadata": {},
   "outputs": [
    {
     "name": "stdout",
     "output_type": "stream",
     "text": [
      "IN     18\n",
      "RU    200\n",
      "Name: cars_per_cap, dtype: int64\n",
      "IN     18\n",
      "RU    200\n",
      "Name: cars_per_cap, dtype: int64\n"
     ]
    }
   ],
   "source": [
    "print(cars.loc[['IN', 'RU'], 'cars_per_cap'])\n",
    "print(cars.iloc[[3, 4], 0])"
   ]
  },
  {
   "cell_type": "code",
   "execution_count": 21,
   "metadata": {},
   "outputs": [
    {
     "name": "stdout",
     "output_type": "stream",
     "text": [
      "    cars_per_cap country\n",
      "IN            18   India\n",
      "RU           200  Russia\n",
      "    cars_per_cap country\n",
      "IN            18   India\n",
      "RU           200  Russia\n"
     ]
    }
   ],
   "source": [
    "print(cars.loc[['IN', 'RU'], ['cars_per_cap', 'country']])\n",
    "print(cars.iloc[[3, 4], [0, 1]])"
   ]
  },
  {
   "cell_type": "code",
   "execution_count": 22,
   "metadata": {},
   "outputs": [
    {
     "name": "stdout",
     "output_type": "stream",
     "text": [
      "True\n",
      "     country  drives_right\n",
      "RU    Russia          True\n",
      "MOR  Morocco          True\n"
     ]
    }
   ],
   "source": [
    "# Import cars data\n",
    "import pandas as pd\n",
    "cars = pd.read_csv(cars_data, index_col = 0)\n",
    "\n",
    "# Print out drives_right value of Morocco\n",
    "print(cars.loc['MOR', 'drives_right'])\n",
    "\n",
    "# Print sub-DataFrame\n",
    "print(cars.iloc[[4, 5], [1, 2]])"
   ]
  },
  {
   "cell_type": "markdown",
   "metadata": {},
   "source": [
    "Anda juga dapat memilih hanya kolom dengan `loc` dan `iloc`. Dalam kedua kasus, Anda cukup meletakkan irisan dari awal hingga akhir di depan koma:"
   ]
  },
  {
   "cell_type": "code",
   "execution_count": 23,
   "metadata": {},
   "outputs": [
    {
     "name": "stdout",
     "output_type": "stream",
     "text": [
      "US     United States\n",
      "AUS        Australia\n",
      "JAP            Japan\n",
      "IN             India\n",
      "RU            Russia\n",
      "MOR          Morocco\n",
      "EG             Egypt\n",
      "Name: country, dtype: object\n",
      "US     United States\n",
      "AUS        Australia\n",
      "JAP            Japan\n",
      "IN             India\n",
      "RU            Russia\n",
      "MOR          Morocco\n",
      "EG             Egypt\n",
      "Name: country, dtype: object\n"
     ]
    }
   ],
   "source": [
    "print(cars.loc[:, 'country'])\n",
    "print(cars.iloc[:, 1])"
   ]
  },
  {
   "cell_type": "code",
   "execution_count": 24,
   "metadata": {},
   "outputs": [
    {
     "name": "stdout",
     "output_type": "stream",
     "text": [
      "           country  drives_right\n",
      "US   United States          True\n",
      "AUS      Australia         False\n",
      "JAP          Japan         False\n",
      "IN           India         False\n",
      "RU          Russia          True\n",
      "MOR        Morocco          True\n",
      "EG           Egypt          True\n",
      "           country  drives_right\n",
      "US   United States          True\n",
      "AUS      Australia         False\n",
      "JAP          Japan         False\n",
      "IN           India         False\n",
      "RU          Russia          True\n",
      "MOR        Morocco          True\n",
      "EG           Egypt          True\n"
     ]
    }
   ],
   "source": [
    "print(cars.loc[:, ['country','drives_right']])\n",
    "print(cars.iloc[:, [1, 2]])"
   ]
  },
  {
   "cell_type": "code",
   "execution_count": 25,
   "metadata": {},
   "outputs": [
    {
     "name": "stdout",
     "output_type": "stream",
     "text": [
      "US      True\n",
      "AUS    False\n",
      "JAP    False\n",
      "IN     False\n",
      "RU      True\n",
      "MOR     True\n",
      "EG      True\n",
      "Name: drives_right, dtype: bool\n",
      "     drives_right\n",
      "US           True\n",
      "AUS         False\n",
      "JAP         False\n",
      "IN          False\n",
      "RU           True\n",
      "MOR          True\n",
      "EG           True\n",
      "     cars_per_cap  drives_right\n",
      "US            809          True\n",
      "AUS           731         False\n",
      "JAP           588         False\n",
      "IN             18         False\n",
      "RU            200          True\n",
      "MOR            70          True\n",
      "EG             45          True\n"
     ]
    }
   ],
   "source": [
    "# Import cars data\n",
    "import pandas as pd\n",
    "cars = pd.read_csv(cars_data, index_col = 0)\n",
    "\n",
    "# Print out drives_right column as Series\n",
    "print(cars.loc[:, 'drives_right'])\n",
    "\n",
    "# Print out drives_right column as DataFrame\n",
    "print(cars.loc[:, ['drives_right']])\n",
    "\n",
    "# Print out cars_per_cap and drives_right as DataFrame\n",
    "print(cars.loc[:, ['cars_per_cap', 'drives_right']])"
   ]
  },
  {
   "cell_type": "code",
   "execution_count": null,
   "metadata": {},
   "outputs": [],
   "source": []
  }
 ],
 "metadata": {
  "kernelspec": {
   "display_name": "Python 3",
   "language": "python",
   "name": "python3"
  },
  "language_info": {
   "codemirror_mode": {
    "name": "ipython",
    "version": 3
   },
   "file_extension": ".py",
   "mimetype": "text/x-python",
   "name": "python",
   "nbconvert_exporter": "python",
   "pygments_lexer": "ipython3",
   "version": "3.7.3"
  }
 },
 "nbformat": 4,
 "nbformat_minor": 2
}
