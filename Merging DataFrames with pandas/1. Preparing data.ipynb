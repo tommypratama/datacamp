{
 "cells": [
  {
   "cell_type": "markdown",
   "metadata": {},
   "source": [
    "# 1. Preparing data\n",
    "\n",
    "Dalam bab ini, Anda akan belajar tentang berbagai teknik yang dapat Anda gunakan untuk mengimpor banyak file ke DataFrames. Setelah mengimpor data Anda ke DataFrames individual, Anda akan belajar cara berbagi informasi antara DataFrames menggunakan indeks mereka. Memahami cara kerja indeks sangat penting untuk menggabungkan DataFrames, yang akan Anda pelajari nanti dalam kursus."
   ]
  },
  {
   "cell_type": "markdown",
   "metadata": {},
   "source": [
    "## Reading multiple data files\n",
    "\n",
    "### Reading DataFrames from multiple files"
   ]
  },
  {
   "cell_type": "code",
   "execution_count": null,
   "metadata": {},
   "outputs": [],
   "source": []
  },
  {
   "cell_type": "code",
   "execution_count": null,
   "metadata": {},
   "outputs": [],
   "source": []
  }
 ],
 "metadata": {
  "kernelspec": {
   "display_name": "Python 3",
   "language": "python",
   "name": "python3"
  },
  "language_info": {
   "codemirror_mode": {
    "name": "ipython",
    "version": 3
   },
   "file_extension": ".py",
   "mimetype": "text/x-python",
   "name": "python",
   "nbconvert_exporter": "python",
   "pygments_lexer": "ipython3",
   "version": "3.7.3"
  }
 },
 "nbformat": 4,
 "nbformat_minor": 2
}
