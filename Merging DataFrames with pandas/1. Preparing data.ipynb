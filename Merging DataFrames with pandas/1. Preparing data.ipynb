{
 "cells": [
  {
   "cell_type": "markdown",
   "metadata": {},
   "source": [
    "# 1. Preparing data\n",
    "\n",
    "Dalam bab ini, Anda akan belajar tentang berbagai teknik yang dapat Anda gunakan untuk mengimpor banyak file ke DataFrames. Setelah mengimpor data Anda ke DataFrames individual, Anda akan belajar cara berbagi informasi antara DataFrames menggunakan indeks mereka. Memahami cara kerja indeks sangat penting untuk menggabungkan DataFrames, yang akan Anda pelajari nanti dalam kursus."
   ]
  },
  {
   "cell_type": "markdown",
   "metadata": {},
   "source": [
    "## Reading multiple data files\n",
    "\n",
    "### Reading DataFrames from multiple files\n",
    "\n",
    "Ketika data tersebar di antara beberapa file, Anda biasanya memanggil pandas `read_csv()` (atau fungsi impor data serupa) beberapa kali untuk memuat data ke dalam beberapa DataFrames.\n",
    "\n",
    "File data untuk contoh ini berasal dari [daftar medali Olimpiade yang diberikan antara tahun 1896 & 2008](https://www.theguardian.com/sport/datablog/2012/jun/25/olympic-medal-winner-list-data) yang disusun oleh Guardian.\n",
    "\n",
    "Label kolom masing-masing DataFrame adalah `NOC`, `Country`, & `Total` di mana `NOC` adalah kode tiga huruf untuk nama negara dan `Total` adalah jumlah medali dari jenis yang dimenangkan (perunggu, perak, atau emas)."
   ]
  },
  {
   "cell_type": "code",
   "execution_count": 9,
   "metadata": {},
   "outputs": [
    {
     "name": "stdout",
     "output_type": "stream",
     "text": [
      "   NOC         Country   Total\n",
      "0  USA   United States  2088.0\n",
      "1  URS    Soviet Union   838.0\n",
      "2  GBR  United Kingdom   498.0\n",
      "3  FRA          France   378.0\n",
      "4  GER         Germany   407.0\n"
     ]
    }
   ],
   "source": [
    "# Import pandas\n",
    "import pandas as pd\n",
    "\n",
    "# Read 'Bronze.csv' into a DataFrame: bronze\n",
    "bronze = pd.read_csv('datasets/olympic/Bronze.csv')\n",
    "\n",
    "# Read 'Silver.csv' into a DataFrame: silver\n",
    "silver = pd.read_csv('datasets/olympic/Silver.csv')\n",
    "\n",
    "# Read 'Gold.csv' into a DataFrame: gold\n",
    "gold = pd.read_csv('datasets/olympic/Gold.csv')\n",
    "\n",
    "# Print the first five rows of gold\n",
    "print(gold.head())"
   ]
  },
  {
   "cell_type": "markdown",
   "metadata": {},
   "source": [
    "**Note** : Membaca file csv ke dalam DataFrames seperti ini seharusnya sudah menjadi kebiasaan Anda!"
   ]
  },
  {
   "cell_type": "markdown",
   "metadata": {},
   "source": [
    "### Reading DataFrames from multiple files in a loop\n",
    "\n",
    "Memuat data dari banyak file ke dalam DataFrames lebih efisien dengan *loop* atau *list comprehension*.\n",
    "\n",
    "Perhatikan bahwa pendekatan ini tidak terbatas untuk bekerja dengan file CSV. Yaitu, bahkan jika data Anda dalam format lain, selama pandas memiliki fungsi impor data yang sesuai, Anda dapat menerapkan loop atau comprehension untuk menghasilkan list DataFrames yang diimpor dari file sumber.\n",
    "\n",
    "Di sini, Anda akan terus bekerja dengan [dataset medali Olimpiade The Guardian](https://www.theguardian.com/sport/datablog/2012/jun/25/olympic-medal-winner-list-data)."
   ]
  },
  {
   "cell_type": "code",
   "execution_count": 15,
   "metadata": {},
   "outputs": [
    {
     "name": "stdout",
     "output_type": "stream",
     "text": [
      "   NOC         Country   Total\n",
      "0  USA   United States  2088.0\n",
      "1  URS    Soviet Union   838.0\n",
      "2  GBR  United Kingdom   498.0\n",
      "3  FRA          France   378.0\n",
      "4  GER         Germany   407.0\n"
     ]
    }
   ],
   "source": [
    "# Import pandas\n",
    "import pandas as pd\n",
    "\n",
    "# Create the list of file names: filenames\n",
    "filenames = ['datasets/olympic/Gold.csv', 'datasets/olympic/Silver.csv', 'datasets/olympic/Bronze.csv']\n",
    "\n",
    "# Create the list of three DataFrames: dataframes\n",
    "dataframes = []\n",
    "for filename in filenames:\n",
    "    dataframes.append(pd.read_csv(filename))\n",
    "\n",
    "# Print top 5 rows of 1st DataFrame in dataframes\n",
    "print(dataframes[0].head())"
   ]
  },
  {
   "cell_type": "markdown",
   "metadata": {},
   "source": [
    "**Note** : Saat Anda berurusan dengan banyak file csv seperti ini, lebih efisien untuk membacanya di DataFrames menggunakan loop."
   ]
  },
  {
   "cell_type": "markdown",
   "metadata": {},
   "source": [
    "### Combining DataFrames from multiple data files\n",
    "\n",
    "Dalam latihan ini, Anda akan menggabungkan ketiga DataFrames dari latihan sebelumnya - `gold`, `silver`, & `bronze` - menjadi satu DataFrame yang disebut `medals`. Pendekatan yang akan Anda gunakan di sini agak kaku. Kemudian dalam kursus, Anda akan melihat berbagai metode hebat yang sering digunakan dalam praktik untuk *concatenating* atau *merging* DataFrames.\n",
    "\n",
    "Ingat, label kolom setiap DataFrame adalah `NOC`, `Country`, dan `Total`, di mana `NOC` adalah kode tiga huruf untuk nama negara dan `Total` adalah jumlah medali dari jenis yang dimenangkan."
   ]
  },
  {
   "cell_type": "code",
   "execution_count": 17,
   "metadata": {},
   "outputs": [
    {
     "name": "stdout",
     "output_type": "stream",
     "text": [
      "   NOC         Country    Gold  Silver  Bronze\n",
      "0  USA   United States  2088.0  1195.0  1052.0\n",
      "1  URS    Soviet Union   838.0   627.0   584.0\n",
      "2  GBR  United Kingdom   498.0   591.0   505.0\n",
      "3  FRA          France   378.0   461.0   475.0\n",
      "4  GER         Germany   407.0   350.0   454.0\n"
     ]
    }
   ],
   "source": [
    "# Import pandas\n",
    "import pandas as pd\n",
    "\n",
    "# Make a copy of gold: medals\n",
    "medals = gold.copy()\n",
    "\n",
    "# Create list of new column labels: new_labels\n",
    "new_labels = ['NOC', 'Country', 'Gold']\n",
    "\n",
    "# Rename the columns of medals using new_labels\n",
    "medals.columns = new_labels\n",
    "\n",
    "# Add columns 'Silver' & 'Bronze' to medals\n",
    "medals['Silver'] = silver['Total']\n",
    "medals['Bronze'] = bronze['Total']\n",
    "\n",
    "# Print the head of medals\n",
    "print(medals.head())"
   ]
  },
  {
   "cell_type": "markdown",
   "metadata": {},
   "source": [
    "**Note** : Nanti dalam kursus ini, Anda akan belajar alat yang jauh lebih kuat untuk menggabungkan DataFrames!"
   ]
  },
  {
   "cell_type": "markdown",
   "metadata": {},
   "source": [
    "## Reindexing DataFrames\n",
    "\n",
    "### Sorting DataFrame with the Index & columns\n",
    "\n",
    "Seringkali berguna untuk mengatur ulang urutan baris-baris DataFrame dengan menyortir. Anda tidak harus mengimplementasikannya sendiri; metode utama untuk melakukan ini adalah `.sort_index()` dan `.sort_values()`.\n",
    "\n",
    "Dalam latihan ini, Anda akan menggunakan metode ini dengan DataFrame dari nilai suhu yang diindeks oleh nama bulan. Anda akan mengurutkan baris berdasarkan abjad menggunakan Indeks dan secara numerik menggunakan kolom. Perhatikan, untuk data ini, pengurutan awal mungkin paling bermanfaat dan intuitif: tujuan di sini adalah agar Anda memahami apa yang dilakukan metode penyortiran."
   ]
  },
  {
   "cell_type": "code",
   "execution_count": 36,
   "metadata": {},
   "outputs": [
    {
     "name": "stdout",
     "output_type": "stream",
     "text": [
      "       Max TemperatureF\n",
      "Month                  \n",
      "Jan                  68\n",
      "Feb                  60\n",
      "Mar                  68\n",
      "Apr                  84\n",
      "May                  88\n",
      "       Max TemperatureF\n",
      "Month                  \n",
      "Apr                  84\n",
      "Aug                  86\n",
      "Dec                  68\n",
      "Feb                  60\n",
      "Jan                  68\n",
      "       Max TemperatureF\n",
      "Month                  \n",
      "Sep                  90\n",
      "Oct                  84\n",
      "Nov                  72\n",
      "May                  88\n",
      "Mar                  68\n",
      "       Max TemperatureF\n",
      "Month                  \n",
      "Feb                  60\n",
      "Jan                  68\n",
      "Mar                  68\n",
      "Dec                  68\n",
      "Nov                  72\n"
     ]
    }
   ],
   "source": [
    "# Import pandas\n",
    "import pandas as pd\n",
    "\n",
    "# Read 'monthly_max_temp.csv' into a DataFrame: weather1\n",
    "weather1 = pd.read_csv('datasets/monthly_max_temp.csv', index_col='Month')\n",
    "\n",
    "# Print the head of weather1\n",
    "print(weather1.head())\n",
    "\n",
    "# Sort the index of weather1 in alphabetical order: weather2\n",
    "weather2 = weather1.sort_index()\n",
    "\n",
    "# Print the head of weather2\n",
    "print(weather2.head())\n",
    "\n",
    "# Sort the index of weather1 in reverse alphabetical order: weather3\n",
    "weather3 = weather1.sort_index(ascending=False)\n",
    "\n",
    "# Print the head of weather3\n",
    "print(weather3.head())\n",
    "\n",
    "# Sort weather1 numerically using the values of 'Max TemperatureF': weather4\n",
    "weather4 = weather1.sort_values('Max TemperatureF')\n",
    "\n",
    "# Print the head of weather4\n",
    "print(weather4.head())"
   ]
  },
  {
   "cell_type": "markdown",
   "metadata": {},
   "source": [
    "**Note** : Mampu mengurutkan DataFrames adalah keterampilan yang penting. Saat DataFrames Anda diurutkan, menjadi lebih mudah untuk melihat bagaimana Anda bisa menggabungkannya."
   ]
  },
  {
   "cell_type": "markdown",
   "metadata": {},
   "source": [
    "### Reindexing DataFrame from a list\n",
    "\n",
    "Metode pengurutan bukan satu-satunya cara untuk mengubah Indeks DataFrame. Ada juga metode `.reindex()`.\n",
    "\n",
    "Dalam latihan ini, Anda akan mengindeks ulang DataFrame dari nilai suhu rata-rata triwulanan yang berisi sampel bulanan (ini adalah contoh upsampling atau peningkatan laju sampel, yang dapat Anda ingat dari [Pandas Foundations](https://www.datacamp.com/courses/pandas-foundations)).\n",
    "\n",
    "Data asli memiliki singkatan bulan pertama dari kuartal (interval tiga bulan) pada Indeks, yaitu `Apr`, `Jan`, `Jul`, dan `Oct`. Data ini telah dimuat ke dalam DataFrame yang disebut `weather1` dan telah dicetak secara keseluruhan di IPython Shell. Perhatikan hanya memiliki empat baris (sesuai dengan bulan pertama setiap kuartal) dan bahwa baris tidak diurutkan secara kronologis.\n",
    "\n",
    "Pada awalnya Anda akan menggunakan daftar semua singkatan dua belas bulan dan selanjutnya menerapkan metode `.ffill()` untuk *forward-fill* entri nol saat upsampling. Daftar singkatan bulan ini telah dimuat sebelumnya sebagai `year`."
   ]
  },
  {
   "cell_type": "code",
   "execution_count": 37,
   "metadata": {},
   "outputs": [],
   "source": [
    "# Reindex\n",
    "weather1 = weather1.reindex(['Apr', 'Jan', 'Jul', 'Oct'])"
   ]
  },
  {
   "cell_type": "code",
   "execution_count": 39,
   "metadata": {},
   "outputs": [],
   "source": [
    "# List year\n",
    "year = ['Jan', 'Feb', 'Mar', 'Apr', 'May', 'Jun', 'Jul', 'Aug', 'Sep', 'Oct', 'Nov', 'Dec']"
   ]
  },
  {
   "cell_type": "code",
   "execution_count": 40,
   "metadata": {},
   "outputs": [
    {
     "name": "stdout",
     "output_type": "stream",
     "text": [
      "       Max TemperatureF\n",
      "Month                  \n",
      "Jan                68.0\n",
      "Feb                 NaN\n",
      "Mar                 NaN\n",
      "Apr                84.0\n",
      "May                 NaN\n",
      "Jun                 NaN\n",
      "Jul                91.0\n",
      "Aug                 NaN\n",
      "Sep                 NaN\n",
      "Oct                84.0\n",
      "Nov                 NaN\n",
      "Dec                 NaN\n",
      "       Max TemperatureF\n",
      "Month                  \n",
      "Jan                68.0\n",
      "Feb                68.0\n",
      "Mar                68.0\n",
      "Apr                84.0\n",
      "May                84.0\n",
      "Jun                84.0\n",
      "Jul                91.0\n",
      "Aug                91.0\n",
      "Sep                91.0\n",
      "Oct                84.0\n",
      "Nov                84.0\n",
      "Dec                84.0\n"
     ]
    }
   ],
   "source": [
    "# Reindex weather1 using the list year: weather2\n",
    "weather2 = weather1.reindex(year)\n",
    "\n",
    "# Print weather2\n",
    "print(weather2)\n",
    "\n",
    "# Reindex weather1 using the list year with forward-fill: weather3\n",
    "weather3 = weather1.reindex(year).ffill()\n",
    "\n",
    "# Print weather3\n",
    "print(weather3)"
   ]
  },
  {
   "cell_type": "markdown",
   "metadata": {},
   "source": [
    "**Note** : Perhatikan bahwa nilai yang terkait dengan bulan yang hilang dari `weather1` diisi dengan nilai `NaN` di `weather2`. Ini tidak terjadi di `weather3`, karena Anda menggunakan *forward-fill*."
   ]
  },
  {
   "cell_type": "markdown",
   "metadata": {},
   "source": [
    "### Reindexing using another DataFrame Index\n",
    "\n",
    "Teknik umum lainnya adalah mengindeks ulang DataFrame menggunakan Indeks DataFrame lain. Metode DataFrame `.reindex()` dapat menerima Indeks DataFrame atau Series sebagai input. Anda dapat mengakses Indeks DataFrame dengan atribut `.index` nya.\n",
    "\n",
    "[Baby Names Dataset](https://www.data.gov/developers/baby-names-dataset/) dari [data.gov](http://data.gov/) merangkum jumlah nama (dengan jenis kelamin) dari kelahiran yang terdaftar di AS sejak 1881. Dalam latihan ini, Anda akan mulai dengan DataFrames dua nama bayi yaitu `names_1981` dan `names_1881`.\n",
    "\n",
    "DataFrames `names_1981` dan `names_1881` keduanya memiliki MultiIndex dengan level `name` dan `gender` yang memberikan label unik untuk dihitung di setiap baris. Jika Anda tertarik melihat bagaimana MultiIndexes diatur, `names_1981` dan `names_1881` dibaca menggunakan perintah berikut:"
   ]
  },
  {
   "cell_type": "code",
   "execution_count": 41,
   "metadata": {},
   "outputs": [],
   "source": [
    "# Load data\n",
    "names_1981 = pd.read_csv('datasets/baby-names/names1981.csv', header=None, names=['name','gender','count'], index_col=(0,1))\n",
    "names_1881 = pd.read_csv('datasets/baby-names/names1881.csv', header=None, names=['name','gender','count'], index_col=(0,1))"
   ]
  },
  {
   "cell_type": "markdown",
   "metadata": {},
   "source": [
    "DataFrame yang terkait dengan kelahiran tahun 1981 jauh lebih besar, yang mencerminkan keragaman nama yang lebih besar pada tahun 1981 dibandingkan dengan tahun 1881."
   ]
  },
  {
   "cell_type": "code",
   "execution_count": 43,
   "metadata": {},
   "outputs": [
    {
     "name": "stdout",
     "output_type": "stream",
     "text": [
      "Shape of names_1981 DataFrame: (19455, 1)\n",
      "Shape of names_1881 DataFrame: (1935, 1)\n"
     ]
    }
   ],
   "source": [
    "print('Shape of names_1981 DataFrame:', names_1981.shape)\n",
    "print('Shape of names_1881 DataFrame:', names_1881.shape)"
   ]
  },
  {
   "cell_type": "markdown",
   "metadata": {},
   "source": [
    "Tugas Anda di sini adalah menggunakan metode DataFrame `.reindex()` dan `.dropna()` untuk membuat DataFrame `common_names` yang menghitung nama dari tahun 1881 yang masih populer di tahun 1981."
   ]
  },
  {
   "cell_type": "code",
   "execution_count": 44,
   "metadata": {},
   "outputs": [
    {
     "name": "stdout",
     "output_type": "stream",
     "text": [
      "(1935, 1)\n",
      "(1587, 1)\n"
     ]
    }
   ],
   "source": [
    "# Import pandas\n",
    "import pandas as pd\n",
    "\n",
    "# Reindex names_1981 with index of names_1881: common_names\n",
    "common_names = names_1981.reindex(names_1881.index)\n",
    "\n",
    "# Print shape of common_names\n",
    "print(common_names.shape)\n",
    "\n",
    "# Drop rows with null counts: common_names\n",
    "common_names = common_names.dropna()\n",
    "\n",
    "# Print shape of new common_names\n",
    "print(common_names.shape)"
   ]
  },
  {
   "cell_type": "markdown",
   "metadata": {},
   "source": [
    "**Note** : Sepertinya 348 nama keluar dari mode antara 1881 dan 1981!"
   ]
  },
  {
   "cell_type": "markdown",
   "metadata": {},
   "source": [
    "## Arithmetic with Series & DataFrames\n",
    "\n",
    "### Adding unaligned DataFrames\n",
    "\n",
    "DataFrames `january` dan `february` mewakili penjualan yang dilakukan perusahaan pada bulan-bulan yang sesuai.\n",
    "\n",
    "Indeks di kedua DataFrames disebut `Company`, yang mengidentifikasi perusahaan mana yang membeli jumlah unit itu. Kolom `Units` adalah jumlah unit yang terjual."
   ]
  },
  {
   "cell_type": "code",
   "execution_count": 57,
   "metadata": {},
   "outputs": [],
   "source": [
    "# Create DataFrames\n",
    "january = pd.DataFrame({ 'Company' : ['Acme Corporation', 'Hooli', 'Initech', 'Mediacore', 'Streeplex'], \n",
    "                         'Units' : [19, 17, 20, 10, 13]}).set_index('Company')\n",
    "february = pd.DataFrame({ 'Company' : ['Acme Corporation', 'Hooli', 'Mediacore', 'Vandelay Inc'],\n",
    "                          'Units' : [15, 3, 13, 25] }).set_index('Company')"
   ]
  },
  {
   "cell_type": "code",
   "execution_count": 58,
   "metadata": {},
   "outputs": [
    {
     "name": "stdout",
     "output_type": "stream",
     "text": [
      "                  Units\n",
      "Company                \n",
      "Acme Corporation     19\n",
      "Hooli                17\n",
      "Initech              20\n",
      "Mediacore            10\n",
      "Streeplex            13\n",
      "                  Units\n",
      "Company                \n",
      "Acme Corporation     15\n",
      "Hooli                 3\n",
      "Mediacore            13\n",
      "Vandelay Inc         25\n"
     ]
    }
   ],
   "source": [
    "print(january)\n",
    "print(february)"
   ]
  },
  {
   "cell_type": "markdown",
   "metadata": {},
   "source": [
    "Jika Anda menambahkan dua DataFrames ini dengan mengeksekusi perintah `total = january + february`, berapa banyak baris yang akan dimiliki DataFrame? "
   ]
  },
  {
   "cell_type": "code",
   "execution_count": 59,
   "metadata": {},
   "outputs": [
    {
     "name": "stdout",
     "output_type": "stream",
     "text": [
      "                  Units\n",
      "Company                \n",
      "Acme Corporation   34.0\n",
      "Hooli              20.0\n",
      "Initech             NaN\n",
      "Mediacore          23.0\n",
      "Streeplex           NaN\n",
      "Vandelay Inc        NaN\n"
     ]
    }
   ],
   "source": [
    "total = january + february\n",
    "print(total)"
   ]
  },
  {
   "cell_type": "markdown",
   "metadata": {},
   "source": [
    "**Note** : `january` dan `february` keduanya terdiri dari penjualan perusahaan `Acme Corporation`, `Hooli`, dan `Mediacore`. `january` memiliki tambahan dua perusahaan `Initech` dan `Streeplex`, sementara `february` memiliki perusahaan tambahan `Vandelay Inc`. Bersama-sama, mereka terdiri dari penjualan 6 perusahaan yang unik, sehingga `total` akan memiliki 6 baris."
   ]
  },
  {
   "cell_type": "markdown",
   "metadata": {},
   "source": [
    "### Broadcasting in arithmetic formulas\n",
    "\n",
    "Dalam latihan ini, Anda akan bekerja dengan data cuaca yang diambil dari wunderground.com. DataFrame `weather` telah dimuat sebelumnya bersama dengan `pandas` sebagai `pd`. Ini memiliki 365 baris (diamati setiap hari tahun 2013 di Pittsburgh, PA) dan 22 kolom yang mencerminkan pengukuran cuaca yang berbeda setiap hari.\n",
    "\n",
    "Anda akan mengelompokkan kumpulan kolom yang terkait dengan pengukuran suhu dalam derajat Fahrenheit, mengonversinya menjadi derajat Celcius, dan menandai ulang kolom-kolom DataFrame baru untuk mencerminkan perubahan unit.\n",
    "\n",
    "Ingat, operator aritmatika biasa (seperti `+`, `-`, `*`, dan `/`) *broadcast* nilai skalar untuk menyesuaikan DataFrames saat menggabungkan skalar & DataFrames dalam ekspresi aritmatika. Broadcasting juga bekerja dengan pandas Series dan NumPy array."
   ]
  },
  {
   "cell_type": "code",
   "execution_count": 65,
   "metadata": {},
   "outputs": [],
   "source": [
    "# Assign file url\n",
    "filename = 'https://assets.datacamp.com/production/repositories/516/datasets/58c1ead59818b2451324e9e84239db7bda6b11d3/pittsburgh2013.csv'\n",
    "# Load data\n",
    "weather = pd.read_csv(filename, parse_dates=True, index_col='Date')"
   ]
  },
  {
   "cell_type": "code",
   "execution_count": 66,
   "metadata": {},
   "outputs": [
    {
     "name": "stdout",
     "output_type": "stream",
     "text": [
      "            Min TemperatureC  Mean TemperatureC  Max TemperatureC\n",
      "Date                                                             \n",
      "2013-01-01         -6.111111          -2.222222          0.000000\n",
      "2013-01-02         -8.333333          -6.111111         -3.888889\n",
      "2013-01-03         -8.888889          -4.444444          0.000000\n",
      "2013-01-04         -2.777778          -2.222222         -1.111111\n",
      "2013-01-05         -3.888889          -1.111111          1.111111\n"
     ]
    }
   ],
   "source": [
    "# Extract selected columns from weather as new DataFrame: temps_f\n",
    "temps_f = weather[['Min TemperatureF', 'Mean TemperatureF', 'Max TemperatureF']]\n",
    "\n",
    "# Convert temps_f to celsius: temps_c\n",
    "temps_c = (temps_f - 32) * 5/9\n",
    "\n",
    "# Rename 'F' in column names with 'C': temps_c.columns\n",
    "temps_c.columns = temps_c.columns.str.replace('F', 'C')\n",
    "\n",
    "# Print first 5 rows of temps_c\n",
    "print(temps_c.head())"
   ]
  },
  {
   "cell_type": "markdown",
   "metadata": {},
   "source": [
    "**Note** : Hanya dalam tiga baris kode, Anda mengonversi satuan 365 titik data (lebih dari tiga kolom) dari derajat Fahrenheit ke derajat Celcius."
   ]
  },
  {
   "cell_type": "markdown",
   "metadata": {},
   "source": [
    "### Computing percentage growth of GDP\n",
    "\n",
    "Tugas Anda dalam latihan ini adalah untuk menghitung persen-perubahan tahunan PDB AS ([Produk Domestik Bruto](https://en.wikipedia.org/wiki/Gross_domestic_product)) sejak 2008.\n",
    "\n",
    "Data telah diperoleh dari [Federal Reserve Bank of St. Louis](https://fred.stlouisfed.org/series/GDP/downloaddata) dan tersedia dalam file `GDP.csv`, yang berisi data triwulanan; Anda akan mengubah sampel menjadi sampel tahunan dan kemudian menghitung pertumbuhan tahunan PDB. Untuk penyegaran pada resampling, periksa materi yang relevan dari [Pandas Foundations](https://campus.datacamp.com/courses/pandas-foundations/time-series-in-pandas?ex=7)."
   ]
  },
  {
   "cell_type": "code",
   "execution_count": 69,
   "metadata": {},
   "outputs": [
    {
     "name": "stdout",
     "output_type": "stream",
     "text": [
      "              VALUE\n",
      "DATE               \n",
      "2014-07-01  17569.4\n",
      "2014-10-01  17692.2\n",
      "2015-01-01  17783.6\n",
      "2015-04-01  17998.3\n",
      "2015-07-01  18141.9\n",
      "2015-10-01  18222.8\n",
      "2016-01-01  18281.6\n",
      "2016-04-01  18436.5\n",
      "              VALUE\n",
      "DATE               \n",
      "2008-12-31  14549.9\n",
      "2009-12-31  14566.5\n",
      "2010-12-31  15230.2\n",
      "2011-12-31  15785.3\n",
      "2012-12-31  16297.3\n",
      "2013-12-31  16999.9\n",
      "2014-12-31  17692.2\n",
      "2015-12-31  18222.8\n",
      "2016-12-31  18436.5\n",
      "              VALUE    growth\n",
      "DATE                         \n",
      "2008-12-31  14549.9       NaN\n",
      "2009-12-31  14566.5  0.114090\n",
      "2010-12-31  15230.2  4.556345\n",
      "2011-12-31  15785.3  3.644732\n",
      "2012-12-31  16297.3  3.243524\n",
      "2013-12-31  16999.9  4.311144\n",
      "2014-12-31  17692.2  4.072377\n",
      "2015-12-31  18222.8  2.999062\n",
      "2016-12-31  18436.5  1.172707\n"
     ]
    }
   ],
   "source": [
    "# Read 'GDP.csv' into a DataFrame: gdp\n",
    "gdp = pd.read_csv('datasets/gdp/gdp_usa.csv', parse_dates=True, index_col='DATE')\n",
    "\n",
    "# Slice all the gdp data from 2008 onward: post2008\n",
    "post2008 = gdp.loc['2008':]\n",
    "\n",
    "# Print the last 8 rows of post2008\n",
    "print(post2008.tail(8))\n",
    "\n",
    "# Resample post2008 by year, keeping last(): yearly\n",
    "yearly = post2008.resample('A').last()\n",
    "\n",
    "# Print yearly\n",
    "print(yearly)\n",
    "\n",
    "# Compute percentage growth of yearly: yearly['growth']\n",
    "yearly['growth'] = yearly.pct_change() * 100\n",
    "\n",
    "# Print yearly again\n",
    "print(yearly)"
   ]
  },
  {
   "cell_type": "markdown",
   "metadata": {},
   "source": [
    "**Note** : Perhatikan bahwa kolom pertama dari kolom `'growth'` adalah `NaN` karena tidak ada data untuk tahun 2007."
   ]
  },
  {
   "cell_type": "markdown",
   "metadata": {},
   "source": [
    "### Converting currency of stocks\n",
    "\n",
    "Dalam latihan ini, harga saham dalam Dolar AS untuk S&P 500 pada tahun 2015 telah diperoleh dari [Yahoo Finance](https://finance.yahoo.com/). File `sp500.csv` untuk sp500 dan `exchange.csv` untuk nilai tukar keduanya disediakan untuk Anda.\n",
    "\n",
    "Menggunakan nilai tukar harian ke Poundsterling, tugas Anda adalah mengonversi harga kolom `Open` dan `Close`."
   ]
  },
  {
   "cell_type": "code",
   "execution_count": 70,
   "metadata": {},
   "outputs": [],
   "source": [
    "# Assign file url\n",
    "exchange_url = 'https://assets.datacamp.com/production/repositories/516/datasets/e91482db6a7bae394653278e4e908e63ed9ac833/exchange.csv'\n",
    "sp500_url = 'https://assets.datacamp.com/production/repositories/516/datasets/7a9b570a02ef589891d9576a86876a616ca5f3c8/sp500.csv'"
   ]
  },
  {
   "cell_type": "code",
   "execution_count": 71,
   "metadata": {},
   "outputs": [
    {
     "name": "stdout",
     "output_type": "stream",
     "text": [
      "                   Open        Close\n",
      "Date                                \n",
      "2015-01-02  2058.899902  2058.199951\n",
      "2015-01-05  2054.439941  2020.579956\n",
      "2015-01-06  2022.150024  2002.609985\n",
      "2015-01-07  2005.550049  2025.900024\n",
      "2015-01-08  2030.609985  2062.139893\n",
      "                   Open        Close\n",
      "Date                                \n",
      "2015-01-02  1340.364425  1339.908750\n",
      "2015-01-05  1348.616555  1326.389506\n",
      "2015-01-06  1332.515980  1319.639876\n",
      "2015-01-07  1330.562125  1344.063112\n",
      "2015-01-08  1343.268811  1364.126161\n"
     ]
    }
   ],
   "source": [
    "# Import pandas\n",
    "import pandas as pd\n",
    "\n",
    "# Read 'sp500.csv' into a DataFrame: sp500\n",
    "sp500 = pd.read_csv(sp500_url, parse_dates=True, index_col='Date')\n",
    "\n",
    "# Read 'exchange.csv' into a DataFrame: exchange\n",
    "exchange = pd.read_csv(exchange_url, parse_dates=True, index_col='Date')\n",
    "\n",
    "# Subset 'Open' & 'Close' columns from sp500: dollars\n",
    "dollars = sp500[['Open', 'Close']]\n",
    "\n",
    "# Print the head of dollars\n",
    "print(dollars.head())\n",
    "\n",
    "# Convert dollars to pounds: pounds\n",
    "pounds = dollars.multiply(exchange['GBP/USD'], axis='rows')\n",
    "\n",
    "# Print the head of pounds\n",
    "print(pounds.head())"
   ]
  },
  {
   "cell_type": "markdown",
   "metadata": {},
   "source": [
    "Sekarang setelah Anda terbiasa dengan cara berbagi informasi antara DataFrames, Anda akan belajar tentang menggabungkan DataFrames di bab berikutnya."
   ]
  },
  {
   "cell_type": "code",
   "execution_count": null,
   "metadata": {},
   "outputs": [],
   "source": []
  }
 ],
 "metadata": {
  "kernelspec": {
   "display_name": "Python 3",
   "language": "python",
   "name": "python3"
  },
  "language_info": {
   "codemirror_mode": {
    "name": "ipython",
    "version": 3
   },
   "file_extension": ".py",
   "mimetype": "text/x-python",
   "name": "python",
   "nbconvert_exporter": "python",
   "pygments_lexer": "ipython3",
   "version": "3.7.3"
  }
 },
 "nbformat": 4,
 "nbformat_minor": 2
}
