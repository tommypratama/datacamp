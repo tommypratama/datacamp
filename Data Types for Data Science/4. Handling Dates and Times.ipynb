{
 "cells": [
  {
   "cell_type": "markdown",
   "metadata": {},
   "source": [
    "# 4. Handling Dates and Times\n",
    "\n",
    "Menangani waktu bisa terasa merepotkan pada suatu waktu, tetapi di sini, Anda akan menggali dan belajar cara membuat objek datetime, mencetaknya, melihat ke masa lalu dan ke masa depan. Selain itu, Anda akan belajar tentang beberapa modul pihak ketiga yang dapat membuat semua ini lebih mudah. Anda akan terus menggunakan dataset Chicago Transit untuk menjawab pertanyaan tentang waktu transit."
   ]
  },
  {
   "cell_type": "markdown",
   "metadata": {},
   "source": [
    "## There and Back Again a DateTime Journey"
   ]
  },
  {
   "cell_type": "markdown",
   "metadata": {},
   "source": [
    "### Strings to DateTimes\n",
    "\n",
    "* Modul `datetime` adalah bagian dari pustaka standar Python\n",
    "* Gunakan tipe `datetime` dari dalam modul `datetime`\n",
    "* Metode `.strptime()` mengkonversi dari string ke objek datetime\n",
    "\n",
    "Saatnya memulai perjalanan DateTime Anda! Anda akan mulai dengan menggunakan metode `.strptime()` dari objek datetime, meneruskannya baik string maupun format. Daftar lengkap komponen string format tersedia di [dokumentasi](https://docs.python.org/3/library/datetime.html#strftime-strptime-behavior) Python.\n",
    "\n",
    "Anda akan menggunakan kolom datetime dari data Otoritas Transist Chicago, yang tersedia sebagai `dates_list`."
   ]
  },
  {
   "cell_type": "code",
   "execution_count": 7,
   "metadata": {},
   "outputs": [],
   "source": [
    "# Buat list tanggal\n",
    "dates_list = ['02/19/2001', '04/10/2001', '05/30/2001', '07/19/2001', '09/07/2001', '10/27/2001', '12/16/2001', '02/04/2002', '03/26/2002', '05/15/2002', '07/04/2002', '08/23/2002', '10/12/2002', '12/01/2002', '01/20/2003', '03/11/2003', '04/30/2003', '06/19/2003', '08/08/2003', '09/27/2003', '11/16/2003', '01/05/2004', '02/24/2004', '04/14/2004', '06/03/2004', '07/23/2004', '09/11/2004', '10/31/2004', '12/20/2004', '02/08/2005', '03/30/2005', '05/19/2005', '07/08/2005', '08/27/2005', '10/16/2005', '12/05/2005', '01/24/2006', '03/15/2006', '05/04/2006', '06/23/2006', '08/12/2006', '10/01/2006', '11/20/2006', '01/09/2007', '02/28/2007', '04/19/2007', '06/08/2007', '07/28/2007', '09/16/2007', '11/05/2007', '12/25/2007', '02/13/2008', '04/03/2008', '05/23/2008', '07/12/2008', '08/31/2008', '10/20/2008', '12/09/2008', '01/28/2009', '03/19/2009', '05/08/2009', '06/27/2009', '08/16/2009', '10/05/2009', '11/24/2009', '01/13/2010', '03/04/2010', '04/23/2010', '06/12/2010', '08/01/2010', '09/20/2010', '11/09/2010', '12/29/2010', '02/17/2011', '04/08/2011', '05/28/2011', '07/17/2011', '09/05/2011', '10/24/2011', '11/12/2011', '01/01/2012', '02/20/2012', '04/10/2012', '05/30/2012', '07/19/2012', '09/07/2012', '10/27/2012', '12/16/2012', '02/04/2013', '03/26/2013', '05/15/2013', '07/04/2013', '08/23/2013', '10/12/2013', '12/01/2013', '01/20/2014', '03/11/2014', '04/30/2014', '06/19/2014', '08/08/2014', '09/27/2014', '11/16/2014', '07/05/2014', '01/24/2015', '03/15/2015', '05/04/2015', '06/23/2015', '08/12/2015', '10/01/2015', '11/20/2015', '01/09/2016', '02/28/2016', '04/18/2016', '06/07/2016', '07/27/2016', '09/15/2016', '11/04/2016']\n"
   ]
  },
  {
   "cell_type": "code",
   "execution_count": 12,
   "metadata": {},
   "outputs": [
    {
     "name": "stdout",
     "output_type": "stream",
     "text": [
      "2001-02-19 00:00:00\n",
      "2001-04-10 00:00:00\n",
      "2001-05-30 00:00:00\n",
      "2001-07-19 00:00:00\n",
      "2001-09-07 00:00:00\n",
      "2001-10-27 00:00:00\n",
      "2001-12-16 00:00:00\n",
      "2002-02-04 00:00:00\n",
      "2002-03-26 00:00:00\n",
      "2002-05-15 00:00:00\n",
      "2002-07-04 00:00:00\n",
      "2002-08-23 00:00:00\n",
      "2002-10-12 00:00:00\n",
      "2002-12-01 00:00:00\n",
      "2003-01-20 00:00:00\n",
      "2003-03-11 00:00:00\n",
      "2003-04-30 00:00:00\n",
      "2003-06-19 00:00:00\n",
      "2003-08-08 00:00:00\n",
      "2003-09-27 00:00:00\n",
      "2003-11-16 00:00:00\n",
      "2004-01-05 00:00:00\n",
      "2004-02-24 00:00:00\n",
      "2004-04-14 00:00:00\n",
      "2004-06-03 00:00:00\n",
      "2004-07-23 00:00:00\n",
      "2004-09-11 00:00:00\n",
      "2004-10-31 00:00:00\n",
      "2004-12-20 00:00:00\n",
      "2005-02-08 00:00:00\n",
      "2005-03-30 00:00:00\n",
      "2005-05-19 00:00:00\n",
      "2005-07-08 00:00:00\n",
      "2005-08-27 00:00:00\n",
      "2005-10-16 00:00:00\n",
      "2005-12-05 00:00:00\n",
      "2006-01-24 00:00:00\n",
      "2006-03-15 00:00:00\n",
      "2006-05-04 00:00:00\n",
      "2006-06-23 00:00:00\n",
      "2006-08-12 00:00:00\n",
      "2006-10-01 00:00:00\n",
      "2006-11-20 00:00:00\n",
      "2007-01-09 00:00:00\n",
      "2007-02-28 00:00:00\n",
      "2007-04-19 00:00:00\n",
      "2007-06-08 00:00:00\n",
      "2007-07-28 00:00:00\n",
      "2007-09-16 00:00:00\n",
      "2007-11-05 00:00:00\n",
      "2007-12-25 00:00:00\n",
      "2008-02-13 00:00:00\n",
      "2008-04-03 00:00:00\n",
      "2008-05-23 00:00:00\n",
      "2008-07-12 00:00:00\n",
      "2008-08-31 00:00:00\n",
      "2008-10-20 00:00:00\n",
      "2008-12-09 00:00:00\n",
      "2009-01-28 00:00:00\n",
      "2009-03-19 00:00:00\n",
      "2009-05-08 00:00:00\n",
      "2009-06-27 00:00:00\n",
      "2009-08-16 00:00:00\n",
      "2009-10-05 00:00:00\n",
      "2009-11-24 00:00:00\n",
      "2010-01-13 00:00:00\n",
      "2010-03-04 00:00:00\n",
      "2010-04-23 00:00:00\n",
      "2010-06-12 00:00:00\n",
      "2010-08-01 00:00:00\n",
      "2010-09-20 00:00:00\n",
      "2010-11-09 00:00:00\n",
      "2010-12-29 00:00:00\n",
      "2011-02-17 00:00:00\n",
      "2011-04-08 00:00:00\n",
      "2011-05-28 00:00:00\n",
      "2011-07-17 00:00:00\n",
      "2011-09-05 00:00:00\n",
      "2011-10-24 00:00:00\n",
      "2011-11-12 00:00:00\n",
      "2012-01-01 00:00:00\n",
      "2012-02-20 00:00:00\n",
      "2012-04-10 00:00:00\n",
      "2012-05-30 00:00:00\n",
      "2012-07-19 00:00:00\n",
      "2012-09-07 00:00:00\n",
      "2012-10-27 00:00:00\n",
      "2012-12-16 00:00:00\n",
      "2013-02-04 00:00:00\n",
      "2013-03-26 00:00:00\n",
      "2013-05-15 00:00:00\n",
      "2013-07-04 00:00:00\n",
      "2013-08-23 00:00:00\n",
      "2013-10-12 00:00:00\n",
      "2013-12-01 00:00:00\n",
      "2014-01-20 00:00:00\n",
      "2014-03-11 00:00:00\n",
      "2014-04-30 00:00:00\n",
      "2014-06-19 00:00:00\n",
      "2014-08-08 00:00:00\n",
      "2014-09-27 00:00:00\n",
      "2014-11-16 00:00:00\n",
      "2014-07-05 00:00:00\n",
      "2015-01-24 00:00:00\n",
      "2015-03-15 00:00:00\n",
      "2015-05-04 00:00:00\n",
      "2015-06-23 00:00:00\n",
      "2015-08-12 00:00:00\n",
      "2015-10-01 00:00:00\n",
      "2015-11-20 00:00:00\n",
      "2016-01-09 00:00:00\n",
      "2016-02-28 00:00:00\n",
      "2016-04-18 00:00:00\n",
      "2016-06-07 00:00:00\n",
      "2016-07-27 00:00:00\n",
      "2016-09-15 00:00:00\n",
      "2016-11-04 00:00:00\n"
     ]
    }
   ],
   "source": [
    "# Import the datetime object from datetime\n",
    "from datetime import datetime\n",
    "\n",
    "# Iterate over the dates_list \n",
    "for date_str in dates_list:\n",
    "    # Convert each date to a datetime object: date_dt\n",
    "    date_dt = datetime.strptime(date_str, '%m/%d/%Y')\n",
    "    \n",
    "    # Print each date_dt\n",
    "    print(date_dt)"
   ]
  },
  {
   "cell_type": "markdown",
   "metadata": {},
   "source": [
    "**Note** : Anda sekarang tahu cara mengonversi String ke DateTimes. Dalam latihan selanjutnya, Anda akan belajar bagaimana melakukan yang sebaliknya!"
   ]
  },
  {
   "cell_type": "markdown",
   "metadata": {},
   "source": [
    "### Converting to a String\n",
    "\n",
    "Konversi dari objek datetime ke string dilakukan dengan metode `.strftime()` pada instance objek datetime. Anda menggunakan string format seperti yang digunakan pada latihan sebelumnya.\n",
    "\n",
    "Ada juga standar output string yang banyak digunakan yang disebut ISO-8601. Ini memiliki metode pintas bernama `.isoformat()`. Saya mendorong Anda untuk menggunakannya kapan saja saat menulis ke file."
   ]
  },
  {
   "cell_type": "code",
   "execution_count": 42,
   "metadata": {},
   "outputs": [
    {
     "data": {
      "text/html": [
       "<div>\n",
       "<style scoped>\n",
       "    .dataframe tbody tr th:only-of-type {\n",
       "        vertical-align: middle;\n",
       "    }\n",
       "\n",
       "    .dataframe tbody tr th {\n",
       "        vertical-align: top;\n",
       "    }\n",
       "\n",
       "    .dataframe thead th {\n",
       "        text-align: right;\n",
       "    }\n",
       "</style>\n",
       "<table border=\"1\" class=\"dataframe\">\n",
       "  <thead>\n",
       "    <tr style=\"text-align: right;\">\n",
       "      <th></th>\n",
       "      <th>service_date</th>\n",
       "      <th>day_type</th>\n",
       "      <th>bus</th>\n",
       "      <th>rail_boardings</th>\n",
       "      <th>total_rides</th>\n",
       "    </tr>\n",
       "  </thead>\n",
       "  <tbody>\n",
       "    <tr>\n",
       "      <th>0</th>\n",
       "      <td>01/01/2001</td>\n",
       "      <td>U</td>\n",
       "      <td>297192</td>\n",
       "      <td>126455</td>\n",
       "      <td>423647</td>\n",
       "    </tr>\n",
       "    <tr>\n",
       "      <th>1</th>\n",
       "      <td>01/02/2001</td>\n",
       "      <td>W</td>\n",
       "      <td>780827</td>\n",
       "      <td>501952</td>\n",
       "      <td>1282779</td>\n",
       "    </tr>\n",
       "    <tr>\n",
       "      <th>2</th>\n",
       "      <td>01/03/2001</td>\n",
       "      <td>W</td>\n",
       "      <td>824923</td>\n",
       "      <td>536432</td>\n",
       "      <td>1361355</td>\n",
       "    </tr>\n",
       "    <tr>\n",
       "      <th>3</th>\n",
       "      <td>01/04/2001</td>\n",
       "      <td>W</td>\n",
       "      <td>870021</td>\n",
       "      <td>550011</td>\n",
       "      <td>1420032</td>\n",
       "    </tr>\n",
       "    <tr>\n",
       "      <th>4</th>\n",
       "      <td>01/05/2001</td>\n",
       "      <td>W</td>\n",
       "      <td>890426</td>\n",
       "      <td>557917</td>\n",
       "      <td>1448343</td>\n",
       "    </tr>\n",
       "  </tbody>\n",
       "</table>\n",
       "</div>"
      ],
      "text/plain": [
       "  service_date day_type     bus  rail_boardings  total_rides\n",
       "0   01/01/2001        U  297192          126455       423647\n",
       "1   01/02/2001        W  780827          501952      1282779\n",
       "2   01/03/2001        W  824923          536432      1361355\n",
       "3   01/04/2001        W  870021          550011      1420032\n",
       "4   01/05/2001        W  890426          557917      1448343"
      ]
     },
     "execution_count": 42,
     "metadata": {},
     "output_type": "execute_result"
    }
   ],
   "source": [
    "df = pd.read_csv(\"datasets/cta_daily_summary_totals.csv\")\n",
    "df.head()"
   ]
  },
  {
   "cell_type": "code",
   "execution_count": 15,
   "metadata": {},
   "outputs": [],
   "source": [
    "# Create empty list\n",
    "datetimes_list = []\n",
    "\n",
    "# Iterate over the dates_list \n",
    "for date_str in df['service_date']:\n",
    "    # Convert each date to a datetime object: date_dt\n",
    "    date_dt = datetime.strptime(date_str, '%m/%d/%Y')\n",
    "    # Append to list\n",
    "    datetimes_list.append(date_dt)"
   ]
  },
  {
   "cell_type": "code",
   "execution_count": 18,
   "metadata": {},
   "outputs": [
    {
     "name": "stdout",
     "output_type": "stream",
     "text": [
      "01/01/2001\n",
      "2001-01-01T00:00:00\n",
      "01/02/2001\n",
      "2001-01-02T00:00:00\n",
      "01/03/2001\n",
      "2001-01-03T00:00:00\n",
      "01/04/2001\n",
      "2001-01-04T00:00:00\n",
      "01/05/2001\n",
      "2001-01-05T00:00:00\n",
      "01/06/2001\n",
      "2001-01-06T00:00:00\n",
      "01/07/2001\n",
      "2001-01-07T00:00:00\n",
      "01/08/2001\n",
      "2001-01-08T00:00:00\n",
      "01/09/2001\n",
      "2001-01-09T00:00:00\n",
      "01/10/2001\n",
      "2001-01-10T00:00:00\n"
     ]
    }
   ],
   "source": [
    "# Loop over the first 10 items of the datetimes_list\n",
    "for item in datetimes_list[:10]:\n",
    "    # Print out the record as a string in the format of 'MM/DD/YYYY'\n",
    "    print(item.strftime('%m/%d/%Y'))\n",
    "    \n",
    "    # Print out the record as an ISO standard string\n",
    "    print(item.isoformat())"
   ]
  },
  {
   "cell_type": "markdown",
   "metadata": {},
   "source": [
    "## Working with Datetime Components and current time"
   ]
  },
  {
   "cell_type": "markdown",
   "metadata": {},
   "source": [
    "### Pieces of Time\n",
    "\n",
    "Saat bekerja dengan objek datetime, Anda sering ingin mengelompokkannya berdasarkan beberapa komponen datetime seperti bulan, tahun, hari, dll. Masing-masing tersedia sebagai atribut pada instance objek datetime.\n",
    "\n",
    "Anda akan bekerja dengan ringkasan keanggotaan harian CTA. Ini berisi kolom berikut, dalam urutan: `service_date`, `day_type`, `bus`, `rail_boardings`, dan `total_rides`."
   ]
  },
  {
   "cell_type": "code",
   "execution_count": 36,
   "metadata": {},
   "outputs": [],
   "source": [
    "# Buat data dalam list\n",
    "daily_summaries = df.values.tolist()"
   ]
  },
  {
   "cell_type": "code",
   "execution_count": 24,
   "metadata": {},
   "outputs": [
    {
     "name": "stdout",
     "output_type": "stream",
     "text": [
      "defaultdict(<class 'int'>, {1: 515062454, 2: 500276873, 3: 557894281, 4: 544878980, 5: 564403630, 6: 553707053, 7: 552970459, 8: 558434623, 9: 574770898, 10: 652199892, 11: 538491629, 12: 500560093})\n"
     ]
    }
   ],
   "source": [
    "# Import module\n",
    "from collections import defaultdict\n",
    "\n",
    "# Create a defaultdict of an integer: monthly_total_rides\n",
    "monthly_total_rides = defaultdict(int)\n",
    "\n",
    "# Loop over the list daily_summaries\n",
    "for daily_summary in daily_summaries:\n",
    "    # Convert the service_date to a datetime object\n",
    "    service_datetime = datetime.strptime(daily_summary[0], '%m/%d/%Y')\n",
    "\n",
    "    # Add the total rides to the current amount for the month\n",
    "    monthly_total_rides[service_datetime.month] += int(daily_summary[4])\n",
    "    \n",
    "# Print monthly_total_rides\n",
    "print(monthly_total_rides)"
   ]
  },
  {
   "cell_type": "markdown",
   "metadata": {},
   "source": [
    "**Note** : Bulan mana yang memiliki jumlah penumpang tertinggi?"
   ]
  },
  {
   "cell_type": "markdown",
   "metadata": {},
   "source": [
    "### Creating DateTime Objects... Now\n",
    "\n",
    "Seringkali saat bekerja dengan objek `datetime`, Anda ingin bekerja di windows atau rentang yang dimulai dari tanggal dan waktu saat ini. Anda bisa melakukan ini menggunakan fungsi `datetime` now. Ada metode `.now()` pada objek datetime dalam modul `datetime` dan metode `.utcnow()`. Metode `.now()` mengembalikan waktu lokal saat ini pada mesin yang menjalankannya, dan `.utcnow()` melakukan hal yang sama tetapi mengembalikan nilai dalam waktu [UTC](https://id.wikipedia.org/wiki/Waktu_Universal_Terkoordinasi). Anda harus terbiasa dengan metode ini."
   ]
  },
  {
   "cell_type": "code",
   "execution_count": 25,
   "metadata": {},
   "outputs": [
    {
     "name": "stdout",
     "output_type": "stream",
     "text": [
      "2020-01-24 10:01:02.773248\n",
      "2020-01-24 10:01:02.774521\n"
     ]
    }
   ],
   "source": [
    "# Import datetime from the datetime module\n",
    "from datetime import datetime\n",
    "\n",
    "# Compute the local datetime: local_dt\n",
    "local_dt = datetime.now()\n",
    "\n",
    "# Print the local datetime\n",
    "print(local_dt)\n",
    "\n",
    "# Compute the UTC datetime: utc_dt\n",
    "utc_dt = datetime.utcnow()\n",
    "\n",
    "# Print the UTC datetime\n",
    "print(utc_dt)"
   ]
  },
  {
   "cell_type": "markdown",
   "metadata": {},
   "source": [
    "**Note** : Ini adalah metode yang sangat berguna untuk diketahui."
   ]
  },
  {
   "cell_type": "markdown",
   "metadata": {},
   "source": [
    "### Timezones\n",
    "\n",
    "Agar dapat bekerja secara efektif dengan zona waktu lain, Anda dapat menggunakan library `pytz`. Untuk menggunakan zona waktu, Anda perlu mengimpor objek `timezone` dari modul `pytz`. Kemudian Anda dapat menggunakan konstruktor `timezone` dan memberikannya nama zona waktu, seperti `CT = timezone('US/Central')`. Anda bisa mendapatkan daftar lengkap nama zona waktu di [Wikipedia](https://en.wikipedia.org/wiki/List_of_tz_database_time_zones). Dalam Python 3, Anda bisa membuat objek datetime \"*aware*\" dengan melewati zona waktu sebagai argumen kata kunci `tzinfo` ke metode `.replace()` pada instance datetime.\n",
    "\n",
    "Objek datetime \"*aware*\" memiliki metode `.astimezone()` yang menerima objek zona waktu dan mengembalikan objek datetime baru di zona waktu yang diinginkan. Jika `tzinfo` tidak diatur untuk objek datetime, ia mengasumsikan zona waktu komputer yang sedang Anda gunakan.\n",
    "\n",
    "List `daily_summaries`, telah disediakan untuk Anda, itu berisi datetime dan penumpang kereta api yang pergi ke New York. Anda perlu menentukan waktu di New York sehingga Anda dapat menyelaraskannya dengan data Otoritas Transit New York."
   ]
  },
  {
   "cell_type": "code",
   "execution_count": 52,
   "metadata": {},
   "outputs": [],
   "source": [
    "# Konversi dataframe ke list\n",
    "daily_summaries_list = df[['service_date', 'total_rides']].values.tolist()"
   ]
  },
  {
   "cell_type": "code",
   "execution_count": 56,
   "metadata": {},
   "outputs": [],
   "source": [
    "# Buat list kosong\n",
    "daily_summaries = []\n",
    "\n",
    "# Iterate over the daily_summaries_list \n",
    "for date, rides in daily_summaries_list[:9]:\n",
    "    # Convert each date to a datetime object: date_dt\n",
    "    date_dt = datetime.strptime(date_str, '%m/%d/%Y')\n",
    "    daily_summaries.append((date_dt, rides))"
   ]
  },
  {
   "cell_type": "code",
   "execution_count": 58,
   "metadata": {},
   "outputs": [
    {
     "name": "stdout",
     "output_type": "stream",
     "text": [
      "Chicago: 2013-12-31 00:00:00-05:51, NY: 2013-12-31 00:51:00-05:00, Ridership: 423647\n",
      "Chicago: 2013-12-31 00:00:00-05:51, NY: 2013-12-31 00:51:00-05:00, Ridership: 1282779\n",
      "Chicago: 2013-12-31 00:00:00-05:51, NY: 2013-12-31 00:51:00-05:00, Ridership: 1361355\n",
      "Chicago: 2013-12-31 00:00:00-05:51, NY: 2013-12-31 00:51:00-05:00, Ridership: 1420032\n",
      "Chicago: 2013-12-31 00:00:00-05:51, NY: 2013-12-31 00:51:00-05:00, Ridership: 1448343\n",
      "Chicago: 2013-12-31 00:00:00-05:51, NY: 2013-12-31 00:51:00-05:00, Ridership: 832757\n",
      "Chicago: 2013-12-31 00:00:00-05:51, NY: 2013-12-31 00:51:00-05:00, Ridership: 545656\n",
      "Chicago: 2013-12-31 00:00:00-05:51, NY: 2013-12-31 00:51:00-05:00, Ridership: 1575927\n",
      "Chicago: 2013-12-31 00:00:00-05:51, NY: 2013-12-31 00:51:00-05:00, Ridership: 1578282\n"
     ]
    }
   ],
   "source": [
    "from pytz import timezone\n",
    "\n",
    "# Create a Timezone object for Chicago\n",
    "chicago_usa_tz = timezone('US/Central')\n",
    "\n",
    "# Create a Timezone object for New York\n",
    "ny_usa_tz = timezone('US/Eastern')\n",
    "\n",
    "# Iterate over the daily_summaries list\n",
    "for orig_dt, ridership in daily_summaries:\n",
    "\n",
    "    # Make the orig_dt timezone \"aware\" for Chicago\n",
    "    chicago_dt = orig_dt.replace(tzinfo=chicago_usa_tz)\n",
    "    \n",
    "    # Convert chicago_dt to the New York Timezone\n",
    "    ny_dt = chicago_dt.astimezone(ny_usa_tz)\n",
    "    \n",
    "    # Print the chicago_dt, ny_dt, and ridership\n",
    "    print('Chicago: %s, NY: %s, Ridership: %s' % (chicago_dt, ny_dt, ridership))"
   ]
  },
  {
   "cell_type": "markdown",
   "metadata": {},
   "source": [
    "## Time Travel (Adding and Subtracting Time)"
   ]
  },
  {
   "cell_type": "markdown",
   "metadata": {},
   "source": [
    "### Finding a time in the future and from the past\n",
    "\n",
    "Kasus umum lainnya ketika bekerja dengan waktu adalah mendapatkan tanggal 30, 60, atau 90 hari di masa lalu dari beberapa tanggal. Dalam Python, objek `timedelta` dari modul `datetime` digunakan untuk mewakili perbedaan dalam objek `datetime`. Anda dapat membuat `timedelta` dengan meneruskan sejumlah argumen kata kunci seperti hari, detik, mikrodetik, milidetik, menit, jam, dan minggu ke `timedelta()`.\n",
    "\n",
    "Setelah Anda memiliki objek timedelta, Anda bisa menambah atau mengurangi objek `datetime` untuk mendapatkan objek `datetime` relatif terhadap objek `datetime` asli.\n",
    "\n",
    "Data dalam dictionary `daily_summaries`, telah disediakan untuk Anda. Ini berisi `datetime` sebagai kunci dengan dict sebagai nilai yang memiliki kunci `'day_type'` dan `'total_ridership'`. List `datetime` untuk meninjau disebut `review_dates` juga tersedia."
   ]
  },
  {
   "cell_type": "code",
   "execution_count": 76,
   "metadata": {},
   "outputs": [],
   "source": [
    "# 'daily_summaries'\n",
    "daily_summaries_list = df[['service_date', 'total_rides', 'day_type']].values.tolist()\n",
    "daily_summaries = {}\n",
    "\n",
    "for date, rides, day in daily_summaries_list:\n",
    "    date_dt = datetime.strptime(date, '%m/%d/%Y')\n",
    "    daily_summaries[date_dt] = {'total_ridership': rides, 'day_type': day}"
   ]
  },
  {
   "cell_type": "code",
   "execution_count": 110,
   "metadata": {},
   "outputs": [],
   "source": [
    "# 'review_dates'\n",
    "review_dates_list = df.loc[4769:, 'service_date']\n",
    "review_dates = []\n",
    "\n",
    "for date in review_dates_list:\n",
    "    date_dt = datetime.strptime(date, '%m/%d/%Y')\n",
    "    review_dates.append(date_dt)"
   ]
  },
  {
   "cell_type": "code",
   "execution_count": 118,
   "metadata": {},
   "outputs": [
    {
     "name": "stdout",
     "output_type": "stream",
     "text": [
      "Date: 2013-12-22 00:00:00, Type: U, Total Ridership: 685457\n",
      "------------------------------------------------------------\n",
      "Date: 2013-11-22 00:00:00, Type: W, Total Ridership: 1752614\n",
      "Date: 2013-12-23 00:00:00, Type: W, Total Ridership: 1236510\n",
      "------------------------------------------------------------\n",
      "Date: 2013-11-23 00:00:00, Type: A, Total Ridership: 1048943\n",
      "Date: 2013-12-24 00:00:00, Type: W, Total Ridership: 815873\n",
      "------------------------------------------------------------\n",
      "Date: 2013-11-24 00:00:00, Type: U, Total Ridership: 674817\n",
      "Date: 2013-12-25 00:00:00, Type: U, Total Ridership: 363078\n",
      "------------------------------------------------------------\n",
      "Date: 2013-11-25 00:00:00, Type: W, Total Ridership: 1641025\n",
      "Date: 2013-12-26 00:00:00, Type: W, Total Ridership: 995622\n",
      "------------------------------------------------------------\n",
      "Date: 2013-11-26 00:00:00, Type: W, Total Ridership: 1681213\n",
      "Date: 2013-12-27 00:00:00, Type: W, Total Ridership: 1191650\n",
      "------------------------------------------------------------\n",
      "Date: 2013-11-27 00:00:00, Type: W, Total Ridership: 1441786\n",
      "Date: 2013-12-28 00:00:00, Type: A, Total Ridership: 911223\n",
      "------------------------------------------------------------\n",
      "Date: 2013-11-28 00:00:00, Type: U, Total Ridership: 554312\n",
      "Date: 2013-12-29 00:00:00, Type: U, Total Ridership: 627779\n",
      "------------------------------------------------------------\n",
      "Date: 2013-11-29 00:00:00, Type: W, Total Ridership: 1074544\n",
      "Date: 2013-12-30 00:00:00, Type: W, Total Ridership: 1142767\n",
      "------------------------------------------------------------\n",
      "Date: 2013-11-30 00:00:00, Type: A, Total Ridership: 1013178\n",
      "Date: 2013-12-31 00:00:00, Type: W, Total Ridership: 116130\n",
      "------------------------------------------------------------\n",
      "Date: 2013-12-01 00:00:00, Type: U, Total Ridership: 704442\n"
     ]
    }
   ],
   "source": [
    "# Import timedelta from the datetime module\n",
    "from datetime import timedelta\n",
    "\n",
    "# Build a timedelta of 30 days: glanceback\n",
    "glanceback = timedelta(days=30)\n",
    "\n",
    "# Iterate over the review_dates as date\n",
    "for date in review_dates:\n",
    "    # Calculate the date 30 days back: prior_period_dt\n",
    "    prior_period_dt = date - glanceback\n",
    "    \n",
    "    # Print the review_date, day_type and total_ridership\n",
    "    print('Date: %s, Type: %s, Total Ridership: %s' %\n",
    "         (date, \n",
    "          daily_summaries[date]['day_type'], \n",
    "          daily_summaries[date]['total_ridership']))\n",
    "    print('------------------------------------------------------------')\n",
    "\n",
    "    # Print the prior_period_dt, day_type and total_ridership\n",
    "    print('Date: %s, Type: %s, Total Ridership: %s' %\n",
    "         (prior_period_dt, \n",
    "          daily_summaries[prior_period_dt]['day_type'], \n",
    "          daily_summaries[prior_period_dt]['total_ridership']))"
   ]
  },
  {
   "cell_type": "markdown",
   "metadata": {},
   "source": [
    "### Finding differences in DateTimes\n",
    "\n",
    "Seperti halnya Anda dapat mengurangi `timedelta` dari `datetime` untuk menemukan tanggal di masa lalu, Anda juga dapat menghitung perbedaan antara dua tanggal untuk mendapatkan `timedelta` sebagai return. Di sini, Anda akan mengetahui berapa banyak waktu yang telah berlalu antara dua tanggal transit.\n",
    "\n",
    "List tuple `date_ranges` disediakan untuk Anda. Kami mengambil tanggal dari dataset kami di setiap 30 catatan, dan kami memasangkan catatan menjadi tuple secara bertahap."
   ]
  },
  {
   "cell_type": "code",
   "execution_count": null,
   "metadata": {},
   "outputs": [],
   "source": [
    "# Iterate over the date_ranges\n",
    "for start_date, end_date in date_ranges:\n",
    "    # Print the End and Start Date\n",
    "    print(end_date, start_date)\n",
    "    # Print the difference between each end and start date\n",
    "    print(end_date - start_date)"
   ]
  },
  {
   "cell_type": "markdown",
   "metadata": {},
   "source": [
    "## HELP! Libraries to make it easier"
   ]
  },
  {
   "cell_type": "markdown",
   "metadata": {},
   "source": [
    "### Localizing time with pendulum\n",
    "\n",
    "Di sini, Anda akan menggunakan `pendulum` untuk berlatih melakukan beberapa operasi datetime umum!"
   ]
  },
  {
   "cell_type": "code",
   "execution_count": 121,
   "metadata": {},
   "outputs": [],
   "source": [
    "# Install modul pendulum\n",
    "#!pip install pendulum"
   ]
  },
  {
   "cell_type": "code",
   "execution_count": 122,
   "metadata": {},
   "outputs": [
    {
     "name": "stdout",
     "output_type": "stream",
     "text": [
      "2020-01-24T13:48:46.408894-08:00\n"
     ]
    }
   ],
   "source": [
    "# Import the pendulum module\n",
    "import pendulum\n",
    "\n",
    "# Create a now datetime for Tokyo: tokyo_dt\n",
    "tokyo_dt = pendulum.now('Asia/Tokyo')\n",
    "\n",
    "# Covert the tokyo_dt to Los Angeles: la_dt\n",
    "la_dt = tokyo_dt.in_timezone('America/Los_Angeles')\n",
    "\n",
    "# Print the ISO 8601 string of la_dt\n",
    "print(la_dt.to_iso8601_string())"
   ]
  },
  {
   "cell_type": "markdown",
   "metadata": {},
   "source": [
    "### Humanizing Differences with Pendulum\n",
    "\n",
    "Pendulum menyediakan cara yang powerful untuk mengkonversi string ke objek `pendulum` `datetime` melalui metode `.parse()`. Cukup berikan string tanggal dan itu akan mengubahnya menjadi `pendulum` `datetime` yang valid. Secara default, `.parse()` dapat memproses tanggal dalam format ISO 8601. Untuk mengizinkannya mem-parsing format tanggal lainnya, gunakan `strict = False`.\n",
    "\n",
    "Ini juga memiliki alternatif yang bagus untuk `timedelta`. Saat menghitung perbedaan antara dua tanggal dengan pengurangan, `pendulum` menyediakan metode seperti `.in_days()` untuk menampilkan perbedaan dalam metrik yang dipilih. Ini hanyalah awal dari apa yang pendulum dapat lakukan untuk Anda.\n",
    "\n",
    "*Anda dapat mempelajari lebih lanjut di [dokumentasi]((https://pendulum.eustace.io/docs/)) pendulum*"
   ]
  },
  {
   "cell_type": "code",
   "execution_count": null,
   "metadata": {},
   "outputs": [],
   "source": [
    "# Iterate over date_ranges\n",
    "for start_date, end_date in date_ranges:\n",
    "\n",
    "    # Convert the start_date string to a pendulum date: start_dt \n",
    "    start_dt = pendulum.parse(start_date, strict=False)\n",
    "    \n",
    "    # Convert the end_date string to a pendulum date: end_dt \n",
    "    end_dt = pendulum.parse(end_date, strict=False)\n",
    "    \n",
    "    # Print the End and Start Date\n",
    "    print(end_dt, start_dt)\n",
    "    \n",
    "    # Calculate the difference between end_dt and start_dt: diff_period\n",
    "    diff_period = end_dt - start_dt\n",
    "    \n",
    "    # Print the difference in days\n",
    "    print(diff_period.in_days())"
   ]
  },
  {
   "cell_type": "code",
   "execution_count": null,
   "metadata": {},
   "outputs": [],
   "source": []
  },
  {
   "cell_type": "code",
   "execution_count": null,
   "metadata": {},
   "outputs": [],
   "source": []
  },
  {
   "cell_type": "code",
   "execution_count": null,
   "metadata": {},
   "outputs": [],
   "source": []
  }
 ],
 "metadata": {
  "kernelspec": {
   "display_name": "Python 3",
   "language": "python",
   "name": "python3"
  },
  "language_info": {
   "codemirror_mode": {
    "name": "ipython",
    "version": 3
   },
   "file_extension": ".py",
   "mimetype": "text/x-python",
   "name": "python",
   "nbconvert_exporter": "python",
   "pygments_lexer": "ipython3",
   "version": "3.7.3"
  }
 },
 "nbformat": 4,
 "nbformat_minor": 2
}
