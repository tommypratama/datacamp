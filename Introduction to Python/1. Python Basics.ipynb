{
 "cells": [
  {
   "cell_type": "markdown",
   "metadata": {},
   "source": [
    "# 1. Python Basics\n",
    "\n",
    "Pengantar konsep dasar Python. Pelajari cara menggunakan Python secara interaktif dan dengan menggunakan skrip. Buat variabel pertama Anda dan kenali diri Anda dengan tipe data dasar Python."
   ]
  },
  {
   "cell_type": "markdown",
   "metadata": {},
   "source": [
    "## The Python Interface"
   ]
  },
  {
   "cell_type": "code",
   "execution_count": 1,
   "metadata": {},
   "outputs": [
    {
     "name": "stdout",
     "output_type": "stream",
     "text": [
      "0.625\n",
      "17\n"
     ]
    }
   ],
   "source": [
    "# Example, do not modify!\n",
    "print(5 / 8)\n",
    "\n",
    "# Print the sum of 7 and 10\n",
    "print(7 + 10)"
   ]
  },
  {
   "cell_type": "markdown",
   "metadata": {},
   "source": [
    "## Kapan menggunakan Python?\n",
    "\n",
    "Python adalah bahasa yang cukup serbaguna. Untuk aplikasi apa Anda bisa menggunakan Python?\n",
    "\n",
    "- Melakukan perhitungan cepat\n",
    "- Untuk bisnis baru Anda, Anda ingin mengembangkan situs web berbasis database.\n",
    "- Membersihkan dan menganalisis hasil survei kepuasan terbaru."
   ]
  },
  {
   "cell_type": "markdown",
   "metadata": {},
   "source": [
    "## Komentar Kode\n",
    "\n",
    "Untuk menambahkan komentar ke skrip Python Anda, Anda dapat menggunakan tag `#` . Komentar ini tidak dijalankan sebagai kode Python, sehingga tidak akan mempengaruhi hasil Anda."
   ]
  },
  {
   "cell_type": "code",
   "execution_count": 2,
   "metadata": {},
   "outputs": [
    {
     "name": "stdout",
     "output_type": "stream",
     "text": [
      "0.625\n",
      "17\n"
     ]
    }
   ],
   "source": [
    "# Division\n",
    "print(5 / 8)\n",
    "\n",
    "# Addition\n",
    "print(7 + 10)"
   ]
  },
  {
   "cell_type": "markdown",
   "metadata": {},
   "source": [
    "## Python sebagai kalkulator\n",
    "\n",
    "Python sangat cocok untuk melakukan perhitungan dasar. Selain penambahan, pengurangan, penggandaan, dan pembagian, ada juga dukungan untuk operasi yang lebih maju seperti:\n",
    "\n",
    "- **Eksponensial** : `**` Misalnya `4 ** 2` akan memberi 16.\n",
    "- **Modulo** : `%` Operator ini mengembalikan sisa pembagian angka ke kiri dengan angka di sebelah kanannya. Misalnya `18 % 7` sama dengan 4.\n",
    "\n",
    "Misalkan Anda memiliki $100, yang dapat Anda investasikan dengan pengembalian 10% setiap tahun. Setelah satu tahun, 100 × 1.1 = 110100 × 1.1 = 110 dolar, dan setelah dua tahun 100 × 1.1 × 1.1 = 121100 × 1.1 × 1.1 = 121. Tambahkan kode untuk menghitung berapa banyak uang yang Anda dapatkan setelah 7 tahun, dan cetak hasilnya."
   ]
  },
  {
   "cell_type": "code",
   "execution_count": 3,
   "metadata": {},
   "outputs": [
    {
     "name": "stdout",
     "output_type": "stream",
     "text": [
      "10\n",
      "0\n",
      "15\n",
      "5.0\n",
      "4\n",
      "16\n",
      "194.87171000000012\n"
     ]
    }
   ],
   "source": [
    "# Addition, subtraction\n",
    "print(5 + 5)\n",
    "print(5 - 5)\n",
    "\n",
    "# Multiplication, division, modulo, and exponentiation\n",
    "print(3 * 5)\n",
    "print(10 / 2)\n",
    "print(18 % 7)\n",
    "print(4 ** 2)\n",
    "\n",
    "# How much is your $100 worth after 7 years?\n",
    "print(100 * 1.1 ** 7)"
   ]
  },
  {
   "cell_type": "markdown",
   "metadata": {},
   "source": [
    "## Variables and Types\n",
    "\n",
    "Dalam Python, sebuah variabel memungkinkan Anda untuk merujuk pada nilai dengan nama. Untuk membuat variabel gunakan `=` , seperti contoh ini:\n",
    "\n",
    "`x = 5`\n",
    "\n",
    "Anda sekarang dapat menggunakan nama variabel `x`, alih-alih nilai aktual `5`. Ingat, tanda `=` dalam Python berarti *assignment*, itu tidak menguji kesetaraan! (Tidak setara)"
   ]
  },
  {
   "cell_type": "code",
   "execution_count": 4,
   "metadata": {},
   "outputs": [
    {
     "name": "stdout",
     "output_type": "stream",
     "text": [
      "100\n"
     ]
    }
   ],
   "source": [
    "# Create a variable savings\n",
    "savings = 100\n",
    "\n",
    "# Print out savings\n",
    "print(savings)"
   ]
  },
  {
   "cell_type": "markdown",
   "metadata": {},
   "source": [
    "### Perhitungan dengan variabel"
   ]
  },
  {
   "cell_type": "code",
   "execution_count": 5,
   "metadata": {},
   "outputs": [
    {
     "name": "stdout",
     "output_type": "stream",
     "text": [
      "194.87171000000012\n"
     ]
    }
   ],
   "source": [
    "# Create a variable savings\n",
    "savings = 100\n",
    "\n",
    "# Create a variable growth_multiplier\n",
    "growth_multiplier = 1.1\n",
    "\n",
    "# Calculate result\n",
    "result = savings * growth_multiplier ** 7\n",
    "\n",
    "# Print out result\n",
    "print(result)"
   ]
  },
  {
   "cell_type": "markdown",
   "metadata": {},
   "source": [
    "### Jenis variabel lainnya\n",
    "\n",
    "Dalam latihan sebelumnya, Anda bekerja dengan dua tipe data Python:\n",
    "\n",
    "* `int`, atau integer: angka tanpa bagian pecahan. Variabel `savings` dengan nilai 100, adalah contoh bilangan bulat.\n",
    "* `float`, atau floating point: angka yang memiliki bagian bilangan bulat dan pecahan, dipisahkan oleh sebuah titik. `growth_multiplier`, dengan nilai 1.1, adalah contoh float.\n",
    "\n",
    "Selain tipe data numerik, ada dua tipe data yang sangat umum:\n",
    "\n",
    "* `str`, atau string: tipe untuk mewakili teks. Anda dapat menggunakan tanda kutip tunggal atau ganda untuk membangun string.\n",
    "* `bool`, atau boolean: tipe untuk mewakili nilai-nilai logis. Hanya bisa `True` atau `False` (huruf besar itu penting!)."
   ]
  },
  {
   "cell_type": "code",
   "execution_count": 6,
   "metadata": {},
   "outputs": [],
   "source": [
    "# Create a variable desc\n",
    "desc = \"compound interest\"\n",
    "\n",
    "# Create a variable profitable\n",
    "profitable = True"
   ]
  },
  {
   "cell_type": "markdown",
   "metadata": {},
   "source": [
    "### Mengecek jenis variabel\n",
    "\n",
    "Untuk mengetahui tipe nilai atau variabel yang merujuk pada nilai itu, Anda bisa menggunakan fungsi `type()`. Misalkan Anda mendefinisikan variabel `a`, tetapi Anda lupa jenis variabel ini. Untuk menentukan tipe `a`, cukup jalankan:\n",
    "\n",
    "`type(a)`"
   ]
  },
  {
   "cell_type": "code",
   "execution_count": 7,
   "metadata": {},
   "outputs": [
    {
     "name": "stdout",
     "output_type": "stream",
     "text": [
      "<class 'float'>\n",
      "<class 'str'>\n",
      "<class 'bool'>\n"
     ]
    }
   ],
   "source": [
    "a = 194.87171000000012\n",
    "b = 'True'\n",
    "c = False\n",
    "\n",
    "# Cek jenis variabel\n",
    "print(type(a))\n",
    "print(type(b))\n",
    "print(type(c))"
   ]
  },
  {
   "cell_type": "markdown",
   "metadata": {},
   "source": [
    "### Operasi dengan tipe lain\n",
    "\n",
    "Ketika Anda menjumlahkan dua string, misalnya, Anda akan mendapatkan output yang berbeda dari saat menjumlahkan dua bilangan bulat (integer) atau dua boolean."
   ]
  },
  {
   "cell_type": "code",
   "execution_count": 8,
   "metadata": {},
   "outputs": [
    {
     "name": "stdout",
     "output_type": "stream",
     "text": [
      "<class 'float'>\n",
      "compound interestcompound interest\n"
     ]
    }
   ],
   "source": [
    "savings = 100\n",
    "growth_multiplier = 1.1\n",
    "desc = \"compound interest\"\n",
    "\n",
    "# Assign product of growth_multiplier and savings to year1\n",
    "year1 = growth_multiplier * savings\n",
    "\n",
    "# Print the type of year1\n",
    "print(type(year1))\n",
    "\n",
    "# Assign sum of desc and desc to doubledesc\n",
    "doubledesc = desc + desc\n",
    "\n",
    "# Print out doubledesc\n",
    "print(doubledesc)"
   ]
  },
  {
   "cell_type": "markdown",
   "metadata": {},
   "source": [
    "### Jenis konversi\n",
    "\n",
    "Menggunakan operator `+` untuk menggabungkan dua string dapat sangat berguna dalam membangun pesan khusus.\n",
    "\n",
    "Misalnya, bahwa Anda telah menghitung pengembalian investasi Anda dan ingin merangkum hasilnya dalam sebuah string. Dengan asumsi bilangan bulat `savings` dan float `result` didefinisikan seperti ini:\n",
    "\n",
    "`print(\"I started with $\" + savings + \" and now have $\" + result + \". Awesome!\")`\n",
    "\n",
    "Kode di atas tidak akan bekerja (error), karena Anda tidak bisa hanya menjumlahkan string dan integer / float.\n",
    "\n",
    "Untuk memperbaiki kesalahan di atas, Anda harus secara eksplisit mengkonversi jenis variabel Anda. Lebih khusus lagi, Anda perlu `str()`, untuk mengkonversi nilai menjadi string. `str(savings)`, misalnya, akan mengonversi bilangan bulat menjadi string.\n",
    "\n",
    "Fungsi serupa lainnya yaitu `int()`, `float()` dan `bool()` akan membantu Anda mengubah nilai Python menjadi tipe apa pun."
   ]
  },
  {
   "cell_type": "code",
   "execution_count": 9,
   "metadata": {},
   "outputs": [
    {
     "name": "stdout",
     "output_type": "stream",
     "text": [
      "I started with $100 and now have $194.87171000000012. Awesome!\n"
     ]
    }
   ],
   "source": [
    "# Definition of savings and result\n",
    "savings = 100\n",
    "result = 100 * 1.10 ** 7\n",
    "\n",
    "# Fix the printout\n",
    "print(\"I started with $\" + str(savings) + \" and now have $\" + str(result) + \". Awesome!\")\n",
    "\n",
    "# Definition of pi_string\n",
    "pi_string = \"3.1415926\"\n",
    "\n",
    "# Convert pi_string into float: pi_float\n",
    "pi_float = float(pi_string)"
   ]
  },
  {
   "cell_type": "markdown",
   "metadata": {},
   "source": [
    "### Bisakah Python menangani semuanya?\n",
    "\n",
    "Sekarang setelah Anda mengetahui lebih banyak tentang menggabungkan berbagai sumber informasi, lihat empat ekspresi Python di bawah ini."
   ]
  },
  {
   "cell_type": "code",
   "execution_count": 10,
   "metadata": {},
   "outputs": [
    {
     "data": {
      "text/plain": [
       "'I can add integers, like 5 to strings.'"
      ]
     },
     "execution_count": 10,
     "metadata": {},
     "output_type": "execute_result"
    }
   ],
   "source": [
    "\"I can add integers, like \" + str(5) + \" to strings.\""
   ]
  },
  {
   "cell_type": "code",
   "execution_count": 11,
   "metadata": {},
   "outputs": [
    {
     "data": {
      "text/plain": [
       "'I said Hey Hey Hey!'"
      ]
     },
     "execution_count": 11,
     "metadata": {},
     "output_type": "execute_result"
    }
   ],
   "source": [
    "\"I said \" + (\"Hey \" * 2) + \"Hey!\""
   ]
  },
  {
   "cell_type": "code",
   "execution_count": 12,
   "metadata": {},
   "outputs": [
    {
     "ename": "TypeError",
     "evalue": "can only concatenate str (not \"int\") to str",
     "output_type": "error",
     "traceback": [
      "\u001b[0;31m---------------------------------------------------------------------------\u001b[0m",
      "\u001b[0;31mTypeError\u001b[0m                                 Traceback (most recent call last)",
      "\u001b[0;32m<ipython-input-12-5607077cba1e>\u001b[0m in \u001b[0;36m<module>\u001b[0;34m\u001b[0m\n\u001b[0;32m----> 1\u001b[0;31m \u001b[0;34m\"The correct answer to this multiple choice exercise is answer number \"\u001b[0m \u001b[0;34m+\u001b[0m \u001b[0;36m2\u001b[0m\u001b[0;34m\u001b[0m\u001b[0;34m\u001b[0m\u001b[0m\n\u001b[0m",
      "\u001b[0;31mTypeError\u001b[0m: can only concatenate str (not \"int\") to str"
     ]
    }
   ],
   "source": [
    "\"The correct answer to this multiple choice exercise is answer number \" + 2"
   ]
  },
  {
   "cell_type": "code",
   "execution_count": 13,
   "metadata": {},
   "outputs": [
    {
     "data": {
      "text/plain": [
       "1"
      ]
     },
     "execution_count": 13,
     "metadata": {},
     "output_type": "execute_result"
    }
   ],
   "source": [
    "True + False"
   ]
  },
  {
   "cell_type": "code",
   "execution_count": null,
   "metadata": {},
   "outputs": [],
   "source": []
  }
 ],
 "metadata": {
  "kernelspec": {
   "display_name": "Python 3",
   "language": "python",
   "name": "python3"
  },
  "language_info": {
   "codemirror_mode": {
    "name": "ipython",
    "version": 3
   },
   "file_extension": ".py",
   "mimetype": "text/x-python",
   "name": "python",
   "nbconvert_exporter": "python",
   "pygments_lexer": "ipython3",
   "version": "3.7.3"
  }
 },
 "nbformat": 4,
 "nbformat_minor": 2
}
