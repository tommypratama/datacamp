{
 "cells": [
  {
   "cell_type": "markdown",
   "metadata": {},
   "source": [
    "# 3. Functions and Packages\n",
    "\n",
    "Anda akan belajar cara menggunakan fungsi, metode, dan paket untuk secara efisien memanfaatkan kode yang telah ditulis pengembang Python. Tujuannya adalah untuk mengurangi jumlah kode yang Anda butuhkan untuk menyelesaikan masalah yang menantang!"
   ]
  },
  {
   "cell_type": "markdown",
   "metadata": {},
   "source": [
    "### Familiar functions\n",
    "\n",
    "Di luar kotak, Python menawarkan banyak fungsi bawaan untuk menjadikan hidup Anda sebagai ilmuwan data lebih mudah. Anda sudah tahu dua fungsi seperti: `print()` dan `type()`. Anda juga telah menggunakan fungsi `str()`, `int()`, `bool()` dan `float()` untuk beralih di antara tipe data. Ini adalah fungsi bawaan juga.\n",
    "\n",
    "Memanggil suatu fungsi itu mudah. Untuk mendapatkan tipe 3.0 dan menyimpan output sebagai variabel baru `result`, Anda bisa menggunakan yang berikut:\n",
    "\n",
    "<pre>result = type(3.0)</pre>\n",
    "\n",
    "Secara umum untuk memanggil fungsi dan menyimpan hasilnya ke variabel adalah:\n",
    "\n",
    "<pre>output = function_name(input)</pre>"
   ]
  },
  {
   "cell_type": "code",
   "execution_count": 1,
   "metadata": {},
   "outputs": [
    {
     "name": "stdout",
     "output_type": "stream",
     "text": [
      "<class 'list'>\n",
      "4\n"
     ]
    }
   ],
   "source": [
    "# Create variables var1 and var2\n",
    "var1 = [1, 2, 3, 4]\n",
    "var2 = True\n",
    "\n",
    "# Print out type of var1\n",
    "print(type(var1))\n",
    "\n",
    "# Print out length of var1\n",
    "print(len(var1))\n",
    "\n",
    "# Convert var2 to an integer: out2\n",
    "out2 = int(var2)"
   ]
  },
  {
   "cell_type": "markdown",
   "metadata": {},
   "source": [
    "### Help!\n",
    "\n",
    "Mungkin Anda sudah tahu nama fungsi Python, tetapi Anda masih harus mencari cara menggunakannya. Ironisnya, Anda harus meminta informasi tentang suatu fungsi dengan fungsi lain: `help()`. Khusus di IPython, Anda juga dapat menggunakan `?` sebelum nama fungsi.\n",
    "\n",
    "Untuk mendapatkan bantuan pada fungsi `max()`, misalnya, Anda dapat menggunakan salah satu panggilan ini:\n",
    "\n",
    "<pre>\n",
    "help(max)\n",
    "?max\n",
    "</pre>"
   ]
  },
  {
   "cell_type": "code",
   "execution_count": 3,
   "metadata": {},
   "outputs": [
    {
     "name": "stdout",
     "output_type": "stream",
     "text": [
      "Help on class complex in module builtins:\n",
      "\n",
      "class complex(object)\n",
      " |  complex(real=0, imag=0)\n",
      " |  \n",
      " |  Create a complex number from a real part and an optional imaginary part.\n",
      " |  \n",
      " |  This is equivalent to (real + imag*1j) where imag defaults to 0.\n",
      " |  \n",
      " |  Methods defined here:\n",
      " |  \n",
      " |  __abs__(self, /)\n",
      " |      abs(self)\n",
      " |  \n",
      " |  __add__(self, value, /)\n",
      " |      Return self+value.\n",
      " |  \n",
      " |  __bool__(self, /)\n",
      " |      self != 0\n",
      " |  \n",
      " |  __divmod__(self, value, /)\n",
      " |      Return divmod(self, value).\n",
      " |  \n",
      " |  __eq__(self, value, /)\n",
      " |      Return self==value.\n",
      " |  \n",
      " |  __float__(self, /)\n",
      " |      float(self)\n",
      " |  \n",
      " |  __floordiv__(self, value, /)\n",
      " |      Return self//value.\n",
      " |  \n",
      " |  __format__(...)\n",
      " |      complex.__format__() -> str\n",
      " |      \n",
      " |      Convert to a string according to format_spec.\n",
      " |  \n",
      " |  __ge__(self, value, /)\n",
      " |      Return self>=value.\n",
      " |  \n",
      " |  __getattribute__(self, name, /)\n",
      " |      Return getattr(self, name).\n",
      " |  \n",
      " |  __getnewargs__(...)\n",
      " |  \n",
      " |  __gt__(self, value, /)\n",
      " |      Return self>value.\n",
      " |  \n",
      " |  __hash__(self, /)\n",
      " |      Return hash(self).\n",
      " |  \n",
      " |  __int__(self, /)\n",
      " |      int(self)\n",
      " |  \n",
      " |  __le__(self, value, /)\n",
      " |      Return self<=value.\n",
      " |  \n",
      " |  __lt__(self, value, /)\n",
      " |      Return self<value.\n",
      " |  \n",
      " |  __mod__(self, value, /)\n",
      " |      Return self%value.\n",
      " |  \n",
      " |  __mul__(self, value, /)\n",
      " |      Return self*value.\n",
      " |  \n",
      " |  __ne__(self, value, /)\n",
      " |      Return self!=value.\n",
      " |  \n",
      " |  __neg__(self, /)\n",
      " |      -self\n",
      " |  \n",
      " |  __pos__(self, /)\n",
      " |      +self\n",
      " |  \n",
      " |  __pow__(self, value, mod=None, /)\n",
      " |      Return pow(self, value, mod).\n",
      " |  \n",
      " |  __radd__(self, value, /)\n",
      " |      Return value+self.\n",
      " |  \n",
      " |  __rdivmod__(self, value, /)\n",
      " |      Return divmod(value, self).\n",
      " |  \n",
      " |  __repr__(self, /)\n",
      " |      Return repr(self).\n",
      " |  \n",
      " |  __rfloordiv__(self, value, /)\n",
      " |      Return value//self.\n",
      " |  \n",
      " |  __rmod__(self, value, /)\n",
      " |      Return value%self.\n",
      " |  \n",
      " |  __rmul__(self, value, /)\n",
      " |      Return value*self.\n",
      " |  \n",
      " |  __rpow__(self, value, mod=None, /)\n",
      " |      Return pow(value, self, mod).\n",
      " |  \n",
      " |  __rsub__(self, value, /)\n",
      " |      Return value-self.\n",
      " |  \n",
      " |  __rtruediv__(self, value, /)\n",
      " |      Return value/self.\n",
      " |  \n",
      " |  __str__(self, /)\n",
      " |      Return str(self).\n",
      " |  \n",
      " |  __sub__(self, value, /)\n",
      " |      Return self-value.\n",
      " |  \n",
      " |  __truediv__(self, value, /)\n",
      " |      Return self/value.\n",
      " |  \n",
      " |  conjugate(...)\n",
      " |      complex.conjugate() -> complex\n",
      " |      \n",
      " |      Return the complex conjugate of its argument. (3-4j).conjugate() == 3+4j.\n",
      " |  \n",
      " |  ----------------------------------------------------------------------\n",
      " |  Static methods defined here:\n",
      " |  \n",
      " |  __new__(*args, **kwargs) from builtins.type\n",
      " |      Create and return a new object.  See help(type) for accurate signature.\n",
      " |  \n",
      " |  ----------------------------------------------------------------------\n",
      " |  Data descriptors defined here:\n",
      " |  \n",
      " |  imag\n",
      " |      the imaginary part of a complex number\n",
      " |  \n",
      " |  real\n",
      " |      the real part of a complex number\n",
      "\n"
     ]
    }
   ],
   "source": [
    "help(complex)"
   ]
  },
  {
   "cell_type": "markdown",
   "metadata": {},
   "source": [
    "### Multiple arguments\n",
    "\n",
    "Dalam latihan sebelumnya, tanda kurung siku di sekitar `imag` dalam dokumentasi menunjukkan kepada kita bahwa argumen `imag` adalah opsional. Tapi Python juga menggunakan cara berbeda untuk memberi tahu pengguna tentang argumen yang opsional.\n",
    "\n",
    "Kita coba lihat dokumentasi bantuan `sorted()`"
   ]
  },
  {
   "cell_type": "code",
   "execution_count": 4,
   "metadata": {},
   "outputs": [
    {
     "name": "stdout",
     "output_type": "stream",
     "text": [
      "Help on built-in function sorted in module builtins:\n",
      "\n",
      "sorted(iterable, /, *, key=None, reverse=False)\n",
      "    Return a new list containing all items from the iterable in ascending order.\n",
      "    \n",
      "    A custom key function can be supplied to customize the sort order, and the\n",
      "    reverse flag can be set to request the result in descending order.\n",
      "\n"
     ]
    }
   ],
   "source": [
    "help(sorted)"
   ]
  },
  {
   "cell_type": "markdown",
   "metadata": {},
   "source": [
    "Anda akan melihat bahwa `sorted()` membutuhkan tiga argumen: `iterable`, `key` dan `reverse`.\n",
    "\n",
    "`key=None` berarti bahwa jika Anda tidak menentukan argumen `key`, itu akan menjadi `None`. `reverse=False` berarti bahwa jika Anda tidak menentukan argumen `reverse`, itu akan `False`.\n",
    "\n",
    "Dalam latihan ini, Anda hanya perlu menentukan `iterable` dan `reverse`, bukan `key`. Input pertama yang Anda lewati untuk `sorted()` akan dicocokkan dengan argumen `iterable`, tetapi bagaimana dengan input kedua? Untuk memberi tahu Python Anda ingin menentukan `reverse` tanpa mengubah apa pun tentang `key`, Anda dapat menggunakan `=` :\n",
    "\n",
    "<pre>sorted(___, reverse = ___)</pre>\n",
    "\n",
    "Dua `lists` telah dibuat untuk Anda. Bisakah Anda menempelkannya bersama dan mengurutkannya dalam urutan menurun (*descending*) ?"
   ]
  },
  {
   "cell_type": "code",
   "execution_count": 5,
   "metadata": {},
   "outputs": [
    {
     "name": "stdout",
     "output_type": "stream",
     "text": [
      "[20.0, 18.0, 11.25, 10.75, 9.5]\n"
     ]
    }
   ],
   "source": [
    "# Create lists first and second\n",
    "first = [11.25, 18.0, 20.0]\n",
    "second = [10.75, 9.50]\n",
    "\n",
    "# Paste together first and second: full\n",
    "full = first + second\n",
    "\n",
    "# Sort full in descending order: full_sorted\n",
    "full_sorted = sorted(full, reverse=True)\n",
    "\n",
    "# Print out full_sorted\n",
    "print(full_sorted)"
   ]
  },
  {
   "cell_type": "markdown",
   "metadata": {},
   "source": [
    "## Methods\n",
    "\n",
    "### String Methods\n",
    "\n",
    "String dapat digunakan dengan banyak metode. Ikuti instruksi dengan seksama untuk menemukan beberapa dari mereka. Jika Anda ingin menemukan mereka lebih terinci, Anda selalu bisa mengetikkan `help(str)` di IPython Shell."
   ]
  },
  {
   "cell_type": "code",
   "execution_count": 6,
   "metadata": {},
   "outputs": [
    {
     "name": "stdout",
     "output_type": "stream",
     "text": [
      "poolhouse POOLHOUSE\n",
      "3\n"
     ]
    }
   ],
   "source": [
    "# string to experiment with: place\n",
    "place = \"poolhouse\"\n",
    "\n",
    "# Use upper() on place: place_up\n",
    "place_up = place.upper()\n",
    "\n",
    "# Print out place and place_up\n",
    "print(place, place_up)\n",
    "\n",
    "# Print out the number of o's in place\n",
    "print(place.count('o'))"
   ]
  },
  {
   "cell_type": "markdown",
   "metadata": {},
   "source": [
    "### List Methods\n",
    "\n",
    "Strings bukan satu-satunya tipe Python yang memiliki metode yang terkait dengannya. `Lists`, `float`, `integers` dan `boolean` juga merupakan tipe yang dikemas dengan banyak metode yang berguna. Dalam latihan ini, Anda akan bereksperimen dengan:\n",
    "\n",
    "* **index()**, untuk mendapatkan indeks elemen pertama dari list yang cocok dengan input.\n",
    "* **count()**, untuk mendapatkan berapa kali elemen muncul dalam list."
   ]
  },
  {
   "cell_type": "code",
   "execution_count": 7,
   "metadata": {},
   "outputs": [
    {
     "name": "stdout",
     "output_type": "stream",
     "text": [
      "2\n",
      "1\n"
     ]
    }
   ],
   "source": [
    "# Create list areas\n",
    "areas = [11.25, 18.0, 20.0, 10.75, 9.50]\n",
    "\n",
    "# Print out the index of the element 20.0\n",
    "print(areas.index(20.0))\n",
    "\n",
    "# Print out how often 9.50 appears in areas\n",
    "print(areas.count(9.50))"
   ]
  },
  {
   "cell_type": "markdown",
   "metadata": {},
   "source": [
    "Sebagian besar metode list akan mengubah list ketika dipanggil. Contohnya adalah:\n",
    "\n",
    "* **append()**, untuk menambahkan elemen ke list\n",
    "* **remove()**, untuk menghapus elemen pertama dari list yang cocok dengan input\n",
    "* **reverse()**, untuk membalik urutan elemen dalam list."
   ]
  },
  {
   "cell_type": "code",
   "execution_count": 9,
   "metadata": {},
   "outputs": [
    {
     "name": "stdout",
     "output_type": "stream",
     "text": [
      "[11.25, 18.0, 20.0, 10.75, 9.5, 24.5, 15.45]\n",
      "[15.45, 24.5, 9.5, 10.75, 20.0, 18.0, 11.25]\n"
     ]
    }
   ],
   "source": [
    "# Create list areas\n",
    "areas = [11.25, 18.0, 20.0, 10.75, 9.50]\n",
    "\n",
    "# Use append twice to add poolhouse and garage size\n",
    "areas.append(24.5)\n",
    "areas.append(15.45)\n",
    "\n",
    "# Print out areas\n",
    "print(areas)\n",
    "\n",
    "# Reverse the orders of the elements in areas\n",
    "areas.reverse()\n",
    "\n",
    "# Print out areas\n",
    "print(areas)"
   ]
  },
  {
   "cell_type": "markdown",
   "metadata": {},
   "source": [
    "## Packages\n",
    "\n",
    "### Import package\n",
    "\n",
    "Untuk menggunakan `pi` konstan, Anda membutuhkan paket matematika. Variabel `r` sudah dikodekan dalam skrip. Isi kode untuk menghitung `C` dan `A` dan cetak hasilnya dengan fungsi `print()`."
   ]
  },
  {
   "cell_type": "code",
   "execution_count": 10,
   "metadata": {},
   "outputs": [
    {
     "name": "stdout",
     "output_type": "stream",
     "text": [
      "Circumference: 2.701769682087222\n",
      "Area: 0.5808804816487527\n"
     ]
    }
   ],
   "source": [
    "# Definition of radius\n",
    "r = 0.43\n",
    "\n",
    "# Import the math package\n",
    "import math\n",
    "\n",
    "# Calculate C\n",
    "C = 2 * math.pi * r\n",
    "\n",
    "# Calculate A\n",
    "A = math.pi * r ** 2\n",
    "\n",
    "# Build printout\n",
    "print(\"Circumference: \" + str(C))\n",
    "print(\"Area: \" + str(A))"
   ]
  },
  {
   "cell_type": "markdown",
   "metadata": {},
   "source": [
    "### Selective import\n",
    "\n",
    "Import secara umum, seperti `import math`, membuat semua fungsionalitas dari paket matematika tersedia untuk Anda. Namun, jika Anda memutuskan untuk hanya menggunakan bagian tertentu dari suatu paket, Anda selalu dapat membuat `import` Anda lebih selektif:\n",
    "\n",
    "<pre>from math import pi</pre>\n",
    "\n",
    "Katakanlah orbit Bulan di sekitar planet Bumi adalah lingkaran yang sempurna, dengan jari-jari `r` (dalam km) yang ditentukan dalam skrip."
   ]
  },
  {
   "cell_type": "code",
   "execution_count": 12,
   "metadata": {},
   "outputs": [
    {
     "name": "stdout",
     "output_type": "stream",
     "text": [
      "40317.10572106901\n"
     ]
    }
   ],
   "source": [
    "# Definition of radius\n",
    "r = 192500\n",
    "\n",
    "# Import radians function of math package\n",
    "from math import radians\n",
    "\n",
    "# Travel distance of Moon over 12 degrees. Store in dist.\n",
    "dist = r * radians(12)\n",
    "\n",
    "# Print out dist\n",
    "print(dist)"
   ]
  },
  {
   "cell_type": "markdown",
   "metadata": {},
   "source": [
    "### Different ways of importing\n",
    "\n",
    "Ada beberapa cara untuk mengimpor paket dan modul ke Python. Bergantung pada panggilan `import`, Anda harus menggunakan kode Python yang berbeda.\n",
    "\n",
    "Misalkan Anda ingin menggunakan fungsi `inv()`, yang ada dalam subpackage `linalg` dari paket scipy. Anda ingin dapat menggunakan fungsi ini sebagai berikut:\n",
    "\n",
    "<pre>my_inv([[1,2], [3,4]])</pre>\n",
    "\n",
    "Caranya adalah sebagai berikut:\n",
    "\n",
    "<pre>from scipy.linalg import inv as my_inv</pre>"
   ]
  },
  {
   "cell_type": "code",
   "execution_count": null,
   "metadata": {},
   "outputs": [],
   "source": []
  }
 ],
 "metadata": {
  "kernelspec": {
   "display_name": "Python 3",
   "language": "python",
   "name": "python3"
  },
  "language_info": {
   "codemirror_mode": {
    "name": "ipython",
    "version": 3
   },
   "file_extension": ".py",
   "mimetype": "text/x-python",
   "name": "python",
   "nbconvert_exporter": "python",
   "pygments_lexer": "ipython3",
   "version": "3.7.3"
  }
 },
 "nbformat": 4,
 "nbformat_minor": 2
}
