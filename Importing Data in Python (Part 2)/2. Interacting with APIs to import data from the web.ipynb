{
 "cells": [
  {
   "cell_type": "markdown",
   "metadata": {},
   "source": [
    "# 2. Interacting with APIs to import data from the web\n",
    "\n",
    "Dalam bab ini, Anda akan mendapatkan pemahaman yang lebih dalam tentang cara mengimpor data dari web. Anda akan mempelajari dasar-dasar mengekstraksi data dari API, mendapatkan wawasan tentang pentingnya API, dan berlatih mengekstraksi data dengan menyelam ke dalam OMDB dan Library of Congresss API."
   ]
  },
  {
   "cell_type": "markdown",
   "metadata": {},
   "source": [
    "## Introduction to APIs and JSONs\n",
    "\n",
    "### What exactly is a JSON?\n",
    "\n",
    "Manakah dari berikut ini yang TIDAK benar dari format file JSON?\n",
    "\n",
    "**BENAR**\n",
    "* JSON terdiri dari pasangan key-value\n",
    "* JSON dapat dibaca manusia.\n",
    "* Format file JSON muncul dari meningkatnya kebutuhan akan komunikasi server-ke-browser secara real-time.\n",
    "* Fungsi `json.load()` akan memuat JSON ke dalam Python sebagai `dictionary`.\n",
    "\n",
    "**TIDAK BENAR**\n",
    "* Fungsi `json.load()` akan memuat JSON ke Python sebagai `list`."
   ]
  },
  {
   "cell_type": "markdown",
   "metadata": {},
   "source": [
    "### Loading and exploring a JSON\n",
    "\n",
    "Sekarang setelah Anda tahu apa itu JSON, Anda akan memuatnya ke lingkungan Python dan menjelajahinya sendiri. Di sini, Anda akan memuat JSON `'a_movie.json'` ke dalam variabel `json_data`, yang akan menjadi `dictionary`. Anda kemudian akan menjelajahi konten JSON dengan mencetak pasangan *key-value* dari `json_data` ke shell."
   ]
  },
  {
   "cell_type": "code",
   "execution_count": 4,
   "metadata": {},
   "outputs": [
    {
     "name": "stdout",
     "output_type": "stream",
     "text": [
      "Actors:  Jesse Eisenberg, Rooney Mara, Bryan Barter, Dustin Fitzsimons\n",
      "Awards:  Won 3 Oscars. Another 168 wins & 177 nominations.\n",
      "BoxOffice:  $96,400,000\n",
      "Country:  USA\n",
      "DVD:  11 Jan 2011\n",
      "Director:  David Fincher\n",
      "Genre:  Biography, Drama\n",
      "Language:  English, French\n",
      "Metascore:  95\n",
      "Plot:  As Harvard student Mark Zuckerberg creates the social networking site that would become known as Facebook, he is sued by the twins who claimed he stole their idea, and by the co-founder who was later squeezed out of the business.\n",
      "Poster:  https://m.media-amazon.com/images/M/MV5BOGUyZDUxZjEtMmIzMC00MzlmLTg4MGItZWJmMzBhZjE0Mjc1XkEyXkFqcGdeQXVyMTMxODk2OTU@._V1_SX300.jpg\n",
      "Production:  Columbia Pictures\n",
      "Rated:  PG-13\n",
      "Ratings:  [{'Source': 'Internet Movie Database', 'Value': '7.7/10'}, {'Source': 'Rotten Tomatoes', 'Value': '96%'}, {'Source': 'Metacritic', 'Value': '95/100'}]\n",
      "Released:  01 Oct 2010\n",
      "Response:  True\n",
      "Runtime:  120 min\n",
      "Title:  The Social Network\n",
      "Type:  movie\n",
      "Website:  N/A\n",
      "Writer:  Aaron Sorkin (screenplay), Ben Mezrich (book)\n",
      "Year:  2010\n",
      "imdbID:  tt1285016\n",
      "imdbRating:  7.7\n",
      "imdbVotes:  581,767\n"
     ]
    }
   ],
   "source": [
    "import json\n",
    "\n",
    "# Load JSON: json_data\n",
    "with open(\"a_movie.json\") as json_file:\n",
    "    json_data = json.load(json_file)\n",
    "\n",
    "# Print each key-value pair in json_data\n",
    "for k in json_data.keys():\n",
    "    print(k + ': ', json_data[k])"
   ]
  },
  {
   "cell_type": "markdown",
   "metadata": {},
   "source": [
    "### Exploring your JSON\n",
    "\n",
    "Muat JSON `'a_movie.json'` ke dalam variabel, yang akan menjadi dictionary. Lakukan dengan menyalin, menempel, dan mengeksekusi kode berikut di IPython Shell:"
   ]
  },
  {
   "cell_type": "code",
   "execution_count": 5,
   "metadata": {},
   "outputs": [],
   "source": [
    "import json\n",
    "with open(\"a_movie.json\") as json_file:\n",
    "    json_data = json.load(json_file)"
   ]
  },
  {
   "cell_type": "markdown",
   "metadata": {},
   "source": [
    "Cetak nilai yang sesuai dengan kunci `'Title'` dan `'Year'` dan jawab pertanyaan berikut tentang film yang dijelaskan JSON:\n",
    "\n",
    "Manakah dari pernyataan berikut ini yang benar tentang film yang dimaksud?"
   ]
  },
  {
   "cell_type": "code",
   "execution_count": 9,
   "metadata": {},
   "outputs": [
    {
     "name": "stdout",
     "output_type": "stream",
     "text": [
      "The title is The Social Network and the year is 2010\n"
     ]
    }
   ],
   "source": [
    "print(\"The title is \" + str(json_data['Title']) + \" and the year is \" + str(json_data['Year']))"
   ]
  },
  {
   "cell_type": "markdown",
   "metadata": {},
   "source": [
    "## APIs and interacting with the world wide web\n",
    "\n",
    "### What's an API?\n",
    "\n",
    "Manakah dari pernyataan berikut tentang API yang TIDAK benar?\n",
    "\n",
    "**BENAR**\n",
    "* API adalah seperangkat protokol dan rutinitas untuk membangun dan berinteraksi dengan aplikasi perangkat lunak\n",
    "* API adalah akronim dan merupakan kependekan dari *Application Program interface*\n",
    "* Secara umum untuk menarik data dari API dalam format file JSON.\n",
    "* API adalah sekelompok kode yang memungkinkan dua program perangkat lunak untuk saling berkomunikasi\n",
    "\n",
    "**TIDAK BENAR**\n",
    "* Semua API mengirimkan data hanya dalam format file JSON"
   ]
  },
  {
   "cell_type": "markdown",
   "metadata": {},
   "source": [
    "### API requests\n",
    "\n",
    "Sekarang giliran Anda untuk menarik beberapa data film dari Open Movie Database (OMDB) menggunakan API mereka. Film yang akan Anda query tentang API adalah *The Social Network*. Ingatlah bahwa, dalam video, untuk mengquery API tentang Hacker film, string permintaan adalah `'http://www.omdbapi.com/?t=hackers'` dan memiliki argumen tunggal `t=hackers`.\n",
    "\n",
    "Catatan: baru-baru ini, OMDB telah mengubah API mereka: Anda sekarang juga harus menentukan kunci API. Ini berarti Anda harus menambahkan argumen lain ke URL: `apikey=72bc447a`."
   ]
  },
  {
   "cell_type": "code",
   "execution_count": 10,
   "metadata": {},
   "outputs": [
    {
     "name": "stdout",
     "output_type": "stream",
     "text": [
      "{\"Title\":\"The Social Network\",\"Year\":\"2010\",\"Rated\":\"PG-13\",\"Released\":\"01 Oct 2010\",\"Runtime\":\"120 min\",\"Genre\":\"Biography, Drama\",\"Director\":\"David Fincher\",\"Writer\":\"Aaron Sorkin (screenplay), Ben Mezrich (book)\",\"Actors\":\"Jesse Eisenberg, Rooney Mara, Bryan Barter, Dustin Fitzsimons\",\"Plot\":\"As Harvard student Mark Zuckerberg creates the social networking site that would become known as Facebook, he is sued by the twins who claimed he stole their idea, and by the co-founder who was later squeezed out of the business.\",\"Language\":\"English, French\",\"Country\":\"USA\",\"Awards\":\"Won 3 Oscars. Another 168 wins & 177 nominations.\",\"Poster\":\"https://m.media-amazon.com/images/M/MV5BOGUyZDUxZjEtMmIzMC00MzlmLTg4MGItZWJmMzBhZjE0Mjc1XkEyXkFqcGdeQXVyMTMxODk2OTU@._V1_SX300.jpg\",\"Ratings\":[{\"Source\":\"Internet Movie Database\",\"Value\":\"7.7/10\"},{\"Source\":\"Rotten Tomatoes\",\"Value\":\"96%\"},{\"Source\":\"Metacritic\",\"Value\":\"95/100\"}],\"Metascore\":\"95\",\"imdbRating\":\"7.7\",\"imdbVotes\":\"581,767\",\"imdbID\":\"tt1285016\",\"Type\":\"movie\",\"DVD\":\"11 Jan 2011\",\"BoxOffice\":\"$96,400,000\",\"Production\":\"Columbia Pictures\",\"Website\":\"N/A\",\"Response\":\"True\"}\n"
     ]
    }
   ],
   "source": [
    "# Import requests package\n",
    "import requests\n",
    "\n",
    "# Assign URL to variable: url\n",
    "url = 'http://www.omdbapi.com/?apikey=72bc447a&t=the+social+network'\n",
    "\n",
    "# Package the request, send the request and catch the response: r\n",
    "r = requests.get(url)\n",
    "\n",
    "# Print the text of the response\n",
    "print(r.text)"
   ]
  },
  {
   "cell_type": "markdown",
   "metadata": {},
   "source": [
    "### JSON–from the web to Python\n",
    "\n",
    "Wow, selamat! Anda baru saja mengquery API pertama Anda secara terprogram dengan Python dan mencetak teks respons ke shell. Namun, seperti yang Anda tahu, respons Anda sebenarnya adalah JSON, sehingga Anda dapat melakukan satu langkah lebih baik dan mendekode JSON. Anda kemudian dapat mencetak pasangan `key-value` dari `dictionary` yang dihasilkan. Itu yang akan kamu lakukan sekarang!"
   ]
  },
  {
   "cell_type": "code",
   "execution_count": 11,
   "metadata": {},
   "outputs": [
    {
     "name": "stdout",
     "output_type": "stream",
     "text": [
      "Title:  The Social Network\n",
      "Year:  2010\n",
      "Rated:  PG-13\n",
      "Released:  01 Oct 2010\n",
      "Runtime:  120 min\n",
      "Genre:  Biography, Drama\n",
      "Director:  David Fincher\n",
      "Writer:  Aaron Sorkin (screenplay), Ben Mezrich (book)\n",
      "Actors:  Jesse Eisenberg, Rooney Mara, Bryan Barter, Dustin Fitzsimons\n",
      "Plot:  As Harvard student Mark Zuckerberg creates the social networking site that would become known as Facebook, he is sued by the twins who claimed he stole their idea, and by the co-founder who was later squeezed out of the business.\n",
      "Language:  English, French\n",
      "Country:  USA\n",
      "Awards:  Won 3 Oscars. Another 168 wins & 177 nominations.\n",
      "Poster:  https://m.media-amazon.com/images/M/MV5BOGUyZDUxZjEtMmIzMC00MzlmLTg4MGItZWJmMzBhZjE0Mjc1XkEyXkFqcGdeQXVyMTMxODk2OTU@._V1_SX300.jpg\n",
      "Ratings:  [{'Source': 'Internet Movie Database', 'Value': '7.7/10'}, {'Source': 'Rotten Tomatoes', 'Value': '96%'}, {'Source': 'Metacritic', 'Value': '95/100'}]\n",
      "Metascore:  95\n",
      "imdbRating:  7.7\n",
      "imdbVotes:  581,767\n",
      "imdbID:  tt1285016\n",
      "Type:  movie\n",
      "DVD:  11 Jan 2011\n",
      "BoxOffice:  $96,400,000\n",
      "Production:  Columbia Pictures\n",
      "Website:  N/A\n",
      "Response:  True\n"
     ]
    }
   ],
   "source": [
    "# Import package\n",
    "import requests\n",
    "\n",
    "# Assign URL to variable: url\n",
    "url = 'http://www.omdbapi.com/?apikey=72bc447a&t=social+network'\n",
    "\n",
    "# Package the request, send the request and catch the response: r\n",
    "r = requests.get(url)\n",
    "\n",
    "# Decode the JSON data into a dictionary: json_data\n",
    "json_data = r.json()\n",
    "\n",
    "# Print each key-value pair in json_data\n",
    "for k in json_data.keys():\n",
    "    print(k + ': ', json_data[k])"
   ]
  },
  {
   "cell_type": "markdown",
   "metadata": {},
   "source": [
    "### Checking out the Wikipedia API\n",
    "\n",
    "Anda melakukannya dengan sangat baik dan bersenang-senang sehingga kami akan melemparkan satu API lagi kepada Anda: Wikipedia API (didokumentasikan [di sini](https://www.mediawiki.org/wiki/API:Main_page)). Anda akan mengetahui cara menemukan dan mengekstrak informasi dari halaman Wikipedia untuk Pizza. Yang menjadi sedikit liar di sini adalah bahwa kueri Anda akan mengembalikan nested JSON, yaitu, JSON dengan JSON, tetapi Python dapat mengatasinya karena itu akan menerjemahkannya ke dalam dictionaries dalam dictionaries.\n",
    "\n",
    "URL yang meminta kueri yang relevan dari Wikipedia API adalah\n",
    "\n",
    "* `https://en.wikipedia.org/w/api.php?action=query&prop=extracts&format=json&exintro=&titles=pizza`"
   ]
  },
  {
   "cell_type": "code",
   "execution_count": 12,
   "metadata": {},
   "outputs": [
    {
     "name": "stdout",
     "output_type": "stream",
     "text": [
      "<p class=\"mw-empty-elt\">\n",
      "</p>\n",
      "\n",
      "<p><b>Pizza</b> (<small>Italian: </small><span title=\"Representation in the International Phonetic Alphabet (IPA)\">[ˈpittsa]</span>, <small>Neapolitan: </small><span title=\"Representation in the International Phonetic Alphabet (IPA)\">[ˈpittsə]</span>) is a savory dish of Italian origin, consisting of a usually round, flattened base of leavened wheat-based dough topped with tomatoes, cheese, and often various other ingredients (anchovies, olives, meat, etc.) baked at a high temperature, traditionally in a wood-fired oven. A small pizza is sometimes called a pizzetta.\n",
      "</p><p>In Italy, pizza served in formal settings, such as at a restaurant, is presented unsliced and eaten with the use of a knife and fork. In casual settings it is cut into wedges to be eaten while held in the hand.\n",
      "</p><p>The term <i>pizza</i> was first recorded in the 10th century in a Latin manuscript from the Southern Italian town of Gaeta in Lazio, on the border with Campania. Modern pizza was invented in Naples, and the dish and its variants have since become popular in many countries. It has become one of the most popular foods in the world and a common fast food item in Europe and North America, available at pizzerias (restaurants specializing in pizza),  restaurants offering Mediterranean cuisine, and via pizza delivery. Many companies sell ready-baked frozen pizzas to be reheated in an ordinary home oven.\n",
      "</p><p>The <i>Associazione Verace Pizza Napoletana</i> (lit. True Neapolitan Pizza Association) is a non-profit organization founded in 1984 with headquarters in Naples that aims to promote traditional Neapolitan pizza. In 2009, upon Italy's request, Neapolitan pizza was registered with the European Union as a Traditional Speciality Guaranteed dish, and in 2017 the art of its making was included on UNESCO's list of intangible cultural heritage.</p>\n"
     ]
    }
   ],
   "source": [
    "# Import package\n",
    "import requests\n",
    "\n",
    "# Assign URL to variable: url\n",
    "url = 'https://en.wikipedia.org/w/api.php?action=query&prop=extracts&format=json&exintro=&titles=pizza'\n",
    "\n",
    "# Package the request, send the request and catch the response: r\n",
    "r = requests.get(url)\n",
    "\n",
    "# Decode the JSON data into a dictionary: json_data\n",
    "json_data = r.json()\n",
    "\n",
    "# Print the Wikipedia page extract\n",
    "pizza_extract = json_data['query']['pages']['24768']['extract']\n",
    "print(pizza_extract)"
   ]
  },
  {
   "cell_type": "code",
   "execution_count": null,
   "metadata": {},
   "outputs": [],
   "source": []
  }
 ],
 "metadata": {
  "kernelspec": {
   "display_name": "Python 3",
   "language": "python",
   "name": "python3"
  },
  "language_info": {
   "codemirror_mode": {
    "name": "ipython",
    "version": 3
   },
   "file_extension": ".py",
   "mimetype": "text/x-python",
   "name": "python",
   "nbconvert_exporter": "python",
   "pygments_lexer": "ipython3",
   "version": "3.7.3"
  }
 },
 "nbformat": 4,
 "nbformat_minor": 2
}
