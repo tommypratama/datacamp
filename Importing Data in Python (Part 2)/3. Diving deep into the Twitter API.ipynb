{
 "cells": [
  {
   "cell_type": "markdown",
   "metadata": {},
   "source": [
    "# 3. Diving deep into the Twitter API\n",
    "\n",
    "Dalam bab ini, Anda akan menambah pengetahuan Anda tentang berinteraksi dengan API secara mendalam ke dalam API streaming Twitter. Anda akan belajar cara melakukan streaming data Twitter real-time, dan bagaimana menganalisis dan memvisualisasikannya."
   ]
  },
  {
   "cell_type": "markdown",
   "metadata": {},
   "source": [
    "## The Twitter API and Authentication\n",
    "\n",
    "### API Authentication\n",
    "\n",
    "Paket `tweepy` hebat dalam menangani semua detail Twitter API OAuth Authentication untuk Anda. Yang perlu Anda lakukan adalah menambahkan kredensial autentikasi Anda. Dalam latihan interaktif ini, kami telah membuat beberapa kredensial otentikasi tiruan (jika Anda ingin mereplikasi ini di rumah, Anda perlu membuat [Aplikasi Twitter](https://apps.twitter.com/) seperti yang dijelaskan Hugo dalam video). Tugas Anda adalah meneruskan kredensial ini ke penangan OAuth tweepy."
   ]
  },
  {
   "cell_type": "code",
   "execution_count": 3,
   "metadata": {},
   "outputs": [],
   "source": [
    "# !pip install tweepy"
   ]
  },
  {
   "cell_type": "code",
   "execution_count": 4,
   "metadata": {},
   "outputs": [],
   "source": [
    "# Import package\n",
    "import tweepy\n",
    "\n",
    "# Store OAuth authentication credentials in relevant variables\n",
    "access_token = \"1092294848-aHN7DcRP9B4VMTQIhwqOYiB14YkW92fFO8k8EPy\"\n",
    "access_token_secret = \"X4dHmhPfaksHcQ7SCbmZa2oYBBVSD2g8uIHXsp5CTaksx\"\n",
    "consumer_key = \"nZ6EA0FxZ293SxGNg8g8aP0HM\"\n",
    "consumer_secret = \"fJGEodwe3KiKUnsYJC3VRndj7jevVvXbK2D5EiJ2nehafRgA6i\"\n",
    "\n",
    "# Pass OAuth details to tweepy's OAuth handler\n",
    "auth = tweepy.OAuthHandler(consumer_key, consumer_secret)\n",
    "auth.set_access_token(access_token, access_token_secret)"
   ]
  },
  {
   "cell_type": "markdown",
   "metadata": {},
   "source": [
    "### Streaming tweets\n",
    "\n",
    "Sekarang setelah Anda mengatur kredensial otentikasi Anda, saatnya untuk melakukan streaming beberapa tweet! Kami telah mendefinisikan *tweet stream listener class*, `MyStreamListener`, seperti yang dilakukan Hugo dalam video pengantar. Anda dapat menemukan kode untuk *tweet stream listener class* [di sini](https://gist.github.com/hugobowne/18f1c0c0709ed1a52dc5bcd462ac69f4).\n",
    "\n",
    "Tugas Anda adalah membuat objek `Stream` dan memfilter tweet sesuai dengan kata kunci tertentu."
   ]
  },
  {
   "cell_type": "code",
   "execution_count": 5,
   "metadata": {},
   "outputs": [],
   "source": [
    "# Stream listener\n",
    "class MyStreamListener(tweepy.StreamListener):\n",
    "    def __init__(self, api=None):\n",
    "        super(MyStreamListener, self).__init__()\n",
    "        self.num_tweets = 0\n",
    "        self.file = open(\"tweets.txt\", \"w\")\n",
    "\n",
    "    def on_status(self, status):\n",
    "        tweet = status._json\n",
    "        self.file.write( json.dumps(tweet) + '\\n' )\n",
    "        self.num_tweets += 1\n",
    "        if self.num_tweets < 100:\n",
    "            return True\n",
    "        else:\n",
    "            return False\n",
    "        self.file.close()\n",
    "\n",
    "    def on_error(self, status):\n",
    "        print(status)"
   ]
  },
  {
   "cell_type": "markdown",
   "metadata": {},
   "source": [
    "**Note** : Untuk dapat menjalankan kode berikut, lakukan pengaturan pada kredensial `auth` dari aplikasi Twitter anda. (Karena kredensial sebelumnya hanyalah tiruan dan tidak dapat digunakan)"
   ]
  },
  {
   "cell_type": "code",
   "execution_count": null,
   "metadata": {},
   "outputs": [],
   "source": [
    "# Initialize Stream listener\n",
    "l = MyStreamListener()\n",
    "\n",
    "# Create your Stream object with authentication\n",
    "stream = tweepy.Stream(auth, l)\n",
    "\n",
    "# Filter Twitter Streams to capture data by the keywords:\n",
    "stream.filter(['clinton', 'trump', 'sanders', 'cruz'])"
   ]
  },
  {
   "cell_type": "markdown",
   "metadata": {},
   "source": [
    "### Load and explore your Twitter data\n",
    "\n",
    "Sekarang setelah Anda memiliki data Twitter Anda yang tersimpan secara lokal dalam file teks, saatnya untuk menjelajahinya! Inilah yang akan Anda lakukan dalam beberapa latihan interaktif berikutnya. Dalam latihan ini, Anda akan membaca data Twitter menjadi `list`: `tweets_data`.\n",
    "\n",
    "*Ketahuilah bahwa ini adalah data nyata dari Twitter dan karena itu selalu ada risiko bahwa data itu mungkin mengandung kata-kata tidak senonoh atau konten menyinggung lainnya (dalam latihan ini, dan setiap latihan berikut yang juga menggunakan data Twitter nyata).*"
   ]
  },
  {
   "cell_type": "code",
   "execution_count": 9,
   "metadata": {},
   "outputs": [
    {
     "name": "stdout",
     "output_type": "stream",
     "text": [
      "dict_keys(['in_reply_to_user_id', 'created_at', 'filter_level', 'truncated', 'possibly_sensitive', 'timestamp_ms', 'user', 'text', 'extended_entities', 'in_reply_to_status_id', 'entities', 'favorited', 'retweeted', 'is_quote_status', 'id', 'favorite_count', 'retweeted_status', 'in_reply_to_status_id_str', 'in_reply_to_user_id_str', 'id_str', 'in_reply_to_screen_name', 'coordinates', 'lang', 'place', 'contributors', 'geo', 'retweet_count', 'source'])\n"
     ]
    }
   ],
   "source": [
    "# Import package\n",
    "import json\n",
    "\n",
    "# String of path to file: tweets_data_path\n",
    "tweets_data_path = 'tweets3.txt'\n",
    "\n",
    "# Initialize empty list to store tweets: tweets_data\n",
    "tweets_data = []\n",
    "\n",
    "# Open connection to file\n",
    "tweets_file = open(tweets_data_path, \"r\")\n",
    "\n",
    "# Read in tweets and store in list: tweets_data\n",
    "for line in tweets_file:\n",
    "    tweet = json.loads(line)\n",
    "    tweets_data.append(tweet)\n",
    "\n",
    "# Close connection to file\n",
    "tweets_file.close()\n",
    "\n",
    "# Print the keys of the first tweet dict\n",
    "print(tweets_data[0].keys())"
   ]
  },
  {
   "cell_type": "markdown",
   "metadata": {},
   "source": [
    "### Twitter data to DataFrame\n",
    "\n",
    "Sekarang Anda memiliki data Twitter dalam *list of dictionary*, `tweets_data`, di mana setiap dictionary berhubungan dengan satu tweet. Selanjutnya, Anda akan mengekstrak teks dan bahasa setiap tweet. Teks dalam tweet, `t1`, disimpan sebagai nilai `t1['text']`; sama halnya, bahasa disimpan dalam `t1['lang']`. Tugas Anda adalah membuat DataFrame di mana setiap baris adalah tweet dan kolomnya adalah `'text'` dan `'lang'`."
   ]
  },
  {
   "cell_type": "code",
   "execution_count": 10,
   "metadata": {},
   "outputs": [
    {
     "data": {
      "text/html": [
       "<div>\n",
       "<style scoped>\n",
       "    .dataframe tbody tr th:only-of-type {\n",
       "        vertical-align: middle;\n",
       "    }\n",
       "\n",
       "    .dataframe tbody tr th {\n",
       "        vertical-align: top;\n",
       "    }\n",
       "\n",
       "    .dataframe thead th {\n",
       "        text-align: right;\n",
       "    }\n",
       "</style>\n",
       "<table border=\"1\" class=\"dataframe\">\n",
       "  <thead>\n",
       "    <tr style=\"text-align: right;\">\n",
       "      <th></th>\n",
       "      <th>text</th>\n",
       "      <th>lang</th>\n",
       "    </tr>\n",
       "  </thead>\n",
       "  <tbody>\n",
       "    <tr>\n",
       "      <th>0</th>\n",
       "      <td>RT @bpolitics: .@krollbondrating's Christopher...</td>\n",
       "      <td>en</td>\n",
       "    </tr>\n",
       "    <tr>\n",
       "      <th>1</th>\n",
       "      <td>RT @HeidiAlpine: @dmartosko Cruz video found.....</td>\n",
       "      <td>en</td>\n",
       "    </tr>\n",
       "    <tr>\n",
       "      <th>2</th>\n",
       "      <td>Njihuni me Zonjën Trump !!! | Ekskluzive https...</td>\n",
       "      <td>et</td>\n",
       "    </tr>\n",
       "    <tr>\n",
       "      <th>3</th>\n",
       "      <td>Your an idiot she shouldn't have tried to grab...</td>\n",
       "      <td>en</td>\n",
       "    </tr>\n",
       "    <tr>\n",
       "      <th>4</th>\n",
       "      <td>RT @AlanLohner: The anti-American D.C. elites ...</td>\n",
       "      <td>en</td>\n",
       "    </tr>\n",
       "  </tbody>\n",
       "</table>\n",
       "</div>"
      ],
      "text/plain": [
       "                                                text lang\n",
       "0  RT @bpolitics: .@krollbondrating's Christopher...   en\n",
       "1  RT @HeidiAlpine: @dmartosko Cruz video found.....   en\n",
       "2  Njihuni me Zonjën Trump !!! | Ekskluzive https...   et\n",
       "3  Your an idiot she shouldn't have tried to grab...   en\n",
       "4  RT @AlanLohner: The anti-American D.C. elites ...   en"
      ]
     },
     "execution_count": 10,
     "metadata": {},
     "output_type": "execute_result"
    }
   ],
   "source": [
    "# Import package\n",
    "import pandas as pd\n",
    "\n",
    "# Build DataFrame of tweet texts and languages\n",
    "df = pd.DataFrame(tweets_data, columns=['text', 'lang'])\n",
    "\n",
    "# Print head of DataFrame\n",
    "df.head()"
   ]
  },
  {
   "cell_type": "markdown",
   "metadata": {},
   "source": [
    "### A little bit of Twitter text analysis\n",
    "\n",
    "Sekarang setelah Anda mengatur DataFrame dari tweet, Anda akan melakukan sedikit analisis teks untuk menghitung berapa banyak tweet yang mengandung kata `'clinton'`, `'trump'`, `'sanders'` dan `'cruz'`. Pada kode pra-latihan, kami telah mendefinisikan fungsi `word_in_text()`, berikut ini, yang akan memberi tahu Anda apakah argumen pertama (sebuah kata) muncul di dalam argumen ke-2 (tweet)."
   ]
  },
  {
   "cell_type": "code",
   "execution_count": 11,
   "metadata": {},
   "outputs": [],
   "source": [
    "import re\n",
    "\n",
    "def word_in_text(word, text):\n",
    "    word = word.lower()\n",
    "    text = text.lower()\n",
    "    match = re.search(word, text)\n",
    "\n",
    "    if match:\n",
    "        return True\n",
    "    return False"
   ]
  },
  {
   "cell_type": "markdown",
   "metadata": {},
   "source": [
    "Anda akan beralih di baris DataFrame dan menghitung berapa banyak tweet yang mengandung setiap kata kunci! List dari objek untuk setiap kandidat telah diinisialisasi ke 0."
   ]
  },
  {
   "cell_type": "code",
   "execution_count": 12,
   "metadata": {},
   "outputs": [],
   "source": [
    "# Initialize list to store tweet counts\n",
    "[clinton, trump, sanders, cruz] = [0, 0, 0, 0]\n",
    "\n",
    "# Iterate through df, counting the number of tweets in which\n",
    "# each candidate is mentioned\n",
    "for index, row in df.iterrows():\n",
    "    clinton += word_in_text('clinton', row['text'])\n",
    "    trump += word_in_text('trump', row['text'])\n",
    "    sanders += word_in_text('sanders', row['text'])\n",
    "    cruz += word_in_text('cruz', row['text'])"
   ]
  },
  {
   "cell_type": "markdown",
   "metadata": {},
   "source": [
    "### Plotting your Twitter data\n",
    "\n",
    "Sekarang Anda memiliki jumlah tweet yang menyebutkan setiap kandidat, Anda dapat memplot grafik batang dari data ini. Anda akan menggunakan perpustakaan visualisasi data statistik `[seaborn](https://stanford.edu/~mwaskom/software/seaborn/)`, yang mungkin belum pernah Anda lihat sebelumnya, tetapi kami akan memandu Anda. Anda pertama-tama akan mengimpor `seaborn` sebagai `sns`. Anda kemudian akan membangun barplot data menggunakan `sns.barplot`, dengan memberikan dua argumen:\n",
    "\n",
    "1. List dari labels\n",
    "2. List yang berisi variabel yang ingin Anda plot (`clinton`, `trump`, dan sebagainya.)\n",
    "\n",
    "Mudah-mudahan, Anda akan melihat bahwa Trump diwakili secara tidak masuk akal! Kami telah menjalankan solusi latihan sebelumnya di lingkungan Anda."
   ]
  },
  {
   "cell_type": "code",
   "execution_count": 13,
   "metadata": {},
   "outputs": [
    {
     "data": {
      "image/png": "[encoded data removed]",
      "text/plain": [
       "<Figure size 432x288 with 1 Axes>"
      ]
     },
     "metadata": {},
     "output_type": "display_data"
    }
   ],
   "source": [
    "# Import packages\n",
    "import matplotlib.pyplot as plt\n",
    "import seaborn as sns\n",
    "\n",
    "# Set seaborn style\n",
    "sns.set(color_codes=True)\n",
    "\n",
    "# Create a list of labels:cd\n",
    "cd = ['clinton', 'trump', 'sanders', 'cruz']\n",
    "\n",
    "# Plot the bar chart\n",
    "ax = sns.barplot(cd, [clinton, trump, sanders, cruz])\n",
    "ax.set(ylabel=\"count\")\n",
    "plt.show()"
   ]
  },
  {
   "cell_type": "code",
   "execution_count": null,
   "metadata": {},
   "outputs": [],
   "source": []
  }
 ],
 "metadata": {
  "kernelspec": {
   "display_name": "Python 3",
   "language": "python",
   "name": "python3"
  },
  "language_info": {
   "codemirror_mode": {
    "name": "ipython",
    "version": 3
   },
   "file_extension": ".py",
   "mimetype": "text/x-python",
   "name": "python",
   "nbconvert_exporter": "python",
   "pygments_lexer": "ipython3",
   "version": "3.7.3"
  }
 },
 "nbformat": 4,
 "nbformat_minor": 2
}
