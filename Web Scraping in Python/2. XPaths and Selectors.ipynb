{
 "cells": [
  {
   "cell_type": "markdown",
   "metadata": {},
   "source": [
    "# XPaths and Selectors\n",
    "\n",
    "Manfaatkan sintaks XPath untuk menjelajahi scrapy selectors. Kedua konsep ini akan menggerakkan Anda untuk dapat melakukan scrape dokumen HTML.\n"
   ]
  },
  {
   "cell_type": "code",
   "execution_count": 9,
   "metadata": {},
   "outputs": [],
   "source": [
    "# !pip install scrapy"
   ]
  },
  {
   "cell_type": "markdown",
   "metadata": {},
   "source": [
    "## XPathology\n",
    "\n",
    "### Slashes and Brackets\n",
    "\n",
    "* Single forward slash / looks forward `one` generation\n",
    "* Double forward slash // looks forward `all` future generations\n",
    "* Square brackets [] help narrow in on specic elements"
   ]
  },
  {
   "cell_type": "markdown",
   "metadata": {},
   "source": [
    "### Counting Elements\n",
    "\n",
    "* `xpath = \"/html/body/*\"` : sama dengan jumlah anak-anak dari elemen body\n",
    "* `xpath = \"/html/body//*\"` : Sama dengan jumlah total keturunan elemen body.\n",
    "* `xpath = \"/*\"` : sama dengan jumlah elemen root dalam dokumen HTML, yang biasanya 1 elemen root html.\n",
    "* `xpath = \"//*\"` : sama dengan jumlah total elemen di seluruh dokumen HTML."
   ]
  },
  {
   "cell_type": "markdown",
   "metadata": {},
   "source": [
    "### Body Appendages"
   ]
  },
  {
   "cell_type": "code",
   "execution_count": 18,
   "metadata": {},
   "outputs": [
    {
     "name": "stdout",
     "output_type": "stream",
     "text": [
      "23\n"
     ]
    }
   ],
   "source": [
    "def how_many_elements( xpath ):\n",
    "    print( len(sel.xpath( xpath )) )\n",
    "\n",
    "# Buat string XPath untuk menavigasi ke anak-anak elemen body\n",
    "xpath = '//body/*'\n",
    "\n",
    "# Cetak jumlah elemen yang dipilih\n",
    "how_many_elements( xpath )"
   ]
  },
  {
   "cell_type": "markdown",
   "metadata": {},
   "source": [
    "### Choose DataCamp!"
   ]
  },
  {
   "cell_type": "code",
   "execution_count": 26,
   "metadata": {},
   "outputs": [],
   "source": [
    "from scrapy import Selector\n",
    "\n",
    "html = '''\n",
    "<html>\n",
    "  <body>\n",
    "    <div>\n",
    "      <p>Hello World!</p>\n",
    "      <div>\n",
    "        <p>Choose DataCamp!</p>\n",
    "      </div>\n",
    "    </div>\n",
    "    <div>\n",
    "      <p>Thanks for Watching!</p>\n",
    "    </div>\n",
    "  </body>\n",
    "</html>\n",
    "'''\n",
    "\n",
    "sel = Selector( text = html )"
   ]
  },
  {
   "cell_type": "code",
   "execution_count": 27,
   "metadata": {},
   "outputs": [],
   "source": [
    "def print_element_text( xpath ):\n",
    "  text = ' '.join( sel.xpath( xpath ).xpath( './text()' ).extract() )\n",
    "  print( text )"
   ]
  },
  {
   "cell_type": "code",
   "execution_count": 28,
   "metadata": {},
   "outputs": [
    {
     "name": "stdout",
     "output_type": "stream",
     "text": [
      "Choose DataCamp!\n"
     ]
    }
   ],
   "source": [
    "# Buat string XPath ke elemen paragraf yang diinginkan\n",
    "xpath = \"/html/body/div[1]/div/p\"\n",
    "\n",
    "# Cetak teks elemen\n",
    "print_element_text( xpath )"
   ]
  },
  {
   "cell_type": "markdown",
   "metadata": {},
   "source": [
    "## Off the Beaten XPath\n",
    "\n",
    "### Where it's @\n",
    "\n",
    "Memilih elemen paragraf yang mengandung frasa: **\"Thanks for Watching!\"**"
   ]
  },
  {
   "cell_type": "code",
   "execution_count": 31,
   "metadata": {},
   "outputs": [],
   "source": [
    "from scrapy import Selector\n",
    "\n",
    "html = '''\n",
    "<html>\n",
    "  <body>\n",
    "    <div id=\"div1\" class=\"class-1\">\n",
    "      <p class=\"class-1 class-2\">Hello World!</p>\n",
    "      <div id=\"div2\">\n",
    "        <p id=\"p2\" class=\"class-2\">Choose DataCamp!</p>\n",
    "      </div>\n",
    "    </div>\n",
    "    <div id=\"div3\" class=\"class-2\">\n",
    "      <p class=\"class-2\">Thanks for Watching!</p>\n",
    "    </div>\n",
    "  </body>\n",
    "</html>\n",
    "'''\n",
    "\n",
    "sel = Selector( text = html )"
   ]
  },
  {
   "cell_type": "code",
   "execution_count": 32,
   "metadata": {},
   "outputs": [
    {
     "name": "stdout",
     "output_type": "stream",
     "text": [
      "Thanks for Watching!\n"
     ]
    }
   ],
   "source": [
    "# Buat string Xpath untuk memilih elemen p yang diinginkan\n",
    "xpath = '//*[@id=\"div3\"]/p'\n",
    "\n",
    "# Cetak teks pilihan\n",
    "print_element_text( xpath )"
   ]
  },
  {
   "cell_type": "markdown",
   "metadata": {},
   "source": [
    "### Check your Class\n",
    "\n",
    "Pilih elemen paragraf yang mengandung frasa: **\"Hello World!\"**"
   ]
  },
  {
   "cell_type": "code",
   "execution_count": 33,
   "metadata": {},
   "outputs": [
    {
     "name": "stdout",
     "output_type": "stream",
     "text": [
      "Hello World!\n"
     ]
    }
   ],
   "source": [
    "# Buat string XPath untuk memilih elemen p menurut kelas\n",
    "xpath = '//p[@class=\"class-1 class-2\"]'\n",
    "\n",
    "# Cetak teks pilihan\n",
    "print_element_text( xpath )"
   ]
  },
  {
   "cell_type": "markdown",
   "metadata": {},
   "source": [
    "### Hyper(link) Active\n",
    "\n",
    "Memilih nilai atribut `href` dari hyperlink DataCamp."
   ]
  },
  {
   "cell_type": "code",
   "execution_count": 34,
   "metadata": {},
   "outputs": [],
   "source": [
    "html = '''\n",
    "<html>\n",
    "  <body>\n",
    "    <div id=\"div1\" class=\"class-1\">\n",
    "      <p class=\"class-1 class-2\">Hello World!</p>\n",
    "      <div id=\"div2\">\n",
    "        <p id=\"p2\" class=\"class-2\">Choose \n",
    "            <a href=\"http://datacamp.com\">DataCamp!</a>!\n",
    "        </p>\n",
    "      </div>\n",
    "    </div>\n",
    "    <div id=\"div3\" class=\"class-2\">\n",
    "      <p class=\"class-2\">Thanks for Watching!</p>\n",
    "    </div>\n",
    "  </body>\n",
    "</html>\n",
    "'''\n",
    "\n",
    "sel = Selector( text = html)"
   ]
  },
  {
   "cell_type": "code",
   "execution_count": 36,
   "metadata": {},
   "outputs": [],
   "source": [
    "# Fungsi untuk mencetak data yang diekstrak dari XPath Anda\n",
    "def print_attribute( xpath ):\n",
    "    print( \"You have selected:\" )\n",
    "    for i,el in enumerate(sel.xpath( xpath ).extract()):\n",
    "        print( \"%d) %s\" % (i+1, el) )"
   ]
  },
  {
   "cell_type": "code",
   "execution_count": 37,
   "metadata": {},
   "outputs": [
    {
     "name": "stdout",
     "output_type": "stream",
     "text": [
      "You have selected:\n",
      "1) http://datacamp.com\n"
     ]
    }
   ],
   "source": [
    "# Buat xpath ke atribut href\n",
    "xpath = '//p[@id=\"p2\"]/a/@href'\n",
    "\n",
    "# Cetak pilihannya; seharusnya hanya ada satu\n",
    "print_attribute( xpath )"
   ]
  },
  {
   "cell_type": "markdown",
   "metadata": {},
   "source": [
    "### Secret Links\n",
    "\n",
    "Menetapkan string XPath ke variabel `xpath` yang mengarahkan ke semua nilai atribut `href` dari hyperlink elemen `a` yang atribut kelasnya berisi string `\"course-block\"`. Ingat bahwa kami menggunakan panggilan `contains` dalam string XPath untuk memeriksa apakah nilai atribut berisi string tertentu."
   ]
  },
  {
   "cell_type": "code",
   "execution_count": 40,
   "metadata": {},
   "outputs": [],
   "source": [
    "# Import requests\n",
    "import requests\n",
    "\n",
    "url = 'https://www.datacamp.com/courses/all'\n",
    "\n",
    "# Create the string html containing the HTML source\n",
    "html = requests.get( url ).content\n",
    "\n",
    "# Create the Selector object sel from html\n",
    "sel = Selector( text = html )"
   ]
  },
  {
   "cell_type": "code",
   "execution_count": 41,
   "metadata": {},
   "outputs": [],
   "source": [
    "# Mencetak jumlah elemen yang telah dipilih XPath\n",
    "def how_many_elements( xpath ):\n",
    "    print( \"You've selected %d elements\" % len(sel.xpath( xpath )) )\n",
    "\n",
    "# Mencetak beberapa elemen pertama yang dipilih\n",
    "def preview( xpath ):\n",
    "    els = sel.xpath( xpath ).extract()\n",
    "    n = len(els)\n",
    "    for i,el in enumerate( els[:min(4,n)]):\n",
    "        print( \"Element %d: %s\" % (i+1,el) )"
   ]
  },
  {
   "cell_type": "code",
   "execution_count": 42,
   "metadata": {},
   "outputs": [
    {
     "name": "stdout",
     "output_type": "stream",
     "text": [
      "You've selected 518 elements\n",
      "Element 1: /courses/free-introduction-to-r\n",
      "Element 2: /courses/free-introduction-to-r\n",
      "Element 3: /courses/data-table-data-manipulation-r-tutorial\n",
      "Element 4: /courses/data-table-data-manipulation-r-tutorial\n"
     ]
    }
   ],
   "source": [
    "# Create an xpath to the href attributes\n",
    "xpath = '//a[contains(@class,\"course-block\")]/@href'\n",
    "\n",
    "# Print out how many elements are selected\n",
    "how_many_elements( xpath )\n",
    "# Preview the selected elements\n",
    "preview( xpath )"
   ]
  },
  {
   "cell_type": "markdown",
   "metadata": {},
   "source": [
    "## Selector Objects"
   ]
  },
  {
   "cell_type": "code",
   "execution_count": 43,
   "metadata": {},
   "outputs": [],
   "source": [
    "from scrapy import Selector\n",
    "\n",
    "html = '''\n",
    "<html>\n",
    "    <body>\n",
    "        <div>HELLO</div>\n",
    "        <div><p>GOODBYE</p></div>\n",
    "        <div><span><p>NOPE</p><p>ALMOST</p><p>YOU GOT IT!</p></span></div>\n",
    "    </body>\n",
    "</html>\n",
    "'''\n",
    "\n",
    "sel = Selector( text = html )"
   ]
  },
  {
   "cell_type": "markdown",
   "metadata": {},
   "source": [
    "### XPath Chaining\n",
    "\n",
    "* `sel.xpath('/html/body/div[2]')` = `sel.xpath('/html').xpath('./body/div[2]')`\n",
    "  * = `sel.xpath('/html').xpath('./body').xpath('./div[2]')`\n",
    "\n",
    "Menyatukan dua panggilan xpath yang menghasilkan seleksi yang sama dengan:\n",
    "\n",
    "```python\n",
    "sel.xpath('//div/span/p[3]')\n",
    "```"
   ]
  },
  {
   "cell_type": "code",
   "execution_count": 44,
   "metadata": {},
   "outputs": [
    {
     "data": {
      "text/plain": [
       "[<Selector xpath='./span/p[3]' data='<p>YOU GOT IT!</p>'>]"
      ]
     },
     "execution_count": 44,
     "metadata": {},
     "output_type": "execute_result"
    }
   ],
   "source": [
    "# Chain together xpath methods to select desired p element\n",
    "sel.xpath( '//div' ).xpath( './span/p[3]' )"
   ]
  },
  {
   "cell_type": "markdown",
   "metadata": {},
   "source": [
    "### Divvy Up This Exercise\n"
   ]
  },
  {
   "cell_type": "code",
   "execution_count": 45,
   "metadata": {},
   "outputs": [],
   "source": [
    "html = '''\n",
    "<html>\n",
    "    <body>\n",
    "        <div>Div 1: \n",
    "            <p>paragraph 1</p>\n",
    "        </div>\n",
    "        <div>Div 2: \n",
    "            <p>paragraph 2</p> \n",
    "            <p>paragraph 3</p> \n",
    "        </div>\n",
    "        <div>Div 3: <p>paragraph 4</p> \n",
    "            <p>paragraph 5</p> \n",
    "            <p>paragraph 6</p>\n",
    "        </div>\n",
    "        <div>Div 4: \n",
    "            <p>paragraph 7</p>\n",
    "        </div>\n",
    "        <div>Div 5: \n",
    "            <p>paragraph 8</p>\n",
    "        </div>\n",
    "    </body>\n",
    "</html>\n",
    "'''"
   ]
  },
  {
   "cell_type": "code",
   "execution_count": 46,
   "metadata": {},
   "outputs": [
    {
     "name": "stdout",
     "output_type": "stream",
     "text": [
      "[<Selector xpath='//div' data='<div>Div 1: \\n            <p>paragraph 1<'>, <Selector xpath='//div' data='<div>Div 2: \\n            <p>paragraph 2<'>, <Selector xpath='//div' data='<div>Div 3: <p>paragraph 4</p> \\n        '>, <Selector xpath='//div' data='<div>Div 4: \\n            <p>paragraph 7<'>, <Selector xpath='//div' data='<div>Div 5: \\n            <p>paragraph 8<'>]\n"
     ]
    }
   ],
   "source": [
    "from scrapy import Selector\n",
    "\n",
    "# Create a Selector selecting html as the HTML document\n",
    "sel = Selector( text = html )\n",
    "\n",
    "# Create a SelectorList of all div elements in the HTML document\n",
    "divs = sel.xpath( '//div' )\n",
    "print(divs)"
   ]
  },
  {
   "cell_type": "markdown",
   "metadata": {},
   "source": [
    "## The Source of Source\n",
    "\n",
    "### Requesting a Selector"
   ]
  },
  {
   "cell_type": "code",
   "execution_count": 47,
   "metadata": {},
   "outputs": [
    {
     "name": "stdout",
     "output_type": "stream",
     "text": [
      "There are 1020 elements in the HTML document.\n",
      "You have found:  1020\n"
     ]
    }
   ],
   "source": [
    "# Import a scrapy Selector\n",
    "from scrapy import Selector\n",
    "\n",
    "# Import requests\n",
    "import requests\n",
    "\n",
    "url = 'https://assets.datacamp.com/production/repositories/2560/datasets/19a0a26daa8d9db1d920b5d5607c19d6d8094b3b/all_short'\n",
    "\n",
    "# Buat string html yang berisi sumber HTML\n",
    "html = requests.get( url ).content\n",
    "\n",
    "# Buat objek Selector sel dari html\n",
    "sel = Selector( text = html )\n",
    "\n",
    "# Cetak jumlah elemen dalam dokumen HTML\n",
    "print( \"There are 1020 elements in the HTML document.\")\n",
    "print( \"You have found: \", len( sel.xpath('//*') ) )"
   ]
  },
  {
   "cell_type": "code",
   "execution_count": null,
   "metadata": {},
   "outputs": [],
   "source": []
  }
 ],
 "metadata": {
  "kernelspec": {
   "display_name": "Python 3",
   "language": "python",
   "name": "python3"
  },
  "language_info": {
   "codemirror_mode": {
    "name": "ipython",
    "version": 3
   },
   "file_extension": ".py",
   "mimetype": "text/x-python",
   "name": "python",
   "nbconvert_exporter": "python",
   "pygments_lexer": "ipython3",
   "version": "3.7.3"
  }
 },
 "nbformat": 4,
 "nbformat_minor": 2
}
