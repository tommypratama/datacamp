{
 "cells": [
  {
   "cell_type": "markdown",
   "metadata": {},
   "source": [
    "# CSS Locators, Chaining, and Responses\n",
    "\n",
    "Pelajari sintaksis CSS Locator dan mulailah bermain dengan ide untuk chaining (merantai) bersama CSS Locators dengan XPath. Kami juga memperkenalkan objek `Response`, yang berperilaku seperti Selectors tetapi memberi kami alat tambahan untuk memobilisasi upaya scraping di beberapa situs web."
   ]
  },
  {
   "cell_type": "code",
   "execution_count": 1,
   "metadata": {},
   "outputs": [],
   "source": [
    "# Import a scrapy Selector and request\n",
    "from scrapy import Selector\n",
    "import requests"
   ]
  },
  {
   "cell_type": "markdown",
   "metadata": {},
   "source": [
    "## CSS Locators"
   ]
  },
  {
   "cell_type": "markdown",
   "metadata": {},
   "source": [
    "### Get an \"a\" in this Course"
   ]
  },
  {
   "cell_type": "code",
   "execution_count": 20,
   "metadata": {},
   "outputs": [],
   "source": [
    "from scrapy.http import TextResponse\n",
    "\n",
    "url = 'https://www.datacamp.com/courses/all'\n",
    "html = requests.get(url)\n",
    "html = html.text"
   ]
  },
  {
   "cell_type": "code",
   "execution_count": 3,
   "metadata": {},
   "outputs": [],
   "source": [
    "def how_many_elements( css ):\n",
    "  sel = Selector( text = html )\n",
    "  print( len(sel.css( css )) )"
   ]
  },
  {
   "cell_type": "code",
   "execution_count": 4,
   "metadata": {},
   "outputs": [
    {
     "name": "stdout",
     "output_type": "stream",
     "text": [
      "326\n"
     ]
    }
   ],
   "source": [
    "from scrapy import Selector\n",
    "\n",
    "# Create a selector from the html (of a secret website)\n",
    "sel = Selector( text = html )\n",
    "\n",
    "# Fill in the blank\n",
    "css_locator = 'div.course-block > a'\n",
    "\n",
    "# Print the number of selected elements.\n",
    "how_many_elements( css_locator )"
   ]
  },
  {
   "cell_type": "markdown",
   "metadata": {},
   "source": [
    "### The CSS Wildcard\n",
    "\n",
    "Anda dapat menggunakan wildcard `*` di Locators CSS juga! Bahkan, kita dapat menggunakannya dengan cara yang sama, ketika kita ingin mengabaikan jenis tag. Sebagai contoh:\n",
    "\n",
    "* String CSS Locator `'*'` memilih semua elemen dalam dokumen HTML.\n",
    "* String CSS Locator `'*.class-1'` memilih semua elemen yang termasuk `class-1`, tetapi ini tidak perlu karena string `'.class-1'` juga akan melakukan pekerjaan yang sama.\n",
    "* String CSS Locator `'*#uid'` memilih elemen dengan atribut `id` yang sama dengan `uid`, tetapi ini tidak perlu karena string `'#uid'` juga akan melakukan pekerjaan yang sama.\n",
    "\n",
    "Dalam latihan ini, kami ingin Anda bekerja dengan analogi dengan karakter wildcard yang Anda tahu dari notasi XPath untuk menemukan cara memilih semua anak dari elemen tertentu dalam notasi CSS Locator."
   ]
  },
  {
   "cell_type": "code",
   "execution_count": 8,
   "metadata": {},
   "outputs": [],
   "source": [
    "# Create the CSS Locator to all children of the element whose id is uid\n",
    "css_locator = \"#uid > *\""
   ]
  },
  {
   "cell_type": "markdown",
   "metadata": {},
   "source": [
    "### Selectors with CSS"
   ]
  },
  {
   "cell_type": "code",
   "execution_count": 9,
   "metadata": {},
   "outputs": [],
   "source": [
    "html = '''\n",
    "<html>\n",
    "<body>\n",
    "    <div class=\"hello datacamp\">\n",
    "        <p>Hello World!</p>\n",
    "    </div>\n",
    "    <p>Enjoy DataCamp!</p>\n",
    "</body>\n",
    "</html>\n",
    "'''\n",
    "sel = Selector( text = html )"
   ]
  },
  {
   "cell_type": "code",
   "execution_count": 10,
   "metadata": {},
   "outputs": [
    {
     "data": {
      "text/plain": [
       "str"
      ]
     },
     "execution_count": 10,
     "metadata": {},
     "output_type": "execute_result"
    }
   ],
   "source": [
    "type(html)"
   ]
  },
  {
   "cell_type": "code",
   "execution_count": 11,
   "metadata": {},
   "outputs": [
    {
     "data": {
      "text/plain": [
       "[<Selector xpath='descendant-or-self::div/p' data='<p>Hello World!</p>'>]"
      ]
     },
     "execution_count": 11,
     "metadata": {},
     "output_type": "execute_result"
    }
   ],
   "source": [
    "sel.css(\"div > p\")"
   ]
  },
  {
   "cell_type": "code",
   "execution_count": 15,
   "metadata": {},
   "outputs": [
    {
     "data": {
      "text/plain": [
       "['<p>Hello World!</p>']"
      ]
     },
     "execution_count": 15,
     "metadata": {},
     "output_type": "execute_result"
    }
   ],
   "source": [
    "sel.css(\"div > p\").extract()"
   ]
  },
  {
   "cell_type": "markdown",
   "metadata": {},
   "source": [
    "## Attribute and Text Selection"
   ]
  },
  {
   "cell_type": "markdown",
   "metadata": {},
   "source": [
    "### You've been `href` ed"
   ]
  },
  {
   "cell_type": "code",
   "execution_count": 21,
   "metadata": {},
   "outputs": [],
   "source": [
    "from scrapy import Selector\n",
    "\n",
    "# Buat objek selector dari situs web\n",
    "sel = Selector( text = html )\n",
    "\n",
    "# Pilih semua hyperlink elemen div milik class \"course-block\"\n",
    "course_as = sel.css( 'div.course-block > a' )\n",
    "\n",
    "# Memilih semua atribut href chaining dengan css\n",
    "hrefs_from_css = course_as.css( '::attr(href)' )\n",
    "\n",
    "# Memilih semua atribut href chaining dengan xpath\n",
    "hrefs_from_xpath = course_as.xpath( './@href' )"
   ]
  },
  {
   "cell_type": "code",
   "execution_count": 22,
   "metadata": {},
   "outputs": [
    {
     "name": "stdout",
     "output_type": "stream",
     "text": [
      "[<Selector xpath='./@href' data='/courses/free-introduction-to-r'>, <Selector xpath='./@href' data='/courses/intermediate-r'>, <Selector xpath='./@href' data='/courses/introduction-to-machine-lear...'>, <Selector xpath='./@href' data='/courses/cleaning-data-in-r'>, <Selector xpath='./@href' data='/courses/intro-to-python-for-data-sci...'>, <Selector xpath='./@href' data='/courses/intermediate-r-practice'>, <Selector xpath='./@href' data='/courses/data-visualization-with-ggpl...'>, <Selector xpath='./@href' data='/courses/data-visualization-with-ggpl...'>, <Selector xpath='./@href' data='/courses/intermediate-python'>, <Selector xpath='./@href' data='/courses/data-visualization-with-ggpl...'>, <Selector xpath='./@href' data='/courses/text-mining-with-bag-of-word...'>, <Selector xpath='./@href' data='/courses/case-study-exploring-basebal...'>, <Selector xpath='./@href' data='/courses/introduction-to-portfolio-an...'>, <Selector xpath='./@href' data='/courses/introduction-to-credit-risk-...'>, <Selector xpath='./@href' data='/courses/machine-learning-with-caret-...'>, <Selector xpath='./@href' data='/courses/introduction-to-relational-d...'>, <Selector xpath='./@href' data='/courses/manipulating-time-series-dat...'>, <Selector xpath='./@href' data='/courses/time-series-analysis-in-r'>, <Selector xpath='./@href' data='/courses/importing-cleaning-data-in-r...'>, <Selector xpath='./@href' data='/courses/financial-trading-in-r'>, <Selector xpath='./@href' data='/courses/importing-and-managing-finan...'>, <Selector xpath='./@href' data='/courses/interactive-data-visualizati...'>, <Selector xpath='./@href' data='/courses/case-study-exploratory-data-...'>, <Selector xpath='./@href' data='/courses/introduction-to-importing-da...'>, <Selector xpath='./@href' data='/courses/intermediate-importing-data-...'>, <Selector xpath='./@href' data='/courses/data-visualization-in-r'>, <Selector xpath='./@href' data='/courses/python-data-science-toolbox-...'>, <Selector xpath='./@href' data='/courses/python-data-science-toolbox-...'>, <Selector xpath='./@href' data='/courses/statistical-thinking-in-pyth...'>, <Selector xpath='./@href' data='/courses/statistical-thinking-in-pyth...'>, <Selector xpath='./@href' data='/courses/introduction-to-statistical-...'>, <Selector xpath='./@href' data='/courses/intermediate-statistical-mod...'>, <Selector xpath='./@href' data='/courses/intermediate-portfolio-analy...'>, <Selector xpath='./@href' data='/courses/intermediate-importing-data-...'>, <Selector xpath='./@href' data='/courses/introduction-to-importing-da...'>, <Selector xpath='./@href' data='/courses/pandas-foundations'>, <Selector xpath='./@href' data='/courses/manipulating-dataframes-with...'>, <Selector xpath='./@href' data='/courses/merging-dataframes-with-pandas'>, <Selector xpath='./@href' data='/courses/bond-valuation-and-analysis-...'>, <Selector xpath='./@href' data='/courses/foundations-of-inference-in-r'>, <Selector xpath='./@href' data='/courses/introduction-to-data-visuali...'>, <Selector xpath='./@href' data='/courses/exploratory-data-analysis-in-r'>, <Selector xpath='./@href' data='/courses/correlation-and-regression-in-r'>, <Selector xpath='./@href' data='/courses/introduction-to-data-in-r'>, <Selector xpath='./@href' data='/courses/arima-models-in-r'>, <Selector xpath='./@href' data='/courses/unsupervised-learning-in-r'>, <Selector xpath='./@href' data='/courses/visualizing-geospatial-data-...'>, <Selector xpath='./@href' data='/courses/introduction-to-network-anal...'>, <Selector xpath='./@href' data='/courses/supervised-learning-with-sci...'>, <Selector xpath='./@href' data='/courses/introduction-to-sql'>, <Selector xpath='./@href' data='/courses/case-studies-manipulating-ti...'>, <Selector xpath='./@href' data='/courses/introduction-to-deep-learnin...'>, <Selector xpath='./@href' data='/courses/object-oriented-programming-...'>, <Selector xpath='./@href' data='/courses/sentiment-analysis-in-r'>, <Selector xpath='./@href' data='/courses/cleaning-data-in-python'>, <Selector xpath='./@href' data='/courses/unsupervised-learning-in-python'>, <Selector xpath='./@href' data='/courses/visualizing-time-series-data...'>, <Selector xpath='./@href' data='/courses/life-insurance-products-valu...'>, <Selector xpath='./@href' data='/courses/foundations-of-probability-in-r'>, <Selector xpath='./@href' data='/courses/scalable-data-processing-in-r'>, <Selector xpath='./@href' data='/courses/case-study-school-budgeting-...'>, <Selector xpath='./@href' data='/courses/introduction-to-r-for-finance'>, <Selector xpath='./@href' data='/courses/intermediate-r-for-finance'>, <Selector xpath='./@href' data='/courses/supervised-learning-in-r-cla...'>, <Selector xpath='./@href' data='/courses/string-manipulation-with-str...'>, <Selector xpath='./@href' data='/courses/writing-efficient-r-code'>, <Selector xpath='./@href' data='/courses/forecasting-in-r'>, <Selector xpath='./@href' data='/courses/machine-learning-with-tree-b...'>, <Selector xpath='./@href' data='/courses/working-with-web-data-in-r'>, <Selector xpath='./@href' data='/courses/quantitative-risk-management...'>, <Selector xpath='./@href' data='/courses/spatial-statistics-in-r'>, <Selector xpath='./@href' data='/courses/data-visualization-with-latt...'>, <Selector xpath='./@href' data='/courses/introduction-to-spark-with-s...'>, <Selector xpath='./@href' data='/courses/data-types-for-data-science-...'>, <Selector xpath='./@href' data='/courses/sentiment-analysis-in-r-the-...'>, <Selector xpath='./@href' data='/courses/intermediate-network-analysi...'>, <Selector xpath='./@href' data='/courses/multiple-and-logistic-regres...'>, <Selector xpath='./@href' data='/courses/inference-for-linear-regress...'>, <Selector xpath='./@href' data='/courses/introduction-to-natural-lang...'>, <Selector xpath='./@href' data='/courses/building-chatbots-in-python'>, <Selector xpath='./@href' data='/courses/extreme-gradient-boosting-wi...'>, <Selector xpath='./@href' data='/courses/equity-valuation-in-r'>, <Selector xpath='./@href' data='/courses/case-studies-building-web-ap...'>, <Selector xpath='./@href' data='/courses/supervised-learning-in-r-reg...'>, <Selector xpath='./@href' data='/courses/importing-and-managing-finan...'>, <Selector xpath='./@href' data='/courses/optimizing-r-code-with-rcpp'>, <Selector xpath='./@href' data='/courses/manipulating-time-series-dat...'>, <Selector xpath='./@href' data='/courses/time-series-analysis-in-python'>, <Selector xpath='./@href' data='/courses/parallel-programming-with-da...'>, <Selector xpath='./@href' data='/courses/spatial-analysis-with-sf-and...'>, <Selector xpath='./@href' data='/courses/introduction-to-pyspark'>, <Selector xpath='./@href' data='/courses/network-analysis-in-r'>, <Selector xpath='./@href' data='/courses/case-studies-in-statistical-...'>, <Selector xpath='./@href' data='/courses/joining-data-in-postgresql'>, <Selector xpath='./@href' data='/courses/introduction-to-the-tidyverse'>, <Selector xpath='./@href' data='/courses/introduction-to-shell'>, <Selector xpath='./@href' data='/courses/developing-r-packages'>, <Selector xpath='./@href' data='/courses/inference-for-numerical-data...'>, <Selector xpath='./@href' data='/courses/visualizing-time-series-data...'>, <Selector xpath='./@href' data='/courses/data-manipulation-with-datat...'>, <Selector xpath='./@href' data='/courses/fundamentals-of-bayesian-dat...'>, <Selector xpath='./@href' data='/courses/working-with-dates-and-times...'>, <Selector xpath='./@href' data='/courses/introduction-to-git'>, <Selector xpath='./@href' data='/courses/python-for-r-users'>, <Selector xpath='./@href' data='/courses/cluster-analysis-in-r'>, <Selector xpath='./@href' data='/courses/introduction-to-financial-co...'>, <Selector xpath='./@href' data='/courses/introduction-to-portfolio-ri...'>, <Selector xpath='./@href' data='/courses/inference-for-categorical-da...'>, <Selector xpath='./@href' data='/courses/conda-essentials'>, <Selector xpath='./@href' data='/courses/interactive-data-visualizati...'>, <Selector xpath='./@href' data='/courses/visualizing-big-data-with-tr...'>, <Selector xpath='./@href' data='/courses/building-dashboards-with-fle...'>, <Selector xpath='./@href' data='/courses/communicating-with-data-in-t...'>, <Selector xpath='./@href' data='/courses/introduction-to-linear-model...'>, <Selector xpath='./@href' data='/courses/introduction-to-using-mongod...'>, <Selector xpath='./@href' data='/courses/chip-seq-with-bioconductor-in-r'>, <Selector xpath='./@href' data='/courses/joining-data-with-datatable-...'>, <Selector xpath='./@href' data='/courses/foundations-of-functional-pr...'>, <Selector xpath='./@href' data='/courses/visualization-best-practices...'>, <Selector xpath='./@href' data='/courses/building-dashboards-with-shi...'>, <Selector xpath='./@href' data='/courses/modeling-with-data-in-the-ti...'>, <Selector xpath='./@href' data='/courses/human-resources-analytics-ex...'>, <Selector xpath='./@href' data='/courses/business-process-analytics-in-r'>, <Selector xpath='./@href' data='/courses/working-with-data-in-the-tid...'>, <Selector xpath='./@href' data='/courses/supervised-learning-in-r-cas...'>, <Selector xpath='./@href' data='/courses/forecasting-product-demand-in-r'>, <Selector xpath='./@href' data='/courses/machine-learning-for-marketi...'>, <Selector xpath='./@href' data='/courses/case-studies-network-analysi...'>, <Selector xpath='./@href' data='/courses/hierarchical-and-mixed-effec...'>, <Selector xpath='./@href' data='/courses/machine-learning-for-time-se...'>, <Selector xpath='./@href' data='/courses/customer-analytics-and-ab-te...'>, <Selector xpath='./@href' data='/courses/linear-classifiers-in-python'>, <Selector xpath='./@href' data='/courses/human-resources-analytics-pr...'>, <Selector xpath='./@href' data='/courses/parallel-programming-in-r'>, <Selector xpath='./@href' data='/courses/feature-engineering-with-pys...'>, <Selector xpath='./@href' data='/courses/machine-learning-with-tree-b...'>, <Selector xpath='./@href' data='/courses/introduction-to-bioconductor...'>, <Selector xpath='./@href' data='/courses/human-resources-analytics-pr...'>, <Selector xpath='./@href' data='/courses/marketing-analytics-predicti...'>, <Selector xpath='./@href' data='/courses/data-privacy-and-anonymizati...'>, <Selector xpath='./@href' data='/courses/nonlinear-modeling-in-r-with...'>, <Selector xpath='./@href' data='/courses/bayesian-modeling-with-rjags'>, <Selector xpath='./@href' data='/courses/structural-equation-modeling...'>, <Selector xpath='./@href' data='/courses/differential-expression-anal...'>, <Selector xpath='./@href' data='/courses/factor-analysis-in-r'>, <Selector xpath='./@href' data='/courses/introduction-to-predictive-a...'>, <Selector xpath='./@href' data='/courses/choice-modeling-for-marketin...'>, <Selector xpath='./@href' data='/courses/categorical-data-in-the-tidy...'>, <Selector xpath='./@href' data='/courses/multivariate-probability-dis...'>, <Selector xpath='./@href' data='/courses/advanced-deep-learning-with-...'>, <Selector xpath='./@href' data='/courses/experimental-design-in-r'>, <Selector xpath='./@href' data='/courses/preprocessing-for-machine-le...'>, <Selector xpath='./@href' data='/courses/machine-learning-for-finance...'>, <Selector xpath='./@href' data='/courses/building-response-models-in-r'>, <Selector xpath='./@href' data='/courses/bayesian-regression-modeling...'>, <Selector xpath='./@href' data='/courses/intermediate-functional-prog...'>, <Selector xpath='./@href' data='/courses/introduction-to-python-for-f...'>, <Selector xpath='./@href' data='/courses/analyzing-survey-data-in-r'>, <Selector xpath='./@href' data='/courses/mixture-models-in-r'>, <Selector xpath='./@href' data='/courses/network-analysis-in-the-tidy...'>, <Selector xpath='./@href' data='/courses/hyperparameter-tuning-in-r'>, <Selector xpath='./@href' data='/courses/support-vector-machines-in-r'>, <Selector xpath='./@href' data='/courses/interactive-maps-with-leafle...'>, <Selector xpath='./@href' data='/courses/analyzing-election-and-polli...'>, <Selector xpath='./@href' data='/courses/ab-testing-in-r'>, <Selector xpath='./@href' data='/courses/rna-seq-with-bioconductor-in-r'>, <Selector xpath='./@href' data='/courses/analyzing-police-activity-wi...'>, <Selector xpath='./@href' data='/courses/analyzing-us-census-data-in-r'>, <Selector xpath='./@href' data='/courses/building-and-distributing-pa...'>, <Selector xpath='./@href' data='/courses/intermediate-data-visualizat...'>, <Selector xpath='./@href' data='/courses/anomaly-detection-in-r'>, <Selector xpath='./@href' data='/courses/statistical-simulation-in-py...'>, <Selector xpath='./@href' data='/courses/financial-forecasting-in-python'>, <Selector xpath='./@href' data='/courses/dealing-with-missing-data-in-r'>, <Selector xpath='./@href' data='/courses/python-for-matlab-users'>, <Selector xpath='./@href' data='/courses/visualizing-geospatial-data-...'>, <Selector xpath='./@href' data='/courses/survival-analysis-in-r'>, <Selector xpath='./@href' data='/courses/biomedical-image-analysis-in...'>, <Selector xpath='./@href' data='/courses/recommendation-engines-in-py...'>, <Selector xpath='./@href' data='/courses/financial-analytics-in-r'>, <Selector xpath='./@href' data='/courses/interactive-data-visualizati...'>, <Selector xpath='./@href' data='/courses/intermediate-interactive-dat...'>, <Selector xpath='./@href' data='/courses/machine-learning-in-the-tidy...'>, <Selector xpath='./@href' data='/courses/predictive-analytics-using-n...'>, <Selector xpath='./@href' data='/courses/pivot-tables-in-spreadsheets'>, <Selector xpath='./@href' data='/courses/intermediate-t-sql'>, <Selector xpath='./@href' data='/courses/web-scraping-with-python'>, <Selector xpath='./@href' data='/courses/working-with-geospatial-data...'>, <Selector xpath='./@href' data='/courses/designing-and-analyzing-clin...'>, <Selector xpath='./@href' data='/courses/single-cell-rna-seq-with-bio...'>, <Selector xpath='./@href' data='/courses/intermediate-spreadsheets'>, <Selector xpath='./@href' data='/courses/image-processing-with-keras-...'>, <Selector xpath='./@href' data='/courses/linear-algebra-for-data-scie...'>, <Selector xpath='./@href' data='/courses/generalized-linear-models-in-r'>, <Selector xpath='./@href' data='/courses/writing-functions-and-stored...'>, <Selector xpath='./@href' data='/courses/advanced-nlp-with-spacy'>, <Selector xpath='./@href' data='/courses/introduction-to-spreadsheets'>, <Selector xpath='./@href' data='/courses/data-analysis-in-spreadsheets'>, <Selector xpath='./@href' data='/courses/supply-chain-analytics-in-py...'>, <Selector xpath='./@href' data='/courses/fraud-detection-in-r'>, <Selector xpath='./@href' data='/courses/analyzing-social-media-data-...'>, <Selector xpath='./@href' data='/courses/garch-models-in-r'>, <Selector xpath='./@href' data='/courses/course-creation-at-datacamp'>, <Selector xpath='./@href' data='/courses/longitudinal-analysis-in-r'>, <Selector xpath='./@href' data='/courses/object-oriented-programming-...'>, <Selector xpath='./@href' data='/courses/fraud-detection-in-python'>, <Selector xpath='./@href' data='/courses/data-visualization-in-spread...'>, <Selector xpath='./@href' data='/courses/advanced-dimensionality-redu...'>, <Selector xpath='./@href' data='/courses/customer-segmentation-in-python'>, <Selector xpath='./@href' data='/courses/topic-modeling-in-r'>, <Selector xpath='./@href' data='/courses/probability-puzzles-in-r'>, <Selector xpath='./@href' data='/courses/feature-engineering-in-r'>, <Selector xpath='./@href' data='/courses/defensive-r-programming'>, <Selector xpath='./@href' data='/courses/r-for-sas-users'>, <Selector xpath='./@href' data='/courses/intermediate-predictive-anal...'>, <Selector xpath='./@href' data='/courses/analyzing-us-census-data-in-...'>, <Selector xpath='./@href' data='/courses/big-data-fundamentals-with-p...'>, <Selector xpath='./@href' data='/courses/dimensionality-reduction-in-...'>, <Selector xpath='./@href' data='/courses/working-with-dates-and-times...'>, <Selector xpath='./@href' data='/courses/designing-machine-learning-w...'>, <Selector xpath='./@href' data='/courses/software-engineering-for-dat...'>, <Selector xpath='./@href' data='/courses/exploratory-data-analysis-in...'>, <Selector xpath='./@href' data='/courses/intermediate-sql'>, <Selector xpath='./@href' data='/courses/writing-efficient-python-code'>, <Selector xpath='./@href' data='/courses/introduction-to-data-science...'>, <Selector xpath='./@href' data='/courses/introduction-to-relational-d...'>, <Selector xpath='./@href' data='/courses/introduction-to-sql-server'>, <Selector xpath='./@href' data='/courses/introduction-to-data-visuali...'>, <Selector xpath='./@href' data='/courses/introduction-to-text-analysi...'>, <Selector xpath='./@href' data='/courses/feature-engineering-for-mach...'>, <Selector xpath='./@href' data='/courses/introduction-to-statistics-i...'>, <Selector xpath='./@href' data='/courses/postgresql-summary-stats-and...'>, <Selector xpath='./@href' data='/courses/reporting-in-sql'>, <Selector xpath='./@href' data='/courses/foundations-of-probability-i...'>, <Selector xpath='./@href' data='/courses/writing-efficient-code-with-...'>, <Selector xpath='./@href' data='/courses/python-for-spreadsheet-users'>, <Selector xpath='./@href' data='/courses/improving-your-data-visualiz...'>, <Selector xpath='./@href' data='/courses/cluster-analysis-in-python'>, <Selector xpath='./@href' data='/courses/ai-fundamentals'>, <Selector xpath='./@href' data='/courses/applying-sql-to-real-world-p...'>, <Selector xpath='./@href' data='/courses/analyzing-marketing-campaign...'>, <Selector xpath='./@href' data='/courses/financial-analytics-in-sprea...'>, <Selector xpath='./@href' data='/courses/machine-learning-with-pyspark'>, <Selector xpath='./@href' data='/courses/financial-modeling-in-spread...'>, <Selector xpath='./@href' data='/courses/introduction-to-spark-sql-in...'>, <Selector xpath='./@href' data='/courses/conditional-formatting-in-sp...'>, <Selector xpath='./@href' data='/courses/introduction-to-tensorflow-i...'>, <Selector xpath='./@href' data='/courses/model-validation-in-python'>, <Selector xpath='./@href' data='/courses/hyperparameter-tuning-in-python'>, <Selector xpath='./@href' data='/courses/introduction-to-data-visuali...'>, <Selector xpath='./@href' data='/courses/improving-query-performance-...'>, <Selector xpath='./@href' data='/courses/analyzing-business-data-in-sql'>, <Selector xpath='./@href' data='/courses/ensemble-methods-in-python'>, <Selector xpath='./@href' data='/courses/exploratory-data-analysis-in...'>, <Selector xpath='./@href' data='/courses/generalized-linear-models-in...'>, <Selector xpath='./@href' data='/courses/data-driven-decision-making-...'>, <Selector xpath='./@href' data='/courses/introduction-to-deep-learnin...'>, <Selector xpath='./@href' data='/courses/marketing-analytics-in-sprea...'>, <Selector xpath='./@href' data='/courses/writing-functions-in-python'>, <Selector xpath='./@href' data='/courses/data-processing-in-shell'>, <Selector xpath='./@href' data='/courses/functions-for-manipulating-d...'>, <Selector xpath='./@href' data='/courses/unit-testing-for-data-scienc...'>, <Selector xpath='./@href' data='/courses/error-and-uncertainty-in-spr...'>, <Selector xpath='./@href' data='/courses/analyzing-iot-data-in-python'>, <Selector xpath='./@href' data='/courses/improving-query-performance-...'>, <Selector xpath='./@href' data='/courses/practicing-coding-interview-...'>, <Selector xpath='./@href' data='/courses/practicing-statistics-interv...'>, <Selector xpath='./@href' data='/courses/introduction-to-deep-learnin...'>, <Selector xpath='./@href' data='/courses/cleaning-data-with-pyspark'>, <Selector xpath='./@href' data='/courses/experimental-design-in-python'>, <Selector xpath='./@href' data='/courses/feature-engineering-for-nlp-...'>, <Selector xpath='./@href' data='/courses/streamlined-data-ingestion-w...'>, <Selector xpath='./@href' data='/courses/building-and-optimizing-trig...'>, <Selector xpath='./@href' data='/courses/hierarchical-and-recursive-q...'>, <Selector xpath='./@href' data='/courses/winning-a-kaggle-competition...'>, <Selector xpath='./@href' data='/courses/sentiment-analysis-in-python'>, <Selector xpath='./@href' data='/courses/image-processing-in-python'>, <Selector xpath='./@href' data='/courses/functions-for-manipulating-d...'>, <Selector xpath='./@href' data='/courses/time-series-analysis-in-sql-...'>, <Selector xpath='./@href' data='/courses/survey-and-measurement-devel...'>, <Selector xpath='./@href' data='/courses/regular-expressions-in-python'>, <Selector xpath='./@href' data='/courses/arima-models-in-python'>, <Selector xpath='./@href' data='/courses/dealing-with-missing-data-in...'>, <Selector xpath='./@href' data='/courses/introduction-to-aws-boto-in-...'>, <Selector xpath='./@href' data='/courses/data-science-for-business'>, <Selector xpath='./@href' data='/courses/machine-translation-in-python'>, <Selector xpath='./@href' data='/courses/spoken-language-processing-i...'>, <Selector xpath='./@href' data='/courses/building-data-engineering-pi...'>, <Selector xpath='./@href' data='/courses/introduction-to-portfolio-an...'>, <Selector xpath='./@href' data='/courses/practicing-machine-learning-...'>, <Selector xpath='./@href' data='/courses/transactions-and-error-handl...'>, <Selector xpath='./@href' data='/courses/credit-risk-modeling-in-python'>, <Selector xpath='./@href' data='/courses/introduction-to-tensorflow-in-r'>, <Selector xpath='./@href' data='/courses/introduction-to-natural-lang...'>, <Selector xpath='./@href' data='/courses/machine-learning-for-marketi...'>, <Selector xpath='./@href' data='/courses/practicing-machine-learning-...'>, <Selector xpath='./@href' data='/courses/data-manipulation-with-dplyr'>, <Selector xpath='./@href' data='/courses/introduction-to-data-enginee...'>, <Selector xpath='./@href' data='/courses/pandas-joins-for-spreadsheet...'>, <Selector xpath='./@href' data='/courses/introduction-to-scala'>, <Selector xpath='./@href' data='/courses/introduction-to-writing-func...'>, <Selector xpath='./@href' data='/courses/analyzing-social-media-data-...'>, <Selector xpath='./@href' data='/courses/introduction-to-data-visuali...'>, <Selector xpath='./@href' data='/courses/creating-postgresql-databases'>, <Selector xpath='./@href' data='/courses/intermediate-data-visualizat...'>, <Selector xpath='./@href' data='/courses/practicing-statistics-interv...'>, <Selector xpath='./@href' data='/courses/joining-data-with-dplyr-01e2...'>, <Selector xpath='./@href' data='/courses/predicting-ctr-with-machine-...'>, <Selector xpath='./@href' data='/courses/database-design'>, <Selector xpath='./@href' data='/courses/dimensionality-reduction-in-r'>, <Selector xpath='./@href' data='/courses/time-series-with-datatable-in-r'>, <Selector xpath='./@href' data='/courses/creating-robust-workflows-in...'>, <Selector xpath='./@href' data='/courses/options-trading-in-spreadsheets'>, <Selector xpath='./@href' data='/courses/loan-amortization-in-spreads...'>, <Selector xpath='./@href' data='/courses/command-line-automation-in-p...'>, <Selector xpath='./@href' data='/courses/recurrent-neural-networks-fo...'>, <Selector xpath='./@href' data='/courses/market-basket-analysis-in-r'>, <Selector xpath='./@href' data='/courses/building-web-applications-wi...'>, <Selector xpath='./@href' data='/courses/quantitative-risk-management...'>, <Selector xpath='./@href' data='/courses/natural-language-generation-...'>, <Selector xpath='./@href' data='/courses/introduction-to-oracle-sql'>, <Selector xpath='./@href' data='/courses/intermediate-regular-express...'>, <Selector xpath='./@href' data='/courses/introduction-to-bash-scripting'>, <Selector xpath='./@href' data='/courses/data-manipulation-with-pandas'>, <Selector xpath='./@href' data='/courses/introduction-to-tableau'>, <Selector xpath='./@href' data='/courses/data-science-for-everyone'>]\n"
     ]
    }
   ],
   "source": [
    "print(hrefs_from_xpath)"
   ]
  },
  {
   "cell_type": "markdown",
   "metadata": {},
   "source": [
    "### Top Level Text"
   ]
  },
  {
   "cell_type": "code",
   "execution_count": 27,
   "metadata": {},
   "outputs": [],
   "source": [
    "from scrapy.http import TextResponse\n",
    "\n",
    "url = 'https://www.DataCamp.com'\n",
    "res = requests.get(url)\n",
    "res = TextResponse(body=res.content, url=url)"
   ]
  },
  {
   "cell_type": "code",
   "execution_count": 31,
   "metadata": {},
   "outputs": [],
   "source": [
    "def our_xpath( xpath ):\n",
    "    xextr = res.xpath( xpath ).extract()\n",
    "    return xextr\n",
    "\n",
    "def our_css( css ):\n",
    "    cextr = res.css( css ).extract()\n",
    "    return cextr\n",
    "\n",
    "def print_results( xpath, css_locator ):\n",
    "    print( \"Your XPath extracts to following:\")\n",
    "    print( our_xpath(xpath) )\n",
    "    print(\"_________________\\n\")\n",
    "    print( \"Your CSS Locator extracts the following:\")\n",
    "    print( our_css(css_locator) )\n",
    "    return None"
   ]
  },
  {
   "cell_type": "code",
   "execution_count": 32,
   "metadata": {},
   "outputs": [
    {
     "name": "stdout",
     "output_type": "stream",
     "text": [
      "Your XPath extracts to following:\n",
      "[]\n",
      "_________________\n",
      "\n",
      "Your CSS Locator extracts the following:\n",
      "[]\n"
     ]
    }
   ],
   "source": [
    "# Create an XPath string to the desired text.\n",
    "xpath = '//p[@id=\"p3\"]/text()'\n",
    "\n",
    "# Create a CSS Locator string to the desired text.\n",
    "css_locator = 'p#p3::text'\n",
    "\n",
    "# Print the text from our selections\n",
    "print_results( xpath, css_locator )"
   ]
  },
  {
   "cell_type": "markdown",
   "metadata": {},
   "source": [
    "### All Level Text"
   ]
  },
  {
   "cell_type": "code",
   "execution_count": 33,
   "metadata": {},
   "outputs": [
    {
     "name": "stdout",
     "output_type": "stream",
     "text": [
      "Your XPath extracts to following:\n",
      "[]\n",
      "_________________\n",
      "\n",
      "Your CSS Locator extracts the following:\n",
      "[]\n"
     ]
    }
   ],
   "source": [
    "# Create an XPath string to the desired text.\n",
    "xpath = '//p[@id=\"p3\"]//text()'\n",
    "\n",
    "# Create a CSS Locator string to the desired text.\n",
    "css_locator = 'p#p3 ::text'\n",
    "\n",
    "# Print the text from our selections\n",
    "print_results( xpath, css_locator )"
   ]
  },
  {
   "cell_type": "markdown",
   "metadata": {},
   "source": [
    "### Text Extraction"
   ]
  },
  {
   "cell_type": "code",
   "execution_count": 34,
   "metadata": {},
   "outputs": [],
   "source": [
    "html = '''\n",
    "<p id=\"p-example\">\n",
    "    Hello world! Try <a href=\"http://www.datacamp.com\">DataCamp</a> today!\n",
    "</p>\n",
    "'''\n",
    "\n",
    "sel = Selector( text = html )"
   ]
  },
  {
   "cell_type": "code",
   "execution_count": 35,
   "metadata": {},
   "outputs": [
    {
     "data": {
      "text/plain": [
       "['\\n    Hello world! Try ', ' today!\\n']"
      ]
     },
     "execution_count": 35,
     "metadata": {},
     "output_type": "execute_result"
    }
   ],
   "source": [
    "sel.xpath('//p[@id=\"p-example\"]/text()').extract()"
   ]
  },
  {
   "cell_type": "code",
   "execution_count": 15,
   "metadata": {},
   "outputs": [
    {
     "data": {
      "text/plain": [
       "['\\n    Hello world! Try ', 'DataCamp', ' today!\\n']"
      ]
     },
     "execution_count": 15,
     "metadata": {},
     "output_type": "execute_result"
    }
   ],
   "source": [
    "sel.xpath('//p[@id=\"p-example\"]//text()').extract()"
   ]
  },
  {
   "cell_type": "code",
   "execution_count": 16,
   "metadata": {},
   "outputs": [
    {
     "data": {
      "text/plain": [
       "['\\n    Hello world! Try ', ' today!\\n']"
      ]
     },
     "execution_count": 16,
     "metadata": {},
     "output_type": "execute_result"
    }
   ],
   "source": [
    "sel.css('p#p-example::text').extract()"
   ]
  },
  {
   "cell_type": "code",
   "execution_count": 17,
   "metadata": {},
   "outputs": [
    {
     "data": {
      "text/plain": [
       "['\\n    Hello world! Try ', 'DataCamp', ' today!\\n']"
      ]
     },
     "execution_count": 17,
     "metadata": {},
     "output_type": "execute_result"
    }
   ],
   "source": [
    "sel.css('p#p-example ::text').extract()"
   ]
  },
  {
   "cell_type": "code",
   "execution_count": 18,
   "metadata": {},
   "outputs": [
    {
     "data": {
      "text/plain": [
       "scrapy.selector.unified.Selector"
      ]
     },
     "execution_count": 18,
     "metadata": {},
     "output_type": "execute_result"
    }
   ],
   "source": [
    "type(sel)"
   ]
  },
  {
   "cell_type": "markdown",
   "metadata": {},
   "source": [
    "## Respond\n",
    "\n",
    "### Reveal By Response"
   ]
  },
  {
   "cell_type": "code",
   "execution_count": 36,
   "metadata": {},
   "outputs": [],
   "source": [
    "from scrapy.http import TextResponse\n",
    "\n",
    "url = 'https://www.datacamp.com/courses/all'\n",
    "response = requests.get(url)\n",
    "response = TextResponse(body=response.content, url=url)"
   ]
  },
  {
   "cell_type": "code",
   "execution_count": 37,
   "metadata": {},
   "outputs": [],
   "source": [
    "def print_url_title( url, title ):\n",
    "    print( \"Here is what you found:\" )\n",
    "    print( \"\\t-URL: %s\" % url )\n",
    "    print( \"\\t-Title: %s\" % title )"
   ]
  },
  {
   "cell_type": "code",
   "execution_count": 38,
   "metadata": {},
   "outputs": [
    {
     "name": "stdout",
     "output_type": "stream",
     "text": [
      "Here is what you found:\n",
      "\t-URL: https://www.datacamp.com/courses/all\n",
      "\t-Title: Data Science Courses: R & Python Analysis Tutorials | DataCamp\n"
     ]
    }
   ],
   "source": [
    "# Get the URL to the website loaded in response\n",
    "this_url = response.url\n",
    "\n",
    "# Get the title of the website loaded in response\n",
    "this_title = response.xpath( '/html/head/title/text()' ).extract_first()\n",
    "\n",
    "# Print out our findings\n",
    "print_url_title( this_url, this_title )"
   ]
  },
  {
   "cell_type": "markdown",
   "metadata": {},
   "source": [
    "### Responding with Selectors"
   ]
  },
  {
   "cell_type": "code",
   "execution_count": 39,
   "metadata": {},
   "outputs": [],
   "source": [
    "# Create a CSS Locator string to the desired hyperlink elements\n",
    "css_locator = 'a.course-block__link'\n",
    "\n",
    "# Select the hyperlink elements from response and sel\n",
    "response_as = response.css(css_locator)\n",
    "sel_as = sel.css(css_locator)\n",
    "\n",
    "# Examine similarity\n",
    "nr = len(response_as)\n",
    "ns = len(sel_as)\n",
    "for i in range(min(nr, ns, 2)):\n",
    "    print(\"Element %d from response: %s\" % (i+1, response_as[i]))\n",
    "    print(\"Element %d from sel: %s\" % (i+1, sel_as[i]))\n",
    "    print(\"\")"
   ]
  },
  {
   "cell_type": "markdown",
   "metadata": {},
   "source": [
    "### Selecting from a Selection"
   ]
  },
  {
   "cell_type": "code",
   "execution_count": 42,
   "metadata": {},
   "outputs": [
    {
     "name": "stdout",
     "output_type": "stream",
     "text": [
      "The text from the h4 element is: Introduction to R\n"
     ]
    }
   ],
   "source": [
    "# Select all desired div elements\n",
    "divs = response.css( 'div.course-block' )\n",
    "\n",
    "# Take the first div element\n",
    "first_div = divs[0]\n",
    "\n",
    "# Extract the text from the h4 element in first_div\n",
    "h4_text = first_div.css('h4::text').extract_first()\n",
    "\n",
    "# Print out the text\n",
    "print( \"The text from the h4 element is:\", h4_text )"
   ]
  },
  {
   "cell_type": "markdown",
   "metadata": {},
   "source": [
    "## Survey\n",
    "\n",
    "### Titular"
   ]
  },
  {
   "cell_type": "code",
   "execution_count": 43,
   "metadata": {},
   "outputs": [
    {
     "name": "stdout",
     "output_type": "stream",
     "text": [
      ">> Introduction to R\n",
      ">> Intermediate R\n",
      ">> Introduction to Machine Learning\n",
      ">> Cleaning Data in R\n",
      ">> Introduction to Python\n",
      ">> Intermediate R: Practice\n",
      ">> Data Visualization with ggplot2 (Part 1)\n",
      ">> Data Visualization with ggplot2 (Part 2)\n",
      ">> Intermediate Python\n",
      ">> Data Visualization with ggplot2 (Part 3)\n",
      ">> Text Mining with Bag-of-Words in R\n",
      ">> Case Study: Exploring Baseball Pitching Data in R\n",
      ">> Introduction to Portfolio Analysis in R\n",
      ">> Credit Risk Modeling in R\n",
      ">> Machine Learning with caret in R\n",
      ">> Introduction to Databases in Python\n",
      ">> Manipulating Time Series Data with xts and zoo in R\n",
      ">> Time Series Analysis in R\n",
      ">> Importing & Cleaning Data in R: Case Studies\n",
      ">> Financial Trading in R\n",
      ">> Importing and Managing Financial Data in R\n",
      ">> Interactive Data Visualization with Bokeh\n",
      ">> Case Study: Exploratory Data Analysis in R\n",
      ">> Introduction to Importing Data in R\n",
      ">> Intermediate Importing Data in R\n",
      ">> Data Visualization in R\n",
      ">> Python Data Science Toolbox (Part 2)\n",
      ">> Python Data Science Toolbox (Part 1)\n",
      ">> Statistical Thinking in Python (Part 1)\n",
      ">> Statistical Thinking in Python (Part 2)\n",
      ">> Introduction to Statistical Modeling in R\n",
      ">> Intermediate Statistical Modeling in R\n",
      ">> Intermediate Portfolio Analysis in R\n",
      ">> Intermediate Importing Data in Python\n",
      ">> Introduction to Importing Data in Python\n",
      ">> pandas Foundations\n",
      ">> Manipulating DataFrames with pandas\n",
      ">> Merging DataFrames with pandas\n",
      ">> Bond Valuation and Analysis in R\n",
      ">> Foundations of Inference in R\n",
      ">> Introduction to Data Visualization in Python\n",
      ">> Exploratory Data Analysis in R\n",
      ">> Correlation and Regression in R\n",
      ">> Introduction to Data in R\n",
      ">> ARIMA Models in R\n",
      ">> Unsupervised Learning in R\n",
      ">> Visualizing Geospatial Data in R\n",
      ">> Introduction to Network Analysis in Python\n",
      ">> Supervised Learning with scikit-learn\n",
      ">> Introduction to SQL\n",
      ">> Case Studies: Manipulating Time Series Data in R\n",
      ">> Introduction to Deep Learning in Python\n",
      ">> Object-Oriented Programming with S3 and R6 in R\n",
      ">> Sentiment Analysis in R\n",
      ">> Cleaning Data in Python\n",
      ">> Unsupervised Learning in Python\n",
      ">> Visualizing Time Series Data in R\n",
      ">> Life Insurance Products Valuation in R\n",
      ">> Foundations of Probability in R\n",
      ">> Scalable Data Processing in R\n",
      ">> Case Study: School Budgeting with Machine Learning i...\n",
      ">> Introduction to R for Finance\n",
      ">> Intermediate R for Finance\n",
      ">> Supervised Learning in R: Classification\n",
      ">> String Manipulation with stringr in R\n",
      ">> Writing Efficient R Code\n",
      ">> Forecasting in R\n",
      ">> Machine Learning with Tree-Based Models in R\n",
      ">> Working with Web Data in R\n",
      ">> Quantitative Risk Management in R\n",
      ">> Spatial Statistics in R\n",
      ">> Data Visualization with lattice in R\n",
      ">> Introduction to Spark with sparklyr in R\n",
      ">> Data Types for Data Science in Python\n",
      ">> Sentiment Analysis in R: The Tidy Way\n",
      ">> Intermediate Network Analysis in Python\n",
      ">> Multiple and Logistic Regression in R\n",
      ">> Inference for Linear Regression in R\n",
      ">> Introduction to Natural Language Processing in Python\n",
      ">> Building Chatbots in Python\n",
      ">> Extreme Gradient Boosting with XGBoost\n",
      ">> Equity Valuation in R\n",
      ">> Case Studies: Building Web Applications with Shiny in R\n",
      ">> Supervised Learning in R: Regression\n",
      ">> Importing and Managing Financial Data in Python\n",
      ">> Optimizing R Code with Rcpp\n",
      ">> Manipulating Time Series Data in Python\n",
      ">> Time Series Analysis in Python\n",
      ">> Parallel Programming with Dask in Python\n",
      ">> Spatial Analysis with sf and raster in R\n",
      ">> Introduction to PySpark\n",
      ">> Network Analysis in R\n",
      ">> Case Studies in Statistical Thinking\n",
      ">> Joining Data in SQL\n",
      ">> Introduction to the Tidyverse\n",
      ">> Introduction to Shell\n",
      ">> Developing R Packages\n",
      ">> Inference for Numerical Data in R\n",
      ">> Visualizing Time Series Data in Python\n",
      ">> Data Manipulation with data.table in R\n",
      ">> Fundamentals of Bayesian Data Analysis in R\n",
      ">> Working with Dates and Times in R\n",
      ">> Introduction to Git\n",
      ">> Python for R Users\n",
      ">> Cluster Analysis in R\n",
      ">> Introduction to Financial Concepts in Python\n",
      ">> Introduction to Portfolio Risk Management in Python\n",
      ">> Inference for Categorical Data in R\n",
      ">> Conda Essentials\n",
      ">> Interactive Data Visualization with plotly in R\n",
      ">> Visualizing Big Data with Trelliscope\n",
      ">> Building Dashboards with flexdashboard\n",
      ">> Communicating with Data in the Tidyverse\n",
      ">> Introduction to Linear Modeling in Python\n",
      ">> Introduction to MongoDB in Python\n",
      ">> ChIP-seq Workflows in R\n",
      ">> Joining Data with data.table in R\n",
      ">> Foundations of Functional Programming with purrr\n",
      ">> Visualization Best Practices in R\n",
      ">> Building Dashboards with shinydashboard\n",
      ">> Modeling with Data in the Tidyverse\n",
      ">> Human Resources Analytics: Exploring Employee Data in R\n",
      ">> Business Process Analytics in R\n",
      ">> Working with Data in the Tidyverse\n",
      ">> Supervised Learning in R: Case Studies\n",
      ">> Forecasting Product Demand in R\n",
      ">> Machine Learning for Marketing Analytics in R\n",
      ">> Case Studies: Network Analysis in R\n",
      ">> Hierarchical and Mixed Effects Models in R\n",
      ">> Machine Learning for Time Series Data in Python\n",
      ">> Customer Analytics and A/B Testing in Python\n",
      ">> Linear Classifiers in Python\n",
      ">> Human Resources Analytics: Predicting Employee Churn...\n",
      ">> Parallel Programming in R\n",
      ">> Feature Engineering with PySpark\n",
      ">> Machine Learning with Tree-Based Models in Python\n",
      ">> Introduction to Bioconductor\n",
      ">> Human Resources Analytics: Predicting Employee Churn...\n",
      ">> Marketing Analytics: Predicting Customer Churn in Py...\n",
      ">> Data Privacy and Anonymization in R\n",
      ">> Nonlinear Modeling in R with GAMs\n",
      ">> Bayesian Modeling with RJAGS\n",
      ">> Structural Equation Modeling with lavaan in R\n",
      ">> Differential Expression Analysis with limma in R\n",
      ">> Factor Analysis in R\n",
      ">> Introduction to Predictive Analytics in Python\n",
      ">> Choice Modeling for Marketing in R\n",
      ">> Categorical Data in the Tidyverse\n",
      ">> Multivariate Probability Distributions in R\n",
      ">> Advanced Deep Learning with Keras\n",
      ">> Experimental Design in R\n",
      ">> Preprocessing for Machine Learning in Python\n",
      ">> Machine Learning for Finance in Python\n",
      ">> Building Response Models in R\n",
      ">> Bayesian Regression Modeling with rstanarm\n",
      ">> Intermediate Functional Programming with purrr\n",
      ">> Introduction to Python for Finance\n",
      ">> Analyzing Survey Data in R\n",
      ">> Mixture Models in R\n",
      ">> Network Analysis in the Tidyverse\n",
      ">> Hyperparameter Tuning in R\n",
      ">> Support Vector Machines in R\n",
      ">> Interactive Maps with leaflet in R\n",
      ">> Analyzing Election and Polling Data in R\n",
      ">> A/B Testing in R\n",
      ">> RNA-Seq with Bioconductor in R\n",
      ">> Analyzing Police Activity with pandas\n",
      ">> Analyzing US Census Data in R\n",
      ">> Conda for Building & Distributing Packages\n",
      ">> Intermediate Data Visualization with Seaborn\n",
      ">> Anomaly Detection in R\n",
      ">> Statistical Simulation in Python\n",
      ">> Financial Forecasting in Python\n",
      ">> Dealing With Missing Data in R\n",
      ">> Python for MATLAB Users\n",
      ">> Visualizing Geospatial Data in Python\n",
      ">> Survival Analysis in R\n",
      ">> Biomedical Image Analysis in Python\n",
      ">> Building Recommendation Engines with PySpark\n",
      ">> Financial Analytics in R\n",
      ">> Interactive Data Visualization with rbokeh\n",
      ">> Intermediate Interactive Data Visualization with plo...\n",
      ">> Machine Learning in the Tidyverse\n",
      ">> Predictive Analytics using Networked Data in R\n",
      ">> Pivot Tables in Spreadsheets\n",
      ">> Intermediate SQL Server\n",
      ">> Web Scraping in Python\n",
      ">> Working with Geospatial Data in Python\n",
      ">> Designing and Analyzing Clinical Trials in R\n",
      ">> Single-Cell RNA-Seq Workflows in R\n",
      ">> Intermediate Spreadsheets\n",
      ">> Image Processing with Keras in Python\n",
      ">> Linear Algebra for Data Science in R\n",
      ">> Generalized Linear Models in R\n",
      ">> Writing Functions and Stored Procedures in SQL Server\n",
      ">> Advanced NLP with spaCy\n",
      ">> Introduction to Spreadsheets\n",
      ">> Data Analysis in Spreadsheets\n",
      ">> Supply Chain Analytics in Python\n",
      ">> Fraud Detection in R\n",
      ">> Analyzing Social Media Data in Python\n",
      ">> GARCH Models in R\n",
      ">> Course Creation at DataCamp\n",
      ">> Longitudinal Analysis in R\n",
      ">> Object-Oriented Programming in Python\n",
      ">> Fraud Detection in Python\n",
      ">> Data Visualization in Spreadsheets\n",
      ">> Advanced Dimensionality Reduction in R\n",
      ">> Customer Segmentation in Python\n",
      ">> Topic Modeling in R\n",
      ">> Probability Puzzles in R\n",
      ">> Feature Engineering in R\n",
      ">> Defensive R Programming\n",
      ">> R For SAS Users\n",
      ">> Intermediate Predictive Analytics in Python\n",
      ">> Analyzing US Census Data in Python\n",
      ">> Big Data Fundamentals with PySpark\n",
      ">> Dimensionality Reduction in Python\n",
      ">> Working with Dates and Times in Python\n",
      ">> Designing Machine Learning Workflows in Python\n",
      ">> Software Engineering for Data Scientists in Python\n",
      ">> Exploratory Data Analysis in SQL\n",
      ">> Intermediate SQL\n",
      ">> Writing Efficient Python Code\n",
      ">> Introduction to Data Science in Python\n",
      ">> Introduction to Relational Databases in SQL\n",
      ">> Introduction to SQL Server\n",
      ">> Introduction to Data Visualization with Matplotlib\n",
      ">> Introduction to Text Analysis in R\n",
      ">> Feature Engineering for Machine Learning in Python\n",
      ">> Introduction to Statistics in Spreadsheets\n",
      ">> PostgreSQL Summary Stats and Window Functions\n",
      ">> Reporting in SQL\n",
      ">> Foundations of Probability in Python\n",
      ">> Writing Efficient Code with pandas\n",
      ">> Python for Spreadsheet Users\n",
      ">> Improving Your Data Visualizations in Python\n",
      ">> Clustering Methods with SciPy\n",
      ">> AI Fundamentals\n",
      ">> Applying SQL to Real-World Problems\n",
      ">> Analyzing Marketing Campaigns with pandas\n",
      ">> Financial Analytics in Spreadsheets\n",
      ">> Machine Learning with PySpark\n",
      ">> Financial Modeling in Spreadsheets\n",
      ">> Introduction to Spark SQL in Python\n",
      ">> Conditional Formatting in Spreadsheets\n",
      ">> Introduction to TensorFlow in Python\n",
      ">> Model Validation in Python\n",
      ">> Hyperparameter Tuning in Python\n",
      ">> Introduction to Data Visualization with Seaborn\n",
      ">> Improving Query Performance in SQL Server\n",
      ">> Analyzing Business Data in SQL\n",
      ">> Ensemble Methods in Python\n",
      ">> Exploratory Data Analysis in Python\n",
      ">> Generalized Linear Models in Python\n",
      ">> Data-Driven Decision Making in SQL\n",
      ">> Introduction to Deep Learning with PyTorch\n",
      ">> Marketing Analytics in Spreadsheets\n",
      ">> Writing Functions in Python\n",
      ">> Data Processing in Shell\n",
      ">> Functions for Manipulating Data in SQL Server\n",
      ">> Unit Testing for Data Science in Python\n",
      ">> Error and Uncertainty in Spreadsheets\n",
      ">> Analyzing IoT Data in Python\n",
      ">> Improving Query Performance in PostgreSQL\n",
      ">> Practicing Coding Interview Questions in Python\n",
      ">> Practicing Statistics Interview Questions in Python\n",
      ">> Introduction to Deep Learning with Keras\n",
      ">> Cleaning Data with PySpark\n",
      ">> Experimental Design in Python\n",
      ">> Feature Engineering for NLP in Python\n",
      ">> Streamlined Data Ingestion with pandas\n",
      ">> Building and Optimizing Triggers in SQL Server\n",
      ">> Hierarchical and Recursive Queries in SQL Server\n",
      ">> Winning a Kaggle Competition in Python\n",
      ">> Sentiment Analysis in Python\n",
      ">> Image Processing in Python\n",
      ">> Functions for Manipulating Data in PostgreSQL\n",
      ">> Time Series Analysis in SQL Server\n",
      ">> Survey and Measurement Development in R\n",
      ">> Regular Expressions in Python\n",
      ">> ARIMA Models in Python\n",
      ">> Dealing with Missing Data in Python\n",
      ">> Introduction to AWS Boto in Python\n",
      ">> Data Science for Business\n",
      ">> Machine Translation in Python\n",
      ">> Spoken Language Processing in Python\n",
      ">> Building Data Engineering Pipelines in Python\n",
      ">> Introduction to Portfolio Analysis in Python\n",
      ">> Practicing Machine Learning Interview Questions in R\n",
      ">> Transactions and Error Handling in SQL Server\n",
      ">> Credit Risk Modeling in Python\n",
      ">> Introduction to TensorFlow in R\n",
      ">> Introduction to Natural Language Processing in R\n",
      ">> Machine Learning for Marketing in Python\n",
      ">> Practicing Machine Learning Interview Questions in P...\n",
      ">> Data Manipulation with dplyr \n",
      ">> Introduction to Data Engineering\n",
      ">> Pandas Joins for Spreadsheet Users\n",
      ">> Introduction to Scala\n",
      ">> Introduction to Writing Functions in R\n",
      ">> Analyzing Social Media Data in R\n",
      ">> Introduction to Data Visualization with ggplot2\n",
      ">> Creating PostgreSQL Databases\n",
      ">> Intermediate Data Visualization with ggplot2\n",
      ">> Practicing Statistics Interview Questions in R\n",
      ">> Joining Data with dplyr\n",
      ">> Predicting CTR with Machine Learning in Python\n",
      ">> Database Design\n",
      ">> Dimensionality Reduction in R\n",
      ">> Time Series with data.table in R\n",
      ">> Creating Robust Workflows in Python\n",
      ">> Options Trading in Spreadsheets\n",
      ">> Loan Amortization in Spreadsheets\n",
      ">> Command Line Automation in Python\n",
      ">> Recurrent Neural Networks for Language Modeling in P...\n",
      ">> Market Basket Analysis in R\n",
      ">> Building Web Applications with Shiny in R\n",
      ">> Quantitative Risk Management in Python\n",
      ">> Natural Language Generation in Python\n",
      ">> Introduction to Oracle SQL\n",
      ">> Intermediate Regular Expressions in R\n",
      ">> Introduction to Bash Scripting\n",
      ">> Data Manipulation with pandas\n",
      ">> Introduction to Tableau\n",
      ">> Data Science for Everyone\n"
     ]
    }
   ],
   "source": [
    "# Create a SelectorList of the course titles\n",
    "crs_title_els = response.css( 'h4::text' )\n",
    "\n",
    "# Extract the course titles \n",
    "crs_titles = crs_title_els.extract()\n",
    "\n",
    "# Print out the course titles \n",
    "for el in crs_titles:\n",
    "  print( \">>\", el )"
   ]
  },
  {
   "cell_type": "code",
   "execution_count": 45,
   "metadata": {},
   "outputs": [
    {
     "name": "stdout",
     "output_type": "stream",
     "text": [
      "1 Introduction to R\n",
      "2 Intermediate R\n",
      "3 Introduction to Machine Learning\n",
      "4 Cleaning Data in R\n",
      "5 Introduction to Python\n",
      "6 Intermediate R: Practice\n",
      "7 Data Visualization with ggplot2 (Part 1)\n",
      "8 Data Visualization with ggplot2 (Part 2)\n",
      "9 Intermediate Python\n",
      "10 Data Visualization with ggplot2 (Part 3)\n",
      "11 Text Mining with Bag-of-Words in R\n",
      "12 Case Study: Exploring Baseball Pitching Data in R\n",
      "13 Introduction to Portfolio Analysis in R\n",
      "14 Credit Risk Modeling in R\n",
      "15 Machine Learning with caret in R\n",
      "16 Introduction to Databases in Python\n",
      "17 Manipulating Time Series Data with xts and zoo in R\n",
      "18 Time Series Analysis in R\n",
      "19 Importing & Cleaning Data in R: Case Studies\n",
      "20 Financial Trading in R\n",
      "21 Importing and Managing Financial Data in R\n",
      "22 Interactive Data Visualization with Bokeh\n",
      "23 Case Study: Exploratory Data Analysis in R\n",
      "24 Introduction to Importing Data in R\n",
      "25 Intermediate Importing Data in R\n",
      "26 Data Visualization in R\n",
      "27 Python Data Science Toolbox (Part 2)\n",
      "28 Python Data Science Toolbox (Part 1)\n",
      "29 Statistical Thinking in Python (Part 1)\n",
      "30 Statistical Thinking in Python (Part 2)\n",
      "31 Introduction to Statistical Modeling in R\n",
      "32 Intermediate Statistical Modeling in R\n",
      "33 Intermediate Portfolio Analysis in R\n",
      "34 Intermediate Importing Data in Python\n",
      "35 Introduction to Importing Data in Python\n",
      "36 pandas Foundations\n",
      "37 Manipulating DataFrames with pandas\n",
      "38 Merging DataFrames with pandas\n",
      "39 Bond Valuation and Analysis in R\n",
      "40 Foundations of Inference in R\n",
      "41 Introduction to Data Visualization in Python\n",
      "42 Exploratory Data Analysis in R\n",
      "43 Correlation and Regression in R\n",
      "44 Introduction to Data in R\n",
      "45 ARIMA Models in R\n",
      "46 Unsupervised Learning in R\n",
      "47 Visualizing Geospatial Data in R\n",
      "48 Introduction to Network Analysis in Python\n",
      "49 Supervised Learning with scikit-learn\n",
      "50 Introduction to SQL\n",
      "51 Case Studies: Manipulating Time Series Data in R\n",
      "52 Introduction to Deep Learning in Python\n",
      "53 Object-Oriented Programming with S3 and R6 in R\n",
      "54 Sentiment Analysis in R\n",
      "55 Cleaning Data in Python\n",
      "56 Unsupervised Learning in Python\n",
      "57 Visualizing Time Series Data in R\n",
      "58 Life Insurance Products Valuation in R\n",
      "59 Foundations of Probability in R\n",
      "60 Scalable Data Processing in R\n",
      "61 Case Study: School Budgeting with Machine Learning i...\n",
      "62 Introduction to R for Finance\n",
      "63 Intermediate R for Finance\n",
      "64 Supervised Learning in R: Classification\n",
      "65 String Manipulation with stringr in R\n",
      "66 Writing Efficient R Code\n",
      "67 Forecasting in R\n",
      "68 Machine Learning with Tree-Based Models in R\n",
      "69 Working with Web Data in R\n",
      "70 Quantitative Risk Management in R\n",
      "71 Spatial Statistics in R\n",
      "72 Data Visualization with lattice in R\n",
      "73 Introduction to Spark with sparklyr in R\n",
      "74 Data Types for Data Science in Python\n",
      "75 Sentiment Analysis in R: The Tidy Way\n",
      "76 Intermediate Network Analysis in Python\n",
      "77 Multiple and Logistic Regression in R\n",
      "78 Inference for Linear Regression in R\n",
      "79 Introduction to Natural Language Processing in Python\n",
      "80 Building Chatbots in Python\n",
      "81 Extreme Gradient Boosting with XGBoost\n",
      "82 Equity Valuation in R\n",
      "83 Case Studies: Building Web Applications with Shiny in R\n",
      "84 Supervised Learning in R: Regression\n",
      "85 Importing and Managing Financial Data in Python\n",
      "86 Optimizing R Code with Rcpp\n",
      "87 Manipulating Time Series Data in Python\n",
      "88 Time Series Analysis in Python\n",
      "89 Parallel Programming with Dask in Python\n",
      "90 Spatial Analysis with sf and raster in R\n",
      "91 Introduction to PySpark\n",
      "92 Network Analysis in R\n",
      "93 Case Studies in Statistical Thinking\n",
      "94 Joining Data in SQL\n",
      "95 Introduction to the Tidyverse\n",
      "96 Introduction to Shell\n",
      "97 Developing R Packages\n",
      "98 Inference for Numerical Data in R\n",
      "99 Visualizing Time Series Data in Python\n",
      "100 Data Manipulation with data.table in R\n",
      "101 Fundamentals of Bayesian Data Analysis in R\n",
      "102 Working with Dates and Times in R\n",
      "103 Introduction to Git\n",
      "104 Python for R Users\n",
      "105 Cluster Analysis in R\n",
      "106 Introduction to Financial Concepts in Python\n",
      "107 Introduction to Portfolio Risk Management in Python\n",
      "108 Inference for Categorical Data in R\n",
      "109 Conda Essentials\n",
      "110 Interactive Data Visualization with plotly in R\n",
      "111 Visualizing Big Data with Trelliscope\n",
      "112 Building Dashboards with flexdashboard\n",
      "113 Communicating with Data in the Tidyverse\n",
      "114 Introduction to Linear Modeling in Python\n",
      "115 Introduction to MongoDB in Python\n",
      "116 ChIP-seq Workflows in R\n",
      "117 Joining Data with data.table in R\n",
      "118 Foundations of Functional Programming with purrr\n",
      "119 Visualization Best Practices in R\n",
      "120 Building Dashboards with shinydashboard\n",
      "121 Modeling with Data in the Tidyverse\n",
      "122 Human Resources Analytics: Exploring Employee Data in R\n",
      "123 Business Process Analytics in R\n",
      "124 Working with Data in the Tidyverse\n",
      "125 Supervised Learning in R: Case Studies\n",
      "126 Forecasting Product Demand in R\n",
      "127 Machine Learning for Marketing Analytics in R\n",
      "128 Case Studies: Network Analysis in R\n",
      "129 Hierarchical and Mixed Effects Models in R\n",
      "130 Machine Learning for Time Series Data in Python\n",
      "131 Customer Analytics and A/B Testing in Python\n",
      "132 Linear Classifiers in Python\n",
      "133 Human Resources Analytics: Predicting Employee Churn...\n",
      "134 Parallel Programming in R\n",
      "135 Feature Engineering with PySpark\n",
      "136 Machine Learning with Tree-Based Models in Python\n",
      "137 Introduction to Bioconductor\n",
      "138 Human Resources Analytics: Predicting Employee Churn...\n",
      "139 Marketing Analytics: Predicting Customer Churn in Py...\n",
      "140 Data Privacy and Anonymization in R\n",
      "141 Nonlinear Modeling in R with GAMs\n",
      "142 Bayesian Modeling with RJAGS\n",
      "143 Structural Equation Modeling with lavaan in R\n",
      "144 Differential Expression Analysis with limma in R\n",
      "145 Factor Analysis in R\n",
      "146 Introduction to Predictive Analytics in Python\n",
      "147 Choice Modeling for Marketing in R\n",
      "148 Categorical Data in the Tidyverse\n",
      "149 Multivariate Probability Distributions in R\n",
      "150 Advanced Deep Learning with Keras\n",
      "151 Experimental Design in R\n",
      "152 Preprocessing for Machine Learning in Python\n",
      "153 Machine Learning for Finance in Python\n",
      "154 Building Response Models in R\n",
      "155 Bayesian Regression Modeling with rstanarm\n",
      "156 Intermediate Functional Programming with purrr\n",
      "157 Introduction to Python for Finance\n",
      "158 Analyzing Survey Data in R\n",
      "159 Mixture Models in R\n",
      "160 Network Analysis in the Tidyverse\n",
      "161 Hyperparameter Tuning in R\n",
      "162 Support Vector Machines in R\n",
      "163 Interactive Maps with leaflet in R\n",
      "164 Analyzing Election and Polling Data in R\n",
      "165 A/B Testing in R\n",
      "166 RNA-Seq with Bioconductor in R\n",
      "167 Analyzing Police Activity with pandas\n",
      "168 Analyzing US Census Data in R\n",
      "169 Conda for Building & Distributing Packages\n",
      "170 Intermediate Data Visualization with Seaborn\n",
      "171 Anomaly Detection in R\n",
      "172 Statistical Simulation in Python\n",
      "173 Financial Forecasting in Python\n",
      "174 Dealing With Missing Data in R\n",
      "175 Python for MATLAB Users\n",
      "176 Visualizing Geospatial Data in Python\n",
      "177 Survival Analysis in R\n",
      "178 Biomedical Image Analysis in Python\n",
      "179 Building Recommendation Engines with PySpark\n",
      "180 Financial Analytics in R\n",
      "181 Interactive Data Visualization with rbokeh\n",
      "182 Intermediate Interactive Data Visualization with plo...\n",
      "183 Machine Learning in the Tidyverse\n",
      "184 Predictive Analytics using Networked Data in R\n",
      "185 Pivot Tables in Spreadsheets\n",
      "186 Intermediate SQL Server\n",
      "187 Web Scraping in Python\n",
      "188 Working with Geospatial Data in Python\n",
      "189 Designing and Analyzing Clinical Trials in R\n",
      "190 Single-Cell RNA-Seq Workflows in R\n",
      "191 Intermediate Spreadsheets\n",
      "192 Image Processing with Keras in Python\n",
      "193 Linear Algebra for Data Science in R\n",
      "194 Generalized Linear Models in R\n",
      "195 Writing Functions and Stored Procedures in SQL Server\n",
      "196 Advanced NLP with spaCy\n",
      "197 Introduction to Spreadsheets\n",
      "198 Data Analysis in Spreadsheets\n",
      "199 Supply Chain Analytics in Python\n",
      "200 Fraud Detection in R\n",
      "201 Analyzing Social Media Data in Python\n",
      "202 GARCH Models in R\n",
      "203 Course Creation at DataCamp\n",
      "204 Longitudinal Analysis in R\n",
      "205 Object-Oriented Programming in Python\n",
      "206 Fraud Detection in Python\n",
      "207 Data Visualization in Spreadsheets\n",
      "208 Advanced Dimensionality Reduction in R\n",
      "209 Customer Segmentation in Python\n",
      "210 Topic Modeling in R\n",
      "211 Probability Puzzles in R\n",
      "212 Feature Engineering in R\n",
      "213 Defensive R Programming\n",
      "214 R For SAS Users\n",
      "215 Intermediate Predictive Analytics in Python\n",
      "216 Analyzing US Census Data in Python\n",
      "217 Big Data Fundamentals with PySpark\n",
      "218 Dimensionality Reduction in Python\n",
      "219 Working with Dates and Times in Python\n",
      "220 Designing Machine Learning Workflows in Python\n",
      "221 Software Engineering for Data Scientists in Python\n",
      "222 Exploratory Data Analysis in SQL\n",
      "223 Intermediate SQL\n",
      "224 Writing Efficient Python Code\n",
      "225 Introduction to Data Science in Python\n",
      "226 Introduction to Relational Databases in SQL\n",
      "227 Introduction to SQL Server\n",
      "228 Introduction to Data Visualization with Matplotlib\n",
      "229 Introduction to Text Analysis in R\n",
      "230 Feature Engineering for Machine Learning in Python\n",
      "231 Introduction to Statistics in Spreadsheets\n",
      "232 PostgreSQL Summary Stats and Window Functions\n",
      "233 Reporting in SQL\n",
      "234 Foundations of Probability in Python\n",
      "235 Writing Efficient Code with pandas\n",
      "236 Python for Spreadsheet Users\n",
      "237 Improving Your Data Visualizations in Python\n",
      "238 Clustering Methods with SciPy\n",
      "239 AI Fundamentals\n",
      "240 Applying SQL to Real-World Problems\n",
      "241 Analyzing Marketing Campaigns with pandas\n",
      "242 Financial Analytics in Spreadsheets\n",
      "243 Machine Learning with PySpark\n",
      "244 Financial Modeling in Spreadsheets\n",
      "245 Introduction to Spark SQL in Python\n",
      "246 Conditional Formatting in Spreadsheets\n",
      "247 Introduction to TensorFlow in Python\n",
      "248 Model Validation in Python\n",
      "249 Hyperparameter Tuning in Python\n",
      "250 Introduction to Data Visualization with Seaborn\n",
      "251 Improving Query Performance in SQL Server\n",
      "252 Analyzing Business Data in SQL\n",
      "253 Ensemble Methods in Python\n",
      "254 Exploratory Data Analysis in Python\n",
      "255 Generalized Linear Models in Python\n",
      "256 Data-Driven Decision Making in SQL\n",
      "257 Introduction to Deep Learning with PyTorch\n",
      "258 Marketing Analytics in Spreadsheets\n",
      "259 Writing Functions in Python\n",
      "260 Data Processing in Shell\n",
      "261 Functions for Manipulating Data in SQL Server\n",
      "262 Unit Testing for Data Science in Python\n",
      "263 Error and Uncertainty in Spreadsheets\n",
      "264 Analyzing IoT Data in Python\n",
      "265 Improving Query Performance in PostgreSQL\n",
      "266 Practicing Coding Interview Questions in Python\n",
      "267 Practicing Statistics Interview Questions in Python\n",
      "268 Introduction to Deep Learning with Keras\n",
      "269 Cleaning Data with PySpark\n",
      "270 Experimental Design in Python\n",
      "271 Feature Engineering for NLP in Python\n",
      "272 Streamlined Data Ingestion with pandas\n",
      "273 Building and Optimizing Triggers in SQL Server\n",
      "274 Hierarchical and Recursive Queries in SQL Server\n",
      "275 Winning a Kaggle Competition in Python\n",
      "276 Sentiment Analysis in Python\n",
      "277 Image Processing in Python\n",
      "278 Functions for Manipulating Data in PostgreSQL\n",
      "279 Time Series Analysis in SQL Server\n",
      "280 Survey and Measurement Development in R\n",
      "281 Regular Expressions in Python\n",
      "282 ARIMA Models in Python\n",
      "283 Dealing with Missing Data in Python\n",
      "284 Introduction to AWS Boto in Python\n",
      "285 Data Science for Business\n",
      "286 Machine Translation in Python\n",
      "287 Spoken Language Processing in Python\n",
      "288 Building Data Engineering Pipelines in Python\n",
      "289 Introduction to Portfolio Analysis in Python\n",
      "290 Practicing Machine Learning Interview Questions in R\n",
      "291 Transactions and Error Handling in SQL Server\n",
      "292 Credit Risk Modeling in Python\n",
      "293 Introduction to TensorFlow in R\n",
      "294 Introduction to Natural Language Processing in R\n",
      "295 Machine Learning for Marketing in Python\n",
      "296 Practicing Machine Learning Interview Questions in P...\n",
      "297 Data Manipulation with dplyr \n",
      "298 Introduction to Data Engineering\n",
      "299 Pandas Joins for Spreadsheet Users\n",
      "300 Introduction to Scala\n",
      "301 Introduction to Writing Functions in R\n",
      "302 Analyzing Social Media Data in R\n",
      "303 Introduction to Data Visualization with ggplot2\n",
      "304 Creating PostgreSQL Databases\n",
      "305 Intermediate Data Visualization with ggplot2\n",
      "306 Practicing Statistics Interview Questions in R\n",
      "307 Joining Data with dplyr\n",
      "308 Predicting CTR with Machine Learning in Python\n",
      "309 Database Design\n",
      "310 Dimensionality Reduction in R\n",
      "311 Time Series with data.table in R\n",
      "312 Creating Robust Workflows in Python\n",
      "313 Options Trading in Spreadsheets\n",
      "314 Loan Amortization in Spreadsheets\n",
      "315 Command Line Automation in Python\n",
      "316 Recurrent Neural Networks for Language Modeling in P...\n",
      "317 Market Basket Analysis in R\n",
      "318 Building Web Applications with Shiny in R\n",
      "319 Quantitative Risk Management in Python\n",
      "320 Natural Language Generation in Python\n",
      "321 Introduction to Oracle SQL\n",
      "322 Intermediate Regular Expressions in R\n",
      "323 Introduction to Bash Scripting\n",
      "324 Data Manipulation with pandas\n",
      "325 Introduction to Tableau\n",
      "326 Data Science for Everyone\n"
     ]
    }
   ],
   "source": [
    "for i, el in enumerate(crs_titles, start=1):\n",
    "    print(i, el)"
   ]
  },
  {
   "cell_type": "code",
   "execution_count": 48,
   "metadata": {},
   "outputs": [
    {
     "data": {
      "text/html": [
       "<div>\n",
       "<style scoped>\n",
       "    .dataframe tbody tr th:only-of-type {\n",
       "        vertical-align: middle;\n",
       "    }\n",
       "\n",
       "    .dataframe tbody tr th {\n",
       "        vertical-align: top;\n",
       "    }\n",
       "\n",
       "    .dataframe thead th {\n",
       "        text-align: right;\n",
       "    }\n",
       "</style>\n",
       "<table border=\"1\" class=\"dataframe\">\n",
       "  <thead>\n",
       "    <tr style=\"text-align: right;\">\n",
       "      <th></th>\n",
       "      <th>title</th>\n",
       "    </tr>\n",
       "  </thead>\n",
       "  <tbody>\n",
       "    <tr>\n",
       "      <th>0</th>\n",
       "      <td>Introduction to R</td>\n",
       "    </tr>\n",
       "    <tr>\n",
       "      <th>1</th>\n",
       "      <td>Intermediate R</td>\n",
       "    </tr>\n",
       "    <tr>\n",
       "      <th>2</th>\n",
       "      <td>Introduction to Machine Learning</td>\n",
       "    </tr>\n",
       "    <tr>\n",
       "      <th>3</th>\n",
       "      <td>Cleaning Data in R</td>\n",
       "    </tr>\n",
       "    <tr>\n",
       "      <th>4</th>\n",
       "      <td>Introduction to Python</td>\n",
       "    </tr>\n",
       "    <tr>\n",
       "      <th>5</th>\n",
       "      <td>Intermediate R: Practice</td>\n",
       "    </tr>\n",
       "    <tr>\n",
       "      <th>6</th>\n",
       "      <td>Data Visualization with ggplot2 (Part 1)</td>\n",
       "    </tr>\n",
       "    <tr>\n",
       "      <th>7</th>\n",
       "      <td>Data Visualization with ggplot2 (Part 2)</td>\n",
       "    </tr>\n",
       "    <tr>\n",
       "      <th>8</th>\n",
       "      <td>Intermediate Python</td>\n",
       "    </tr>\n",
       "    <tr>\n",
       "      <th>9</th>\n",
       "      <td>Data Visualization with ggplot2 (Part 3)</td>\n",
       "    </tr>\n",
       "  </tbody>\n",
       "</table>\n",
       "</div>"
      ],
      "text/plain": [
       "                                      title\n",
       "0                         Introduction to R\n",
       "1                            Intermediate R\n",
       "2          Introduction to Machine Learning\n",
       "3                        Cleaning Data in R\n",
       "4                    Introduction to Python\n",
       "5                  Intermediate R: Practice\n",
       "6  Data Visualization with ggplot2 (Part 1)\n",
       "7  Data Visualization with ggplot2 (Part 2)\n",
       "8                       Intermediate Python\n",
       "9  Data Visualization with ggplot2 (Part 3)"
      ]
     },
     "execution_count": 48,
     "metadata": {},
     "output_type": "execute_result"
    }
   ],
   "source": [
    "import pandas as pd\n",
    "\n",
    "pd.DataFrame({ 'title': [el for el in crs_titles] }).head(10)"
   ]
  },
  {
   "cell_type": "code",
   "execution_count": null,
   "metadata": {},
   "outputs": [],
   "source": [
    "# Calculate the number of children of the mystery element\n",
    "how_many_kids = len( mystery.xpath( './*' ) )\n",
    "\n",
    "# Print out the number\n",
    "print( \"The number of elements you selected was:\", how_many_kids )"
   ]
  },
  {
   "cell_type": "markdown",
   "metadata": {},
   "source": [
    "## Scraping For Reals\n",
    "\n",
    "### What's the Div, Yo?"
   ]
  },
  {
   "cell_type": "code",
   "execution_count": 49,
   "metadata": {},
   "outputs": [],
   "source": [
    "from scrapy import Request\n",
    "\n",
    "response = Request(url='https://www.datacamp.com/courses/all')"
   ]
  },
  {
   "cell_type": "code",
   "execution_count": 50,
   "metadata": {},
   "outputs": [
    {
     "name": "stdout",
     "output_type": "stream",
     "text": [
      "<class 'scrapy.http.request.Request'>\n",
      "https://www.datacamp.com/courses/all\n"
     ]
    }
   ],
   "source": [
    "print(type(response))\n",
    "print(response.url)"
   ]
  },
  {
   "cell_type": "code",
   "execution_count": 51,
   "metadata": {},
   "outputs": [],
   "source": [
    "from scrapy.http import TextResponse\n",
    "\n",
    "url = 'https://www.datacamp.com/courses/all'\n",
    "resp = requests.get(url)\n",
    "resp = TextResponse(body=resp.content, url=url)\n",
    "\n",
    "course_divs = resp.css('div.course-block')"
   ]
  },
  {
   "cell_type": "code",
   "execution_count": 52,
   "metadata": {},
   "outputs": [
    {
     "name": "stdout",
     "output_type": "stream",
     "text": [
      "326\n"
     ]
    }
   ],
   "source": [
    "print( len(course_divs) )"
   ]
  },
  {
   "cell_type": "markdown",
   "metadata": {},
   "source": [
    "### Inspecting course-block"
   ]
  },
  {
   "cell_type": "code",
   "execution_count": 53,
   "metadata": {},
   "outputs": [
    {
     "name": "stdout",
     "output_type": "stream",
     "text": [
      "4\n"
     ]
    }
   ],
   "source": [
    "first_div = course_divs[0]\n",
    "children = first_div.xpath('./*')\n",
    "print( len(children) )"
   ]
  },
  {
   "cell_type": "markdown",
   "metadata": {},
   "source": [
    "### The first child"
   ]
  },
  {
   "cell_type": "code",
   "execution_count": 54,
   "metadata": {},
   "outputs": [],
   "source": [
    "first_div = course_divs[0]\n",
    "children = first_div.xpath('./*')"
   ]
  },
  {
   "cell_type": "code",
   "execution_count": 55,
   "metadata": {},
   "outputs": [
    {
     "name": "stdout",
     "output_type": "stream",
     "text": [
      "<div class=\"js-bookmark-icon-large-58\">\n",
      "      <a class=\"dc-bookmark-icon dc-bookmark-icon--large dc-bookmark-icon--bookmark dc-bookmark-icon--hidden js-bookmark-icon tooltip-trigger--primary-dark top ds-snowplow-bookmarking-dashboard-bookmark  js-bookmark-icon-click-create dc-bookmarking-tooltip\" data-toggle=\"tooltip\" title=\"Bookmark\" data-remote=\"true\" rel=\"nofollow\" data-method=\"post\" href=\"/courses/free-introduction-to-r/user_bookmarks\"></a>\n",
      "\n",
      "\n",
      "  </div>\n"
     ]
    }
   ],
   "source": [
    "first_child = children[0]\n",
    "print( first_child.extract() )"
   ]
  },
  {
   "cell_type": "markdown",
   "metadata": {},
   "source": [
    "### The second child"
   ]
  },
  {
   "cell_type": "code",
   "execution_count": 56,
   "metadata": {},
   "outputs": [],
   "source": [
    "first_div = course_divs[0]\n",
    "children = first_div.xpath('./*')"
   ]
  },
  {
   "cell_type": "code",
   "execution_count": 57,
   "metadata": {},
   "outputs": [
    {
     "name": "stdout",
     "output_type": "stream",
     "text": [
      "<a class=\"course-block__link ds-snowplow-link-course-block\" href=\"/courses/free-introduction-to-r\">\n",
      "      <div class=\"course-block__technology course-block__technology--r\"></div>\n",
      "      <div class=\"course-block__body\">\n",
      "        <h4 class=\"course-block__title\">Introduction to R</h4>\n",
      "        <p class=\"course-block__description\">\n",
      "          Master the basics of data analysis by manipulating common data structures such as vectors, matrices, and data frames.\n",
      "        </p>\n",
      "            <div class=\"course-block__extra-info dc-u-fx dc-u-fx-aifs dc-u-fx-jcc dc-u-fx-fww\">\n",
      "              <span class=\"course-block__length dc-u-mh-12 dc-u-fx-center\">\n",
      "                \n",
      "<span class=\"\n",
      "    dc-icon \n",
      "      dc-icon--size-12\n",
      "      dc-icon--primary\n",
      "      dc-icon--flex dc-u-mr-8\n",
      "  \">\n",
      "  <svg class=\"dc-icon__svg\">\n",
      "    <use xlink:href=\"#clock\"></use>\n",
      "  </svg>\n",
      "</span>\n",
      "\n",
      "                4 hours\n",
      "              </span>\n",
      "            </div>\n",
      "      </div>\n",
      "</a>\n"
     ]
    }
   ],
   "source": [
    "second_child = children[1]\n",
    "print( second_child.extract() )"
   ]
  },
  {
   "cell_type": "markdown",
   "metadata": {},
   "source": [
    "### The forgotten child"
   ]
  },
  {
   "cell_type": "code",
   "execution_count": 44,
   "metadata": {},
   "outputs": [],
   "source": [
    "first_div = course_divs[0]\n",
    "children = first_div.xpath('./*')"
   ]
  },
  {
   "cell_type": "code",
   "execution_count": 45,
   "metadata": {},
   "outputs": [
    {
     "name": "stdout",
     "output_type": "stream",
     "text": [
      "<span class=\"js-mobile-progress-container js-mobile-course-progress\" data-id=\"58\" data-user-id=\"\">\n",
      "    </span>\n"
     ]
    }
   ],
   "source": [
    "third_child = children[2]\n",
    "print( third_child.extract() )"
   ]
  },
  {
   "cell_type": "markdown",
   "metadata": {},
   "source": [
    "### Listful\n",
    "\n",
    "* In one CSS Locator"
   ]
  },
  {
   "cell_type": "code",
   "execution_count": 47,
   "metadata": {},
   "outputs": [],
   "source": [
    "links = resp.css('div.course-block > a::attr(href)').extract()"
   ]
  },
  {
   "cell_type": "markdown",
   "metadata": {},
   "source": [
    "* Stepwise"
   ]
  },
  {
   "cell_type": "code",
   "execution_count": 49,
   "metadata": {},
   "outputs": [],
   "source": [
    "# step 1: course blocks\n",
    "course_divs = resp.css('div.course-block')\n",
    "# step 2: hyperlink elements\n",
    "hrefs = course_divs.xpath('./a/@href')\n",
    "# step 3: extract the links\n",
    "links = hrefs.extract()"
   ]
  },
  {
   "cell_type": "markdown",
   "metadata": {},
   "source": [
    "### Get Schooled"
   ]
  },
  {
   "cell_type": "code",
   "execution_count": 50,
   "metadata": {},
   "outputs": [
    {
     "name": "stdout",
     "output_type": "stream",
     "text": [
      "/courses/free-introduction-to-r\n",
      "/courses/data-table-data-manipulation-r-tutorial\n",
      "/courses/dplyr-data-manipulation-r-tutorial\n",
      "/courses/ggvis-data-visualization-r-tutorial\n",
      "/courses/reporting-with-r-markdown\n",
      "/courses/intermediate-r\n",
      "/courses/introduction-to-machine-learning-with-r\n",
      "/courses/cleaning-data-in-r\n",
      "/courses/intro-to-python-for-data-science\n",
      "/courses/intermediate-r-practice\n",
      "/courses/data-visualization-with-ggplot2-1\n",
      "/courses/data-visualization-with-ggplot2-2\n",
      "/courses/intermediate-python-for-data-science\n",
      "/courses/data-visualization-with-ggplot2-part-3\n",
      "/courses/intro-to-text-mining-bag-of-words\n",
      "/courses/exploring-pitch-data-with-r\n",
      "/courses/working-with-the-rstudio-ide-part-1\n",
      "/courses/introduction-to-portfolio-analysis-in-r\n",
      "/courses/writing-functions-in-r\n",
      "/courses/introduction-to-credit-risk-modeling-in-r\n",
      "/courses/machine-learning-toolbox\n",
      "/courses/working-with-the-rstudio-ide-part-2\n",
      "/courses/joining-data-in-r-with-dplyr\n",
      "/courses/introduction-to-relational-databases-in-python\n",
      "/courses/manipulating-time-series-data-in-r-with-xts-zoo\n",
      "/courses/introduction-to-time-series-analysis\n",
      "/courses/importing-cleaning-data-in-r-case-studies\n",
      "/courses/financial-trading-in-r\n",
      "/courses/importing-and-managing-financial-data-in-r\n",
      "/courses/interactive-data-visualization-with-bokeh\n",
      "/courses/exploratory-data-analysis-in-r-case-study\n",
      "/courses/importing-data-in-r-part-1\n",
      "/courses/importing-data-in-r-part-2\n",
      "/courses/data-visualization-in-r\n",
      "/courses/python-data-science-toolbox-part-2\n",
      "/courses/python-data-science-toolbox-part-1\n",
      "/courses/statistical-thinking-in-python-part-1\n",
      "/courses/statistical-thinking-in-python-part-2\n",
      "/courses/statistical-modeling-in-r-part-1\n",
      "/courses/statistical-modeling-in-r-part-2\n",
      "/courses/intermediate-portfolio-analysis-in-r\n",
      "/courses/importing-data-in-python-part-2\n",
      "/courses/importing-data-in-python-part-1\n",
      "/courses/pandas-foundations\n",
      "/courses/manipulating-dataframes-with-pandas\n",
      "/courses/merging-dataframes-with-pandas\n",
      "/courses/bond-valuation-and-analysis-in-r\n",
      "/courses/foundations-of-inference\n",
      "/courses/introduction-to-data-visualization-with-python\n",
      "/courses/exploratory-data-analysis\n",
      "/courses/correlation-and-regression\n",
      "/courses/introduction-to-data\n",
      "/courses/arima-modeling-with-r\n",
      "/courses/unsupervised-learning-in-r\n",
      "/courses/working-with-geospatial-data-in-r\n",
      "/courses/network-analysis-in-python-part-1\n",
      "/courses/supervised-learning-with-scikit-learn\n",
      "/courses/intro-to-sql-for-data-science\n",
      "/courses/manipulating-time-series-data-in-r-case-studies\n",
      "/courses/deep-learning-in-python\n",
      "/courses/object-oriented-programming-in-r-s3-and-r6\n",
      "/courses/sentiment-analysis-in-r\n",
      "/courses/cleaning-data-in-python\n",
      "/courses/unsupervised-learning-in-python\n",
      "/courses/visualizing-time-series-data-in-r\n",
      "/courses/valuation-of-life-insurance-products-in-r\n",
      "/courses/foundations-of-probability-in-r\n",
      "/courses/scalable-data-processing-in-r\n",
      "/courses/machine-learning-with-the-experts-school-budgets\n",
      "/courses/introduction-to-r-for-finance\n",
      "/courses/intermediate-r-for-finance\n",
      "/courses/supervised-learning-in-r-classification\n",
      "/courses/string-manipulation-in-r-with-stringr\n",
      "/courses/writing-efficient-r-code\n",
      "/courses/forecasting-using-r\n",
      "/courses/machine-learning-with-tree-based-models-in-r\n",
      "/courses/working-with-web-data-in-r\n",
      "/courses/quantitative-risk-management-in-r\n",
      "/courses/spatial-statistics-in-r\n",
      "/courses/data-visualization-in-r-with-lattice\n",
      "/courses/introduction-to-spark-in-r-using-sparklyr\n",
      "/courses/data-types-for-data-science\n",
      "/courses/sentiment-analysis-in-r-the-tidy-way\n",
      "/courses/network-analysis-in-python-part-2\n",
      "/courses/multiple-and-logistic-regression\n",
      "/courses/inference-for-linear-regression\n",
      "/courses/natural-language-processing-fundamentals-in-python\n",
      "/courses/building-chatbots-in-python\n",
      "/courses/extreme-gradient-boosting-with-xgboost\n",
      "/courses/equity-valuation-in-r\n",
      "/courses/building-web-applications-in-r-with-shiny-case-studies\n",
      "/courses/supervised-learning-in-r-regression\n",
      "/courses/importing-managing-financial-data-in-python\n",
      "/courses/optimizing-r-code-with-rcpp\n",
      "/courses/manipulating-time-series-data-in-python\n",
      "/courses/introduction-to-time-series-analysis-in-python\n",
      "/courses/parallel-computing-with-dask\n",
      "/courses/spatial-analysis-in-r-with-sf-and-raster\n",
      "/courses/introduction-to-pyspark\n",
      "/courses/network-analysis-in-r\n",
      "/courses/case-studies-in-statistical-thinking\n",
      "/courses/joining-data-in-postgresql\n",
      "/courses/building-web-applications-in-r-with-shiny\n",
      "/courses/introduction-to-the-tidyverse\n",
      "/courses/introduction-to-shell-for-data-science\n",
      "/courses/developing-r-packages\n",
      "/courses/visualizing-time-series-data-in-python\n",
      "/courses/data-manipulation-in-r-with-datatable\n",
      "/courses/fundamentals-of-bayesian-data-analysis-in-r\n",
      "/courses/working-with-dates-and-times-in-r\n",
      "/courses/introduction-to-git-for-data-science\n",
      "/courses/python-for-r-users\n",
      "/courses/cluster-analysis-in-r\n",
      "/courses/intro-to-financial-concepts-using-python\n",
      "/courses/intro-to-portfolio-risk-management-in-python\n",
      "/courses/conda-essentials\n",
      "/courses/interactive-data-visualization-with-plotly-in-r\n",
      "/courses/visualizing-big-data-with-trelliscope\n",
      "/courses/building-dashboards-with-flexdashboard\n",
      "/courses/communicating-with-data-in-the-tidyverse\n",
      "/courses/introduction-to-linear-modeling-in-python\n",
      "/courses/introduction-to-using-mongodb-for-data-science-with-python\n",
      "/courses/chip-seq-workflows-in-r\n",
      "/courses/joining-data-in-r-with-datatable\n",
      "/courses/foundations-of-functional-programming-with-purrr\n",
      "/courses/visualization-best-practices-in-r\n",
      "/courses/building-dashboards-with-shinydashboard\n",
      "/courses/modeling-with-data-in-the-tidyverse\n",
      "/courses/human-resources-analytics-in-r-exploring-employee-data\n",
      "/courses/working-with-data-in-the-tidyverse\n",
      "/courses/supervised-learning-in-r-case-studies\n",
      "/courses/forecasting-product-demand-in-r\n",
      "/courses/marketing-analytics-in-r-statistical-modeling\n",
      "/courses/hierarchical-and-mixed-effects-models\n",
      "/courses/machine-learning-for-time-series-data-in-python\n",
      "/courses/linear-classifiers-in-python\n",
      "/courses/hr-analytics-in-python-predicting-employee-churn\n",
      "/courses/feature-engineering-with-pyspark\n",
      "/courses/machine-learning-with-tree-based-models-in-python\n",
      "/courses/human-resources-analytics-in-r-predicting-employee-churn\n",
      "/courses/data-privacy-and-anonymization-in-r\n",
      "/courses/nonlinear-modeling-in-r-with-gams\n",
      "/courses/bayesian-modeling-with-rjags\n",
      "/courses/structural-equation-modeling-with-lavaan-in-r\n",
      "/courses/differential-expression-analysis-in-r-with-limma\n",
      "/courses/factor-analysis-in-r\n",
      "/courses/foundations-of-predictive-analytics-in-python-part-1\n",
      "/courses/marketing-analytics-in-r-choice-modeling\n",
      "/courses/categorical-data-in-the-tidyverse\n",
      "/courses/multivariate-probability-distributions-in-r\n",
      "/courses/advanced-deep-learning-with-keras-in-python\n",
      "/courses/experimental-design-in-r\n",
      "/courses/preprocessing-for-machine-learning-in-python\n",
      "/courses/machine-learning-for-finance-in-python\n",
      "/courses/building-response-models-in-r\n",
      "/courses/bayesian-regression-modeling-with-rstanarm\n",
      "/courses/intermediate-functional-programming-with-purrr\n",
      "/courses/intro-to-python-for-finance\n",
      "/courses/analyzing-survey-data-in-r\n",
      "/courses/mixture-models-in-r\n",
      "/courses/network-science-in-r-a-tidy-approach\n",
      "/courses/hyperparameter-tuning-in-r\n",
      "/courses/support-vector-machines-in-r\n",
      "/courses/interactive-maps-with-leaflet-in-r\n",
      "/courses/analyzing-election-and-polling-data-in-r\n",
      "/courses/ab-testing-in-r\n",
      "/courses/rna-seq-differential-expression-analysis\n",
      "/courses/analyzing-police-activity-with-pandas\n",
      "/courses/analyzing-us-census-data-in-r\n",
      "/courses/conda-for-building-distributing-packages\n",
      "/courses/data-visualization-with-seaborn\n",
      "/courses/anomaly-detection-in-r\n",
      "/courses/statistical-simulation-in-python\n",
      "/courses/dealing-with-missing-data-in-r\n",
      "/courses/python-for-matlab-users\n",
      "/courses/visualizing-geospatial-data-in-python\n",
      "/courses/survival-analysis-in-r\n",
      "/courses/biomedical-image-analysis-in-python\n",
      "/courses/recommendation-engines-in-pyspark\n",
      "/courses/financial-analytics-in-r\n",
      "/courses/interactive-data-visualization-with-rbokeh\n",
      "/courses/machine-learning-in-the-tidyverse\n",
      "/courses/predictive-analytics-using-networked-data-in-r\n",
      "/courses/pivot-tables-with-spreadsheets\n",
      "/courses/intermediate-t-sql\n",
      "/courses/web-scraping-with-python\n",
      "/courses/designing-and-analyzing-clinical-trials-in-r\n",
      "/courses/intermediate-spreadsheets-for-data-science\n",
      "/courses/convolutional-neural-networks-for-image-processing\n",
      "/courses/linear-algebra-for-data-science-in-r\n",
      "/courses/generalized-linear-models-in-r\n",
      "/courses/advanced-nlp-with-spacy\n",
      "/courses/spreadsheet-basics\n",
      "/courses/data-analysis-with-spreadsheets\n",
      "/courses/supply-chain-analytics-in-python\n",
      "/courses/fraud-detection-in-r\n",
      "/courses/analyzing-social-media-data-in-python\n",
      "/courses/garch-models-in-r\n",
      "/courses/course-creation-at-datacamp\n",
      "/courses/object-oriented-programming-in-python\n",
      "/courses/fraud-detection-in-python\n",
      "/courses/advanced-dimensionality-reduction-in-r\n",
      "/courses/customer-segmentation-in-python\n",
      "/courses/topic-modeling-in-r\n",
      "/courses/defensive-r-programming\n",
      "/courses/foundations-of-predictive-analytics-in-python-part-2\n",
      "/courses/big-data-fundamentals-via-pyspark\n",
      "/courses/dimensionality-reduction-in-python\n",
      "/courses/highcharter-for-finance-in-r\n",
      "/courses/working-with-dates-and-times-in-python\n",
      "/courses/software-engineering-for-data-scientists-in-python\n",
      "/courses/sql-for-exploratory-data-analysis\n",
      "/courses/intermediate-sql\n",
      "/courses/writing-efficient-python-code\n",
      "/courses/introduction-to-data-science-in-python\n",
      "/courses/introduction-to-relational-databases-in-sql\n",
      "/courses/introduction-to-matplotlib\n",
      "/courses/introduction-to-text-analysis-in-r\n",
      "/courses/reporting-in-sql\n",
      "/courses/python-for-spreadsheet-users\n",
      "/courses/improving-your-data-visualizations-in-python\n",
      "/courses/clustering-methods-with-scipy\n",
      "/courses/financial-analytics-in-spreadsheets\n",
      "/courses/model-validation-in-python\n",
      "/courses/introduction-to-seaborn\n",
      "/courses/dimensionality-reduction-in-r\n",
      "/courses/inference-for-numerical-data\n",
      "/courses/inference-for-categorical-data\n",
      "/courses/business-process-analytics-in-r\n",
      "/courses/network-analysis-in-r-case-studies\n",
      "/courses/customer-analytics-ab-testing-in-python\n",
      "/courses/parallel-programming-in-r\n",
      "/courses/introduction-to-bioconductor\n",
      "/courses/predicting-customer-churn-in-python\n",
      "/courses/financial-forecasting-in-python\n",
      "/courses/intermediate-interactive-data-visualization-with-plotly-in-r\n",
      "/courses/working-with-geospatial-data-in-python\n",
      "/courses/single-cell-rna-seq-workflows-in-r\n",
      "/courses/time-series-with-datatable-in-r\n",
      "/courses/writing-functions-and-stored-procedures-in-sql-server\n",
      "/courses/longitudinal-analysis-in-r\n",
      "/courses/data-visualization-in-spreadsheets\n",
      "/courses/probability-puzzles-in-r\n",
      "/courses/feature-engineering-in-r\n",
      "/courses/analyzing-us-census-data-in-python\n",
      "/courses/designing-machine-learning-workflows-in-python\n",
      "/courses/introduction-to-sql-server\n",
      "/courses/feature-engineering-for-machine-learning-in-python\n",
      "/courses/creating-robust-python-workflows\n",
      "/courses/foundations-of-probability-in-python\n",
      "/courses/optimizing-python-code-with-pandas\n",
      "/courses/introduction-to-spark-sql\n",
      "/courses/conditional-formatting-in-spreadsheets\n",
      "/courses/introduction-to-tensorflow-in-python\n",
      "/courses/analyzing-business-data-in-sql\n",
      "/courses/exploratory-data-analysis-in-python\n",
      "/courses/generalized-linear-models-in-python\n",
      "/courses/analyzing-iot-data-in-python\n",
      "/courses/survey-and-measurement-development-in-r\n"
     ]
    }
   ],
   "source": [
    "for l in links:\n",
    "    print( l )"
   ]
  },
  {
   "cell_type": "code",
   "execution_count": null,
   "metadata": {},
   "outputs": [],
   "source": []
  },
  {
   "cell_type": "code",
   "execution_count": null,
   "metadata": {},
   "outputs": [],
   "source": []
  }
 ],
 "metadata": {
  "kernelspec": {
   "display_name": "Python 3",
   "language": "python",
   "name": "python3"
  },
  "language_info": {
   "codemirror_mode": {
    "name": "ipython",
    "version": 3
   },
   "file_extension": ".py",
   "mimetype": "text/x-python",
   "name": "python",
   "nbconvert_exporter": "python",
   "pygments_lexer": "ipython3",
   "version": "3.7.3"
  }
 },
 "nbformat": 4,
 "nbformat_minor": 2
}
