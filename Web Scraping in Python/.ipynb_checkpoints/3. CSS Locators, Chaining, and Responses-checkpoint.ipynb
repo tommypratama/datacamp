{
 "cells": [
  {
   "cell_type": "markdown",
   "metadata": {},
   "source": [
    "# CSS Locators, Chaining, and Responses\n",
    "\n",
    "Pelajari sintaksis CSS Locator dan mulailah bermain dengan ide untuk chaining (merantai) bersama CSS Locators dengan XPath. Kami juga memperkenalkan objek `Response`, yang berperilaku seperti Selectors tetapi memberi kami alat tambahan untuk memobilisasi upaya scraping di beberapa situs web."
   ]
  },
  {
   "cell_type": "code",
   "execution_count": 73,
   "metadata": {},
   "outputs": [],
   "source": [
    "# Import a scrapy Selector and request\n",
    "from scrapy import Selector\n",
    "import requests"
   ]
  },
  {
   "cell_type": "markdown",
   "metadata": {},
   "source": [
    "## CSS Locators"
   ]
  },
  {
   "cell_type": "markdown",
   "metadata": {},
   "source": [
    "### Get an \"a\" in this Course"
   ]
  },
  {
   "cell_type": "code",
   "execution_count": 85,
   "metadata": {},
   "outputs": [],
   "source": [
    "from scrapy.http import TextResponse\n",
    "\n",
    "url = 'https://www.datacamp.com/courses/all'\n",
    "html = requests.get(url)\n",
    "html = html.text"
   ]
  },
  {
   "cell_type": "code",
   "execution_count": 86,
   "metadata": {},
   "outputs": [],
   "source": [
    "def how_many_elements( css ):\n",
    "  sel = Selector( text = html )\n",
    "  print( len(sel.css( css )) )"
   ]
  },
  {
   "cell_type": "code",
   "execution_count": 87,
   "metadata": {},
   "outputs": [
    {
     "name": "stdout",
     "output_type": "stream",
     "text": [
      "259\n"
     ]
    }
   ],
   "source": [
    "from scrapy import Selector\n",
    "\n",
    "# Create a selector from the html (of a secret website)\n",
    "sel = Selector( text = html )\n",
    "\n",
    "# Fill in the blank\n",
    "css_locator = 'div.course-block > a'\n",
    "\n",
    "# Print the number of selected elements.\n",
    "how_many_elements( css_locator )"
   ]
  },
  {
   "cell_type": "markdown",
   "metadata": {},
   "source": [
    "### The CSS Wildcard\n",
    "\n",
    "Anda dapat menggunakan wildcard `*` di Locators CSS juga! Bahkan, kita dapat menggunakannya dengan cara yang sama, ketika kita ingin mengabaikan jenis tag. Sebagai contoh:\n",
    "\n",
    "* String CSS Locator `'*'` memilih semua elemen dalam dokumen HTML.\n",
    "* String CSS Locator `'*.class-1'` memilih semua elemen yang termasuk `class-1`, tetapi ini tidak perlu karena string `'.class-1'` juga akan melakukan pekerjaan yang sama.\n",
    "* String CSS Locator `'*#uid'` memilih elemen dengan atribut `id` yang sama dengan `uid`, tetapi ini tidak perlu karena string `'#uid'` juga akan melakukan pekerjaan yang sama.\n",
    "\n",
    "Dalam latihan ini, kami ingin Anda bekerja dengan analogi dengan karakter wildcard yang Anda tahu dari notasi XPath untuk menemukan cara memilih semua anak dari elemen tertentu dalam notasi CSS Locator."
   ]
  },
  {
   "cell_type": "code",
   "execution_count": 94,
   "metadata": {},
   "outputs": [],
   "source": [
    "# Create the CSS Locator to all children of the element whose id is uid\n",
    "css_locator = \"#uid > *\""
   ]
  },
  {
   "cell_type": "markdown",
   "metadata": {},
   "source": [
    "### Selectors with CSS"
   ]
  },
  {
   "cell_type": "code",
   "execution_count": 74,
   "metadata": {},
   "outputs": [],
   "source": [
    "html = '''\n",
    "<html>\n",
    "<body>\n",
    "    <div class=\"hello datacamp\">\n",
    "        <p>Hello World!</p>\n",
    "    </div>\n",
    "    <p>Enjoy DataCamp!</p>\n",
    "</body>\n",
    "</html>\n",
    "'''\n",
    "sel = Selector( text = html )"
   ]
  },
  {
   "cell_type": "code",
   "execution_count": 75,
   "metadata": {},
   "outputs": [
    {
     "data": {
      "text/plain": [
       "str"
      ]
     },
     "execution_count": 75,
     "metadata": {},
     "output_type": "execute_result"
    }
   ],
   "source": [
    "type(html)"
   ]
  },
  {
   "cell_type": "code",
   "execution_count": 10,
   "metadata": {},
   "outputs": [
    {
     "data": {
      "text/plain": [
       "[<Selector xpath='descendant-or-self::div/p' data='<p>Hello World!</p>'>]"
      ]
     },
     "execution_count": 10,
     "metadata": {},
     "output_type": "execute_result"
    }
   ],
   "source": [
    "sel.css(\"div > p\")"
   ]
  },
  {
   "cell_type": "code",
   "execution_count": 11,
   "metadata": {},
   "outputs": [
    {
     "data": {
      "text/plain": [
       "['<p>Hello World!</p>']"
      ]
     },
     "execution_count": 11,
     "metadata": {},
     "output_type": "execute_result"
    }
   ],
   "source": [
    "sel.css(\"div > p\").extract()"
   ]
  },
  {
   "cell_type": "markdown",
   "metadata": {},
   "source": [
    "## Attribute and Text Selection"
   ]
  },
  {
   "cell_type": "markdown",
   "metadata": {},
   "source": [
    "### You've been `href` ed"
   ]
  },
  {
   "cell_type": "code",
   "execution_count": 96,
   "metadata": {},
   "outputs": [],
   "source": [
    "from scrapy import Selector\n",
    "\n",
    "# Buat objek selector dari situs web\n",
    "sel = Selector( text = html )\n",
    "\n",
    "# Pilih semua hyperlink elemen div milik  class \"course-block\"\n",
    "course_as = sel.css( 'div.course-block > a' )\n",
    "\n",
    "# Memilih semua atribut href chaining dengan css\n",
    "hrefs_from_css = course_as.css( '::attr(href)' )\n",
    "\n",
    "# Memilih semua atribut href chaining dengan xpath\n",
    "hrefs_from_xpath = course_as.xpath( './@href' )"
   ]
  },
  {
   "cell_type": "code",
   "execution_count": 97,
   "metadata": {},
   "outputs": [
    {
     "name": "stdout",
     "output_type": "stream",
     "text": [
      "[<Selector xpath='./@href' data='/courses/free-introduction-to-r'>, <Selector xpath='./@href' data='/courses/data-table-data-manipulation-r-'>, <Selector xpath='./@href' data='/courses/dplyr-data-manipulation-r-tutor'>, <Selector xpath='./@href' data='/courses/ggvis-data-visualization-r-tuto'>, <Selector xpath='./@href' data='/courses/reporting-with-r-markdown'>, <Selector xpath='./@href' data='/courses/intermediate-r'>, <Selector xpath='./@href' data='/courses/introduction-to-machine-learnin'>, <Selector xpath='./@href' data='/courses/cleaning-data-in-r'>, <Selector xpath='./@href' data='/courses/intro-to-python-for-data-scienc'>, <Selector xpath='./@href' data='/courses/intermediate-r-practice'>, <Selector xpath='./@href' data='/courses/data-visualization-with-ggplot2'>, <Selector xpath='./@href' data='/courses/data-visualization-with-ggplot2'>, <Selector xpath='./@href' data='/courses/intermediate-python-for-data-sc'>, <Selector xpath='./@href' data='/courses/data-visualization-with-ggplot2'>, <Selector xpath='./@href' data='/courses/intro-to-text-mining-bag-of-wor'>, <Selector xpath='./@href' data='/courses/exploring-pitch-data-with-r'>, <Selector xpath='./@href' data='/courses/working-with-the-rstudio-ide-pa'>, <Selector xpath='./@href' data='/courses/introduction-to-portfolio-analy'>, <Selector xpath='./@href' data='/courses/writing-functions-in-r'>, <Selector xpath='./@href' data='/courses/introduction-to-credit-risk-mod'>, <Selector xpath='./@href' data='/courses/machine-learning-toolbox'>, <Selector xpath='./@href' data='/courses/working-with-the-rstudio-ide-pa'>, <Selector xpath='./@href' data='/courses/joining-data-in-r-with-dplyr'>, <Selector xpath='./@href' data='/courses/introduction-to-relational-data'>, <Selector xpath='./@href' data='/courses/manipulating-time-series-data-i'>, <Selector xpath='./@href' data='/courses/introduction-to-time-series-ana'>, <Selector xpath='./@href' data='/courses/importing-cleaning-data-in-r-ca'>, <Selector xpath='./@href' data='/courses/financial-trading-in-r'>, <Selector xpath='./@href' data='/courses/importing-and-managing-financia'>, <Selector xpath='./@href' data='/courses/interactive-data-visualization-'>, <Selector xpath='./@href' data='/courses/exploratory-data-analysis-in-r-'>, <Selector xpath='./@href' data='/courses/importing-data-in-r-part-1'>, <Selector xpath='./@href' data='/courses/importing-data-in-r-part-2'>, <Selector xpath='./@href' data='/courses/data-visualization-in-r'>, <Selector xpath='./@href' data='/courses/python-data-science-toolbox-par'>, <Selector xpath='./@href' data='/courses/python-data-science-toolbox-par'>, <Selector xpath='./@href' data='/courses/statistical-thinking-in-python-'>, <Selector xpath='./@href' data='/courses/statistical-thinking-in-python-'>, <Selector xpath='./@href' data='/courses/statistical-modeling-in-r-part-'>, <Selector xpath='./@href' data='/courses/statistical-modeling-in-r-part-'>, <Selector xpath='./@href' data='/courses/intermediate-portfolio-analysis'>, <Selector xpath='./@href' data='/courses/importing-data-in-python-part-2'>, <Selector xpath='./@href' data='/courses/importing-data-in-python-part-1'>, <Selector xpath='./@href' data='/courses/pandas-foundations'>, <Selector xpath='./@href' data='/courses/manipulating-dataframes-with-pa'>, <Selector xpath='./@href' data='/courses/merging-dataframes-with-pandas'>, <Selector xpath='./@href' data='/courses/bond-valuation-and-analysis-in-'>, <Selector xpath='./@href' data='/courses/foundations-of-inference'>, <Selector xpath='./@href' data='/courses/introduction-to-data-visualizat'>, <Selector xpath='./@href' data='/courses/exploratory-data-analysis'>, <Selector xpath='./@href' data='/courses/correlation-and-regression'>, <Selector xpath='./@href' data='/courses/introduction-to-data'>, <Selector xpath='./@href' data='/courses/arima-modeling-with-r'>, <Selector xpath='./@href' data='/courses/unsupervised-learning-in-r'>, <Selector xpath='./@href' data='/courses/working-with-geospatial-data-in'>, <Selector xpath='./@href' data='/courses/network-analysis-in-python-part'>, <Selector xpath='./@href' data='/courses/supervised-learning-with-scikit'>, <Selector xpath='./@href' data='/courses/intro-to-sql-for-data-science'>, <Selector xpath='./@href' data='/courses/manipulating-time-series-data-i'>, <Selector xpath='./@href' data='/courses/deep-learning-in-python'>, <Selector xpath='./@href' data='/courses/object-oriented-programming-in-'>, <Selector xpath='./@href' data='/courses/sentiment-analysis-in-r'>, <Selector xpath='./@href' data='/courses/cleaning-data-in-python'>, <Selector xpath='./@href' data='/courses/unsupervised-learning-in-python'>, <Selector xpath='./@href' data='/courses/visualizing-time-series-data-in'>, <Selector xpath='./@href' data='/courses/valuation-of-life-insurance-pro'>, <Selector xpath='./@href' data='/courses/foundations-of-probability-in-r'>, <Selector xpath='./@href' data='/courses/scalable-data-processing-in-r'>, <Selector xpath='./@href' data='/courses/machine-learning-with-the-exper'>, <Selector xpath='./@href' data='/courses/introduction-to-r-for-finance'>, <Selector xpath='./@href' data='/courses/intermediate-r-for-finance'>, <Selector xpath='./@href' data='/courses/supervised-learning-in-r-classi'>, <Selector xpath='./@href' data='/courses/string-manipulation-in-r-with-s'>, <Selector xpath='./@href' data='/courses/writing-efficient-r-code'>, <Selector xpath='./@href' data='/courses/forecasting-using-r'>, <Selector xpath='./@href' data='/courses/machine-learning-with-tree-base'>, <Selector xpath='./@href' data='/courses/working-with-web-data-in-r'>, <Selector xpath='./@href' data='/courses/quantitative-risk-management-in'>, <Selector xpath='./@href' data='/courses/spatial-statistics-in-r'>, <Selector xpath='./@href' data='/courses/data-visualization-in-r-with-la'>, <Selector xpath='./@href' data='/courses/introduction-to-spark-in-r-usin'>, <Selector xpath='./@href' data='/courses/data-types-for-data-science'>, <Selector xpath='./@href' data='/courses/sentiment-analysis-in-r-the-tid'>, <Selector xpath='./@href' data='/courses/network-analysis-in-python-part'>, <Selector xpath='./@href' data='/courses/multiple-and-logistic-regressio'>, <Selector xpath='./@href' data='/courses/inference-for-linear-regression'>, <Selector xpath='./@href' data='/courses/natural-language-processing-fun'>, <Selector xpath='./@href' data='/courses/building-chatbots-in-python'>, <Selector xpath='./@href' data='/courses/extreme-gradient-boosting-with-'>, <Selector xpath='./@href' data='/courses/equity-valuation-in-r'>, <Selector xpath='./@href' data='/courses/building-web-applications-in-r-'>, <Selector xpath='./@href' data='/courses/supervised-learning-in-r-regres'>, <Selector xpath='./@href' data='/courses/importing-managing-financial-da'>, <Selector xpath='./@href' data='/courses/optimizing-r-code-with-rcpp'>, <Selector xpath='./@href' data='/courses/manipulating-time-series-data-i'>, <Selector xpath='./@href' data='/courses/introduction-to-time-series-ana'>, <Selector xpath='./@href' data='/courses/parallel-computing-with-dask'>, <Selector xpath='./@href' data='/courses/spatial-analysis-in-r-with-sf-a'>, <Selector xpath='./@href' data='/courses/introduction-to-pyspark'>, <Selector xpath='./@href' data='/courses/network-analysis-in-r'>, <Selector xpath='./@href' data='/courses/case-studies-in-statistical-thi'>, <Selector xpath='./@href' data='/courses/joining-data-in-postgresql'>, <Selector xpath='./@href' data='/courses/building-web-applications-in-r-'>, <Selector xpath='./@href' data='/courses/introduction-to-the-tidyverse'>, <Selector xpath='./@href' data='/courses/introduction-to-shell-for-data-'>, <Selector xpath='./@href' data='/courses/developing-r-packages'>, <Selector xpath='./@href' data='/courses/visualizing-time-series-data-in'>, <Selector xpath='./@href' data='/courses/data-manipulation-in-r-with-dat'>, <Selector xpath='./@href' data='/courses/fundamentals-of-bayesian-data-a'>, <Selector xpath='./@href' data='/courses/working-with-dates-and-times-in'>, <Selector xpath='./@href' data='/courses/introduction-to-git-for-data-sc'>, <Selector xpath='./@href' data='/courses/python-for-r-users'>, <Selector xpath='./@href' data='/courses/cluster-analysis-in-r'>, <Selector xpath='./@href' data='/courses/intro-to-financial-concepts-usi'>, <Selector xpath='./@href' data='/courses/intro-to-portfolio-risk-managem'>, <Selector xpath='./@href' data='/courses/conda-essentials'>, <Selector xpath='./@href' data='/courses/interactive-data-visualization-'>, <Selector xpath='./@href' data='/courses/visualizing-big-data-with-trell'>, <Selector xpath='./@href' data='/courses/building-dashboards-with-flexda'>, <Selector xpath='./@href' data='/courses/communicating-with-data-in-the-'>, <Selector xpath='./@href' data='/courses/introduction-to-linear-modeling'>, <Selector xpath='./@href' data='/courses/introduction-to-using-mongodb-f'>, <Selector xpath='./@href' data='/courses/chip-seq-workflows-in-r'>, <Selector xpath='./@href' data='/courses/joining-data-in-r-with-datatabl'>, <Selector xpath='./@href' data='/courses/foundations-of-functional-progr'>, <Selector xpath='./@href' data='/courses/visualization-best-practices-in'>, <Selector xpath='./@href' data='/courses/building-dashboards-with-shinyd'>, <Selector xpath='./@href' data='/courses/modeling-with-data-in-the-tidyv'>, <Selector xpath='./@href' data='/courses/human-resources-analytics-in-r-'>, <Selector xpath='./@href' data='/courses/working-with-data-in-the-tidyve'>, <Selector xpath='./@href' data='/courses/supervised-learning-in-r-case-s'>, <Selector xpath='./@href' data='/courses/forecasting-product-demand-in-r'>, <Selector xpath='./@href' data='/courses/marketing-analytics-in-r-statis'>, <Selector xpath='./@href' data='/courses/hierarchical-and-mixed-effects-'>, <Selector xpath='./@href' data='/courses/machine-learning-for-time-serie'>, <Selector xpath='./@href' data='/courses/linear-classifiers-in-python'>, <Selector xpath='./@href' data='/courses/hr-analytics-in-python-predicti'>, <Selector xpath='./@href' data='/courses/feature-engineering-with-pyspar'>, <Selector xpath='./@href' data='/courses/machine-learning-with-tree-base'>, <Selector xpath='./@href' data='/courses/human-resources-analytics-in-r-'>, <Selector xpath='./@href' data='/courses/data-privacy-and-anonymization-'>, <Selector xpath='./@href' data='/courses/nonlinear-modeling-in-r-with-ga'>, <Selector xpath='./@href' data='/courses/bayesian-modeling-with-rjags'>, <Selector xpath='./@href' data='/courses/structural-equation-modeling-wi'>, <Selector xpath='./@href' data='/courses/differential-expression-analysi'>, <Selector xpath='./@href' data='/courses/factor-analysis-in-r'>, <Selector xpath='./@href' data='/courses/foundations-of-predictive-analy'>, <Selector xpath='./@href' data='/courses/marketing-analytics-in-r-choice'>, <Selector xpath='./@href' data='/courses/categorical-data-in-the-tidyver'>, <Selector xpath='./@href' data='/courses/multivariate-probability-distri'>, <Selector xpath='./@href' data='/courses/advanced-deep-learning-with-ker'>, <Selector xpath='./@href' data='/courses/experimental-design-in-r'>, <Selector xpath='./@href' data='/courses/preprocessing-for-machine-learn'>, <Selector xpath='./@href' data='/courses/machine-learning-for-finance-in'>, <Selector xpath='./@href' data='/courses/building-response-models-in-r'>, <Selector xpath='./@href' data='/courses/bayesian-regression-modeling-wi'>, <Selector xpath='./@href' data='/courses/intermediate-functional-program'>, <Selector xpath='./@href' data='/courses/intro-to-python-for-finance'>, <Selector xpath='./@href' data='/courses/analyzing-survey-data-in-r'>, <Selector xpath='./@href' data='/courses/mixture-models-in-r'>, <Selector xpath='./@href' data='/courses/network-science-in-r-a-tidy-app'>, <Selector xpath='./@href' data='/courses/hyperparameter-tuning-in-r'>, <Selector xpath='./@href' data='/courses/support-vector-machines-in-r'>, <Selector xpath='./@href' data='/courses/interactive-maps-with-leaflet-i'>, <Selector xpath='./@href' data='/courses/analyzing-election-and-polling-'>, <Selector xpath='./@href' data='/courses/ab-testing-in-r'>, <Selector xpath='./@href' data='/courses/rna-seq-differential-expression'>, <Selector xpath='./@href' data='/courses/analyzing-police-activity-with-'>, <Selector xpath='./@href' data='/courses/analyzing-us-census-data-in-r'>, <Selector xpath='./@href' data='/courses/conda-for-building-distributing'>, <Selector xpath='./@href' data='/courses/data-visualization-with-seaborn'>, <Selector xpath='./@href' data='/courses/anomaly-detection-in-r'>, <Selector xpath='./@href' data='/courses/statistical-simulation-in-pytho'>, <Selector xpath='./@href' data='/courses/dealing-with-missing-data-in-r'>, <Selector xpath='./@href' data='/courses/python-for-matlab-users'>, <Selector xpath='./@href' data='/courses/visualizing-geospatial-data-in-'>, <Selector xpath='./@href' data='/courses/survival-analysis-in-r'>, <Selector xpath='./@href' data='/courses/biomedical-image-analysis-in-py'>, <Selector xpath='./@href' data='/courses/recommendation-engines-in-pyspa'>, <Selector xpath='./@href' data='/courses/financial-analytics-in-r'>, <Selector xpath='./@href' data='/courses/interactive-data-visualization-'>, <Selector xpath='./@href' data='/courses/machine-learning-in-the-tidyver'>, <Selector xpath='./@href' data='/courses/predictive-analytics-using-netw'>, <Selector xpath='./@href' data='/courses/pivot-tables-with-spreadsheets'>, <Selector xpath='./@href' data='/courses/intermediate-t-sql'>, <Selector xpath='./@href' data='/courses/web-scraping-with-python'>, <Selector xpath='./@href' data='/courses/designing-and-analyzing-clinica'>, <Selector xpath='./@href' data='/courses/intermediate-spreadsheets-for-d'>, <Selector xpath='./@href' data='/courses/convolutional-neural-networks-f'>, <Selector xpath='./@href' data='/courses/linear-algebra-for-data-science'>, <Selector xpath='./@href' data='/courses/generalized-linear-models-in-r'>, <Selector xpath='./@href' data='/courses/advanced-nlp-with-spacy'>, <Selector xpath='./@href' data='/courses/spreadsheet-basics'>, <Selector xpath='./@href' data='/courses/data-analysis-with-spreadsheets'>, <Selector xpath='./@href' data='/courses/supply-chain-analytics-in-pytho'>, <Selector xpath='./@href' data='/courses/fraud-detection-in-r'>, <Selector xpath='./@href' data='/courses/analyzing-social-media-data-in-'>, <Selector xpath='./@href' data='/courses/garch-models-in-r'>, <Selector xpath='./@href' data='/courses/course-creation-at-datacamp'>, <Selector xpath='./@href' data='/courses/object-oriented-programming-in-'>, <Selector xpath='./@href' data='/courses/fraud-detection-in-python'>, <Selector xpath='./@href' data='/courses/advanced-dimensionality-reducti'>, <Selector xpath='./@href' data='/courses/customer-segmentation-in-python'>, <Selector xpath='./@href' data='/courses/topic-modeling-in-r'>, <Selector xpath='./@href' data='/courses/defensive-r-programming'>, <Selector xpath='./@href' data='/courses/foundations-of-predictive-analy'>, <Selector xpath='./@href' data='/courses/big-data-fundamentals-via-pyspa'>, <Selector xpath='./@href' data='/courses/dimensionality-reduction-in-pyt'>, <Selector xpath='./@href' data='/courses/highcharter-for-finance-in-r'>, <Selector xpath='./@href' data='/courses/working-with-dates-and-times-in'>, <Selector xpath='./@href' data='/courses/software-engineering-for-data-s'>, <Selector xpath='./@href' data='/courses/sql-for-exploratory-data-analys'>, <Selector xpath='./@href' data='/courses/intermediate-sql'>, <Selector xpath='./@href' data='/courses/writing-efficient-python-code'>, <Selector xpath='./@href' data='/courses/introduction-to-data-science-in'>, <Selector xpath='./@href' data='/courses/introduction-to-relational-data'>, <Selector xpath='./@href' data='/courses/introduction-to-matplotlib'>, <Selector xpath='./@href' data='/courses/introduction-to-text-analysis-i'>, <Selector xpath='./@href' data='/courses/reporting-in-sql'>, <Selector xpath='./@href' data='/courses/python-for-spreadsheet-users'>, <Selector xpath='./@href' data='/courses/improving-your-data-visualizati'>, <Selector xpath='./@href' data='/courses/clustering-methods-with-scipy'>, <Selector xpath='./@href' data='/courses/financial-analytics-in-spreadsh'>, <Selector xpath='./@href' data='/courses/model-validation-in-python'>, <Selector xpath='./@href' data='/courses/introduction-to-seaborn'>, <Selector xpath='./@href' data='/courses/dimensionality-reduction-in-r'>, <Selector xpath='./@href' data='/courses/inference-for-numerical-data'>, <Selector xpath='./@href' data='/courses/inference-for-categorical-data'>, <Selector xpath='./@href' data='/courses/business-process-analytics-in-r'>, <Selector xpath='./@href' data='/courses/network-analysis-in-r-case-stud'>, <Selector xpath='./@href' data='/courses/customer-analytics-ab-testing-i'>, <Selector xpath='./@href' data='/courses/parallel-programming-in-r'>, <Selector xpath='./@href' data='/courses/introduction-to-bioconductor'>, <Selector xpath='./@href' data='/courses/predicting-customer-churn-in-py'>, <Selector xpath='./@href' data='/courses/financial-forecasting-in-python'>, <Selector xpath='./@href' data='/courses/intermediate-interactive-data-v'>, <Selector xpath='./@href' data='/courses/working-with-geospatial-data-in'>, <Selector xpath='./@href' data='/courses/single-cell-rna-seq-workflows-i'>, <Selector xpath='./@href' data='/courses/time-series-with-datatable-in-r'>, <Selector xpath='./@href' data='/courses/writing-functions-and-stored-pr'>, <Selector xpath='./@href' data='/courses/longitudinal-analysis-in-r'>, <Selector xpath='./@href' data='/courses/data-visualization-in-spreadshe'>, <Selector xpath='./@href' data='/courses/probability-puzzles-in-r'>, <Selector xpath='./@href' data='/courses/feature-engineering-in-r'>, <Selector xpath='./@href' data='/courses/analyzing-us-census-data-in-pyt'>, <Selector xpath='./@href' data='/courses/designing-machine-learning-work'>, <Selector xpath='./@href' data='/courses/introduction-to-sql-server'>, <Selector xpath='./@href' data='/courses/feature-engineering-for-machine'>, <Selector xpath='./@href' data='/courses/creating-robust-python-workflow'>, <Selector xpath='./@href' data='/courses/foundations-of-probability-in-p'>, <Selector xpath='./@href' data='/courses/optimizing-python-code-with-pan'>, <Selector xpath='./@href' data='/courses/introduction-to-spark-sql'>, <Selector xpath='./@href' data='/courses/conditional-formatting-in-sprea'>, <Selector xpath='./@href' data='/courses/introduction-to-tensorflow-in-p'>, <Selector xpath='./@href' data='/courses/analyzing-business-data-in-sql'>, <Selector xpath='./@href' data='/courses/exploratory-data-analysis-in-py'>, <Selector xpath='./@href' data='/courses/generalized-linear-models-in-py'>, <Selector xpath='./@href' data='/courses/analyzing-iot-data-in-python'>, <Selector xpath='./@href' data='/courses/survey-and-measurement-developm'>]\n"
     ]
    }
   ],
   "source": [
    "print(hrefs_from_xpath)"
   ]
  },
  {
   "cell_type": "markdown",
   "metadata": {},
   "source": [
    "### Top Level Text"
   ]
  },
  {
   "cell_type": "code",
   "execution_count": 106,
   "metadata": {},
   "outputs": [],
   "source": [
    "from scrapy.http import TextResponse\n",
    "\n",
    "url = 'https://www.DataCamp.com'\n",
    "res = requests.get(url)\n",
    "res = TextResponse(body=res.content, url=url)"
   ]
  },
  {
   "cell_type": "code",
   "execution_count": 107,
   "metadata": {},
   "outputs": [],
   "source": [
    "def our_xpath( xpath ):\n",
    "  xextr = res.xpath( xpath ).extract()\n",
    "  return xextr\n",
    "\n",
    "def our_css( css ):\n",
    "  cextr = res.css( css ).extract()\n",
    "  return cextr\n",
    "\n",
    "def print_results( xpath, css_locator ):\n",
    "  print( \"Your XPath extracts to following:\")\n",
    "  print( our_xpath(xpath) )\n",
    "  print(\"_________________\\n\")\n",
    "  print( \"Your CSS Locator extracts the following:\")\n",
    "  print( our_css(css_locator) )\n",
    "  return None"
   ]
  },
  {
   "cell_type": "code",
   "execution_count": 108,
   "metadata": {},
   "outputs": [
    {
     "name": "stdout",
     "output_type": "stream",
     "text": [
      "Your XPath extracts to following:\n",
      "[]\n",
      "_________________\n",
      "\n",
      "Your CSS Locator extracts the following:\n",
      "[]\n"
     ]
    }
   ],
   "source": [
    "# Create an XPath string to the desired text.\n",
    "xpath = '//p[@id=\"p3\"]/text()'\n",
    "\n",
    "# Create a CSS Locator string to the desired text.\n",
    "css_locator = 'p#p3::text'\n",
    "\n",
    "# Print the text from our selections\n",
    "print_results( xpath, css_locator )"
   ]
  },
  {
   "cell_type": "markdown",
   "metadata": {},
   "source": [
    "### All Level Text"
   ]
  },
  {
   "cell_type": "code",
   "execution_count": 105,
   "metadata": {},
   "outputs": [
    {
     "name": "stdout",
     "output_type": "stream",
     "text": [
      "Your XPath extracts to following:\n",
      "[]\n",
      "_________________\n",
      "\n",
      "Your CSS Locator extracts the following:\n",
      "[]\n"
     ]
    }
   ],
   "source": [
    "# Create an XPath string to the desired text.\n",
    "xpath = '//p[@id=\"p3\"]//text()'\n",
    "\n",
    "# Create a CSS Locator string to the desired text.\n",
    "css_locator = 'p#p3 ::text'\n",
    "\n",
    "# Print the text from our selections\n",
    "print_results( xpath, css_locator )"
   ]
  },
  {
   "cell_type": "markdown",
   "metadata": {},
   "source": [
    "### Text Extraction"
   ]
  },
  {
   "cell_type": "code",
   "execution_count": 13,
   "metadata": {},
   "outputs": [],
   "source": [
    "html = '''\n",
    "<p id=\"p-example\">\n",
    "    Hello world! Try <a href=\"http://www.datacamp.com\">DataCamp</a> today!\n",
    "</p>\n",
    "'''\n",
    "\n",
    "sel = Selector( text = html )"
   ]
  },
  {
   "cell_type": "code",
   "execution_count": 14,
   "metadata": {},
   "outputs": [
    {
     "data": {
      "text/plain": [
       "['\\n    Hello world! Try ', ' today!\\n']"
      ]
     },
     "execution_count": 14,
     "metadata": {},
     "output_type": "execute_result"
    }
   ],
   "source": [
    "sel.xpath('//p[@id=\"p-example\"]/text()').extract()"
   ]
  },
  {
   "cell_type": "code",
   "execution_count": 15,
   "metadata": {},
   "outputs": [
    {
     "data": {
      "text/plain": [
       "['\\n    Hello world! Try ', 'DataCamp', ' today!\\n']"
      ]
     },
     "execution_count": 15,
     "metadata": {},
     "output_type": "execute_result"
    }
   ],
   "source": [
    "sel.xpath('//p[@id=\"p-example\"]//text()').extract()"
   ]
  },
  {
   "cell_type": "code",
   "execution_count": 16,
   "metadata": {},
   "outputs": [
    {
     "data": {
      "text/plain": [
       "['\\n    Hello world! Try ', ' today!\\n']"
      ]
     },
     "execution_count": 16,
     "metadata": {},
     "output_type": "execute_result"
    }
   ],
   "source": [
    "sel.css('p#p-example::text').extract()"
   ]
  },
  {
   "cell_type": "code",
   "execution_count": 17,
   "metadata": {},
   "outputs": [
    {
     "data": {
      "text/plain": [
       "['\\n    Hello world! Try ', 'DataCamp', ' today!\\n']"
      ]
     },
     "execution_count": 17,
     "metadata": {},
     "output_type": "execute_result"
    }
   ],
   "source": [
    "sel.css('p#p-example ::text').extract()"
   ]
  },
  {
   "cell_type": "code",
   "execution_count": 18,
   "metadata": {},
   "outputs": [
    {
     "data": {
      "text/plain": [
       "scrapy.selector.unified.Selector"
      ]
     },
     "execution_count": 18,
     "metadata": {},
     "output_type": "execute_result"
    }
   ],
   "source": [
    "type(sel)"
   ]
  },
  {
   "cell_type": "markdown",
   "metadata": {},
   "source": [
    "## Respond\n",
    "\n",
    "### Reveal By Response"
   ]
  },
  {
   "cell_type": "code",
   "execution_count": 109,
   "metadata": {},
   "outputs": [],
   "source": [
    "from scrapy.http import TextResponse\n",
    "\n",
    "url = 'https://www.datacamp.com/courses/all'\n",
    "response = requests.get(url)\n",
    "response = TextResponse(body=response.content, url=url)"
   ]
  },
  {
   "cell_type": "code",
   "execution_count": 110,
   "metadata": {},
   "outputs": [],
   "source": [
    "def print_url_title( url, title ):\n",
    "  print( \"Here is what you found:\" )\n",
    "  print( \"\\t-URL: %s\" % url )\n",
    "  print( \"\\t-Title: %s\" % title )"
   ]
  },
  {
   "cell_type": "code",
   "execution_count": 111,
   "metadata": {},
   "outputs": [
    {
     "name": "stdout",
     "output_type": "stream",
     "text": [
      "Here is what you found:\n",
      "\t-URL: https://www.datacamp.com/courses/all\n",
      "\t-Title: Data Science Courses: R & Python Analysis Tutorials | DataCamp\n"
     ]
    }
   ],
   "source": [
    "# Get the URL to the website loaded in response\n",
    "this_url = response.url\n",
    "\n",
    "# Get the title of the website loaded in response\n",
    "this_title = response.xpath( '/html/head/title/text()' ).extract_first()\n",
    "\n",
    "# Print out our findings\n",
    "print_url_title( this_url, this_title )"
   ]
  },
  {
   "cell_type": "markdown",
   "metadata": {},
   "source": [
    "### Responding with Selectors"
   ]
  },
  {
   "cell_type": "code",
   "execution_count": 112,
   "metadata": {},
   "outputs": [
    {
     "name": "stdout",
     "output_type": "stream",
     "text": [
      "Element 1 from response: <Selector xpath=\"descendant-or-self::a[@class and contains(concat(' ', normalize-space(@class), ' '), ' course-block__link ')]\" data='<a class=\"course-block__link ds-snowplow'>\n",
      "Element 1 from sel: <Selector xpath=\"descendant-or-self::a[@class and contains(concat(' ', normalize-space(@class), ' '), ' course-block__link ')]\" data='<a class=\"course-block__link ds-snowplow'>\n",
      "\n",
      "Element 2 from response: <Selector xpath=\"descendant-or-self::a[@class and contains(concat(' ', normalize-space(@class), ' '), ' course-block__link ')]\" data='<a class=\"course-block__link ds-snowplow'>\n",
      "Element 2 from sel: <Selector xpath=\"descendant-or-self::a[@class and contains(concat(' ', normalize-space(@class), ' '), ' course-block__link ')]\" data='<a class=\"course-block__link ds-snowplow'>\n",
      "\n"
     ]
    }
   ],
   "source": [
    "# Create a CSS Locator string to the desired hyperlink elements\n",
    "css_locator = 'a.course-block__link'\n",
    "\n",
    "# Select the hyperlink elements from response and sel\n",
    "response_as = response.css(css_locator)\n",
    "sel_as = sel.css(css_locator)\n",
    "\n",
    "# Examine similarity\n",
    "nr = len(response_as)\n",
    "ns = len(sel_as)\n",
    "for i in range(min(nr, ns, 2)):\n",
    "    print(\"Element %d from response: %s\" % (i+1, response_as[i]))\n",
    "    print(\"Element %d from sel: %s\" % (i+1, sel_as[i]))\n",
    "    print(\"\")"
   ]
  },
  {
   "cell_type": "markdown",
   "metadata": {},
   "source": [
    "### Selecting from a Selection"
   ]
  },
  {
   "cell_type": "code",
   "execution_count": 113,
   "metadata": {},
   "outputs": [
    {
     "name": "stdout",
     "output_type": "stream",
     "text": [
      "The text from the h4 element is: Introduction to R\n"
     ]
    }
   ],
   "source": [
    "# Select all desired div elements\n",
    "divs = response.css( 'div.course-block' )\n",
    "\n",
    "# Take the first div element\n",
    "first_div = divs[0]\n",
    "\n",
    "# Extract the text from the h4 element in first_div\n",
    "h4_text = first_div.css('h4::text').extract_first()\n",
    "\n",
    "# Print out the text\n",
    "print( \"The text from the h4 element is:\", h4_text )"
   ]
  },
  {
   "cell_type": "markdown",
   "metadata": {},
   "source": [
    "## Survey\n",
    "\n",
    "### Titular"
   ]
  },
  {
   "cell_type": "code",
   "execution_count": 114,
   "metadata": {},
   "outputs": [
    {
     "name": "stdout",
     "output_type": "stream",
     "text": [
      ">> \n",
      "        Subscribe now. Save 50% on DataCamp and commit to learning data science and analytics.\n",
      "    \n",
      ">> Introduction to R\n",
      ">> Data Analysis in R, the data.table Way\n",
      ">> Data Manipulation in R with dplyr\n",
      ">> Data Visualization in R with ggvis\n",
      ">> Reporting with R Markdown\n",
      ">> Intermediate R\n",
      ">> Introduction to Machine Learning\n",
      ">> Cleaning Data in R\n",
      ">> Introduction to Python\n",
      ">> Intermediate R - Practice\n",
      ">> Data Visualization with ggplot2 (Part 1)\n",
      ">> Data Visualization with ggplot2 (Part 2)\n",
      ">> Intermediate Python for Data Science\n",
      ">> Data Visualization with ggplot2 (Part 3)\n",
      ">> Text Mining: Bag of Words\n",
      ">> Exploring Pitch Data with R\n",
      ">> Working with the RStudio IDE (Part 1)\n",
      ">> Introduction to Portfolio Analysis in R\n",
      ">> Writing Functions in R\n",
      ">> Credit Risk Modeling in R\n",
      ">> Machine Learning Toolbox\n",
      ">> Working with the RStudio IDE (Part 2)\n",
      ">> Joining Data in R with dplyr\n",
      ">> Introduction to Databases in Python\n",
      ">> Manipulating Time Series Data in R with xts & zoo\n",
      ">> Introduction to Time Series Analysis\n",
      ">> Importing & Cleaning Data in R: Case Studies\n",
      ">> Financial Trading in R\n",
      ">> Importing and Managing Financial Data in R\n",
      ">> Interactive Data Visualization with Bokeh\n",
      ">> Exploratory Data Analysis in R: Case Study\n",
      ">> Importing Data in R (Part 1)\n",
      ">> Importing Data in R (Part 2)\n",
      ">> Data Visualization in R\n",
      ">> Python Data Science Toolbox (Part 2)\n",
      ">> Python Data Science Toolbox (Part 1)\n",
      ">> Statistical Thinking in Python (Part 1)\n",
      ">> Statistical Thinking in Python (Part 2)\n",
      ">> Statistical Modeling in R (Part 1)\n",
      ">> Statistical Modeling in R (Part 2)\n",
      ">> Intermediate Portfolio Analysis in R\n",
      ">> Importing Data in Python (Part 2)\n",
      ">> Importing Data in Python (Part 1)\n",
      ">> pandas Foundations\n",
      ">> Manipulating DataFrames with pandas\n",
      ">> Merging DataFrames with pandas\n",
      ">> Bond Valuation and Analysis in R\n",
      ">> Foundations of Inference\n",
      ">> Introduction to Data Visualization with Python\n",
      ">> Exploratory Data Analysis\n",
      ">> Correlation and Regression\n",
      ">> Introduction to Data\n",
      ">> ARIMA Modeling with R\n",
      ">> Unsupervised Learning in R\n",
      ">> Working with Geospatial Data in R\n",
      ">> Network Analysis in Python (Part 1)\n",
      ">> Supervised Learning with scikit-learn\n",
      ">> Intro to SQL for Data Science\n",
      ">> Manipulating Time Series Data in R: Case Studies\n",
      ">> Deep Learning in Python\n",
      ">> Object-Oriented Programming in R: S3 and R6\n",
      ">> Sentiment Analysis in R\n",
      ">> Cleaning Data in Python\n",
      ">> Unsupervised Learning in Python\n",
      ">> Visualizing Time Series Data in R\n",
      ">> Valuation of Life Insurance Products in R\n",
      ">> Foundations of Probability in R\n",
      ">> Scalable Data Processing in R\n",
      ">> Machine Learning with the Experts: School Budgets\n",
      ">> Introduction to R for Finance\n",
      ">> Intermediate R for Finance\n",
      ">> Supervised Learning in R: Classification\n",
      ">> String Manipulation in R with stringr\n",
      ">> Writing Efficient R Code\n",
      ">> Forecasting Using R\n",
      ">> Machine Learning with Tree-Based Models in R\n",
      ">> Working with Web Data in R\n",
      ">> Quantitative Risk Management in R\n",
      ">> Spatial Statistics in R\n",
      ">> Data Visualization in R with lattice\n",
      ">> Introduction to Spark in R using sparklyr\n",
      ">> Data Types for Data Science\n",
      ">> Sentiment Analysis in R: The Tidy Way\n",
      ">> Network Analysis in Python (Part 2)\n",
      ">> Multiple and Logistic Regression\n",
      ">> Inference for Linear Regression\n",
      ">> Natural Language Processing Fundamentals in Python\n",
      ">> Building Chatbots in Python\n",
      ">> Extreme Gradient Boosting with XGBoost\n",
      ">> Equity Valuation in R\n",
      ">> Building Web Applications in R with Shiny: Case Studies\n",
      ">> Supervised Learning in R: Regression\n",
      ">> Importing & Managing Financial Data in Python\n",
      ">> Optimizing R Code with Rcpp\n",
      ">> Manipulating Time Series Data in Python\n",
      ">> Introduction to Time Series Analysis in Python\n",
      ">> Parallel Computing with Dask\n",
      ">> Spatial Analysis in R with sf and raster\n",
      ">> Introduction to PySpark\n",
      ">> Network Analysis in R\n",
      ">> Case Studies in Statistical Thinking\n",
      ">> Joining Data in SQL\n",
      ">> Building Web Applications in R with Shiny\n",
      ">> Introduction to the Tidyverse\n",
      ">> Introduction to Shell for Data Science\n",
      ">> Developing R Packages\n",
      ">> Visualizing Time Series Data in Python\n",
      ">> Data Manipulation in R with data.table\n",
      ">> Fundamentals of Bayesian Data Analysis in R\n",
      ">> Working with Dates and Times in R\n",
      ">> Introduction to Git for Data Science\n",
      ">> Python for R Users\n",
      ">> Cluster Analysis in R\n",
      ">> Intro to Financial Concepts using Python\n",
      ">> Intro to Portfolio Risk Management in Python\n",
      ">> Conda Essentials\n",
      ">> Interactive Data Visualization with plotly in R\n",
      ">> Visualizing Big Data with Trelliscope\n",
      ">> Building Dashboards with flexdashboard\n",
      ">> Communicating with Data in the Tidyverse\n",
      ">> Introduction to Linear Modeling in Python\n",
      ">> Introduction to MongoDB in Python\n",
      ">> ChIP-seq Workflows in R\n",
      ">> Joining Data in R with data.table\n",
      ">> Foundations of Functional Programming with purrr\n",
      ">> Visualization Best Practices in R\n",
      ">> Building Dashboards with shinydashboard\n",
      ">> Modeling with Data in the Tidyverse\n",
      ">> Human Resources Analytics in R: Exploring Employee Data\n",
      ">> Working with Data in the Tidyverse\n",
      ">> Supervised Learning in R: Case Studies\n",
      ">> Forecasting Product Demand in R\n",
      ">> Marketing Analytics in R: Statistical Modeling\n",
      ">> Hierarchical and Mixed Effects Models\n",
      ">> Machine Learning for Time Series Data in Python\n",
      ">> Linear Classifiers in Python\n",
      ">> HR Analytics in Python: Predicting Employee Churn\n",
      ">> Feature Engineering with PySpark\n",
      ">> Machine Learning with Tree-Based Models in Python\n",
      ">> Human Resources Analytics in R: Predicting Employee ...\n",
      ">> Data Privacy and Anonymization in R\n",
      ">> Nonlinear Modeling in R with GAMs\n",
      ">> Bayesian Modeling with RJAGS\n",
      ">> Structural Equation Modeling with lavaan in R\n",
      ">> Differential Expression Analysis in R with limma\n",
      ">> Factor Analysis in R\n",
      ">> Foundations of Predictive Analytics in Python (Part 1)\n",
      ">> Marketing Analytics in R: Choice Modeling\n",
      ">> Categorical Data in the Tidyverse\n",
      ">> Multivariate Probability Distributions in R\n",
      ">> Advanced Deep Learning with Keras in Python\n",
      ">> Experimental Design in R\n",
      ">> Preprocessing for Machine Learning in Python\n",
      ">> Machine Learning for Finance in Python\n",
      ">> Building Response Models in R\n",
      ">> Bayesian Regression Modeling with rstanarm\n",
      ">> Intermediate Functional Programming with purrr\n",
      ">> Intro to Python for Finance\n",
      ">> Analyzing Survey Data in R\n",
      ">> Mixture Models in R\n",
      ">> Network Science in R - A Tidy Approach\n",
      ">> Hyperparameter Tuning in R\n",
      ">> Support Vector Machines in R\n",
      ">> Interactive Maps with leaflet in R\n",
      ">> Analyzing Election and Polling Data in R\n",
      ">> A/B Testing in R\n",
      ">> RNA-Seq Differential Expression Analysis\n",
      ">> Analyzing Police Activity with pandas\n",
      ">> Analyzing US Census Data in R\n",
      ">> Conda for Building & Distributing Packages\n",
      ">> Data Visualization with Seaborn\n",
      ">> Anomaly Detection in R\n",
      ">> Statistical Simulation in Python\n",
      ">> Dealing With Missing Data in R\n",
      ">> Python for MATLAB Users\n",
      ">> Visualizing Geospatial Data in Python\n",
      ">> Survival Analysis in R\n",
      ">> Biomedical Image Analysis in Python\n",
      ">> Building Recommendation Engines with PySpark\n",
      ">> Financial Analytics in R\n",
      ">> Interactive Data Visualization with rbokeh\n",
      ">> Machine Learning in the Tidyverse\n",
      ">> Predictive Analytics using Networked Data in R\n",
      ">> Pivot Tables with Spreadsheets\n",
      ">> Intermediate SQL Server\n",
      ">> Web Scraping in Python\n",
      ">> Designing and Analyzing Clinical Trials in R\n",
      ">> Intermediate Spreadsheets for Data Science\n",
      ">> Convolutional Neural Networks for Image Processing\n",
      ">> Linear Algebra for Data Science in R\n",
      ">> Generalized Linear Models in R\n",
      ">> Advanced NLP with spaCy\n",
      ">> Spreadsheet Basics\n",
      ">> Data Analysis with Spreadsheets\n",
      ">> Supply Chain Analytics in Python\n",
      ">> Fraud Detection in R\n",
      ">> Analyzing Social Media Data in Python\n",
      ">> GARCH Models in R\n",
      ">> Course Creation at DataCamp\n",
      ">> Object-Oriented Programming in Python\n",
      ">> Fraud Detection in Python\n",
      ">> Advanced Dimensionality Reduction in R\n",
      ">> Customer Segmentation in Python\n",
      ">> Topic Modeling in R\n",
      ">> Defensive R Programming\n",
      ">> Foundations of Predictive Analytics in Python (Part 2)\n",
      ">> Big Data Fundamentals via PySpark\n",
      ">> Dimensionality Reduction in Python\n",
      ">> Highcharter for Finance in R\n",
      ">> Working with Dates and Times in Python\n",
      ">> Software Engineering for Data Scientists in Python\n",
      ">> SQL for Exploratory Data Analysis\n",
      ">> Intermediate SQL\n",
      ">> Writing Efficient Python Code\n",
      ">> Introduction to Data Science in Python\n",
      ">> Introduction to Relational Databases in SQL\n",
      ">> Introduction to Matplotlib\n",
      ">> Introduction to Text Analysis in R\n",
      ">> Reporting in SQL\n",
      ">> Python for Spreadsheet Users\n",
      ">> Improving Your Data Visualizations in Python\n",
      ">> Clustering Methods with SciPy\n",
      ">> Financial Analytics in Spreadsheets\n",
      ">> Model Validation in Python\n",
      ">> Introduction to Seaborn\n",
      ">> Dimensionality Reduction in R\n",
      ">> Inference for Numerical Data\n",
      ">> Inference for Categorical Data\n",
      ">> Business Process Analytics in R\n",
      ">> Network Analysis in R: Case Studies\n",
      ">> Customer Analytics & A/B Testing in Python\n",
      ">> Parallel Programming in R\n",
      ">> Introduction to Bioconductor\n",
      ">> Predicting Customer Churn in Python\n",
      ">> Financial Forecasting in Python\n",
      ">> Intermediate Interactive Data Visualization with plo...\n",
      ">> Working with Geospatial Data in Python\n",
      ">> Single-Cell RNA-Seq Workflows in R\n",
      ">> Time Series with data.table in R\n",
      ">> Writing Functions and Stored Procedures in SQL Server\n",
      ">> Longitudinal Analysis in R\n",
      ">> Data Visualization in Spreadsheets\n",
      ">> Probability Puzzles in R\n",
      ">> Feature Engineering in R\n",
      ">> Analyzing US Census Data in Python\n",
      ">> Designing Machine Learning Workflows in Python\n",
      ">> Introduction to SQL Server\n",
      ">> Feature Engineering for Machine Learning in Python\n",
      ">> Creating Robust Python Workflows\n",
      ">> Foundations of Probability in Python\n",
      ">> Optimizing Python Code with pandas\n",
      ">> Introduction to Spark SQL with Python\n",
      ">> Conditional Formatting in Spreadsheets\n",
      ">> Introduction to TensorFlow in Python\n",
      ">> Analyzing Business Data in SQL\n",
      ">> Exploratory Data Analysis in Python\n",
      ">> Generalized Linear Models in Python\n",
      ">> Analyzing IoT Data in Python\n",
      ">> Survey and Measurement Development in R\n"
     ]
    }
   ],
   "source": [
    "# Create a SelectorList of the course titles\n",
    "crs_title_els = response.css( 'h4::text' )\n",
    "\n",
    "# Extract the course titles \n",
    "crs_titles = crs_title_els.extract()\n",
    "\n",
    "# Print out the course titles \n",
    "for el in crs_titles:\n",
    "  print( \">>\", el )"
   ]
  },
  {
   "cell_type": "code",
   "execution_count": 71,
   "metadata": {},
   "outputs": [
    {
     "ename": "NameError",
     "evalue": "name 'mystery' is not defined",
     "output_type": "error",
     "traceback": [
      "\u001b[0;31m---------------------------------------------------------------------------\u001b[0m",
      "\u001b[0;31mNameError\u001b[0m                                 Traceback (most recent call last)",
      "\u001b[0;32m<ipython-input-71-166218ccf1f6>\u001b[0m in \u001b[0;36m<module>\u001b[0;34m\u001b[0m\n\u001b[1;32m      1\u001b[0m \u001b[0;31m# Calculate the number of children of the mystery element\u001b[0m\u001b[0;34m\u001b[0m\u001b[0;34m\u001b[0m\u001b[0;34m\u001b[0m\u001b[0m\n\u001b[0;32m----> 2\u001b[0;31m \u001b[0mhow_many_kids\u001b[0m \u001b[0;34m=\u001b[0m \u001b[0mlen\u001b[0m\u001b[0;34m(\u001b[0m \u001b[0mmystery\u001b[0m\u001b[0;34m.\u001b[0m\u001b[0mxpath\u001b[0m\u001b[0;34m(\u001b[0m \u001b[0;34m'./*'\u001b[0m \u001b[0;34m)\u001b[0m \u001b[0;34m)\u001b[0m\u001b[0;34m\u001b[0m\u001b[0;34m\u001b[0m\u001b[0m\n\u001b[0m\u001b[1;32m      3\u001b[0m \u001b[0;34m\u001b[0m\u001b[0m\n\u001b[1;32m      4\u001b[0m \u001b[0;31m# Print out the number\u001b[0m\u001b[0;34m\u001b[0m\u001b[0;34m\u001b[0m\u001b[0;34m\u001b[0m\u001b[0m\n\u001b[1;32m      5\u001b[0m \u001b[0mprint\u001b[0m\u001b[0;34m(\u001b[0m \u001b[0;34m\"The number of elements you selected was:\"\u001b[0m\u001b[0;34m,\u001b[0m \u001b[0mhow_many_kids\u001b[0m \u001b[0;34m)\u001b[0m\u001b[0;34m\u001b[0m\u001b[0;34m\u001b[0m\u001b[0m\n",
      "\u001b[0;31mNameError\u001b[0m: name 'mystery' is not defined"
     ]
    }
   ],
   "source": [
    "# Calculate the number of children of the mystery element\n",
    "how_many_kids = len( mystery.xpath( './*' ) )\n",
    "\n",
    "# Print out the number\n",
    "print( \"The number of elements you selected was:\", how_many_kids )"
   ]
  },
  {
   "cell_type": "markdown",
   "metadata": {},
   "source": [
    "## Scraping For Reals\n",
    "\n",
    "### What's the Div, Yo?"
   ]
  },
  {
   "cell_type": "code",
   "execution_count": 35,
   "metadata": {},
   "outputs": [],
   "source": [
    "from scrapy import Request\n",
    "\n",
    "response = Request(url='https://www.datacamp.com/courses/all')"
   ]
  },
  {
   "cell_type": "code",
   "execution_count": 30,
   "metadata": {},
   "outputs": [
    {
     "name": "stdout",
     "output_type": "stream",
     "text": [
      "<class 'scrapy.http.request.Request'>\n",
      "https://www.datacamp.com/courses/all\n"
     ]
    }
   ],
   "source": [
    "print(type(response))\n",
    "print(response.url)"
   ]
  },
  {
   "cell_type": "code",
   "execution_count": 37,
   "metadata": {},
   "outputs": [],
   "source": [
    "from scrapy.http import TextResponse\n",
    "\n",
    "url = 'https://www.datacamp.com/courses/all'\n",
    "resp = requests.get(url)\n",
    "resp = TextResponse(body=resp.content, url=url)\n",
    "\n",
    "course_divs = resp.css('div.course-block')"
   ]
  },
  {
   "cell_type": "code",
   "execution_count": 38,
   "metadata": {},
   "outputs": [
    {
     "name": "stdout",
     "output_type": "stream",
     "text": [
      "259\n"
     ]
    }
   ],
   "source": [
    "print( len(course_divs) )"
   ]
  },
  {
   "cell_type": "markdown",
   "metadata": {},
   "source": [
    "### Inspecting course-block"
   ]
  },
  {
   "cell_type": "code",
   "execution_count": 39,
   "metadata": {},
   "outputs": [
    {
     "name": "stdout",
     "output_type": "stream",
     "text": [
      "3\n"
     ]
    }
   ],
   "source": [
    "first_div = course_divs[0]\n",
    "children = first_div.xpath('./*')\n",
    "print( len(children) )"
   ]
  },
  {
   "cell_type": "markdown",
   "metadata": {},
   "source": [
    "### The first child"
   ]
  },
  {
   "cell_type": "code",
   "execution_count": 40,
   "metadata": {},
   "outputs": [],
   "source": [
    "first_div = course_divs[0]\n",
    "children = first_div.xpath('./*')"
   ]
  },
  {
   "cell_type": "code",
   "execution_count": 41,
   "metadata": {},
   "outputs": [
    {
     "name": "stdout",
     "output_type": "stream",
     "text": [
      "<a class=\"course-block__link ds-snowplow-link-course-block\" href=\"/courses/free-introduction-to-r\">\n",
      "      <div class=\"course-block__technology course-block__technology--r\"></div>\n",
      "      <div class=\"course-block__body\">\n",
      "        <h4 class=\"course-block__title\">Introduction to R</h4>\n",
      "        <p class=\"course-block__description\">\n",
      "          Master the basics of data analysis by manipulating common data structures such as vectors, matrices and data frames.\n",
      "        </p>\n",
      "            <div class=\"course-block__extra-info dc-u-fx dc-u-fx-aifs dc-u-fx-jcc dc-u-fx-fww\">\n",
      "              <span class=\"course-block__length dc-u-mh-12 dc-u-fx-center\">\n",
      "                \n",
      "<span class=\"\n",
      "    dc-icon \n",
      "      dc-icon--size-12\n",
      "      dc-icon--primary\n",
      "      dc-icon--flex dc-u-mr-8\n",
      "  \">\n",
      "  <svg class=\"dc-icon__svg\">\n",
      "    <use xlink:href=\"#clock\"></use>\n",
      "  </svg>\n",
      "</span>\n",
      "\n",
      "                4 hours\n",
      "              </span>\n",
      "            </div>\n",
      "      </div>\n",
      "</a>\n"
     ]
    }
   ],
   "source": [
    "first_child = children[0]\n",
    "print( first_child.extract() )"
   ]
  },
  {
   "cell_type": "markdown",
   "metadata": {},
   "source": [
    "### The second child"
   ]
  },
  {
   "cell_type": "code",
   "execution_count": 42,
   "metadata": {},
   "outputs": [],
   "source": [
    "first_div = course_divs[0]\n",
    "children = first_div.xpath('./*')"
   ]
  },
  {
   "cell_type": "code",
   "execution_count": 43,
   "metadata": {},
   "outputs": [
    {
     "name": "stdout",
     "output_type": "stream",
     "text": [
      "<div class=\"course-block__footer\">\n",
      "          <a class=\"course-block__footer-link link-unstyled\" href=\"/courses/free-introduction-to-r\">\n",
      "            <div class=\"course-block__author\">\n",
      "              <img class=\"course-block__author-image\" width=\"62\" height=\"62\" alt=\"Jonathan Cornelissen\" src=\"https://assets.datacamp.com/users/avatars/000/464/581/square/jonathan.jpg?1469693600\">\n",
      "              <div class=\"course-block__author-body\">\n",
      "                <p class=\"course-block__author-name\">Jonathan Cornelissen</p>\n",
      "                <p class=\"course-block__author-occupation\">\n",
      "                  Co-founder and CEO of DataCamp\n",
      "                </p>\n",
      "              </div>\n",
      "            </div>\n",
      "</a>      </div>\n"
     ]
    }
   ],
   "source": [
    "second_child = children[1]\n",
    "print( second_child.extract() )"
   ]
  },
  {
   "cell_type": "markdown",
   "metadata": {},
   "source": [
    "### The forgotten child"
   ]
  },
  {
   "cell_type": "code",
   "execution_count": 44,
   "metadata": {},
   "outputs": [],
   "source": [
    "first_div = course_divs[0]\n",
    "children = first_div.xpath('./*')"
   ]
  },
  {
   "cell_type": "code",
   "execution_count": 45,
   "metadata": {},
   "outputs": [
    {
     "name": "stdout",
     "output_type": "stream",
     "text": [
      "<span class=\"js-mobile-progress-container js-mobile-course-progress\" data-id=\"58\" data-user-id=\"\">\n",
      "    </span>\n"
     ]
    }
   ],
   "source": [
    "third_child = children[2]\n",
    "print( third_child.extract() )"
   ]
  },
  {
   "cell_type": "markdown",
   "metadata": {},
   "source": [
    "### Listful\n",
    "\n",
    "* In one CSS Locator"
   ]
  },
  {
   "cell_type": "code",
   "execution_count": 47,
   "metadata": {},
   "outputs": [],
   "source": [
    "links = resp.css('div.course-block > a::attr(href)').extract()"
   ]
  },
  {
   "cell_type": "markdown",
   "metadata": {},
   "source": [
    "* Stepwise"
   ]
  },
  {
   "cell_type": "code",
   "execution_count": 49,
   "metadata": {},
   "outputs": [],
   "source": [
    "# step 1: course blocks\n",
    "course_divs = resp.css('div.course-block')\n",
    "# step 2: hyperlink elements\n",
    "hrefs = course_divs.xpath('./a/@href')\n",
    "# step 3: extract the links\n",
    "links = hrefs.extract()"
   ]
  },
  {
   "cell_type": "markdown",
   "metadata": {},
   "source": [
    "### Get Schooled"
   ]
  },
  {
   "cell_type": "code",
   "execution_count": 50,
   "metadata": {},
   "outputs": [
    {
     "name": "stdout",
     "output_type": "stream",
     "text": [
      "/courses/free-introduction-to-r\n",
      "/courses/data-table-data-manipulation-r-tutorial\n",
      "/courses/dplyr-data-manipulation-r-tutorial\n",
      "/courses/ggvis-data-visualization-r-tutorial\n",
      "/courses/reporting-with-r-markdown\n",
      "/courses/intermediate-r\n",
      "/courses/introduction-to-machine-learning-with-r\n",
      "/courses/cleaning-data-in-r\n",
      "/courses/intro-to-python-for-data-science\n",
      "/courses/intermediate-r-practice\n",
      "/courses/data-visualization-with-ggplot2-1\n",
      "/courses/data-visualization-with-ggplot2-2\n",
      "/courses/intermediate-python-for-data-science\n",
      "/courses/data-visualization-with-ggplot2-part-3\n",
      "/courses/intro-to-text-mining-bag-of-words\n",
      "/courses/exploring-pitch-data-with-r\n",
      "/courses/working-with-the-rstudio-ide-part-1\n",
      "/courses/introduction-to-portfolio-analysis-in-r\n",
      "/courses/writing-functions-in-r\n",
      "/courses/introduction-to-credit-risk-modeling-in-r\n",
      "/courses/machine-learning-toolbox\n",
      "/courses/working-with-the-rstudio-ide-part-2\n",
      "/courses/joining-data-in-r-with-dplyr\n",
      "/courses/introduction-to-relational-databases-in-python\n",
      "/courses/manipulating-time-series-data-in-r-with-xts-zoo\n",
      "/courses/introduction-to-time-series-analysis\n",
      "/courses/importing-cleaning-data-in-r-case-studies\n",
      "/courses/financial-trading-in-r\n",
      "/courses/importing-and-managing-financial-data-in-r\n",
      "/courses/interactive-data-visualization-with-bokeh\n",
      "/courses/exploratory-data-analysis-in-r-case-study\n",
      "/courses/importing-data-in-r-part-1\n",
      "/courses/importing-data-in-r-part-2\n",
      "/courses/data-visualization-in-r\n",
      "/courses/python-data-science-toolbox-part-2\n",
      "/courses/python-data-science-toolbox-part-1\n",
      "/courses/statistical-thinking-in-python-part-1\n",
      "/courses/statistical-thinking-in-python-part-2\n",
      "/courses/statistical-modeling-in-r-part-1\n",
      "/courses/statistical-modeling-in-r-part-2\n",
      "/courses/intermediate-portfolio-analysis-in-r\n",
      "/courses/importing-data-in-python-part-2\n",
      "/courses/importing-data-in-python-part-1\n",
      "/courses/pandas-foundations\n",
      "/courses/manipulating-dataframes-with-pandas\n",
      "/courses/merging-dataframes-with-pandas\n",
      "/courses/bond-valuation-and-analysis-in-r\n",
      "/courses/foundations-of-inference\n",
      "/courses/introduction-to-data-visualization-with-python\n",
      "/courses/exploratory-data-analysis\n",
      "/courses/correlation-and-regression\n",
      "/courses/introduction-to-data\n",
      "/courses/arima-modeling-with-r\n",
      "/courses/unsupervised-learning-in-r\n",
      "/courses/working-with-geospatial-data-in-r\n",
      "/courses/network-analysis-in-python-part-1\n",
      "/courses/supervised-learning-with-scikit-learn\n",
      "/courses/intro-to-sql-for-data-science\n",
      "/courses/manipulating-time-series-data-in-r-case-studies\n",
      "/courses/deep-learning-in-python\n",
      "/courses/object-oriented-programming-in-r-s3-and-r6\n",
      "/courses/sentiment-analysis-in-r\n",
      "/courses/cleaning-data-in-python\n",
      "/courses/unsupervised-learning-in-python\n",
      "/courses/visualizing-time-series-data-in-r\n",
      "/courses/valuation-of-life-insurance-products-in-r\n",
      "/courses/foundations-of-probability-in-r\n",
      "/courses/scalable-data-processing-in-r\n",
      "/courses/machine-learning-with-the-experts-school-budgets\n",
      "/courses/introduction-to-r-for-finance\n",
      "/courses/intermediate-r-for-finance\n",
      "/courses/supervised-learning-in-r-classification\n",
      "/courses/string-manipulation-in-r-with-stringr\n",
      "/courses/writing-efficient-r-code\n",
      "/courses/forecasting-using-r\n",
      "/courses/machine-learning-with-tree-based-models-in-r\n",
      "/courses/working-with-web-data-in-r\n",
      "/courses/quantitative-risk-management-in-r\n",
      "/courses/spatial-statistics-in-r\n",
      "/courses/data-visualization-in-r-with-lattice\n",
      "/courses/introduction-to-spark-in-r-using-sparklyr\n",
      "/courses/data-types-for-data-science\n",
      "/courses/sentiment-analysis-in-r-the-tidy-way\n",
      "/courses/network-analysis-in-python-part-2\n",
      "/courses/multiple-and-logistic-regression\n",
      "/courses/inference-for-linear-regression\n",
      "/courses/natural-language-processing-fundamentals-in-python\n",
      "/courses/building-chatbots-in-python\n",
      "/courses/extreme-gradient-boosting-with-xgboost\n",
      "/courses/equity-valuation-in-r\n",
      "/courses/building-web-applications-in-r-with-shiny-case-studies\n",
      "/courses/supervised-learning-in-r-regression\n",
      "/courses/importing-managing-financial-data-in-python\n",
      "/courses/optimizing-r-code-with-rcpp\n",
      "/courses/manipulating-time-series-data-in-python\n",
      "/courses/introduction-to-time-series-analysis-in-python\n",
      "/courses/parallel-computing-with-dask\n",
      "/courses/spatial-analysis-in-r-with-sf-and-raster\n",
      "/courses/introduction-to-pyspark\n",
      "/courses/network-analysis-in-r\n",
      "/courses/case-studies-in-statistical-thinking\n",
      "/courses/joining-data-in-postgresql\n",
      "/courses/building-web-applications-in-r-with-shiny\n",
      "/courses/introduction-to-the-tidyverse\n",
      "/courses/introduction-to-shell-for-data-science\n",
      "/courses/developing-r-packages\n",
      "/courses/visualizing-time-series-data-in-python\n",
      "/courses/data-manipulation-in-r-with-datatable\n",
      "/courses/fundamentals-of-bayesian-data-analysis-in-r\n",
      "/courses/working-with-dates-and-times-in-r\n",
      "/courses/introduction-to-git-for-data-science\n",
      "/courses/python-for-r-users\n",
      "/courses/cluster-analysis-in-r\n",
      "/courses/intro-to-financial-concepts-using-python\n",
      "/courses/intro-to-portfolio-risk-management-in-python\n",
      "/courses/conda-essentials\n",
      "/courses/interactive-data-visualization-with-plotly-in-r\n",
      "/courses/visualizing-big-data-with-trelliscope\n",
      "/courses/building-dashboards-with-flexdashboard\n",
      "/courses/communicating-with-data-in-the-tidyverse\n",
      "/courses/introduction-to-linear-modeling-in-python\n",
      "/courses/introduction-to-using-mongodb-for-data-science-with-python\n",
      "/courses/chip-seq-workflows-in-r\n",
      "/courses/joining-data-in-r-with-datatable\n",
      "/courses/foundations-of-functional-programming-with-purrr\n",
      "/courses/visualization-best-practices-in-r\n",
      "/courses/building-dashboards-with-shinydashboard\n",
      "/courses/modeling-with-data-in-the-tidyverse\n",
      "/courses/human-resources-analytics-in-r-exploring-employee-data\n",
      "/courses/working-with-data-in-the-tidyverse\n",
      "/courses/supervised-learning-in-r-case-studies\n",
      "/courses/forecasting-product-demand-in-r\n",
      "/courses/marketing-analytics-in-r-statistical-modeling\n",
      "/courses/hierarchical-and-mixed-effects-models\n",
      "/courses/machine-learning-for-time-series-data-in-python\n",
      "/courses/linear-classifiers-in-python\n",
      "/courses/hr-analytics-in-python-predicting-employee-churn\n",
      "/courses/feature-engineering-with-pyspark\n",
      "/courses/machine-learning-with-tree-based-models-in-python\n",
      "/courses/human-resources-analytics-in-r-predicting-employee-churn\n",
      "/courses/data-privacy-and-anonymization-in-r\n",
      "/courses/nonlinear-modeling-in-r-with-gams\n",
      "/courses/bayesian-modeling-with-rjags\n",
      "/courses/structural-equation-modeling-with-lavaan-in-r\n",
      "/courses/differential-expression-analysis-in-r-with-limma\n",
      "/courses/factor-analysis-in-r\n",
      "/courses/foundations-of-predictive-analytics-in-python-part-1\n",
      "/courses/marketing-analytics-in-r-choice-modeling\n",
      "/courses/categorical-data-in-the-tidyverse\n",
      "/courses/multivariate-probability-distributions-in-r\n",
      "/courses/advanced-deep-learning-with-keras-in-python\n",
      "/courses/experimental-design-in-r\n",
      "/courses/preprocessing-for-machine-learning-in-python\n",
      "/courses/machine-learning-for-finance-in-python\n",
      "/courses/building-response-models-in-r\n",
      "/courses/bayesian-regression-modeling-with-rstanarm\n",
      "/courses/intermediate-functional-programming-with-purrr\n",
      "/courses/intro-to-python-for-finance\n",
      "/courses/analyzing-survey-data-in-r\n",
      "/courses/mixture-models-in-r\n",
      "/courses/network-science-in-r-a-tidy-approach\n",
      "/courses/hyperparameter-tuning-in-r\n",
      "/courses/support-vector-machines-in-r\n",
      "/courses/interactive-maps-with-leaflet-in-r\n",
      "/courses/analyzing-election-and-polling-data-in-r\n",
      "/courses/ab-testing-in-r\n",
      "/courses/rna-seq-differential-expression-analysis\n",
      "/courses/analyzing-police-activity-with-pandas\n",
      "/courses/analyzing-us-census-data-in-r\n",
      "/courses/conda-for-building-distributing-packages\n",
      "/courses/data-visualization-with-seaborn\n",
      "/courses/anomaly-detection-in-r\n",
      "/courses/statistical-simulation-in-python\n",
      "/courses/dealing-with-missing-data-in-r\n",
      "/courses/python-for-matlab-users\n",
      "/courses/visualizing-geospatial-data-in-python\n",
      "/courses/survival-analysis-in-r\n",
      "/courses/biomedical-image-analysis-in-python\n",
      "/courses/recommendation-engines-in-pyspark\n",
      "/courses/financial-analytics-in-r\n",
      "/courses/interactive-data-visualization-with-rbokeh\n",
      "/courses/machine-learning-in-the-tidyverse\n",
      "/courses/predictive-analytics-using-networked-data-in-r\n",
      "/courses/pivot-tables-with-spreadsheets\n",
      "/courses/intermediate-t-sql\n",
      "/courses/web-scraping-with-python\n",
      "/courses/designing-and-analyzing-clinical-trials-in-r\n",
      "/courses/intermediate-spreadsheets-for-data-science\n",
      "/courses/convolutional-neural-networks-for-image-processing\n",
      "/courses/linear-algebra-for-data-science-in-r\n",
      "/courses/generalized-linear-models-in-r\n",
      "/courses/advanced-nlp-with-spacy\n",
      "/courses/spreadsheet-basics\n",
      "/courses/data-analysis-with-spreadsheets\n",
      "/courses/supply-chain-analytics-in-python\n",
      "/courses/fraud-detection-in-r\n",
      "/courses/analyzing-social-media-data-in-python\n",
      "/courses/garch-models-in-r\n",
      "/courses/course-creation-at-datacamp\n",
      "/courses/object-oriented-programming-in-python\n",
      "/courses/fraud-detection-in-python\n",
      "/courses/advanced-dimensionality-reduction-in-r\n",
      "/courses/customer-segmentation-in-python\n",
      "/courses/topic-modeling-in-r\n",
      "/courses/defensive-r-programming\n",
      "/courses/foundations-of-predictive-analytics-in-python-part-2\n",
      "/courses/big-data-fundamentals-via-pyspark\n",
      "/courses/dimensionality-reduction-in-python\n",
      "/courses/highcharter-for-finance-in-r\n",
      "/courses/working-with-dates-and-times-in-python\n",
      "/courses/software-engineering-for-data-scientists-in-python\n",
      "/courses/sql-for-exploratory-data-analysis\n",
      "/courses/intermediate-sql\n",
      "/courses/writing-efficient-python-code\n",
      "/courses/introduction-to-data-science-in-python\n",
      "/courses/introduction-to-relational-databases-in-sql\n",
      "/courses/introduction-to-matplotlib\n",
      "/courses/introduction-to-text-analysis-in-r\n",
      "/courses/reporting-in-sql\n",
      "/courses/python-for-spreadsheet-users\n",
      "/courses/improving-your-data-visualizations-in-python\n",
      "/courses/clustering-methods-with-scipy\n",
      "/courses/financial-analytics-in-spreadsheets\n",
      "/courses/model-validation-in-python\n",
      "/courses/introduction-to-seaborn\n",
      "/courses/dimensionality-reduction-in-r\n",
      "/courses/inference-for-numerical-data\n",
      "/courses/inference-for-categorical-data\n",
      "/courses/business-process-analytics-in-r\n",
      "/courses/network-analysis-in-r-case-studies\n",
      "/courses/customer-analytics-ab-testing-in-python\n",
      "/courses/parallel-programming-in-r\n",
      "/courses/introduction-to-bioconductor\n",
      "/courses/predicting-customer-churn-in-python\n",
      "/courses/financial-forecasting-in-python\n",
      "/courses/intermediate-interactive-data-visualization-with-plotly-in-r\n",
      "/courses/working-with-geospatial-data-in-python\n",
      "/courses/single-cell-rna-seq-workflows-in-r\n",
      "/courses/time-series-with-datatable-in-r\n",
      "/courses/writing-functions-and-stored-procedures-in-sql-server\n",
      "/courses/longitudinal-analysis-in-r\n",
      "/courses/data-visualization-in-spreadsheets\n",
      "/courses/probability-puzzles-in-r\n",
      "/courses/feature-engineering-in-r\n",
      "/courses/analyzing-us-census-data-in-python\n",
      "/courses/designing-machine-learning-workflows-in-python\n",
      "/courses/introduction-to-sql-server\n",
      "/courses/feature-engineering-for-machine-learning-in-python\n",
      "/courses/creating-robust-python-workflows\n",
      "/courses/foundations-of-probability-in-python\n",
      "/courses/optimizing-python-code-with-pandas\n",
      "/courses/introduction-to-spark-sql\n",
      "/courses/conditional-formatting-in-spreadsheets\n",
      "/courses/introduction-to-tensorflow-in-python\n",
      "/courses/analyzing-business-data-in-sql\n",
      "/courses/exploratory-data-analysis-in-python\n",
      "/courses/generalized-linear-models-in-python\n",
      "/courses/analyzing-iot-data-in-python\n",
      "/courses/survey-and-measurement-development-in-r\n"
     ]
    }
   ],
   "source": [
    "for l in links:\n",
    "    print( l )"
   ]
  },
  {
   "cell_type": "code",
   "execution_count": null,
   "metadata": {},
   "outputs": [],
   "source": []
  },
  {
   "cell_type": "code",
   "execution_count": null,
   "metadata": {},
   "outputs": [],
   "source": []
  }
 ],
 "metadata": {
  "kernelspec": {
   "display_name": "Python 3",
   "language": "python",
   "name": "python3"
  },
  "language_info": {
   "codemirror_mode": {
    "name": "ipython",
    "version": 3
   },
   "file_extension": ".py",
   "mimetype": "text/x-python",
   "name": "python",
   "nbconvert_exporter": "python",
   "pygments_lexer": "ipython3",
   "version": "3.6.8"
  }
 },
 "nbformat": 4,
 "nbformat_minor": 2
}
