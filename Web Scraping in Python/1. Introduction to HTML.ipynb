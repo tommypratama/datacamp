{
 "cells": [
  {
   "cell_type": "markdown",
   "metadata": {},
   "source": [
    "# Introduction to HTML\n",
    "\n",
    "Pelajari struktur HTML. Kita mulai dengan menjelaskan mengapa `web scraping` dapat menjadi tambahan yang berharga untuk data science toolbox Anda dan kemudian mepelajari beberapa dasar HTML. Kita akan mengakhiri bab ini dengan memberikan pengantar singkat tentang notasi `XPath`, yang digunakan untuk menavigasi elemen dalam kode HTML."
   ]
  },
  {
   "cell_type": "markdown",
   "metadata": {},
   "source": [
    "## HyperText Markup Language\n",
    "\n",
    "### From Tree to HTML\n",
    "\n",
    "<img src=\"https://assets.datacamp.com/production/repositories/2560/datasets/8f121c655bdba22173091a1ceb1bbdd113573c3b/html_tree_exercise.png\" width=400px; height=auto; />\n",
    "\n",
    "**HTML Code**\n",
    "\n",
    "```\n",
    "html = '''\n",
    "<html>\n",
    "  <head>\n",
    "    <title>Intro HTML</title>\n",
    "  </head>\n",
    "  <body>\n",
    "    <p>Hello World!</p>\n",
    "    <p>Enjoy DataCamp!</p>\n",
    "  </body>\n",
    "</html>\n",
    "'''\n",
    "```"
   ]
  },
  {
   "cell_type": "markdown",
   "metadata": {},
   "source": [
    "## Crash Course in XPath\n",
    "\n",
    "### Where am I?\n",
    "\n",
    "```html\n",
    "<html>\n",
    "  <body>\n",
    "    <div>\n",
    "      <p>Good Luck!</p>\n",
    "      <p>Not here...</p>\n",
    "    </div>\n",
    "    <div>\n",
    "      <p>Where am I?</p>\n",
    "    </div>\n",
    "  </body>\n",
    "</html>\n",
    "```\n",
    "\n",
    "```python\n",
    "# Div ke dua pilih p\n",
    "xpath = '/html/body/div[2]/p'\n",
    "```"
   ]
  },
  {
   "cell_type": "markdown",
   "metadata": {},
   "source": [
    "### It's Time to P\n",
    "\n",
    "Menggunakan notasi garis miring ganda, tetapkan ke variabel `xpath` string XPath sederhana yang menavigasi ke semua elemen paragraf `p` dalam kode HTML apa pun.\n",
    "\n",
    "```python\n",
    "xpath = '//p'\n",
    "```"
   ]
  },
  {
   "cell_type": "markdown",
   "metadata": {},
   "source": [
    "### A classy span\n",
    "\n",
    "Tetapkan ke variabel `xpath` string XPath yang akan memilih semua elemen `span` yang atribut kelasnya sama dengan `\"span-class\"`. Anda tidak perlu melihat kode HTML yang sebenarnya untuk melakukan ini!\n",
    "\n",
    "```python\n",
    "xpath = '//span[@class=\"span-class\"]'\n",
    "```\n"
   ]
  },
  {
   "cell_type": "code",
   "execution_count": null,
   "metadata": {},
   "outputs": [],
   "source": []
  }
 ],
 "metadata": {
  "kernelspec": {
   "display_name": "Python 3",
   "language": "python",
   "name": "python3"
  },
  "language_info": {
   "codemirror_mode": {
    "name": "ipython",
    "version": 3
   },
   "file_extension": ".py",
   "mimetype": "text/x-python",
   "name": "python",
   "nbconvert_exporter": "python",
   "pygments_lexer": "ipython3",
   "version": "3.7.3"
  }
 },
 "nbformat": 4,
 "nbformat_minor": 2
}
