{
 "cells": [
  {
   "cell_type": "markdown",
   "metadata": {},
   "source": [
    "# 0. Overview"
   ]
  },
  {
   "cell_type": "markdown",
   "metadata": {},
   "source": [
    "## Course overview\n",
    "\n",
    "* Kode Anda harus menjadi alat yang digunakan untuk mendapatkan wawasan\n",
    "  * Bukan sesuatu yang membuat Anda menunggu hasil\n",
    "* Dalam kursus ini, Anda akan belajar:\n",
    "  * Cara menulis kode Python yang bersih, cepat, dan efisien\n",
    "  * Cara membuat profil kode Anda untuk mengatasi *bottlenecks*\n",
    "  * Bagaimana cara menghilangkan *bottlenecks* dan pola desain yang buruk"
   ]
  },
  {
   "cell_type": "markdown",
   "metadata": {},
   "source": [
    "## Mendefinisikan efisien\n",
    "\n",
    "* Menulis kode Python yang **efisien**\n",
    "  * Waktu penyelesaian minimum (runtime cepat)\n",
    "  * Konsumsi sumber daya minimal (small memory footprint)"
   ]
  },
  {
   "cell_type": "markdown",
   "metadata": {},
   "source": [
    "## Mendefinisikan Pythonic\n",
    "\n",
    "* Menulis kode **Python** yang efisien\n",
    "  * Fokus pada keterbacaan\n",
    "  * Menggunakan konstruksi Python sebagaimana dimaksud (mis., Pythonic)\n",
    "  \n",
    "Berikut contohnya:"
   ]
  },
  {
   "cell_type": "code",
   "execution_count": 1,
   "metadata": {},
   "outputs": [],
   "source": [
    "numbers = [1,3,5,4,2,8,6,2,9]"
   ]
  },
  {
   "cell_type": "code",
   "execution_count": 4,
   "metadata": {},
   "outputs": [
    {
     "name": "stdout",
     "output_type": "stream",
     "text": [
      "[2, 6, 10, 8, 4, 16, 12, 4, 18]\n"
     ]
    }
   ],
   "source": [
    "# Non-Pythonic\n",
    "doubled_numbers = []\n",
    "\n",
    "for i in range(len(numbers)):\n",
    "    doubled_numbers.append(numbers[i] * 2)\n",
    "    \n",
    "print(doubled_numbers)"
   ]
  },
  {
   "cell_type": "code",
   "execution_count": 5,
   "metadata": {},
   "outputs": [
    {
     "name": "stdout",
     "output_type": "stream",
     "text": [
      "[2, 6, 10, 8, 4, 16, 12, 4, 18]\n"
     ]
    }
   ],
   "source": [
    "# Pythonic\n",
    "doubled_numbers = [x * 2 for x in numbers]\n",
    "print(doubled_numbers)"
   ]
  },
  {
   "cell_type": "markdown",
   "metadata": {},
   "source": [
    "## Zen Python oleh Tim Peters\n",
    "\n",
    "<pre>\n",
    "Beautiful is better than ugly.\n",
    "Explicit is better than implicit.\n",
    "Simple is better than complex.\n",
    "Complex is better than complicated.\n",
    "Flat is better than nested.\n",
    "Sparse is better than dense.\n",
    "Readability counts.\n",
    "Special cases aren't special enough to break the rules.\n",
    "Although practicality beats purity.\n",
    "Errors should never pass silently.\n",
    "Unless explicitly silenced.\n",
    "In the face of ambiguity, refuse the temptation to guess.\n",
    "...\n",
    "</pre>"
   ]
  },
  {
   "cell_type": "markdown",
   "metadata": {},
   "source": [
    "## Hal-hal yang harus Anda ketahui\n",
    "\n",
    "* Tipe data yang biasanya digunakan dalam Ilmu Data\n",
    "  * [Data Types for Data Science](https://github.com/tommypratama/datacamp/tree/master/Data%20Types%20for%20Data%20Science)\n",
    "* Menulis dan menggunakan fungsi Anda sendiri\n",
    "  * [Python Data Science Toolbox (Part 1)](https://github.com/tommypratama/datacamp/tree/master/Python%20Data%20Science%20Toolbox%20(Part%201))\n",
    "* Anonymous functions ( `lambda` expressions)\n",
    "  * [Python Data Science Toolbox (Part 1)](https://github.com/tommypratama/datacamp/tree/master/Python%20Data%20Science%20Toolbox%20(Part%201))\n",
    "* Menulis dan menggunakan *list comprehensions*\n",
    "  * [Python Data Science Toolbox (Part 2)](https://github.com/tommypratama/datacamp/tree/master/Python%20Data%20Science%20Toolbox%20(Part%202))"
   ]
  },
  {
   "cell_type": "code",
   "execution_count": null,
   "metadata": {},
   "outputs": [],
   "source": []
  }
 ],
 "metadata": {
  "kernelspec": {
   "display_name": "Python 3",
   "language": "python",
   "name": "python3"
  },
  "language_info": {
   "codemirror_mode": {
    "name": "ipython",
    "version": 3
   },
   "file_extension": ".py",
   "mimetype": "text/x-python",
   "name": "python",
   "nbconvert_exporter": "python",
   "pygments_lexer": "ipython3",
   "version": "3.7.3"
  }
 },
 "nbformat": 4,
 "nbformat_minor": 2
}
