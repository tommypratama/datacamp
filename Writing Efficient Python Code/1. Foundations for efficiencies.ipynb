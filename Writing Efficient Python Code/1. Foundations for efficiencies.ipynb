{
 "cells": [
  {
   "cell_type": "markdown",
   "metadata": {},
   "source": [
    "# 1. Foundations for efficiencies\n",
    "\n",
    "Dalam bab ini, Anda akan belajar apa artinya menulis kode Python yang efisien. Anda akan menjelajahi Library Standar Python, mempelajari tentang array NumPy, dan berlatih menggunakan beberapa alat bawaan Python. Bab ini membangun fondasi untuk konsep-konsep yang dibahas di depan."
   ]
  },
  {
   "cell_type": "markdown",
   "metadata": {},
   "source": [
    "### A taste of things to come\n",
    "\n",
    "Dalam latihan ini, Anda akan mengeksplorasi cara **Non-Pythonic** dan **Pythonic** untuk looping melalui list.\n",
    "\n",
    "Misalkan Anda ingin mengumpulkan nama-nama dalam variabel list `names` yang memiliki enam huruf atau lebih. Dalam bahasa pemrograman lain, tipikal pendekatan adalah membuat variabel indeks (`i`), menggunakan `i` untuk beralih (*iterate*) ke list, dan menggunakan pernyataan `if` untuk mengumpulkan nama-nama dengan enam huruf atau lebih:"
   ]
  },
  {
   "cell_type": "code",
   "execution_count": 22,
   "metadata": {},
   "outputs": [],
   "source": [
    "names = ['Jerry', 'Kramer', 'Elaine', 'George', 'Newman']"
   ]
  },
  {
   "cell_type": "code",
   "execution_count": 23,
   "metadata": {},
   "outputs": [
    {
     "name": "stdout",
     "output_type": "stream",
     "text": [
      "['Kramer', 'Elaine', 'George', 'Newman']\n"
     ]
    }
   ],
   "source": [
    "# Print the list created using the Non-Pythonic approach\n",
    "i = 0\n",
    "new_list= []\n",
    "while i < len(names):\n",
    "    if len(names[i]) >= 6:\n",
    "        new_list.append(names[i])\n",
    "    i += 1\n",
    "print(new_list)"
   ]
  },
  {
   "cell_type": "code",
   "execution_count": 25,
   "metadata": {},
   "outputs": [
    {
     "name": "stdout",
     "output_type": "stream",
     "text": [
      "['Kramer', 'Elaine', 'George', 'Newman']\n"
     ]
    }
   ],
   "source": [
    "# A more Pythonic approach\n",
    "# Print the list created by looping over the contents of names\n",
    "better_list = []\n",
    "for name in names:\n",
    "    if len(name) >= 6:\n",
    "        better_list.append(name)\n",
    "print(better_list)"
   ]
  },
  {
   "cell_type": "code",
   "execution_count": 26,
   "metadata": {},
   "outputs": [
    {
     "name": "stdout",
     "output_type": "stream",
     "text": [
      "['Kramer', 'Elaine', 'George', 'Newman']\n"
     ]
    }
   ],
   "source": [
    "# The best Pythonic way\n",
    "# Print the list created by using list comprehension\n",
    "best_list = [name for name in names if len(name) >= 6]\n",
    "print(best_list)"
   ]
  },
  {
   "cell_type": "markdown",
   "metadata": {},
   "source": [
    "**Note**: Perlu diperhatikan! `Pythonic code == efficient code`"
   ]
  },
  {
   "cell_type": "markdown",
   "metadata": {},
   "source": [
    "## Building with builtins"
   ]
  },
  {
   "cell_type": "markdown",
   "metadata": {},
   "source": [
    "### The Python Standard Library\n",
    "\n",
    "* [Python 3.6 Standard Library](https://docs.python.org/3.6/library/index.html)\n",
    "  * Bagian dari setiap instalasi Python standar\n",
    "* Built-in types\n",
    "  * `list` , `tuple` , `set` , `dict` , dan lainnya\n",
    "* Built-in functions\n",
    "  * `print()` , `len()` , `range()` , `round()` , `enumerate()` , `map()` , `zip()` , dan lainnya\n",
    "* Built-in modules\n",
    "  * `os` , `sys` , `itertools` , `collections` , `math` , dan lainnya"
   ]
  },
  {
   "cell_type": "markdown",
   "metadata": {},
   "source": [
    "### Built-in function: `range()`\n",
    "\n",
    "Kode list angka secara eksplisit"
   ]
  },
  {
   "cell_type": "code",
   "execution_count": 3,
   "metadata": {},
   "outputs": [
    {
     "name": "stdout",
     "output_type": "stream",
     "text": [
      "[0, 1, 2, 3, 4, 5, 6, 7, 8, 9, 10]\n"
     ]
    }
   ],
   "source": [
    "nums = [0, 1, 2, 3, 4, 5, 6, 7, 8, 9, 10]\n",
    "print(nums)"
   ]
  },
  {
   "cell_type": "markdown",
   "metadata": {},
   "source": [
    "Menggunakan `range()` untuk membuat list yang sama"
   ]
  },
  {
   "cell_type": "code",
   "execution_count": 2,
   "metadata": {},
   "outputs": [
    {
     "name": "stdout",
     "output_type": "stream",
     "text": [
      "[0, 1, 2, 3, 4, 5, 6, 7, 8, 9, 10]\n"
     ]
    }
   ],
   "source": [
    "# range(start, stop)\n",
    "nums = range(0, 11)\n",
    "\n",
    "nums_list = list(nums)\n",
    "print(nums_list)"
   ]
  },
  {
   "cell_type": "code",
   "execution_count": 4,
   "metadata": {},
   "outputs": [
    {
     "name": "stdout",
     "output_type": "stream",
     "text": [
      "[0, 1, 2, 3, 4, 5, 6, 7, 8, 9, 10]\n"
     ]
    }
   ],
   "source": [
    "# range(stop)\n",
    "nums = range(11)\n",
    "\n",
    "nums_list = list(nums)\n",
    "print(nums_list)"
   ]
  },
  {
   "cell_type": "markdown",
   "metadata": {},
   "source": [
    "Menggunakan `range()` dengan nilai `step`"
   ]
  },
  {
   "cell_type": "code",
   "execution_count": 5,
   "metadata": {},
   "outputs": [
    {
     "name": "stdout",
     "output_type": "stream",
     "text": [
      "[2, 4, 6, 8, 10]\n"
     ]
    }
   ],
   "source": [
    "# rangeg(start, stop, step)\n",
    "even_nums = range(2, 11, 2)\n",
    "\n",
    "even_nums_list = list(even_nums)\n",
    "print(even_nums_list)"
   ]
  },
  {
   "cell_type": "markdown",
   "metadata": {},
   "source": [
    "### Built-in function: `enumerate()`\n",
    "\n",
    "Membuat list objek yang diindeks"
   ]
  },
  {
   "cell_type": "code",
   "execution_count": 6,
   "metadata": {},
   "outputs": [
    {
     "name": "stdout",
     "output_type": "stream",
     "text": [
      "[(0, 'a'), (1, 'b'), (2, 'c'), (3, 'd')]\n"
     ]
    }
   ],
   "source": [
    "letters = ['a', 'b', 'c', 'd']\n",
    "\n",
    "indexed_letters = enumerate(letters)\n",
    "\n",
    "indexed_letters_list = list(indexed_letters)\n",
    "print(indexed_letters_list)"
   ]
  },
  {
   "cell_type": "code",
   "execution_count": 15,
   "metadata": {},
   "outputs": [
    {
     "data": {
      "text/plain": [
       "['a', 'b', 'c', 'd']"
      ]
     },
     "execution_count": 15,
     "metadata": {},
     "output_type": "execute_result"
    }
   ],
   "source": [
    "# Menampilkan indeks dengan list comprehension\n",
    "[letters[1] for letters in indexed_letters_list]"
   ]
  },
  {
   "cell_type": "markdown",
   "metadata": {},
   "source": [
    "Dapat menentukan nilai awal (`start`)"
   ]
  },
  {
   "cell_type": "code",
   "execution_count": 16,
   "metadata": {},
   "outputs": [
    {
     "name": "stdout",
     "output_type": "stream",
     "text": [
      "[(5, 'a'), (6, 'b'), (7, 'c'), (8, 'd')]\n"
     ]
    }
   ],
   "source": [
    "letters = ['a', 'b', 'c', 'd']\n",
    "\n",
    "indexed_letters2 = enumerate(letters, start=5)\n",
    "\n",
    "indexed_letters2_list = list(indexed_letters2)\n",
    "print(indexed_letters2_list)"
   ]
  },
  {
   "cell_type": "markdown",
   "metadata": {},
   "source": [
    "### Built-in function: `map()`\n",
    "\n",
    "Menerapkan fungsi di atas objek"
   ]
  },
  {
   "cell_type": "code",
   "execution_count": 18,
   "metadata": {},
   "outputs": [
    {
     "name": "stdout",
     "output_type": "stream",
     "text": [
      "[2, 2, 3, 5, 5]\n"
     ]
    }
   ],
   "source": [
    "nums = [1.5, 2.3, 3.4, 4.6, 5.0]\n",
    "\n",
    "rnd_nums = map(round, nums)\n",
    "print(list(rnd_nums))"
   ]
  },
  {
   "cell_type": "markdown",
   "metadata": {},
   "source": [
    "`map()` dengan `lambda` ( *anonymous function* )"
   ]
  },
  {
   "cell_type": "code",
   "execution_count": 21,
   "metadata": {},
   "outputs": [
    {
     "name": "stdout",
     "output_type": "stream",
     "text": [
      "[1, 4, 9, 16, 25]\n"
     ]
    }
   ],
   "source": [
    "nums = [1, 2, 3, 4, 5]\n",
    "\n",
    "sqrd_nums = map(lambda x: x ** 2, nums)\n",
    "print(list(sqrd_nums))"
   ]
  },
  {
   "cell_type": "markdown",
   "metadata": {},
   "source": [
    "### Built-in practice: `range()`"
   ]
  },
  {
   "cell_type": "code",
   "execution_count": 27,
   "metadata": {},
   "outputs": [
    {
     "name": "stdout",
     "output_type": "stream",
     "text": [
      "<class 'range'>\n",
      "[0, 1, 2, 3, 4, 5]\n",
      "[1, 3, 5, 7, 9, 11]\n"
     ]
    }
   ],
   "source": [
    "# Create a range object that goes from 0 to 5\n",
    "nums = range(0, 6)\n",
    "print(type(nums))\n",
    "\n",
    "# Convert nums to a list\n",
    "nums_list = list(nums)\n",
    "print(nums_list)\n",
    "\n",
    "# Create a new list of odd numbers from 1 to 11 by unpacking a range object\n",
    "# range(start, stop, step)\n",
    "nums_list2 = [*range(1, 12, 2)]\n",
    "print(nums_list2)"
   ]
  },
  {
   "cell_type": "markdown",
   "metadata": {},
   "source": [
    "**Note** : Perhatikan bahwa menggunakan fungsi `range()` Python memungkinkan Anda untuk membuat objek rentang angka tanpa mengetikkannya secara eksplisit. Anda dapat mengubah objek rentang menjadi *list* dengan menggunakan fungsi `list()` atau dengan membongkarnya menjadi *list* menggunakan karakter bintang (`*`)."
   ]
  },
  {
   "cell_type": "markdown",
   "metadata": {},
   "source": [
    "### Built-in practice: `enumerate()`\n",
    "\n",
    "Dalam latihan ini, Anda akan berlatih menggunakan fungsi bawaan Python yaitu `enumerate()`. Fungsi ini berguna untuk mendapatkan **list yang diindeks**. Misalnya, Anda memiliki list orang yang tiba di pesta yang di undang ke rumah Anda. List ini diurutkan pada saat kedatangan (Jerry adalah yang pertama tiba, diikuti oleh Kramer, dll.):"
   ]
  },
  {
   "cell_type": "code",
   "execution_count": 29,
   "metadata": {},
   "outputs": [],
   "source": [
    "names = ['Jerry', 'Kramer', 'Elaine', 'George', 'Newman']"
   ]
  },
  {
   "cell_type": "markdown",
   "metadata": {},
   "source": [
    "Jika Anda ingin melampirkan indeks yang mewakili urutan kedatangan seseorang, Anda dapat menggunakan `for` loop:"
   ]
  },
  {
   "cell_type": "code",
   "execution_count": 31,
   "metadata": {},
   "outputs": [
    {
     "name": "stdout",
     "output_type": "stream",
     "text": [
      "[(0, 'Jerry'), (1, 'Kramer'), (2, 'Elaine'), (3, 'George'), (4, 'Newman')]\n"
     ]
    }
   ],
   "source": [
    "indexed_names = []\n",
    "\n",
    "for i in range(len(names)):\n",
    "    index_name = (i, names[i])\n",
    "    indexed_names.append(index_name)\n",
    "    \n",
    "print(indexed_names)"
   ]
  },
  {
   "cell_type": "markdown",
   "metadata": {},
   "source": [
    "Tapi, itu bukan solusi yang paling efisien. Mari kita menjelajahi cara menggunakan `enumerate()` untuk membuatnya lebih efisien."
   ]
  },
  {
   "cell_type": "code",
   "execution_count": 28,
   "metadata": {},
   "outputs": [
    {
     "name": "stdout",
     "output_type": "stream",
     "text": [
      "[(0, 'Jerry'), (1, 'Kramer'), (2, 'Elaine'), (3, 'George'), (4, 'Newman')]\n",
      "[(0, 'Jerry'), (1, 'Kramer'), (2, 'Elaine'), (3, 'George'), (4, 'Newman')]\n",
      "[(1, 'Jerry'), (2, 'Kramer'), (3, 'Elaine'), (4, 'George'), (5, 'Newman')]\n"
     ]
    }
   ],
   "source": [
    "# Rewrite the for loop to use enumerate\n",
    "indexed_names = []\n",
    "for i,name in enumerate(names):\n",
    "    index_name = (i,name)\n",
    "    indexed_names.append(index_name) \n",
    "print(indexed_names)\n",
    "\n",
    "# Rewrite the above for loop using list comprehension\n",
    "indexed_names_comp = [(i,name) for i,name in enumerate(names)]\n",
    "print(indexed_names_comp)\n",
    "\n",
    "# Unpack an enumerate object with a starting index of one\n",
    "indexed_names_unpack = [*enumerate(names, start=1)]\n",
    "print(indexed_names_unpack)"
   ]
  },
  {
   "cell_type": "markdown",
   "metadata": {},
   "source": [
    "**Note** : Menggunakan fungsi bawaan Python `enumerate()` memungkinkan Anda untuk membuat indeks untuk setiap item dalam objek yang Anda berikan. Anda dapat menggunakan *list comprehensions*, atau bahkan membongkar objek *enumerate* langsung ke list, untuk menulis satu baris kode sederhana yang lebih bagus."
   ]
  },
  {
   "cell_type": "markdown",
   "metadata": {},
   "source": [
    "### Built-in practice: map()\n",
    "\n",
    "Dalam latihan ini, Anda akan berlatih menggunakan fungsi bawaan Python `map()` untuk menerapkan fungsi ke setiap elemen objek. \n",
    "\n",
    "Misalkan Anda ingin membuat list baru (bernama `names_uppercase`) yang mengubah semua huruf dalam setiap nama menjadi huruf besar. Anda bisa melakukannya dengan loop di bawah ini:"
   ]
  },
  {
   "cell_type": "code",
   "execution_count": 38,
   "metadata": {},
   "outputs": [
    {
     "name": "stdout",
     "output_type": "stream",
     "text": [
      "['JERRY', 'KRAMER', 'ELAINE', 'GEORGE', 'NEWMAN']\n"
     ]
    }
   ],
   "source": [
    "names_uppercase = []\n",
    "\n",
    "for name in names:\n",
    "    names_uppercase.append(name.upper())\n",
    "    \n",
    "print(names_uppercase)"
   ]
  },
  {
   "cell_type": "markdown",
   "metadata": {},
   "source": [
    "Mari kita telusuri menggunakan fungsi `map()` untuk melakukan ini lebih efisien dalam satu baris kode."
   ]
  },
  {
   "cell_type": "code",
   "execution_count": 39,
   "metadata": {},
   "outputs": [
    {
     "name": "stdout",
     "output_type": "stream",
     "text": [
      "<class 'map'>\n",
      "['JERRY', 'KRAMER', 'ELAINE', 'GEORGE', 'NEWMAN']\n"
     ]
    }
   ],
   "source": [
    "# Use map to apply str.upper to each element in names\n",
    "names_map  = map(str.upper, names)\n",
    "\n",
    "# Print the type of the names_map\n",
    "print(type(names_map))\n",
    "\n",
    "# Unpack names_map into a list\n",
    "names_uppercase = [*names_map]\n",
    "\n",
    "# Print the list created above\n",
    "print(names_uppercase)"
   ]
  },
  {
   "cell_type": "markdown",
   "metadata": {},
   "source": [
    "**Note** : Anda menggunakan fungsi bawaan Python `map()` untuk menerapkan metode `str.upper()` ke setiap elemen dalam objek `names`. Selanjutnya dalam kursus ini, Anda akan mengeksplorasi bagaimana menggunakan `map()` dapat memberikan beberapa peningkatan efisiensi pada kode Anda."
   ]
  },
  {
   "cell_type": "markdown",
   "metadata": {},
   "source": [
    "## The power of NumPy arrays"
   ]
  },
  {
   "cell_type": "markdown",
   "metadata": {},
   "source": [
    "### NumPy array overview\n",
    "\n",
    "Alternatif untuk Python lists"
   ]
  },
  {
   "cell_type": "code",
   "execution_count": 40,
   "metadata": {},
   "outputs": [
    {
     "name": "stdout",
     "output_type": "stream",
     "text": [
      "[0, 1, 2, 3, 4]\n"
     ]
    }
   ],
   "source": [
    "nums_list = list(range(5))\n",
    "print(nums_list)"
   ]
  },
  {
   "cell_type": "code",
   "execution_count": 42,
   "metadata": {},
   "outputs": [
    {
     "name": "stdout",
     "output_type": "stream",
     "text": [
      "[0 1 2 3 4]\n"
     ]
    }
   ],
   "source": [
    "import numpy as np\n",
    "\n",
    "nums_np = np.array(range(5))\n",
    "print(nums_np)"
   ]
  },
  {
   "cell_type": "code",
   "execution_count": 43,
   "metadata": {},
   "outputs": [
    {
     "name": "stdout",
     "output_type": "stream",
     "text": [
      "[1 2 3]\n"
     ]
    }
   ],
   "source": [
    "# NumPy array homogeneity\n",
    "nums_np_ints = np.array([1, 2, 3])\n",
    "print(nums_np_ints)"
   ]
  },
  {
   "cell_type": "code",
   "execution_count": 44,
   "metadata": {},
   "outputs": [
    {
     "data": {
      "text/plain": [
       "dtype('int64')"
      ]
     },
     "execution_count": 44,
     "metadata": {},
     "output_type": "execute_result"
    }
   ],
   "source": [
    "nums_np_ints.dtype"
   ]
  },
  {
   "cell_type": "code",
   "execution_count": 45,
   "metadata": {},
   "outputs": [
    {
     "name": "stdout",
     "output_type": "stream",
     "text": [
      "[1.  2.5 3. ]\n"
     ]
    }
   ],
   "source": [
    "nums_np_floats = np.array([1, 2.5, 3])\n",
    "print(nums_np_floats)"
   ]
  },
  {
   "cell_type": "code",
   "execution_count": 46,
   "metadata": {},
   "outputs": [
    {
     "data": {
      "text/plain": [
       "dtype('float64')"
      ]
     },
     "execution_count": 46,
     "metadata": {},
     "output_type": "execute_result"
    }
   ],
   "source": [
    "nums_np_floats.dtype"
   ]
  },
  {
   "cell_type": "markdown",
   "metadata": {},
   "source": [
    "### NumPy array broadcasting\n",
    "\n",
    "Python lists tidak mendukung broadcasting"
   ]
  },
  {
   "cell_type": "code",
   "execution_count": 47,
   "metadata": {},
   "outputs": [
    {
     "ename": "TypeError",
     "evalue": "unsupported operand type(s) for ** or pow(): 'list' and 'int'",
     "output_type": "error",
     "traceback": [
      "\u001b[0;31m---------------------------------------------------------------------------\u001b[0m",
      "\u001b[0;31mTypeError\u001b[0m                                 Traceback (most recent call last)",
      "\u001b[0;32m<ipython-input-47-e05a1c972fc4>\u001b[0m in \u001b[0;36m<module>\u001b[0;34m\u001b[0m\n\u001b[1;32m      1\u001b[0m \u001b[0mnums\u001b[0m \u001b[0;34m=\u001b[0m \u001b[0;34m[\u001b[0m\u001b[0;34m-\u001b[0m\u001b[0;36m2\u001b[0m\u001b[0;34m,\u001b[0m \u001b[0;34m-\u001b[0m\u001b[0;36m1\u001b[0m\u001b[0;34m,\u001b[0m \u001b[0;36m0\u001b[0m\u001b[0;34m,\u001b[0m \u001b[0;36m1\u001b[0m\u001b[0;34m,\u001b[0m \u001b[0;36m2\u001b[0m\u001b[0;34m]\u001b[0m\u001b[0;34m\u001b[0m\u001b[0;34m\u001b[0m\u001b[0m\n\u001b[0;32m----> 2\u001b[0;31m \u001b[0mnums\u001b[0m \u001b[0;34m**\u001b[0m \u001b[0;36m2\u001b[0m\u001b[0;34m\u001b[0m\u001b[0;34m\u001b[0m\u001b[0m\n\u001b[0m",
      "\u001b[0;31mTypeError\u001b[0m: unsupported operand type(s) for ** or pow(): 'list' and 'int'"
     ]
    }
   ],
   "source": [
    "nums = [-2, -1, 0, 1, 2]\n",
    "nums ** 2"
   ]
  },
  {
   "cell_type": "markdown",
   "metadata": {},
   "source": [
    "Cara broadcasting menggunakan pendekatan *list* :"
   ]
  },
  {
   "cell_type": "code",
   "execution_count": 51,
   "metadata": {},
   "outputs": [
    {
     "name": "stdout",
     "output_type": "stream",
     "text": [
      "[4, 1, 0, 1, 4]\n"
     ]
    }
   ],
   "source": [
    "# For loop (inefficient option)\n",
    "sqrd_nums = []\n",
    "for num in nums:\n",
    "    sqrd_nums.append(num ** 2) \n",
    "print(sqrd_nums)"
   ]
  },
  {
   "cell_type": "code",
   "execution_count": 52,
   "metadata": {},
   "outputs": [
    {
     "name": "stdout",
     "output_type": "stream",
     "text": [
      "[4, 1, 0, 1, 4]\n"
     ]
    }
   ],
   "source": [
    "# List comprehension (better option but not best)\n",
    "sqrd_nums = [num ** 2 for num in nums]\n",
    "print(sqrd_nums)"
   ]
  },
  {
   "cell_type": "code",
   "execution_count": 53,
   "metadata": {},
   "outputs": [
    {
     "data": {
      "text/plain": [
       "array([4, 1, 0, 1, 4])"
      ]
     },
     "execution_count": 53,
     "metadata": {},
     "output_type": "execute_result"
    }
   ],
   "source": [
    "# NumPy array broadcasting for the win!\n",
    "nums_np = np.array([-2, -1, 0, 1, 2])\n",
    "nums_np ** 2"
   ]
  },
  {
   "cell_type": "markdown",
   "metadata": {},
   "source": [
    "### Basic 1-D indexing List dan Arrays"
   ]
  },
  {
   "cell_type": "code",
   "execution_count": 54,
   "metadata": {},
   "outputs": [
    {
     "name": "stdout",
     "output_type": "stream",
     "text": [
      "0\n",
      "0\n"
     ]
    }
   ],
   "source": [
    "# List\n",
    "nums = [-2, -1, 0, 1, 2]\n",
    "print(nums[2])\n",
    "\n",
    "# Arrays\n",
    "nums_np = np.array(nums)\n",
    "print(nums_np[2])"
   ]
  },
  {
   "cell_type": "code",
   "execution_count": 55,
   "metadata": {},
   "outputs": [
    {
     "name": "stdout",
     "output_type": "stream",
     "text": [
      "2\n",
      "2\n"
     ]
    }
   ],
   "source": [
    "# List\n",
    "print(nums[-1])\n",
    "\n",
    "# Arrays\n",
    "print(nums_np[-1])"
   ]
  },
  {
   "cell_type": "code",
   "execution_count": 56,
   "metadata": {},
   "outputs": [
    {
     "name": "stdout",
     "output_type": "stream",
     "text": [
      "[-1, 0, 1]\n",
      "[-1  0  1]\n"
     ]
    }
   ],
   "source": [
    "# List\n",
    "print(nums[1:4])\n",
    "\n",
    "# Arrays\n",
    "print(nums_np[1:4])"
   ]
  },
  {
   "cell_type": "markdown",
   "metadata": {},
   "source": [
    "### Basic 2-D indexing List dan Arrays"
   ]
  },
  {
   "cell_type": "code",
   "execution_count": 57,
   "metadata": {},
   "outputs": [],
   "source": [
    "# 2-D list\n",
    "nums2 = [ [1, 2, 3], [4, 5, 6] ]\n",
    "\n",
    "# 2-D array\n",
    "nums2_np = np.array(nums2)"
   ]
  },
  {
   "cell_type": "code",
   "execution_count": 58,
   "metadata": {},
   "outputs": [
    {
     "name": "stdout",
     "output_type": "stream",
     "text": [
      "2\n",
      "2\n"
     ]
    }
   ],
   "source": [
    "# List\n",
    "print(nums2[0][1])\n",
    "\n",
    "# Arrays\n",
    "print(nums2_np[0, 1])"
   ]
  },
  {
   "cell_type": "code",
   "execution_count": 59,
   "metadata": {},
   "outputs": [
    {
     "name": "stdout",
     "output_type": "stream",
     "text": [
      "[1, 4]\n",
      "[1 4]\n"
     ]
    }
   ],
   "source": [
    "# List comprehension\n",
    "print([row[0] for row in nums2])\n",
    "\n",
    "# Array\n",
    "print(nums2_np[:, 0])"
   ]
  },
  {
   "cell_type": "markdown",
   "metadata": {},
   "source": [
    "### NumPy array boolean indexing"
   ]
  },
  {
   "cell_type": "code",
   "execution_count": 60,
   "metadata": {},
   "outputs": [],
   "source": [
    "nums = [-2, -1, 0, 1, 2]\n",
    "nums_np = np.array(nums)"
   ]
  },
  {
   "cell_type": "code",
   "execution_count": 61,
   "metadata": {},
   "outputs": [
    {
     "data": {
      "text/plain": [
       "array([False, False, False,  True,  True])"
      ]
     },
     "execution_count": 61,
     "metadata": {},
     "output_type": "execute_result"
    }
   ],
   "source": [
    "# Boolean indexing\n",
    "nums_np > 0"
   ]
  },
  {
   "cell_type": "code",
   "execution_count": 62,
   "metadata": {},
   "outputs": [
    {
     "data": {
      "text/plain": [
       "array([1, 2])"
      ]
     },
     "execution_count": 62,
     "metadata": {},
     "output_type": "execute_result"
    }
   ],
   "source": [
    "nums_np[nums_np > 0]"
   ]
  },
  {
   "cell_type": "markdown",
   "metadata": {},
   "source": [
    "Tidak ada pengindeksan boolean untuk list"
   ]
  },
  {
   "cell_type": "code",
   "execution_count": 64,
   "metadata": {},
   "outputs": [
    {
     "name": "stdout",
     "output_type": "stream",
     "text": [
      "[1, 2]\n"
     ]
    }
   ],
   "source": [
    "# For loop (inefficient option)\n",
    "pos = []\n",
    "for num in nums:\n",
    "    if num > 0:\n",
    "        pos.append(num)\n",
    "print(pos)"
   ]
  },
  {
   "cell_type": "code",
   "execution_count": 65,
   "metadata": {},
   "outputs": [
    {
     "name": "stdout",
     "output_type": "stream",
     "text": [
      "[1, 2]\n"
     ]
    }
   ],
   "source": [
    "# List comprehension (better option but not best)\n",
    "pos = [num for num in nums if num > 0]\n",
    "print(pos)"
   ]
  },
  {
   "cell_type": "markdown",
   "metadata": {},
   "source": [
    "### Practice with NumPy arrays\n",
    "\n",
    "Mari kita berlatih *slicing* numpy array dan menggunakan konsep NumPy broadcasting. Ingat, broadcasting mengacu pada kemampuan array numpy untuk melakukan operasi vektor, sehingga mereka menjalankan pada semua elemen objek sekaligus."
   ]
  },
  {
   "cell_type": "code",
   "execution_count": 70,
   "metadata": {},
   "outputs": [],
   "source": [
    "nums = np.array([[ 1,  2,  3,  4,  5], [ 6,  7,  8,  9, 10]])"
   ]
  },
  {
   "cell_type": "code",
   "execution_count": 72,
   "metadata": {},
   "outputs": [
    {
     "name": "stdout",
     "output_type": "stream",
     "text": [
      "[ 6  7  9  9 10]\n"
     ]
    }
   ],
   "source": [
    "# Print second row of nums\n",
    "print(nums[1,:])"
   ]
  },
  {
   "cell_type": "code",
   "execution_count": 73,
   "metadata": {},
   "outputs": [
    {
     "name": "stdout",
     "output_type": "stream",
     "text": [
      "[ 7  9  9 10]\n"
     ]
    }
   ],
   "source": [
    "# Print all elements of nums that are greater than six\n",
    "print(nums[nums > 6])"
   ]
  },
  {
   "cell_type": "code",
   "execution_count": 74,
   "metadata": {},
   "outputs": [
    {
     "name": "stdout",
     "output_type": "stream",
     "text": [
      "[[ 2  4  8  8 10]\n",
      " [12 14 18 18 20]]\n"
     ]
    }
   ],
   "source": [
    "# Double every element of nums\n",
    "nums_dbl = nums * 2\n",
    "print(nums_dbl)"
   ]
  },
  {
   "cell_type": "code",
   "execution_count": 75,
   "metadata": {},
   "outputs": [
    {
     "name": "stdout",
     "output_type": "stream",
     "text": [
      "[[ 1  2  5  4  5]\n",
      " [ 6  7 10  9 10]]\n"
     ]
    }
   ],
   "source": [
    "# Replace the third column of nums\n",
    "nums[:,2] = nums[:,2] + 1\n",
    "print(nums)"
   ]
  },
  {
   "cell_type": "markdown",
   "metadata": {},
   "source": [
    "**Question**\n",
    "\n",
    "Jika dibandingkan dengan objek list, apa dua keuntungan menggunakan `numpy` array ?\n",
    "\n",
    "- `numpy` array berisi tipe data yang homogen (yang mengurangi konsumsi memori) dan memberikan kemampuan untuk menerapkan operasi pada semua elemen melalui broadcasting."
   ]
  },
  {
   "cell_type": "markdown",
   "metadata": {},
   "source": [
    "**Note** : Anda mengiris (*slicing*) numpy array seperti pro dan belajar bagaimana memanfaatkan konsep NumPy broadcasting. Menggunakan numpy array memungkinkan Anda untuk mengambil keuntungan dari sifat efisien array memori dan dengan mudah melakukan operasi matematika pada data Anda."
   ]
  },
  {
   "cell_type": "markdown",
   "metadata": {},
   "source": [
    "### Bringing it all together: Festivus!\n",
    "\n",
    "Dalam latihan ini, Anda akan mengadakan pesta — Festivus jika Anda mau!\n",
    "\n",
    "Anda memiliki daftar tamu (list `names`). Setiap tamu, dengan alasan apa pun, telah memutuskan untuk datang ke pesta dengan keterlambatan 10 menit. Sebagai contoh, Jerry muncul hingga pesta Festivus memasuki 10 menit, Kramer muncul 20 menit kemudian, dan seterusnya.\n",
    "\n",
    "Kami ingin menulis beberapa baris kode sederhana, menggunakan fungsi bawaan Python yang telah kami bahas, untuk menyambut setiap tamu Anda dan memberi tahu mereka berapa menit keterlambatan mereka ke pesta Anda.\n",
    "\n",
    "Mari kita sambut tamu Anda!"
   ]
  },
  {
   "cell_type": "code",
   "execution_count": 78,
   "metadata": {},
   "outputs": [
    {
     "name": "stdout",
     "output_type": "stream",
     "text": [
      "[10, 20, 30, 40, 50]\n"
     ]
    }
   ],
   "source": [
    "# Create a list of arrival times\n",
    "arrival_times = [*range(10, 60, 10)]\n",
    "\n",
    "print(arrival_times)"
   ]
  },
  {
   "cell_type": "markdown",
   "metadata": {},
   "source": [
    "Anda menyadari jam Anda lebih cepat tiga menit."
   ]
  },
  {
   "cell_type": "code",
   "execution_count": 79,
   "metadata": {},
   "outputs": [
    {
     "name": "stdout",
     "output_type": "stream",
     "text": [
      "[ 7 17 27 37 47]\n"
     ]
    }
   ],
   "source": [
    "# Convert arrival_times to an array and update the times\n",
    "arrival_times_np = np.array(arrival_times)\n",
    "new_times = arrival_times_np - 3\n",
    "\n",
    "print(new_times)"
   ]
  },
  {
   "cell_type": "code",
   "execution_count": 80,
   "metadata": {},
   "outputs": [
    {
     "name": "stdout",
     "output_type": "stream",
     "text": [
      "[('Jerry', 7), ('Kramer', 17), ('Elaine', 27), ('George', 37), ('Newman', 47)]\n"
     ]
    }
   ],
   "source": [
    "# Use list comprehension and enumerate to pair guests to new times\n",
    "guest_arrivals = [(names[i],time) for i,time in enumerate(new_times)]\n",
    "print(guest_arrivals)"
   ]
  },
  {
   "cell_type": "code",
   "execution_count": 81,
   "metadata": {},
   "outputs": [],
   "source": [
    "def welcome_guest(guest_and_time):\n",
    "    \"\"\"\n",
    "    Returns a welcome string for the guest_and_time tuple.\n",
    "    \n",
    "    Args:\n",
    "        guest_and_time (tuple): The guest and time tuple to create\n",
    "            a welcome string for.\n",
    "            \n",
    "    Returns:\n",
    "        welcome_string (str): A string welcoming the guest to Festivus.\n",
    "        'Welcome to Festivus {guest}... You're {time} min late.'\n",
    "    \n",
    "    \"\"\"\n",
    "    guest = guest_and_time[0]\n",
    "    arrival_time = guest_and_time[1]\n",
    "    welcome_string = \"Welcome to Festivus {}... You're {} min late.\".format(guest,arrival_time)\n",
    "    return welcome_string"
   ]
  },
  {
   "cell_type": "code",
   "execution_count": 82,
   "metadata": {},
   "outputs": [
    {
     "name": "stdout",
     "output_type": "stream",
     "text": [
      "Welcome to Festivus Jerry... You're 7 min late.\n",
      "Welcome to Festivus Kramer... You're 17 min late.\n",
      "Welcome to Festivus Elaine... You're 27 min late.\n",
      "Welcome to Festivus George... You're 37 min late.\n",
      "Welcome to Festivus Newman... You're 47 min late.\n"
     ]
    }
   ],
   "source": [
    "# Map the welcome_guest function to each (guest,time) pair\n",
    "welcome_map = map(welcome_guest, guest_arrivals)\n",
    "\n",
    "guest_welcomes = [*welcome_map]\n",
    "print(*guest_welcomes, sep='\\n')"
   ]
  },
  {
   "cell_type": "markdown",
   "metadata": {},
   "source": [
    "**Note** : Anda menggunakan fungsi bawaan Python seperti pro dan baik dalam cara Anda menulis kode Python yang efisien. Percaya atau tidak, ada cara untuk membuat baris kode sederhana ini menjadi lebih efisien! Kami akan membahasnya di bab mendatang, jadi lanjutkan untuk melihat caranya!"
   ]
  },
  {
   "cell_type": "code",
   "execution_count": null,
   "metadata": {},
   "outputs": [],
   "source": []
  },
  {
   "cell_type": "code",
   "execution_count": null,
   "metadata": {},
   "outputs": [],
   "source": []
  },
  {
   "cell_type": "code",
   "execution_count": null,
   "metadata": {},
   "outputs": [],
   "source": []
  }
 ],
 "metadata": {
  "kernelspec": {
   "display_name": "Python 3",
   "language": "python",
   "name": "python3"
  },
  "language_info": {
   "codemirror_mode": {
    "name": "ipython",
    "version": 3
   },
   "file_extension": ".py",
   "mimetype": "text/x-python",
   "name": "python",
   "nbconvert_exporter": "python",
   "pygments_lexer": "ipython3",
   "version": "3.7.3"
  }
 },
 "nbformat": 4,
 "nbformat_minor": 2
}
