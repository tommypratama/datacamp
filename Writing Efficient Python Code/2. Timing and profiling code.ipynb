{
 "cells": [
  {
   "cell_type": "markdown",
   "metadata": {},
   "source": [
    "# 2. Timing and profiling code\n",
    "\n",
    "Dalam bab ini, Anda akan belajar cara mengumpulkan dan membandingkan runtime (waktu eksekusi kode) antara pendekatan pengkodean yang berbeda. Anda akan berlatih menggunakan paket `line_profiler` dan `memory_profiler` untuk profil basis kode Anda dan melihat kemacetan (*bottlenecks*). Kemudian, Anda akan mempraktikkan pembelajaran Anda dengan mengganti kemacetan ini dengan kode Python yang efisien.\n",
    "\n",
    "Another reference: https://jakevdp.github.io/PythonDataScienceHandbook/01.07-timing-and-profiling.html"
   ]
  },
  {
   "cell_type": "markdown",
   "metadata": {},
   "source": [
    "## Examining runtime"
   ]
  },
  {
   "cell_type": "markdown",
   "metadata": {},
   "source": [
    "### Why should we time our code?\n",
    "\n",
    "* Memungkinkan kita untuk memilih pendekatan pengkodean yang **optimal**\n",
    "* **Faster code == more efcient code!**"
   ]
  },
  {
   "cell_type": "markdown",
   "metadata": {},
   "source": [
    "### How can we time our code?\n",
    "\n",
    "* Hitung runtime dengan IPython magic command `%timeit`\n",
    "* Magic commands: perangkat tambahan di atas sintaks Python normal\n",
    "  * Diawali oleh karakter \"%\"\n",
    "  * Tautan ke dokumen ([di sini](https://ipython.readthedocs.io/en/stable/interactive/magics.html))\n",
    "  * Lihat semua perintah magic dengan `%lsmagic`"
   ]
  },
  {
   "cell_type": "code",
   "execution_count": 6,
   "metadata": {},
   "outputs": [
    {
     "data": {
      "application/json": {
       "cell": {
        "!": "OSMagics",
        "HTML": "Other",
        "SVG": "Other",
        "bash": "Other",
        "capture": "ExecutionMagics",
        "debug": "ExecutionMagics",
        "file": "Other",
        "html": "DisplayMagics",
        "javascript": "DisplayMagics",
        "js": "DisplayMagics",
        "latex": "DisplayMagics",
        "markdown": "DisplayMagics",
        "perl": "Other",
        "prun": "ExecutionMagics",
        "pypy": "Other",
        "python": "Other",
        "python2": "Other",
        "python3": "Other",
        "ruby": "Other",
        "script": "ScriptMagics",
        "sh": "Other",
        "svg": "DisplayMagics",
        "sx": "OSMagics",
        "system": "OSMagics",
        "time": "ExecutionMagics",
        "timeit": "ExecutionMagics",
        "writefile": "OSMagics"
       },
       "line": {
        "alias": "OSMagics",
        "alias_magic": "BasicMagics",
        "autoawait": "AsyncMagics",
        "autocall": "AutoMagics",
        "automagic": "AutoMagics",
        "autosave": "KernelMagics",
        "bookmark": "OSMagics",
        "cat": "Other",
        "cd": "OSMagics",
        "clear": "KernelMagics",
        "colors": "BasicMagics",
        "conda": "PackagingMagics",
        "config": "ConfigMagics",
        "connect_info": "KernelMagics",
        "cp": "Other",
        "debug": "ExecutionMagics",
        "dhist": "OSMagics",
        "dirs": "OSMagics",
        "doctest_mode": "BasicMagics",
        "ed": "Other",
        "edit": "KernelMagics",
        "env": "OSMagics",
        "gui": "BasicMagics",
        "hist": "Other",
        "history": "HistoryMagics",
        "killbgscripts": "ScriptMagics",
        "ldir": "Other",
        "less": "KernelMagics",
        "lf": "Other",
        "lk": "Other",
        "ll": "Other",
        "load": "CodeMagics",
        "load_ext": "ExtensionMagics",
        "loadpy": "CodeMagics",
        "logoff": "LoggingMagics",
        "logon": "LoggingMagics",
        "logstart": "LoggingMagics",
        "logstate": "LoggingMagics",
        "logstop": "LoggingMagics",
        "ls": "Other",
        "lsmagic": "BasicMagics",
        "lx": "Other",
        "macro": "ExecutionMagics",
        "magic": "BasicMagics",
        "man": "KernelMagics",
        "matplotlib": "PylabMagics",
        "mkdir": "Other",
        "more": "KernelMagics",
        "mv": "Other",
        "notebook": "BasicMagics",
        "page": "BasicMagics",
        "pastebin": "CodeMagics",
        "pdb": "ExecutionMagics",
        "pdef": "NamespaceMagics",
        "pdoc": "NamespaceMagics",
        "pfile": "NamespaceMagics",
        "pinfo": "NamespaceMagics",
        "pinfo2": "NamespaceMagics",
        "pip": "PackagingMagics",
        "popd": "OSMagics",
        "pprint": "BasicMagics",
        "precision": "BasicMagics",
        "prun": "ExecutionMagics",
        "psearch": "NamespaceMagics",
        "psource": "NamespaceMagics",
        "pushd": "OSMagics",
        "pwd": "OSMagics",
        "pycat": "OSMagics",
        "pylab": "PylabMagics",
        "qtconsole": "KernelMagics",
        "quickref": "BasicMagics",
        "recall": "HistoryMagics",
        "rehashx": "OSMagics",
        "reload_ext": "ExtensionMagics",
        "rep": "Other",
        "rerun": "HistoryMagics",
        "reset": "NamespaceMagics",
        "reset_selective": "NamespaceMagics",
        "rm": "Other",
        "rmdir": "Other",
        "run": "ExecutionMagics",
        "save": "CodeMagics",
        "sc": "OSMagics",
        "set_env": "OSMagics",
        "store": "StoreMagics",
        "sx": "OSMagics",
        "system": "OSMagics",
        "tb": "ExecutionMagics",
        "time": "ExecutionMagics",
        "timeit": "ExecutionMagics",
        "unalias": "OSMagics",
        "unload_ext": "ExtensionMagics",
        "who": "NamespaceMagics",
        "who_ls": "NamespaceMagics",
        "whos": "NamespaceMagics",
        "xdel": "NamespaceMagics",
        "xmode": "BasicMagics"
       }
      },
      "text/plain": [
       "Available line magics:\n",
       "%alias  %alias_magic  %autoawait  %autocall  %automagic  %autosave  %bookmark  %cat  %cd  %clear  %colors  %conda  %config  %connect_info  %cp  %debug  %dhist  %dirs  %doctest_mode  %ed  %edit  %env  %gui  %hist  %history  %killbgscripts  %ldir  %less  %lf  %lk  %ll  %load  %load_ext  %loadpy  %logoff  %logon  %logstart  %logstate  %logstop  %ls  %lsmagic  %lx  %macro  %magic  %man  %matplotlib  %mkdir  %more  %mv  %notebook  %page  %pastebin  %pdb  %pdef  %pdoc  %pfile  %pinfo  %pinfo2  %pip  %popd  %pprint  %precision  %prun  %psearch  %psource  %pushd  %pwd  %pycat  %pylab  %qtconsole  %quickref  %recall  %rehashx  %reload_ext  %rep  %rerun  %reset  %reset_selective  %rm  %rmdir  %run  %save  %sc  %set_env  %store  %sx  %system  %tb  %time  %timeit  %unalias  %unload_ext  %who  %who_ls  %whos  %xdel  %xmode\n",
       "\n",
       "Available cell magics:\n",
       "%%!  %%HTML  %%SVG  %%bash  %%capture  %%debug  %%file  %%html  %%javascript  %%js  %%latex  %%markdown  %%perl  %%prun  %%pypy  %%python  %%python2  %%python3  %%ruby  %%script  %%sh  %%svg  %%sx  %%system  %%time  %%timeit  %%writefile\n",
       "\n",
       "Automagic is ON, % prefix IS NOT needed for line magics."
      ]
     },
     "execution_count": 6,
     "metadata": {},
     "output_type": "execute_result"
    }
   ],
   "source": [
    "%lsmagic"
   ]
  },
  {
   "cell_type": "markdown",
   "metadata": {},
   "source": [
    "### Using %timeit\n",
    "\n",
    "Kode yang akan diatur waktunya:"
   ]
  },
  {
   "cell_type": "code",
   "execution_count": 1,
   "metadata": {},
   "outputs": [],
   "source": [
    "import numpy as np\n",
    "\n",
    "rand_nums = np.random.rand(1000)"
   ]
  },
  {
   "cell_type": "markdown",
   "metadata": {},
   "source": [
    "Pengaturan waktu dengan `%timeit`"
   ]
  },
  {
   "cell_type": "code",
   "execution_count": 2,
   "metadata": {},
   "outputs": [
    {
     "name": "stdout",
     "output_type": "stream",
     "text": [
      "11.6 µs ± 12.1 ns per loop (mean ± std. dev. of 7 runs, 100000 loops each)\n"
     ]
    }
   ],
   "source": [
    "%timeit rand_nums = np.random.rand(1000)"
   ]
  },
  {
   "cell_type": "markdown",
   "metadata": {},
   "source": [
    "### Specifying number of runs/loops\n",
    "\n",
    "Mengatur jumlah run ( `-r` ) dan loops ( `-n` )"
   ]
  },
  {
   "cell_type": "code",
   "execution_count": 3,
   "metadata": {},
   "outputs": [
    {
     "name": "stdout",
     "output_type": "stream",
     "text": [
      "The slowest run took 4.57 times longer than the fastest. This could mean that an intermediate result is being cached.\n",
      "33.9 µs ± 21.7 µs per loop (mean ± std. dev. of 2 runs, 10 loops each)\n"
     ]
    }
   ],
   "source": [
    "# Set number of runs to 2 (-r2)\n",
    "# Set number of loops to 10 (-n10)\n",
    "%timeit -r2 -n10 rand_nums = np.random.rand(1000)"
   ]
  },
  {
   "cell_type": "markdown",
   "metadata": {},
   "source": [
    "### Using %timeit in line magic mode\n",
    "\n",
    "Line magic ( `%timeit` )"
   ]
  },
  {
   "cell_type": "code",
   "execution_count": 4,
   "metadata": {},
   "outputs": [
    {
     "name": "stdout",
     "output_type": "stream",
     "text": [
      "894 ns ± 8.16 ns per loop (mean ± std. dev. of 7 runs, 1000000 loops each)\n"
     ]
    }
   ],
   "source": [
    "# Single line of code\n",
    "%timeit nums = [x for x in range(10)]"
   ]
  },
  {
   "cell_type": "markdown",
   "metadata": {},
   "source": [
    "### Using %timeit in cell magic mode\n",
    "\n",
    "Cell magic ( `%%timeit` ) Multiple lines of code."
   ]
  },
  {
   "cell_type": "code",
   "execution_count": 19,
   "metadata": {},
   "outputs": [
    {
     "name": "stdout",
     "output_type": "stream",
     "text": [
      "1.2 µs ± 6.85 ns per loop (mean ± std. dev. of 7 runs, 1000000 loops each)\n"
     ]
    }
   ],
   "source": [
    "%%timeit\n",
    "nums = []\n",
    "for x in range(10):\n",
    "    nums.append(x)"
   ]
  },
  {
   "cell_type": "markdown",
   "metadata": {},
   "source": [
    "### Saving output\n",
    "\n",
    "Menyimpan output ke variabel ( `-o` )"
   ]
  },
  {
   "cell_type": "code",
   "execution_count": 20,
   "metadata": {},
   "outputs": [
    {
     "name": "stdout",
     "output_type": "stream",
     "text": [
      "11.5 µs ± 38.6 ns per loop (mean ± std. dev. of 7 runs, 100000 loops each)\n"
     ]
    }
   ],
   "source": [
    "times = %timeit -o rand_nums = np.random.rand(1000)"
   ]
  },
  {
   "cell_type": "code",
   "execution_count": 22,
   "metadata": {},
   "outputs": [
    {
     "data": {
      "text/plain": [
       "[1.15309619193431e-05,\n",
       " 1.1472782749915496e-05,\n",
       " 1.1546781959477812e-05,\n",
       " 1.1567783990176394e-05,\n",
       " 1.1491404380649328e-05,\n",
       " 1.145569188054651e-05,\n",
       " 1.1483802730217575e-05]"
      ]
     },
     "execution_count": 22,
     "metadata": {},
     "output_type": "execute_result"
    }
   ],
   "source": [
    "times.timings"
   ]
  },
  {
   "cell_type": "code",
   "execution_count": 23,
   "metadata": {},
   "outputs": [
    {
     "data": {
      "text/plain": [
       "1.145569188054651e-05"
      ]
     },
     "execution_count": 23,
     "metadata": {},
     "output_type": "execute_result"
    }
   ],
   "source": [
    "times.best"
   ]
  },
  {
   "cell_type": "code",
   "execution_count": 24,
   "metadata": {},
   "outputs": [
    {
     "data": {
      "text/plain": [
       "1.1567783990176394e-05"
      ]
     },
     "execution_count": 24,
     "metadata": {},
     "output_type": "execute_result"
    }
   ],
   "source": [
    "times.worst"
   ]
  },
  {
   "cell_type": "markdown",
   "metadata": {},
   "source": [
    "### Comparing times\n",
    "\n",
    "Struktur data python dapat dibuat menggunakan nama formal"
   ]
  },
  {
   "cell_type": "code",
   "execution_count": 25,
   "metadata": {},
   "outputs": [],
   "source": [
    "formal_list = list()\n",
    "formal_dict = dict()\n",
    "formal_tuple = tuple()"
   ]
  },
  {
   "cell_type": "markdown",
   "metadata": {},
   "source": [
    "Struktur data python dapat dibuat menggunakan sintaks literal"
   ]
  },
  {
   "cell_type": "code",
   "execution_count": 26,
   "metadata": {},
   "outputs": [],
   "source": [
    "literal_list = []\n",
    "literal_dict = {}\n",
    "literal_tuple = ()"
   ]
  },
  {
   "cell_type": "code",
   "execution_count": 27,
   "metadata": {},
   "outputs": [
    {
     "name": "stdout",
     "output_type": "stream",
     "text": [
      "121 ns ± 0.197 ns per loop (mean ± std. dev. of 7 runs, 10000000 loops each)\n"
     ]
    }
   ],
   "source": [
    "f_time = %timeit -o formal_dict = dict()"
   ]
  },
  {
   "cell_type": "code",
   "execution_count": 28,
   "metadata": {},
   "outputs": [
    {
     "name": "stdout",
     "output_type": "stream",
     "text": [
      "50.3 ns ± 0.354 ns per loop (mean ± std. dev. of 7 runs, 10000000 loops each)\n"
     ]
    }
   ],
   "source": [
    "l_time = %timeit -o literal_dict = {}"
   ]
  },
  {
   "cell_type": "code",
   "execution_count": 29,
   "metadata": {},
   "outputs": [
    {
     "name": "stdout",
     "output_type": "stream",
     "text": [
      "l_time better than f_time by 71.00636776969102 ns\n"
     ]
    }
   ],
   "source": [
    "diff = (f_time.average - l_time.average) * (10**9)\n",
    "print('l_time better than f_time by {} ns'.format(diff))"
   ]
  },
  {
   "cell_type": "code",
   "execution_count": 30,
   "metadata": {},
   "outputs": [
    {
     "name": "stdout",
     "output_type": "stream",
     "text": [
      "127 ns ± 1.45 ns per loop (mean ± std. dev. of 7 runs, 10000000 loops each)\n"
     ]
    }
   ],
   "source": [
    "%timeit formal_dict = dict()"
   ]
  },
  {
   "cell_type": "code",
   "execution_count": 31,
   "metadata": {},
   "outputs": [
    {
     "name": "stdout",
     "output_type": "stream",
     "text": [
      "50.5 ns ± 0.115 ns per loop (mean ± std. dev. of 7 runs, 10000000 loops each)\n"
     ]
    }
   ],
   "source": [
    "%timeit literal_dict = {}"
   ]
  },
  {
   "cell_type": "markdown",
   "metadata": {},
   "source": [
    "### Using %timeit: practice!\n",
    "\n",
    "Anda ingin membuat list bilangan bulat dari 0 hingga 50 menggunakan fungsi `range()`. Namun, Anda tidak yakin apakah menggunakan list comprehension atau unpacking objek *range* ke list lebih cepat. Mari kita gunakan `%timeit` untuk menemukan implementasi terbaik.\n",
    "\n",
    "Untuk kenyamanan Anda, tabel referensi urutan besarnya waktu disediakan di bawah ini (lebih cepat dimulai dari atas).\n",
    "\n",
    "<img src=\"datasets/units.png\" width=500px height=500px align=left />"
   ]
  },
  {
   "cell_type": "code",
   "execution_count": 32,
   "metadata": {},
   "outputs": [
    {
     "name": "stdout",
     "output_type": "stream",
     "text": [
      "[0, 1, 2, 3, 4, 5, 6, 7, 8, 9, 10, 11, 12, 13, 14, 15, 16, 17, 18, 19, 20, 21, 22, 23, 24, 25, 26, 27, 28, 29, 30, 31, 32, 33, 34, 35, 36, 37, 38, 39, 40, 41, 42, 43, 44, 45, 46, 47, 48, 49, 50]\n"
     ]
    }
   ],
   "source": [
    "# Create a list of integers (0-50) using list comprehension\n",
    "nums_list_comp = [num for num in range(51)]\n",
    "print(nums_list_comp)"
   ]
  },
  {
   "cell_type": "code",
   "execution_count": 33,
   "metadata": {},
   "outputs": [
    {
     "name": "stdout",
     "output_type": "stream",
     "text": [
      "[0, 1, 2, 3, 4, 5, 6, 7, 8, 9, 10, 11, 12, 13, 14, 15, 16, 17, 18, 19, 20, 21, 22, 23, 24, 25, 26, 27, 28, 29, 30, 31, 32, 33, 34, 35, 36, 37, 38, 39, 40, 41, 42, 43, 44, 45, 46, 47, 48, 49, 50]\n"
     ]
    }
   ],
   "source": [
    "# Create a list of integers (0-50) by unpacking range\n",
    "nums_unpack = [*range(51)]\n",
    "print(nums_unpack)"
   ]
  },
  {
   "cell_type": "markdown",
   "metadata": {},
   "source": [
    "**Question**\n",
    "\n",
    "Gunakan `%timeit` dalam konsol IPython Anda untuk membandingkan runtime untuk membuat list bilangan bulat dari 0 hingga 50 menggunakan **list comprehension** vs. **unpacking** objek *range*. Jangan sertakan pernyataan `print()` saat penghitungan waktu.\n",
    "\n",
    "Metode mana yang lebih cepat?"
   ]
  },
  {
   "cell_type": "code",
   "execution_count": 34,
   "metadata": {},
   "outputs": [
    {
     "name": "stdout",
     "output_type": "stream",
     "text": [
      "3.6 µs ± 9.13 ns per loop (mean ± std. dev. of 7 runs, 100000 loops each)\n",
      "981 ns ± 1.42 ns per loop (mean ± std. dev. of 7 runs, 1000000 loops each)\n"
     ]
    }
   ],
   "source": [
    "%timeit nums_list_comp = [num for num in range(51)]\n",
    "%timeit nums_unpack = [*range(51)]"
   ]
  },
  {
   "cell_type": "markdown",
   "metadata": {},
   "source": [
    "**Answer** : Unpacking *range* object lebih cepat dari list comprehension.\n",
    "\n",
    "Anda menggunakan `%timeit` untuk mengumpulkan dan membandingkan runtime! Meskipun list comprehension adalah alat yang berguna dan powerful, kadang-kadang unpacking objek dapat menghemat waktu dan terlihat sedikit lebih bersih."
   ]
  },
  {
   "cell_type": "markdown",
   "metadata": {},
   "source": [
    "### Using %timeit: specifying number of runs and loops\n",
    "\n",
    "List 480 superheroes telah dimuat ke dalam variabel `heroes`. Anda ingin menganalisis runtime untuk mengubah list `heroes` ini menjadi `set`. Alih-alih mengandalkan pengaturan default untuk `%timeit`, Anda hanya ingin menggunakan 5 proses dan 25 loop per setiap proses."
   ]
  },
  {
   "cell_type": "code",
   "execution_count": 147,
   "metadata": {},
   "outputs": [],
   "source": [
    "import pandas as pd\n",
    "\n",
    "superheroes = pd.read_csv(\"datasets/superheroes.csv\")"
   ]
  },
  {
   "cell_type": "code",
   "execution_count": 148,
   "metadata": {},
   "outputs": [],
   "source": [
    "heroes = superheroes['heroes'].to_list()\n",
    "wts = superheroes['wts'].to_list()\n",
    "hts = superheroes['hts'].to_list()\n",
    "publishers  =superheroes['publishers'].to_list()"
   ]
  },
  {
   "cell_type": "code",
   "execution_count": 48,
   "metadata": {},
   "outputs": [
    {
     "name": "stdout",
     "output_type": "stream",
     "text": [
      "20.4 µs ± 7.08 µs per loop (mean ± std. dev. of 5 runs, 25 loops each)\n"
     ]
    }
   ],
   "source": [
    "%timeit -r5 -n25 set(heroes)"
   ]
  },
  {
   "cell_type": "markdown",
   "metadata": {},
   "source": [
    "**Note** : `%timeit` memungkinkan Anda menentukan jumlah proses dan jumlah loop yang ingin Anda pertimbangkan dengan tanda `-r` dan `-n`. Anda dapat menggunakan `-r5` dan `-n25` untuk menentukan 5 iterasi masing-masing dengan 25 loop saat menghitung rata-rata dan standar deviasi runtime untuk kode Anda."
   ]
  },
  {
   "cell_type": "markdown",
   "metadata": {},
   "source": [
    "### Using %timeit: formal name or literal syntax\n",
    "\n",
    "Python memungkinkan Anda membuat struktur data menggunakan **nama formal** atau **sintaks literal**. Dalam latihan ini, Anda akan mengeksplorasi cara menggunakan sintaks literal untuk membuat struktur data yang dapat mempercepat runtime.\n",
    "\n",
    "<img src=\"datasets/data_structure.png\" width=500px height=500px align=left />"
   ]
  },
  {
   "cell_type": "code",
   "execution_count": 49,
   "metadata": {},
   "outputs": [
    {
     "name": "stdout",
     "output_type": "stream",
     "text": [
      "[]\n",
      "[]\n"
     ]
    }
   ],
   "source": [
    "# Create a list using the formal name\n",
    "formal_list = list()\n",
    "print(formal_list)\n",
    "\n",
    "# Create a list using the literal syntax\n",
    "literal_list = []\n",
    "print(literal_list)"
   ]
  },
  {
   "cell_type": "code",
   "execution_count": 50,
   "metadata": {},
   "outputs": [
    {
     "name": "stdout",
     "output_type": "stream",
     "text": [
      "<class 'list'>\n",
      "<class 'list'>\n"
     ]
    }
   ],
   "source": [
    "# Print out the type of formal_list\n",
    "print(type(formal_list))\n",
    "\n",
    "# Print out the type of literal_list\n",
    "print(type(literal_list))"
   ]
  },
  {
   "cell_type": "markdown",
   "metadata": {},
   "source": [
    "**Konvensi penamaan mana yang lebih cepat?**"
   ]
  },
  {
   "cell_type": "code",
   "execution_count": 51,
   "metadata": {},
   "outputs": [
    {
     "name": "stdout",
     "output_type": "stream",
     "text": [
      "98.9 ns ± 0.254 ns per loop (mean ± std. dev. of 7 runs, 10000000 loops each)\n",
      "49.2 ns ± 0.407 ns per loop (mean ± std. dev. of 7 runs, 10000000 loops each)\n"
     ]
    }
   ],
   "source": [
    "%timeit formal_list = list()\n",
    "%timeit literal_list = []"
   ]
  },
  {
   "cell_type": "markdown",
   "metadata": {},
   "source": [
    "**Answer** : Menggunakan sintaks literal (`[]`) untuk membuat *list* lebih cepat.\n",
    "\n",
    "Menggunakan sintaks literal Python untuk menentukan struktur data dapat mempercepat runtime Anda. Pertimbangkan untuk menggunakan sintaks literal (seperti `[]` alih-alih `list()`, `{}` alih-alih `dict()`, atau `()` alih-alih `tuple()`), jika memungkinkan, untuk mendapatkan kecepatan."
   ]
  },
  {
   "cell_type": "markdown",
   "metadata": {},
   "source": [
    "### Using cell magic mode (%%timeit)\n",
    "\n",
    "Dari sini, Anda akan bekerja dengan dataset superheroes. Untuk latihan ini, list bobot masing-masing hero dalam kilogram (disebut `wts`) dimasukkan ke dalam sesi Anda. Anda ingin mengubah bobot ini menjadi pound."
   ]
  },
  {
   "cell_type": "code",
   "execution_count": 64,
   "metadata": {},
   "outputs": [],
   "source": [
    "wts = superheroes['wts'].to_list()"
   ]
  },
  {
   "cell_type": "markdown",
   "metadata": {},
   "source": [
    "Anda dapat melakukannya menggunakan `loop` dan numpy `array`. **Manakah dari kedua teknik tersebut yang lebih cepat?**"
   ]
  },
  {
   "cell_type": "code",
   "execution_count": 66,
   "metadata": {},
   "outputs": [
    {
     "name": "stdout",
     "output_type": "stream",
     "text": [
      "53.9 µs ± 449 ns per loop (mean ± std. dev. of 7 runs, 10000 loops each)\n"
     ]
    }
   ],
   "source": [
    "%%timeit\n",
    "hero_wts_lbs = []\n",
    "for wt in wts:\n",
    "    hero_wts_lbs.append(wt * 2.20462)"
   ]
  },
  {
   "cell_type": "code",
   "execution_count": 67,
   "metadata": {},
   "outputs": [
    {
     "name": "stdout",
     "output_type": "stream",
     "text": [
      "21.4 µs ± 246 ns per loop (mean ± std. dev. of 7 runs, 10000 loops each)\n"
     ]
    }
   ],
   "source": [
    "%%timeit\n",
    "wts_np = np.array(wts)\n",
    "hero_wts_lbs_np = wts_np * 2.20462"
   ]
  },
  {
   "cell_type": "markdown",
   "metadata": {},
   "source": [
    "**Answer** : Teknik `numpy` array lebih cepat.\n",
    "\n",
    "Anda menggunakan `%%timeit` (cell magic mode) untuk mengatur waktu beberapa baris kode. Mengubah list `wts` menjadi NumPy array dan memanfaatkan broadcasting NumPy array menghemat waktu Anda! Bergerak maju, ingatlah bahwa Anda dapat menggunakan `%timeit` untuk mengumpulkan runtime untuk satu baris kode (line magic mode) dan `%%timeit` untuk mendapatkan runtime untuk beberapa baris kode."
   ]
  },
  {
   "cell_type": "markdown",
   "metadata": {},
   "source": [
    "## Code profiling for runtime"
   ]
  },
  {
   "cell_type": "markdown",
   "metadata": {},
   "source": [
    "### Code profiling\n",
    "\n",
    "* Statistik terperinci tentang frekuensi dan durasi panggilan fungsi\n",
    "* Analisis baris demi baris\n",
    "* Paket yang digunakan: `line_profiler`\n",
    "  * `pip install line_profiler`"
   ]
  },
  {
   "cell_type": "code",
   "execution_count": 80,
   "metadata": {},
   "outputs": [],
   "source": [
    "#!pip install line_profiler"
   ]
  },
  {
   "cell_type": "markdown",
   "metadata": {},
   "source": [
    "### Code profiling: runtime"
   ]
  },
  {
   "cell_type": "code",
   "execution_count": 68,
   "metadata": {},
   "outputs": [],
   "source": [
    "heroes = ['Batman', 'Superman', 'Wonder Woman']\n",
    "hts = np.array([188.0, 191.0, 183.0])\n",
    "wts = np.array([ 95.0, 101.0, 74.0])"
   ]
  },
  {
   "cell_type": "code",
   "execution_count": 69,
   "metadata": {},
   "outputs": [],
   "source": [
    "def convert_units(heroes, heights, weights):\n",
    "\n",
    "    new_hts = [ht * 0.39370 for ht in heights]\n",
    "    new_wts = [wt * 2.20462 for wt in weights]\n",
    "\n",
    "    hero_data = {}\n",
    "\n",
    "    for i,hero in enumerate(heroes):\n",
    "        hero_data[hero] = (new_hts[i], new_wts[i])\n",
    "\n",
    "    return hero_data"
   ]
  },
  {
   "cell_type": "code",
   "execution_count": 70,
   "metadata": {},
   "outputs": [
    {
     "data": {
      "text/plain": [
       "{'Batman': (74.01559999999999, 209.4389),\n",
       " 'Superman': (75.19669999999999, 222.66661999999997),\n",
       " 'Wonder Woman': (72.0471, 163.14188)}"
      ]
     },
     "execution_count": 70,
     "metadata": {},
     "output_type": "execute_result"
    }
   ],
   "source": [
    "convert_units(heroes, hts, wts)"
   ]
  },
  {
   "cell_type": "code",
   "execution_count": 71,
   "metadata": {},
   "outputs": [
    {
     "name": "stdout",
     "output_type": "stream",
     "text": [
      "4.29 µs ± 28.3 ns per loop (mean ± std. dev. of 7 runs, 100000 loops each)\n"
     ]
    }
   ],
   "source": [
    "%timeit convert_units(heroes, hts, wts)"
   ]
  },
  {
   "cell_type": "code",
   "execution_count": 72,
   "metadata": {},
   "outputs": [
    {
     "name": "stdout",
     "output_type": "stream",
     "text": [
      "1.58 µs ± 3.09 ns per loop (mean ± std. dev. of 7 runs, 1000000 loops each)\n"
     ]
    }
   ],
   "source": [
    "%timeit new_hts = [ht * 0.39370 for ht in hts]"
   ]
  },
  {
   "cell_type": "code",
   "execution_count": 73,
   "metadata": {},
   "outputs": [
    {
     "name": "stdout",
     "output_type": "stream",
     "text": [
      "1.58 µs ± 24.2 ns per loop (mean ± std. dev. of 7 runs, 1000000 loops each)\n"
     ]
    }
   ],
   "source": [
    "%timeit new_wts = [wt * 2.20462 for wt in wts]"
   ]
  },
  {
   "cell_type": "code",
   "execution_count": 76,
   "metadata": {},
   "outputs": [],
   "source": [
    "new_hts = [ht * 0.39370 for ht in hts]\n",
    "new_wts = [wt * 2.20462 for wt in wts]"
   ]
  },
  {
   "cell_type": "code",
   "execution_count": 77,
   "metadata": {},
   "outputs": [
    {
     "name": "stdout",
     "output_type": "stream",
     "text": [
      "924 ns ± 1.98 ns per loop (mean ± std. dev. of 7 runs, 1000000 loops each)\n"
     ]
    }
   ],
   "source": [
    "%%timeit\n",
    "hero_data = {}\n",
    "for i,hero in enumerate(heroes):\n",
    "    hero_data[hero] = (new_hts[i], new_wts[i])"
   ]
  },
  {
   "cell_type": "markdown",
   "metadata": {},
   "source": [
    "### Code proling: `line_profiler`\n",
    "\n",
    "Menggunakan paket `line_profiler`"
   ]
  },
  {
   "cell_type": "code",
   "execution_count": 81,
   "metadata": {},
   "outputs": [],
   "source": [
    "%load_ext line_profiler"
   ]
  },
  {
   "cell_type": "markdown",
   "metadata": {},
   "source": [
    "Magic command untuk menghitung waktu baris demi baris"
   ]
  },
  {
   "cell_type": "code",
   "execution_count": 83,
   "metadata": {},
   "outputs": [],
   "source": [
    "%lprun -f convert_units convert_units(heroes, hts, wts)"
   ]
  },
  {
   "cell_type": "markdown",
   "metadata": {},
   "source": [
    "### Using `%lprun`: spot bottlenecks\n",
    "\n",
    "Membuat profil suatu fungsi memungkinkan Anda menggali lebih dalam ke kode sumber fungsi dan berpotensi menemukan hambatan. Saat Anda melihat baris kode tertentu yang menggunakan sebagian besar runtime fungsi, ini merupakan indikasi bahwa Anda mungkin ingin menggunakan teknik lain yang lebih efisien.\n",
    "\n",
    "Berapa persentase waktu yang dihabiskan pada baris kode list comprehension `new_hts` relatif terhadap jumlah total waktu yang dihabiskan dalam fungsi `convert_units()`?"
   ]
  },
  {
   "cell_type": "code",
   "execution_count": 90,
   "metadata": {},
   "outputs": [],
   "source": [
    "hts = superheroes['hts'].values\n",
    "wts = superheroes['wts'].values"
   ]
  },
  {
   "cell_type": "code",
   "execution_count": 91,
   "metadata": {},
   "outputs": [],
   "source": [
    "%lprun -f convert_units convert_units(heroes, hts, wts)"
   ]
  },
  {
   "cell_type": "markdown",
   "metadata": {},
   "source": [
    "**Answer** : 11% - 20%\n",
    "\n",
    "Sepertinya ini mungkin menjadi hambatan (*bottleneck*) potensial dalam fungsi Anda. Bisakah Anda memikirkan cara untuk membuat ini lebih efisien? Anda akan mengeksplorasi kemungkinan peningkatan pada latihan berikutnya."
   ]
  },
  {
   "cell_type": "markdown",
   "metadata": {},
   "source": [
    "### Using `%lprun`: fix the bottleneck\n",
    "\n",
    "Dalam latihan sebelumnya, Anda membuat profil fungsi `convert_units()` dan melihat bahwa list comprehension `new_hts` bisa menjadi hambatan potensial. Apakah Anda memperhatikan bahwa list comprehension `new_wts` juga menyumbang persentase runtime yang serupa? Ini adalah indikasi bahwa Anda mungkin ingin membuat objek `new_hts` dan `new_wts` menggunakan teknik yang berbeda.\n",
    "\n",
    "Karena `height` dan `weight` masing-masing hero disimpan dalam numpy array, Anda dapat menggunakan array broadcasting alih-alih list comprehension untuk mengonversi `height` dan `weight`. "
   ]
  },
  {
   "cell_type": "code",
   "execution_count": 92,
   "metadata": {},
   "outputs": [],
   "source": [
    "def convert_units_broadcast(heroes, heights, weights):\n",
    "\n",
    "    # Array broadcasting instead of list comprehension\n",
    "    new_hts = heights * 0.39370\n",
    "    new_wts = weights * 2.20462\n",
    "\n",
    "    hero_data = {}\n",
    "\n",
    "    for i,hero in enumerate(heroes):\n",
    "        hero_data[hero] = (new_hts[i], new_wts[i])\n",
    "\n",
    "    return hero_data"
   ]
  },
  {
   "cell_type": "markdown",
   "metadata": {},
   "source": [
    "Berapa persentase waktu yang dihabiskan untuk baris kode array broadcasting `new_hts` relatif terhadap jumlah total waktu yang dihabiskan dalam fungsi `convert_units_broadcast()`?"
   ]
  },
  {
   "cell_type": "code",
   "execution_count": 94,
   "metadata": {},
   "outputs": [],
   "source": [
    "%lprun -f convert_units_broadcast convert_units_broadcast(heroes, hts, wts)"
   ]
  },
  {
   "cell_type": "markdown",
   "metadata": {},
   "source": [
    "**Answer**: 0% - 10%\n",
    "\n",
    "Dengan membuat profil fungsi `convert_units()`, Anda dapat melihat bahwa menggunakan list comprehension bukan solusi yang paling efisien untuk membuat objek `new_hts` dan `new_wts`. Anda juga melihat bahwa menggunakan array broadcasting di fungsi `convert_units_broadcast()` secara dramatis mengurangi persentase waktu yang dihabiskan untuk mengeksekusi baris kode ini. Anda mungkin telah memperhatikan bahwa fungsi Anda masih membutuhkan waktu untuk iterate melalui `for` loop. Jangan khawatir; Kita akan membahas cara membuat loop ini lebih efisien di bab selanjutnya."
   ]
  },
  {
   "cell_type": "markdown",
   "metadata": {},
   "source": [
    "## Code profiling for memory usage"
   ]
  },
  {
   "cell_type": "markdown",
   "metadata": {},
   "source": [
    "### Quick and dirty approach"
   ]
  },
  {
   "cell_type": "code",
   "execution_count": 95,
   "metadata": {},
   "outputs": [],
   "source": [
    "import sys\n",
    "import numpy as np"
   ]
  },
  {
   "cell_type": "code",
   "execution_count": 98,
   "metadata": {},
   "outputs": [
    {
     "data": {
      "text/plain": [
       "9112"
      ]
     },
     "execution_count": 98,
     "metadata": {},
     "output_type": "execute_result"
    }
   ],
   "source": [
    "nums_list = [*range(1000)]\n",
    "sys.getsizeof(nums_list)"
   ]
  },
  {
   "cell_type": "code",
   "execution_count": 99,
   "metadata": {},
   "outputs": [
    {
     "data": {
      "text/plain": [
       "8096"
      ]
     },
     "execution_count": 99,
     "metadata": {},
     "output_type": "execute_result"
    }
   ],
   "source": [
    "nums_np = np.array(range(1000))\n",
    "sys.getsizeof(nums_np)"
   ]
  },
  {
   "cell_type": "markdown",
   "metadata": {},
   "source": [
    "### Code proling: memory\n",
    "\n",
    "* Statistik terperinci tentang konsumsi memori\n",
    "* Analisis baris demi baris\n",
    "* Paket yang digunakan: `memory_profiler`\n",
    "  * `pip install memory_profiler`"
   ]
  },
  {
   "cell_type": "code",
   "execution_count": 102,
   "metadata": {},
   "outputs": [],
   "source": [
    "# !pip install memory_profiler"
   ]
  },
  {
   "cell_type": "code",
   "execution_count": 104,
   "metadata": {},
   "outputs": [],
   "source": [
    "%load_ext memory_profiler"
   ]
  },
  {
   "cell_type": "code",
   "execution_count": 105,
   "metadata": {},
   "outputs": [
    {
     "name": "stdout",
     "output_type": "stream",
     "text": [
      "ERROR: Could not find file <ipython-input-69-d844055423a7>\n",
      "NOTE: %mprun can only be used on functions defined in physical files, and not in the IPython environment.\n",
      "\n"
     ]
    }
   ],
   "source": [
    "%mprun -f convert_units convert_units(heroes, hts, wts)"
   ]
  },
  {
   "cell_type": "markdown",
   "metadata": {},
   "source": [
    "Fungsi harus diimpor saat menggunakan `memory_profiler`\n",
    "* `hero_funcs.py`"
   ]
  },
  {
   "cell_type": "code",
   "execution_count": 107,
   "metadata": {},
   "outputs": [],
   "source": [
    "from hero_funcs import convert_units"
   ]
  },
  {
   "cell_type": "code",
   "execution_count": 110,
   "metadata": {},
   "outputs": [
    {
     "name": "stdout",
     "output_type": "stream",
     "text": [
      "\n"
     ]
    }
   ],
   "source": [
    "%mprun -f convert_units convert_units(heroes, hts, wts)"
   ]
  },
  {
   "cell_type": "markdown",
   "metadata": {},
   "source": [
    "### `%mprun` output caveats\n",
    "\n",
    "Alokasi memori yang kecil dapat menghasilkan output `0.0 MiB`. (menggunakan dataset 480 hero)\n",
    "\n",
    "* Memeriksa memori dengan query sistem operasi\n",
    "* Hasil mungkin berbeda antara platform dan yang dijalankan\n",
    "  * Masih dapat mengamati bagaimana setiap baris kode dibandingkan dengan yang lain berdasarkan konsumsi memori"
   ]
  },
  {
   "cell_type": "markdown",
   "metadata": {},
   "source": [
    "### Using %mprun: Hero BMI\n",
    "\n",
    "Anda ingin menghitung indeks massa tubuh (BMI) untuk sampel hero yang dipilih. BMI dapat dihitung dengan menggunakan rumus di bawah ini:\n",
    "\n",
    "* **bmi = weight / height ** 2**\n",
    "\n",
    "Sampel acak 25.000 superheroes telah dimuat ke dalam sesi Anda sebagai array yang disebut `sample_indices`. Sampel ini adalah list indeks yang sesuai dengan setiap indeks superhero yang dipilih dari list `heroes`.\n",
    "\n",
    "Fungsi bernama `calc_bmi_lists` juga telah dibuat dan disimpan ke file berjudul `bmi_lists.py`."
   ]
  },
  {
   "cell_type": "code",
   "execution_count": null,
   "metadata": {},
   "outputs": [],
   "source": [
    "# %load bmi_lists.py\n",
    "def calc_bmi_lists(sample_indices, hts, wts):\n",
    "\n",
    "    # Gather sample heights and weights as lists\n",
    "    s_hts = [hts[i] for i in sample_indices]\n",
    "    s_wts = [wts[i] for i in sample_indices]\n",
    "\n",
    "    # Convert heights from cm to m and square with list comprehension\n",
    "    s_hts_m_sqr = [(ht / 100) ** 2 for ht in s_hts]\n",
    "\n",
    "    # Calculate BMIs as a list with list comprehension\n",
    "    bmis = [s_wts[i] / s_hts_m_sqr[i] for i in range(len(sample_indices))]\n",
    "\n",
    "    return bmis"
   ]
  },
  {
   "cell_type": "code",
   "execution_count": 133,
   "metadata": {},
   "outputs": [],
   "source": [
    "# Load & convert to array index heroes\n",
    "sample_indices = pd.read_csv(\"datasets/sample_indices_heroes.csv\", usecols=['index']).values"
   ]
  },
  {
   "cell_type": "markdown",
   "metadata": {},
   "source": [
    "Berapa banyak memori yang dikonsumsi oleh baris kode list comprehension dalam fungsi `calc_bmi_lists()`? (mis., berapa jumlah total kolom `Increment` untuk empat baris kode ini?)"
   ]
  },
  {
   "cell_type": "code",
   "execution_count": 138,
   "metadata": {},
   "outputs": [
    {
     "name": "stdout",
     "output_type": "stream",
     "text": [
      "\n"
     ]
    }
   ],
   "source": [
    "from bmi_lists import calc_bmi_lists\n",
    "\n",
    "%mprun -f calc_bmi_lists calc_bmi_lists(sample_indices, hts, wts)"
   ]
  },
  {
   "cell_type": "markdown",
   "metadata": {},
   "source": [
    "**Answer** : 0.1 MiB - 2.0 MiB\n",
    "\n",
    "\n",
    "Menggunakan pendekatan list comprehension mengalokasikan di mana saja dari 0,1 MiB hingga 2 MiB memori untuk menghitung BMI Anda.\n",
    "\n",
    "Jika Anda menjalankan `%mprun` beberapa kali dalam sesi Anda, Anda mungkin memperhatikan bahwa kolom `Increment` melaporkan `0,0 MiB` untuk semua baris kode. Ini karena batasan dengan magic command. Setelah menjalankan `%mprun` satu kali, alokasi memori yang dianalisis sebelumnya diperhitungkan untuk semua proses yang berurutan dan `%mprun` akan mulai dari tempat sisa proses pertama.\n",
    "\n",
    "Sekarang kita telah membuat profil fungsi `calc_bmi_lists()`, mari kita lihat apakah Anda dapat melakukan yang lebih baik dengan pendekatan yang berbeda."
   ]
  },
  {
   "cell_type": "markdown",
   "metadata": {},
   "source": [
    "### Using %mprun: Hero BMI 2.0\n",
    "\n",
    "Mari kita lihat apakah menggunakan pendekatan yang berbeda untuk menghitung BMI dapat menghemat memori. Jika Anda ingat, masing-masing tinggi dan berat hero disimpan dalam susunan `numpy`. Itu berarti Anda dapat menggunakan kemampuan pengindeksan NumPy array yang praktis dan broadcasting untuk melakukan perhitungan Anda. Sebuah fungsi bernama `calc_bmi_arrays` telah dibuat dan disimpan ke file berjudul `bmi_arrays.py`.\n",
    "\n",
    "Perhatikan bahwa fungsi ini melakukan semua perhitungan yang diperlukan menggunakan array."
   ]
  },
  {
   "cell_type": "code",
   "execution_count": null,
   "metadata": {},
   "outputs": [],
   "source": [
    "# %load bmi_arrays.py\n",
    "def calc_bmi_arrays(sample_indices, hts, wts):\n",
    "\n",
    "    # Gather sample heights and weights as arrays\n",
    "    s_hts = hts[sample_indices]\n",
    "    s_wts = wts[sample_indices]\n",
    "\n",
    "    # Convert heights from cm to m and square with broadcasting\n",
    "    s_hts_m_sqr = (s_hts / 100) ** 2\n",
    "\n",
    "    # Calculate BMIs as an array using broadcasting\n",
    "    bmis = s_wts / s_hts_m_sqr\n",
    "\n",
    "    return bmis"
   ]
  },
  {
   "cell_type": "markdown",
   "metadata": {},
   "source": [
    "Berapa banyak memori yang digunakan oleh pengindeksan array dan kode broadcasting dalam fungsi `calc_bmi_array()`? (mis., berapa jumlah total kolom `Increment` untuk empat baris kode ini?)"
   ]
  },
  {
   "cell_type": "code",
   "execution_count": 141,
   "metadata": {},
   "outputs": [],
   "source": [
    "from bmi_arrays import calc_bmi_arrays"
   ]
  },
  {
   "cell_type": "code",
   "execution_count": 143,
   "metadata": {},
   "outputs": [
    {
     "name": "stdout",
     "output_type": "stream",
     "text": [
      "\n"
     ]
    }
   ],
   "source": [
    "%mprun -f calc_bmi_arrays calc_bmi_arrays(sample_indices, hts, wts)"
   ]
  },
  {
   "cell_type": "markdown",
   "metadata": {},
   "source": [
    "**Answer** : 0.1 MiB - 2.0 MiB\n",
    "\n",
    "Dengan menerapkan pendekatan array, Anda dapat memangkas beberapa MiBs. Meskipun ini bukan keuntungan besar, itu masih menurunkan overhead kode Anda. Jika data input Anda tumbuh seiring waktu, peningkatan kecil ini dapat menambah beberapa keuntungan efisiensi utama."
   ]
  },
  {
   "cell_type": "markdown",
   "metadata": {},
   "source": [
    "### Bringing it all together: Star Wars profiling\n",
    "\n",
    "List 480 superheroes telah dimuat ke dalam sesi Anda (disebut `heroes`) serta list `publishers` dari masing-masing hero yang terkait.\n",
    "\n",
    "Anda ingin memfilter list `heroes` berdasarkan penerbit khusus hero, tetapi tidak yakin yang mana dari fungsi di bawah ini yang lebih efisien.\n",
    "\n",
    "`desired_publisher` adalah `'George Lucas'`"
   ]
  },
  {
   "cell_type": "code",
   "execution_count": 149,
   "metadata": {},
   "outputs": [],
   "source": [
    "def get_publisher_heroes(heroes, publishers, desired_publisher):\n",
    "\n",
    "    desired_heroes = []\n",
    "\n",
    "    for i,pub in enumerate(publishers):\n",
    "        if pub == desired_publisher:\n",
    "            desired_heroes.append(heroes[i])\n",
    "\n",
    "    return desired_heroes"
   ]
  },
  {
   "cell_type": "code",
   "execution_count": 150,
   "metadata": {},
   "outputs": [],
   "source": [
    "def get_publisher_heroes_np(heroes, publishers, desired_publisher):\n",
    "\n",
    "    heroes_np = np.array(heroes)\n",
    "    pubs_np = np.array(publishers)\n",
    "\n",
    "    desired_heroes = heroes_np[pubs_np == desired_publisher]\n",
    "\n",
    "    return desired_heroes"
   ]
  },
  {
   "cell_type": "code",
   "execution_count": 151,
   "metadata": {},
   "outputs": [
    {
     "name": "stdout",
     "output_type": "stream",
     "text": [
      "['Darth Vader', 'Han Solo', 'Luke Skywalker', 'Yoda']\n",
      "<class 'list'>\n",
      "['Darth Vader' 'Han Solo' 'Luke Skywalker' 'Yoda']\n",
      "<class 'numpy.ndarray'>\n"
     ]
    }
   ],
   "source": [
    "# Use get_publisher_heroes() to gather Star Wars heroes\n",
    "star_wars_heroes = get_publisher_heroes(heroes, publishers, 'George Lucas')\n",
    "\n",
    "print(star_wars_heroes)\n",
    "print(type(star_wars_heroes))\n",
    "\n",
    "# Use get_publisher_heroes_np() to gather Star Wars heroes\n",
    "star_wars_heroes_np = get_publisher_heroes_np(heroes, publishers, 'George Lucas')\n",
    "\n",
    "print(star_wars_heroes_np)\n",
    "print(type(star_wars_heroes_np))"
   ]
  },
  {
   "cell_type": "markdown",
   "metadata": {},
   "source": [
    "**Question**\n",
    "\n",
    "Di dalam konsol IPython Anda, muat `line_profiler` dan gunakan `%lprun` untuk membuat profil dua fungsi untuk runtime baris demi baris. Saat menggunakan `%lprun`, gunakan setiap fungsi untuk mengumpulkan para pahlawan Star Wars seperti yang Anda lakukan pada langkah sebelumnya. Setelah Anda selesai membuat profil, jawab pertanyaan berikut:\n",
    "\n",
    "Fungsi mana yang memiliki runtime tercepat?"
   ]
  },
  {
   "cell_type": "code",
   "execution_count": 156,
   "metadata": {},
   "outputs": [],
   "source": [
    "%lprun -f get_publisher_heroes get_publisher_heroes(heroes, publishers, 'George Lucas')"
   ]
  },
  {
   "cell_type": "code",
   "execution_count": 157,
   "metadata": {},
   "outputs": [],
   "source": [
    "%lprun -f get_publisher_heroes_np get_publisher_heroes_np(heroes, publishers, 'George Lucas')"
   ]
  },
  {
   "cell_type": "markdown",
   "metadata": {},
   "source": [
    "**Answer** : `get_publisher_heroes_np()` lebih cepat."
   ]
  },
  {
   "cell_type": "markdown",
   "metadata": {},
   "source": [
    "**Question**\n",
    "\n",
    "Di dalam konsol IPython Anda, muat `memory_profiler` dan gunakan `%mprun` untuk membuat profil dua fungsi untuk konsumsi memori baris demi baris.\n",
    "\n",
    "Fungsi `get_publisher_heroes()` dan `get_publisher_heroes_np()` telah disimpan dalam file berjudul `hero_funcs.py` (mis., Anda dapat mengimpor kedua fungsi dari `hero_funcs`). Saat menggunakan `%mprun`, gunakan setiap fungsi untuk mengumpulkan para pahlawan Star Wars seperti yang Anda lakukan pada langkah sebelumnya. Setelah Anda selesai membuat profil, jawab pertanyaan berikut:\n",
    "\n",
    "Fungsi mana yang menggunakan jumlah memori paling sedikit?"
   ]
  },
  {
   "cell_type": "code",
   "execution_count": 171,
   "metadata": {},
   "outputs": [],
   "source": [
    "from publisher_list import get_publisher_heroes\n",
    "from publisher_np import get_publisher_heroes_np"
   ]
  },
  {
   "cell_type": "code",
   "execution_count": 174,
   "metadata": {},
   "outputs": [
    {
     "name": "stdout",
     "output_type": "stream",
     "text": [
      "\n"
     ]
    }
   ],
   "source": [
    "%mprun -f get_publisher_heroes get_publisher_heroes(heroes, publishers, 'George Lucas')"
   ]
  },
  {
   "cell_type": "code",
   "execution_count": 173,
   "metadata": {},
   "outputs": [
    {
     "name": "stdout",
     "output_type": "stream",
     "text": [
      "\n"
     ]
    }
   ],
   "source": [
    "%mprun -f get_publisher_heroes_np get_publisher_heroes_np(heroes, publishers, 'George Lucas')"
   ]
  },
  {
   "cell_type": "code",
   "execution_count": 176,
   "metadata": {},
   "outputs": [
    {
     "name": "stdout",
     "output_type": "stream",
     "text": [
      "peak memory: 84.35 MiB, increment: -0.72 MiB\n"
     ]
    }
   ],
   "source": [
    "%memit get_publisher_heroes(heroes, publishers, 'George Lucas')"
   ]
  },
  {
   "cell_type": "code",
   "execution_count": 177,
   "metadata": {},
   "outputs": [
    {
     "name": "stdout",
     "output_type": "stream",
     "text": [
      "peak memory: 84.35 MiB, increment: 0.00 MiB\n"
     ]
    }
   ],
   "source": [
    "%memit get_publisher_heroes_np(heroes, publishers, 'George Lucas')"
   ]
  },
  {
   "cell_type": "markdown",
   "metadata": {},
   "source": [
    "**Answer** : Kedua fungsi memiliki konsumsi memori yang sama."
   ]
  },
  {
   "cell_type": "markdown",
   "metadata": {},
   "source": [
    "**Question**\n",
    "\n",
    "Berdasarkan profil runtime Anda dan profil alokasi memori, fungsi mana yang akan Anda pilih untuk mengumpulkan pahlawan Star Wars?\n",
    "\n",
    "**Answer** : Saya akan menggunakan `get_publisher_heroes_np()`"
   ]
  },
  {
   "cell_type": "code",
   "execution_count": null,
   "metadata": {},
   "outputs": [],
   "source": []
  },
  {
   "cell_type": "code",
   "execution_count": null,
   "metadata": {},
   "outputs": [],
   "source": []
  }
 ],
 "metadata": {
  "kernelspec": {
   "display_name": "Python 3",
   "language": "python",
   "name": "python3"
  },
  "language_info": {
   "codemirror_mode": {
    "name": "ipython",
    "version": 3
   },
   "file_extension": ".py",
   "mimetype": "text/x-python",
   "name": "python",
   "nbconvert_exporter": "python",
   "pygments_lexer": "ipython3",
   "version": "3.7.3"
  }
 },
 "nbformat": 4,
 "nbformat_minor": 2
}
